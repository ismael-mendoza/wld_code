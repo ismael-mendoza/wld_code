{
 "cells": [
  {
   "cell_type": "markdown",
   "metadata": {},
   "source": [
    "## Test if bias calculations are consistent with my package"
   ]
  },
  {
   "cell_type": "code",
   "execution_count": 2,
   "metadata": {
    "collapsed": false
   },
   "outputs": [],
   "source": [
    "%matplotlib inline\n",
    "import os \n",
    "os.chdir(\"/Users/Ismael/code/lensing/WeakLensingDeblending/\")\n",
    "import matplotlib.pyplot as plt"
   ]
  },
  {
   "cell_type": "code",
   "execution_count": 3,
   "metadata": {
    "collapsed": false
   },
   "outputs": [
    {
     "name": "stdout",
     "output_type": "stream",
     "text": [
      "Populating the interactive namespace from numpy and matplotlib\n"
     ]
    },
    {
     "name": "stderr",
     "output_type": "stream",
     "text": [
      "/Users/Ismael/lsst/DarwinX86/anaconda/2.2.0/lib/python2.7/site-packages/IPython/kernel/__init__.py:13: ShimWarning: The `IPython.kernel` package has been deprecated. You should import from ipykernel or jupyter_client instead.\n",
      "  \"You should import from ipykernel or jupyter_client instead.\", ShimWarning)\n"
     ]
    }
   ],
   "source": [
    "%pylab inline\n",
    "from astropy.table import Table"
   ]
  },
  {
   "cell_type": "code",
   "execution_count": 4,
   "metadata": {
    "collapsed": false
   },
   "outputs": [],
   "source": [
    "import numpy as np "
   ]
  },
  {
   "cell_type": "markdown",
   "metadata": {},
   "source": [
    "### Understanding fits files structure. "
   ]
  },
  {
   "cell_type": "code",
   "execution_count": 5,
   "metadata": {
    "collapsed": false,
    "scrolled": true
   },
   "outputs": [
    {
     "name": "stdout",
     "output_type": "stream",
     "text": [
      "Process is terminated.\n"
     ]
    }
   ],
   "source": [
    "%%bash\n",
    "#produces demo.fits file with partials, \n",
    "./simulate.py --catalog-name OneDegSq.fits --image-width 512 --image-height 512 \\\n",
    "--survey-name LSST --filter-band i --output-name demo2 --verbose --calculate_bias"
   ]
  },
  {
   "cell_type": "code",
   "execution_count": 10,
   "metadata": {
    "collapsed": false
   },
   "outputs": [],
   "source": [
    "catalog = Table.read('demo.fits', hdu=1)"
   ]
  },
  {
   "cell_type": "code",
   "execution_count": 46,
   "metadata": {
    "collapsed": false
   },
   "outputs": [
    {
     "name": "stdout",
     "output_type": "stream",
     "text": [
      "['db_id', 'grp_id', 'grp_size', 'grp_rank', 'visible', 'xmin', 'xmax', 'ymin', 'ymax', 'f_disk', 'f_bulge', 'dx', 'dy', 'z', 'ab_mag', 'ri_color', 'flux', 'sigma_m', 'sigma_p', 'e1', 'e2', 'a', 'b', 'beta', 'psf_sigm', 'purity', 'snr_sky', 'snr_iso', 'snr_grp', 'snr_isof', 'snr_grpf', 'ds', 'dg1', 'dg2', 'ds_grp', 'dg1_grp', 'dg2_grp', 'hsm_sigm', 'hsm_e1', 'hsm_e2', 'g1_fit', 'g2_fit']\n",
      "   db_id     grp_size     flux        e1    ... xmax ymax  f_disk   f_bulge \n",
      "------------ -------- ----------- --------- ... ---- ---- -------- ---------\n",
      "402700632300        1 1.08334e+06 -0.554143 ...  188  392 0.956773  0.043227\n",
      "402702065908        1    197282.0 0.0456442 ...  229  173 0.934887 0.0651128\n",
      "402701447366        1    344960.0  0.451019 ...  183  138 0.964245  0.035755\n"
     ]
    }
   ],
   "source": [
    "#example particular columns and conditions out of the fits file. \n",
    "print catalog.colnames\n",
    "selected = ((catalog['grp_size'] == 1) & (catalog['snr_grpf']>20) & (catalog['visible'] == 1))\n",
    "print catalog[selected][['db_id','grp_size','flux','e1','e2','snr_grpf', 'xmin', 'ymin','xmax', 'ymax', 'f_disk', 'f_bulge']]"
   ]
  },
  {
   "cell_type": "code",
   "execution_count": null,
   "metadata": {
    "collapsed": true
   },
   "outputs": [],
   "source": [
    "#try grp size 1? not bad?? "
   ]
  },
  {
   "cell_type": "code",
   "execution_count": 38,
   "metadata": {
    "collapsed": false
   },
   "outputs": [
    {
     "name": "stdout",
     "output_type": "stream",
     "text": [
      "dflux\n",
      "std: 14430.9019049\n",
      "bias: 168.521834826\n",
      "bias/std: 0.0116778449426\n",
      "dx\n",
      "std: 0.00541411174543\n",
      "bias: -1.34042413355e-09\n",
      "bias/std: -2.47579694801e-07\n",
      "dy\n",
      "std: 0.0106613991448\n",
      "bias: -6.213324279e-09\n",
      "bias/std: -5.82786948935e-07\n",
      "ds\n",
      "std: 0.02256132806\n",
      "bias: -0.000425188085355\n",
      "bias/std: -0.0188458801815\n",
      "dg1\n",
      "std: 0.0196870239953\n",
      "bias: -0.00057362634695\n",
      "bias/std: -0.0291372808347\n",
      "dg2\n",
      "std: 0.0101653338675\n",
      "bias: 0.000150328753728\n",
      "bias/std: 0.0147883734747\n"
     ]
    }
   ],
   "source": [
    "%%bash\n",
    "./fisher.py --i demo.fits -o notebooks/test5_example1-1.png --galaxy 402700632300 --label-color white --no-display --bias --covariance"
   ]
  },
  {
   "cell_type": "code",
   "execution_count": 39,
   "metadata": {
    "collapsed": false
   },
   "outputs": [
    {
     "name": "stdout",
     "output_type": "stream",
     "text": [
      "dflux\n",
      "std: 9120.78336318\n",
      "bias: 491.527222471\n",
      "bias/std: 0.0538908998162\n",
      "dx\n",
      "std: 0.0199528174613\n",
      "bias: 5.28004683915e-08\n",
      "bias/std: 2.64626629767e-06\n",
      "dy\n",
      "std: 0.020115794907\n",
      "bias: -2.85371628443e-07\n",
      "bias/std: -1.41864455152e-05\n",
      "ds\n",
      "std: 0.113198418267\n",
      "bias: -0.0147304583256\n",
      "bias/std: -0.130129542012\n",
      "dg1\n",
      "std: 0.0900060695567\n",
      "bias: -0.000589263900347\n",
      "bias/std: -0.00654693514836\n",
      "dg2\n",
      "std: 0.104798504987\n",
      "bias: -0.0108034725369\n",
      "bias/std: -0.103088040599\n"
     ]
    }
   ],
   "source": [
    "%%bash\n",
    "./fisher.py --i demo.fits -o notebooks/test5_example1-1.png --galaxy 402701912930 --label-color white --no-display --bias --covariance"
   ]
  },
  {
   "cell_type": "code",
   "execution_count": 64,
   "metadata": {
    "collapsed": false
   },
   "outputs": [
    {
     "name": "stdout",
     "output_type": "stream",
     "text": [
      "dflux\n",
      "std: 7383.82942684\n",
      "bias: -400.636376794\n",
      "bias/std: -0.0542586175323\n",
      "dx\n",
      "std: 0.012074579518\n",
      "bias: -2.88924092895e-06\n",
      "bias/std: -0.000239282943528\n",
      "dy\n",
      "std: 0.0120348056291\n",
      "bias: -1.26063745272e-06\n",
      "bias/std: -0.000104749298956\n",
      "ds\n",
      "std: 0.976572049133\n",
      "bias: -1.44238951329\n",
      "bias/std: -1.47699241911\n",
      "dg1\n",
      "std: 0.681108984529\n",
      "bias: 0.237512933971\n",
      "bias/std: 0.348715021188\n",
      "dg2\n",
      "std: 0.90004247511\n",
      "bias: -1.12809928871\n",
      "bias/std: -1.25338450118\n"
     ]
    }
   ],
   "source": [
    "%%bash\n",
    "./fisher.py --i demo.fits -o notebooks/test5_example1-1.png --galaxy 402702065908 --label-color white --no-display --bias --covariance"
   ]
  },
  {
   "cell_type": "code",
   "execution_count": 65,
   "metadata": {
    "collapsed": false
   },
   "outputs": [
    {
     "name": "stdout",
     "output_type": "stream",
     "text": [
      "dflux\n",
      "std: 9279.29798172\n",
      "bias: 281.628035149\n",
      "bias/std: 0.0303501445587\n",
      "dx\n",
      "std: 0.0136233559767\n",
      "bias: -5.08780180551e-08\n",
      "bias/std: -3.73461709011e-06\n",
      "dy\n",
      "std: 0.0100542980266\n",
      "bias: 3.5588282417e-08\n",
      "bias/std: 3.53960886408e-06\n",
      "ds\n",
      "std: 0.104079184888\n",
      "bias: -0.0138614145687\n",
      "bias/std: -0.133181428964\n",
      "dg1\n",
      "std: 0.085861567295\n",
      "bias: 0.0146954761918\n",
      "bias/std: 0.171153132359\n",
      "dg2\n",
      "std: 0.0644437844641\n",
      "bias: -0.0098571561832\n",
      "bias/std: -0.152957438257\n"
     ]
    }
   ],
   "source": [
    "%%bash\n",
    "./fisher.py --i demo.fits -o notebooks/test5_example1-1.png --galaxy 402701447366 --label-color white --no-display --bias --covariance"
   ]
  },
  {
   "cell_type": "code",
   "execution_count": null,
   "metadata": {
    "collapsed": true
   },
   "outputs": [],
   "source": [
    "#try grp size 2, why so big? maybe look at correlations or something else to figure out"
   ]
  },
  {
   "cell_type": "code",
   "execution_count": null,
   "metadata": {
    "collapsed": true
   },
   "outputs": [],
   "source": []
  }
 ],
 "metadata": {
  "kernelspec": {
   "display_name": "Python 2",
   "language": "python",
   "name": "python2"
  },
  "language_info": {
   "codemirror_mode": {
    "name": "ipython",
    "version": 2
   },
   "file_extension": ".py",
   "mimetype": "text/x-python",
   "name": "python",
   "nbconvert_exporter": "python",
   "pygments_lexer": "ipython2",
   "version": "2.7.10"
  }
 },
 "nbformat": 4,
 "nbformat_minor": 0
}
