{
 "cells": [
  {
   "cell_type": "code",
   "execution_count": 1,
   "metadata": {},
   "outputs": [],
   "source": [
    "import numpy as np\n",
    "import matplotlib.pyplot as plt"
   ]
  },
  {
   "cell_type": "code",
   "execution_count": 215,
   "metadata": {},
   "outputs": [],
   "source": [
    "def singleRing(e, n):\n",
    "    \"\"\"Create a single ring of ellipticities\n",
    "    \n",
    "    Parameters\n",
    "    ----------\n",
    "    e : float\n",
    "        ellipticity magnitude on the ring\n",
    "    n : int\n",
    "        number of uniform samples around ring\n",
    "    \n",
    "    Returns\n",
    "    -------\n",
    "    ellip : array_like\n",
    "        Ellipticities as complex numbers.\n",
    "    \"\"\"\n",
    "    return e*np.exp(1j*np.linspace(0,2*np.pi,n,endpoint=False))\n",
    "\n",
    "def uniformPopulation(emax, n):\n",
    "    \"\"\"Create a uniform ellipticity population inside \"tophat\" region\n",
    "    \n",
    "    Parameters\n",
    "    ----------\n",
    "    emax : float\n",
    "        maximum ellipticity magnitude.\n",
    "    n : int\n",
    "        number of samples within tophat region of ellipticity space\n",
    "    \n",
    "    Returns\n",
    "    -------\n",
    "    ellip : array_like\n",
    "        Ellipticities as complex numbers.\n",
    "    \"\"\"\n",
    "    e = np.random.uniform(0, emax, n)\n",
    "    phases = np.random.uniform(0, 2*np.pi, n)\n",
    "    return e * np.exp(1j * phases)\n",
    "\n",
    "def gaussPopulation(sige, n, maxe=0.8):\n",
    "    \"\"\"Create a gaussian ellipticity population inside \"tophat\" region\n",
    "    \n",
    "    Parameters\n",
    "    ----------\n",
    "    sige : float\n",
    "        sigma of centered isotropic 2d Gaussian ellipticity distribution\n",
    "    n : int\n",
    "        number of ellipticity samples\n",
    "    maxe : float\n",
    "        Hard cut maximum ellipticity magnitude.\n",
    "    \n",
    "    Returns\n",
    "    -------\n",
    "    ellip : array_like\n",
    "        Ellipticities as complex numbers.\n",
    "    \"\"\"\n",
    "    e1 = np.random.normal(0.0, sige, n)\n",
    "    e2 = np.random.normal(0.0, sige, n)\n",
    "    emag = np.hypot(e1, e2)\n",
    "    bad = emag > maxe\n",
    "    while np.any(bad):\n",
    "        e1[bad] = np.random.normal(0.0, sige, np.sum(bad))\n",
    "        e2[bad] = np.random.normal(0.0, sige, np.sum(bad))\n",
    "        emag = np.hypot(e1, e2)\n",
    "        bad = emag > maxe\n",
    "    e = e1 + 1j*e2\n",
    "    return e"
   ]
  },
  {
   "cell_type": "code",
   "execution_count": 220,
   "metadata": {},
   "outputs": [],
   "source": [
    "def shearRing(e, g):\n",
    "    \"\"\" Apply shear to ellipticities.\n",
    "    \n",
    "    Parameters\n",
    "    ----------\n",
    "    e : array_like\n",
    "        Ellipticities as complex numbers\n",
    "    g : complex\n",
    "        Shear to apply\n",
    "        \n",
    "    Returns\n",
    "    -------\n",
    "    eSheared : array_like\n",
    "        The sheared ellipticities\n",
    "    \"\"\"\n",
    "    return (e+g)/(1+np.conjugate(g)*e)"
   ]
  },
  {
   "cell_type": "code",
   "execution_count": 248,
   "metadata": {},
   "outputs": [],
   "source": [
    "def resampleStatistic(e, stat, n):\n",
    "    \"\"\"\n",
    "    \n",
    "    Parameters\n",
    "    ----------\n",
    "    e : array_like\n",
    "        Ellipiticities as complex numbers.\n",
    "    stat : callable\n",
    "        The statistic to bootstrap resample.  Takes (resampled) e as argument.\n",
    "    n : number of bootstrap resamplings to apply\n",
    "    \n",
    "    Returns\n",
    "    -------\n",
    "    samples : array_like\n",
    "        The result of applying stat to the resampled ellipticities n times.\n",
    "    \"\"\"\n",
    "    return np.array([stat(np.random.choice(e, size=len(e))) for _ in range(n)])"
   ]
  },
  {
   "cell_type": "code",
   "execution_count": 238,
   "metadata": {},
   "outputs": [],
   "source": [
    "from scipy.stats import iqr"
   ]
  },
  {
   "cell_type": "code",
   "execution_count": 256,
   "metadata": {},
   "outputs": [
    {
     "name": "stdout",
     "output_type": "stream",
     "text": [
      "median resampled mean ellipticity: 0.019938+0.000168j\n",
      "IQR of resampled mean ellipticity: 0.001006+0.000284j\n",
      "implied m1-bias:  -0.003098 +/-   0.003728\n",
      "\n",
      "median resampled median ellipticity: 0.021969+0.000000j\n",
      "IQR of resampled median ellipticity: 0.001919-0.074945j\n",
      "implied m1-bias:   0.098439 +/-   0.007114\n"
     ]
    }
   ],
   "source": [
    "g = 0.02\n",
    "nEllip = int(1e5)\n",
    "nResample = int(1e2)\n",
    "r = shearRing(singleRing(0.3, nEllip), g)\n",
    "meanEs = resampleStatistic(r, np.mean, nResample)\n",
    "medEs = resampleStatistic(r, np.median, nResample)\n",
    "print(\"median resampled mean ellipticity: {:10.6f}\".format(np.median(meanEs)))\n",
    "print(\"IQR of resampled mean ellipticity: {:10.6f}\".format(iqr(meanEs)))\n",
    "print(\"implied m1-bias: {:10.6f} +/- {:10.6f}\".format(\n",
    "    np.median(meanEs.real)/g-1.0,\n",
    "    iqr(meanEs.real, scale='normal')/g/np.sqrt(nResample)\n",
    "))\n",
    "print()\n",
    "print(\"median resampled median ellipticity: {:10.6f}\".format(np.median(medEs)))\n",
    "print(\"IQR of resampled median ellipticity: {:10.6f}\".format(iqr(medEs)))\n",
    "print(\"implied m1-bias: {:10.6f} +/- {:10.6f}\".format(\n",
    "    np.median(medEs.real)/g-1.0,\n",
    "    iqr(medEs.real, scale='normal')/g/np.sqrt(nResample)\n",
    "))"
   ]
  },
  {
   "cell_type": "code",
   "execution_count": 264,
   "metadata": {},
   "outputs": [
    {
     "name": "stdout",
     "output_type": "stream",
     "text": [
      "median resampled mean ellipticity: 0.020012+0.000058j\n",
      "IQR of resampled mean ellipticity: 0.000055-0.000004j\n",
      "implied m1-bias:   0.000595 +/-   0.000205\n",
      "\n",
      "median resampled median ellipticity: 0.020088-0.048153j\n",
      "IQR of resampled median ellipticity: 0.000024-0.084559j\n",
      "implied m1-bias:   0.004413 +/-   0.000087\n"
     ]
    }
   ],
   "source": [
    "g = 0.02\n",
    "nEllip = int(1e7)\n",
    "nResample = int(1e2)\n",
    "r = shearRing(uniformPopulation(0.3, nEllip), g)\n",
    "meanEs = resampleStatistic(r, np.mean, nResample)\n",
    "medEs = resampleStatistic(r, np.median, nResample)\n",
    "print(\"median resampled mean ellipticity: {:10.6f}\".format(np.median(meanEs)))\n",
    "print(\"IQR of resampled mean ellipticity: {:10.6f}\".format(iqr(meanEs)))\n",
    "print(\"implied m1-bias: {:10.6f} +/- {:10.6f}\".format(\n",
    "    np.median(meanEs.real)/g-1.0,\n",
    "    iqr(meanEs.real, scale='normal')/g/np.sqrt(nResample)\n",
    "))\n",
    "print()\n",
    "print(\"median resampled median ellipticity: {:10.6f}\".format(np.median(medEs)))\n",
    "print(\"IQR of resampled median ellipticity: {:10.6f}\".format(iqr(medEs)))\n",
    "print(\"implied m1-bias: {:10.6f} +/- {:10.6f}\".format(\n",
    "    np.median(medEs.real)/g-1.0,\n",
    "    iqr(medEs.real, scale='normal')/g/np.sqrt(nResample)\n",
    "))"
   ]
  },
  {
   "cell_type": "code",
   "execution_count": 265,
   "metadata": {},
   "outputs": [
    {
     "name": "stdout",
     "output_type": "stream",
     "text": [
      "median resampled mean ellipticity: 0.019999-0.000085j\n",
      "IQR of resampled mean ellipticity: 0.000118-0.000058j\n",
      "implied m1-bias:  -0.000061 +/-   0.000436\n",
      "\n",
      "median resampled median ellipticity: 0.021698+0.106635j\n",
      "IQR of resampled median ellipticity: 0.000130-0.269249j\n",
      "implied m1-bias:   0.084923 +/-   0.000481\n"
     ]
    }
   ],
   "source": [
    "g = 0.02\n",
    "nEllip = int(1e7)\n",
    "nResample = int(1e2)\n",
    "r = shearRing(gaussPopulation(0.3, nEllip), g)\n",
    "meanEs = resampleStatistic(r, np.mean, nResample)\n",
    "medEs = resampleStatistic(r, np.median, nResample)\n",
    "print(\"median resampled mean ellipticity: {:10.6f}\".format(np.median(meanEs)))\n",
    "print(\"IQR of resampled mean ellipticity: {:10.6f}\".format(iqr(meanEs)))\n",
    "print(\"implied m1-bias: {:10.6f} +/- {:10.6f}\".format(\n",
    "    np.median(meanEs.real)/g-1.0,\n",
    "    iqr(meanEs.real, scale='normal')/g/np.sqrt(nResample)\n",
    "))\n",
    "print()\n",
    "print(\"median resampled median ellipticity: {:10.6f}\".format(np.median(medEs)))\n",
    "print(\"IQR of resampled median ellipticity: {:10.6f}\".format(iqr(medEs)))\n",
    "print(\"implied m1-bias: {:10.6f} +/- {:10.6f}\".format(\n",
    "    np.median(medEs.real)/g-1.0,\n",
    "    iqr(medEs.real, scale='normal')/g/np.sqrt(nResample)\n",
    "))"
   ]
  },
  {
   "cell_type": "code",
   "execution_count": null,
   "metadata": {},
   "outputs": [],
   "source": []
  }
 ],
 "metadata": {
  "kernelspec": {
   "display_name": "Python 3",
   "language": "python",
   "name": "python3"
  },
  "language_info": {
   "codemirror_mode": {
    "name": "ipython",
    "version": 3
   },
   "file_extension": ".py",
   "mimetype": "text/x-python",
   "name": "python",
   "nbconvert_exporter": "python",
   "pygments_lexer": "ipython3",
   "version": "3.6.6"
  }
 },
 "nbformat": 4,
 "nbformat_minor": 2
}
