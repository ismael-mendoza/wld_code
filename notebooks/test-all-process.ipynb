{
 "cells": [
  {
   "cell_type": "code",
   "execution_count": 2,
   "metadata": {
    "ExecuteTime": {
     "end_time": "2019-07-03T18:25:45.077248Z",
     "start_time": "2019-07-03T18:25:43.239535Z"
    }
   },
   "outputs": [],
   "source": [
    "wld_dir = '/nfs/slac/g/ki/ki19/deuce/AEGIS/ismael/WLD'\n",
    "wld_pkg = '/nfs/slac/g/ki/ki19/deuce/AEGIS/ismael/WLD/WeakLensingDeblending'\n",
    "\n",
    "import os\n",
    "os.chdir(wld_dir)\n",
    "\n",
    "from importlib import reload\n",
    "import numpy as np \n",
    "import astropy.io.fits as fits \n",
    "import matplotlib.pyplot as plt \n",
    "from astropy.table import Table"
   ]
  },
  {
   "cell_type": "markdown",
   "metadata": {},
   "source": [
    "# Check original tables "
   ]
  },
  {
   "cell_type": "code",
   "execution_count": 32,
   "metadata": {
    "ExecuteTime": {
     "end_time": "2019-07-03T16:08:05.402405Z",
     "start_time": "2019-07-03T16:08:05.231999Z"
    }
   },
   "outputs": [],
   "source": [
    "f = fits.open(\"data/projectLSST-g1_0-g2_0/section_0_0.fits\")\n",
    "t = Table.read(\"data/projectLSST-g1_0-g2_0/section_0_0.fits\")"
   ]
  },
  {
   "cell_type": "code",
   "execution_count": 33,
   "metadata": {
    "ExecuteTime": {
     "end_time": "2019-07-03T16:08:07.217949Z",
     "start_time": "2019-07-03T16:08:07.142856Z"
    },
    "collapsed": true
   },
   "outputs": [
    {
     "data": {
      "text/html": [
       "<i>Table length=8669</i>\n",
       "<table id=\"table139692691320960\" class=\"table-striped table-bordered table-condensed\">\n",
       "<thead><tr><th>db_id</th><th>grp_id</th><th>grp_size</th><th>grp_rank</th><th>visible</th><th>xmin</th><th>xmax</th><th>ymin</th><th>ymax</th><th>f_disk</th><th>f_bulge</th><th>dx</th><th>dy</th><th>z</th><th>ab_mag</th><th>ri_color</th><th>flux</th><th>sigma_m</th><th>sigma_p</th><th>e1</th><th>e2</th><th>a</th><th>b</th><th>beta</th><th>psf_sigm</th><th>purity</th><th>snr_sky</th><th>snr_iso</th><th>snr_grp</th><th>snr_isof</th><th>snr_grpf</th><th>ds</th><th>dg1</th><th>dg2</th><th>ds_grp</th><th>dg1_grp</th><th>dg2_grp</th><th>cond_num</th><th>cond_num_grp</th><th>bias_f</th><th>bias_s</th><th>bias_g1</th><th>bias_g2</th><th>bias_x</th><th>bias_y</th><th>bias_f_grp</th><th>bias_s_grp</th><th>bias_g1_grp</th><th>bias_g2_grp</th><th>bias_x_grp</th><th>bias_y_grp</th></tr></thead>\n",
       "<thead><tr><th>int64</th><th>int64</th><th>int16</th><th>int16</th><th>int16</th><th>int32</th><th>int32</th><th>int32</th><th>int32</th><th>float32</th><th>float32</th><th>float32</th><th>float32</th><th>float32</th><th>float32</th><th>float32</th><th>float32</th><th>float32</th><th>float32</th><th>float32</th><th>float32</th><th>float32</th><th>float32</th><th>float32</th><th>float32</th><th>float32</th><th>float32</th><th>float32</th><th>float32</th><th>float32</th><th>float32</th><th>float32</th><th>float32</th><th>float32</th><th>float32</th><th>float32</th><th>float32</th><th>float32</th><th>float32</th><th>float32</th><th>float32</th><th>float32</th><th>float32</th><th>float32</th><th>float32</th><th>float32</th><th>float32</th><th>float32</th><th>float32</th><th>float32</th><th>float32</th></tr></thead>\n",
       "<tr><td>402713998325</td><td>402713998325</td><td>1</td><td>0</td><td>1</td><td>1485</td><td>1494</td><td>1101</td><td>1109</td><td>1.0</td><td>0.0</td><td>118.00995</td><td>41.078503</td><td>1.4931169</td><td>27.32716</td><td>0.027090073</td><td>8338.418</td><td>0.17037426</td><td>0.17058848</td><td>0.034545686</td><td>0.007946532</td><td>0.17652461</td><td>0.1644382</td><td>0.113048285</td><td>0.64148796</td><td>1.0</td><td>2.595915</td><td>2.5943427</td><td>2.5943427</td><td>1.7340847</td><td>1.7340847</td><td>2.4531348</td><td>2.3599927</td><td>2.3556159</td><td>2.4531348</td><td>2.3599927</td><td>2.3556159</td><td>511302370.0</td><td>511302370.0</td><td>4963.3027</td><td>-9.573509</td><td>1.2778087</td><td>0.3118186</td><td>-0.00023861162</td><td>0.0013744844</td><td>4963.3027</td><td>-9.573509</td><td>1.2778087</td><td>0.3118186</td><td>-0.00023861162</td><td>0.0013744844</td></tr>\n",
       "<tr><td>402707721988</td><td>402707721988</td><td>1</td><td>0</td><td>1</td><td>1487</td><td>1499</td><td>1114</td><td>1124</td><td>1.0</td><td>0.0</td><td>118.72361</td><td>43.931835</td><td>1.5247434</td><td>26.49101</td><td>0.1576786</td><td>18011.229</td><td>0.22732957</td><td>0.29519588</td><td>0.5003131</td><td>0.07169516</td><td>0.39661473</td><td>0.13029958</td><td>0.07116579</td><td>0.68138134</td><td>1.0</td><td>5.219607</td><td>5.2137275</td><td>5.2137275</td><td>3.4891286</td><td>3.4891286</td><td>1.6792207</td><td>1.6257305</td><td>0.6823848</td><td>1.6792207</td><td>1.6257305</td><td>0.6823848</td><td>2622856200.0</td><td>2622856200.0</td><td>2210.5095</td><td>-4.027542</td><td>4.968526</td><td>0.71164083</td><td>0.0002924066</td><td>-0.000333437</td><td>2210.5095</td><td>-4.027542</td><td>4.968526</td><td>0.71164083</td><td>0.0002924066</td><td>-0.000333437</td></tr>\n",
       "<tr><td>402711568059</td><td>402711568059</td><td>2</td><td>0</td><td>1</td><td>1572</td><td>1583</td><td>1178</td><td>1189</td><td>1.0</td><td>0.0</td><td>135.5605</td><td>56.759018</td><td>1.3594306</td><td>26.909607</td><td>0.15937233</td><td>12249.118</td><td>0.4083638</td><td>0.41930902</td><td>0.033213258</td><td>0.1591868</td><td>0.48117438</td><td>0.3465708</td><td>0.6825519</td><td>0.74528176</td><td>0.9980063</td><td>2.9101856</td><td>2.9086542</td><td>2.9086537</td><td>1.712295</td><td>1.7097402</td><td>1.0186594</td><td>0.83280504</td><td>0.89374804</td><td>1.0198406</td><td>0.8338004</td><td>0.8943873</td><td>965269060.0</td><td>968920770.0</td><td>5858.2583</td><td>-0.6535859</td><td>0.095544726</td><td>0.45679542</td><td>-0.0018338466</td><td>-0.0005370976</td><td>5616.922</td><td>-0.68688405</td><td>0.063183576</td><td>0.4392393</td><td>0.003902756</td><td>0.0013156871</td></tr>\n",
       "<tr><td>402715332898</td><td>402711568059</td><td>2</td><td>1</td><td>1</td><td>1564</td><td>1572</td><td>1176</td><td>1183</td><td>1.0</td><td>0.0</td><td>133.77484</td><td>56.06894</td><td>1.1837199</td><td>27.665714</td><td>0.31339455</td><td>6104.6655</td><td>0.13685672</td><td>0.16091256</td><td>0.3478819</td><td>-0.19875641</td><td>0.20921569</td><td>0.0895237</td><td>-0.25953704</td><td>0.63868046</td><td>0.9955437</td><td>1.9441333</td><td>1.9432199</td><td>1.9432191</td><td>1.2848414</td><td>1.2830278</td><td>7.740673</td><td>6.9040146</td><td>5.037416</td><td>7.7452555</td><td>6.904483</td><td>5.0421047</td><td>320587420.0</td><td>968920770.0</td><td>7790.848</td><td>-96.77082</td><td>95.326645</td><td>-54.31325</td><td>-0.0045463275</td><td>0.010874793</td><td>7761.365</td><td>-96.91407</td><td>95.33275</td><td>-54.463554</td><td>-0.0061707837</td><td>0.0105987415</td></tr>\n",
       "<tr><td>402709443937</td><td>402709443937</td><td>2</td><td>0</td><td>1</td><td>1527</td><td>1536</td><td>1175</td><td>1185</td><td>1.0</td><td>0.0</td><td>126.41638</td><td>56.053062</td><td>1.8123116</td><td>26.506392</td><td>0.0082530975</td><td>17757.875</td><td>0.0921419</td><td>0.093199134</td><td>0.078341</td><td>0.07260089</td><td>0.10257024</td><td>0.0827738</td><td>0.37369397</td><td>0.6253745</td><td>0.9957436</td><td>5.9279714</td><td>5.919206</td><td>5.9192004</td><td>4.2533655</td><td>4.187064</td><td>2.7125394</td><td>2.686095</td><td>2.673198</td><td>2.744177</td><td>2.7223003</td><td>2.6793787</td><td>2355132700.0</td><td>35380724000.0</td><td>1747.0532</td><td>-16.173626</td><td>4.702052</td><td>4.3614597</td><td>0.00012900875</td><td>8.307483e-05</td><td>1678.678</td><td>-16.507904</td><td>4.2912755</td><td>4.3706045</td><td>-0.0015991725</td><td>0.0007905548</td></tr>\n",
       "<tr><td>402714392263</td><td>402709443937</td><td>2</td><td>1</td><td>1</td><td>1535</td><td>1543</td><td>1177</td><td>1186</td><td>0.2859962</td><td>0.7140038</td><td>127.86601</td><td>56.43286</td><td>2.7209578</td><td>27.43301</td><td>-0.059402466</td><td>7563.8613</td><td>0.47873586</td><td>0.48170272</td><td>0.003847709</td><td>0.07850621</td><td>0.5179672</td><td>0.44247594</td><td>0.760912</td><td>0.78318495</td><td>0.9460241</td><td>1.6225832</td><td>1.6220304</td><td>1.6220189</td><td>0.47335115</td><td>0.46757066</td><td>5.9407434</td><td>2.6507583</td><td>3.814247</td><td>5.985962</td><td>2.689497</td><td>3.8209755</td><td>1846465400.0</td><td>35380724000.0</td><td>21323.254</td><td>-2.3554688</td><td>0.22648379</td><td>7.619581</td><td>-0.008547186</td><td>-0.00634518</td><td>20739.346</td><td>-2.7569191</td><td>-0.1714846</td><td>7.6273484</td><td>-0.00092189526</td><td>-0.005433006</td></tr>\n",
       "<tr><td>402701771027</td><td>402701771027</td><td>1</td><td>0</td><td>1</td><td>1528</td><td>1546</td><td>1136</td><td>1153</td><td>0.98696816</td><td>0.01303185</td><td>127.5094</td><td>49.06333</td><td>0.9377821</td><td>24.244675</td><td>0.5533581</td><td>142586.27</td><td>0.30176535</td><td>0.305207</td><td>0.020416385</td><td>0.10451396</td><td>0.33580965</td><td>0.27117246</td><td>0.68893987</td><td>0.6893171</td><td>1.0</td><td>38.46108</td><td>38.16828</td><td>38.16828</td><td>25.260853</td><td>25.260853</td><td>0.08707651</td><td>0.078514844</td><td>0.08103436</td><td>0.08707651</td><td>0.078514844</td><td>0.08103436</td><td>123666416000.0</td><td>123666416000.0</td><td>250.29695</td><td>-0.009069331</td><td>0.0006311842</td><td>0.003232253</td><td>4.6392135e-08</td><td>1.9199524e-07</td><td>250.29695</td><td>-0.009069331</td><td>0.0006311842</td><td>0.003232253</td><td>4.6392135e-08</td><td>1.9199524e-07</td></tr>\n",
       "<tr><td>402701802864</td><td>402701802864</td><td>2</td><td>0</td><td>1</td><td>1472</td><td>1492</td><td>1149</td><td>1165</td><td>0.96989685</td><td>0.03010317</td><td>116.51268</td><td>51.47743</td><td>1.3208928</td><td>24.01268</td><td>0.44771576</td><td>176553.19</td><td>0.23358858</td><td>0.37006557</td><td>0.6530426</td><td>0.06096216</td><td>0.512404</td><td>0.10648555</td><td>0.046540603</td><td>0.70988846</td><td>0.99749994</td><td>50.328636</td><td>49.799503</td><td>49.79924</td><td>33.389633</td><td>29.452995</td><td>0.30935293</td><td>0.3042721</td><td>0.06465137</td><td>0.31318042</td><td>0.3080886</td><td>0.06908433</td><td>263667000000.0</td><td>452601100000.0</td><td>147.3735</td><td>-0.13176449</td><td>0.17490539</td><td>0.016323987</td><td>-9.016529e-08</td><td>-4.9071943e-08</td><td>-1140.3219</td><td>-0.14808686</td><td>0.1713375</td><td>0.023141528</td><td>0.0036924775</td><td>-0.0005628296</td></tr>\n",
       "<tr><td>402713992486</td><td>402713992486</td><td>1</td><td>0</td><td>1</td><td>1516</td><td>1523</td><td>1136</td><td>1143</td><td>1.0</td><td>0.0</td><td>123.99303</td><td>48.018986</td><td>1.3888732</td><td>27.38672</td><td>0.44198227</td><td>7893.313</td><td>0.073164225</td><td>0.08045241</td><td>0.040922605</td><td>0.3049594</td><td>0.100554675</td><td>0.053234763</td><td>0.7187014</td><td>0.6235921</td><td>1.0</td><td>2.6550148</td><td>2.6532197</td><td>2.6532197</td><td>1.87298</td><td>1.87298</td><td>13.179529</td><td>8.43805</td><td>13.143998</td><td>13.179529</td><td>8.43805</td><td>13.143998</td><td>493569900.0</td><td>493569900.0</td><td>4875.591</td><td>-338.20898</td><td>43.890797</td><td>327.39267</td><td>0.0021046994</td><td>5.6812787e-06</td><td>4875.591</td><td>-338.20898</td><td>43.890797</td><td>327.39267</td><td>0.0021046994</td><td>5.6812787e-06</td></tr>\n",
       "<tr><td>402711081168</td><td>402711081168</td><td>1</td><td>0</td><td>1</td><td>1593</td><td>1603</td><td>1263</td><td>1273</td><td>1.0</td><td>0.0</td><td>139.74762</td><td>73.725815</td><td>0.7171161</td><td>26.923096</td><td>0.9417038</td><td>12097.881</td><td>0.2681189</td><td>0.28445134</td><td>-0.02536131</td><td>-0.2417017</td><td>0.34358028</td><td>0.20923126</td><td>-0.837671</td><td>0.6795833</td><td>1.0</td><td>3.3790019</td><td>3.3766193</td><td>3.3766193</td><td>2.1716027</td><td>2.1716027</td><td>1.2755357</td><td>0.9879368</td><td>1.1908098</td><td>1.2755357</td><td>0.9879368</td><td>1.1908098</td><td>1075588400.0</td><td>1075588400.0</td><td>3828.3513</td><td>-1.8944623</td><td>-0.16556309</td><td>-1.568334</td><td>-0.0002827498</td><td>8.311227e-06</td><td>3828.3513</td><td>-1.8944623</td><td>-0.16556309</td><td>-1.568334</td><td>-0.0002827498</td><td>8.311227e-06</td></tr>\n",
       "<tr><td>...</td><td>...</td><td>...</td><td>...</td><td>...</td><td>...</td><td>...</td><td>...</td><td>...</td><td>...</td><td>...</td><td>...</td><td>...</td><td>...</td><td>...</td><td>...</td><td>...</td><td>...</td><td>...</td><td>...</td><td>...</td><td>...</td><td>...</td><td>...</td><td>...</td><td>...</td><td>...</td><td>...</td><td>...</td><td>...</td><td>...</td><td>...</td><td>...</td><td>...</td><td>...</td><td>...</td><td>...</td><td>...</td><td>...</td><td>...</td><td>...</td><td>...</td><td>...</td><td>...</td><td>...</td><td>...</td><td>...</td><td>...</td><td>...</td><td>...</td><td>...</td></tr>\n",
       "<tr><td>402705410986</td><td>402705410986</td><td>3</td><td>0</td><td>1</td><td>389</td><td>404</td><td>536</td><td>548</td><td>1.0</td><td>0.0</td><td>-100.65458</td><td>-71.53597</td><td>1.1458398</td><td>25.989237</td><td>0.30944633</td><td>28592.549</td><td>0.3739634</td><td>0.4195186</td><td>0.23647964</td><td>-0.24191675</td><td>0.53183246</td><td>0.26295614</td><td>-0.39838147</td><td>0.7403305</td><td>0.94921035</td><td>7.0860014</td><td>7.0766954</td><td>7.076531</td><td>4.518391</td><td>3.190299</td><td>0.47584298</td><td>0.38167015</td><td>0.38457614</td><td>0.6388693</td><td>0.5114856</td><td>0.46299535</td><td>5568763400.0</td><td>39213974000.0</td><td>1683.4774</td><td>-0.22909063</td><td>0.16784711</td><td>-0.17172718</td><td>-6.0243336e-05</td><td>-3.397337e-05</td><td>1905.6195</td><td>-0.39007774</td><td>0.33267766</td><td>-0.22005999</td><td>0.008933543</td><td>-0.0036633902</td></tr>\n",
       "<tr><td>402701351500</td><td>402701351500</td><td>3</td><td>0</td><td>1</td><td>469</td><td>486</td><td>579</td><td>596</td><td>0.99415773</td><td>0.00584229</td><td>-84.395744</td><td>-62.411743</td><td>0.7637796</td><td>23.9246</td><td>0.84166336</td><td>191472.92</td><td>0.1368821</td><td>0.21826126</td><td>-0.2921917</td><td>0.5916503</td><td>0.30238473</td><td>0.06196314</td><td>1.0147594</td><td>0.6540744</td><td>0.9557327</td><td>60.635628</td><td>59.79012</td><td>59.756287</td><td>42.38115</td><td>2.9040947</td><td>0.65605557</td><td>0.3032711</td><td>0.58862853</td><td>1.5679183</td><td>0.70180726</td><td>1.2473464</td><td>292910040000.0</td><td>119867605000000.0</td><td>156.82895</td><td>-0.66082186</td><td>-0.38267577</td><td>0.7749424</td><td>-1.7499808e-07</td><td>-7.050543e-07</td><td>-62827.02</td><td>-2.7947485</td><td>-1.8651869</td><td>3.4531243</td><td>-0.014920389</td><td>-0.01643956</td></tr>\n",
       "<tr><td>402710990135</td><td>402701351500</td><td>3</td><td>2</td><td>1</td><td>472</td><td>485</td><td>583</td><td>594</td><td>1.0</td><td>0.0</td><td>-84.20263</td><td>-62.23965</td><td>0.4327685</td><td>26.758255</td><td>0.49104118</td><td>14081.392</td><td>0.46943676</td><td>0.5056405</td><td>0.09658621</td><td>0.25461152</td><td>0.6207305</td><td>0.3550186</td><td>0.6041099</td><td>0.79042816</td><td>0.054709323</td><td>3.1317263</td><td>3.1300566</td><td>3.0997117</td><td>1.8234497</td><td>0.22126088</td><td>0.91539204</td><td>0.68113595</td><td>0.7816671</td><td>2.9541714</td><td>1.2366292</td><td>1.4075488</td><td>1307495600.0</td><td>119867605000000.0</td><td>5693.622</td><td>-0.48318973</td><td>0.19750136</td><td>0.5209096</td><td>-0.002020381</td><td>-0.0015257804</td><td>89205.59</td><td>5.8906283</td><td>1.4296206</td><td>0.19182713</td><td>4.288719</td><td>3.0612593</td></tr>\n",
       "<tr><td>402705937488</td><td>402701351500</td><td>3</td><td>1</td><td>1</td><td>459</td><td>473</td><td>584</td><td>597</td><td>1.0</td><td>0.0</td><td>-86.689926</td><td>-61.806637</td><td>0.7386921</td><td>25.8473</td><td>0.9262581</td><td>32585.754</td><td>0.36303502</td><td>0.36354893</td><td>0.023947775</td><td>0.02900137</td><td>0.3769558</td><td>0.34962836</td><td>0.44027618</td><td>0.7172751</td><td>0.98718977</td><td>8.186445</td><td>8.173888</td><td>8.173855</td><td>5.223033</td><td>5.199975</td><td>0.34986663</td><td>0.3170926</td><td>0.317827</td><td>0.35144243</td><td>0.31805816</td><td>0.31817463</td><td>5777214000.0</td><td>119867605000000.0</td><td>1385.9261</td><td>-0.116286494</td><td>0.010056841</td><td>0.012345725</td><td>-6.7225747e-06</td><td>-6.0110556e-06</td><td>1775.5312</td><td>-0.09541521</td><td>0.0244096</td><td>0.003003507</td><td>0.0037312333</td><td>-0.00095130573</td></tr>\n",
       "<tr><td>402703669571</td><td>402700070780</td><td>20</td><td>9</td><td>1</td><td>383</td><td>408</td><td>563</td><td>586</td><td>1.0</td><td>0.0</td><td>-100.82494</td><td>-65.06498</td><td>0.2203562</td><td>25.229395</td><td>0.3840561</td><td>57569.125</td><td>0.99181277</td><td>1.0976304</td><td>0.06681272</td><td>-0.31074876</td><td>1.3785509</td><td>0.71356994</td><td>-0.67950743</td><td>1.1944264</td><td>0.9773617</td><td>8.06405</td><td>8.056797</td><td>8.056774</td><td>4.613964</td><td>4.6108193</td><td>0.24188216</td><td>0.165242</td><td>0.19991736</td><td>0.24201271</td><td>0.16525266</td><td>0.2000271</td><td>12201501000.0</td><td>93147270000000.0</td><td>2587.5464</td><td>-0.01956709</td><td>0.006287173</td><td>-0.029349321</td><td>-5.2444243e-06</td><td>2.1863268e-06</td><td>2687.589</td><td>-0.017883677</td><td>0.006548679</td><td>-0.030722983</td><td>-0.0005621776</td><td>0.0004645311</td></tr>\n",
       "<tr><td>402714432330</td><td>402705410986</td><td>3</td><td>1</td><td>1</td><td>392</td><td>402</td><td>544</td><td>553</td><td>1.0</td><td>0.0</td><td>-100.48936</td><td>-70.193474</td><td>2.9999042</td><td>27.403347</td><td>-0.028354645</td><td>7773.36</td><td>0.36991876</td><td>0.3713721</td><td>0.034492336</td><td>-0.052262217</td><td>0.39385542</td><td>0.3474369</td><td>-0.4937165</td><td>0.7211409</td><td>0.64454466</td><td>1.9220052</td><td>1.9213032</td><td>1.9210776</td><td>1.0849364</td><td>0.54209185</td><td>1.6942742</td><td>1.4529384</td><td>1.4692345</td><td>2.4349031</td><td>2.4197638</td><td>2.1082337</td><td>410476600.0</td><td>39213974000.0</td><td>10493.864</td><td>-1.6281997</td><td>0.28606924</td><td>-0.429827</td><td>-0.00058255275</td><td>0.0014384314</td><td>28870.535</td><td>-4.751235</td><td>-1.3653659</td><td>-2.9353015</td><td>-0.83178556</td><td>-0.3674431</td></tr>\n",
       "<tr><td>402712421720</td><td>402712421720</td><td>1</td><td>0</td><td>1</td><td>413</td><td>422</td><td>550</td><td>558</td><td>0.659157</td><td>0.34084305</td><td>-96.37047</td><td>-69.069954</td><td>1.657623</td><td>27.165369</td><td>0.39688873</td><td>9678.32</td><td>0.072080754</td><td>0.0743633</td><td>0.009180972</td><td>0.17629822</td><td>0.0861589</td><td>0.060302947</td><td>0.7593835</td><td>0.6228457</td><td>1.0</td><td>3.171908</td><td>3.1693728</td><td>3.1693728</td><td>1.366486</td><td>1.366486</td><td>11.490086</td><td>7.220504</td><td>7.951788</td><td>11.490086</td><td>7.220504</td><td>7.951788</td><td>1943411100.0</td><td>1943411100.0</td><td>18812.969</td><td>-47.31714</td><td>1.4583467</td><td>26.998186</td><td>4.5761946e-05</td><td>-0.0008566037</td><td>18812.969</td><td>-47.31714</td><td>1.4583467</td><td>26.998186</td><td>4.5761946e-05</td><td>-0.0008566037</td></tr>\n",
       "<tr><td>402716716972</td><td>402716716972</td><td>1</td><td>0</td><td>1</td><td>439</td><td>446</td><td>546</td><td>553</td><td>1.0</td><td>0.0</td><td>-91.36069</td><td>-69.96849</td><td>1.3790569</td><td>27.820374</td><td>0.06368828</td><td>5294.1733</td><td>0.13498932</td><td>0.13585098</td><td>-0.036650386</td><td>-0.070848785</td><td>0.14622298</td><td>0.1246187</td><td>-1.0240957</td><td>0.63313216</td><td>1.0</td><td>1.698698</td><td>1.6979944</td><td>1.6979944</td><td>1.119741</td><td>1.119741</td><td>5.436711</td><td>5.173524</td><td>5.235878</td><td>5.436711</td><td>5.173524</td><td>5.235878</td><td>227423360.0</td><td>227423360.0</td><td>9130.6875</td><td>-51.61825</td><td>-7.1566157</td><td>-13.096018</td><td>0.0109908795</td><td>0.006043036</td><td>9130.6875</td><td>-51.61825</td><td>-7.1566157</td><td>-13.096018</td><td>0.0109908795</td><td>0.006043036</td></tr>\n",
       "<tr><td>402715429603</td><td>402715429603</td><td>1</td><td>0</td><td>1</td><td>422</td><td>430</td><td>544</td><td>551</td><td>1.0</td><td>0.0</td><td>-94.66979</td><td>-70.385414</td><td>1.5382384</td><td>27.600266</td><td>0.06253433</td><td>6483.976</td><td>0.11111146</td><td>0.11113179</td><td>-0.004750655</td><td>0.012663827</td><td>0.11262461</td><td>0.10961864</td><td>0.96484303</td><td>0.6283006</td><td>1.0</td><td>2.1276503</td><td>2.1265273</td><td>2.1265273</td><td>1.4590517</td><td>1.4590517</td><td>5.553243</td><td>5.5002217</td><td>5.493416</td><td>5.553243</td><td>5.5002217</td><td>5.493416</td><td>325546100.0</td><td>325546100.0</td><td>6379.112</td><td>-61.59257</td><td>-0.7122487</td><td>2.9500957</td><td>-0.0002508509</td><td>0.0046379324</td><td>6379.112</td><td>-61.59257</td><td>-0.7122487</td><td>2.9500957</td><td>-0.0002508509</td><td>0.0046379324</td></tr>\n",
       "<tr><td>402709794411</td><td>402709794411</td><td>1</td><td>0</td><td>1</td><td>424</td><td>434</td><td>556</td><td>566</td><td>1.0</td><td>0.0</td><td>-94.100746</td><td>-67.70299</td><td>1.4371517</td><td>26.616312</td><td>0.18448257</td><td>16048.069</td><td>0.06781827</td><td>0.068583444</td><td>-0.071194105</td><td>0.07842509</td><td>0.07542589</td><td>0.060977966</td><td>1.1539514</td><td>0.6221848</td><td>1.0</td><td>5.4383125</td><td>5.4308076</td><td>5.4308076</td><td>3.9488564</td><td>3.9488564</td><td>5.0659695</td><td>5.034752</td><td>5.065372</td><td>5.0659695</td><td>5.034752</td><td>5.065372</td><td>1931909100.0</td><td>1931909100.0</td><td>1908.1248</td><td>-60.409893</td><td>-16.156841</td><td>17.798815</td><td>-6.6572924e-05</td><td>-2.4071027e-05</td><td>1908.1248</td><td>-60.409893</td><td>-16.156841</td><td>17.798815</td><td>-6.6572924e-05</td><td>-2.4071027e-05</td></tr>\n",
       "</table>"
      ],
      "text/plain": [
       "<Table length=8669>\n",
       "   db_id        grp_id    grp_size ...   bias_x_grp     bias_y_grp  \n",
       "   int64        int64      int16   ...    float32        float32    \n",
       "------------ ------------ -------- ... -------------- --------------\n",
       "402713998325 402713998325        1 ... -0.00023861162   0.0013744844\n",
       "402707721988 402707721988        1 ...   0.0002924066   -0.000333437\n",
       "402711568059 402711568059        2 ...    0.003902756   0.0013156871\n",
       "402715332898 402711568059        2 ...  -0.0061707837   0.0105987415\n",
       "402709443937 402709443937        2 ...  -0.0015991725   0.0007905548\n",
       "402714392263 402709443937        2 ... -0.00092189526   -0.005433006\n",
       "402701771027 402701771027        1 ...  4.6392135e-08  1.9199524e-07\n",
       "402701802864 402701802864        2 ...   0.0036924775  -0.0005628296\n",
       "402713992486 402713992486        1 ...   0.0021046994  5.6812787e-06\n",
       "402711081168 402711081168        1 ...  -0.0002827498   8.311227e-06\n",
       "         ...          ...      ... ...            ...            ...\n",
       "402705410986 402705410986        3 ...    0.008933543  -0.0036633902\n",
       "402701351500 402701351500        3 ...   -0.014920389    -0.01643956\n",
       "402710990135 402701351500        3 ...       4.288719      3.0612593\n",
       "402705937488 402701351500        3 ...   0.0037312333 -0.00095130573\n",
       "402703669571 402700070780       20 ...  -0.0005621776   0.0004645311\n",
       "402714432330 402705410986        3 ...    -0.83178556     -0.3674431\n",
       "402712421720 402712421720        1 ...  4.5761946e-05  -0.0008566037\n",
       "402716716972 402716716972        1 ...   0.0109908795    0.006043036\n",
       "402715429603 402715429603        1 ...  -0.0002508509   0.0046379324\n",
       "402709794411 402709794411        1 ... -6.6572924e-05 -2.4071027e-05"
      ]
     },
     "execution_count": 33,
     "metadata": {},
     "output_type": "execute_result"
    }
   ],
   "source": [
    "t"
   ]
  },
  {
   "cell_type": "markdown",
   "metadata": {},
   "source": [
    "# Check if noise was added "
   ]
  },
  {
   "cell_type": "code",
   "execution_count": 3,
   "metadata": {
    "ExecuteTime": {
     "end_time": "2019-07-03T18:25:46.060065Z",
     "start_time": "2019-07-03T18:25:46.050479Z"
    }
   },
   "outputs": [],
   "source": [
    "f1 = fits.open(\"data/projectLSST-g1_0-g2_0/section_0_0.fits\")\n",
    "f2 = fits.open(\"data/projectLSST-g1_0-g2_0/noise_image_0_0.fits\")"
   ]
  },
  {
   "cell_type": "code",
   "execution_count": 4,
   "metadata": {
    "ExecuteTime": {
     "end_time": "2019-07-03T18:25:53.209524Z",
     "start_time": "2019-07-03T18:25:53.203833Z"
    }
   },
   "outputs": [],
   "source": [
    "orig = f1[0].data\n",
    "noisy = f2[0].data"
   ]
  },
  {
   "cell_type": "code",
   "execution_count": 29,
   "metadata": {
    "ExecuteTime": {
     "end_time": "2019-07-03T16:06:15.433230Z",
     "start_time": "2019-07-03T16:06:14.847664Z"
    }
   },
   "outputs": [
    {
     "data": {
      "text/plain": [
       "[<matplotlib.lines.Line2D at 0x7f0cbd4084e0>]"
      ]
     },
     "execution_count": 29,
     "metadata": {},
     "output_type": "execute_result"
    },
    {
     "data": {
      "image/png": "[encoded data removed]",
      "text/plain": [
       "<Figure size 432x288 with 1 Axes>"
      ]
     },
     "metadata": {
      "needs_background": "light"
     },
     "output_type": "display_data"
    }
   ],
   "source": [
    "plt.plot(orig[0])"
   ]
  },
  {
   "cell_type": "code",
   "execution_count": 28,
   "metadata": {
    "ExecuteTime": {
     "end_time": "2019-07-03T16:06:13.776987Z",
     "start_time": "2019-07-03T16:06:12.981011Z"
    }
   },
   "outputs": [
    {
     "data": {
      "text/plain": [
       "[<matplotlib.lines.Line2D at 0x7f0cbd4aceb8>]"
      ]
     },
     "execution_count": 28,
     "metadata": {},
     "output_type": "execute_result"
    },
    {
     "data": {
      "image/png": "[encoded data removed]",
      "text/plain": [
       "<Figure size 432x288 with 1 Axes>"
      ]
     },
     "metadata": {
      "needs_background": "light"
     },
     "output_type": "display_data"
    }
   ],
   "source": [
    "plt.plot(noisy[0])"
   ]
  },
  {
   "cell_type": "code",
   "execution_count": 24,
   "metadata": {
    "ExecuteTime": {
     "end_time": "2019-07-03T16:05:31.508374Z",
     "start_time": "2019-07-03T16:05:31.491573Z"
    }
   },
   "outputs": [
    {
     "data": {
      "text/plain": [
       "array([ 544.5, -219.5,  414.5, ..., -403.5,  489.5,  409.5], dtype=float32)"
      ]
     },
     "execution_count": 24,
     "metadata": {},
     "output_type": "execute_result"
    }
   ],
   "source": [
    "f2[0].data[0]"
   ]
  },
  {
   "cell_type": "code",
   "execution_count": 6,
   "metadata": {
    "ExecuteTime": {
     "end_time": "2019-07-03T18:26:25.931431Z",
     "start_time": "2019-07-03T18:26:25.379587Z"
    }
   },
   "outputs": [
    {
     "data": {
      "text/plain": [
       "(array([      0.,       0.,       0.,       0.,       0.,       0.,\n",
       "              0.,       0.,       0.,       0.,       0.,       0.,\n",
       "              0.,       0.,       0.,       0.,       0.,       0.,\n",
       "              0.,       0.,       0.,       0.,       0.,       0.,\n",
       "              0., 2376750.,  255050.,  133611.,   83847.,   58300.,\n",
       "          42653.,   32608.,   25912.,   21426.,   17622.,   14958.,\n",
       "          12688.,   11015.,    9677.,    8661.,    7703.,    6888.,\n",
       "           6234.,    5708.,    4983.,    4688.,    4295.,    4008.,\n",
       "           3673.,    3393.]),\n",
       " array([-2000., -1920., -1840., -1760., -1680., -1600., -1520., -1440.,\n",
       "        -1360., -1280., -1200., -1120., -1040.,  -960.,  -880.,  -800.,\n",
       "         -720.,  -640.,  -560.,  -480.,  -400.,  -320.,  -240.,  -160.,\n",
       "          -80.,     0.,    80.,   160.,   240.,   320.,   400.,   480.,\n",
       "          560.,   640.,   720.,   800.,   880.,   960.,  1040.,  1120.,\n",
       "         1200.,  1280.,  1360.,  1440.,  1520.,  1600.,  1680.,  1760.,\n",
       "         1840.,  1920.,  2000.], dtype=float32),\n",
       " <a list of 50 Patch objects>)"
      ]
     },
     "execution_count": 6,
     "metadata": {},
     "output_type": "execute_result"
    },
    {
     "data": {
      "image/png": "[encoded data removed]",
      "text/plain": [
       "<Figure size 432x288 with 1 Axes>"
      ]
     },
     "metadata": {
      "needs_background": "light"
     },
     "output_type": "display_data"
    }
   ],
   "source": [
    "plt.hist(orig.flatten(),range=(-2000,2000),bins=50,alpha=0.5)"
   ]
  },
  {
   "cell_type": "code",
   "execution_count": 5,
   "metadata": {
    "ExecuteTime": {
     "end_time": "2019-07-03T18:26:03.443689Z",
     "start_time": "2019-07-03T18:26:02.924549Z"
    }
   },
   "outputs": [
    {
     "data": {
      "text/plain": [
       "(array([3.00000e+00, 1.10000e+01, 3.00000e+01, 3.60000e+01, 1.00000e+02,\n",
       "        1.81000e+02, 4.15000e+02, 8.09000e+02, 1.40500e+03, 2.48000e+03,\n",
       "        4.30900e+03, 7.21500e+03, 1.14860e+04, 1.79310e+04, 2.63820e+04,\n",
       "        3.78270e+04, 5.31890e+04, 7.15520e+04, 9.30120e+04, 1.16360e+05,\n",
       "        1.41266e+05, 1.64982e+05, 1.86925e+05, 2.04455e+05, 2.16437e+05,\n",
       "        2.19874e+05, 2.17344e+05, 2.09192e+05, 1.93000e+05, 1.74727e+05,\n",
       "        1.52187e+05, 1.28657e+05, 1.06584e+05, 8.52110e+04, 6.77700e+04,\n",
       "        5.28610e+04, 4.01320e+04, 3.07080e+04, 2.34430e+04, 1.81510e+04,\n",
       "        1.42730e+04, 1.13550e+04, 9.32200e+03, 7.86300e+03, 6.68700e+03,\n",
       "        5.86500e+03, 5.35200e+03, 4.74900e+03, 4.36300e+03, 3.95700e+03]),\n",
       " array([-2000., -1920., -1840., -1760., -1680., -1600., -1520., -1440.,\n",
       "        -1360., -1280., -1200., -1120., -1040.,  -960.,  -880.,  -800.,\n",
       "         -720.,  -640.,  -560.,  -480.,  -400.,  -320.,  -240.,  -160.,\n",
       "          -80.,     0.,    80.,   160.,   240.,   320.,   400.,   480.,\n",
       "          560.,   640.,   720.,   800.,   880.,   960.,  1040.,  1120.,\n",
       "         1200.,  1280.,  1360.,  1440.,  1520.,  1600.,  1680.,  1760.,\n",
       "         1840.,  1920.,  2000.], dtype=float32),\n",
       " <a list of 50 Patch objects>)"
      ]
     },
     "execution_count": 5,
     "metadata": {},
     "output_type": "execute_result"
    },
    {
     "data": {
      "image/png": "[encoded data removed]",
      "text/plain": [
       "<Figure size 432x288 with 1 Axes>"
      ]
     },
     "metadata": {
      "needs_background": "light"
     },
     "output_type": "display_data"
    }
   ],
   "source": [
    "plt.hist(noisy.flatten(),range=(-2000,2000),bins=50,alpha=0.5)"
   ]
  },
  {
   "cell_type": "markdown",
   "metadata": {},
   "source": [
    "# Detection and Extraction step"
   ]
  },
  {
   "cell_type": "code",
   "execution_count": null,
   "metadata": {},
   "outputs": [],
   "source": []
  },
  {
   "cell_type": "markdown",
   "metadata": {},
   "source": [
    "# Final fits"
   ]
  },
  {
   "cell_type": "code",
   "execution_count": 34,
   "metadata": {
    "ExecuteTime": {
     "end_time": "2019-07-03T17:47:19.212190Z",
     "start_time": "2019-07-03T17:47:18.853947Z"
    }
   },
   "outputs": [],
   "source": [
    "f = fits.open(\"data/projectLSST-g1_0-g2_0/final_fits.fits\")\n",
    "t = Table.read(\"data/projectLSST-g1_0-g2_0/final_fits.fits\")"
   ]
  },
  {
   "cell_type": "code",
   "execution_count": 42,
   "metadata": {
    "ExecuteTime": {
     "end_time": "2019-07-03T17:49:50.519950Z",
     "start_time": "2019-07-03T17:49:50.434975Z"
    }
   },
   "outputs": [
    {
     "data": {
      "text/plain": [
       "2602917000000.0"
      ]
     },
     "execution_count": 42,
     "metadata": {},
     "output_type": "execute_result"
    }
   ],
   "source": []
  },
  {
   "cell_type": "code",
   "execution_count": null,
   "metadata": {},
   "outputs": [],
   "source": []
  }
 ],
 "metadata": {
  "kernelspec": {
   "display_name": "igalsim",
   "language": "python",
   "name": "igalsim"
  },
  "language_info": {
   "codemirror_mode": {
    "name": "ipython",
    "version": 3
   },
   "file_extension": ".py",
   "mimetype": "text/x-python",
   "name": "python",
   "nbconvert_exporter": "python",
   "pygments_lexer": "ipython3",
   "version": "3.7.0"
  },
  "toc": {
   "base_numbering": 1,
   "nav_menu": {},
   "number_sections": true,
   "sideBar": true,
   "skip_h1_title": false,
   "title_cell": "Table of Contents",
   "title_sidebar": "Contents",
   "toc_cell": false,
   "toc_position": {
    "height": "calc(100% - 180px)",
    "left": "10px",
    "top": "150px",
    "width": "180.1875px"
   },
   "toc_section_display": true,
   "toc_window_display": true
  }
 },
 "nbformat": 4,
 "nbformat_minor": 2
}
