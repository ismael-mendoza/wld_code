{
 "cells": [
  {
   "cell_type": "markdown",
   "metadata": {},
   "source": [
    "# preamble "
   ]
  },
  {
   "cell_type": "code",
   "execution_count": 1,
   "metadata": {
    "ExecuteTime": {
     "end_time": "2019-07-05T04:46:43.565581Z",
     "start_time": "2019-07-05T04:46:37.934613Z"
    }
   },
   "outputs": [
    {
     "data": {
      "text/plain": [
       "<module 'mycode.maps' from '/nfs/slac/g/ki/ki19/deuce/AEGIS/ismael/WLD/mycode/maps.py'>"
      ]
     },
     "execution_count": 1,
     "metadata": {},
     "output_type": "execute_result"
    }
   ],
   "source": [
    "import os\n",
    "os.chdir('/nfs/slac/g/ki/ki19/deuce/AEGIS/ismael/WLD')\n",
    "\n",
    "%matplotlib inline \n",
    "\n",
    "import mycode.tomo.tomo_fncs as tomo_fncs\n",
    "import mycode.errors as errors\n",
    "import mycode.preamble as preamble\n",
    "import mycode.weights as weights \n",
    "import mycode.maps as maps \n",
    "\n",
    "from tqdm import tqdm \n",
    "\n",
    "%run mycode/preamble.py\n",
    "\n",
    "from importlib import reload\n",
    "reload(errors)\n",
    "reload(weights)\n",
    "reload(preamble)\n",
    "reload(maps)"
   ]
  },
  {
   "cell_type": "markdown",
   "metadata": {},
   "source": [
    "# simulate problematic patches "
   ]
  },
  {
   "cell_type": "markdown",
   "metadata": {},
   "source": [
    "The problem group has id: `402700140027`"
   ]
  },
  {
   "cell_type": "code",
   "execution_count": 4,
   "metadata": {
    "ExecuteTime": {
     "end_time": "2019-07-05T05:10:32.960026Z",
     "start_time": "2019-07-05T05:00:25.479113Z"
    }
   },
   "outputs": [
    {
     "name": "stdout",
     "output_type": "stream",
     "text": [
      "Read 858502 catalog entries from params/OneDegSq.fits\n",
      "Simulating LSST i-band survey with {'survey_name': 'LSST', 'filter_band': 'i', 'atmospheric_psf_beta': 0.0, 'atmospheric_psf_e1': 0.0, 'atmospheric_psf_e2': 0.0, 'cosmic_shear_g1': 0.0, 'cosmic_shear_g2': 0.0, 'airmass': 1.2, 'mirror_diameter': 8.36, 'effective_area': 32.4, 'image_width': 1800, 'image_height': 1800, 'pixel_scale': 0.2, 'exposure_time': 5520.0, 'sky_brightness': 20.5, 'zenith_psf_fwhm': 0.67, 'zero_point': 32.36, 'extinction': 0.07} (obs.frac. = 0.640)\n",
      "Will render all pixels with at least 21.2 detected electrons.\n",
      "PSF dilution factor is 0.049652.\n",
      "Simulation output will be saved to data/demo1.fits\n",
      "Simulated 8780 galaxies in 2865 overlap groups.\n"
     ]
    }
   ],
   "source": [
    "! ./WeakLensingDeblending/simulate.py --catalog-name params/OneDegSq.fits --image-width 1800 --image-height 1800\\\n",
    "               --ra-center -0.05 --dec-center -0.45\\\n",
    "               --survey-name LSST --filter-band i --output-name data/demo1 --verbose \\\n",
    "               --no-agn --no-hsm --no-stamps"
   ]
  },
  {
   "cell_type": "code",
   "execution_count": 6,
   "metadata": {
    "ExecuteTime": {
     "end_time": "2019-07-05T05:12:22.963023Z",
     "start_time": "2019-07-05T05:10:38.258075Z"
    }
   },
   "outputs": [
    {
     "name": "stdout",
     "output_type": "stream",
     "text": [
      "Read 858502 catalog entries from params/OneDegSq.fits\n",
      "Simulating LSST i-band survey with {'survey_name': 'LSST', 'filter_band': 'i', 'atmospheric_psf_beta': 0.0, 'atmospheric_psf_e1': 0.0, 'atmospheric_psf_e2': 0.0, 'cosmic_shear_g1': 0.0, 'cosmic_shear_g2': 0.0, 'airmass': 1.2, 'mirror_diameter': 8.36, 'effective_area': 32.4, 'image_width': 600, 'image_height': 600, 'pixel_scale': 0.2, 'exposure_time': 5520.0, 'sky_brightness': 20.5, 'zenith_psf_fwhm': 0.67, 'zero_point': 32.36, 'extinction': 0.07} (obs.frac. = 0.640)\n",
      "Will render all pixels with at least 21.2 detected electrons.\n",
      "PSF dilution factor is 0.049652.\n",
      "Simulation output will be saved to data/demo2.fits\n",
      "Simulated 1033 galaxies in 235 overlap groups.\n"
     ]
    }
   ],
   "source": [
    "! ./WeakLensingDeblending/simulate.py --catalog-name params/OneDegSq.fits --image-width 600 --image-height 600\\\n",
    "               --ra-center -0.04160895 --dec-center -0.42082338888888887\\\n",
    "               --survey-name LSST --filter-band i --output-name data/demo2 --verbose --no-agn --no-hsm --no-stamps"
   ]
  },
  {
   "cell_type": "code",
   "execution_count": 10,
   "metadata": {
    "ExecuteTime": {
     "end_time": "2019-07-05T05:18:07.335441Z",
     "start_time": "2019-07-05T05:14:24.802244Z"
    }
   },
   "outputs": [
    {
     "name": "stdout",
     "output_type": "stream",
     "text": [
      "Read 858502 catalog entries from params/OneDegSq.fits\n",
      "Simulating LSST i-band survey with {'survey_name': 'LSST', 'filter_band': 'i', 'atmospheric_psf_beta': 0.0, 'atmospheric_psf_e1': 0.0, 'atmospheric_psf_e2': 0.0, 'cosmic_shear_g1': 0.0, 'cosmic_shear_g2': 0.0, 'airmass': 1.2, 'mirror_diameter': 8.36, 'effective_area': 32.4, 'image_width': 1000, 'image_height': 1000, 'pixel_scale': 0.2, 'exposure_time': 5520.0, 'sky_brightness': 20.5, 'zenith_psf_fwhm': 0.67, 'zero_point': 32.36, 'extinction': 0.07} (obs.frac. = 0.640)\n",
      "Will render all pixels with at least 21.2 detected electrons.\n",
      "PSF dilution factor is 0.049652.\n",
      "Simulation output will be saved to data/demo3.fits\n",
      "Simulated 2707 galaxies in 833 overlap groups.\n"
     ]
    }
   ],
   "source": [
    "! ./WeakLensingDeblending/simulate.py --catalog-name params/OneDegSq.fits --image-width 1000 --image-height 1000\\\n",
    "               --ra-center -0.04160895 --dec-center -0.42082338888888887\\\n",
    "               --survey-name LSST --filter-band i --output-name data/demo3 --verbose --no-agn --no-hsm --no-stamps"
   ]
  },
  {
   "cell_type": "markdown",
   "metadata": {},
   "source": [
    "# Look at them more closely "
   ]
  },
  {
   "cell_type": "code",
   "execution_count": 12,
   "metadata": {
    "ExecuteTime": {
     "end_time": "2019-07-05T05:18:18.161875Z",
     "start_time": "2019-07-05T05:18:17.784457Z"
    }
   },
   "outputs": [],
   "source": [
    "t1 = Table.read(\"data/demo1.fits\")\n",
    "t2 = Table.read(\"data/demo2.fits\")\n",
    "t3 = Table.read(\"data/demo3.fits\")"
   ]
  },
  {
   "cell_type": "code",
   "execution_count": 13,
   "metadata": {
    "ExecuteTime": {
     "end_time": "2019-07-05T05:18:19.573234Z",
     "start_time": "2019-07-05T05:18:19.554422Z"
    }
   },
   "outputs": [
    {
     "data": {
      "text/plain": [
       "27"
      ]
     },
     "execution_count": 13,
     "metadata": {},
     "output_type": "execute_result"
    }
   ],
   "source": [
    "np.sum((t1['grp_id']==402700140027) & (t1['snr_grpf']==0))"
   ]
  },
  {
   "cell_type": "code",
   "execution_count": 14,
   "metadata": {
    "ExecuteTime": {
     "end_time": "2019-07-05T05:18:26.257722Z",
     "start_time": "2019-07-05T05:18:26.239829Z"
    }
   },
   "outputs": [
    {
     "data": {
      "text/plain": [
       "0"
      ]
     },
     "execution_count": 14,
     "metadata": {},
     "output_type": "execute_result"
    }
   ],
   "source": [
    "np.sum((t2['grp_id']==402700140027) & (t2['snr_grpf']==0))"
   ]
  },
  {
   "cell_type": "code",
   "execution_count": 15,
   "metadata": {
    "ExecuteTime": {
     "end_time": "2019-07-05T05:18:31.992337Z",
     "start_time": "2019-07-05T05:18:31.972796Z"
    }
   },
   "outputs": [
    {
     "data": {
      "text/plain": [
       "0"
      ]
     },
     "execution_count": 15,
     "metadata": {},
     "output_type": "execute_result"
    }
   ],
   "source": [
    "np.sum((t3['grp_id']==402700140027) & (t3['snr_grpf']==0))"
   ]
  },
  {
   "cell_type": "code",
   "execution_count": 18,
   "metadata": {
    "ExecuteTime": {
     "end_time": "2019-07-05T05:20:23.013188Z",
     "start_time": "2019-07-05T05:20:22.949737Z"
    }
   },
   "outputs": [
    {
     "data": {
      "text/html": [
       "<i>Table length=77</i>\n",
       "<table id=\"table139628589075368\" class=\"table-striped table-bordered table-condensed\">\n",
       "<thead><tr><th>db_id</th><th>grp_id</th><th>grp_size</th><th>grp_rank</th><th>visible</th><th>xmin</th><th>xmax</th><th>ymin</th><th>ymax</th><th>f_disk</th><th>f_bulge</th><th>dx</th><th>dy</th><th>z</th><th>ab_mag</th><th>ri_color</th><th>flux</th><th>sigma_m</th><th>sigma_p</th><th>e1</th><th>e2</th><th>a</th><th>b</th><th>beta</th><th>psf_sigm</th><th>purity</th><th>snr_sky</th><th>snr_iso</th><th>snr_grp</th><th>snr_isof</th><th>snr_grpf</th><th>ds</th><th>dg1</th><th>dg2</th><th>ds_grp</th><th>dg1_grp</th><th>dg2_grp</th><th>cond_num</th><th>cond_num_grp</th></tr></thead>\n",
       "<thead><tr><th>int64</th><th>int64</th><th>int16</th><th>int16</th><th>int16</th><th>int32</th><th>int32</th><th>int32</th><th>int32</th><th>float32</th><th>float32</th><th>float32</th><th>float32</th><th>float32</th><th>float32</th><th>float32</th><th>float32</th><th>float32</th><th>float32</th><th>float32</th><th>float32</th><th>float32</th><th>float32</th><th>float32</th><th>float32</th><th>float32</th><th>float32</th><th>float32</th><th>float32</th><th>float32</th><th>float32</th><th>float32</th><th>float32</th><th>float32</th><th>float32</th><th>float32</th><th>float32</th><th>float32</th><th>float32</th></tr></thead>\n",
       "<tr><td>402703043805</td><td>402700140027</td><td>77</td><td>16</td><td>1</td><td>995</td><td>1008</td><td>1252</td><td>1265</td><td>1.0</td><td>0.0</td><td>20.383474</td><td>71.74731</td><td>0.6398099</td><td>24.906548</td><td>0.41611862</td><td>77504.8</td><td>0.067752324</td><td>0.08691339</td><td>0.38894072</td><td>-0.30455494</td><td>0.116417944</td><td>0.039430153</td><td>-0.33215585</td><td>0.6244349</td><td>0.96682113</td><td>26.185844</td><td>26.014383</td><td>0.0</td><td>19.015951</td><td>0.0</td><td>2.6692884</td><td>2.1779177</td><td>1.7837267</td><td>inf</td><td>inf</td><td>inf</td><td>45743866000.0</td><td>inf</td></tr>\n",
       "<tr><td>402700317352</td><td>402700140027</td><td>77</td><td>5</td><td>1</td><td>953</td><td>1010</td><td>1219</td><td>1284</td><td>0.0030702716</td><td>0.9969297</td><td>16.455126</td><td>70.38217</td><td>2.1285295</td><td>22.157358</td><td>-0.07343292</td><td>974999.3</td><td>0.9909661</td><td>0.99892664</td><td>-0.06497416</td><td>-0.06147545</td><td>1.0839506</td><td>0.90595806</td><td>-1.1919281</td><td>1.1699818</td><td>0.99572355</td><td>135.27017</td><td>132.44868</td><td>132.44861</td><td>47.377464</td><td>46.947094</td><td>0.036254477</td><td>0.017935827</td><td>0.017918706</td><td>0.036580198</td><td>0.01803295</td><td>0.018010404</td><td>13259595000000.0</td><td>inf</td></tr>\n",
       "<tr><td>402712049563</td><td>402700140027</td><td>77</td><td>62</td><td>1</td><td>993</td><td>1004</td><td>1222</td><td>1233</td><td>1.0</td><td>0.0</td><td>19.77023</td><td>65.59636</td><td>1.8938355</td><td>27.073038</td><td>0.09739876</td><td>10537.373</td><td>0.47755712</td><td>0.4837769</td><td>0.008216394</td><td>-0.11345416</td><td>0.53535473</td><td>0.42599943</td><td>-0.74925107</td><td>0.783713</td><td>0.7807219</td><td>2.3094473</td><td>2.3085396</td><td>2.308336</td><td>1.2717352</td><td>1.2702302</td><td>1.203667</td><td>0.9855416</td><td>1.0231918</td><td>1.20419</td><td>0.98563075</td><td>1.0232862</td><td>681949000.0</td><td>inf</td></tr>\n",
       "<tr><td>402706865901</td><td>402700140027</td><td>77</td><td>33</td><td>1</td><td>953</td><td>964</td><td>1228</td><td>1238</td><td>1.0</td><td>0.0</td><td>11.8779125</td><td>66.676</td><td>0.8493703</td><td>26.146076</td><td>0.77157784</td><td>24746.69</td><td>0.109531835</td><td>0.12632972</td><td>0.36767495</td><td>0.08083813</td><td>0.16273776</td><td>0.07372119</td><td>0.108209826</td><td>0.6310557</td><td>0.9008485</td><td>8.1243105</td><td>8.108182</td><td>8.10712</td><td>5.787103</td><td>5.7563515</td><td>2.4066136</td><td>2.3740191</td><td>1.3472959</td><td>2.4145482</td><td>2.378225</td><td>1.3511384</td><td>4708557000.0</td><td>inf</td></tr>\n",
       "<tr><td>402700768092</td><td>402700140027</td><td>77</td><td>9</td><td>1</td><td>956</td><td>980</td><td>1214</td><td>1236</td><td>0.92059404</td><td>0.07940595</td><td>13.6579895</td><td>65.07687</td><td>0.9846882</td><td>23.111479</td><td>0.67048836</td><td>404907.72</td><td>0.33703348</td><td>0.38603926</td><td>0.16899775</td><td>-0.32614204</td><td>0.49547234</td><td>0.22925915</td><td>-0.5463584</td><td>0.72291684</td><td>0.9965755</td><td>103.62401</td><td>101.62278</td><td>101.61908</td><td>66.10569</td><td>65.818</td><td>0.03821301</td><td>0.026539436</td><td>0.03327563</td><td>0.03830193</td><td>0.026560469</td><td>0.03334441</td><td>1170102400000.0</td><td>inf</td></tr>\n",
       "<tr><td>402714675302</td><td>402700140027</td><td>77</td><td>64</td><td>1</td><td>986</td><td>995</td><td>1385</td><td>1394</td><td>1.0</td><td>0.0</td><td>18.197002</td><td>98.00174</td><td>4.296076</td><td>27.49894</td><td>0.47927856</td><td>7118.226</td><td>0.23881188</td><td>0.25215003</td><td>-0.0036370128</td><td>-0.23298371</td><td>0.30279267</td><td>0.1883504</td><td>-0.7932028</td><td>0.66716146</td><td>0.4537635</td><td>2.0498757</td><td>2.0489638</td><td>2.0483084</td><td>1.2865536</td><td>0.5149023</td><td>2.4509938</td><td>1.8982756</td><td>2.2966251</td><td>3.122917</td><td>2.5757313</td><td>2.9650755</td><td>403289600.0</td><td>inf</td></tr>\n",
       "<tr><td>402710835421</td><td>402700140027</td><td>77</td><td>48</td><td>1</td><td>995</td><td>1004</td><td>1390</td><td>1399</td><td>1.0</td><td>0.0</td><td>19.903696</td><td>98.952095</td><td>2.158897</td><td>26.877106</td><td>0.017402649</td><td>12621.335</td><td>0.08908094</td><td>0.10780932</td><td>0.1234404</td><td>-0.41629133</td><td>0.14182803</td><td>0.05595095</td><td>-0.64126575</td><td>0.62764835</td><td>0.85483605</td><td>4.2010794</td><td>4.196677</td><td>4.1962113</td><td>2.9942398</td><td>2.9754057</td><td>8.084544</td><td>3.9794817</td><td>7.8394604</td><td>8.098619</td><td>3.9841704</td><td>7.844453</td><td>1247935000.0</td><td>inf</td></tr>\n",
       "<tr><td>402700816955</td><td>402700140027</td><td>77</td><td>10</td><td>1</td><td>987</td><td>1015</td><td>1392</td><td>1428</td><td>0.86107886</td><td>0.13892116</td><td>20.323393</td><td>102.04415</td><td>1.280879</td><td>23.135595</td><td>0.50860786</td><td>396013.03</td><td>0.72288203</td><td>0.871628</td><td>-0.16890927</td><td>0.39551574</td><td>1.1450833</td><td>0.4563497</td><td>0.98720556</td><td>1.000092</td><td>0.9799056</td><td>69.312355</td><td>68.64918</td><td>68.64681</td><td>40.583027</td><td>40.2637</td><td>0.03586414</td><td>0.021784587</td><td>0.029102411</td><td>0.036106028</td><td>0.021889448</td><td>0.029196452</td><td>913720300000.0</td><td>inf</td></tr>\n",
       "<tr><td>402707740766</td><td>402700140027</td><td>77</td><td>39</td><td>1</td><td>983</td><td>995</td><td>1389</td><td>1400</td><td>1.0</td><td>0.0</td><td>17.87472</td><td>98.97227</td><td>1.5344297</td><td>26.26904</td><td>0.039274216</td><td>22096.93</td><td>0.27646264</td><td>0.276996</td><td>-0.025326122</td><td>0.03585917</td><td>0.2888781</td><td>0.26458076</td><td>1.0928577</td><td>0.6775608</td><td>0.3438174</td><td>6.1358104</td><td>6.128047</td><td>6.117669</td><td>4.0134215</td><td>0.9999244</td><td>0.5878908</td><td>0.5467353</td><td>0.5467333</td><td>1.1544094</td><td>1.3474993</td><td>1.1885781</td><td>3044695000.0</td><td>inf</td></tr>\n",
       "<tr><td>402703151103</td><td>402700140027</td><td>77</td><td>15</td><td>1</td><td>978</td><td>992</td><td>1387</td><td>1401</td><td>0.9359856</td><td>0.06401439</td><td>17.088964</td><td>98.91755</td><td>1.3181</td><td>24.821213</td><td>0.476408</td><td>83842.164</td><td>0.15037444</td><td>0.2037975</td><td>-0.007962364</td><td>0.54305065</td><td>0.2763542</td><td>0.08182425</td><td>0.7927288</td><td>0.65000826</td><td>0.9083645</td><td>26.217825</td><td>26.059048</td><td>26.04826</td><td>17.698261</td><td>4.372368</td><td>0.7205171</td><td>0.21669097</td><td>0.7106882</td><td>1.123651</td><td>0.3272761</td><td>1.1009666</td><td>59280410000.0</td><td>inf</td></tr>\n",
       "<tr><td>...</td><td>...</td><td>...</td><td>...</td><td>...</td><td>...</td><td>...</td><td>...</td><td>...</td><td>...</td><td>...</td><td>...</td><td>...</td><td>...</td><td>...</td><td>...</td><td>...</td><td>...</td><td>...</td><td>...</td><td>...</td><td>...</td><td>...</td><td>...</td><td>...</td><td>...</td><td>...</td><td>...</td><td>...</td><td>...</td><td>...</td><td>...</td><td>...</td><td>...</td><td>...</td><td>...</td><td>...</td><td>...</td><td>...</td></tr>\n",
       "<tr><td>402714401922</td><td>402700140027</td><td>77</td><td>61</td><td>1</td><td>1059</td><td>1067</td><td>1408</td><td>1416</td><td>1.0</td><td>0.0</td><td>32.616974</td><td>102.435104</td><td>2.019486</td><td>27.4912</td><td>-0.072021484</td><td>7169.152</td><td>0.13309678</td><td>0.13369046</td><td>0.06666194</td><td>0.0025948668</td><td>0.14229299</td><td>0.124494925</td><td>0.01945306</td><td>0.63267463</td><td>0.43189463</td><td>2.3099241</td><td>2.3086283</td><td>2.307292</td><td>1.5651312</td><td>0.28969735</td><td>3.9424188</td><td>3.8657074</td><td>3.7858021</td><td>6.160838</td><td>7.0631495</td><td>6.784718</td><td>397110080.0</td><td>inf</td></tr>\n",
       "<tr><td>402716794206</td><td>402700140027</td><td>77</td><td>76</td><td>1</td><td>1066</td><td>1067</td><td>1413</td><td>1414</td><td>1.0</td><td>0.0</td><td>33.494564</td><td>102.74045</td><td>0.2663456</td><td>27.98132</td><td>-0.13887024</td><td>4564.78</td><td>1.5231785</td><td>1.5246503</td><td>0.0066337814</td><td>0.030363133</td><td>1.5712769</td><td>1.4765522</td><td>0.67784745</td><td>1.6441163</td><td>0.1571984</td><td>0.088257805</td><td>0.0</td><td>0.0</td><td>0.0</td><td>0.0</td><td>inf</td><td>inf</td><td>inf</td><td>inf</td><td>inf</td><td>inf</td><td>inf</td><td>inf</td></tr>\n",
       "<tr><td>402709305859</td><td>402700140027</td><td>77</td><td>51</td><td>1</td><td>1069</td><td>1083</td><td>1412</td><td>1423</td><td>1.0</td><td>0.0</td><td>35.220566</td><td>103.65197</td><td>0.7754235</td><td>26.599499</td><td>1.1088066</td><td>16298.517</td><td>0.4488367</td><td>0.4799013</td><td>0.21720316</td><td>-0.14015849</td><td>0.5847346</td><td>0.34452274</td><td>-0.28652763</td><td>0.7761865</td><td>0.13701458</td><td>3.7105396</td><td>3.7081568</td><td>0.0</td><td>2.2155068</td><td>0.0</td><td>0.76934886</td><td>0.6489516</td><td>0.6055052</td><td>inf</td><td>inf</td><td>inf</td><td>1704025300.0</td><td>inf</td></tr>\n",
       "<tr><td>402715032931</td><td>402700140027</td><td>77</td><td>66</td><td>1</td><td>1003</td><td>1012</td><td>1260</td><td>1269</td><td>1.0</td><td>0.0</td><td>21.593649</td><td>73.063416</td><td>1.8246233</td><td>27.512053</td><td>-0.062072754</td><td>7032.7725</td><td>0.28922158</td><td>0.28922698</td><td>0.004025715</td><td>-0.0015818368</td><td>0.29047528</td><td>0.28797328</td><td>-0.18719971</td><td>0.68268794</td><td>0.86072236</td><td>1.9120715</td><td>1.9113153</td><td>0.0</td><td>1.133823</td><td>0.0</td><td>2.0128045</td><td>1.7932773</td><td>1.8096849</td><td>inf</td><td>inf</td><td>inf</td><td>347032960.0</td><td>inf</td></tr>\n",
       "<tr><td>402709945603</td><td>402700140027</td><td>77</td><td>46</td><td>1</td><td>1034</td><td>1043</td><td>1276</td><td>1285</td><td>1.0</td><td>0.0</td><td>27.786142</td><td>76.134224</td><td>1.4444602</td><td>26.707937</td><td>0.15546417</td><td>14749.344</td><td>0.08983946</td><td>0.12132233</td><td>0.45414034</td><td>-0.29233453</td><td>0.16440196</td><td>0.04909387</td><td>-0.28597024</td><td>0.6300313</td><td>0.7308547</td><td>4.8959274</td><td>4.8899765</td><td>0.0</td><td>3.497133</td><td>0.0</td><td>10.08268</td><td>8.616036</td><td>5.905018</td><td>inf</td><td>inf</td><td>inf</td><td>1707312800.0</td><td>inf</td></tr>\n",
       "<tr><td>402702805998</td><td>402700140027</td><td>77</td><td>17</td><td>1</td><td>1021</td><td>1037</td><td>1280</td><td>1295</td><td>1.0</td><td>0.0</td><td>25.837847</td><td>77.65633</td><td>0.5141883</td><td>24.845264</td><td>0.50068855</td><td>82005.28</td><td>0.29124328</td><td>0.33535108</td><td>0.07140875</td><td>-0.3674132</td><td>0.43162605</td><td>0.19651882</td><td>-0.68941706</td><td>0.6995223</td><td>0.99903756</td><td>22.290707</td><td>22.19102</td><td>0.0</td><td>14.803707</td><td>0.0</td><td>0.20269811</td><td>0.12695971</td><td>0.19126177</td><td>inf</td><td>inf</td><td>inf</td><td>48443486000.0</td><td>inf</td></tr>\n",
       "<tr><td>402714878767</td><td>402700140027</td><td>77</td><td>73</td><td>1</td><td>1017</td><td>1026</td><td>1293</td><td>1303</td><td>1.0</td><td>0.0</td><td>24.33328</td><td>79.71765</td><td>0.2322701</td><td>27.507963</td><td>0.27038383</td><td>7059.311</td><td>1.1605599</td><td>1.1629046</td><td>-0.0124924155</td><td>0.043154642</td><td>1.2139254</td><td>1.1095403</td><td>0.9262871</td><td>1.3154902</td><td>0.37931743</td><td>0.73183244</td><td>0.73175895</td><td>0.0</td><td>0.15067747</td><td>0.0</td><td>5.9213257</td><td>3.8715556</td><td>3.9011467</td><td>inf</td><td>inf</td><td>inf</td><td>1476680700.0</td><td>inf</td></tr>\n",
       "<tr><td>402701752060</td><td>402700140027</td><td>77</td><td>14</td><td>1</td><td>1035</td><td>1057</td><td>1276</td><td>1295</td><td>0.93623674</td><td>0.06376325</td><td>29.287275</td><td>77.18361</td><td>1.415392</td><td>24.189089</td><td>0.41220093</td><td>150076.28</td><td>0.45272562</td><td>0.47725362</td><td>0.10552025</td><td>0.20390779</td><td>0.57194674</td><td>0.35835588</td><td>0.5466274</td><td>0.775912</td><td>0.9417021</td><td>33.873188</td><td>33.677967</td><td>0.0</td><td>21.1062</td><td>0.0</td><td>0.07900175</td><td>0.063367695</td><td>0.068456635</td><td>inf</td><td>inf</td><td>inf</td><td>129092990000.0</td><td>inf</td></tr>\n",
       "<tr><td>402711452715</td><td>402700140027</td><td>77</td><td>52</td><td>1</td><td>1037</td><td>1047</td><td>1281</td><td>1291</td><td>1.0</td><td>0.0</td><td>28.529411</td><td>77.32223</td><td>1.0825661</td><td>26.888943</td><td>0.3440113</td><td>12484.481</td><td>0.25489274</td><td>0.2639068</td><td>0.1379953</td><td>0.12528576</td><td>0.30779433</td><td>0.2110835</td><td>0.36858097</td><td>0.6718341</td><td>0.16800097</td><td>3.5437872</td><td>3.5411267</td><td>3.5310485</td><td>2.2913308</td><td>2.252308</td><td>1.2109896</td><td>1.0806363</td><td>1.0700701</td><td>1.2380301</td><td>1.0961142</td><td>1.0901545</td><td>1122284200.0</td><td>inf</td></tr>\n",
       "<tr><td>402705403628</td><td>402700140027</td><td>77</td><td>31</td><td>1</td><td>1033</td><td>1044</td><td>1288</td><td>1300</td><td>0.55859566</td><td>0.44140434</td><td>27.807169</td><td>78.849045</td><td>1.1352979</td><td>25.896275</td><td>0.95876503</td><td>31148.545</td><td>0.13089237</td><td>0.13315472</td><td>0.06346478</td><td>-0.11448559</td><td>0.14931086</td><td>0.11474591</td><td>-0.5323108</td><td>0.63254666</td><td>0.978093</td><td>9.602822</td><td>9.580753</td><td>9.580643</td><td>4.6409564</td><td>4.5691</td><td>1.6006496</td><td>1.0566254</td><td>1.1566461</td><td>1.6222245</td><td>1.0730796</td><td>1.1623175</td><td>15005265000.0</td><td>inf</td></tr>\n",
       "</table>"
      ],
      "text/plain": [
       "<Table length=77>\n",
       "   db_id        grp_id    grp_size ...   dg2_grp       cond_num     cond_num_grp\n",
       "   int64        int64      int16   ...   float32       float32        float32   \n",
       "------------ ------------ -------- ... ----------- ---------------- ------------\n",
       "402703043805 402700140027       77 ...         inf    45743866000.0          inf\n",
       "402700317352 402700140027       77 ... 0.018010404 13259595000000.0          inf\n",
       "402712049563 402700140027       77 ...   1.0232862      681949000.0          inf\n",
       "402706865901 402700140027       77 ...   1.3511384     4708557000.0          inf\n",
       "402700768092 402700140027       77 ...  0.03334441  1170102400000.0          inf\n",
       "402714675302 402700140027       77 ...   2.9650755      403289600.0          inf\n",
       "402710835421 402700140027       77 ...    7.844453     1247935000.0          inf\n",
       "402700816955 402700140027       77 ... 0.029196452   913720300000.0          inf\n",
       "402707740766 402700140027       77 ...   1.1885781     3044695000.0          inf\n",
       "402703151103 402700140027       77 ...   1.1009666    59280410000.0          inf\n",
       "         ...          ...      ... ...         ...              ...          ...\n",
       "402714401922 402700140027       77 ...    6.784718      397110080.0          inf\n",
       "402716794206 402700140027       77 ...         inf              inf          inf\n",
       "402709305859 402700140027       77 ...         inf     1704025300.0          inf\n",
       "402715032931 402700140027       77 ...         inf      347032960.0          inf\n",
       "402709945603 402700140027       77 ...         inf     1707312800.0          inf\n",
       "402702805998 402700140027       77 ...         inf    48443486000.0          inf\n",
       "402714878767 402700140027       77 ...         inf     1476680700.0          inf\n",
       "402701752060 402700140027       77 ...         inf   129092990000.0          inf\n",
       "402711452715 402700140027       77 ...   1.0901545     1122284200.0          inf\n",
       "402705403628 402700140027       77 ...   1.1623175    15005265000.0          inf"
      ]
     },
     "execution_count": 18,
     "metadata": {},
     "output_type": "execute_result"
    }
   ],
   "source": [
    "t1[t1['grp_id']==402700140027]"
   ]
  },
  {
   "cell_type": "code",
   "execution_count": 19,
   "metadata": {
    "ExecuteTime": {
     "end_time": "2019-07-05T05:20:38.412952Z",
     "start_time": "2019-07-05T05:20:38.350498Z"
    }
   },
   "outputs": [
    {
     "data": {
      "text/html": [
       "<i>Table length=77</i>\n",
       "<table id=\"table139628588799032\" class=\"table-striped table-bordered table-condensed\">\n",
       "<thead><tr><th>db_id</th><th>grp_id</th><th>grp_size</th><th>grp_rank</th><th>visible</th><th>xmin</th><th>xmax</th><th>ymin</th><th>ymax</th><th>f_disk</th><th>f_bulge</th><th>dx</th><th>dy</th><th>z</th><th>ab_mag</th><th>ri_color</th><th>flux</th><th>sigma_m</th><th>sigma_p</th><th>e1</th><th>e2</th><th>a</th><th>b</th><th>beta</th><th>psf_sigm</th><th>purity</th><th>snr_sky</th><th>snr_iso</th><th>snr_grp</th><th>snr_isof</th><th>snr_grpf</th><th>ds</th><th>dg1</th><th>dg2</th><th>ds_grp</th><th>dg1_grp</th><th>dg2_grp</th><th>cond_num</th><th>cond_num_grp</th></tr></thead>\n",
       "<thead><tr><th>int64</th><th>int64</th><th>int16</th><th>int16</th><th>int16</th><th>int32</th><th>int32</th><th>int32</th><th>int32</th><th>float32</th><th>float32</th><th>float32</th><th>float32</th><th>float32</th><th>float32</th><th>float32</th><th>float32</th><th>float32</th><th>float32</th><th>float32</th><th>float32</th><th>float32</th><th>float32</th><th>float32</th><th>float32</th><th>float32</th><th>float32</th><th>float32</th><th>float32</th><th>float32</th><th>float32</th><th>float32</th><th>float32</th><th>float32</th><th>float32</th><th>float32</th><th>float32</th><th>float32</th><th>float32</th></tr></thead>\n",
       "<tr><td>402703043805</td><td>402700140027</td><td>77</td><td>16</td><td>1</td><td>244</td><td>257</td><td>126</td><td>140</td><td>1.0</td><td>0.0</td><td>-9.823411</td><td>-33.28849</td><td>0.6398099</td><td>24.906548</td><td>0.41611862</td><td>77504.8</td><td>0.067752324</td><td>0.08691339</td><td>0.38894072</td><td>-0.30455494</td><td>0.116417944</td><td>0.039430153</td><td>-0.33215585</td><td>0.6244349</td><td>0.9668461</td><td>26.185886</td><td>26.014427</td><td>26.010483</td><td>19.015892</td><td>18.925806</td><td>2.6691942</td><td>2.17785</td><td>1.7836818</td><td>2.67775</td><td>2.1821015</td><td>1.7892666</td><td>45744760000.0</td><td>1.5518742e+22</td></tr>\n",
       "<tr><td>402700317352</td><td>402700140027</td><td>77</td><td>5</td><td>1</td><td>202</td><td>259</td><td>94</td><td>159</td><td>0.0030702716</td><td>0.9969297</td><td>-13.751777</td><td>-34.653625</td><td>2.1285295</td><td>22.157358</td><td>-0.07343292</td><td>974999.3</td><td>0.9909661</td><td>0.99892664</td><td>-0.06497416</td><td>-0.06147545</td><td>1.0839506</td><td>0.90595806</td><td>-1.1919281</td><td>1.1699818</td><td>0.9956906</td><td>135.27013</td><td>132.44862</td><td>132.44855</td><td>47.376705</td><td>46.844437</td><td>0.036255103</td><td>0.01793605</td><td>0.017918782</td><td>0.036665007</td><td>0.018057583</td><td>0.018028274</td><td>13260001000000.0</td><td>1.5518742e+22</td></tr>\n",
       "<tr><td>402712049563</td><td>402700140027</td><td>77</td><td>61</td><td>1</td><td>242</td><td>253</td><td>97</td><td>108</td><td>1.0</td><td>0.0</td><td>-10.436659</td><td>-39.439438</td><td>1.8938355</td><td>27.073038</td><td>0.09739876</td><td>10537.373</td><td>0.47755712</td><td>0.4837769</td><td>0.008216394</td><td>-0.11345416</td><td>0.53535473</td><td>0.42599943</td><td>-0.74925107</td><td>0.783713</td><td>0.7811349</td><td>2.3094506</td><td>2.308543</td><td>2.3083398</td><td>1.2717555</td><td>1.2702594</td><td>1.2047926</td><td>0.98837847</td><td>1.0211623</td><td>1.2053119</td><td>0.9884682</td><td>1.0212557</td><td>680717440.0</td><td>1.5518742e+22</td></tr>\n",
       "<tr><td>402706865901</td><td>402700140027</td><td>77</td><td>33</td><td>1</td><td>202</td><td>213</td><td>103</td><td>113</td><td>1.0</td><td>0.0</td><td>-18.329006</td><td>-38.359795</td><td>0.8493703</td><td>26.146076</td><td>0.77157784</td><td>24746.69</td><td>0.109531835</td><td>0.12632972</td><td>0.36767495</td><td>0.08083813</td><td>0.16273776</td><td>0.07372119</td><td>0.108209826</td><td>0.6310557</td><td>0.89918107</td><td>8.1244335</td><td>8.108305</td><td>8.107244</td><td>5.7887444</td><td>5.7561674</td><td>2.4071217</td><td>2.3746867</td><td>1.3469576</td><td>2.4155009</td><td>2.37901</td><td>1.351085</td><td>4705303000.0</td><td>1.5518742e+22</td></tr>\n",
       "<tr><td>402700768092</td><td>402700140027</td><td>77</td><td>9</td><td>1</td><td>205</td><td>229</td><td>89</td><td>111</td><td>0.92059404</td><td>0.07940595</td><td>-16.548923</td><td>-39.95893</td><td>0.9846882</td><td>23.111479</td><td>0.67048836</td><td>404907.72</td><td>0.33703348</td><td>0.38603926</td><td>0.16899775</td><td>-0.32614204</td><td>0.49547234</td><td>0.22925915</td><td>-0.5463584</td><td>0.72291684</td><td>0.9965128</td><td>103.62399</td><td>101.62277</td><td>101.61891</td><td>66.105675</td><td>65.80553</td><td>0.03821307</td><td>0.02653947</td><td>0.033275656</td><td>0.03830554</td><td>0.026561169</td><td>0.03334783</td><td>1170101400000.0</td><td>1.5518742e+22</td></tr>\n",
       "<tr><td>402714675302</td><td>402700140027</td><td>77</td><td>64</td><td>1</td><td>235</td><td>244</td><td>260</td><td>269</td><td>1.0</td><td>0.0</td><td>-12.0098915</td><td>-7.0340624</td><td>4.296076</td><td>27.49894</td><td>0.47927856</td><td>7118.226</td><td>0.23881188</td><td>0.25215003</td><td>-0.0036370128</td><td>-0.23298371</td><td>0.30279267</td><td>0.1883504</td><td>-0.7932028</td><td>0.66716146</td><td>0.44999984</td><td>2.0485275</td><td>2.047615</td><td>2.0469544</td><td>1.276453</td><td>0.52637357</td><td>2.4807491</td><td>1.9097728</td><td>2.3202286</td><td>3.1176853</td><td>2.5167136</td><td>2.9270117</td><td>407010750.0</td><td>1.5518742e+22</td></tr>\n",
       "<tr><td>402710835421</td><td>402700140027</td><td>77</td><td>48</td><td>1</td><td>244</td><td>252</td><td>265</td><td>274</td><td>1.0</td><td>0.0</td><td>-10.303192</td><td>-6.083702</td><td>2.158897</td><td>26.877106</td><td>0.017402649</td><td>12621.335</td><td>0.08908094</td><td>0.10780932</td><td>0.1234404</td><td>-0.41629133</td><td>0.14182803</td><td>0.05595095</td><td>-0.64126575</td><td>0.62764835</td><td>0.85504186</td><td>4.199839</td><td>4.195436</td><td>4.194965</td><td>2.9861715</td><td>2.967447</td><td>8.1247015</td><td>3.9948843</td><td>7.8697567</td><td>8.13787</td><td>3.999007</td><td>7.8743114</td><td>1251226000.0</td><td>1.5518742e+22</td></tr>\n",
       "<tr><td>402700816955</td><td>402700140027</td><td>77</td><td>10</td><td>1</td><td>236</td><td>264</td><td>266</td><td>303</td><td>0.86107886</td><td>0.13892116</td><td>-9.883493</td><td>-2.9916515</td><td>1.280879</td><td>23.135595</td><td>0.50860786</td><td>396013.03</td><td>0.72288203</td><td>0.871628</td><td>-0.16890927</td><td>0.39551574</td><td>1.1450833</td><td>0.4563497</td><td>0.98720556</td><td>1.000092</td><td>0.9799146</td><td>69.312355</td><td>68.64918</td><td>68.64681</td><td>40.583645</td><td>37.84807</td><td>0.03586385</td><td>0.02178415</td><td>0.029102735</td><td>0.03836765</td><td>0.023208601</td><td>0.029605476</td><td>913692500000.0</td><td>1.5518742e+22</td></tr>\n",
       "<tr><td>402707740766</td><td>402700140027</td><td>77</td><td>39</td><td>1</td><td>232</td><td>244</td><td>263</td><td>275</td><td>1.0</td><td>0.0</td><td>-12.332176</td><td>-6.063532</td><td>1.5344297</td><td>26.26904</td><td>0.039274216</td><td>22096.93</td><td>0.27646264</td><td>0.276996</td><td>-0.025326122</td><td>0.03585917</td><td>0.2888781</td><td>0.26458076</td><td>1.0928577</td><td>0.6775608</td><td>0.34364513</td><td>6.1361666</td><td>6.128404</td><td>6.118032</td><td>4.0179915</td><td>1.0018157</td><td>0.5870366</td><td>0.5450524</td><td>0.5474368</td><td>1.1370167</td><td>1.326056</td><td>1.1536611</td><td>3038891800.0</td><td>1.5518742e+22</td></tr>\n",
       "<tr><td>402703151103</td><td>402700140027</td><td>77</td><td>15</td><td>1</td><td>227</td><td>241</td><td>262</td><td>276</td><td>0.9359856</td><td>0.06401439</td><td>-13.117934</td><td>-6.118249</td><td>1.3181</td><td>24.821213</td><td>0.476408</td><td>83842.164</td><td>0.15037444</td><td>0.2037975</td><td>-0.007962364</td><td>0.54305065</td><td>0.2763542</td><td>0.08182425</td><td>0.7927288</td><td>0.65000826</td><td>0.90827525</td><td>26.217924</td><td>26.059147</td><td>26.048347</td><td>17.699167</td><td>4.363949</td><td>0.7205132</td><td>0.21668349</td><td>0.71068484</td><td>1.1126089</td><td>0.32501626</td><td>1.0849886</td><td>59274555000.0</td><td>1.5518742e+22</td></tr>\n",
       "<tr><td>...</td><td>...</td><td>...</td><td>...</td><td>...</td><td>...</td><td>...</td><td>...</td><td>...</td><td>...</td><td>...</td><td>...</td><td>...</td><td>...</td><td>...</td><td>...</td><td>...</td><td>...</td><td>...</td><td>...</td><td>...</td><td>...</td><td>...</td><td>...</td><td>...</td><td>...</td><td>...</td><td>...</td><td>...</td><td>...</td><td>...</td><td>...</td><td>...</td><td>...</td><td>...</td><td>...</td><td>...</td><td>...</td><td>...</td></tr>\n",
       "<tr><td>402714401922</td><td>402700140027</td><td>77</td><td>62</td><td>1</td><td>308</td><td>316</td><td>283</td><td>290</td><td>1.0</td><td>0.0</td><td>2.410135</td><td>-2.6006927</td><td>2.019486</td><td>27.4912</td><td>-0.072021484</td><td>7169.152</td><td>0.13309678</td><td>0.13369046</td><td>0.06666194</td><td>0.0025948668</td><td>0.14229299</td><td>0.124494925</td><td>0.01945306</td><td>0.63267463</td><td>0.43441865</td><td>2.309401</td><td>2.308105</td><td>2.306771</td><td>1.5612603</td><td>0.24782111</td><td>3.9569962</td><td>3.914094</td><td>3.7570465</td><td>6.5623217</td><td>6.9238663</td><td>7.150551</td><td>397843170.0</td><td>1.5518742e+22</td></tr>\n",
       "<tr><td>402716794206</td><td>402700140027</td><td>77</td><td>76</td><td>1</td><td>315</td><td>316</td><td>287</td><td>289</td><td>1.0</td><td>0.0</td><td>3.2877302</td><td>-2.29535</td><td>0.2663456</td><td>27.98132</td><td>-0.13887024</td><td>4564.78</td><td>1.5231785</td><td>1.5246503</td><td>0.0066337814</td><td>0.030363133</td><td>1.5712769</td><td>1.4765522</td><td>0.67784745</td><td>1.6441163</td><td>0.17695431</td><td>0.10129824</td><td>0.0</td><td>0.101264216</td><td>0.0</td><td>1.485257e-05</td><td>inf</td><td>inf</td><td>inf</td><td>60535.137</td><td>119577.7</td><td>3907567.0</td><td>inf</td><td>1.5518742e+22</td></tr>\n",
       "<tr><td>402709305859</td><td>402700140027</td><td>77</td><td>51</td><td>1</td><td>318</td><td>332</td><td>287</td><td>298</td><td>1.0</td><td>0.0</td><td>5.013736</td><td>-1.3838282</td><td>0.7754235</td><td>26.599499</td><td>1.1088066</td><td>16298.517</td><td>0.4488367</td><td>0.4799013</td><td>0.21720316</td><td>-0.14015849</td><td>0.5847346</td><td>0.34452274</td><td>-0.28652763</td><td>0.7761865</td><td>0.13646463</td><td>3.7106302</td><td>3.7082474</td><td>3.700032</td><td>2.2161548</td><td>1.3629934</td><td>0.76948726</td><td>0.6483219</td><td>0.60629857</td><td>1.0275742</td><td>0.9370409</td><td>0.7135703</td><td>1702762900.0</td><td>1.5518742e+22</td></tr>\n",
       "<tr><td>402715032931</td><td>402700140027</td><td>77</td><td>66</td><td>1</td><td>252</td><td>261</td><td>135</td><td>144</td><td>1.0</td><td>0.0</td><td>-8.613232</td><td>-31.972383</td><td>1.8246233</td><td>27.512053</td><td>-0.062072754</td><td>7032.7725</td><td>0.28922158</td><td>0.28922698</td><td>0.004025715</td><td>-0.0015818368</td><td>0.29047528</td><td>0.28797328</td><td>-0.18719971</td><td>0.68268794</td><td>0.86092204</td><td>1.9120923</td><td>1.9113362</td><td>1.9112655</td><td>1.133881</td><td>1.1321125</td><td>2.012827</td><td>1.7857672</td><td>1.8173379</td><td>2.0153756</td><td>1.7860852</td><td>1.819848</td><td>346447550.0</td><td>1.5518742e+22</td></tr>\n",
       "<tr><td>402709945603</td><td>402700140027</td><td>77</td><td>46</td><td>1</td><td>283</td><td>292</td><td>150</td><td>160</td><td>1.0</td><td>0.0</td><td>-2.420715</td><td>-28.901577</td><td>1.4444602</td><td>26.707937</td><td>0.15546417</td><td>14749.344</td><td>0.08983946</td><td>0.12132233</td><td>0.45414034</td><td>-0.29233453</td><td>0.16440196</td><td>0.04909387</td><td>-0.28597024</td><td>0.6300313</td><td>0.73022527</td><td>4.8953485</td><td>4.889397</td><td>4.8880124</td><td>3.4920826</td><td>2.7961595</td><td>10.087162</td><td>8.619381</td><td>5.9057097</td><td>11.366107</td><td>9.51701</td><td>6.692281</td><td>1711658600.0</td><td>1.5518742e+22</td></tr>\n",
       "<tr><td>402702805998</td><td>402700140027</td><td>77</td><td>17</td><td>1</td><td>270</td><td>286</td><td>155</td><td>170</td><td>1.0</td><td>0.0</td><td>-4.3690186</td><td>-27.379477</td><td>0.5141883</td><td>24.845264</td><td>0.50068855</td><td>82005.28</td><td>0.29124328</td><td>0.33535108</td><td>0.07140875</td><td>-0.3674132</td><td>0.43162605</td><td>0.19651882</td><td>-0.68941706</td><td>0.6995223</td><td>0.99911517</td><td>22.29085</td><td>22.191164</td><td>22.19116</td><td>14.804297</td><td>14.789737</td><td>0.20266074</td><td>0.12694564</td><td>0.19124651</td><td>0.20280442</td><td>0.12697569</td><td>0.191362</td><td>48442160000.0</td><td>1.5518742e+22</td></tr>\n",
       "<tr><td>402714878767</td><td>402700140027</td><td>77</td><td>73</td><td>1</td><td>265</td><td>275</td><td>168</td><td>178</td><td>1.0</td><td>0.0</td><td>-5.873591</td><td>-25.318146</td><td>0.2322701</td><td>27.507963</td><td>0.27038383</td><td>7059.311</td><td>1.1605599</td><td>1.1629046</td><td>-0.0124924155</td><td>0.043154642</td><td>1.2139254</td><td>1.1095403</td><td>0.9262871</td><td>1.3154902</td><td>0.38341022</td><td>0.726753</td><td>0.7266796</td><td>0.7265685</td><td>0.14563085</td><td>0.14552714</td><td>6.0983276</td><td>3.9233582</td><td>4.0574846</td><td>6.1013236</td><td>3.9244006</td><td>4.0596933</td><td>1574381000.0</td><td>1.5518742e+22</td></tr>\n",
       "<tr><td>402701752060</td><td>402700140027</td><td>77</td><td>14</td><td>1</td><td>284</td><td>306</td><td>151</td><td>170</td><td>0.93623674</td><td>0.06376325</td><td>-0.9195772</td><td>-27.852188</td><td>1.415392</td><td>24.189089</td><td>0.41220093</td><td>150076.28</td><td>0.45272562</td><td>0.47725362</td><td>0.10552025</td><td>0.20390779</td><td>0.57194674</td><td>0.35835588</td><td>0.5466274</td><td>0.775912</td><td>0.9418605</td><td>33.87304</td><td>33.677814</td><td>33.66942</td><td>21.103842</td><td>4.6354933</td><td>0.07901377</td><td>0.063371375</td><td>0.068464294</td><td>0.1155982</td><td>0.13303532</td><td>0.12370815</td><td>129119380000.0</td><td>1.5518742e+22</td></tr>\n",
       "<tr><td>402711452715</td><td>402700140027</td><td>77</td><td>52</td><td>1</td><td>286</td><td>296</td><td>156</td><td>166</td><td>1.0</td><td>0.0</td><td>-1.6774431</td><td>-27.713572</td><td>1.0825661</td><td>26.888943</td><td>0.3440113</td><td>12484.481</td><td>0.25489274</td><td>0.2639068</td><td>0.1379953</td><td>0.12528576</td><td>0.30779433</td><td>0.2110835</td><td>0.36858097</td><td>0.6718341</td><td>0.16828023</td><td>3.5429707</td><td>3.5403097</td><td>3.5302312</td><td>2.2831721</td><td>0.3615444</td><td>1.2160128</td><td>1.0837489</td><td>1.0735341</td><td>2.4806373</td><td>1.5184474</td><td>1.7641227</td><td>1128681500.0</td><td>1.5518742e+22</td></tr>\n",
       "<tr><td>402705403628</td><td>402700140027</td><td>77</td><td>31</td><td>1</td><td>282</td><td>293</td><td>163</td><td>174</td><td>0.55859566</td><td>0.44140434</td><td>-2.399688</td><td>-26.186752</td><td>1.1352979</td><td>25.896275</td><td>0.95876503</td><td>31148.545</td><td>0.13089237</td><td>0.13315472</td><td>0.06346478</td><td>-0.11448559</td><td>0.14931086</td><td>0.11474591</td><td>-0.5323108</td><td>0.63254666</td><td>0.97928566</td><td>9.602161</td><td>9.580091</td><td>9.58</td><td>4.6227818</td><td>4.5110598</td><td>1.6088849</td><td>1.0604944</td><td>1.1614947</td><td>1.6405714</td><td>1.0802813</td><td>1.1699163</td><td>15119454000.0</td><td>1.5518742e+22</td></tr>\n",
       "</table>"
      ],
      "text/plain": [
       "<Table length=77>\n",
       "   db_id        grp_id    grp_size ...     cond_num      cond_num_grp\n",
       "   int64        int64      int16   ...     float32         float32   \n",
       "------------ ------------ -------- ... ---------------- -------------\n",
       "402703043805 402700140027       77 ...    45744760000.0 1.5518742e+22\n",
       "402700317352 402700140027       77 ... 13260001000000.0 1.5518742e+22\n",
       "402712049563 402700140027       77 ...      680717440.0 1.5518742e+22\n",
       "402706865901 402700140027       77 ...     4705303000.0 1.5518742e+22\n",
       "402700768092 402700140027       77 ...  1170101400000.0 1.5518742e+22\n",
       "402714675302 402700140027       77 ...      407010750.0 1.5518742e+22\n",
       "402710835421 402700140027       77 ...     1251226000.0 1.5518742e+22\n",
       "402700816955 402700140027       77 ...   913692500000.0 1.5518742e+22\n",
       "402707740766 402700140027       77 ...     3038891800.0 1.5518742e+22\n",
       "402703151103 402700140027       77 ...    59274555000.0 1.5518742e+22\n",
       "         ...          ...      ... ...              ...           ...\n",
       "402714401922 402700140027       77 ...      397843170.0 1.5518742e+22\n",
       "402716794206 402700140027       77 ...              inf 1.5518742e+22\n",
       "402709305859 402700140027       77 ...     1702762900.0 1.5518742e+22\n",
       "402715032931 402700140027       77 ...      346447550.0 1.5518742e+22\n",
       "402709945603 402700140027       77 ...     1711658600.0 1.5518742e+22\n",
       "402702805998 402700140027       77 ...    48442160000.0 1.5518742e+22\n",
       "402714878767 402700140027       77 ...     1574381000.0 1.5518742e+22\n",
       "402701752060 402700140027       77 ...   129119380000.0 1.5518742e+22\n",
       "402711452715 402700140027       77 ...     1128681500.0 1.5518742e+22\n",
       "402705403628 402700140027       77 ...    15119454000.0 1.5518742e+22"
      ]
     },
     "execution_count": 19,
     "metadata": {},
     "output_type": "execute_result"
    }
   ],
   "source": [
    "t2[t2['grp_id']==402700140027]"
   ]
  },
  {
   "cell_type": "code",
   "execution_count": null,
   "metadata": {},
   "outputs": [],
   "source": []
  }
 ],
 "metadata": {
  "kernelspec": {
   "display_name": "igalsim",
   "language": "python",
   "name": "igalsim"
  },
  "language_info": {
   "codemirror_mode": {
    "name": "ipython",
    "version": 3
   },
   "file_extension": ".py",
   "mimetype": "text/x-python",
   "name": "python",
   "nbconvert_exporter": "python",
   "pygments_lexer": "ipython3",
   "version": "3.7.0"
  },
  "toc": {
   "base_numbering": 1,
   "nav_menu": {},
   "number_sections": true,
   "sideBar": true,
   "skip_h1_title": false,
   "title_cell": "Table of Contents",
   "title_sidebar": "Contents",
   "toc_cell": false,
   "toc_position": {},
   "toc_section_display": true,
   "toc_window_display": true
  }
 },
 "nbformat": 4,
 "nbformat_minor": 2
}
