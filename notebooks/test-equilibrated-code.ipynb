{
 "cells": [
  {
   "cell_type": "markdown",
   "metadata": {},
   "source": [
    "# Preamble"
   ]
  },
  {
   "cell_type": "code",
   "execution_count": 43,
   "metadata": {
    "ExecuteTime": {
     "end_time": "2019-08-18T19:02:50.562438Z",
     "start_time": "2019-08-18T19:02:50.352762Z"
    }
   },
   "outputs": [],
   "source": [
    "import os\n",
    "from importlib import reload\n",
    "os.chdir('/nfs/slac/g/ki/ki19/deuce/AEGIS/ismael/WLD')\n",
    "\n",
    "%matplotlib inline \n",
    "\n",
    "import mycode\n",
    "reload(mycode);"
   ]
  },
  {
   "cell_type": "code",
   "execution_count": 44,
   "metadata": {
    "ExecuteTime": {
     "end_time": "2019-08-18T19:02:50.689468Z",
     "start_time": "2019-08-18T19:02:50.574119Z"
    }
   },
   "outputs": [],
   "source": [
    "from mycode import money\n",
    "from mycode import preamble\n",
    "from mycode import weights \n",
    "from mycode import maps \n",
    "\n",
    "from tqdm import tqdm \n",
    "\n",
    "%run mycode/preamble.py\n",
    "\n",
    "reload(weights)\n",
    "reload(preamble)\n",
    "reload(maps)\n",
    "reload(money);"
   ]
  },
  {
   "cell_type": "code",
   "execution_count": 45,
   "metadata": {
    "ExecuteTime": {
     "end_time": "2019-08-18T19:02:50.908056Z",
     "start_time": "2019-08-18T19:02:50.739194Z"
    }
   },
   "outputs": [],
   "source": [
    "import astroML\n",
    "from astroML.plotting import scatter_contour\n",
    "\n",
    "import numpy as np "
   ]
  },
  {
   "cell_type": "code",
   "execution_count": 46,
   "metadata": {
    "ExecuteTime": {
     "end_time": "2019-08-18T19:02:51.262374Z",
     "start_time": "2019-08-18T19:02:50.918225Z"
    }
   },
   "outputs": [],
   "source": [
    "from astropy.table import Table"
   ]
  },
  {
   "cell_type": "markdown",
   "metadata": {},
   "source": [
    "# Simulate patch with new code"
   ]
  },
  {
   "cell_type": "code",
   "execution_count": 85,
   "metadata": {
    "ExecuteTime": {
     "end_time": "2019-08-18T17:17:28.014036Z",
     "start_time": "2019-08-18T17:17:26.630010Z"
    },
    "code_folding": [
     0,
     6
    ]
   },
   "outputs": [
    {
     "data": {
      "text/plain": [
       "CompletedProcess(args='bsub -W 00:50 -o output1.txt -r \"./WeakLensingDeblending/simulate.py                 --catalog-name params/OneDegSq.fits --image-width 1800 --image-height 1800               --ra-center -0.05 --dec-center -0.45               --survey-name LSST --filter-band i --output-name data/idemo1_2                --verbose --no-stamps --no-hsm --no-agn --calculate-bias\"', returncode=0)"
      ]
     },
     "execution_count": 85,
     "metadata": {},
     "output_type": "execute_result"
    }
   ],
   "source": [
    "# subprocess.run('bsub -W 00:50 -o output1.txt -r \"./WeakLensingDeblending/simulate.py \\\n",
    "#                 --catalog-name params/OneDegSq.fits --image-width 1800 --image-height 1800\\\n",
    "#                --ra-center -0.05 --dec-center -0.45\\\n",
    "#                --survey-name LSST --filter-band i --output-name data/idemo1 \\\n",
    "#                --verbose --no-stamps --no-hsm --no-agn --calculate-bias\"',shell=True)\n",
    "\n",
    "# subprocess.run('bsub -W 00:50 -o output1.txt -r \"./WeakLensingDeblending/simulate.py \\\n",
    "#                 --catalog-name params/OneDegSq.fits --image-width 1800 --image-height 1800\\\n",
    "#                --ra-center -0.05 --dec-center -0.45\\\n",
    "#                --survey-name LSST --filter-band i --output-name data/idemo1_2 \\\n",
    "#                --verbose --no-stamps --no-hsm --no-agn --calculate-bias\"',shell=True)"
   ]
  },
  {
   "cell_type": "code",
   "execution_count": 86,
   "metadata": {
    "ExecuteTime": {
     "end_time": "2019-08-18T17:18:55.108501Z",
     "start_time": "2019-08-18T17:18:54.065465Z"
    },
    "code_folding": []
   },
   "outputs": [
    {
     "data": {
      "text/plain": [
       "CompletedProcess(args='bsub -W 00:50 -o output2.txt -r \"./WeakLensingDeblending/simulate.py                 --catalog-name params/OneDegSq.fits --image-width 1800 --image-height 1800               --ra-center -0.05 --dec-center -0.45               --survey-name LSST --filter-band i --output-name data/idemo2_2                --verbose --no-stamps --no-hsm --no-agn --calculate-bias --equilibrate\"', returncode=0)"
      ]
     },
     "execution_count": 86,
     "metadata": {},
     "output_type": "execute_result"
    }
   ],
   "source": [
    "# subprocess.run('bsub -W 00:50 -o output2.txt -r \"./WeakLensingDeblending/simulate.py \\\n",
    "#                 --catalog-name params/OneDegSq.fits --image-width 1800 --image-height 1800\\\n",
    "#                --ra-center -0.05 --dec-center -0.45\\\n",
    "#                --survey-name LSST --filter-band i --output-name data/idemo2 \\\n",
    "#                --verbose --no-stamps --no-hsm --no-agn --calculate-bias --equilibrate\"',shell=True)\n",
    "\n",
    "# subprocess.run('bsub -W 00:50 -o output2.txt -r \"./WeakLensingDeblending/simulate.py \\\n",
    "#                 --catalog-name params/OneDegSq.fits --image-width 1800 --image-height 1800\\\n",
    "#                --ra-center -0.05 --dec-center -0.45\\\n",
    "#                --survey-name LSST --filter-band i --output-name data/idemo2_2 \\\n",
    "#                --verbose --no-stamps --no-hsm --no-agn --calculate-bias --equilibrate\"',shell=True)"
   ]
  },
  {
   "cell_type": "code",
   "execution_count": 42,
   "metadata": {
    "ExecuteTime": {
     "end_time": "2019-08-18T18:53:14.490824Z",
     "start_time": "2019-08-18T18:53:13.517110Z"
    },
    "code_folding": [
     0
    ]
   },
   "outputs": [
    {
     "data": {
      "text/plain": [
       "CompletedProcess(args='bsub -W 00:50 -o output2.txt -r \"./WeakLensingDeblending/simulate.py                 --catalog-name params/OneDegSq.fits --image-width 1800 --image-height 1800               --ra-center -0.05 --dec-center -0.45               --survey-name LSST --filter-band i --output-name data/nidemo2                --verbose --no-stamps --no-hsm --no-agn --equilibrate\"', returncode=0)"
      ]
     },
     "execution_count": 42,
     "metadata": {},
     "output_type": "execute_result"
    }
   ],
   "source": [
    "# subprocess.run('bsub -W 00:50 -o output1.txt -r \"./WeakLensingDeblending/simulate.py \\\n",
    "#                 --catalog-name params/OneDegSq.fits --image-width 1800 --image-height 1800\\\n",
    "#                --ra-center -0.05 --dec-center -0.45\\\n",
    "#                --survey-name LSST --filter-band i --output-name data/nidemo1 \\\n",
    "#                --verbose --no-stamps --no-hsm --no-agn\"',shell=True)\n",
    "\n",
    "# subprocess.run('bsub -W 00:50 -o output2.txt -r \"./WeakLensingDeblending/simulate.py \\\n",
    "#                 --catalog-name params/OneDegSq.fits --image-width 1800 --image-height 1800\\\n",
    "#                --ra-center -0.05 --dec-center -0.45\\\n",
    "#                --survey-name LSST --filter-band i --output-name data/nidemo2 \\\n",
    "#                --verbose --no-stamps --no-hsm --no-agn --equilibrate\"',shell=True)"
   ]
  },
  {
   "cell_type": "markdown",
   "metadata": {},
   "source": [
    "# Comparison of the two patches"
   ]
  },
  {
   "cell_type": "code",
   "execution_count": 47,
   "metadata": {
    "ExecuteTime": {
     "end_time": "2019-08-18T19:02:54.560209Z",
     "start_time": "2019-08-18T19:02:53.770419Z"
    }
   },
   "outputs": [],
   "source": [
    "cat1 = Table.read(\"data/idemo1.fits\")\n",
    "cat2 = Table.read(\"data/idemo2.fits\")\n",
    "\n",
    "cat12 = Table.read(\"data/idemo1_2.fits\")\n",
    "cat22 = Table.read(\"data/idemo2_2.fits\")\n",
    "\n",
    "ncat1 = Table.read(\"data/nidemo1.fits\")\n",
    "ncat2 = Table.read(\"data/nidemo2.fits\")"
   ]
  },
  {
   "cell_type": "code",
   "execution_count": 48,
   "metadata": {
    "ExecuteTime": {
     "end_time": "2019-08-18T19:02:56.038057Z",
     "start_time": "2019-08-18T19:02:56.026254Z"
    }
   },
   "outputs": [],
   "source": [
    "assert np.all(cat1['db_id']==cat2['db_id']), \"the galaxies in both catalogues are not the same!\""
   ]
  },
  {
   "cell_type": "markdown",
   "metadata": {},
   "source": [
    "## number of dropped objects"
   ]
  },
  {
   "cell_type": "code",
   "execution_count": 49,
   "metadata": {
    "ExecuteTime": {
     "end_time": "2019-08-18T19:03:08.734857Z",
     "start_time": "2019-08-18T19:03:08.677218Z"
    }
   },
   "outputs": [
    {
     "name": "stdout",
     "output_type": "stream",
     "text": [
      "28\n",
      "28\n",
      "\n",
      "28\n",
      "28\n",
      "\n",
      "28\n",
      "28\n",
      "\n"
     ]
    }
   ],
   "source": [
    "print(len(cat1[cat1['snr_grpf'] == 0 ]))\n",
    "print(len(cat2[cat2['snr_grpf'] == 0 ]))\n",
    "print()\n",
    "\n",
    "#extra catalogues to check any stochasticity. \n",
    "print(len(cat12[cat12['snr_grpf'] == 0 ]))\n",
    "print(len(cat22[cat22['snr_grpf'] == 0 ]))\n",
    "print()\n",
    "\n",
    "#extra catalogues to check any stochasticity. \n",
    "print(len(ncat1[ncat1['snr_grpf'] == 0 ]))\n",
    "print(len(ncat2[ncat2['snr_grpf'] == 0 ]))\n",
    "print()"
   ]
  },
  {
   "cell_type": "markdown",
   "metadata": {},
   "source": [
    "## investigate whether there is a difference between \"same\" catalgoues"
   ]
  },
  {
   "cell_type": "code",
   "execution_count": 71,
   "metadata": {
    "ExecuteTime": {
     "end_time": "2019-08-18T19:17:57.300653Z",
     "start_time": "2019-08-18T19:17:57.178214Z"
    }
   },
   "outputs": [],
   "source": [
    "for name in cat1.colnames:\n",
    "    if not np.allclose(cat1[name],cat12[name], rtol=1e-8, atol=1e-8):\n",
    "        print(f'difference in {name}')"
   ]
  },
  {
   "cell_type": "code",
   "execution_count": 73,
   "metadata": {
    "ExecuteTime": {
     "end_time": "2019-08-18T19:18:23.279561Z",
     "start_time": "2019-08-18T19:18:23.157498Z"
    }
   },
   "outputs": [],
   "source": [
    "for name in cat2.colnames:\n",
    "    if not np.allclose(cat2[name],cat22[name],  rtol=1e-8, atol=1e-8):\n",
    "        print(f'difference in {name}')"
   ]
  },
  {
   "cell_type": "code",
   "execution_count": 74,
   "metadata": {
    "ExecuteTime": {
     "end_time": "2019-08-18T19:18:23.551342Z",
     "start_time": "2019-08-18T19:18:23.454649Z"
    }
   },
   "outputs": [],
   "source": [
    "for name in ncat1.colnames:\n",
    "    if not np.allclose(ncat1[name],cat1[name],  rtol=1e-8, atol=1e-8):\n",
    "        print(f'difference in {name}')"
   ]
  },
  {
   "cell_type": "code",
   "execution_count": 75,
   "metadata": {
    "ExecuteTime": {
     "end_time": "2019-08-18T19:18:23.838420Z",
     "start_time": "2019-08-18T19:18:23.584620Z"
    }
   },
   "outputs": [],
   "source": [
    "for name in ncat2.colnames:\n",
    "    if not np.allclose(ncat2[name],cat2[name],  rtol=1e-8, atol=1e-8):\n",
    "        print(f'difference in {name}')"
   ]
  },
  {
   "cell_type": "code",
   "execution_count": 72,
   "metadata": {
    "ExecuteTime": {
     "end_time": "2019-08-18T19:18:06.621040Z",
     "start_time": "2019-08-18T19:18:06.481515Z"
    }
   },
   "outputs": [
    {
     "name": "stdout",
     "output_type": "stream",
     "text": [
      "difference in cond_num\n",
      "difference in cond_num_grp\n",
      "difference in bias_f_grp\n",
      "difference in bias_s_grp\n",
      "difference in bias_g1_grp\n",
      "difference in bias_g2_grp\n",
      "difference in bias_x_grp\n",
      "difference in bias_y_grp\n"
     ]
    }
   ],
   "source": [
    "for name in cat1.colnames:\n",
    "    if not np.allclose(cat1[name],cat2[name],  rtol=1e-8, atol=1e-8):\n",
    "        print(f'difference in {name}')"
   ]
  },
  {
   "cell_type": "code",
   "execution_count": 76,
   "metadata": {
    "ExecuteTime": {
     "end_time": "2019-08-18T19:18:27.571433Z",
     "start_time": "2019-08-18T19:18:27.471580Z"
    }
   },
   "outputs": [
    {
     "name": "stdout",
     "output_type": "stream",
     "text": [
      "difference in cond_num\n",
      "difference in cond_num_grp\n"
     ]
    }
   ],
   "source": [
    "for name in ncat1.colnames:\n",
    "    if not np.allclose(ncat1[name], ncat2[name],  rtol=1e-8, atol=1e-8):\n",
    "        print(f'difference in {name}')"
   ]
  },
  {
   "cell_type": "markdown",
   "metadata": {},
   "source": [
    "## histogram of condition numbers"
   ]
  },
  {
   "cell_type": "code",
   "execution_count": 14,
   "metadata": {
    "ExecuteTime": {
     "end_time": "2019-08-18T18:32:46.731567Z",
     "start_time": "2019-08-18T18:32:45.244016Z"
    }
   },
   "outputs": [
    {
     "name": "stdout",
     "output_type": "stream",
     "text": [
      "16.083677\n",
      "12.451305\n",
      "8780 8780\n"
     ]
    },
    {
     "data": {
      "text/plain": [
       "<matplotlib.legend.Legend at 0x7f362f4f6dd8>"
      ]
     },
     "execution_count": 14,
     "metadata": {},
     "output_type": "execute_result"
    },
    {
     "data": {
      "image/png": "[encoded data removed]",
      "text/plain": [
       "<Figure size 432x288 with 1 Axes>"
      ]
     },
     "metadata": {
      "needs_background": "light"
     },
     "output_type": "display_data"
    }
   ],
   "source": [
    "conds1 = np.log10(cat1[cat1['cond_num'] < np.inf]['cond_num'])\n",
    "plt.hist(conds1, bins=100, color='r', label='cat1')\n",
    "print(max(conds1[conds1 < np.inf]))\n",
    "\n",
    "conds2 = np.log10((cat2['cond_num']))\n",
    "plt.hist(conds2, bins=100, color='b', label='cat2')\n",
    "print(max(conds2))\n",
    "\n",
    "print(len(conds1), len(conds2))\n",
    "plt.legend()"
   ]
  },
  {
   "cell_type": "code",
   "execution_count": 15,
   "metadata": {
    "ExecuteTime": {
     "end_time": "2019-08-18T18:32:51.764231Z",
     "start_time": "2019-08-18T18:32:50.164620Z"
    }
   },
   "outputs": [
    {
     "name": "stdout",
     "output_type": "stream",
     "text": [
      "17.956139\n",
      "12.435034\n"
     ]
    },
    {
     "data": {
      "image/png": "[encoded data removed]",
      "text/plain": [
       "<Figure size 432x288 with 1 Axes>"
      ]
     },
     "metadata": {
      "needs_background": "light"
     },
     "output_type": "display_data"
    }
   ],
   "source": [
    "grp_conds1 = np.log10(np.array(list(set(cat1['cond_num_grp']))))\n",
    "grp_conds1 = grp_conds1[grp_conds1 < np.inf]\n",
    "plt.hist(grp_conds1, bins=100, color='r')\n",
    "print(max(grp_conds1))\n",
    "\n",
    "grp_conds2 = np.log10(np.array(list(set(cat2['cond_num_grp']))))\n",
    "plt.hist(grp_conds2, bins=100, color='b')\n",
    "print(max(grp_conds2))"
   ]
  },
  {
   "cell_type": "code",
   "execution_count": 20,
   "metadata": {
    "ExecuteTime": {
     "end_time": "2019-08-18T18:34:42.012736Z",
     "start_time": "2019-08-18T18:34:41.999240Z"
    }
   },
   "outputs": [],
   "source": [
    "assert np.all((cat1['snr_grpf'] == 0) == (cat2['snr_grpf']==0))\n",
    "ninfs = ~(cat1['snr_grpf'] == 0)"
   ]
  },
  {
   "cell_type": "code",
   "execution_count": 24,
   "metadata": {
    "ExecuteTime": {
     "end_time": "2019-08-18T18:35:30.862405Z",
     "start_time": "2019-08-18T18:35:29.960449Z"
    }
   },
   "outputs": [
    {
     "data": {
      "text/plain": [
       "(0, 200)"
      ]
     },
     "execution_count": 24,
     "metadata": {},
     "output_type": "execute_result"
    },
    {
     "data": {
      "image/png": "[encoded data removed]",
      "text/plain": [
       "<Figure size 432x288 with 1 Axes>"
      ]
     },
     "metadata": {
      "needs_background": "light"
     },
     "output_type": "display_data"
    }
   ],
   "source": [
    "plt.scatter(cat1['dg1_grp'][ninfs], cat2['dg1_grp'][ninfs]- cat1['dg1_grp'][ninfs])\n",
    "plt.plot([0,1000], [0,0], c='r')\n",
    "plt.ylim(-.005, 0.005)\n",
    "plt.xlim(0,200)"
   ]
  },
  {
   "cell_type": "code",
   "execution_count": 25,
   "metadata": {
    "ExecuteTime": {
     "end_time": "2019-08-18T18:35:35.141218Z",
     "start_time": "2019-08-18T18:35:34.241959Z"
    }
   },
   "outputs": [
    {
     "data": {
      "text/plain": [
       "(-0.005, 0.005)"
      ]
     },
     "execution_count": 25,
     "metadata": {},
     "output_type": "execute_result"
    },
    {
     "data": {
      "image/png": "[encoded data removed]",
      "text/plain": [
       "<Figure size 432x288 with 1 Axes>"
      ]
     },
     "metadata": {
      "needs_background": "light"
     },
     "output_type": "display_data"
    }
   ],
   "source": [
    "plt.scatter(cat1['snr_grpf'], cat2['snr_grpf']- cat1['snr_grpf'])\n",
    "plt.plot([0,4000], [0,0], c='r')\n",
    "plt.ylim(-.005, 0.005)"
   ]
  },
  {
   "cell_type": "code",
   "execution_count": 40,
   "metadata": {
    "ExecuteTime": {
     "end_time": "2019-08-18T18:50:19.602319Z",
     "start_time": "2019-08-18T18:50:19.570639Z"
    }
   },
   "outputs": [
    {
     "name": "stdout",
     "output_type": "stream",
     "text": [
      "8752\n",
      "0.0\n",
      "0.0\n",
      "0.0\n"
     ]
    }
   ],
   "source": [
    "print(np.count_nonzero(ninfs))\n",
    "print(np.max( np.absolute(cat1['snr_grpf'][ninfs] -  cat2['snr_grpf'][ninfs])))\n",
    "print(np.max( np.absolute(cat1['dg1_grp'][ninfs] -  cat2['dg1_grp'][ninfs])))\n",
    "print(np.max( np.absolute(cat1['ds_grp'][ninfs] -  cat2['ds_grp'][ninfs])))"
   ]
  },
  {
   "cell_type": "code",
   "execution_count": 41,
   "metadata": {
    "ExecuteTime": {
     "end_time": "2019-08-18T18:50:21.697907Z",
     "start_time": "2019-08-18T18:50:21.673408Z"
    },
    "scrolled": true
   },
   "outputs": [],
   "source": [
    "assert np.all(cat1[cat1['snr_grpf']==0]['db_id'] == cat2[cat2['snr_grpf']==0]['db_id']),\"all galaxies dropped are exactly the same\""
   ]
  },
  {
   "cell_type": "markdown",
   "metadata": {},
   "source": [
    "# Compare bias"
   ]
  },
  {
   "cell_type": "code",
   "execution_count": 77,
   "metadata": {
    "ExecuteTime": {
     "end_time": "2019-08-18T19:20:21.302586Z",
     "start_time": "2019-08-18T19:20:21.231007Z"
    }
   },
   "outputs": [
    {
     "name": "stdout",
     "output_type": "stream",
     "text": [
      "0.0\n",
      "0.0\n",
      "\n",
      "0.0\n",
      "0.0\n",
      "\n",
      "0.0\n",
      "0.0\n",
      "\n",
      "9.536743e-07\n",
      "-9.536743e-07\n",
      "\n",
      "1.5258789e-05\n",
      "-3.0517578e-05\n",
      "\n",
      "0.00042682514\n",
      "-0.07421875\n",
      "\n",
      "3.0517578e-05\n",
      "-1.9073486e-06\n"
     ]
    }
   ],
   "source": [
    "print(np.max( cat1['bias_g1'] - cat2['bias_g1']))\n",
    "print(np.min( cat1['bias_g1'] - cat2['bias_g1']))\n",
    "\n",
    "\n",
    "print()\n",
    "print(np.max(\n",
    "    (cat1['bias_f'][ninfs] - cat2['bias_f'][ninfs])/ cat1['bias_f'][ninfs] ))\n",
    "print(np.min( cat1['bias_f'] - cat2['bias_f']))\n",
    "\n",
    "print()\n",
    "print(np.max( cat1['bias_s'] - cat2['bias_s']))\n",
    "print(np.min( cat1['bias_s'] - cat2['bias_s']))\n",
    "\n",
    "print()\n",
    "print(np.max( cat1['bias_g1_grp'] - cat2['bias_g1_grp']))\n",
    "print(np.min( cat1['bias_g1_grp'] - cat2['bias_g1_grp']))\n",
    "\n",
    "print()\n",
    "print(np.max( cat1['bias_g2_grp'] - cat2['bias_g2_grp']))\n",
    "print(np.min( cat1['bias_g2_grp'] - cat2['bias_g2_grp']))\n",
    "\n",
    "print()\n",
    "print(np.max(\n",
    "    (cat1['bias_f_grp'][ninfs] - cat2['bias_f_grp'][ninfs])/ cat1['bias_f_grp'][ninfs] ))\n",
    "print(np.min( cat1['bias_f_grp'] - cat2['bias_f_grp']))\n",
    "\n",
    "print()\n",
    "print(np.max( cat1['bias_s_grp'] - cat2['bias_s_grp']))\n",
    "print(np.min( cat1['bias_s_grp'] - cat2['bias_s_grp']))"
   ]
  },
  {
   "cell_type": "code",
   "execution_count": null,
   "metadata": {},
   "outputs": [],
   "source": []
  }
 ],
 "metadata": {
  "kernelspec": {
   "display_name": "Python 3",
   "language": "python",
   "name": "python3"
  },
  "language_info": {
   "codemirror_mode": {
    "name": "ipython",
    "version": 3
   },
   "file_extension": ".py",
   "mimetype": "text/x-python",
   "name": "python",
   "nbconvert_exporter": "python",
   "pygments_lexer": "ipython3",
   "version": "3.7.4"
  },
  "latex_envs": {
   "LaTeX_envs_menu_present": true,
   "autoclose": false,
   "autocomplete": true,
   "bibliofile": "biblio.bib",
   "cite_by": "apalike",
   "current_citInitial": 1,
   "eqLabelWithNumbers": true,
   "eqNumInitial": 1,
   "hotkeys": {
    "equation": "meta-shift-y"
   },
   "labels_anchors": false,
   "latex_user_defs": false,
   "report_style_numbering": false,
   "user_envs_cfg": false
  },
  "toc": {
   "base_numbering": 1,
   "nav_menu": {},
   "number_sections": true,
   "sideBar": true,
   "skip_h1_title": false,
   "title_cell": "Table of Contents",
   "title_sidebar": "Contents",
   "toc_cell": false,
   "toc_position": {
    "height": "calc(100% - 180px)",
    "left": "10px",
    "top": "150px",
    "width": "235.646px"
   },
   "toc_section_display": true,
   "toc_window_display": true
  }
 },
 "nbformat": 4,
 "nbformat_minor": 2
}
