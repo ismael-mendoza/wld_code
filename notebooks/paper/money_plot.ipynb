{
 "cells": [
  {
   "cell_type": "code",
   "execution_count": 9,
   "metadata": {
    "scrolled": true
   },
   "outputs": [
    {
     "name": "stdout",
     "output_type": "stream",
     "text": [
      "Populating the interactive namespace from numpy and matplotlib\n"
     ]
    },
    {
     "name": "stderr",
     "output_type": "stream",
     "text": [
      "/nfs/slac/g/ki/ki19/deuce/AEGIS/ismael/miniconda3/envs/igalsim/lib/python3.7/site-packages/IPython/core/magics/pylab.py:160: UserWarning: pylab import has clobbered these variables: ['random']\n",
      "`%matplotlib` prevents importing * from pylab and numpy\n",
      "  \"\\n`%matplotlib` prevents importing * from pylab and numpy\"\n"
     ]
    }
   ],
   "source": [
    "%pylab inline"
   ]
  },
  {
   "cell_type": "code",
   "execution_count": 10,
   "metadata": {},
   "outputs": [],
   "source": [
    "import subprocess\n",
    "import os "
   ]
  },
  {
   "cell_type": "code",
   "execution_count": 11,
   "metadata": {},
   "outputs": [
    {
     "name": "stdout",
     "output_type": "stream",
     "text": [
      "/nfs/slac/g/ki/ki19/deuce/AEGIS/ismael/WeakLensingDeblending\n"
     ]
    }
   ],
   "source": [
    "#just to check we are in the right cwd. \n",
    "cwd = os.getcwd() \n",
    "print(cwd)"
   ]
  },
  {
   "cell_type": "code",
   "execution_count": 12,
   "metadata": {},
   "outputs": [],
   "source": [
    "wld_dir = '/nfs/slac/g/ki/ki19/deuce/AEGIS/ismael/WeakLensingDeblending/'"
   ]
  },
  {
   "cell_type": "code",
   "execution_count": 13,
   "metadata": {},
   "outputs": [],
   "source": [
    "os.chdir(wld_dir)"
   ]
  },
  {
   "cell_type": "markdown",
   "metadata": {},
   "source": [
    "## Run setup scripts"
   ]
  },
  {
   "cell_type": "code",
   "execution_count": 14,
   "metadata": {},
   "outputs": [],
   "source": [
    "%run /nfs/slac/g/ki/ki19/deuce/AEGIS/ismael/WeakLensingDeblending/mycode/preamble.py\n",
    "%run /nfs/slac/g/ki/ki19/deuce/AEGIS/ismael/WeakLensingDeblending/mycode/errors.py"
   ]
  },
  {
   "cell_type": "code",
   "execution_count": 15,
   "metadata": {},
   "outputs": [
    {
     "data": {
      "text/plain": [
       "{'final_fitsLSST1': '/nfs/slac/g/ki/ki19/deuce/AEGIS/ismael/WeakLensingDeblending/projectLSST-g1_-100-g2_0/final_fits.fits',\n",
       " 'final_fitsLSST2': '/nfs/slac/g/ki/ki19/deuce/AEGIS/ismael/WeakLensingDeblending/projectLSST-g1_-50-g2_0/final_fits.fits',\n",
       " 'final_fitsLSST3': '/nfs/slac/g/ki/ki19/deuce/AEGIS/ismael/WeakLensingDeblending/projectLSST-g1_-20-g2_0/final_fits.fits',\n",
       " 'final_fitsLSST4': '/nfs/slac/g/ki/ki19/deuce/AEGIS/ismael/WeakLensingDeblending/projectLSST-g1_-15-g2_0/final_fits.fits',\n",
       " 'final_fitsLSST5': '/nfs/slac/g/ki/ki19/deuce/AEGIS/ismael/WeakLensingDeblending/projectLSST-g1_-10-g2_0/final_fits.fits',\n",
       " 'final_fitsLSST6': '/nfs/slac/g/ki/ki19/deuce/AEGIS/ismael/WeakLensingDeblending/projectLSST-g1_-5-g2_0/final_fits.fits',\n",
       " 'final_fitsLSST7': '/nfs/slac/g/ki/ki19/deuce/AEGIS/ismael/WeakLensingDeblending/projectLSST-g1_0-g2_0/final_fits.fits',\n",
       " 'final_fitsLSST8': '/nfs/slac/g/ki/ki19/deuce/AEGIS/ismael/WeakLensingDeblending/projectLSST-g1_5-g2_0/final_fits.fits',\n",
       " 'final_fitsLSST9': '/nfs/slac/g/ki/ki19/deuce/AEGIS/ismael/WeakLensingDeblending/projectLSST-g1_10-g2_0/final_fits.fits',\n",
       " 'final_fitsLSST10': '/nfs/slac/g/ki/ki19/deuce/AEGIS/ismael/WeakLensingDeblending/projectLSST-g1_15-g2_0/final_fits.fits',\n",
       " 'final_fitsLSST11': '/nfs/slac/g/ki/ki19/deuce/AEGIS/ismael/WeakLensingDeblending/projectLSST-g1_20-g2_0/final_fits.fits',\n",
       " 'final_fitsLSST12': '/nfs/slac/g/ki/ki19/deuce/AEGIS/ismael/WeakLensingDeblending/projectLSST-g1_50-g2_0/final_fits.fits',\n",
       " 'final_fitsLSST13': '/nfs/slac/g/ki/ki19/deuce/AEGIS/ismael/WeakLensingDeblending/projectLSST-g1_100-g2_0/final_fits.fits',\n",
       " 'final_fitsLSST5_ss1': '/nfs/slac/g/ki/ki19/deuce/AEGIS/ismael/WeakLensingDeblending/projectLSST-g1_0-g2_0_ss1/final_fits.fits'}"
      ]
     },
     "execution_count": 15,
     "metadata": {},
     "output_type": "execute_result"
    }
   ],
   "source": [
    "new_files = files \n",
    "new_files"
   ]
  },
  {
   "cell_type": "markdown",
   "metadata": {},
   "source": [
    "## Read and filter out duplicated and bad objects."
   ]
  },
  {
   "cell_type": "code",
   "execution_count": 10,
   "metadata": {},
   "outputs": [],
   "source": [
    "#this new LSST set of catalogues has g1 = .02 , g2 = 0.0 ; we will be using this one from now on. \n",
    "#this filtering excludes object that are duplicated and whose snr_grp are problematic."
   ]
  },
  {
   "cell_type": "markdown",
   "metadata": {},
   "source": [
    "### Include new shears. "
   ]
  },
  {
   "cell_type": "code",
   "execution_count": 11,
   "metadata": {},
   "outputs": [],
   "source": [
    "#in the order that corresponds to the catalogues. \n",
    "new_g1s = [-.1, -.05, -.02,-.015,-.01,-.005,0.,.005,.01,.015,.02, .05, .1]"
   ]
  },
  {
   "cell_type": "code",
   "execution_count": 12,
   "metadata": {
    "code_folding": [],
    "scrolled": true
   },
   "outputs": [
    {
     "name": "stdout",
     "output_type": "stream",
     "text": [
      "reading final_fitsLSST1\n",
      "reading final_fitsLSST2\n",
      "reading final_fitsLSST3\n",
      "reading final_fitsLSST4\n",
      "reading final_fitsLSST5\n",
      "reading final_fitsLSST6\n",
      "reading final_fitsLSST7\n",
      "reading final_fitsLSST8\n",
      "reading final_fitsLSST9\n",
      "reading final_fitsLSST10\n",
      "reading final_fitsLSST11\n",
      "reading final_fitsLSST12\n",
      "reading final_fitsLSST13\n"
     ]
    }
   ],
   "source": [
    "#this only excludes object that are duplicated and whose snr_grp are problematic.\n",
    "new_main_catsLSST = []  \n",
    "for key in new_files:\n",
    "    results = fits.open(new_files[key])\n",
    "    new_main_catsLSST.append(not_bad(get_non_duplicated_cat(Table.read(results,hdu=1)))) #assume not many objects are duplicated/bad.\n",
    "    print('reading {}'.format(key))"
   ]
  },
  {
   "cell_type": "code",
   "execution_count": 15,
   "metadata": {},
   "outputs": [],
   "source": [
    "main_catsLSST = new_main_catsLSST[2:-2] "
   ]
  },
  {
   "cell_type": "markdown",
   "metadata": {},
   "source": [
    "### Include only original shears. "
   ]
  },
  {
   "cell_type": "code",
   "execution_count": 16,
   "metadata": {},
   "outputs": [],
   "source": [
    "g1s = new_g1s[2:-2] #select good ol shears. "
   ]
  },
  {
   "cell_type": "code",
   "execution_count": 120,
   "metadata": {},
   "outputs": [
    {
     "name": "stdout",
     "output_type": "stream",
     "text": [
      "['final_fitsLSST3', 'final_fitsLSST4', 'final_fitsLSST5', 'final_fitsLSST6', 'final_fitsLSST7', 'final_fitsLSST8', 'final_fitsLSST9', 'final_fitsLSST10', 'final_fitsLSST11']\n"
     ]
    }
   ],
   "source": [
    "#select only the original ones\n",
    "file_names = ['final_fitsLSST3', 'final_fitsLSST4', 'final_fitsLSST5', 'final_fitsLSST6', 'final_fitsLSST7', 'final_fitsLSST8', 'final_fitsLSST9', 'final_fitsLSST10', 'final_fitsLSST11']\n",
    "print(file_names)"
   ]
  },
  {
   "cell_type": "code",
   "execution_count": null,
   "metadata": {},
   "outputs": [],
   "source": [
    "# main_catsLSST = []  \n",
    "# for key in file_names:\n",
    "#     results = fits.open(files[key])\n",
    "#     main_catsLSST.append(not_bad(get_non_duplicated_cat(Table.read(results,hdu=1)))) #assume not many objects are duplicated/bad.\n",
    "#     print('reading {}'.format(key))"
   ]
  },
  {
   "cell_type": "markdown",
   "metadata": {},
   "source": [
    "### Step size 0.001 "
   ]
  },
  {
   "cell_type": "code",
   "execution_count": 17,
   "metadata": {},
   "outputs": [
    {
     "name": "stdout",
     "output_type": "stream",
     "text": [
      "reading final_fitsLSST5_ss1\n"
     ]
    }
   ],
   "source": [
    "file_names = ['final_fitsLSST5_ss1']\n",
    "main_catsLSST_ss1 = [] \n",
    "for key in file_names:\n",
    "    results = fits.open(new_files[key])\n",
    "    main_catsLSST_ss1.append(not_bad(get_non_duplicated_cat(Table.read(results,hdu=1)))) #assume not many objects are duplicated/bad.\n",
    "    print('reading {}'.format(key))"
   ]
  },
  {
   "cell_type": "markdown",
   "metadata": {},
   "source": [
    "## Plot "
   ]
  },
  {
   "cell_type": "markdown",
   "metadata": {},
   "source": [
    "### Selection sample with 0 shear in LSST  with all new shears. "
   ]
  },
  {
   "cell_type": "markdown",
   "metadata": {},
   "source": [
    "#### filter sample"
   ]
  },
  {
   "cell_type": "code",
   "execution_count": 15,
   "metadata": {},
   "outputs": [],
   "source": [
    "filters = [good,best]"
   ]
  },
  {
   "cell_type": "code",
   "execution_count": 16,
   "metadata": {},
   "outputs": [],
   "source": [
    "#zero shear cat \n",
    "zero_shear_cat = new_main_catsLSST[6]"
   ]
  },
  {
   "cell_type": "code",
   "execution_count": 17,
   "metadata": {},
   "outputs": [],
   "source": [
    "selection_cats = selection_filter(new_main_catsLSST, filters, zero_shear_cat)"
   ]
  },
  {
   "cell_type": "code",
   "execution_count": 126,
   "metadata": {},
   "outputs": [
    {
     "name": "stdout",
     "output_type": "stream",
     "text": [
      "118762\n",
      "119083\n"
     ]
    }
   ],
   "source": [
    "print(len(selection_cats[6])) \n",
    "print(len(good(best(zero_shear_cat)))) "
   ]
  },
  {
   "cell_type": "code",
   "execution_count": 127,
   "metadata": {},
   "outputs": [],
   "source": [
    "#Q: why are the above results ot the same??? "
   ]
  },
  {
   "cell_type": "code",
   "execution_count": 21,
   "metadata": {},
   "outputs": [],
   "source": []
  },
  {
   "cell_type": "markdown",
   "metadata": {},
   "source": [
    "#### Calculate errors and bootstrap matrices "
   ]
  },
  {
   "cell_type": "code",
   "execution_count": 128,
   "metadata": {},
   "outputs": [
    {
     "name": "stdout",
     "output_type": "stream",
     "text": [
      "just to check that symmetry is respected print both percentiles: [  2.03436939e-05   1.98202906e-05]\n",
      "just to check that symmetry is respected print both percentiles: [  1.07075344e-05   1.27680833e-05]\n",
      "just to check that symmetry is respected print both percentiles: [  6.18986087e-06   6.55576878e-06]\n",
      "just to check that symmetry is respected print both percentiles: [  5.64530637e-06   4.96170833e-06]\n",
      "just to check that symmetry is respected print both percentiles: [  4.80563525e-06   4.64663026e-06]\n",
      "just to check that symmetry is respected print both percentiles: [  4.28949897e-06   3.58553825e-06]\n",
      "just to check that symmetry is respected print both percentiles: [  3.18328370e-06   3.10998491e-06]\n",
      "just to check that symmetry is respected print both percentiles: [  3.70739417e-06   3.53044172e-06]\n",
      "just to check that symmetry is respected print both percentiles: [  4.49921230e-06   4.79421215e-06]\n",
      "just to check that symmetry is respected print both percentiles: [  5.66724295e-06   6.36161349e-06]\n",
      "just to check that symmetry is respected print both percentiles: [  6.58789213e-06   7.35563663e-06]\n",
      "just to check that symmetry is respected print both percentiles: [  9.56852455e-06   1.25307310e-05]\n",
      "just to check that symmetry is respected print both percentiles: [  1.93418236e-05   1.82815711e-05]\n",
      "just to check that symmetry is respected print both percentiles: [  1.44053483e-05   1.23226247e-05]\n",
      "just to check that symmetry is respected print both percentiles: [  5.72319899e-06   6.34988828e-06]\n",
      "just to check that symmetry is respected print both percentiles: [  2.54404586e-06   2.63817128e-06]\n",
      "just to check that symmetry is respected print both percentiles: [  2.55572377e-06   2.01788731e-06]\n",
      "just to check that symmetry is respected print both percentiles: [  1.83003351e-06   1.74889828e-06]\n",
      "just to check that symmetry is respected print both percentiles: [  1.08278255e-06   8.13635324e-07]\n",
      "just to check that symmetry is respected print both percentiles: [  1.03206720e-07   2.71783822e-07]\n",
      "just to check that symmetry is respected print both percentiles: [  1.15082366e-06   1.31311981e-06]\n",
      "just to check that symmetry is respected print both percentiles: [  1.39847682e-06   1.82404299e-06]\n",
      "just to check that symmetry is respected print both percentiles: [  2.35172411e-06   2.41161069e-06]\n",
      "just to check that symmetry is respected print both percentiles: [  2.66223651e-06   2.81825487e-06]\n",
      "just to check that symmetry is respected print both percentiles: [  5.36811422e-06   6.32823503e-06]\n",
      "just to check that symmetry is respected print both percentiles: [  1.47525361e-05   1.18469168e-05]\n"
     ]
    }
   ],
   "source": [
    "#this one filters the cats based only on the shear = 0 one. and then uses the same galaxy across 9 catalogues. \n",
    "errs_LSST_grp = errs_param_boot(selection_cats,'bias_g1_grp', np.median) \n",
    "errs_LSST_iso = errs_param_boot(selection_cats,'bias_g1', np.median) "
   ]
  },
  {
   "cell_type": "code",
   "execution_count": 58,
   "metadata": {},
   "outputs": [],
   "source": [
    "# ##calculate the covariance matrix of bootstrapped means for this selection filter, also pickle it.\n",
    "# #(takes a while)\n",
    "# selected_zero_shear_cat = selection_samples[6]\n",
    "# boot_covariance_matrix, boot_covariance_matrix_grp, boot_correlation_matrix, boot_correlation_matrix_grp = get_boostrap_covariance_matrix(selection_cats,'g1',selected_zero_shear_cat) \n",
    "\n",
    "# pickle.dump((boot_covariance_matrix, boot_covariance_matrix_grp, boot_correlation_matrix, \n",
    "#              boot_correlation_matrix_grp),open(\"data/bootstrap_matrices_new_shears.p\",\"wb\"))"
   ]
  },
  {
   "cell_type": "code",
   "execution_count": null,
   "metadata": {},
   "outputs": [],
   "source": [
    "\n",
    "boot_covariance_matrix, boot_covariance_matrix_grp, boot_correlation_matrix, boot_correlation_matrix_grp = pickle.load( open( \"data/bootstrap_matrices_new_shears.p\", \"rb\" ), \n",
    "                                                                                                                       encoding='latin1')"
   ]
  },
  {
   "cell_type": "markdown",
   "metadata": {},
   "source": [
    "#### Obtain money plot "
   ]
  },
  {
   "cell_type": "code",
   "execution_count": 132,
   "metadata": {
    "scrolled": false
   },
   "outputs": [
    {
     "name": "stdout",
     "output_type": "stream",
     "text": [
      "[-0.1, -0.05, -0.02, -0.015, -0.01, -0.005, 0.0, 0.005, 0.01, 0.015, 0.02, 0.05, 0.1]\n",
      "Results for fits of blended case: \n",
      "\n",
      "means grp: [-0.017044988, -0.013322078, -0.0057424293, -0.015945015, -0.00020379777, -0.0080753602, 0.00010535739, -0.017811732, -0.011525031, -0.0097390255, -0.0030924403, 0.00516997, 0.017636586]\n",
      "\n",
      "medians grp: [-0.00073501747, -0.00026475106, -7.7531164e-05, -5.4023694e-05, -3.5448429e-05, -1.7771466e-05, -1.8168521e-06, 1.2706872e-05, 3.0239909e-05, 5.1447449e-05, 7.539364e-05, 0.00025615311, 0.00072131725]\n",
      "\n",
      "sigmas grp: [0.0067739394, 0.0064679072, 0.0063083917, 0.0062772036, 0.0062571517, 0.0062462175, 0.0062412051, 0.0062426319, 0.0062538777, 0.0062813675, 0.0063077076, 0.0064861299, 0.0067780623]\n",
      "\n",
      "errs grp: [1.9820290617644787e-05, 1.276808325201273e-05, 6.555768777616322e-06, 4.961708327755332e-06, 4.6466302592307329e-06, 3.5855382520821877e-06, 3.1099849138627163e-06, 3.5304417178849679e-06, 4.7942121454980224e-06, 6.3616134866606444e-06, 7.3556366260163486e-06, 1.2530731037259119e-05, 1.8281571101397276e-05]\n",
      "\n",
      "\n",
      "value b0:     4.783e-03\n",
      "error b0:     7.777e-05\n",
      "value b1:     -7.942e-06\n",
      "error b1:     1.617e-06\n",
      "error correlation coefficient: -8.644e-02\n",
      "\n",
      "\n",
      "###################################\n",
      "[-0.1, -0.05, -0.02, -0.015, -0.01, -0.005, 0.0, 0.005, 0.01, 0.015, 0.02, 0.05, 0.1]\n",
      "means iso: [-0.021796901, -0.011023001, -0.0047014956, -0.0036537978, -0.002607615, -0.0015623062, -0.00051712908, 0.0005285957, 0.0015743958, 0.002620033, 0.0036660794, 0.0099694366, 0.020696325]\n",
      "medians iso: [-0.00052582321, -0.00016543439, -3.6612888e-05, -2.3380257e-05, -1.261567e-05, -4.3882083e-06, 1.8692763e-08, 5.7758252e-06, 1.4205611e-05, 2.5544632e-05, 3.8741266e-05, 0.00016410262, 0.00053012278]\n",
      "sigmas iso: [0.0048819585, 0.004555176, 0.0044207554, 0.0044014454, 0.00437677, 0.0043445397, 0.0043351734, 0.0043298621, 0.0043482902, 0.0043595936, 0.0043937583, 0.0045931735, 0.0049118605]\n",
      "errs iso: [1.2322624679654841e-05, 6.3498882809653878e-06, 2.6381712814327329e-06, 2.0178873091936099e-06, 1.748898284859024e-06, 8.1363532444811426e-07, 2.7178382183024037e-07, 1.3131198102200869e-06, 1.8240429926663641e-06, 2.4116106942528859e-06, 2.8182548703625798e-06, 6.3282350311055779e-06, 1.1846916750073459e-05]\n",
      "\n",
      "\n",
      "value b0:     1.647e-03\n",
      "error b0:     3.948e-05\n",
      "value b1:     4.047e-07\n",
      "error b1:     1.083e-07\n",
      "error correlation coefficient: 1.362e-01\n",
      "\n"
     ]
    },
    {
     "data": {
      "image/png": "[encoded data removed]",
      "text/plain": [
       "<Figure size 1440x1440 with 1 Axes>"
      ]
     },
     "metadata": {},
     "output_type": "display_data"
    }
   ],
   "source": [
    "get_money_plot(new_g1s, 'g1', errs_LSST_grp, errs_LSST_iso,scats,chi_sq_fit,\n",
    "               {'cov_iso':boot_covariance_matrix, 'cov_grp':boot_covariance_matrix_grp,'inv_iso':None,'inv_grp':None},\n",
    "               labely1='median shear bias $[10^{-3}]$')"
   ]
  },
  {
   "cell_type": "markdown",
   "metadata": {},
   "source": [
    "### Selection sample with 0 shear in LSST  with old shears. "
   ]
  },
  {
   "cell_type": "code",
   "execution_count": 17,
   "metadata": {},
   "outputs": [],
   "source": [
    "filters = [good,best]"
   ]
  },
  {
   "cell_type": "code",
   "execution_count": 18,
   "metadata": {},
   "outputs": [],
   "source": [
    "#zero shear cat \n",
    "zero_shear_cat = main_catsLSST[4]\n",
    "\n",
    "selection_cats = selection_filter(main_catsLSST, filters, zero_shear_cat)"
   ]
  },
  {
   "cell_type": "code",
   "execution_count": 21,
   "metadata": {},
   "outputs": [],
   "source": [
    "#save selection cat to use for e.g. tomos. \n",
    "pickle.dump(selection_cats, open(os.path.join(wld_dir, 'mycode/selection_cats1.p'),\"wb\"))"
   ]
  },
  {
   "cell_type": "code",
   "execution_count": null,
   "metadata": {},
   "outputs": [],
   "source": []
  },
  {
   "cell_type": "code",
   "execution_count": null,
   "metadata": {},
   "outputs": [],
   "source": [
    "print(len(selection_cats[4])) \n",
    "print(len(good(best(zero_shear_cat)))) \n",
    "\n",
    "#Q: why are the above results ot the same??? "
   ]
  },
  {
   "cell_type": "code",
   "execution_count": null,
   "metadata": {},
   "outputs": [],
   "source": [
    "#### Calculate errors and bootstrap matrices \n",
    "\n",
    "#this one filters the cats based only on the shear = 0 one. and then uses the same galaxy across 9 catalogues. \n",
    "errs_LSST_grp = errs_param_boot(selection_cats,'bias_g1_grp', np.median) \n",
    "errs_LSST_iso = errs_param_boot(selection_cats,'bias_g1', np.median) "
   ]
  },
  {
   "cell_type": "code",
   "execution_count": null,
   "metadata": {},
   "outputs": [],
   "source": [
    "# ##calculate the covariance matrix of bootstrapped means for this selection filter, also pickle it.\n",
    "# #(takes a while)\n",
    "# selected_zero_shear_cat = selection_samples[6]\n",
    "# boot_covariance_matrix, boot_covariance_matrix_grp, boot_correlation_matrix, boot_correlation_matrix_grp = get_boostrap_covariance_matrix(selection_cats,'g1',selected_zero_shear_cat) \n",
    "\n",
    "# pickle.dump((boot_covariance_matrix, boot_covariance_matrix_grp, boot_correlation_matrix, \n",
    "#              boot_correlation_matrix_grp),open(\"data/bootstrap_matrices_new_shears.p\",\"wb\"))"
   ]
  },
  {
   "cell_type": "code",
   "execution_count": null,
   "metadata": {},
   "outputs": [],
   "source": [
    "boot_covariance_matrix, boot_covariance_matrix_grp, boot_correlation_matrix, boot_correlation_matrix_grp = pickle.load( open( \"data/bootstrap_matrices_new_shears.p\", \"rb\" ), \n",
    "                                                                                                                       encoding='latin1')"
   ]
  },
  {
   "cell_type": "code",
   "execution_count": null,
   "metadata": {},
   "outputs": [],
   "source": [
    "#### Obtain money plot \n",
    "get_money_plot(new_g1s, 'g1', errs_LSST_grp, errs_LSST_iso,selection_cats,chi_sq_fit,\n",
    "               {'cov_iso':boot_covariance_matrix, 'cov_grp':boot_covariance_matrix_grp,'inv_iso':None,'inv_grp':None},\n",
    "               labely1='median shear bias $[10^{-3}]$')"
   ]
  },
  {
   "cell_type": "code",
   "execution_count": null,
   "metadata": {},
   "outputs": [],
   "source": []
  },
  {
   "cell_type": "code",
   "execution_count": null,
   "metadata": {},
   "outputs": [],
   "source": []
  },
  {
   "cell_type": "code",
   "execution_count": null,
   "metadata": {},
   "outputs": [],
   "source": []
  },
  {
   "cell_type": "markdown",
   "metadata": {},
   "source": [
    "## Tomographic binning "
   ]
  },
  {
   "cell_type": "code",
   "execution_count": null,
   "metadata": {},
   "outputs": [],
   "source": [
    "filters = [good,best]\n",
    "\n",
    "#zero shear cat \n",
    "zero_shear_cat = main_catsLSST[4]\n",
    "selection_cats = selection_filter(main_catsLSST, filters, zero_shear_cat)"
   ]
  },
  {
   "cell_type": "code",
   "execution_count": null,
   "metadata": {},
   "outputs": [],
   "source": [
    "## question: should we select and the bin, or the other way? "
   ]
  },
  {
   "cell_type": "code",
   "execution_count": 121,
   "metadata": {},
   "outputs": [],
   "source": [
    "#obtain the bootstrap matrix for each set of catalogues. \n",
    "tomographic_cats = get_tographic_cats(selection_cats)\n",
    "tomographic_errs_grp = [] \n",
    "tomograhpic_errs_iso = []\n",
    "tomographic_bootstrap_matrices = [] \n",
    "for i,cats in enumerate(tomographic_cats): \n",
    "    \n",
    "    #get boostrapped errors. \n",
    "    errs_grp = errs_param_boot(cats,'bias_g1_grp', np.median) \n",
    "    errs_iso = errs_param_boot(cats,'bias_g1', np.median) \n",
    "    tomographic_errs_grp.append(errs_grp)\n",
    "    tomographic_errs_iso.append(errs_iso)\n",
    "    \n",
    "    #get boostrapped matrices. \n",
    "    zero_cat = cats[4] #catalogue with zero shear. \n",
    "    boot_covariance_matrix, boot_covariance_matrix_grp, boot_correlation_matrix, boot_correlation_matrix_grp = get_boostrap_covariance_matrix(cats,'g1',zero_cat)     \n",
    "    tomographic_bootstrap_matrices.append((boot_covariance_matrix, boot_covariance_matrix_grp, boot_correlation_matrix, boot_correlation_matrix_grp))\n",
    "    \n"
   ]
  },
  {
   "cell_type": "code",
   "execution_count": null,
   "metadata": {},
   "outputs": [],
   "source": [
    "pickle.dump(tomographic_bootstrap_matrices,open(\"data/tomographic_matrices.p\",\"wb\"))"
   ]
  },
  {
   "cell_type": "code",
   "execution_count": null,
   "metadata": {},
   "outputs": [],
   "source": [
    "pickle.load(tomographic_bootstrap_matrices,open(\"data/tomographic_matrices.p\",\"wb\"))"
   ]
  },
  {
   "cell_type": "code",
   "execution_count": null,
   "metadata": {},
   "outputs": [],
   "source": [
    "#obtain mulpliticative bias for each tomographic bin\n",
    "ms = [] \n",
    "\n",
    "\n",
    "for i,cats in enumerate(tomographic_cats): \n",
    "    errs_LSST_grp = tomographic_errs_grp[i]\n",
    "    errs_LSST_iso = tomographic_errs_iso[i]\n",
    "    boot_covariance_matrix, boot_covariance_matrix_grp, boot_correlation_matrix, boot_correlation_matrix_grp = tomographic_bootstrap_matrices[i]\n",
    "    beta0, beta1,beta0_err,beta1_err,beta01_corr, beta0_grp, beta1_grp,beta0_err_grp,beta1_err_grp,beta01_corr_grp= get_money_errors(g1s, 'g1', errs_LSST_grp, errs_LSST_iso,cats, chi_sq_fit,\n",
    "               {'cov_iso':boot_covariance_matrix, \n",
    "                'cov_grp':boot_covariance_matrix_grp,'inv_iso':None,'inv_grp':None})\n",
    "    ms.append(beta0)\n",
    "\n"
   ]
  },
  {
   "cell_type": "code",
   "execution_count": null,
   "metadata": {},
   "outputs": [],
   "source": []
  },
  {
   "cell_type": "markdown",
   "metadata": {},
   "source": [
    "## Misc."
   ]
  },
  {
   "cell_type": "code",
   "execution_count": 26,
   "metadata": {},
   "outputs": [],
   "source": [
    "from mycode.tomo.tomo_fncs import load_tomos"
   ]
  },
  {
   "cell_type": "code",
   "execution_count": 28,
   "metadata": {},
   "outputs": [],
   "source": [
    "tomo_cats, tomo_errs, tomo_bootstrap_matrices, tomo_ms = load_tomos('mycode/tomo/project1')"
   ]
  },
  {
   "cell_type": "code",
   "execution_count": 34,
   "metadata": {},
   "outputs": [
    {
     "data": {
      "text/plain": [
       "[2.7751824233929646e-05,\n",
       " 4.1459931155696315e-05,\n",
       " 5.864622105274553e-05,\n",
       " 0.0001109606962305669,\n",
       " 0.00015607430681857117,\n",
       " 0.00016551244076617682]"
      ]
     },
     "execution_count": 34,
     "metadata": {},
     "output_type": "execute_result"
    }
   ],
   "source": [
    "tomo_ms[1]"
   ]
  },
  {
   "cell_type": "markdown",
   "metadata": {},
   "source": [
    "### Sample optimization routine using chi-sq with arguments. "
   ]
  },
  {
   "cell_type": "code",
   "execution_count": null,
   "metadata": {},
   "outputs": [],
   "source": [
    "def chisqfunc((a, b),data_x,data_y,data_err):\n",
    "    model = a + b*data_x\n",
    "    chisq = numpy.sum(((data_y - model)/data_err)**2)\n",
    "    return chisq\n",
    "\n",
    "\n",
    "x0 = np.array([0,0])\n",
    "results = opt.minimize(chisqfunc, x0,args=(x,y,errs))\n",
    "print results\n",
    "assert results.success==True\n",
    "a,b=results.x\n",
    "print a,b"
   ]
  },
  {
   "cell_type": "markdown",
   "metadata": {},
   "source": [
    "### Information about the boostrapped matrices. "
   ]
  },
  {
   "cell_type": "code",
   "execution_count": null,
   "metadata": {},
   "outputs": [],
   "source": [
    "for i,g1 in enumerate(g1s): \n",
    "    print 'for shear g1 = {}, g2 = 0 we have:'.format(g1)\n",
    "    print 'error on bias_g1_iso boostraped from distribution is       {:.3g}'.format(errs_LSSTgood_g1iso[i])\n",
    "    print 'sqrt of iso boostraped covariance matrix is                {:.3g}'.format(np.sqrt(boot_covariance_matrix[i,i]))\n",
    "    print 'error on bias_g1_grp boostraped from distribution is       {:.3g}'.format(errs_LSSTgood_g1grp[i])\n",
    "    print 'sqrt of grp boostraped covariance matrix is                {:.3g}'.format(np.sqrt(boot_covariance_matrix_grp[i,i]))\n",
    "    print "
   ]
  },
  {
   "cell_type": "markdown",
   "metadata": {},
   "source": [
    "### Unused code. "
   ]
  },
  {
   "cell_type": "code",
   "execution_count": null,
   "metadata": {},
   "outputs": [],
   "source": [
    "# print 'linear fit'\n",
    "# print \n",
    "# get_money_plot(g1s, 'g1', errs_LSSTgood_g1grp, errs_LSSTgood_g1iso,filter_cats,linear_fit,{},labely1='median shear bias')\n",
    "\n",
    "# print \n",
    "# print '###################################################################################'\n",
    "\n",
    "# print 'independent chi sq '\n",
    "# print \n",
    "\n",
    "# #get_money_plot(g1s, 'g1', errs_LSSTgood_g1grp, errs_LSSTgood_g1iso,filter_cats,chi_sq_fit,{'cov_iso':np.diag(np.diag(covariance_matrix)), 'cov_grp':np.diag(np.diag(covariance_matrix_grp))},labely1='median shear bias')\n",
    "# get_money_plot(g1s, 'g1', errs_LSSTgood_g1grp, errs_LSSTgood_g1iso,filter_cats,chi_sq_fit,{'cov_iso':np.diag(np.diag(mixcov_iso)), 'cov_grp': np.diag(np.diag(mixcov_grp)),'inv_iso':None,'inv_grp':None},labely1='median shear bias')\n",
    "\n",
    "\n",
    "\n",
    "# print \n",
    "# print '###################################################################################'\n",
    "\n",
    "# print 'mixed chi sq '\n",
    "# print\n",
    "\n",
    "# get_money_plot(g1s, 'g1', errs_LSSTgood_g1grp, errs_LSSTgood_g1iso,filter_cats,chi_sq_fit,{'cov_iso':mixcov_iso, 'cov_grp':mixcov_grp,'inv_iso':None,'inv_grp':None},labely1='median shear bias')\n",
    "\n",
    "# print \n",
    "# print '###################################################################################'\n",
    "# print 'median bootstrap covariance matrix'\n",
    "# print\n",
    "#'\n",
    "# get_money_plot(g1s, 'g1', errs_LSSTgood_g1grp, errs_LSSTgood_g1iso,selection_samples,chi_sq_fit,{'cov_iso':boot_covariance_matrix, 'cov_grp':boot_covariance_matrix_grp,'inv_iso':None,'inv_grp':None})\n",
    "\n",
    "# covariance_matrix, covariance_matrix_grp,correlation_matrix,correlation_matrix_grp = get_bias_covariance_matrices(filter_cats,'g1')\n",
    "# mixcov_iso,mixcov_grp = get_mixcov(correlation_matrix,errs_LSSTgood_g1iso), get_mixcov(correlation_matrix_grp,errs_LSSTgood_g1grp)\n",
    "\n",
    "#compare std deviations from covariance matrix with the boostrapped ones: \n",
    "\n"
   ]
  },
  {
   "cell_type": "code",
   "execution_count": null,
   "metadata": {},
   "outputs": [],
   "source": [
    "for i,g1 in enumerate(g1s): \n",
    "    print 'for shear g1 = {}, g2 = 0 we have:'.format(g1)\n",
    "    print 'error on bias_g1_iso boostraped from distribution is       {:.3g}'.format(errs_LSSTgood_g1iso[i])\n",
    "    print 'sqrt of iso boostraped covariance matrix is                {:.3g}'.format(np.sqrt(boot_covariance_matrix[i,i]))\n",
    "    print 'error on bias_g1_grp boostraped from distribution is       {:.3g}'.format(errs_LSSTgood_g1grp[i])\n",
    "    print 'sqrt of grp boostraped covariance matrix is                {:.3g}'.format(np.sqrt(boot_covariance_matrix_grp[i,i]))\n",
    "    print "
   ]
  }
 ],
 "metadata": {
  "kernelspec": {
   "display_name": "igalsim",
   "language": "python",
   "name": "igalsim"
  },
  "language_info": {
   "codemirror_mode": {
    "name": "ipython",
    "version": 3
   },
   "file_extension": ".py",
   "mimetype": "text/x-python",
   "name": "python",
   "nbconvert_exporter": "python",
   "pygments_lexer": "ipython3",
   "version": "3.7.0"
  },
  "toc": {
   "base_numbering": 1,
   "nav_menu": {},
   "number_sections": true,
   "sideBar": true,
   "skip_h1_title": false,
   "title_cell": "Table of Contents",
   "title_sidebar": "Contents",
   "toc_cell": false,
   "toc_position": {
    "height": "calc(100% - 180px)",
    "left": "10px",
    "top": "150px",
    "width": "205.99264526367188px"
   },
   "toc_section_display": true,
   "toc_window_display": true
  }
 },
 "nbformat": 4,
 "nbformat_minor": 2
}
