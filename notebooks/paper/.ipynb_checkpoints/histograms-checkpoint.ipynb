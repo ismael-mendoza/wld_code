{
 "cells": [
  {
   "cell_type": "markdown",
   "metadata": {},
   "source": [
    "## Read and filter out duplicated and bad objects."
   ]
  },
  {
   "cell_type": "code",
   "execution_count": 18,
   "metadata": {},
   "outputs": [],
   "source": [
    "#in the order that corresponds to the catalogues. \n",
    "g1s = [-.02,-.015,-.01,-.005,0.,.005,.01,.015,.02]"
   ]
  },
  {
   "cell_type": "code",
   "execution_count": 21,
   "metadata": {},
   "outputs": [
    {
     "name": "stdout",
     "output_type": "stream",
     "text": [
      "reading Ffinal_fitsLSST1\n",
      "reading Ffinal_fitsLSST2\n",
      "reading Ffinal_fitsLSST3\n",
      "reading Ffinal_fitsLSST4\n",
      "reading Ffinal_fitsLSST5\n",
      "reading Ffinal_fitsLSST6\n",
      "reading Ffinal_fitsLSST7\n",
      "reading Ffinal_fitsLSST8\n",
      "reading Ffinal_fitsLSST9\n"
     ]
    }
   ],
   "source": [
    "#this new LSST set of catalogues has g1 = .02 , g2 = 0.0 ; we will be using this one from now on. \n",
    "#this only excludes object that are duplicated and whose snr_grp are problematic.\n",
    "\n",
    "main_catsLSST = []  \n",
    "for key in ['Ffinal_fitsLSST1','Ffinal_fitsLSST2','Ffinal_fitsLSST3','Ffinal_fitsLSST4','Ffinal_fitsLSST5','Ffinal_fitsLSST6','Ffinal_fitsLSST7','Ffinal_fitsLSST8','Ffinal_fitsLSST9']:\n",
    "    results = fits.open(files[key])\n",
    "    main_catsLSST.append(not_bad(get_non_duplicated_cat(Table.read(results,hdu=1)))) #assume not many objects are duplicated/bad.\n",
    "    print('reading {}'.format(key))"
   ]
  },
  {
   "cell_type": "code",
   "execution_count": null,
   "metadata": {},
   "outputs": [],
   "source": [
    "import preamble"
   ]
  },
  {
   "cell_type": "markdown",
   "metadata": {},
   "source": [
    "## Preamble "
   ]
  },
  {
   "cell_type": "code",
   "execution_count": null,
   "metadata": {},
   "outputs": [],
   "source": []
  },
  {
   "cell_type": "markdown",
   "metadata": {},
   "source": [
    "## Plots"
   ]
  },
  {
   "cell_type": "markdown",
   "metadata": {},
   "source": [
    "### Histogram of Bias (with gold sample)"
   ]
  },
  {
   "cell_type": "code",
   "execution_count": null,
   "metadata": {},
   "outputs": [],
   "source": []
  },
  {
   "cell_type": "code",
   "execution_count": null,
   "metadata": {},
   "outputs": [],
   "source": [
    "#produce different plots with the biases calculated from the fisher formalism. \n",
    "\n",
    "def shear_biases_plots2(cat,good,gold,save=None):\n",
    "    plt.rc('text', usetex=True)\n",
    "\n",
    "\n",
    "    g_min = -2\n",
    "    g_max = 2\n",
    "    fig, ax  = plt.subplots(figsize=(20,15))\n",
    "    ax.set_xlabel('$b[g_{1}]$',fontsize=35)\n",
    "\n",
    "\n",
    "\n",
    "\n",
    "    ax.set_ylabel('\\\\rm Fraction of galaxies',fontsize=35)\n",
    "    ax.tick_params(axis='both', which='major', labelsize=20, length=6, width = 2)\n",
    "    ax.tick_params(axis='both', which='minor', labelsize=20, length=3, width = 1)\n",
    "\n",
    "\n",
    "    \n",
    "    plt.xlim(g_min,g_max)\n",
    "    \n",
    "\n",
    "#     plt.tick_params(axis='both', which='minor',size=5)\n",
    "    ax.hist(cat['bias_g1'],range=[g_min,g_max],bins=100,histtype='step',\n",
    "            label='\\\\rm All galaxies (blending off)',color='red',weights=np.ones_like(cat['bias_g1'])/len(cat['bias_g1']))\n",
    "    \n",
    "    ax.hist(cat['bias_g1_grp'],range=[g_min,g_max],bins=100,ls='dashed',color='red',histtype='step',\n",
    "            label='\\\\rm All galaxies (blending on)',weights=np.ones_like(cat['bias_g1_grp'])/len(cat['bias_g1_grp']))\n",
    "    #\n",
    "    ax.hist(good['bias_g1'],range=[g_min,g_max],bins=100,histtype='step',\n",
    "            label='\\\\rm Lensing sample galaxies (blending off)',color='blue',weights=np.ones_like(good['bias_g1'])/len(good['bias_g1']))\n",
    "    \n",
    "    ax.hist(good['bias_g1_grp'],range=[g_min,g_max],bins=100,ls='dashed',color='blue',histtype='step',\n",
    "            label='\\\\rm Lensing sample galaxies (blending on)',weights=np.ones_like(good['bias_g1_grp'])/len(good['bias_g1_grp']))\n",
    "    #\n",
    "    ax.hist(gold['bias_g1'],range=[g_min,g_max],bins=100,histtype='step',color='gold',\n",
    "            label='\\\\rm Gold sample galaxies (blending off)',weights=np.ones_like(gold['bias_g1'])/len(gold['bias_g1']))\n",
    "    ax.hist(gold['bias_g1_grp'],range=[g_min,g_max],bins=100,ls='dashed',color='gold',histtype='step',\n",
    "            label='\\\\rm Gold sample galaxies (blending on)',weights=np.ones_like(gold['bias_g1_grp'])/len(gold['bias_g1_grp']))\n",
    "    \n",
    "    ax.legend(prop={'size':22})\n",
    "    ax.set_yscale('log')\n",
    "\n",
    "    #\n",
    "#     #\n",
    "#     plt.subplot(nrow, ncol, 2) \n",
    "#     plt.tick_params(axis='both', which='minor',size=5)\n",
    "#     plt.title('biases on g2',fontsize=14)\n",
    "#     plt.xlabel('bias on g2',fontsize=14)\n",
    "#     plt.ylabel('Fraction of galaxies',fontsize=14)\n",
    "#     plt.xlim(g_min,g_max)\n",
    "#     #\n",
    "#     plt.hist(cat['bias_g2'],range=[g_min,g_max],bins=100,histtype='step',label='bias_g2_all',color='red',weights=np.ones_like(cat['bias_g2'])/len(cat['bias_g2']))\n",
    "#     plt.hist(cat['bias_g2_grp'],range=[g_min,g_max],bins=100,ls='dashed',color='red',histtype='step',label='bias_g2_grp_all',weights=np.ones_like(cat['bias_g2_grp'])/len(cat['bias_g2_grp']))\n",
    "#     plt.legend()\n",
    "#     plt.yscale('log')\n",
    "#     #\n",
    "#     plt.hist(good['bias_g2'],range=[g_min,g_max],bins=100,histtype='step',label='bias_g2_good',color='blue',weights=np.ones_like(good['bias_g2'])/len(good['bias_g2']))\n",
    "#     plt.hist(good['bias_g2_grp'],range=[g_min,g_max],bins=100,color='blue',ls='dashed',histtype='step',label='bias_g2_grp_good',weights=np.ones_like(good['bias_g2_grp'])/len(good['bias_g2_grp']))\n",
    "#     plt.legend()\n",
    "#     #\n",
    "#     plt.hist(gold['bias_g2'],range=[g_min,g_max],bins=100,histtype='step',color='gold',label='bias_g2_gold',weights=np.ones_like(gold['bias_g1'])/len(gold['bias_g2']))\n",
    "#     plt.hist(gold['bias_g2_grp'],range=[g_min,g_max],bins=100,color='gold',ls='dashed',histtype='step',label='bias_g2_grp_gold',weights=np.ones_like(gold['bias_g1_grp'])/len(gold['bias_g2_grp']))\n",
    "#     plt.legend()\n",
    "#     plt.yscale('log')"
   ]
  },
  {
   "cell_type": "code",
   "execution_count": null,
   "metadata": {},
   "outputs": [],
   "source": [
    "cat_plot = main_catsLSST[8]\n",
    "shear_biases_plots2(cat_plot,good(cat_plot),gold(cat_plot))"
   ]
  },
  {
   "cell_type": "code",
   "execution_count": null,
   "metadata": {},
   "outputs": [],
   "source": []
  },
  {
   "cell_type": "markdown",
   "metadata": {},
   "source": [
    "### Histogram of shear bias (no gold sample) "
   ]
  },
  {
   "cell_type": "code",
   "execution_count": null,
   "metadata": {},
   "outputs": [],
   "source": [
    "#produce different plots with the biases calculated from the fisher formalism. \n",
    "\n",
    "def shear_biases_plots3(cat,good,save=None):\n",
    "    plt.rc('text', usetex=True)\n",
    "\n",
    "\n",
    "    g_min = -2\n",
    "    g_max = 2\n",
    "    fig, ax  = plt.subplots(figsize=(20,15))\n",
    "    ax.set_xlabel('$b[g_{1}]$',fontsize=35)\n",
    "    \n",
    "    #print medians of each histogram. \n",
    "    print(f\"Median of all galaxies with blending off is {np.median(cat['bias_g1'])}\")\n",
    "    print(f\"Median of all galaxies with blending on is {np.median(cat['bias_g1_grp'])}\")\n",
    "    print(f\"Median of lensing sample galaxies with blending off is {np.median(good['bias_g1'])}\")\n",
    "    print(f\"Median of lensing sample galaxies with blending on is {np.median(good['bias_g1_grp'])}\")\n",
    "\n",
    "\n",
    "\n",
    "    ax.set_ylabel('\\\\rm Fraction of galaxies',fontsize=35)\n",
    "    ax.tick_params(axis='both', which='major', labelsize=20, length=6, width = 2)\n",
    "    ax.tick_params(axis='both', which='minor', labelsize=20, length=3, width = 1)\n",
    "    ax.tick_params(which= 'major', right=True)\n",
    "    ax.tick_params(which= 'minor', right=True)\n",
    "\n",
    "\n",
    "    \n",
    "    plt.xlim(g_min,g_max)\n",
    "    \n",
    "\n",
    "#     plt.tick_params(axis='both', which='minor',size=5)\n",
    "    ax.hist(cat['bias_g1'],range=[g_min,g_max],bins=100,histtype='step',\n",
    "            label='\\\\rm All galaxies (blending off)',color='red',weights=np.ones_like(cat['bias_g1'])/len(cat['bias_g1']))\n",
    "    \n",
    "    ax.hist(cat['bias_g1_grp'],range=[g_min,g_max],bins=100,ls='dashed',color='red',histtype='step',\n",
    "            label='\\\\rm All galaxies (blending on)',weights=np.ones_like(cat['bias_g1_grp'])/len(cat['bias_g1_grp']))\n",
    "    #\n",
    "    ax.hist(good['bias_g1'],range=[g_min,g_max],bins=100,histtype='step',\n",
    "            label='\\\\rm Lensing sample galaxies (blending off)',color='blue',weights=np.ones_like(good['bias_g1'])/len(good['bias_g1']))\n",
    "    \n",
    "    ax.hist(good['bias_g1_grp'],range=[g_min,g_max],bins=100,ls='dashed',color='blue',histtype='step',\n",
    "            label='\\\\rm Lensing sample galaxies (blending on)',weights=np.ones_like(good['bias_g1_grp'])/len(good['bias_g1_grp']))\n",
    "\n",
    "    ax.legend(prop={'size':22})\n",
    "    ax.set_yscale('log')\n",
    "\n",
    "    #\n",
    "#     #\n",
    "#     plt.subplot(nrow, ncol, 2) \n",
    "#     plt.tick_params(axis='both', which='minor',size=5)\n",
    "#     plt.title('biases on g2',fontsize=14)\n",
    "#     plt.xlabel('bias on g2',fontsize=14)\n",
    "#     plt.ylabel('Fraction of galaxies',fontsize=14)\n",
    "#     plt.xlim(g_min,g_max)\n",
    "#     #\n",
    "#     plt.hist(cat['bias_g2'],range=[g_min,g_max],bins=100,histtype='step',label='bias_g2_all',color='red',weights=np.ones_like(cat['bias_g2'])/len(cat['bias_g2']))\n",
    "#     plt.hist(cat['bias_g2_grp'],range=[g_min,g_max],bins=100,ls='dashed',color='red',histtype='step',label='bias_g2_grp_all',weights=np.ones_like(cat['bias_g2_grp'])/len(cat['bias_g2_grp']))\n",
    "#     plt.legend()\n",
    "#     plt.yscale('log')\n",
    "#     #\n",
    "#     plt.hist(good['bias_g2'],range=[g_min,g_max],bins=100,histtype='step',label='bias_g2_good',color='blue',weights=np.ones_like(good['bias_g2'])/len(good['bias_g2']))\n",
    "#     plt.hist(good['bias_g2_grp'],range=[g_min,g_max],bins=100,color='blue',ls='dashed',histtype='step',label='bias_g2_grp_good',weights=np.ones_like(good['bias_g2_grp'])/len(good['bias_g2_grp']))\n",
    "#     plt.legend()\n",
    "#     #\n",
    "#     plt.hist(gold['bias_g2'],range=[g_min,g_max],bins=100,histtype='step',color='gold',label='bias_g2_gold',weights=np.ones_like(gold['bias_g1'])/len(gold['bias_g2']))\n",
    "#     plt.hist(gold['bias_g2_grp'],range=[g_min,g_max],bins=100,color='gold',ls='dashed',histtype='step',label='bias_g2_grp_gold',weights=np.ones_like(gold['bias_g1_grp'])/len(gold['bias_g2_grp']))\n",
    "#     plt.legend()\n",
    "#     plt.yscale('log')"
   ]
  },
  {
   "cell_type": "code",
   "execution_count": null,
   "metadata": {},
   "outputs": [],
   "source": [
    "cat_plot = main_catsLSST[8]\n",
    "shear_biases_plots3(cat_plot,good(cat_plot))"
   ]
  },
  {
   "cell_type": "code",
   "execution_count": null,
   "metadata": {},
   "outputs": [],
   "source": []
  },
  {
   "cell_type": "code",
   "execution_count": null,
   "metadata": {},
   "outputs": [],
   "source": [
    "#example of how to calculate errors from catalog "
   ]
  },
  {
   "cell_type": "code",
   "execution_count": null,
   "metadata": {},
   "outputs": [],
   "source": [
    "print(errs_param_boot([good(main_catsLSST[8])],'bias_g1', np.median, N = 10000))"
   ]
  },
  {
   "cell_type": "code",
   "execution_count": null,
   "metadata": {},
   "outputs": [],
   "source": [
    "np.median(good(main_catsLSST[8])['bias_g1'])"
   ]
  },
  {
   "cell_type": "markdown",
   "metadata": {},
   "source": [
    "### Histograms of non ambiguous blends "
   ]
  },
  {
   "cell_type": "code",
   "execution_count": null,
   "metadata": {},
   "outputs": [],
   "source": [
    "#produce different plots with the biases calculated from the fisher formalism. \n",
    "plt.rc('text', usetex=True)\n",
    "\n",
    "\n",
    "def shear_biases_hists(cat,colors,g_min,g_max,err_mean_iso=None,err_median_iso=None,err_mean_grp=None,err_median_grp=None,save=None):\n",
    "    \n",
    "    #plt.title(name,fontsize=18)\n",
    "\n",
    "    plt.xlabel(r'$b(g_{1})$',fontsize=28)\n",
    "    plt.ylabel(r'\\rm Fraction of galaxies',fontsize=28)\n",
    "    plt.tick_params(axis='both', which='minor',size=5)\n",
    "    plt.xticks(size=20)\n",
    "    plt.yticks(size=20)\n",
    "    \n",
    "    \n",
    "    plt.hist(cat['bias_g1'],range=[g_min,g_max],bins=100,histtype='step',label='\\\\rm blending off',color=colors[0],weights=np.ones_like(cat['bias_g1'])/len(cat['bias_g1']))\n",
    "    plt.hist(cat['bias_g1_grp'],range=[g_min,g_max],bins=100,color=colors[1],histtype='step',label='\\\\rm blending on',weights=np.ones_like(cat['bias_g1_grp'])/len(cat['bias_g1_grp']))\n",
    "    plt.yscale('log')\n",
    "    plt.ylim(10e-5,10e-1)\n",
    "    plt.xlim(-2,2)\n",
    "    plt.legend(prop={'size':28})\n",
    "    \n",
    "#     if err_mean_iso != None and err_median_iso != None and err_mean_grp != None and err_median_grp != None: \n",
    "    \n",
    "    \n",
    "#         #print mean and stuff \n",
    "#         cut_cat = abs_cut(cat, 'bias_g1_grp', 1.5)\n",
    "#         print('Mean bias_iso for cat:              {:.3g}'.format(np.mean(cut_cat['bias_g1'])))\n",
    "#         print'Error on mean bias_iso for all cat: {:.3g}'.format(err_mean_iso) \n",
    "#         print 'median bias_iso for cat:            {:.3g}'.format(np.median(cat['bias_g1'])) \n",
    "#         print 'error on median bias_iso for cat:   {:.3g}'.format(err_median_iso) \n",
    "\n",
    "#         print 'Mean bias_grp for cat:              {:.3g}'.format(np.mean(cut_cat['bias_g1_grp'])) \n",
    "#         print 'Error on mean bias_grp for all cat: {:.3g}'.format(err_mean_grp) \n",
    "#         print 'median bias_grp for cat:            {:.3g}'.format(np.median(cat['bias_g1_grp'])) \n",
    "#         print 'error on median bias_grp for cat:   {:.3g}'.format(err_median_grp) \n",
    "\n",
    "\n",
    "#     print 'Error on mean bias_iso for all cat: {}'.format(err_mean_iso) \n",
    "\n",
    "#     mean_cut_iso = np.mean(cut_biasiso(cat,10.)['bias_g1'])\n",
    "#     std_cut_iso = np.std(cut_biasiso(cat,10.)['bias_g1'])\n",
    "#     median_iso = np.median(cat['bias_g1'])\n",
    "#     mad_iso = mad(cut_biasiso(cat,10.)['bias_g1'])\n",
    "#     error_std_iso = std_cut_iso/np.sqrt(len(cut_biasiso(cat,10)))\n",
    "#     error_mad_iso = mad_iso/np.sqrt(len(cut_biasiso(cat,10.)['bias_g1']))\n",
    "    \n",
    "#     mean_cut_grp = np.mean(cut_biasgrp(cat,10)['bias_g1_grp'])\n",
    "#     std_cut_grp = np.std(cut_biasgrp(cat,10)['bias_g1_grp'])\n",
    "#     median_grp = np.median(cat['bias_g1_grp'])\n",
    "#     mad_grp = mad(cut_biasgrp(cat,10)['bias_g1_grp'])\n",
    "#     error_std_grp = std_cut_grp/np.sqrt(len(cut_biasgrp(cat,10)))\n",
    "#     error_mad_grp = mad_grp/np.sqrt(len(cut_biasgrp(cat,10)['bias_g1_grp']))\n",
    "    \n",
    "#plt.annotate(r'Mean (using cut): {0:.3f} $\\pm$ {1:.3f}'.format(mean_cut_iso,error_std_iso), xy=(0.03, 0.95), xycoords='axes fraction',color=colors[0],fontsize=15)\n",
    "#plt.annotate(r'Median: {0:.3g} $\\pm$ {1:.3g}'.format(median_iso, error_mad_iso), xy=(0.03, 0.91), xycoords='axes fraction',color=colors[0],fontsize=15)\n",
    "#plt.annotate(r'MAD (using cut): {0:.3g}'.format(mad_iso), xy=(0.03, 0.87), xycoords='axes fraction',color=colors[0],fontsize=15)\n",
    "#plt.annotate(r'Mean (using cut): {0:.3f} $\\pm$ {1:.3f}'.format(mean_cut_grp,error_std_grp), xy=(0.03, 0.83), xycoords='axes fraction',color=colors[1],fontsize=15)\n",
    "#plt.annotate(r'Median: {0:.3g} $\\pm$ {1:.3g}'.format(median_grp, error_mad_grp), xy=(0.03, 0.79), xycoords='axes fraction',color=colors[1],fontsize=15)\n",
    "#plt.annotate(r'MAD (using cut): {0:.3g}'.format(mad_grp), xy=(0.03, 0.75), xycoords='axes fraction',color=colors[1],fontsize=15)"
   ]
  },
  {
   "cell_type": "code",
   "execution_count": null,
   "metadata": {},
   "outputs": [],
   "source": [
    "cat = main_catsLSST[4]\n",
    "cut_cat = abs_cut(cat, 'bias_g1_grp', 1.5)\n",
    "\n",
    "\n",
    "\n",
    "# err_mean_iso = errs_mean_boot([good(best(cut_cat))],'bias_g1')[0]\n",
    "# err_median_iso = errs_med_boot([best(good(cat))],'bias_g1')[0]\n",
    "# err_mean_grp = errs_mean_boot([best(good(cut_cat))],'bias_g1_grp')[0]\n",
    "# err_median_grp = errs_med_boot([best(good(cat))],'bias_g1_grp')[0]\n",
    "\n",
    "\n",
    "\n"
   ]
  },
  {
   "cell_type": "code",
   "execution_count": null,
   "metadata": {},
   "outputs": [],
   "source": [
    "fig = plt.figure(figsize=(15,15))\n",
    "nrow,ncol = 1,1\n",
    "g_min = -2\n",
    "g_max = 2\n",
    "\n",
    "\n",
    "colors = ('red','blue')\n",
    "plt.subplot(111)\n",
    "shear_biases_hists(good(best(main_catsLSST[4])),colors,g_min,g_max,err_mean_iso,err_median_iso,err_mean_grp,err_median_grp)\n",
    "\n",
    "plt.savefig(\"/Users/Ismael/Desktop/hist-medians-no-shear.pdf\")\n",
    "\n",
    "\n",
    "\n"
   ]
  },
  {
   "cell_type": "markdown",
   "metadata": {},
   "source": [
    "### Histograms of ab_mag "
   ]
  },
  {
   "cell_type": "code",
   "execution_count": null,
   "metadata": {},
   "outputs": [],
   "source": [
    "def histograms_abmag(cat,good):\n",
    "    plt.rc('text', usetex=True)\n",
    "    fig = plt.figure(figsize=(10,10))\n",
    "    ax = fig.add_subplot(111)\n",
    "    \n",
    "    \n",
    "#     norm= 1./len(cat['ab_mag'])\n",
    "#     weights = [norm] * len(good['ab_mag'])\n",
    "    plt.hist(cat['ab_mag'], histtype='step', bins=18,color='blue',label='all galaxies',range=(20,29))\n",
    "    plt.hist(good['ab_mag'], histtype='step',bins=18,color='red',label='lensing sample galaxies',range=(20,29))\n",
    "\n",
    "    labels = [r'$0$',r'$10$',r'$20$',r'$30$',r'$40$']\n",
    "    values = [0,10,20,30,40]\n",
    "    conversion = 3600\n",
    "    y = [value*conversion for value in values]\n",
    "    plt.yticks(y, labels)\n",
    "    \n",
    "    \n",
    "    plt.xlim((20,29))\n",
    "    plt.ylabel(r'\\rm Galaxies / sq. arcmin. / (0.5 mag)', fontsize=25)\n",
    "    plt.xlabel(r'\\rm Catalog AB magnitude',fontsize=25)\n",
    "#     plt.title('Histogram of ab_mag for good galaxies')\n",
    "    plt.legend(loc=2,prop={'size':20})\n",
    "    plt.axvline(25.3,color='goldenrod',label='cut for golden sample') #this represents the gold sample cut.\n",
    "    plt.xticks(size=20)\n",
    "    plt.yticks(size=20)\n",
    "#     ax.ticklabel_format(style='sci', axis='y', scilimits=(0, 0))\n",
    "    ax.get_yaxis().get_offset_text().set_size(1)\n",
    "    plt.savefig('/Users/Ismael/Desktop/hist_new1.pdf')\n",
    "\n",
    "\n"
   ]
  },
  {
   "cell_type": "markdown",
   "metadata": {},
   "source": [
    "### Distribution of R2 for galaxies in the catalogue "
   ]
  },
  {
   "cell_type": "code",
   "execution_count": null,
   "metadata": {},
   "outputs": [],
   "source": [
    "psf_sigma = "
   ]
  },
  {
   "cell_type": "code",
   "execution_count": 191,
   "metadata": {},
   "outputs": [],
   "source": [
    "cat = main_catsLSST[4]\n",
    "cat_snr_cut = up_cut(cat, 'snr_grpf', 6)"
   ]
  },
  {
   "cell_type": "code",
   "execution_count": 192,
   "metadata": {},
   "outputs": [],
   "source": [
    "#get distribution of R2: \n",
    "R2s_all = 1 - (psf_sigma/ np.sqrt(cat['sigma_p']**2 + psf_sigma**2))**2 \n",
    "R2s_snr_cut = 1 - (psf_sigma/ np.sqrt(cat_snr_cut['sigma_p']**2 + psf_sigma**2))**2 "
   ]
  },
  {
   "cell_type": "code",
   "execution_count": 193,
   "metadata": {},
   "outputs": [
    {
     "data": {
      "image/png": "[encoded data removed]",
      "text/plain": [
       "<Figure size 720x720 with 1 Axes>"
      ]
     },
     "metadata": {},
     "output_type": "display_data"
    }
   ],
   "source": [
    "#fraction \n",
    "plt.rc('text', usetex=True)\n",
    "fig, ax = plt.subplots(figsize=(10,10))\n",
    "\n",
    "ax.set_xlabel(\"$R_{2} = 1- \\\\left({\\\\sigma_{+}(\\\\rm{PSF}) \\\\over \\\\sigma_{+}(\\\\rm{Gal} \\\\, \\\\ast \\\\, \\\\rm{PSF})}\\\\right)^{2}$\", size = 22)\n",
    "ax.set_ylabel(\"\\\\rm Fraction of galaxies\", size = 22)\n",
    "\n",
    "ax.tick_params(axis='both', which='major', labelsize=18, length=6, width = 2)\n",
    "ax.tick_params(axis='both', which='minor', labelsize=18, length=3, width = 1)\n",
    "ax.tick_params(which= 'major', right=True)\n",
    "ax.tick_params(which= 'minor', right=True)\n",
    "\n",
    "\n",
    "\n",
    "# ax.set_xlim(g_min,g_max)\n",
    "ax.set_ylim(1e-5,1e-1)\n",
    "\n",
    "#     plt.tick_params(axis='both', which='minor',size=5)\n",
    "ax.hist(R2s_all,bins=100,histtype='step',\n",
    "        label='\\\\rm All galaxies',color='red',weights=np.ones_like(R2s_all)/len(R2s_all))\n",
    "\n",
    "ax.hist(R2s_snr_cut,bins=100,histtype='step',\n",
    "        label='\\\\rm Galaxies with $\\\\nu_{\\\\rm{grpf}} > 6$',color='blue',weights=np.ones_like(R2s_snr_cut)/len(R2s_snr_cut))\n",
    "\n",
    "ax.legend(prop={'size':22})\n",
    "ax.set_yscale('log')"
   ]
  },
  {
   "cell_type": "code",
   "execution_count": 196,
   "metadata": {},
   "outputs": [
    {
     "data": {
      "image/png": "[encoded data removed]",
      "text/plain": [
       "<Figure size 720x720 with 1 Axes>"
      ]
     },
     "metadata": {},
     "output_type": "display_data"
    }
   ],
   "source": [
    "#number of galaxies\n",
    "plt.rc('text', usetex=True)\n",
    "fig, ax = plt.subplots(figsize=(10,10))\n",
    "\n",
    "ax.set_xlabel(\"$R_{2} = 1- \\\\left({\\\\sigma_{+}(\\\\rm{PSF}) \\\\over \\\\sigma_{+}(\\\\rm{Gal} \\\\, \\\\ast \\\\, \\\\rm{PSF})}\\\\right)^{2}$\", size = 22)\n",
    "ax.set_ylabel(\"\\\\rm Number of galaxies\", size = 22)\n",
    "\n",
    "ax.tick_params(axis='both', which='major', labelsize=18, length=6, width = 2)\n",
    "ax.tick_params(axis='both', which='minor', labelsize=18, length=3, width = 1)\n",
    "ax.tick_params(which= 'major', right=True)\n",
    "ax.tick_params(which= 'minor', right=True)\n",
    "\n",
    "\n",
    "\n",
    "# # ax.set_xlim(g_min,g_max)\n",
    "# ax.set_ylim(1e-5,1e-1)\n",
    "\n",
    "#     plt.tick_params(axis='both', which='minor',size=5)\n",
    "ax.hist(R2s_all,bins=100,histtype='step',\n",
    "        label='\\\\rm All galaxies',color='red')\n",
    "\n",
    "ax.hist(R2s_snr_cut,bins=100,histtype='step',\n",
    "        label='\\\\rm Galaxies with $\\\\nu_{\\\\rm{grpf}} > 6$',color='blue')\n",
    "\n",
    "ax.legend(prop={'size':22})\n",
    "ax.set_yscale('log')"
   ]
  },
  {
   "cell_type": "code",
   "execution_count": null,
   "metadata": {},
   "outputs": [],
   "source": []
  },
  {
   "cell_type": "code",
   "execution_count": null,
   "metadata": {},
   "outputs": [],
   "source": []
  },
  {
   "cell_type": "code",
   "execution_count": null,
   "metadata": {},
   "outputs": [],
   "source": []
  }
 ],
 "metadata": {
  "kernelspec": {
   "display_name": "igalsim",
   "language": "python",
   "name": "igalsim"
  },
  "language_info": {
   "codemirror_mode": {
    "name": "ipython",
    "version": 3
   },
   "file_extension": ".py",
   "mimetype": "text/x-python",
   "name": "python",
   "nbconvert_exporter": "python",
   "pygments_lexer": "ipython3",
   "version": "3.7.0"
  },
  "toc": {
   "base_numbering": 1,
   "nav_menu": {},
   "number_sections": true,
   "sideBar": true,
   "skip_h1_title": false,
   "title_cell": "Table of Contents",
   "title_sidebar": "Contents",
   "toc_cell": false,
   "toc_position": {
    "height": "calc(100% - 180px)",
    "left": "10px",
    "top": "150px",
    "width": "308.7916564941406px"
   },
   "toc_section_display": true,
   "toc_window_display": true
  }
 },
 "nbformat": 4,
 "nbformat_minor": 2
}
