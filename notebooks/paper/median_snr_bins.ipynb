{
 "cells": [
  {
   "cell_type": "markdown",
   "metadata": {},
   "source": [
    "## Read and filter out duplicated and bad objects."
   ]
  },
  {
   "cell_type": "code",
   "execution_count": 18,
   "metadata": {},
   "outputs": [],
   "source": [
    "#in the order that corresponds to the catalogues. \n",
    "g1s = [-.02,-.015,-.01,-.005,0.,.005,.01,.015,.02]"
   ]
  },
  {
   "cell_type": "code",
   "execution_count": 21,
   "metadata": {},
   "outputs": [
    {
     "name": "stdout",
     "output_type": "stream",
     "text": [
      "reading Ffinal_fitsLSST1\n",
      "reading Ffinal_fitsLSST2\n",
      "reading Ffinal_fitsLSST3\n",
      "reading Ffinal_fitsLSST4\n",
      "reading Ffinal_fitsLSST5\n",
      "reading Ffinal_fitsLSST6\n",
      "reading Ffinal_fitsLSST7\n",
      "reading Ffinal_fitsLSST8\n",
      "reading Ffinal_fitsLSST9\n"
     ]
    }
   ],
   "source": [
    "#this new LSST set of catalogues has g1 = .02 , g2 = 0.0 ; we will be using this one from now on. \n",
    "#this only excludes object that are duplicated and whose snr_grp are problematic.\n",
    "\n",
    "main_catsLSST = []  \n",
    "for key in ['Ffinal_fitsLSST1','Ffinal_fitsLSST2','Ffinal_fitsLSST3','Ffinal_fitsLSST4','Ffinal_fitsLSST5','Ffinal_fitsLSST6','Ffinal_fitsLSST7','Ffinal_fitsLSST8','Ffinal_fitsLSST9']:\n",
    "    results = fits.open(files[key])\n",
    "    main_catsLSST.append(not_bad(get_non_duplicated_cat(Table.read(results,hdu=1)))) #assume not many objects are duplicated/bad.\n",
    "    print('reading {}'.format(key))"
   ]
  },
  {
   "cell_type": "code",
   "execution_count": null,
   "metadata": {},
   "outputs": [],
   "source": [
    "import preamble"
   ]
  },
  {
   "cell_type": "markdown",
   "metadata": {},
   "source": [
    "## Preamble"
   ]
  },
  {
   "cell_type": "code",
   "execution_count": null,
   "metadata": {},
   "outputs": [],
   "source": [
    "# this new function plots both blending off and blending on bias on g1 shear. \n",
    "def plot_bias_bins_both(cat,bins,bin_param,yrange=None,xrange=None, xlabel = None, \n",
    "                  ylabel = None,title = None, xlogscale = False, ylogscale = False, scientific = False, draw_cut_lensing=False): \n",
    "    \n",
    "    plt.rc('text', usetex = True)\n",
    "    fig, ax = plt.subplots(figsize=(10,10))\n",
    "    \n",
    "    min_bin,max_bin = np.min(cat[bin_param]), np.max(cat[bin_param])\n",
    "    print(f'min {bin_param}, max {bin_param}:', min_bin, max_bin)\n",
    "    print('bins', bins )\n",
    "    \n",
    "    #blending off \n",
    "    small_cats, x, y_isos,errs_x1, errs_x2 = binning_helper(bins, cat, bin_param, 'bias_g1')\n",
    "    x_errs = [errs_x1,errs_x2]     # put the errors into a list \n",
    "    y_errs_iso = errs_param_boot(small_cats,'bias_g1', np.median,N=1000)     #get y errs, this are the error in the median shear bias calculated \n",
    "    \n",
    "    \n",
    "    #blending on. \n",
    "    _, _, y_grps,_, _ = binning_helper(bins, cat, bin_param, 'bias_g1_grp')\n",
    "    y_errs_grp = errs_param_boot(small_cats,'bias_g1_grp', np.median,N=1000)     \n",
    "    \n",
    "    print('x_errs')\n",
    "    print(x_errs)\n",
    "    print()\n",
    "    print('x')\n",
    "    print(x)\n",
    "    print()\n",
    "    print('y_errs for bias_g1')\n",
    "    print(y_errs_iso)\n",
    "    print() \n",
    "    print('y for bias_g1')\n",
    "    print(y_isos)\n",
    "    print()\n",
    "    print('y_errs for bias_g1_grp')\n",
    "    print(y_errs_grp)\n",
    "    print() \n",
    "    print('y for bias_g1_grp')\n",
    "    print(y_grps)\n",
    "    print() \n",
    "    \n",
    "    #deal with negative points per pat's slack comment. \n",
    "    for i,(y_iso,y_grp) in enumerate(zip(y_isos, y_grps)): \n",
    "        if y_iso < 0: \n",
    "            print('negative iso')\n",
    "            y_errs_iso[i] = y_errs_iso[i] + y_isos[i] - 0.8e-7 \n",
    "            y_isos[i] = 0.8e-7  #set point somewhere below 10^{-7} but not negative. \n",
    "            \n",
    "        if y_grp < 0: \n",
    "            print('negative grp')\n",
    "            y_errs_grp[i] = y_errs_grp[i] + y_grps[i] - 0.8e-7 \n",
    "            y_grps[i] = 0.8e-7  #set point somewhere below 10^{-7} but not negative.\n",
    "            \n",
    "            \n",
    "    #mark that we have a cut at snr = 6 \n",
    "    if draw_cut_lensing:\n",
    "        ax.axvline(x=6, color='g')\n",
    "            \n",
    "    \n",
    "    \n",
    "    \n",
    "    #x_errs[1][-1] = 29.94817734 #make the last one symmetric to avoid running off plot\n",
    "    \n",
    "    ########################################## formating ##########################################\n",
    "        \n",
    "    #ax.set_yscale('log')\n",
    "    if xlogscale: \n",
    "        ax.set_xscale('log')\n",
    "    \n",
    "    if ylogscale: \n",
    "        ax.set_yscale('log')\n",
    "    \n",
    "    if yrange: \n",
    "        ax.set_ylim(yrange)\n",
    "    if xrange: \n",
    "        ax.set_xlim(xrange)\n",
    "        \n",
    "    ax.set_title(title, size =28)\n",
    "    ax.set_xlabel(xlabel, size = 24)\n",
    "    ax.set_ylabel(ylabel, size = 24)\n",
    "        \n",
    "    \n",
    "    ax.tick_params(axis='both', which='major', labelsize=20)\n",
    "\n",
    "    #scientfic notation. \n",
    "    if scientific == True: \n",
    "        ax.ticklabel_format(style='sci', axis='y', scilimits=(0,0))\n",
    "        ax.yaxis.offsetText.set_fontsize(15)\n",
    "        \n",
    "    elif scientific == 'yes': \n",
    "        ax.ticklabel_format(style='sci', axis='y', scilimits=(0,0))\n",
    "        ax.yaxis.offsetText.set_fontsize(1)\n",
    "    \n",
    "    ax.axhline(y=0.0, color='g', linestyle=':')    \n",
    "    \n",
    "    ########################################## plotting ##########################################\n",
    "\n",
    "    ax.errorbar(x,y_isos,xerr=x_errs,yerr=y_errs_iso,fmt='o',capsize=5,ecolor='r',color = 'r', label = '\\\\rm Blending off')\n",
    "    ax.errorbar(x,y_grps,xerr=x_errs,yerr=y_errs_grp,fmt='o',capsize=5,ecolor='b',color = 'b', label = '\\\\rm Blending on')\n",
    "    \n",
    "    ax.legend(prop=dict(size=22))\n",
    " "
   ]
  },
  {
   "cell_type": "markdown",
   "metadata": {},
   "source": [
    "## Plots "
   ]
  },
  {
   "cell_type": "code",
   "execution_count": null,
   "metadata": {},
   "outputs": [],
   "source": [
    "# this new function plots both blending off and blending on bias on g1 shear. \n",
    "def plot_bias_bins(cat,bins,bin_param,bias_type, yrange=None,xrange=None, xlabel = None, \n",
    "                  ylabel = None, title = None, xlogscale = False, ylogscale = False,  scientific = False, ): \n",
    "    \n",
    "    plt.rc('text', usetex = True)\n",
    "    fig, ax = plt.subplots(figsize=(10,10))\n",
    "    \n",
    "    min_bin,max_bin = np.min(cat[bin_param]), np.max(cat[bin_param])\n",
    "    print(f'min {bin_param}, max {bin_param}:', min_bin, max_bin)\n",
    "    print('bins', bins )\n",
    "    \n",
    "    #blending off \n",
    "    small_cats, x, y, errs_x1, errs_x2 = binning_helper(bins, cat, bin_param, bias_type)\n",
    "    x_errs = [errs_x1,errs_x2]     # put the errors into a list \n",
    "    y_errs = errs_param_boot(small_cats, bias_type, np.median,N=1000)     #get y errs, this are the error in the median shear bias calculated \n",
    "    \n",
    "    \n",
    "    \n",
    "    print('x_errs')\n",
    "    print(x_errs)\n",
    "    print()\n",
    "    print('x')\n",
    "    print(x)\n",
    "    print()\n",
    "    print(f'y_errs for {bias_type}')\n",
    "    print(y_errs)\n",
    "    print() \n",
    "    print(f'y for {bias_type}')\n",
    "    print(y)\n",
    " \n",
    "    \n",
    "    \n",
    "    \n",
    "    #x_errs[1][-1] = 29.94817734 #make the last one symmetric to avoid running off plot\n",
    "    \n",
    "    ########################################## formating ##########################################\n",
    "        \n",
    "    #ax.set_yscale('log')\n",
    "    if xlogscale: \n",
    "        ax.set_xscale('log')\n",
    "    \n",
    "    if ylogscale: \n",
    "        ax.set_yscale('log')\n",
    "    \n",
    "    if yrange: \n",
    "        ax.set_ylim(yrange)\n",
    "    if xrange: \n",
    "        ax.set_xlim(xrange)\n",
    "        \n",
    "    ax.set_title(title, size =28)\n",
    "    ax.set_xlabel(xlabel, size = 24)\n",
    "    ax.set_ylabel(ylabel, size = 24)\n",
    "        \n",
    "    \n",
    "    ax.tick_params(axis='both', which='major', labelsize=20)\n",
    "\n",
    "    #scientfic notation. \n",
    "    if scientific == True: \n",
    "        ax.ticklabel_format(style='sci', axis='y', scilimits=(0,0))\n",
    "        ax.yaxis.offsetText.set_fontsize(15)\n",
    "        \n",
    "    elif scientific == 'yes': \n",
    "        ax.ticklabel_format(style='sci', axis='y', scilimits=(0,0))\n",
    "        ax.yaxis.offsetText.set_fontsize(1)\n",
    "    \n",
    "    ax.axhline(y=0.0, color='g', linestyle=':')    \n",
    "    \n",
    "    ########################################## plotting ##########################################\n",
    "\n",
    "    ax.errorbar(x,y,xerr=x_errs,yerr=y_errs,fmt='o',capsize=5,ecolor='r',color = 'b')"
   ]
  },
  {
   "cell_type": "code",
   "execution_count": null,
   "metadata": {},
   "outputs": [],
   "source": [
    "def binning_helper(bins, cat, bin_param, bias_type): \n",
    "    small_cats = []\n",
    "    x = [] \n",
    "    y = [] \n",
    "    errs_x1 = [] \n",
    "    errs_x2 = []\n",
    "    for i in range(len(bins)-1):\n",
    "        small_cat = down_cut(up_cut(cat,bin_param,bins[i]),bin_param,bins[i+1])\n",
    "\n",
    "        #if the cutted catalogue turns out to be empty, ignore it. \n",
    "        if len(small_cat) == 0: \n",
    "            continue \n",
    "\n",
    "\n",
    "        small_cats.append(small_cat) \n",
    "\n",
    "        median_bin_value = np.median(small_cat[bin_param])\n",
    "        small_bias = np.median(small_cat[bias_type])\n",
    "\n",
    "        #want 'error bars on x' showing the extent of the bin widths\n",
    "        errs_x1.append(np.absolute(bins[i] - median_bin_value))\n",
    "        errs_x2.append(np.absolute(bins[i+1] - median_bin_value))\n",
    "\n",
    "        #print the error for this param, we want all of them to be the same \n",
    "\n",
    "        #err_y.append(np.std(abs_cut(small_cat,param,10)[param]))\n",
    "        x.append(median_bin_value)\n",
    "        y.append(small_bias)\n",
    "    \n",
    "    return small_cats, np.array(x), np.array(y), np.array(errs_x1), np.array(errs_x2) "
   ]
  },
  {
   "cell_type": "markdown",
   "metadata": {},
   "source": [
    "### All galaxies,  snr_grpf, b(g1) blending off "
   ]
  },
  {
   "cell_type": "code",
   "execution_count": 148,
   "metadata": {},
   "outputs": [],
   "source": [
    "cat = main_catsLSST[8]\n",
    "#snrs = [2**i for i in range(0,8)]"
   ]
  },
  {
   "cell_type": "code",
   "execution_count": 149,
   "metadata": {},
   "outputs": [],
   "source": [
    "snrs = [1.5,3.0,6.0,12,24,48,96,192] "
   ]
  },
  {
   "cell_type": "code",
   "execution_count": 150,
   "metadata": {},
   "outputs": [],
   "source": [
    "snrs.append(np.max(cat['snr_grpf']))\n",
    "\n",
    "xlabel= \"$\\\\nu_{\\\\rm{grpf}}$\"\n",
    "ylabel= \"\\\\rm{Median shear bias}\"\n",
    "title = '\\\\rm{All galaxies}' \n",
    "\n",
    "\n",
    "xrange = [1, 192]\n",
    "yrange = [1e-7,1e-1]"
   ]
  },
  {
   "cell_type": "code",
   "execution_count": 151,
   "metadata": {},
   "outputs": [],
   "source": [
    "# plot_bias_bins(cat,snrs, 'snr_grpf', 'bias_g1', yrange=yrange, xrange=xrange, \n",
    "#               xlabel = xlabel , ylabel = ylabel, \n",
    "#               title = title, xlogscale = True, ylogscale = True, scientific = True)"
   ]
  },
  {
   "cell_type": "code",
   "execution_count": 152,
   "metadata": {
    "scrolled": false
   },
   "outputs": [
    {
     "name": "stdout",
     "output_type": "stream",
     "text": [
      "min snr_grpf, max snr_grpf: 2.09402e-06 23278.7\n",
      "bins [1.5, 3.0, 6.0, 12, 24, 48, 96, 192, 23278.695]\n",
      "just to check that symmetry is respected print both percentiles: [ 0.00060537  0.00050979]\n",
      "just to check that symmetry is respected print both percentiles: [ 0.00014647  0.00017954]\n",
      "just to check that symmetry is respected print both percentiles: [  3.54619557e-05   4.46637277e-05]\n",
      "just to check that symmetry is respected print both percentiles: [  9.82759229e-06   1.07846834e-05]\n",
      "just to check that symmetry is respected print both percentiles: [  3.78618097e-06   3.12539305e-06]\n",
      "just to check that symmetry is respected print both percentiles: [  1.04920605e-06   8.06786047e-07]\n",
      "just to check that symmetry is respected print both percentiles: [  2.26974777e-07   2.69612751e-07]\n",
      "just to check that symmetry is respected print both percentiles: [  1.50040798e-08   1.48360151e-08]\n",
      "just to check that symmetry is respected print both percentiles: [ 0.00104671  0.00089888]\n",
      "just to check that symmetry is respected print both percentiles: [ 0.00030457  0.00031371]\n",
      "just to check that symmetry is respected print both percentiles: [  9.56401229e-05   9.72984079e-05]\n",
      "just to check that symmetry is respected print both percentiles: [  4.07538051e-05   3.74980946e-05]\n",
      "just to check that symmetry is respected print both percentiles: [  1.72448601e-05   1.60565786e-05]\n",
      "just to check that symmetry is respected print both percentiles: [  7.48111052e-06   7.55368616e-06]\n",
      "just to check that symmetry is respected print both percentiles: [  4.16185404e-06   5.32939407e-06]\n",
      "just to check that symmetry is respected print both percentiles: [  6.26992460e-07   7.91356683e-07]\n",
      "x_errs\n",
      "[array([   0.5963378 ,    1.09559155,    2.15653419,    4.16221237,\n",
      "          8.2012558 ,   16.09570312,   31.32125092,  125.24597168]), array([  9.03662205e-01,   1.90440845e+00,   3.84346581e+00,\n",
      "         7.83778763e+00,   1.57987442e+01,   3.19042969e+01,\n",
      "         6.46787491e+01,   2.29614492e+04])]\n",
      "\n",
      "x\n",
      "[   2.0963378     4.09559155    8.15653419   16.16221237   32.2012558\n",
      "   64.09570312  127.32125092  317.24597168]\n",
      "\n",
      "y_errs for bias_g1\n",
      "[0.00050979293882846832, 0.00017954401671886437, 4.4663727749139071e-05, 1.0784683399833736e-05, 3.1253930501407012e-06, 8.0678604717832113e-07, 2.696127512535894e-07, 1.4836015083119491e-08]\n",
      "\n",
      "y for bias_g1\n",
      "[  1.40066454e-02   3.61741614e-03   6.58941863e-04   1.08687280e-04\n",
      "   2.35735952e-05   4.37965127e-06   5.66815800e-07   4.95617236e-08]\n",
      "\n",
      "y_errs for bias_g1_grp\n",
      "[0.00089888304471969632, 0.00031371228396892548, 9.7298407927155599e-05, 3.7498094607144559e-05, 1.6056578606367107e-05, 7.5536861550062876e-06, 5.3293940709409071e-06, 7.9135668329399778e-07]\n",
      "\n",
      "y for bias_g1_grp\n",
      "[  2.79946141e-02   7.47077540e-03   1.64067815e-03   2.76746636e-04\n",
      "   1.04212580e-04   2.37817767e-05  -1.06008906e-06   1.68699455e-06]\n",
      "\n",
      "negative grp\n"
     ]
    },
    {
     "data": {
      "image/png": "[encoded data removed]",
      "text/plain": [
       "<Figure size 720x720 with 1 Axes>"
      ]
     },
     "metadata": {},
     "output_type": "display_data"
    }
   ],
   "source": [
    "plot_bias_bins_both(cat,snrs, 'snr_grpf', yrange=yrange, xrange=xrange, \n",
    "              xlabel = xlabel , ylabel = ylabel, \n",
    "              title = title, xlogscale = True, ylogscale = True, scientific = False, draw_cut_lensing=False)"
   ]
  },
  {
   "cell_type": "markdown",
   "metadata": {},
   "source": [
    "### SNR bins for cut only on size. "
   ]
  },
  {
   "cell_type": "code",
   "execution_count": 133,
   "metadata": {},
   "outputs": [],
   "source": [
    "size_cut_cat = up_cut(main_catsLSST[8], 'sigma_m', 0.2)  \n",
    "#snrs = [2**i for i in range(0,8)]"
   ]
  },
  {
   "cell_type": "code",
   "execution_count": 134,
   "metadata": {},
   "outputs": [],
   "source": [
    "snrs = [1.5,3.0,6.0,12,24,48,96,192] \n",
    "\n",
    "snrs.append(np.max(cat['snr_grpf']))"
   ]
  },
  {
   "cell_type": "code",
   "execution_count": 135,
   "metadata": {},
   "outputs": [],
   "source": [
    "xlabel= \"$\\\\nu_{\\\\rm{grpf}}$\"\n",
    "ylabel= \"\\\\rm{Median shear bias}\"\n",
    "title = '\\\\rm{Galaxies with } $\\\\sigma_{-} > 0.2$' \n",
    "\n",
    "xrange = [1, 192]\n",
    "yrange = [1e-7,1e-1]"
   ]
  },
  {
   "cell_type": "code",
   "execution_count": 136,
   "metadata": {},
   "outputs": [
    {
     "name": "stdout",
     "output_type": "stream",
     "text": [
      "min snr_grpf, max snr_grpf: 2.09402e-06 23278.7\n",
      "bins [1.5, 3.0, 6.0, 12, 24, 48, 96, 192, 23278.695]\n",
      "just to check that symmetry is respected print both percentiles: [ 0.0002806   0.00027136]\n",
      "just to check that symmetry is respected print both percentiles: [  8.10226053e-05   9.94638540e-05]\n",
      "just to check that symmetry is respected print both percentiles: [  2.65877461e-05   2.54644547e-05]\n",
      "just to check that symmetry is respected print both percentiles: [  8.11887730e-06   7.43276178e-06]\n",
      "just to check that symmetry is respected print both percentiles: [  1.78013215e-06   3.34261313e-06]\n",
      "just to check that symmetry is respected print both percentiles: [  9.12160149e-07   7.93441013e-07]\n",
      "just to check that symmetry is respected print both percentiles: [  2.32197863e-07   2.27409600e-07]\n",
      "just to check that symmetry is respected print both percentiles: [  1.48016532e-08   1.53660409e-08]\n",
      "just to check that symmetry is respected print both percentiles: [ 0.00075502  0.00058043]\n",
      "just to check that symmetry is respected print both percentiles: [ 0.00027151  0.0002102 ]\n",
      "just to check that symmetry is respected print both percentiles: [  8.62195948e-05   7.96152744e-05]\n",
      "just to check that symmetry is respected print both percentiles: [  2.87281157e-05   2.07854755e-05]\n",
      "just to check that symmetry is respected print both percentiles: [  1.61233984e-05   1.46492894e-05]\n",
      "just to check that symmetry is respected print both percentiles: [  7.06685751e-06   6.76622585e-06]\n",
      "just to check that symmetry is respected print both percentiles: [  3.96649841e-06   5.08585924e-06]\n",
      "just to check that symmetry is respected print both percentiles: [  6.51733217e-07   8.74835109e-07]\n",
      "x_errs\n",
      "[array([   0.60755396,    1.14277744,    2.23845482,    4.28313255,\n",
      "          8.36307526,   16.34291077,   32.21662903,  128.23071289]), array([  8.92446041e-01,   1.85722256e+00,   3.76154518e+00,\n",
      "         7.71686745e+00,   1.56369247e+01,   3.16570892e+01,\n",
      "         6.37833710e+01,   2.29584648e+04])]\n",
      "\n",
      "x\n",
      "[   2.10755396    4.14277744    8.23845482   16.28313255   32.36307526\n",
      "   64.34291077  128.21662903  320.23071289]\n",
      "\n",
      "y_errs for bias_g1\n",
      "[0.00027135770767927093, 9.9463853985071182e-05, 2.5464454665780067e-05, 7.4327617767266929e-06, 3.3426131267333403e-06, 7.9344101322931163e-07, 2.2740960048395209e-07, 1.5366040884146059e-08]\n",
      "\n",
      "y for bias_g1\n",
      "[  7.75068533e-03   2.25756271e-03   4.60785755e-04   8.37360640e-05\n",
      "   1.94348577e-05   4.56572889e-06   5.66015672e-07   4.29332445e-08]\n",
      "\n",
      "y_errs for bias_g1_grp\n",
      "[0.00058042816817760468, 0.00021019997075200081, 7.961527444422245e-05, 2.0785475498996675e-05, 1.4649289369117469e-05, 6.7662258516065776e-06, 5.0858592430813587e-06, 8.7483510924357688e-07]\n",
      "\n",
      "y for bias_g1_grp\n",
      "[  1.68527700e-02   5.00166649e-03   1.14000891e-03   2.04155775e-04\n",
      "   8.54304453e-05   2.54280822e-05  -1.06595905e-06   1.66043685e-06]\n",
      "\n",
      "negative grp\n"
     ]
    },
    {
     "data": {
      "image/png": "[encoded data removed]",
      "text/plain": [
       "<Figure size 720x720 with 1 Axes>"
      ]
     },
     "metadata": {},
     "output_type": "display_data"
    }
   ],
   "source": [
    "\n",
    "# plot_bias_bins(cat,snrs, 'snr_grpf', 'bias_g1', yrange=yrange, xrange=xrange, \n",
    "#               xlabel = xlabel , ylabel = ylabel, \n",
    "#               title = title, xlogscale = True, ylogscale = True, scientific = True)\n",
    "\n",
    "plot_bias_bins_both(size_cut_cat,snrs, 'snr_grpf', yrange=yrange, xrange=xrange, \n",
    "              xlabel = xlabel , ylabel = ylabel, \n",
    "              title = title, xlogscale = True, ylogscale = True, scientific = False, draw_cut_lensing=False)"
   ]
  },
  {
   "cell_type": "markdown",
   "metadata": {},
   "source": [
    "### All galaxies,  purity, b(g1) blending off "
   ]
  },
  {
   "cell_type": "code",
   "execution_count": 222,
   "metadata": {},
   "outputs": [],
   "source": [
    "cat = main_catsLSST[8]\n",
    "\n",
    "puritys = np.linspace(0, 1. , 6 )\n",
    "\n",
    "xlabel= \"\\\\rm{purity}\"\n",
    "ylabel= \"\\\\rm{Median shear bias$\\\\; [10^{-2}]$\"\n",
    "title = '\\\\rm{All galaxies}' \n",
    "\n",
    "\n",
    "xrange = (0,1.01 )\n",
    "yrange = [-1.7e-3,.125e-3]"
   ]
  },
  {
   "cell_type": "code",
   "execution_count": 223,
   "metadata": {},
   "outputs": [
    {
     "name": "stdout",
     "output_type": "stream",
     "text": [
      "min purity, max purity: 4.45327e-05 1.0\n",
      "bins [ 0.   0.2  0.4  0.6  0.8  1. ]\n",
      "just to check that symmetry is respected print both percentiles: [ 0.00123717  0.00139597]\n",
      "just to check that symmetry is respected print both percentiles: [ 0.00079138  0.00088536]\n",
      "just to check that symmetry is respected print both percentiles: [ 0.00053984  0.00050361]\n",
      "just to check that symmetry is respected print both percentiles: [ 0.00024854  0.00025661]\n",
      "just to check that symmetry is respected print both percentiles: [  1.14900339e-05   1.16910099e-05]\n",
      "just to check that symmetry is respected print both percentiles: [ 0.00470954  0.0059257 ]\n",
      "just to check that symmetry is respected print both percentiles: [ 0.00254858  0.00291949]\n",
      "just to check that symmetry is respected print both percentiles: [ 0.00165589  0.00146593]\n",
      "just to check that symmetry is respected print both percentiles: [ 0.00062135  0.00060794]\n",
      "just to check that symmetry is respected print both percentiles: [  2.54894188e-05   2.44076876e-05]\n",
      "x_errs\n",
      "[array([ 0.10237918,  0.10369741,  0.10711989,  0.11221274,  0.1759261 ]), array([ 0.09762082,  0.09630259,  0.09288011,  0.08778726,  0.0240739 ])]\n",
      "\n",
      "x\n",
      "[ 0.10237918  0.30369741  0.50711989  0.71221274  0.9759261 ]\n",
      "\n",
      "y_errs for bias_g1\n",
      "[0.0013959711790084844, 0.0008853590115904808, 0.00050361454486846924, 0.00025660521350800991, 1.1691009858623121e-05]\n",
      "\n",
      "y for bias_g1\n",
      "[ 0.01715861  0.01007657  0.00814641  0.00359895  0.00026842]\n",
      "\n",
      "y_errs for bias_g1_grp\n",
      "[0.0059256964921951261, 0.0029194913804531097, 0.001465934514999389, 0.00060793995857238818, 2.4407687596976805e-05]\n",
      "\n",
      "y for bias_g1_grp\n",
      "[ 0.03843686  0.02116901  0.0156411   0.00769837  0.00056747]\n",
      "\n"
     ]
    },
    {
     "data": {
      "image/png": "[encoded data removed]",
      "text/plain": [
       "<Figure size 720x720 with 1 Axes>"
      ]
     },
     "metadata": {},
     "output_type": "display_data"
    }
   ],
   "source": [
    "plot_bias_bins_both(cat,puritys, 'purity', yrange=None, xrange=xrange, \n",
    "              xlabel = xlabel , ylabel = ylabel, \n",
    "              title = title, xlogscale = False, ylogscale = False, scientific = 'yes')"
   ]
  },
  {
   "cell_type": "code",
   "execution_count": null,
   "metadata": {},
   "outputs": [],
   "source": []
  }
 ],
 "metadata": {
  "kernelspec": {
   "display_name": "igalsim",
   "language": "python",
   "name": "igalsim"
  },
  "language_info": {
   "codemirror_mode": {
    "name": "ipython",
    "version": 3
   },
   "file_extension": ".py",
   "mimetype": "text/x-python",
   "name": "python",
   "nbconvert_exporter": "python",
   "pygments_lexer": "ipython3",
   "version": "3.7.0"
  },
  "toc": {
   "base_numbering": 1,
   "nav_menu": {},
   "number_sections": true,
   "sideBar": true,
   "skip_h1_title": false,
   "title_cell": "Table of Contents",
   "title_sidebar": "Contents",
   "toc_cell": false,
   "toc_position": {},
   "toc_section_display": true,
   "toc_window_display": true
  }
 },
 "nbformat": 4,
 "nbformat_minor": 2
}
