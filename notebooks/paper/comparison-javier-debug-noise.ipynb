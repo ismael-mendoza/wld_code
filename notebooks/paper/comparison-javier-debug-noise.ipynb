{
 "cells": [
  {
   "cell_type": "code",
   "execution_count": null,
   "metadata": {},
   "outputs": [],
   "source": [
    "import descwl\n",
    "\n",
    "#compare the chip Javier and I were interested in .\n",
    "file_name = '/Users/Ismael/aegis/WeakLensingDeblending/projectLSST-g1_20-g2_0/section00.fits'\n",
    "# image = '/Users/Ismael/aegis/WeakLensingDeblending/projectd2/noise_image.fits'\n",
    "\n",
    "results = fits.open(file_name)\n",
    "table = Table.read(results,hdu=1)\n",
    "\n",
    "\n",
    "results2 = descwl.output.Reader(file_name).results\n",
    "\n",
    "\n",
    "results2.add_noise(noise_seed=123)\n",
    "\n",
    "\n",
    "\n",
    "plt.imshow(results2.survey.image.array[:400,:400],cmap='gray',vmax=1000)\n",
    "plt.colorbar() \n",
    "\n",
    "results2.table\n",
    "\n",
    "float(len(up_cut(detected(table_javier2),'purity',.98)))/len(up_cut(table_javier2,'purity',.98))\n",
    "\n",
    "len(np.unique(table_javier2['db_id']))\n",
    "\n",
    "#plot the image like javier does \n",
    "\n",
    "import fitsio \n",
    "stamp = fitsio.FITS(image)[0].read()\n",
    "\n",
    "stamp\n",
    "\n",
    "plt.imshow(stamp[:400,:400],cmap='gray',vmax=1000)\n",
    "\n",
    "plt.hist(stamp.flatten(),range=(-2000,2000),bins=50,alpha=0.5)\n",
    "\n",
    "float(len(not_ambig(detected(good(main_catsLSST[4])))))\n",
    "\n",
    "float(len(up_cut(up_cut(main_catsLSST[4],'snr_grpf',10),'sigma_m',.2)))/len(main_catsLSST[4])\n",
    "\n",
    "len(good(main_catsLSST[4]))\n",
    "\n",
    "float(len(detected(up_cut(main_catsLSST[4],'purity',.98))))/len(main_catsLSST[4])\n",
    "\n",
    "float(len(detected(up_cut(main_catsLSST[4],'purity',.98))))/len(up_cut(main_catsLSST[4],'purity',.98))\n",
    "\n",
    "float(len(not_ambig(not_detected(good(main_catsLSST[4])))))/len(good(main_catsLSST[4]))\n",
    "\n",
    "float(len(up_cut(up_cut(main_catsLSST[4],'purity',.98),'snr_grpf',6)))/len(main_catsLSST[4])"
   ]
  }
 ],
 "metadata": {
  "kernelspec": {
   "display_name": "Python [conda env:galsim]",
   "language": "python",
   "name": "conda-env-galsim-py"
  },
  "language_info": {
   "codemirror_mode": {
    "name": "ipython",
    "version": 3
   },
   "file_extension": ".py",
   "mimetype": "text/x-python",
   "name": "python",
   "nbconvert_exporter": "python",
   "pygments_lexer": "ipython3",
   "version": "3.6.6"
  },
  "toc": {
   "base_numbering": 1,
   "nav_menu": {},
   "number_sections": true,
   "sideBar": true,
   "skip_h1_title": false,
   "title_cell": "Table of Contents",
   "title_sidebar": "Contents",
   "toc_cell": false,
   "toc_position": {},
   "toc_section_display": true,
   "toc_window_display": true
  }
 },
 "nbformat": 4,
 "nbformat_minor": 2
}
