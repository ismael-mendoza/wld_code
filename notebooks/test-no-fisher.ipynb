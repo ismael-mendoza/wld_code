{
 "cells": [
  {
   "cell_type": "code",
   "execution_count": 1,
   "metadata": {
    "ExecuteTime": {
     "end_time": "2019-07-03T04:44:51.451526Z",
     "start_time": "2019-07-03T04:44:51.436161Z"
    }
   },
   "outputs": [],
   "source": [
    "wld_dir = '/nfs/slac/g/ki/ki19/deuce/AEGIS/ismael/WLD'\n",
    "wld_pkg = '/nfs/slac/g/ki/ki19/deuce/AEGIS/ismael/WLD/WeakLensingDeblending'\n",
    "\n",
    "import os\n",
    "os.chdir(wld_dir)\n",
    "\n",
    "#from importlib import reload"
   ]
  },
  {
   "cell_type": "code",
   "execution_count": 2,
   "metadata": {
    "ExecuteTime": {
     "end_time": "2019-07-03T04:44:53.952657Z",
     "start_time": "2019-07-03T04:44:51.461932Z"
    }
   },
   "outputs": [],
   "source": [
    "import numpy as np "
   ]
  },
  {
   "cell_type": "markdown",
   "metadata": {},
   "source": [
    "# Simulate testing patches"
   ]
  },
  {
   "cell_type": "code",
   "execution_count": 35,
   "metadata": {
    "ExecuteTime": {
     "end_time": "2019-07-03T05:50:58.898243Z",
     "start_time": "2019-07-03T05:50:28.627194Z"
    },
    "scrolled": false
   },
   "outputs": [
    {
     "name": "stdout",
     "output_type": "stream",
     "text": [
      "Read 858502 catalog entries from params/OneDegSq.fits\n",
      "Simulating LSST i-band survey with {'survey_name': 'LSST', 'filter_band': 'i', 'atmospheric_psf_beta': 0.0, 'atmospheric_psf_e1': 0.0, 'atmospheric_psf_e2': 0.0, 'cosmic_shear_g1': 0.0, 'cosmic_shear_g2': 0.0, 'airmass': 1.2, 'mirror_diameter': 8.36, 'effective_area': 32.4, 'image_width': 100, 'image_height': 100, 'pixel_scale': 0.2, 'exposure_time': 5520.0, 'sky_brightness': 20.5, 'zenith_psf_fwhm': 0.67, 'zero_point': 32.36, 'extinction': 0.07} (obs.frac. = 0.640)\n",
      "Will render all pixels with at least 21.2 detected electrons.\n",
      "PSF dilution factor is 0.049652.\n",
      "Simulation output will be saved to data/example4.fits\n",
      "Simulated 33 galaxies in 15 overlap groups.\n"
     ]
    }
   ],
   "source": [
    "! ./WeakLensingDeblending/simulate.py --survey-name LSST --filter-band i --image-height 100 \\\n",
    "--image-width 100 --catalog-name params/OneDegSq.fits --no-hsm --no-agn --no-stamps \\\n",
    "--verbose --output-name data/example4 --variations-s .1 --variations-g .2 --variations-x .3 --use-pinv"
   ]
  },
  {
   "cell_type": "code",
   "execution_count": 19,
   "metadata": {
    "ExecuteTime": {
     "end_time": "2019-07-03T04:29:25.467243Z",
     "start_time": "2019-07-03T04:28:46.872951Z"
    }
   },
   "outputs": [
    {
     "name": "stdout",
     "output_type": "stream",
     "text": [
      "Read 858502 catalog entries from params/OneDegSq.fits\n",
      "Simulating LSST i-band survey with {'survey_name': 'LSST', 'filter_band': 'i', 'atmospheric_psf_beta': 0.0, 'atmospheric_psf_e1': 0.0, 'atmospheric_psf_e2': 0.0, 'cosmic_shear_g1': 0.0, 'cosmic_shear_g2': 0.0, 'airmass': 1.2, 'mirror_diameter': 8.36, 'effective_area': 32.4, 'image_width': 100, 'image_height': 100, 'pixel_scale': 0.2, 'exposure_time': 5520.0, 'sky_brightness': 20.5, 'zenith_psf_fwhm': 0.67, 'zero_point': 32.36, 'extinction': 0.07} (obs.frac. = 0.640)\n",
      "Will render all pixels with at least 21.2 detected electrons.\n",
      "PSF dilution factor is 0.049652.\n",
      "Simulation output will be saved to temp/example3.fits\n",
      "Simulated 33 galaxies in 15 overlap groups.\n"
     ]
    }
   ],
   "source": [
    "! ./temp/WeakLensingDeblending/simulate.py --survey-name LSST --filter-band i --image-height 100 \\\n",
    "--image-width 100 --catalog-name params/OneDegSq.fits --calculate-bias --no-agn \\\n",
    "--verbose --output-name temp/example3"
   ]
  },
  {
   "cell_type": "markdown",
   "metadata": {},
   "source": [
    "# Compare the tables entries one by one "
   ]
  },
  {
   "cell_type": "code",
   "execution_count": 28,
   "metadata": {
    "ExecuteTime": {
     "end_time": "2019-07-03T04:49:09.762728Z",
     "start_time": "2019-07-03T04:49:09.754793Z"
    }
   },
   "outputs": [],
   "source": [
    "from astropy.table import Table"
   ]
  },
  {
   "cell_type": "code",
   "execution_count": 29,
   "metadata": {
    "ExecuteTime": {
     "end_time": "2019-07-03T04:49:10.312441Z",
     "start_time": "2019-07-03T04:49:09.975349Z"
    }
   },
   "outputs": [],
   "source": [
    "t1 = Table.read(\"data/example2.fits\")\n",
    "t2 = Table.read(\"temp/example2.fits\")"
   ]
  },
  {
   "cell_type": "code",
   "execution_count": 30,
   "metadata": {
    "ExecuteTime": {
     "end_time": "2019-07-03T04:49:10.468350Z",
     "start_time": "2019-07-03T04:49:10.410253Z"
    }
   },
   "outputs": [
    {
     "data": {
      "text/html": [
       "<i>Table length=33</i>\n",
       "<table id=\"table140338192290256\" class=\"table-striped table-bordered table-condensed\">\n",
       "<thead><tr><th>db_id</th><th>grp_id</th><th>grp_size</th><th>grp_rank</th><th>visible</th><th>xmin</th><th>xmax</th><th>ymin</th><th>ymax</th><th>f_disk</th><th>f_bulge</th><th>dx</th><th>dy</th><th>z</th><th>ab_mag</th><th>ri_color</th><th>flux</th><th>sigma_m</th><th>sigma_p</th><th>e1</th><th>e2</th><th>a</th><th>b</th><th>beta</th><th>psf_sigm</th><th>purity</th><th>snr_sky</th><th>snr_iso</th><th>snr_grp</th><th>snr_isof</th><th>snr_grpf</th><th>ds</th><th>dg1</th><th>dg2</th><th>ds_grp</th><th>dg1_grp</th><th>dg2_grp</th><th>cond_num</th><th>cond_num_grp</th></tr></thead>\n",
       "<thead><tr><th>int64</th><th>int64</th><th>int16</th><th>int16</th><th>int16</th><th>int32</th><th>int32</th><th>int32</th><th>int32</th><th>float32</th><th>float32</th><th>float32</th><th>float32</th><th>float32</th><th>float32</th><th>float32</th><th>float32</th><th>float32</th><th>float32</th><th>float32</th><th>float32</th><th>float32</th><th>float32</th><th>float32</th><th>float32</th><th>float32</th><th>float32</th><th>float32</th><th>float32</th><th>float32</th><th>float32</th><th>float32</th><th>float32</th><th>float32</th><th>float32</th><th>float32</th><th>float32</th><th>float32</th><th>float32</th></tr></thead>\n",
       "<tr><td>2213926551</td><td>2213926551</td><td>1</td><td>0</td><td>1</td><td>78</td><td>86</td><td>28</td><td>36</td><td>1.0</td><td>0.0</td><td>6.5561776</td><td>-3.4974</td><td>1.0032218</td><td>27.356237</td><td>0.55957603</td><td>8118.067</td><td>0.0861867</td><td>0.08738461</td><td>0.015510601</td><td>-0.116455585</td><td>0.09698389</td><td>0.07659156</td><td>-0.71919334</td><td>0.62453437</td><td>1.0</td><td>2.7155635</td><td>2.713705</td><td>2.713705</td><td>1.9211091</td><td>1.9211091</td><td>6.8522825</td><td>6.4432635</td><td>6.921509</td><td>6.8522825</td><td>6.4432635</td><td>6.921509</td><td>507210720.0</td><td>507210720.0</td></tr>\n",
       "<tr><td>2209176346</td><td>2209176346</td><td>1</td><td>0</td><td>1</td><td>61</td><td>71</td><td>31</td><td>42</td><td>1.0</td><td>0.0</td><td>3.2804484</td><td>-2.6283598</td><td>2.1730967</td><td>26.542898</td><td>-0.004890442</td><td>17170.713</td><td>0.18652849</td><td>0.21463092</td><td>-0.27785802</td><td>0.24943288</td><td>0.27614972</td><td>0.12599279</td><td>1.2050251</td><td>0.65376794</td><td>1.0</td><td>5.2331142</td><td>5.2269096</td><td>5.2269096</td><td>3.5681374</td><td>3.5681374</td><td>1.5725183</td><td>1.2935727</td><td>1.2304256</td><td>1.5725183</td><td>1.2935727</td><td>1.2304256</td><td>2289523200.0</td><td>2289523200.0</td></tr>\n",
       "<tr><td>2213788029</td><td>2203431934</td><td>5</td><td>4</td><td>1</td><td>54</td><td>63</td><td>87</td><td>97</td><td>1.0</td><td>0.0</td><td>1.712318</td><td>8.54352</td><td>2.7522602</td><td>27.323112</td><td>-0.13861847</td><td>8369.56</td><td>0.3464274</td><td>0.38141596</td><td>-0.14102237</td><td>-0.27574295</td><td>0.47718298</td><td>0.25150087</td><td>-1.0217718</td><td>0.72211224</td><td>0.34527814</td><td>2.1246266</td><td>2.123749</td><td>2.1224868</td><td>1.2300054</td><td>0.25577608</td><td>1.8500375</td><td>1.3572518</td><td>1.5673306</td><td>2.7329092</td><td>2.3514419</td><td>2.6756713</td><td>573313500.0</td><td>2350910500000.0</td></tr>\n",
       "<tr><td>2210559465</td><td>2203431934</td><td>5</td><td>2</td><td>1</td><td>49</td><td>61</td><td>87</td><td>98</td><td>1.0</td><td>0.0</td><td>1.1269542</td><td>8.60832</td><td>0.5012279</td><td>26.77345</td><td>0.6994171</td><td>13885.684</td><td>0.3885204</td><td>0.39309978</td><td>0.08295905</td><td>-0.069534734</td><td>0.4331213</td><td>0.3485123</td><td>-0.34879634</td><td>0.73206514</td><td>0.57644385</td><td>3.3789976</td><td>3.3768988</td><td>3.3758552</td><td>2.044638</td><td>0.43238172</td><td>0.8663144</td><td>0.7570521</td><td>0.7556179</td><td>1.551249</td><td>1.4567688</td><td>1.8562082</td><td>1166529800.0</td><td>2350910500000.0</td></tr>\n",
       "<tr><td>2203431934</td><td>2203431934</td><td>5</td><td>0</td><td>1</td><td>51</td><td>65</td><td>77</td><td>93</td><td>1.0</td><td>0.0</td><td>1.6329302</td><td>7.05168</td><td>0.8124069</td><td>25.018822</td><td>0.7473335</td><td>69890.625</td><td>0.2922755</td><td>0.34149662</td><td>-0.21709844</td><td>0.3275127</td><td>0.44273022</td><td>0.19295037</td><td>1.078083</td><td>0.7019085</td><td>0.98007816</td><td>18.96396</td><td>18.891827</td><td>18.891434</td><td>12.589713</td><td>9.888166</td><td>0.24546298</td><td>0.17614591</td><td>0.21079715</td><td>0.271844</td><td>0.19537517</td><td>0.23902121</td><td>35551842000.0</td><td>2350910500000.0</td></tr>\n",
       "<tr><td>2206515387</td><td>2204236259</td><td>3</td><td>1</td><td>1</td><td>88</td><td>98</td><td>48</td><td>59</td><td>1.0</td><td>0.0</td><td>8.711385</td><td>0.7434</td><td>1.6590141</td><td>26.099026</td><td>0.014715195</td><td>25842.666</td><td>0.13282703</td><td>0.13295081</td><td>-0.00405971</td><td>-0.030250438</td><td>0.13694492</td><td>0.12883295</td><td>-0.85210127</td><td>0.6325232</td><td>0.99995023</td><td>8.359833</td><td>8.343041</td><td>8.343041</td><td>5.8956413</td><td>5.895633</td><td>1.027434</td><td>1.02199</td><td>1.0256765</td><td>1.0274355</td><td>1.0219903</td><td>1.025678</td><td>4781049300.0</td><td>16809156000.0</td></tr>\n",
       "<tr><td>2211393936</td><td>2211393936</td><td>1</td><td>0</td><td>1</td><td>94</td><td>103</td><td>64</td><td>73</td><td>1.0</td><td>0.0</td><td>9.823751</td><td>3.83652</td><td>3.202422</td><td>26.875345</td><td>0.024686813</td><td>12641.817</td><td>0.09145252</td><td>0.09381681</td><td>-0.08610926</td><td>-0.13455035</td><td>0.10744137</td><td>0.07784304</td><td>-1.0700469</td><td>0.6254623</td><td>1.0</td><td>4.218107</td><td>4.2136593</td><td>4.2136593</td><td>3.0110931</td><td>3.0110931</td><td>4.118153</td><td>3.8199964</td><td>4.0322065</td><td>4.118153</td><td>3.8199964</td><td>4.0322065</td><td>1212536200.0</td><td>1212536200.0</td></tr>\n",
       "<tr><td>2204236259</td><td>2204236259</td><td>3</td><td>0</td><td>1</td><td>81</td><td>94</td><td>66</td><td>78</td><td>1.0</td><td>0.0</td><td>7.59902</td><td>4.56696</td><td>0.7068163</td><td>25.489252</td><td>0.71022034</td><td>45315.496</td><td>0.10272715</td><td>0.1143583</td><td>0.06552361</td><td>0.32024565</td><td>0.14422975</td><td>0.073167056</td><td>0.6844888</td><td>0.62881917</td><td>0.99933237</td><td>14.980275</td><td>14.925245</td><td>14.925244</td><td>10.73472</td><td>10.730228</td><td>1.2831565</td><td>0.81453806</td><td>1.2757812</td><td>1.2837691</td><td>0.81507033</td><td>1.2759473</td><td>15589563000.0</td><td>16809156000.0</td></tr>\n",
       "<tr><td>2208795870</td><td>2204236259</td><td>3</td><td>2</td><td>1</td><td>83</td><td>92</td><td>58</td><td>68</td><td>1.0</td><td>0.0</td><td>7.582283</td><td>2.61972</td><td>1.2396816</td><td>26.507017</td><td>0.4231434</td><td>17747.645</td><td>0.10796681</td><td>0.11845614</td><td>-0.29219243</td><td>-0.08412921</td><td>0.1477932</td><td>0.078872584</td><td>-1.4306257</td><td>0.6295761</td><td>0.9955241</td><td>5.8412766</td><td>5.8328996</td><td>5.8328943</td><td>4.1540313</td><td>4.1523066</td><td>2.8750095</td><td>2.824219</td><td>1.9814504</td><td>2.8752687</td><td>2.824622</td><td>1.9814743</td><td>2410879000.0</td><td>16809156000.0</td></tr>\n",
       "<tr><td>2210485632</td><td>2210485632</td><td>1</td><td>0</td><td>1</td><td>79</td><td>88</td><td>89</td><td>99</td><td>1.0</td><td>0.0</td><td>6.765603</td><td>8.941319</td><td>1.5770946</td><td>26.822762</td><td>0.16069221</td><td>13269.146</td><td>0.19797541</td><td>0.2002687</td><td>-0.06348807</td><td>0.086521104</td><td>0.22049461</td><td>0.1777561</td><td>1.1019201</td><td>0.6499484</td><td>1.0</td><td>4.018552</td><td>4.0149117</td><td>4.0149117</td><td>2.6978881</td><td>2.6978881</td><td>1.3220277</td><td>1.2368745</td><td>1.2500163</td><td>1.3220277</td><td>1.2368745</td><td>1.2500163</td><td>1258351100.0</td><td>1258351100.0</td></tr>\n",
       "<tr><td>...</td><td>...</td><td>...</td><td>...</td><td>...</td><td>...</td><td>...</td><td>...</td><td>...</td><td>...</td><td>...</td><td>...</td><td>...</td><td>...</td><td>...</td><td>...</td><td>...</td><td>...</td><td>...</td><td>...</td><td>...</td><td>...</td><td>...</td><td>...</td><td>...</td><td>...</td><td>...</td><td>...</td><td>...</td><td>...</td><td>...</td><td>...</td><td>...</td><td>...</td><td>...</td><td>...</td><td>...</td><td>...</td><td>...</td></tr>\n",
       "<tr><td>402709970125</td><td>402709970125</td><td>1</td><td>0</td><td>1</td><td>44</td><td>54</td><td>2</td><td>12</td><td>0.32971877</td><td>0.67028123</td><td>-0.1368684</td><td>-8.477639</td><td>1.2878987</td><td>26.719736</td><td>0.44519806</td><td>14589.928</td><td>0.14195658</td><td>0.14291808</td><td>-0.03180508</td><td>-0.07575348</td><td>0.15414077</td><td>0.13073552</td><td>-0.98414826</td><td>0.6346833</td><td>1.0</td><td>4.3497086</td><td>4.345323</td><td>4.345323</td><td>2.3365667</td><td>2.3365667</td><td>2.0085142</td><td>1.5557278</td><td>1.583721</td><td>2.0085142</td><td>1.5557278</td><td>1.583721</td><td>2458672000.0</td><td>2458672000.0</td></tr>\n",
       "<tr><td>402707408318</td><td>402700759713</td><td>5</td><td>2</td><td>1</td><td>16</td><td>28</td><td>29</td><td>46</td><td>1.0</td><td>0.0</td><td>-5.4901586</td><td>-2.3878798</td><td>0.3839212</td><td>26.188114</td><td>-0.052446365</td><td>23806.85</td><td>0.4820804</td><td>0.5918441</td><td>-0.3228566</td><td>-0.31315544</td><td>0.78253317</td><td>0.29698616</td><td>-1.1857232</td><td>0.8271729</td><td>0.9958649</td><td>5.2599883</td><td>5.2553573</td><td>5.2553554</td><td>3.2378476</td><td>3.2313116</td><td>0.6074134</td><td>0.45460016</td><td>0.4484153</td><td>0.607898</td><td>0.4551557</td><td>0.44852898</td><td>3974032600.0</td><td>22000090000000.0</td></tr>\n",
       "<tr><td>402706702521</td><td>402700420548</td><td>9</td><td>4</td><td>0</td><td>-8</td><td>2</td><td>38</td><td>54</td><td>0.9612371</td><td>0.038762912</td><td>-10.424138</td><td>-0.70056</td><td>2.235825</td><td>26.095171</td><td>-0.092458725</td><td>25934.578</td><td>0.29935095</td><td>0.46009356</td><td>-0.63479304</td><td>-0.046936654</td><td>0.63519245</td><td>0.1410769</td><td>-1.5338935</td><td>0.74986035</td><td>0.99944293</td><td>6.890409</td><td>6.880957</td><td>6.8809566</td><td>4.480742</td><td>4.480658</td><td>1.3410524</td><td>1.301825</td><td>0.3398112</td><td>1.3410532</td><td>1.3018285</td><td>0.33981144</td><td>5715479600.0</td><td>598206800000000.0</td></tr>\n",
       "<tr><td>402703776846</td><td>402700420548</td><td>9</td><td>2</td><td>0</td><td>-9</td><td>4</td><td>23</td><td>38</td><td>0.9516951</td><td>0.048304904</td><td>-10.433149</td><td>-3.78864</td><td>1.9017516</td><td>25.192577</td><td>0.35329247</td><td>59554.78</td><td>0.18792945</td><td>0.23693407</td><td>-0.47560728</td><td>0.038119137</td><td>0.31587026</td><td>0.11181009</td><td>1.5308076</td><td>0.660585</td><td>0.99979186</td><td>17.982506</td><td>17.910156</td><td>17.910156</td><td>12.096351</td><td>12.094323</td><td>0.6059709</td><td>0.5929926</td><td>0.24701801</td><td>0.60617864</td><td>0.5931886</td><td>0.24702972</td><td>28941849000.0</td><td>598206800000000.0</td></tr>\n",
       "<tr><td>402711839082</td><td>402700420548</td><td>9</td><td>7</td><td>1</td><td>3</td><td>13</td><td>24</td><td>35</td><td>1.0</td><td>0.0</td><td>-8.336733</td><td>-3.96828</td><td>1.5244519</td><td>27.035202</td><td>0.4365673</td><td>10911.056</td><td>0.3349826</td><td>0.40194044</td><td>-0.07303628</td><td>0.418211</td><td>0.5270506</td><td>0.21290809</td><td>0.87184626</td><td>0.7289757</td><td>0.993373</td><td>2.8083892</td><td>2.8068528</td><td>2.8068507</td><td>1.7155167</td><td>1.7152631</td><td>1.6261166</td><td>0.8959645</td><td>1.493728</td><td>1.6264098</td><td>0.8961657</td><td>1.493838</td><td>979050800.0</td><td>598206800000000.0</td></tr>\n",
       "<tr><td>402707048803</td><td>402700759713</td><td>5</td><td>1</td><td>1</td><td>19</td><td>30</td><td>20</td><td>30</td><td>1.0</td><td>0.0</td><td>-4.9588666</td><td>-4.84056</td><td>1.0117741</td><td>26.249817</td><td>0.47348022</td><td>22491.625</td><td>0.18439984</td><td>0.20801371</td><td>0.3142699</td><td>-0.14543772</td><td>0.2646293</td><td>0.12849408</td><td>-0.21671526</td><td>0.6517967</td><td>0.99384</td><td>6.8788543</td><td>6.868113</td><td>6.8681035</td><td>4.7100406</td><td>4.58187</td><td>1.1407728</td><td>1.0577523</td><td>0.7934667</td><td>1.1896764</td><td>1.1050755</td><td>0.7963088</td><td>3875023400.0</td><td>22000090000000.0</td></tr>\n",
       "<tr><td>402717291310</td><td>402717291310</td><td>1</td><td>0</td><td>1</td><td>3</td><td>10</td><td>1</td><td>8</td><td>1.0</td><td>0.0</td><td>-8.6101055</td><td>-9.02088</td><td>2.5689633</td><td>28.121641</td><td>-0.20782089</td><td>4011.3552</td><td>0.13330221</td><td>0.16940442</td><td>0.008113731</td><td>-0.48488998</td><td>0.2263461</td><td>0.078505784</td><td>-0.7770324</td><td>0.64069563</td><td>1.0</td><td>1.2712232</td><td>1.2708274</td><td>1.2708274</td><td>0.80314296</td><td>0.80314296</td><td>17.069748</td><td>5.971755</td><td>16.874073</td><td>17.069748</td><td>5.971755</td><td>16.874073</td><td>149474930.0</td><td>149474930.0</td></tr>\n",
       "<tr><td>402715447145</td><td>402700759713</td><td>5</td><td>3</td><td>1</td><td>26</td><td>34</td><td>12</td><td>19</td><td>1.0</td><td>0.0</td><td>-3.8838384</td><td>-6.7975197</td><td>1.5605651</td><td>27.617132</td><td>0.18019295</td><td>6384.027</td><td>0.19655326</td><td>0.19669025</td><td>-0.009405058</td><td>0.024661891</td><td>0.20181148</td><td>0.19143206</td><td>0.9675656</td><td>0.64891696</td><td>0.7312574</td><td>1.9267955</td><td>1.9259448</td><td>1.9256909</td><td>1.2067063</td><td>0.3562288</td><td>2.9329596</td><td>2.7338169</td><td>2.736053</td><td>3.6801705</td><td>4.295589</td><td>3.844315</td><td>318814240.0</td><td>22000090000000.0</td></tr>\n",
       "<tr><td>402715390358</td><td>402700759713</td><td>5</td><td>4</td><td>1</td><td>23</td><td>32</td><td>14</td><td>22</td><td>1.0</td><td>0.0</td><td>-4.4112673</td><td>-6.3140397</td><td>3.7056303</td><td>27.634</td><td>-0.024843216</td><td>6285.608</td><td>0.34015715</td><td>0.3410413</td><td>-0.01783112</td><td>0.04772761</td><td>0.35795295</td><td>0.32324606</td><td>0.96417034</td><td>0.70610213</td><td>0.62440056</td><td>1.6047456</td><td>1.6042373</td><td>1.6040057</td><td>0.88962746</td><td>0.31851712</td><td>2.2152069</td><td>1.9255241</td><td>1.9056119</td><td>3.0689285</td><td>3.2309983</td><td>3.7890978</td><td>291717340.0</td><td>22000090000000.0</td></tr>\n",
       "<tr><td>402703405398</td><td>402703405398</td><td>1</td><td>0</td><td>0</td><td>31</td><td>45</td><td>-8</td><td>6</td><td>1.0</td><td>0.0</td><td>-2.259918</td><td>-10.09692</td><td>0.5412593</td><td>25.007019</td><td>0.5787964</td><td>70654.52</td><td>0.13522828</td><td>0.13577163</td><td>0.023339827</td><td>-0.058865912</td><td>0.14408065</td><td>0.12691979</td><td>-0.5966591</td><td>0.6331179</td><td>1.0</td><td>22.814472</td><td>22.690586</td><td>22.690586</td><td>16.112045</td><td>16.112045</td><td>0.36960694</td><td>0.36385238</td><td>0.36855093</td><td>0.36960694</td><td>0.36385238</td><td>0.36855093</td><td>35632214000.0</td><td>35632214000.0</td></tr>\n",
       "</table>"
      ],
      "text/plain": [
       "<Table length=33>\n",
       "   db_id        grp_id    grp_size ...    cond_num      cond_num_grp  \n",
       "   int64        int64      int16   ...    float32         float32     \n",
       "------------ ------------ -------- ... ------------- -----------------\n",
       "  2213926551   2213926551        1 ...   507210720.0       507210720.0\n",
       "  2209176346   2209176346        1 ...  2289523200.0      2289523200.0\n",
       "  2213788029   2203431934        5 ...   573313500.0   2350910500000.0\n",
       "  2210559465   2203431934        5 ...  1166529800.0   2350910500000.0\n",
       "  2203431934   2203431934        5 ... 35551842000.0   2350910500000.0\n",
       "  2206515387   2204236259        3 ...  4781049300.0     16809156000.0\n",
       "  2211393936   2211393936        1 ...  1212536200.0      1212536200.0\n",
       "  2204236259   2204236259        3 ... 15589563000.0     16809156000.0\n",
       "  2208795870   2204236259        3 ...  2410879000.0     16809156000.0\n",
       "  2210485632   2210485632        1 ...  1258351100.0      1258351100.0\n",
       "         ...          ...      ... ...           ...               ...\n",
       "402709970125 402709970125        1 ...  2458672000.0      2458672000.0\n",
       "402707408318 402700759713        5 ...  3974032600.0  22000090000000.0\n",
       "402706702521 402700420548        9 ...  5715479600.0 598206800000000.0\n",
       "402703776846 402700420548        9 ... 28941849000.0 598206800000000.0\n",
       "402711839082 402700420548        9 ...   979050800.0 598206800000000.0\n",
       "402707048803 402700759713        5 ...  3875023400.0  22000090000000.0\n",
       "402717291310 402717291310        1 ...   149474930.0       149474930.0\n",
       "402715447145 402700759713        5 ...   318814240.0  22000090000000.0\n",
       "402715390358 402700759713        5 ...   291717340.0  22000090000000.0\n",
       "402703405398 402703405398        1 ... 35632214000.0     35632214000.0"
      ]
     },
     "execution_count": 30,
     "metadata": {},
     "output_type": "execute_result"
    }
   ],
   "source": [
    "t1"
   ]
  },
  {
   "cell_type": "code",
   "execution_count": 43,
   "metadata": {
    "ExecuteTime": {
     "end_time": "2019-07-03T04:36:34.463227Z",
     "start_time": "2019-07-03T04:36:34.307453Z"
    }
   },
   "outputs": [
    {
     "data": {
      "text/html": [
       "<i>Table length=33</i>\n",
       "<table id=\"table140675376977288\" class=\"table-striped table-bordered table-condensed\">\n",
       "<thead><tr><th>db_id</th><th>grp_id</th><th>grp_size</th><th>grp_rank</th><th>visible</th><th>xmin</th><th>xmax</th><th>ymin</th><th>ymax</th><th>f_disk</th><th>f_bulge</th><th>dx</th><th>dy</th><th>z</th><th>ab_mag</th><th>ri_color</th><th>flux</th><th>sigma_m</th><th>sigma_p</th><th>e1</th><th>e2</th><th>a</th><th>b</th><th>beta</th><th>psf_sigm</th><th>purity</th><th>snr_sky</th><th>snr_iso</th><th>snr_grp</th><th>snr_isof</th><th>snr_grpf</th><th>ds</th><th>dg1</th><th>dg2</th><th>ds_grp</th><th>dg1_grp</th><th>dg2_grp</th><th>cond_num</th><th>cond_num_grp</th><th>hsm_sigm</th><th>hsm_e1</th><th>hsm_e2</th><th>g1_fit</th><th>g2_fit</th></tr></thead>\n",
       "<thead><tr><th>int64</th><th>int64</th><th>int16</th><th>int16</th><th>int16</th><th>int32</th><th>int32</th><th>int32</th><th>int32</th><th>float32</th><th>float32</th><th>float32</th><th>float32</th><th>float32</th><th>float32</th><th>float32</th><th>float32</th><th>float32</th><th>float32</th><th>float32</th><th>float32</th><th>float32</th><th>float32</th><th>float32</th><th>float32</th><th>float32</th><th>float32</th><th>float32</th><th>float32</th><th>float32</th><th>float32</th><th>float32</th><th>float32</th><th>float32</th><th>float32</th><th>float32</th><th>float32</th><th>float32</th><th>float32</th><th>float32</th><th>float32</th><th>float32</th><th>float32</th><th>float32</th></tr></thead>\n",
       "<tr><td>2213926551</td><td>2213926551</td><td>1</td><td>0</td><td>1</td><td>78</td><td>86</td><td>28</td><td>36</td><td>1.0</td><td>0.0</td><td>6.5561776</td><td>-3.4974</td><td>1.0032218</td><td>27.356237</td><td>0.55957603</td><td>8118.067</td><td>0.0861867</td><td>0.08738461</td><td>0.015510601</td><td>-0.116455585</td><td>0.09698389</td><td>0.07659156</td><td>-0.71919334</td><td>0.62453437</td><td>1.0</td><td>2.7155635</td><td>2.713705</td><td>2.713705</td><td>1.9211091</td><td>1.9211091</td><td>6.8522825</td><td>6.4432635</td><td>6.921509</td><td>6.8522825</td><td>6.4432635</td><td>6.921509</td><td>507210720.0</td><td>507210720.0</td><td>nan</td><td>nan</td><td>nan</td><td>0.0</td><td>0.0</td></tr>\n",
       "<tr><td>2209176346</td><td>2209176346</td><td>1</td><td>0</td><td>1</td><td>61</td><td>71</td><td>31</td><td>42</td><td>1.0</td><td>0.0</td><td>3.2804484</td><td>-2.6283598</td><td>2.1730967</td><td>26.542898</td><td>-0.004890442</td><td>17170.713</td><td>0.18652849</td><td>0.21463092</td><td>-0.27785802</td><td>0.24943288</td><td>0.27614972</td><td>0.12599279</td><td>1.2050251</td><td>0.65376794</td><td>1.0</td><td>5.2331142</td><td>5.2269096</td><td>5.2269096</td><td>3.5681374</td><td>3.5681374</td><td>1.5725183</td><td>1.2935727</td><td>1.2304256</td><td>1.5725183</td><td>1.2935727</td><td>1.2304256</td><td>2289523200.0</td><td>2289523200.0</td><td>nan</td><td>nan</td><td>nan</td><td>0.0</td><td>0.0</td></tr>\n",
       "<tr><td>2213788029</td><td>2203431934</td><td>5</td><td>4</td><td>1</td><td>54</td><td>63</td><td>87</td><td>97</td><td>1.0</td><td>0.0</td><td>1.712318</td><td>8.54352</td><td>2.7522602</td><td>27.323112</td><td>-0.13861847</td><td>8369.56</td><td>0.3464274</td><td>0.38141596</td><td>-0.14102237</td><td>-0.27574295</td><td>0.47718298</td><td>0.25150087</td><td>-1.0217718</td><td>0.72211224</td><td>0.34527814</td><td>2.1246266</td><td>2.123749</td><td>2.1224868</td><td>1.2300054</td><td>0.25577608</td><td>1.8500375</td><td>1.3572518</td><td>1.5673306</td><td>2.7329092</td><td>2.3514419</td><td>2.6756713</td><td>573313500.0</td><td>2350910500000.0</td><td>nan</td><td>nan</td><td>nan</td><td>0.0</td><td>0.0</td></tr>\n",
       "<tr><td>2210559465</td><td>2203431934</td><td>5</td><td>2</td><td>1</td><td>49</td><td>61</td><td>87</td><td>98</td><td>1.0</td><td>0.0</td><td>1.1269542</td><td>8.60832</td><td>0.5012279</td><td>26.77345</td><td>0.6994171</td><td>13885.684</td><td>0.3885204</td><td>0.39309978</td><td>0.08295905</td><td>-0.069534734</td><td>0.4331213</td><td>0.3485123</td><td>-0.34879634</td><td>0.73206514</td><td>0.57644385</td><td>3.3789976</td><td>3.3768988</td><td>3.3758552</td><td>2.044638</td><td>0.43238172</td><td>0.8663144</td><td>0.7570521</td><td>0.7556179</td><td>1.551249</td><td>1.4567688</td><td>1.8562082</td><td>1166529800.0</td><td>2350910500000.0</td><td>nan</td><td>nan</td><td>nan</td><td>0.0</td><td>0.0</td></tr>\n",
       "<tr><td>2203431934</td><td>2203431934</td><td>5</td><td>0</td><td>1</td><td>51</td><td>65</td><td>77</td><td>93</td><td>1.0</td><td>0.0</td><td>1.6329302</td><td>7.05168</td><td>0.8124069</td><td>25.018822</td><td>0.7473335</td><td>69890.625</td><td>0.2922755</td><td>0.34149662</td><td>-0.21709844</td><td>0.3275127</td><td>0.44273022</td><td>0.19295037</td><td>1.078083</td><td>0.7019085</td><td>0.98007816</td><td>18.96396</td><td>18.891827</td><td>18.891434</td><td>12.589713</td><td>9.888166</td><td>0.24546298</td><td>0.17614591</td><td>0.21079715</td><td>0.271844</td><td>0.19537517</td><td>0.23902121</td><td>35551842000.0</td><td>2350910500000.0</td><td>nan</td><td>nan</td><td>nan</td><td>0.0</td><td>0.0</td></tr>\n",
       "<tr><td>2206515387</td><td>2204236259</td><td>3</td><td>1</td><td>1</td><td>88</td><td>98</td><td>48</td><td>59</td><td>1.0</td><td>0.0</td><td>8.711385</td><td>0.7434</td><td>1.6590141</td><td>26.099026</td><td>0.014715195</td><td>25842.666</td><td>0.13282703</td><td>0.13295081</td><td>-0.00405971</td><td>-0.030250438</td><td>0.13694492</td><td>0.12883295</td><td>-0.85210127</td><td>0.6325232</td><td>0.99995023</td><td>8.359833</td><td>8.343041</td><td>8.343041</td><td>5.8956413</td><td>5.895633</td><td>1.027434</td><td>1.02199</td><td>1.0256765</td><td>1.0274355</td><td>1.0219903</td><td>1.025678</td><td>4781049300.0</td><td>16809156000.0</td><td>nan</td><td>nan</td><td>nan</td><td>0.0</td><td>0.0</td></tr>\n",
       "<tr><td>2211393936</td><td>2211393936</td><td>1</td><td>0</td><td>1</td><td>94</td><td>103</td><td>64</td><td>73</td><td>1.0</td><td>0.0</td><td>9.823751</td><td>3.83652</td><td>3.202422</td><td>26.875345</td><td>0.024686813</td><td>12641.817</td><td>0.09145252</td><td>0.09381681</td><td>-0.08610926</td><td>-0.13455035</td><td>0.10744137</td><td>0.07784304</td><td>-1.0700469</td><td>0.6254623</td><td>1.0</td><td>4.218107</td><td>4.2136593</td><td>4.2136593</td><td>3.0110931</td><td>3.0110931</td><td>4.118153</td><td>3.8199964</td><td>4.0322065</td><td>4.118153</td><td>3.8199964</td><td>4.0322065</td><td>1212536200.0</td><td>1212536200.0</td><td>nan</td><td>nan</td><td>nan</td><td>0.0</td><td>0.0</td></tr>\n",
       "<tr><td>2204236259</td><td>2204236259</td><td>3</td><td>0</td><td>1</td><td>81</td><td>94</td><td>66</td><td>78</td><td>1.0</td><td>0.0</td><td>7.59902</td><td>4.56696</td><td>0.7068163</td><td>25.489252</td><td>0.71022034</td><td>45315.496</td><td>0.10272715</td><td>0.1143583</td><td>0.06552361</td><td>0.32024565</td><td>0.14422975</td><td>0.073167056</td><td>0.6844888</td><td>0.62881917</td><td>0.99933237</td><td>14.980275</td><td>14.925245</td><td>14.925244</td><td>10.73472</td><td>10.730228</td><td>1.2831565</td><td>0.81453806</td><td>1.2757812</td><td>1.2837691</td><td>0.81507033</td><td>1.2759473</td><td>15589563000.0</td><td>16809156000.0</td><td>nan</td><td>nan</td><td>nan</td><td>0.0</td><td>0.0</td></tr>\n",
       "<tr><td>2208795870</td><td>2204236259</td><td>3</td><td>2</td><td>1</td><td>83</td><td>92</td><td>58</td><td>68</td><td>1.0</td><td>0.0</td><td>7.582283</td><td>2.61972</td><td>1.2396816</td><td>26.507017</td><td>0.4231434</td><td>17747.645</td><td>0.10796681</td><td>0.11845614</td><td>-0.29219243</td><td>-0.08412921</td><td>0.1477932</td><td>0.078872584</td><td>-1.4306257</td><td>0.6295761</td><td>0.9955241</td><td>5.8412766</td><td>5.8328996</td><td>5.8328943</td><td>4.1540313</td><td>4.1523066</td><td>2.8750095</td><td>2.824219</td><td>1.9814504</td><td>2.8752687</td><td>2.824622</td><td>1.9814743</td><td>2410879000.0</td><td>16809156000.0</td><td>nan</td><td>nan</td><td>nan</td><td>0.0</td><td>0.0</td></tr>\n",
       "<tr><td>2210485632</td><td>2210485632</td><td>1</td><td>0</td><td>1</td><td>79</td><td>88</td><td>89</td><td>99</td><td>1.0</td><td>0.0</td><td>6.765603</td><td>8.941319</td><td>1.5770946</td><td>26.822762</td><td>0.16069221</td><td>13269.146</td><td>0.19797541</td><td>0.2002687</td><td>-0.06348807</td><td>0.086521104</td><td>0.22049461</td><td>0.1777561</td><td>1.1019201</td><td>0.6499484</td><td>1.0</td><td>4.018552</td><td>4.0149117</td><td>4.0149117</td><td>2.6978881</td><td>2.6978881</td><td>1.3220277</td><td>1.2368745</td><td>1.2500163</td><td>1.3220277</td><td>1.2368745</td><td>1.2500163</td><td>1258351100.0</td><td>1258351100.0</td><td>nan</td><td>nan</td><td>nan</td><td>0.0</td><td>0.0</td></tr>\n",
       "<tr><td>...</td><td>...</td><td>...</td><td>...</td><td>...</td><td>...</td><td>...</td><td>...</td><td>...</td><td>...</td><td>...</td><td>...</td><td>...</td><td>...</td><td>...</td><td>...</td><td>...</td><td>...</td><td>...</td><td>...</td><td>...</td><td>...</td><td>...</td><td>...</td><td>...</td><td>...</td><td>...</td><td>...</td><td>...</td><td>...</td><td>...</td><td>...</td><td>...</td><td>...</td><td>...</td><td>...</td><td>...</td><td>...</td><td>...</td><td>...</td><td>...</td><td>...</td><td>...</td><td>...</td></tr>\n",
       "<tr><td>402709970125</td><td>402709970125</td><td>1</td><td>0</td><td>1</td><td>44</td><td>54</td><td>2</td><td>12</td><td>0.32971877</td><td>0.67028123</td><td>-0.1368684</td><td>-8.477639</td><td>1.2878987</td><td>26.719736</td><td>0.44519806</td><td>14589.928</td><td>0.14195658</td><td>0.14291808</td><td>-0.03180508</td><td>-0.07575348</td><td>0.15414077</td><td>0.13073552</td><td>-0.98414826</td><td>0.6346833</td><td>1.0</td><td>4.3497086</td><td>4.345323</td><td>4.345323</td><td>2.3365667</td><td>2.3365667</td><td>2.0085142</td><td>1.5557278</td><td>1.583721</td><td>2.0085142</td><td>1.5557278</td><td>1.583721</td><td>2458672000.0</td><td>2458672000.0</td><td>nan</td><td>nan</td><td>nan</td><td>0.0</td><td>0.0</td></tr>\n",
       "<tr><td>402707408318</td><td>402700759713</td><td>5</td><td>2</td><td>1</td><td>16</td><td>28</td><td>29</td><td>46</td><td>1.0</td><td>0.0</td><td>-5.4901586</td><td>-2.3878798</td><td>0.3839212</td><td>26.188114</td><td>-0.052446365</td><td>23806.85</td><td>0.4820804</td><td>0.5918441</td><td>-0.3228566</td><td>-0.31315544</td><td>0.78253317</td><td>0.29698616</td><td>-1.1857232</td><td>0.8271729</td><td>0.9958649</td><td>5.2599883</td><td>5.2553573</td><td>5.2553554</td><td>3.2378476</td><td>3.2313116</td><td>0.6074134</td><td>0.45460016</td><td>0.4484153</td><td>0.607898</td><td>0.4551557</td><td>0.44852898</td><td>3974032600.0</td><td>22000090000000.0</td><td>nan</td><td>nan</td><td>nan</td><td>0.0</td><td>0.0</td></tr>\n",
       "<tr><td>402706702521</td><td>402700420548</td><td>9</td><td>4</td><td>0</td><td>-8</td><td>2</td><td>38</td><td>54</td><td>0.9612371</td><td>0.038762912</td><td>-10.424138</td><td>-0.70056</td><td>2.235825</td><td>26.095171</td><td>-0.092458725</td><td>25934.578</td><td>0.29935095</td><td>0.46009356</td><td>-0.63479304</td><td>-0.046936654</td><td>0.63519245</td><td>0.1410769</td><td>-1.5338935</td><td>0.74986035</td><td>0.99944293</td><td>6.890409</td><td>6.880957</td><td>6.8809566</td><td>4.480742</td><td>4.480658</td><td>1.3410524</td><td>1.301825</td><td>0.3398112</td><td>1.3410532</td><td>1.3018285</td><td>0.33981144</td><td>5715479600.0</td><td>598206800000000.0</td><td>nan</td><td>nan</td><td>nan</td><td>0.0</td><td>0.0</td></tr>\n",
       "<tr><td>402703776846</td><td>402700420548</td><td>9</td><td>2</td><td>0</td><td>-9</td><td>4</td><td>23</td><td>38</td><td>0.9516951</td><td>0.048304904</td><td>-10.433149</td><td>-3.78864</td><td>1.9017516</td><td>25.192577</td><td>0.35329247</td><td>59554.78</td><td>0.18792945</td><td>0.23693407</td><td>-0.47560728</td><td>0.038119137</td><td>0.31587026</td><td>0.11181009</td><td>1.5308076</td><td>0.660585</td><td>0.99979186</td><td>17.982506</td><td>17.910156</td><td>17.910156</td><td>12.096351</td><td>12.094323</td><td>0.6059709</td><td>0.5929926</td><td>0.24701801</td><td>0.60617864</td><td>0.5931886</td><td>0.24702972</td><td>28941849000.0</td><td>598206800000000.0</td><td>nan</td><td>nan</td><td>nan</td><td>0.0</td><td>0.0</td></tr>\n",
       "<tr><td>402711839082</td><td>402700420548</td><td>9</td><td>7</td><td>1</td><td>3</td><td>13</td><td>24</td><td>35</td><td>1.0</td><td>0.0</td><td>-8.336733</td><td>-3.96828</td><td>1.5244519</td><td>27.035202</td><td>0.4365673</td><td>10911.056</td><td>0.3349826</td><td>0.40194044</td><td>-0.07303628</td><td>0.418211</td><td>0.5270506</td><td>0.21290809</td><td>0.87184626</td><td>0.7289757</td><td>0.993373</td><td>2.8083892</td><td>2.8068528</td><td>2.8068507</td><td>1.7155167</td><td>1.7152631</td><td>1.6261166</td><td>0.8959645</td><td>1.493728</td><td>1.6264098</td><td>0.8961657</td><td>1.493838</td><td>979050800.0</td><td>598206800000000.0</td><td>nan</td><td>nan</td><td>nan</td><td>0.0</td><td>0.0</td></tr>\n",
       "<tr><td>402707048803</td><td>402700759713</td><td>5</td><td>1</td><td>1</td><td>19</td><td>30</td><td>20</td><td>30</td><td>1.0</td><td>0.0</td><td>-4.9588666</td><td>-4.84056</td><td>1.0117741</td><td>26.249817</td><td>0.47348022</td><td>22491.625</td><td>0.18439984</td><td>0.20801371</td><td>0.3142699</td><td>-0.14543772</td><td>0.2646293</td><td>0.12849408</td><td>-0.21671526</td><td>0.6517967</td><td>0.99384</td><td>6.8788543</td><td>6.868113</td><td>6.8681035</td><td>4.7100406</td><td>4.58187</td><td>1.1407728</td><td>1.0577523</td><td>0.7934667</td><td>1.1896764</td><td>1.1050755</td><td>0.7963088</td><td>3875023400.0</td><td>22000090000000.0</td><td>nan</td><td>nan</td><td>nan</td><td>0.0</td><td>0.0</td></tr>\n",
       "<tr><td>402717291310</td><td>402717291310</td><td>1</td><td>0</td><td>1</td><td>3</td><td>10</td><td>1</td><td>8</td><td>1.0</td><td>0.0</td><td>-8.6101055</td><td>-9.02088</td><td>2.5689633</td><td>28.121641</td><td>-0.20782089</td><td>4011.3552</td><td>0.13330221</td><td>0.16940442</td><td>0.008113731</td><td>-0.48488998</td><td>0.2263461</td><td>0.078505784</td><td>-0.7770324</td><td>0.64069563</td><td>1.0</td><td>1.2712232</td><td>1.2708274</td><td>1.2708274</td><td>0.80314296</td><td>0.80314296</td><td>17.069748</td><td>5.971755</td><td>16.874073</td><td>17.069748</td><td>5.971755</td><td>16.874073</td><td>149474930.0</td><td>149474930.0</td><td>nan</td><td>nan</td><td>nan</td><td>0.0</td><td>0.0</td></tr>\n",
       "<tr><td>402715447145</td><td>402700759713</td><td>5</td><td>3</td><td>1</td><td>26</td><td>34</td><td>12</td><td>19</td><td>1.0</td><td>0.0</td><td>-3.8838384</td><td>-6.7975197</td><td>1.5605651</td><td>27.617132</td><td>0.18019295</td><td>6384.027</td><td>0.19655326</td><td>0.19669025</td><td>-0.009405058</td><td>0.024661891</td><td>0.20181148</td><td>0.19143206</td><td>0.9675656</td><td>0.64891696</td><td>0.7312574</td><td>1.9267955</td><td>1.9259448</td><td>1.9256909</td><td>1.2067063</td><td>0.3562288</td><td>2.9329596</td><td>2.7338169</td><td>2.736053</td><td>3.6801705</td><td>4.295589</td><td>3.844315</td><td>318814240.0</td><td>22000090000000.0</td><td>nan</td><td>nan</td><td>nan</td><td>0.0</td><td>0.0</td></tr>\n",
       "<tr><td>402715390358</td><td>402700759713</td><td>5</td><td>4</td><td>1</td><td>23</td><td>32</td><td>14</td><td>22</td><td>1.0</td><td>0.0</td><td>-4.4112673</td><td>-6.3140397</td><td>3.7056303</td><td>27.634</td><td>-0.024843216</td><td>6285.608</td><td>0.34015715</td><td>0.3410413</td><td>-0.01783112</td><td>0.04772761</td><td>0.35795295</td><td>0.32324606</td><td>0.96417034</td><td>0.70610213</td><td>0.62440056</td><td>1.6047456</td><td>1.6042373</td><td>1.6040057</td><td>0.88962746</td><td>0.31851712</td><td>2.2152069</td><td>1.9255241</td><td>1.9056119</td><td>3.0689285</td><td>3.2309983</td><td>3.7890978</td><td>291717340.0</td><td>22000090000000.0</td><td>nan</td><td>nan</td><td>nan</td><td>0.0</td><td>0.0</td></tr>\n",
       "<tr><td>402703405398</td><td>402703405398</td><td>1</td><td>0</td><td>0</td><td>31</td><td>45</td><td>-8</td><td>6</td><td>1.0</td><td>0.0</td><td>-2.259918</td><td>-10.09692</td><td>0.5412593</td><td>25.007019</td><td>0.5787964</td><td>70654.52</td><td>0.13522828</td><td>0.13577163</td><td>0.023339827</td><td>-0.058865912</td><td>0.14408065</td><td>0.12691979</td><td>-0.5966591</td><td>0.6331179</td><td>1.0</td><td>22.814472</td><td>22.690586</td><td>22.690586</td><td>16.112045</td><td>16.112045</td><td>0.36960694</td><td>0.36385238</td><td>0.36855093</td><td>0.36960694</td><td>0.36385238</td><td>0.36855093</td><td>35632214000.0</td><td>35632214000.0</td><td>nan</td><td>nan</td><td>nan</td><td>0.0</td><td>0.0</td></tr>\n",
       "</table>"
      ],
      "text/plain": [
       "<Table length=33>\n",
       "   db_id        grp_id    grp_size grp_rank ...  hsm_e1  hsm_e2  g1_fit  g2_fit\n",
       "   int64        int64      int16    int16   ... float32 float32 float32 float32\n",
       "------------ ------------ -------- -------- ... ------- ------- ------- -------\n",
       "  2213926551   2213926551        1        0 ...     nan     nan     0.0     0.0\n",
       "  2209176346   2209176346        1        0 ...     nan     nan     0.0     0.0\n",
       "  2213788029   2203431934        5        4 ...     nan     nan     0.0     0.0\n",
       "  2210559465   2203431934        5        2 ...     nan     nan     0.0     0.0\n",
       "  2203431934   2203431934        5        0 ...     nan     nan     0.0     0.0\n",
       "  2206515387   2204236259        3        1 ...     nan     nan     0.0     0.0\n",
       "  2211393936   2211393936        1        0 ...     nan     nan     0.0     0.0\n",
       "  2204236259   2204236259        3        0 ...     nan     nan     0.0     0.0\n",
       "  2208795870   2204236259        3        2 ...     nan     nan     0.0     0.0\n",
       "  2210485632   2210485632        1        0 ...     nan     nan     0.0     0.0\n",
       "         ...          ...      ...      ... ...     ...     ...     ...     ...\n",
       "402709970125 402709970125        1        0 ...     nan     nan     0.0     0.0\n",
       "402707408318 402700759713        5        2 ...     nan     nan     0.0     0.0\n",
       "402706702521 402700420548        9        4 ...     nan     nan     0.0     0.0\n",
       "402703776846 402700420548        9        2 ...     nan     nan     0.0     0.0\n",
       "402711839082 402700420548        9        7 ...     nan     nan     0.0     0.0\n",
       "402707048803 402700759713        5        1 ...     nan     nan     0.0     0.0\n",
       "402717291310 402717291310        1        0 ...     nan     nan     0.0     0.0\n",
       "402715447145 402700759713        5        3 ...     nan     nan     0.0     0.0\n",
       "402715390358 402700759713        5        4 ...     nan     nan     0.0     0.0\n",
       "402703405398 402703405398        1        0 ...     nan     nan     0.0     0.0"
      ]
     },
     "execution_count": 43,
     "metadata": {},
     "output_type": "execute_result"
    }
   ],
   "source": [
    "t2"
   ]
  },
  {
   "cell_type": "code",
   "execution_count": 44,
   "metadata": {
    "ExecuteTime": {
     "end_time": "2019-07-03T04:36:46.689435Z",
     "start_time": "2019-07-03T04:36:45.945461Z"
    }
   },
   "outputs": [
    {
     "name": "stdout",
     "output_type": "stream",
     "text": [
      "db_id : True\n",
      "grp_id : True\n",
      "grp_size : True\n",
      "grp_rank : True\n",
      "visible : True\n",
      "xmin : True\n",
      "xmax : True\n",
      "ymin : True\n",
      "ymax : True\n",
      "f_disk : True\n",
      "f_bulge : True\n",
      "dx : True\n",
      "dy : True\n",
      "z : True\n",
      "ab_mag : True\n",
      "ri_color : True\n",
      "flux : True\n",
      "sigma_m : True\n",
      "sigma_p : True\n",
      "e1 : True\n",
      "e2 : True\n",
      "a : True\n",
      "b : True\n",
      "beta : True\n",
      "psf_sigm : True\n",
      "purity : True\n",
      "snr_sky : True\n",
      "snr_iso : True\n",
      "snr_grp : True\n",
      "snr_isof : True\n",
      "snr_grpf : True\n",
      "ds : True\n",
      "dg1 : True\n",
      "dg2 : True\n",
      "ds_grp : True\n",
      "dg1_grp : True\n",
      "dg2_grp : True\n",
      "cond_num : True\n",
      "cond_num_grp : True\n"
     ]
    }
   ],
   "source": [
    "for c in vars(t1)['columns']: \n",
    "    print(c, \":\", np.all(t1[c]==t2[c]))"
   ]
  },
  {
   "cell_type": "markdown",
   "metadata": {},
   "source": [
    "# Double-check fits-level properties "
   ]
  },
  {
   "cell_type": "code",
   "execution_count": 3,
   "metadata": {
    "ExecuteTime": {
     "end_time": "2019-07-03T04:45:08.314088Z",
     "start_time": "2019-07-03T04:45:02.568041Z"
    }
   },
   "outputs": [],
   "source": [
    "import astropy.io.fits as fits "
   ]
  },
  {
   "cell_type": "code",
   "execution_count": 6,
   "metadata": {
    "ExecuteTime": {
     "end_time": "2019-07-03T04:45:13.148824Z",
     "start_time": "2019-07-03T04:45:13.111875Z"
    }
   },
   "outputs": [],
   "source": [
    "f = fits.open(\"data/example2.fits\")"
   ]
  },
  {
   "cell_type": "code",
   "execution_count": 4,
   "metadata": {
    "ExecuteTime": {
     "end_time": "2019-07-03T04:45:09.940237Z",
     "start_time": "2019-07-03T04:45:09.902275Z"
    }
   },
   "outputs": [],
   "source": [
    "g = fits.open(\"data/example3.fits\")"
   ]
  },
  {
   "cell_type": "code",
   "execution_count": 7,
   "metadata": {
    "ExecuteTime": {
     "end_time": "2019-07-03T04:45:14.240879Z",
     "start_time": "2019-07-03T04:45:14.208360Z"
    },
    "scrolled": false
   },
   "outputs": [
    {
     "data": {
      "text/plain": [
       "SIMPLE  =                    T / conforms to FITS standard                      \n",
       "BITPIX  =                  -32 / array data type                                \n",
       "NAXIS   =                    2 / number of array dimensions                     \n",
       "NAXIS1  =                  100                                                  \n",
       "NAXIS2  =                  100                                                  \n",
       "EXTEND  =                    T                                                  \n",
       "NSLICES =                    6                                                  \n",
       "PSF_SIGM=   0.6183939921717441                                                  \n",
       "PSF_SIGP=     0.61839399217182                                                  \n",
       "PSF_HSM =   0.3460535287857056                                                  \n",
       "VEY_NAME= 'LSST    '                                                            \n",
       "TER_BAND= 'i       '                                                            \n",
       "PSF_BETA=                  0.0                                                  \n",
       "C_PSF_E1=                  0.0                                                  \n",
       "C_PSF_E2=                  0.0                                                  \n",
       "SHEAR_G1=                  0.0                                                  \n",
       "SHEAR_G2=                  0.0                                                  \n",
       "AIRMASS =                  1.2                                                  \n",
       "DIAMETER=    8.359999999999999                                                  \n",
       "IVE_AREA=                 32.4                                                  \n",
       "GE_WIDTH=                  100                                                  \n",
       "E_HEIGHT=                  100                                                  \n",
       "EL_SCALE=                  0.2                                                  \n",
       "URE_TIME=               5520.0                                                  \n",
       "IGHTNESS=                 20.5                                                  \n",
       "PSF_FWHM=                 0.67                                                  \n",
       "RO_POINT=                32.36                                                  \n",
       "TINCTION=  0.07000000000000001                                                  "
      ]
     },
     "execution_count": 7,
     "metadata": {},
     "output_type": "execute_result"
    }
   ],
   "source": [
    "f[0].header"
   ]
  },
  {
   "cell_type": "code",
   "execution_count": 25,
   "metadata": {
    "ExecuteTime": {
     "end_time": "2019-07-03T04:48:14.703511Z",
     "start_time": "2019-07-03T04:48:14.686581Z"
    },
    "scrolled": false
   },
   "outputs": [
    {
     "data": {
      "text/plain": [
       "(21, 17, 15)"
      ]
     },
     "execution_count": 25,
     "metadata": {},
     "output_type": "execute_result"
    }
   ],
   "source": [
    "g[6].data.shape"
   ]
  },
  {
   "cell_type": "code",
   "execution_count": 85,
   "metadata": {
    "ExecuteTime": {
     "end_time": "2019-07-02T23:21:25.249688Z",
     "start_time": "2019-07-02T23:21:24.845256Z"
    }
   },
   "outputs": [],
   "source": [
    "t1 = Table.read(\"data/example3.fits\")\n",
    "t2 = Table.read(\"temp/example3.fits\")"
   ]
  },
  {
   "cell_type": "code",
   "execution_count": 91,
   "metadata": {
    "ExecuteTime": {
     "end_time": "2019-07-02T23:23:58.686365Z",
     "start_time": "2019-07-02T23:23:58.675153Z"
    }
   },
   "outputs": [
    {
     "data": {
      "text/plain": [
       "110"
      ]
     },
     "execution_count": 91,
     "metadata": {},
     "output_type": "execute_result"
    }
   ],
   "source": [
    "len(t1)"
   ]
  },
  {
   "cell_type": "code",
   "execution_count": 86,
   "metadata": {
    "ExecuteTime": {
     "end_time": "2019-07-02T23:21:30.209661Z",
     "start_time": "2019-07-02T23:21:30.131396Z"
    }
   },
   "outputs": [
    {
     "name": "stdout",
     "output_type": "stream",
     "text": [
      "db_id : True\n",
      "grp_id : True\n",
      "grp_size : True\n",
      "grp_rank : True\n",
      "visible : True\n",
      "xmin : True\n",
      "xmax : True\n",
      "ymin : True\n",
      "ymax : True\n",
      "f_disk : True\n",
      "f_bulge : True\n",
      "dx : True\n",
      "dy : True\n",
      "z : True\n",
      "ab_mag : True\n",
      "ri_color : True\n",
      "flux : True\n",
      "sigma_m : True\n",
      "sigma_p : True\n",
      "e1 : True\n",
      "e2 : True\n",
      "a : True\n",
      "b : True\n",
      "beta : True\n",
      "psf_sigm : True\n",
      "purity : True\n",
      "snr_sky : True\n",
      "snr_iso : True\n",
      "snr_grp : True\n",
      "snr_isof : True\n",
      "snr_grpf : True\n",
      "ds : True\n",
      "dg1 : True\n",
      "dg2 : True\n",
      "ds_grp : True\n",
      "dg1_grp : True\n",
      "dg2_grp : True\n",
      "cond_num : True\n",
      "cond_num_grp : True\n",
      "hsm_sigm : False\n",
      "hsm_e1 : False\n",
      "hsm_e2 : False\n",
      "g1_fit : True\n",
      "g2_fit : True\n",
      "bias_f : True\n",
      "bias_s : True\n",
      "bias_g1 : True\n",
      "bias_g2 : True\n",
      "bias_x : True\n",
      "bias_y : True\n",
      "bias_f_grp : True\n",
      "bias_s_grp : True\n",
      "bias_g1_grp : True\n",
      "bias_g2_grp : True\n",
      "bias_x_grp : True\n",
      "bias_y_grp : True\n"
     ]
    }
   ],
   "source": [
    "for c in vars(t2)['columns']: \n",
    "    if float(t1[c][0]) != np.nan: \n",
    "        print(c, \":\", np.all(t1[c]==t2[c]))"
   ]
  },
  {
   "cell_type": "code",
   "execution_count": null,
   "metadata": {},
   "outputs": [],
   "source": []
  }
 ],
 "metadata": {
  "kernelspec": {
   "display_name": "igalsim",
   "language": "python",
   "name": "igalsim"
  },
  "language_info": {
   "codemirror_mode": {
    "name": "ipython",
    "version": 3
   },
   "file_extension": ".py",
   "mimetype": "text/x-python",
   "name": "python",
   "nbconvert_exporter": "python",
   "pygments_lexer": "ipython3",
   "version": "3.7.0"
  },
  "toc": {
   "base_numbering": 1,
   "nav_menu": {},
   "number_sections": true,
   "sideBar": true,
   "skip_h1_title": false,
   "title_cell": "Table of Contents",
   "title_sidebar": "Contents",
   "toc_cell": false,
   "toc_position": {},
   "toc_section_display": true,
   "toc_window_display": true
  }
 },
 "nbformat": 4,
 "nbformat_minor": 2
}
