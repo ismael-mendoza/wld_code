{
 "cells": [
  {
   "cell_type": "code",
   "execution_count": 153,
   "metadata": {
    "collapsed": true
   },
   "outputs": [],
   "source": [
    "import galsim\n",
    "import numpy as np \n",
    "from copy import deepcopy"
   ]
  },
  {
   "cell_type": "code",
   "execution_count": 182,
   "metadata": {
    "collapsed": true
   },
   "outputs": [],
   "source": [
    "e0 = galsim.Shear(g1=.1, g2= 0.)\n",
    "g_true = galsim.Shear(g1=.01,g2=0.)"
   ]
  },
  {
   "cell_type": "code",
   "execution_count": 183,
   "metadata": {
    "collapsed": false
   },
   "outputs": [
    {
     "name": "stdout",
     "output_type": "stream",
     "text": [
      "(0.000999999999999+3.46944695195e-18j)\n"
     ]
    }
   ],
   "source": [
    "ring= [np.pi*x/4 for x in [0,1,3,4,5,7,2,6]]\n",
    "e_s = [galsim.Shear(g1=np.cos(x)*e0.getG(),g2=np.sin(x)*e0.getG()) for x in ring]\n",
    "g_s = [get_g(get_complex(e),get_complex(e0)) for e in e_s]\n",
    "e_ring = [(e0 + get_shear(g)) for g in g_s]\n",
    "print np.mean([get_complex(e) for e in e_ring])"
   ]
  },
  {
   "cell_type": "code",
   "execution_count": 150,
   "metadata": {
    "collapsed": false
   },
   "outputs": [
    {
     "name": "stdout",
     "output_type": "stream",
     "text": [
      "0.1\n"
     ]
    }
   ],
   "source": [
    "print e.getG()"
   ]
  },
  {
   "cell_type": "code",
   "execution_count": null,
   "metadata": {
    "collapsed": true
   },
   "outputs": [],
   "source": [
    "print e.G"
   ]
  },
  {
   "cell_type": "code",
   "execution_count": null,
   "metadata": {
    "collapsed": true
   },
   "outputs": [],
   "source": []
  },
  {
   "cell_type": "code",
   "execution_count": 166,
   "metadata": {
    "collapsed": false
   },
   "outputs": [],
   "source": [
    "def get_complex(g):\n",
    "    return g.g1 + g.g2*1j\n",
    "\n",
    "def get_shear(z):\n",
    "    return galsim.Shear(g1=z.real,g2=z.imag)\n",
    "    \n",
    "#e,e0 are complex numbers\n",
    "def get_g(e,e0):\n",
    "    return ((1 - abs(e0)**2)*e - (1 - abs(e)**2)*e0)/(1 - (abs(e)**2)*(abs(e0)**2))"
   ]
  },
  {
   "cell_type": "code",
   "execution_count": 190,
   "metadata": {
    "collapsed": false
   },
   "outputs": [
    {
     "name": "stdout",
     "output_type": "stream",
     "text": [
      "(-0.000100041056459-2.00180152173e-06j)\n"
     ]
    },
    {
     "data": {
      "text/plain": [
       "galsim.Shear((0.10000196074586735+0.09999803921568666j))"
      ]
     },
     "execution_count": 190,
     "metadata": {},
     "output_type": "execute_result"
    }
   ],
   "source": [
    "#check if my formula works! \n",
    "e0= .1001+.1j\n",
    "e = .1+.1j\n",
    "g = get_g(e,e0)\n",
    "print g\n",
    "get_shear(e0) + get_shear(g)"
   ]
  },
  {
   "cell_type": "code",
   "execution_count": null,
   "metadata": {
    "collapsed": true
   },
   "outputs": [],
   "source": []
  }
 ],
 "metadata": {
  "kernelspec": {
   "display_name": "Python 2",
   "language": "python",
   "name": "python2"
  },
  "language_info": {
   "codemirror_mode": {
    "name": "ipython",
    "version": 2
   },
   "file_extension": ".py",
   "mimetype": "text/x-python",
   "name": "python",
   "nbconvert_exporter": "python",
   "pygments_lexer": "ipython2",
   "version": "2.7.11"
  }
 },
 "nbformat": 4,
 "nbformat_minor": 0
}
