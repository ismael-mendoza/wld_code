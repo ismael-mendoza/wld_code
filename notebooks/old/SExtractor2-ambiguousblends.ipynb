{
 "cells": [
  {
   "cell_type": "code",
   "execution_count": 1,
   "metadata": {
    "collapsed": false
   },
   "outputs": [
    {
     "name": "stdout",
     "output_type": "stream",
     "text": [
      "Populating the interactive namespace from numpy and matplotlib\n"
     ]
    }
   ],
   "source": [
    "%pylab inline"
   ]
  },
  {
   "cell_type": "code",
   "execution_count": 2,
   "metadata": {
    "collapsed": false
   },
   "outputs": [],
   "source": [
    "import subprocess\n",
    "import astropy.table\n",
    "import astropy.io.fits as fits\n",
    "import numpy as np\n",
    "from copy import deepcopy\n",
    "import random\n",
    "from astropy.table import Table\n",
    "import os \n",
    "import matplotlib.pyplot as plt \n",
    "import fitsio "
   ]
  },
  {
   "cell_type": "code",
   "execution_count": 3,
   "metadata": {
    "collapsed": false
   },
   "outputs": [],
   "source": [
    "#directories that would be using \n",
    "WLD = '/Users/Ismael/code/lensing/WeakLensingDeblending/'\n",
    "aegis = '/Users/Ismael/aegis/data/'\n",
    "SEx = '/Users/Ismael/aegis/data/sextractor_runs/'\n",
    "aegis_slac = '/nfs/slac/g/ki/ki19/deuce/AEGIS/ismael/data'\n",
    "temp_data = '/Users/Ismael/temp_data'\n",
    "os.chdir(WLD)\n",
    "import descwl"
   ]
  },
  {
   "cell_type": "code",
   "execution_count": 4,
   "metadata": {
    "collapsed": false
   },
   "outputs": [],
   "source": [
    "#inputs, put all input files in a dict, \n",
    "inputs = dict(\n",
    "input_name = '/Users/Ismael/aegis/data/intermediate_fits/section001.fits',\n",
    "input_source_fits = '/Users/Ismael/aegis/data/sextractor_runs/test1/image.fits',\n",
    "output_name = '/Users/Ismael/aegis/data/sextractor_runs/test1/out.cat',\n",
    "output_name_dawson = '/Users/Ismael/aegis/data/sextractor_runs/test1/out_dawson.cat',\n",
    "config_file = '/nfs/slac/g/ki/ki19/deuce/AEGIS/ismael/data/sextractor_runs/default.sex',\n",
    "config_file_dawson = '/nfs/slac/g/ki/ki19/deuce/AEGIS/ismael/data/sextractor_runs/default_dawson.sex',\n",
    "final_fits = '/Users/Ismael/aegis/data/sextractor_runs/test1/final_fits.fits',\n",
    "output_name_slac='/nfs/slac/g/ki/ki19/deuce/AEGIS/ismael/data/sextractor_runs/test1/out.cat',     \n",
    "output_name_slac_dawson='/nfs/slac/g/ki/ki19/deuce/AEGIS/ismael/data/sextractor_runs/test1/out_dawson.cat',     \n",
    "input_source_fits_slac='/nfs/slac/g/ki/ki19/deuce/AEGIS/ismael/data/sextractor_runs/test1/image.fits'  \n",
    ")"
   ]
  },
  {
   "cell_type": "code",
   "execution_count": 5,
   "metadata": {
    "collapsed": false
   },
   "outputs": [],
   "source": [
    "#convert inputs to location in temp\n",
    "temps = dict()\n",
    "for f in inputs: \n",
    "    l = inputs[f].split(\"/\")\n",
    "    temp_file = '{0}{1}'.format('/Users/Ismael/temp_data/',l[-1])\n",
    "    temps[f] = temp_file"
   ]
  },
  {
   "cell_type": "code",
   "execution_count": 9,
   "metadata": {
    "collapsed": false
   },
   "outputs": [],
   "source": [
    "#others/outputs\n",
    "matched_image = '/Users/Ismael/temp_data/matched_check4.png'\n",
    "final_fits = '/Users/Ismael/temp_data/final_fits.fits'"
   ]
  },
  {
   "cell_type": "markdown",
   "metadata": {},
   "source": [
    "### copy to local "
   ]
  },
  {
   "cell_type": "code",
   "execution_count": 52,
   "metadata": {
    "collapsed": false
   },
   "outputs": [
    {
     "data": {
      "text/plain": [
       "1"
      ]
     },
     "execution_count": 52,
     "metadata": {},
     "output_type": "execute_result"
    }
   ],
   "source": [
    "#rm whatever is in the temp_data folder. \n",
    "subprocess.call('rm temp_data/*', shell=True)"
   ]
  },
  {
   "cell_type": "code",
   "execution_count": 57,
   "metadata": {
    "collapsed": false
   },
   "outputs": [],
   "source": [
    "for f in inputs: \n",
    "    subprocess.call('cp {0} {1}'.format(inputs[f],temp_data),shell=True)"
   ]
  },
  {
   "cell_type": "markdown",
   "metadata": {},
   "source": [
    "### write image from catalog into the correct format for it to be sextracted. "
   ]
  },
  {
   "cell_type": "code",
   "execution_count": 8,
   "metadata": {
    "collapsed": false
   },
   "outputs": [],
   "source": [
    "import descwl\n",
    "reader = descwl.output.Reader('/Users/Ismael/temp_data/SimOSD1_table.fits')\n",
    "results = reader.results\n"
   ]
  },
  {
   "cell_type": "code",
   "execution_count": 10,
   "metadata": {
    "collapsed": false
   },
   "outputs": [],
   "source": [
    "img = results.survey.image"
   ]
  },
  {
   "cell_type": "code",
   "execution_count": null,
   "metadata": {
    "collapsed": false
   },
   "outputs": [],
   "source": [
    "import descwl\n",
    "reader = descwl.output.Reader('/Users/Ismael/temp_data/SimOSD1_table.fits')\n",
    "results = reader.results\n",
    "results.add_noise(noise_seed=0) #same noise_seed for all? \n",
    "f = fits.PrimaryHDU(results.survey.image.array)\n",
    "f.writeto(inputs['/Users/Ismael/temp_data/SimOSD1_test.fits'])"
   ]
  },
  {
   "cell_type": "markdown",
   "metadata": {},
   "source": [
    "### Run source extractor."
   ]
  },
  {
   "cell_type": "code",
   "execution_count": 8,
   "metadata": {
    "collapsed": false,
    "scrolled": true
   },
   "outputs": [
    {
     "name": "stdout",
     "output_type": "stream",
     "text": [
      "sex /nfs/slac/g/ki/ki19/deuce/AEGIS/ismael/data/sextractor_runs/test1/image.fits -c /nfs/slac/g/ki/ki19/deuce/AEGIS/ismael/data/sextractor_runs/default_dawson.sex -CATALOG_NAME /nfs/slac/g/ki/ki19/deuce/AEGIS/ismael/data/sextractor_runs/test1/out_dawson.cat\n"
     ]
    }
   ],
   "source": [
    "#run SExtractor: not sure how to do this using slac shell... \n",
    "cmd = 'sex {0} -c {1} -CATALOG_NAME {2}'.format(inputs['input_source_fits_slac'],inputs['config_file'],inputs['output_name_slac'])\n",
    "print cmd "
   ]
  },
  {
   "cell_type": "markdown",
   "metadata": {},
   "source": [
    "### Read data "
   ]
  },
  {
   "cell_type": "code",
   "execution_count": 7,
   "metadata": {
    "collapsed": false
   },
   "outputs": [],
   "source": [
    "#read corresponding catalog \n",
    "cat = descwl.output.Reader(temps['input_name']).results\n",
    "table = cat.table\n",
    "detected,matched,indices,distance = cat.match_sextractor(temps['output_name'])"
   ]
  },
  {
   "cell_type": "code",
   "execution_count": null,
   "metadata": {
    "collapsed": true
   },
   "outputs": [],
   "source": []
  },
  {
   "cell_type": "code",
   "execution_count": 23,
   "metadata": {
    "collapsed": false
   },
   "outputs": [
    {
     "name": "stdout",
     "output_type": "stream",
     "text": [
      "[4558, 8946, 34596, 30935]\n"
     ]
    }
   ],
   "source": [
    "import collections\n",
    "print [item for item, count in collections.Counter(indices).items() if count > 1]"
   ]
  },
  {
   "cell_type": "code",
   "execution_count": 27,
   "metadata": {
    "collapsed": false
   },
   "outputs": [
    {
     "data": {
      "text/plain": [
       "array([4558, 4558])"
      ]
     },
     "execution_count": 27,
     "metadata": {},
     "output_type": "execute_result"
    }
   ],
   "source": [
    "indices[indices == 4558]"
   ]
  },
  {
   "cell_type": "code",
   "execution_count": 28,
   "metadata": {
    "collapsed": false
   },
   "outputs": [
    {
     "data": {
      "text/html": [
       "&lt;Row index=4558&gt;\n",
       "<table id=\"table4857870224\">\n",
       "<thead><tr><th>NUMBER</th><th>FLUXERR_ISO</th><th>FLUX_AUTO</th><th>FLUXERR_AUTO</th><th>X_IMAGE</th><th>Y_IMAGE</th><th>X2_IMAGE</th><th>Y2_IMAGE</th><th>XY_IMAGE</th><th>FLAGS</th></tr></thead>\n",
       "<thead><tr><th></th><th>ct</th><th>ct</th><th>ct</th><th>pix</th><th>pix</th><th>pix2</th><th>pix2</th><th>pix2</th><th></th></tr></thead>\n",
       "<thead><tr><th>int64</th><th>float64</th><th>float64</th><th>float64</th><th>float64</th><th>float64</th><th>float64</th><th>float64</th><th>float64</th><th>int64</th></tr></thead>\n",
       "<tr><td>4559</td><td>6900.727</td><td>332091.8</td><td>13764.7</td><td>1594.195</td><td>1214.706</td><td>7.2817832325</td><td>4.3322747537</td><td>-0.56117594257</td><td>0</td></tr>\n",
       "</table>"
      ],
      "text/plain": [
       "<Row index=4558>\n",
       "NUMBER FLUXERR_ISO FLUX_AUTO FLUXERR_AUTO X_IMAGE  Y_IMAGE    X2_IMAGE     Y2_IMAGE      XY_IMAGE    FLAGS\n",
       "            ct         ct         ct        pix      pix        pix2         pix2          pix2           \n",
       "int64    float64    float64    float64    float64  float64    float64      float64       float64     int64\n",
       "------ ----------- --------- ------------ -------- -------- ------------ ------------ -------------- -----\n",
       "  4559    6900.727  332091.8      13764.7 1594.195 1214.706 7.2817832325 4.3322747537 -0.56117594257     0"
      ]
     },
     "execution_count": 28,
     "metadata": {},
     "output_type": "execute_result"
    }
   ],
   "source": [
    "detected[4558]"
   ]
  },
  {
   "cell_type": "markdown",
   "metadata": {},
   "source": [
    "### Check consistency of SExtracted objects "
   ]
  },
  {
   "cell_type": "code",
   "execution_count": null,
   "metadata": {
    "collapsed": true
   },
   "outputs": [],
   "source": [
    "#image showing matched objects in the image. \n",
    "cmd = './display.py -o {0} --input-name {1} --crop --group 402700155390 --match-catalog {2} --magnification 4 --no-show'.format(matched_image,input_name,output_name)\n",
    "out = subprocess.check_output(cmd,shell=True)\n",
    "print out "
   ]
  },
  {
   "cell_type": "code",
   "execution_count": null,
   "metadata": {
    "collapsed": true
   },
   "outputs": [],
   "source": [
    "#distance of matched and simulated object distance. \n",
    "plt.hist(distance,bins=100,range=(0,1))\n",
    "\n",
    "\"\"\"It is a little strange, let's check the matched image\"\"\"\n",
    "\"\"\"The distances are a lot better! now after correcting the png thing. \"\"\""
   ]
  },
  {
   "cell_type": "markdown",
   "metadata": {},
   "source": [
    "### how are indices ordered? "
   ]
  },
  {
   "cell_type": "code",
   "execution_count": null,
   "metadata": {
    "collapsed": false
   },
   "outputs": [],
   "source": [
    "print detected[0]['X_IMAGE']\n",
    "print table[indices[0]]['dx'] \n",
    "#notice they are almost the same and this is the corresponding element"
   ]
  },
  {
   "cell_type": "markdown",
   "metadata": {},
   "source": [
    "### Analysis of results, "
   ]
  },
  {
   "cell_type": "code",
   "execution_count": 10,
   "metadata": {
    "collapsed": true
   },
   "outputs": [],
   "source": [
    "width, height = 4500,4500\n",
    "pixel_scale = .2 "
   ]
  },
  {
   "cell_type": "code",
   "execution_count": 11,
   "metadata": {
    "collapsed": false
   },
   "outputs": [],
   "source": [
    "#convert to arcsecs and relative to image_center \n",
    "detected['X_IMAGE'] = (detected['X_IMAGE'] - 0.5*width - 0.5)*pixel_scale\n",
    "detected['Y_IMAGE'] = (detected['Y_IMAGE'] - 0.5*height - 0.5)*pixel_scale\n",
    "\n",
    "#convert second moments arcsecs \n",
    "detected['X2_IMAGE']*=pixel_scale**2 \n",
    "detected['Y2_IMAGE']*=pixel_scale**2 \n",
    "detected['XY_IMAGE']*=pixel_scale**2 "
   ]
  },
  {
   "cell_type": "code",
   "execution_count": 12,
   "metadata": {
    "collapsed": false
   },
   "outputs": [],
   "source": [
    "# calculate size from moments X2_IMAGE,Y2_IMAGE,XY_IMAGE -> remember in pixel**2 so have to convert to arcsecs. \n",
    "sigmas = []\n",
    "for x2,y2,xy in zip(detected['X2_IMAGE'],detected['Y2_IMAGE'],detected['XY_IMAGE']):\n",
    "    second_moments = np.array([[x2,xy],[xy,y2]])\n",
    "    sigma = np.linalg.det(second_moments)**(+1./4) #should be a plus \n",
    "    sigmas.append(sigma)\n",
    "SIGMA = Table.Column(name='SIGMA',data=sigmas)\n",
    "detected.add_column(SIGMA)\n",
    "\n",
    "# #add sizes of the corresponding entries from lsst to the detected table. \n",
    "# SIGMA_M = Table.Column(name='SIGMA_M', data=table[indices]['sigma_m'])\n",
    "# detected.add_column(SIGMA_M) "
   ]
  },
  {
   "cell_type": "code",
   "execution_count": 13,
   "metadata": {
    "collapsed": false
   },
   "outputs": [
    {
     "data": {
      "text/plain": [
       "(array([  1.17350000e+04,   3.89400000e+03,   4.94000000e+02,\n",
       "          1.01000000e+02,   3.00000000e+01,   1.60000000e+01,\n",
       "          4.00000000e+00,   3.00000000e+00,   3.00000000e+00,\n",
       "          3.00000000e+00]),\n",
       " array([ 0.11470183,  0.4089908 ,  0.70327978,  0.99756875,  1.29185773,\n",
       "         1.5861467 ,  1.88043567,  2.17472465,  2.46901362,  2.7633026 ,\n",
       "         3.05759157]),\n",
       " <a list of 10 Patch objects>)"
      ]
     },
     "execution_count": 13,
     "metadata": {},
     "output_type": "execute_result"
    },
    {
     "data": {
      "image/png": "[encoded data removed]",
      "text/plain": [
       "<matplotlib.figure.Figure at 0x114528a10>"
      ]
     },
     "metadata": {},
     "output_type": "display_data"
    }
   ],
   "source": [
    "plt.hist(detected['SIGMA'])"
   ]
  },
  {
   "cell_type": "code",
   "execution_count": 169,
   "metadata": {
    "collapsed": false
   },
   "outputs": [],
   "source": [
    "#algorithm for ambiguous blends - returns rows of ambiguously blended objects in cat. \n",
    "def detected_ambiguous_blends1(table,matched_indices,detected):\n",
    "    ambiguous_blends_indices = set([])\n",
    "    for index,gal_row in enumerate(table):\n",
    "        if gal_row['match'] == -1: \n",
    "            \n",
    "            #search for least effective separation SExtracted object.\n",
    "            effective_distances = list(np.sqrt((detected['X_IMAGE']-gal_row['dx'])**2 + (detected['Y_IMAGE']-gal_row['dy'])**2)/(detected['SIGMA'] + gal_row['psf_sigm']))\n",
    "            \n",
    "            #find minimum distance index \n",
    "            minimum_index = effective_distances.index(min(effective_distances))\n",
    "#             if effective_distances[minimum_index]<1.:\n",
    "#                 print matched_indices[minimum_index]\n",
    "            #check criterion and of corresponding indices of table \n",
    "            if effective_distances[minimum_index] < 1.: \n",
    "                ambiguous_blends_indices.add(index)\n",
    "                ambiguous_blends_indices.add(matched_indices[minimum_index])\n",
    "    return ambiguous_blends_indices"
   ]
  },
  {
   "cell_type": "code",
   "execution_count": 179,
   "metadata": {
    "collapsed": false
   },
   "outputs": [],
   "source": [
    "#algorithm for ambiguous blends - returns indices of ambiguously blended objects in terms of the table of full catalogue. \n",
    "#ambiguously blended means that at least one non-detected true object is less than a unit of effective distance away from an ambiguous object. \n",
    "def detected_ambiguous_blends(table,matched_indices,detected):\n",
    "\"\"\"\n",
    "table: table containing entries of all galaxies of the catalog. \n",
    "matched_indices: indices of galaxies in table that were detected by SExtractor (primary  matched)\n",
    "detected: Table of detected objects by SExtractor which also contains their information as measured by SExtractor. \n",
    "\"\"\"\n",
    "    ambiguous_blends_indices = []\n",
    "    for index,gal_row in enumerate(table):\n",
    "        if gal_row['match'] == -1: #loop through true not primarily matched objects. \n",
    "            \n",
    "            #calculate of effective distances of true non-primary match object with all primarily matched objects. \n",
    "            effective_distances = list(np.sqrt((detected['X_IMAGE']-gal_row['dx'])**2 + (detected['Y_IMAGE']-gal_row['dy'])**2)/(detected['SIGMA'] + gal_row['psf_sigm']))\n",
    "            \n",
    "            #mark all objects with effective distance <1. as ambiguosly blended. \n",
    "            marked_indices = [matched_indices[i] for i,distance in enumerate(effective_distances) if distance < 1.]\n",
    "            \n",
    "            #if at least one index was marked as ambiguous, add both the primarily match object and the true non-primary object as ambiguous. \n",
    "            if len(marked_indices) > 0:\n",
    "                ambiguous_blends_indices.append(index)\n",
    "                ambiguous_blends_indices.extend(marked_indices)\n",
    "    return set(ambiguous_blends_indices)"
   ]
  },
  {
   "cell_type": "code",
   "execution_count": 120,
   "metadata": {
    "collapsed": false,
    "scrolled": false
   },
   "outputs": [],
   "source": [
    "ambg_blends1 = detected_ambiguous_blends1(table, indices, detected) #just to check dawson. "
   ]
  },
  {
   "cell_type": "code",
   "execution_count": 181,
   "metadata": {
    "collapsed": false,
    "scrolled": false
   },
   "outputs": [],
   "source": [
    "ambg_blends2 = detected_ambiguous_blends2(table, indices, detected)"
   ]
  },
  {
   "cell_type": "code",
   "execution_count": 182,
   "metadata": {
    "collapsed": false
   },
   "outputs": [
    {
     "data": {
      "text/plain": [
       "8515"
      ]
     },
     "execution_count": 182,
     "metadata": {},
     "output_type": "execute_result"
    }
   ],
   "source": [
    "len(ambg_blends2)"
   ]
  },
  {
   "cell_type": "code",
   "execution_count": 173,
   "metadata": {
    "collapsed": false
   },
   "outputs": [],
   "source": [
    "ambg_blends_indices = list(ambg_blends2)\n",
    "ambg_blends_ids = list(table[ambg_blends_indices]['db_id'])"
   ]
  },
  {
   "cell_type": "code",
   "execution_count": 174,
   "metadata": {
    "collapsed": false
   },
   "outputs": [],
   "source": [
    "#add columns to table of undetected and ambiguosly blended \n",
    "ambigous_blend_column = []\n",
    "for i,gal_row in enumerate(table):\n",
    "    if i in ambg_blends_indices:\n",
    "        ambigous_blend_column.append(True)\n",
    "    else: \n",
    "        ambigous_blend_column.append(False)\n",
    "column = Table.Column(name='ambig_blend',data=ambigous_blend_column)\n",
    "table.add_column(column)"
   ]
  },
  {
   "cell_type": "code",
   "execution_count": 175,
   "metadata": {
    "collapsed": false
   },
   "outputs": [],
   "source": [
    "#create new copy of fits_file with this new table. \n",
    "subprocess.call('cp {0} {1}'.format(temps['input_name'],temps['final_fits']),shell=True)\n",
    "f = fits.open(temps['final_fits'])  \n",
    "#replace table and write file\n",
    "f[1]= astropy.io.fits.table_to_hdu(table)\n",
    "subprocess.call('rm {0}'.format(temps['final_fits']),shell=True)\n",
    "f.writeto(temps['final_fits']) #overwrites the existing one. "
   ]
  },
  {
   "cell_type": "code",
   "execution_count": 184,
   "metadata": {
    "collapsed": false
   },
   "outputs": [
    {
     "data": {
      "text/plain": [
       "(array([   30.,    98.,   248.,   404.,   427.,   579.,   617.,   648.,\n",
       "          628.,   686.,   719.,   685.,   678.,   790.,   724.,   752.,\n",
       "          782.,   862.,   774.,   876.,   844.,   980.,   922.,   923.,\n",
       "         1010.,  1061.,  1128.,  1222.,  1228.,  1304.,  1359.,  1365.,\n",
       "         1377.,  1369.,  1368.,  1561.,  1531.,  1560.,  1543.,  1658.,\n",
       "         1654.,  1681.,  1779.,  1689.,  1843.,  1898.,  1946.,  1973.,\n",
       "         1888.,  1955.]),\n",
       " array([ 0.00653213,  0.06640147,  0.1262708 ,  0.18614014,  0.24600948,\n",
       "         0.30587881,  0.36574815,  0.42561749,  0.48548682,  0.54535616,\n",
       "         0.6052255 ,  0.66509483,  0.72496417,  0.78483351,  0.84470284,\n",
       "         0.90457218,  0.96444152,  1.02431086,  1.08418019,  1.14404953,\n",
       "         1.20391887,  1.2637882 ,  1.32365754,  1.38352688,  1.44339621,\n",
       "         1.50326555,  1.56313489,  1.62300422,  1.68287356,  1.7427429 ,\n",
       "         1.80261223,  1.86248157,  1.92235091,  1.98222024,  2.04208958,\n",
       "         2.10195892,  2.16182825,  2.22169759,  2.28156693,  2.34143626,\n",
       "         2.4013056 ,  2.46117494,  2.52104427,  2.58091361,  2.64078295,\n",
       "         2.70065228,  2.76052162,  2.82039096,  2.88026029,  2.94012963,\n",
       "         2.99999897]),\n",
       " <a list of 50 Patch objects>)"
      ]
     },
     "execution_count": 184,
     "metadata": {},
     "output_type": "execute_result"
    },
    {
     "data": {
      "image/png": "[encoded data removed]",
      "text/plain": [
       "<matplotlib.figure.Figure at 0x120982650>"
      ]
     },
     "metadata": {},
     "output_type": "display_data"
    }
   ],
   "source": [
    "plt.hist(plot_distances,bins=50)"
   ]
  },
  {
   "cell_type": "markdown",
   "metadata": {
    "collapsed": true
   },
   "source": [
    "### Make sure ambigous blends make sense"
   ]
  },
  {
   "cell_type": "code",
   "execution_count": 17,
   "metadata": {
    "collapsed": false
   },
   "outputs": [
    {
     "name": "stdout",
     "output_type": "stream",
     "text": [
      "\n"
     ]
    }
   ],
   "source": [
    "cmd = './display.py -o {0} --view-region [-150,-90,312,370] --select \"ambig_blend==True\" --input-name {1} --match-catalog {2} --match-color CYAN --magnification 4 --no-display'.format('/Users/Ismael/temp_data/javier_field2.pdf',temps['final_fits'],temps['output_name'])\n",
    "out = subprocess.check_output(cmd,shell=True)\n",
    "print out "
   ]
  },
  {
   "cell_type": "code",
   "execution_count": 12,
   "metadata": {
    "collapsed": false
   },
   "outputs": [
    {
     "name": "stdout",
     "output_type": "stream",
     "text": [
      "\n"
     ]
    }
   ],
   "source": [
    "cmd = './display.py -o {0} --view-region [170,200,170,200] --select-region [170,200,170,200] --input-name {1} --match-catalog {2} --magnification 4 --match-color CYAN --no-display'.format('/Users/Ismael/temp_data/poster_fieldx.pdf',temps['final_fits'],temps['output_name'])\n",
    "out = subprocess.check_output(cmd,shell=True)\n",
    "print out "
   ]
  },
  {
   "cell_type": "markdown",
   "metadata": {
    "collapsed": true
   },
   "source": [
    "### analysis of final_fits "
   ]
  },
  {
   "cell_type": "code",
   "execution_count": 11,
   "metadata": {
    "collapsed": false
   },
   "outputs": [],
   "source": [
    "t = Table.read(temps['final_fits'])"
   ]
  },
  {
   "cell_type": "code",
   "execution_count": 178,
   "metadata": {
    "collapsed": false
   },
   "outputs": [
    {
     "data": {
      "text/plain": [
       "0.24043245899625285"
      ]
     },
     "execution_count": 178,
     "metadata": {},
     "output_type": "execute_result"
    }
   ],
   "source": [
    "float(len(t[(t['match'] != -1) & (t['ambig_blend'] == True)]))/ len(t[t['match'] != -1]) #number to compare to Dawson which is about 15%-20%"
   ]
  },
  {
   "cell_type": "code",
   "execution_count": 12,
   "metadata": {
    "collapsed": false
   },
   "outputs": [
    {
     "data": {
      "text/html": [
       "&lt;Table length=53899&gt;\n",
       "<table id=\"table5369860176\" class=\"table-striped table-bordered table-condensed\">\n",
       "<thead><tr><th>db_id</th><th>grp_id</th><th>grp_size</th><th>grp_rank</th><th>visible</th><th>xmin</th><th>xmax</th><th>ymin</th><th>ymax</th><th>f_disk</th><th>f_bulge</th><th>dx</th><th>dy</th><th>z</th><th>ab_mag</th><th>ri_color</th><th>flux</th><th>sigma_m</th><th>sigma_p</th><th>e1</th><th>e2</th><th>a</th><th>b</th><th>beta</th><th>psf_sigm</th><th>purity</th><th>snr_sky</th><th>snr_iso</th><th>snr_grp</th><th>snr_isof</th><th>snr_grpf</th><th>ds</th><th>dg1</th><th>dg2</th><th>ds_grp</th><th>dg1_grp</th><th>dg2_grp</th><th>hsm_sigm</th><th>hsm_e1</th><th>hsm_e2</th><th>g1_fit</th><th>g2_fit</th><th>bias_f</th><th>bias_s</th><th>bias_g1</th><th>bias_g2</th><th>bias_x</th><th>bias_y</th><th>bias_f_grp</th><th>bias_s_grp</th><th>bias_g1_grp</th><th>bias_g2_grp</th><th>bias_x_grp</th><th>bias_y_grp</th><th>match</th><th>ambig_blend</th></tr></thead>\n",
       "<thead><tr><th>int64</th><th>int64</th><th>int16</th><th>int16</th><th>int16</th><th>int32</th><th>int32</th><th>int32</th><th>int32</th><th>float32</th><th>float32</th><th>float32</th><th>float32</th><th>float32</th><th>float32</th><th>float32</th><th>float32</th><th>float32</th><th>float32</th><th>float32</th><th>float32</th><th>float32</th><th>float32</th><th>float32</th><th>float32</th><th>float32</th><th>float32</th><th>float32</th><th>float32</th><th>float32</th><th>float32</th><th>float32</th><th>float32</th><th>float32</th><th>float32</th><th>float32</th><th>float32</th><th>float32</th><th>float32</th><th>float32</th><th>float32</th><th>float32</th><th>float32</th><th>float32</th><th>float32</th><th>float32</th><th>float32</th><th>float32</th><th>float32</th><th>float32</th><th>float32</th><th>float32</th><th>float32</th><th>float32</th><th>int64</th><th>bool</th></tr></thead>\n",
       "<tr><td>402703800921</td><td>402700070321</td><td>14</td><td>4</td><td>1</td><td>63</td><td>78</td><td>4435</td><td>4449</td><td>0.979957</td><td>0.0200425</td><td>-435.79</td><td>438.548</td><td>1.10249</td><td>25.118</td><td>0.304281</td><td>100951.0</td><td>0.280908</td><td>0.287157</td><td>0.107846</td><td>0.10181</td><td>0.326177</td><td>0.241922</td><td>0.378307</td><td>0.679782</td><td>0.99283</td><td>17.62</td><td>17.5798</td><td>17.5797</td><td>11.6366</td><td>11.55</td><td>0.20813</td><td>0.189111</td><td>0.188379</td><td>0.209643</td><td>0.189235</td><td>0.189312</td><td>nan</td><td>nan</td><td>nan</td><td>0.0</td><td>2.98023e-09</td><td>885.573</td><td>-0.0536606</td><td>0.019716</td><td>0.0186084</td><td>1.20218e-06</td><td>2.17978e-07</td><td>846.358</td><td>-0.0550999</td><td>0.0196308</td><td>0.0200551</td><td>0.000114121</td><td>-6.89414e-05</td><td>15338</td><td>False</td></tr>\n",
       "<tr><td>402711741705</td><td>402700070321</td><td>14</td><td>11</td><td>1</td><td>48</td><td>56</td><td>4441</td><td>4450</td><td>1.0</td><td>0.0</td><td>-439.49</td><td>439.268</td><td>1.7324</td><td>27.0767</td><td>0.483753</td><td>16619.1</td><td>0.136951</td><td>0.169101</td><td>-0.412124</td><td>-0.194816</td><td>0.224008</td><td>0.0837271</td><td>-1.35001</td><td>0.638975</td><td>0.708771</td><td>3.35006</td><td>3.34837</td><td>3.34785</td><td>2.3052</td><td>2.10892</td><td>5.09399</td><td>4.65826</td><td>2.87848</td><td>5.24664</td><td>4.72975</td><td>2.9207</td><td>nan</td><td>nan</td><td>nan</td><td>0.0</td><td>0.0</td><td>5632.62</td><td>-42.2587</td><td>-45.489</td><td>-21.5245</td><td>-0.00060437</td><td>0.00156415</td><td>6098.27</td><td>-43.7503</td><td>-47.4022</td><td>-22.59</td><td>0.00227608</td><td>0.00415418</td><td>-1</td><td>False</td></tr>\n",
       "<tr><td>402700888931</td><td>402700157436</td><td>6</td><td>1</td><td>1</td><td>-10</td><td>12</td><td>4426</td><td>4445</td><td>0.984052</td><td>0.0159475</td><td>-449.739</td><td>437.212</td><td>0.564225</td><td>23.3659</td><td>0.708736</td><td>506909.0</td><td>0.312205</td><td>0.373293</td><td>0.247482</td><td>-0.339966</td><td>0.488806</td><td>0.199409</td><td>-0.470774</td><td>0.714129</td><td>0.998528</td><td>84.9669</td><td>84.0811</td><td>84.0808</td><td>55.8643</td><td>55.8625</td><td>0.0537954</td><td>0.0384234</td><td>0.0448485</td><td>0.0537965</td><td>0.0384241</td><td>0.0448489</td><td>nan</td><td>nan</td><td>nan</td><td>0.0</td><td>2.98023e-09</td><td>186.334</td><td>-0.00364419</td><td>0.00243869</td><td>-0.00335012</td><td>-1.38445e-09</td><td>3.24792e-09</td><td>186.15</td><td>-0.00364542</td><td>0.00243957</td><td>-0.0033502</td><td>-4.33745e-08</td><td>9.07668e-08</td><td>15137</td><td>False</td></tr>\n",
       "<tr><td>402700157436</td><td>402700157436</td><td>6</td><td>0</td><td>1</td><td>-7</td><td>36</td><td>4403</td><td>4437</td><td>0.979011</td><td>0.0209888</td><td>-446.944</td><td>434.097</td><td>0.978547</td><td>21.2337</td><td>0.357725</td><td>3.61274e+06</td><td>0.552112</td><td>0.642985</td><td>0.384919</td><td>-0.0551429</td><td>0.8323</td><td>0.366247</td><td>-0.0711453</td><td>0.861934</td><td>0.999263</td><td>469.728</td><td>449.528</td><td>449.527</td><td>289.384</td><td>285.028</td><td>0.00562225</td><td>0.00499328</td><td>0.00350777</td><td>0.00576322</td><td>0.00512956</td><td>0.00352524</td><td>nan</td><td>nan</td><td>nan</td><td>0.0</td><td>2.98023e-09</td><td>39.0377</td><td>-2.74528e-05</td><td>2.98148e-05</td><td>-4.27184e-06</td><td>-2.55419e-11</td><td>1.85468e-11</td><td>-102.075</td><td>-0.000102954</td><td>9.69304e-05</td><td>-2.51873e-05</td><td>3.9072e-06</td><td>1.3913e-05</td><td>15146</td><td>False</td></tr>\n",
       "<tr><td>402710043179</td><td>402700157436</td><td>6</td><td>4</td><td>1</td><td>14</td><td>25</td><td>4437</td><td>4447</td><td>1.0</td><td>0.0</td><td>-445.995</td><td>438.466</td><td>1.9369</td><td>26.7302</td><td>-0.0148411</td><td>22866.9</td><td>0.338655</td><td>0.342763</td><td>0.102475</td><td>0.039454</td><td>0.378129</td><td>0.303302</td><td>0.183759</td><td>0.705051</td><td>0.999558</td><td>3.72547</td><td>3.72377</td><td>3.72377</td><td>2.31122</td><td>2.31122</td><td>0.860507</td><td>0.774936</td><td>0.7525</td><td>0.860507</td><td>0.774936</td><td>0.7525</td><td>nan</td><td>nan</td><td>nan</td><td>0.0</td><td>0.0</td><td>5915.07</td><td>-0.647236</td><td>0.259546</td><td>0.0999777</td><td>0.000937364</td><td>-0.000385944</td><td>5915.08</td><td>-0.647236</td><td>0.259546</td><td>0.0999779</td><td>0.000937307</td><td>-0.000386045</td><td>-1</td><td>False</td></tr>\n",
       "<tr><td>402716543735</td><td>402716543735</td><td>1</td><td>0</td><td>1</td><td>2</td><td>9</td><td>4360</td><td>4367</td><td>1.0</td><td>0.0</td><td>-448.769</td><td>422.796</td><td>3.06535</td><td>27.8187</td><td>-0.0392017</td><td>8391.27</td><td>0.151304</td><td>0.160452</td><td>0.209959</td><td>-0.120637</td><td>0.193707</td><td>0.118183</td><td>-0.260758</td><td>0.637054</td><td>1.0</td><td>1.67006</td><td>1.66963</td><td>1.66963</td><td>1.07274</td><td>1.07274</td><td>5.62974</td><td>5.15311</td><td>4.59607</td><td>5.62974</td><td>5.15311</td><td>4.59607</td><td>nan</td><td>nan</td><td>nan</td><td>0.0</td><td>0.0</td><td>15828.7</td><td>-49.7808</td><td>35.6115</td><td>-20.6862</td><td>0.0143205</td><td>0.00312236</td><td>15828.7</td><td>-49.7808</td><td>35.6115</td><td>-20.6862</td><td>0.0143205</td><td>0.00312236</td><td>-1</td><td>False</td></tr>\n",
       "<tr><td>402700326587</td><td>402700326587</td><td>11</td><td>0</td><td>1</td><td>19</td><td>48</td><td>4373</td><td>4405</td><td>0.958816</td><td>0.0411839</td><td>-443.197</td><td>427.862</td><td>0.55267</td><td>22.4916</td><td>0.557438</td><td>1.13411e+06</td><td>0.611041</td><td>0.643435</td><td>-0.103375</td><td>0.2023</td><td>0.769992</td><td>0.484903</td><td>1.0216</td><td>0.879698</td><td>0.938179</td><td>139.122</td><td>137.324</td><td>137.273</td><td>83.7917</td><td>60.7617</td><td>0.0165666</td><td>0.0129921</td><td>0.0139023</td><td>0.0204651</td><td>0.0144399</td><td>0.0186831</td><td>nan</td><td>nan</td><td>nan</td><td>0.0</td><td>2.98023e-09</td><td>140.606</td><td>-0.000181832</td><td>-6.36296e-05</td><td>0.000124498</td><td>-1.26983e-09</td><td>-4.54258e-09</td><td>-1012.5</td><td>-0.00149075</td><td>0.000156636</td><td>0.000660477</td><td>7.71152e-05</td><td>3.09066e-06</td><td>15393</td><td>True</td></tr>\n",
       "<tr><td>402709202217</td><td>402700326587</td><td>11</td><td>6</td><td>1</td><td>17</td><td>28</td><td>4390</td><td>4400</td><td>1.0</td><td>0.0</td><td>-445.426</td><td>429.147</td><td>2.22531</td><td>26.5479</td><td>-0.070528</td><td>27047.8</td><td>0.269635</td><td>0.27394</td><td>0.112846</td><td>0.0556934</td><td>0.305999</td><td>0.237593</td><td>0.22923</td><td>0.674483</td><td>0.286031</td><td>4.77758</td><td>4.77458</td><td>4.77029</td><td>3.10321</td><td>1.55468</td><td>0.804996</td><td>0.743867</td><td>0.721019</td><td>1.06929</td><td>0.918856</td><td>0.960962</td><td>nan</td><td>nan</td><td>nan</td><td>0.0</td><td>0.0</td><td>3936.32</td><td>-0.759571</td><td>0.310863</td><td>0.153388</td><td>-0.000198022</td><td>0.000429045</td><td>13022.2</td><td>-1.19635</td><td>0.176024</td><td>0.614372</td><td>0.113725</td><td>-0.0466477</td><td>-1</td><td>False</td></tr>\n",
       "<tr><td>402701329029</td><td>402700326587</td><td>11</td><td>2</td><td>1</td><td>18</td><td>37</td><td>4384</td><td>4402</td><td>0.94573</td><td>0.0542698</td><td>-444.33</td><td>428.706</td><td>0.552661</td><td>23.789</td><td>0.833679</td><td>343333.0</td><td>0.198382</td><td>0.223305</td><td>0.324643</td><td>-0.111357</td><td>0.283702</td><td>0.138721</td><td>-0.165219</td><td>0.65501</td><td>0.765063</td><td>65.2733</td><td>64.6806</td><td>64.5888</td><td>44.2883</td><td>16.4243</td><td>0.106667</td><td>0.100566</td><td>0.0722062</td><td>0.16519</td><td>0.118688</td><td>0.0954845</td><td>nan</td><td>nan</td><td>nan</td><td>0.0</td><td>2.98023e-09</td><td>231.786</td><td>-0.0172079</td><td>0.0164077</td><td>-0.00562787</td><td>4.83519e-09</td><td>5.32813e-10</td><td>-5449.59</td><td>-0.0460262</td><td>0.0188816</td><td>0.00750437</td><td>0.00857748</td><td>-0.00336021</td><td>-1</td><td>True</td></tr>\n",
       "<tr><td>402708267075</td><td>402700157436</td><td>6</td><td>3</td><td>1</td><td>-4</td><td>7</td><td>4390</td><td>4401</td><td>1.0</td><td>0.0</td><td>-449.627</td><td>429.204</td><td>0.99425</td><td>26.4269</td><td>0.564417</td><td>30236.3</td><td>0.212815</td><td>0.225902</td><td>0.0173182</td><td>-0.243534</td><td>0.273036</td><td>0.165876</td><td>-0.749902</td><td>0.656243</td><td>0.995709</td><td>5.6846</td><td>5.68009</td><td>5.68009</td><td>3.83027</td><td>3.77374</td><td>0.960819</td><td>0.74703</td><td>0.926903</td><td>0.98782</td><td>0.748067</td><td>0.955748</td><td>nan</td><td>nan</td><td>nan</td><td>0.0</td><td>0.0</td><td>2980.56</td><td>-1.3494</td><td>0.0769356</td><td>-1.08032</td><td>-9.75669e-06</td><td>-0.000101703</td><td>2612.53</td><td>-1.47677</td><td>0.0811246</td><td>-1.23249</td><td>-0.00299648</td><td>-0.00311524</td><td>-1</td><td>False</td></tr>\n",
       "<tr><td>...</td><td>...</td><td>...</td><td>...</td><td>...</td><td>...</td><td>...</td><td>...</td><td>...</td><td>...</td><td>...</td><td>...</td><td>...</td><td>...</td><td>...</td><td>...</td><td>...</td><td>...</td><td>...</td><td>...</td><td>...</td><td>...</td><td>...</td><td>...</td><td>...</td><td>...</td><td>...</td><td>...</td><td>...</td><td>...</td><td>...</td><td>...</td><td>...</td><td>...</td><td>...</td><td>...</td><td>...</td><td>...</td><td>...</td><td>...</td><td>...</td><td>...</td><td>...</td><td>...</td><td>...</td><td>...</td><td>...</td><td>...</td><td>...</td><td>...</td><td>...</td><td>...</td><td>...</td><td>...</td><td>...</td><td>...</td></tr>\n",
       "<tr><td>402706361797</td><td>402700424306</td><td>11</td><td>6</td><td>1</td><td>2410</td><td>2421</td><td>4458</td><td>4469</td><td>0.975439</td><td>0.024561</td><td>33.1608</td><td>442.856</td><td>1.17107</td><td>26.0507</td><td>0.240189</td><td>42756.6</td><td>0.170927</td><td>0.172984</td><td>0.0773839</td><td>-0.0772911</td><td>0.190766</td><td>0.153151</td><td>-0.392399</td><td>0.640419</td><td>0.585945</td><td>8.41902</td><td>8.40867</td><td>8.40435</td><td>5.80591</td><td>2.14845</td><td>0.745169</td><td>0.712093</td><td>0.711857</td><td>1.16779</td><td>0.794111</td><td>0.792657</td><td>nan</td><td>nan</td><td>nan</td><td>0.0</td><td>0.0</td><td>1866.87</td><td>-0.939569</td><td>0.258545</td><td>-0.258288</td><td>-3.07323e-05</td><td>5.81815e-05</td><td>6834.09</td><td>-1.31817</td><td>0.448471</td><td>-0.264679</td><td>-0.0309009</td><td>0.0131552</td><td>-1</td><td>False</td></tr>\n",
       "<tr><td>402700424306</td><td>402700424306</td><td>11</td><td>0</td><td>1</td><td>2386</td><td>2412</td><td>4441</td><td>4465</td><td>1.0</td><td>0.0</td><td>29.9023</td><td>440.679</td><td>0.370072</td><td>22.365</td><td>0.462646</td><td>1.27438e+06</td><td>0.194652</td><td>0.272875</td><td>0.412477</td><td>0.394177</td><td>0.372238</td><td>0.101788</td><td>0.381358</td><td>0.670958</td><td>0.999187</td><td>241.216</td><td>233.494</td><td>233.493</td><td>164.192</td><td>160.778</td><td>0.0588597</td><td>0.0435769</td><td>0.0419172</td><td>0.0615017</td><td>0.0455456</td><td>0.0436156</td><td>nan</td><td>nan</td><td>nan</td><td>6.47879e-05</td><td>-1.75252e-05</td><td>64.9663</td><td>-0.00525851</td><td>0.00484661</td><td>0.00463147</td><td>3.06475e-09</td><td>4.88576e-10</td><td>-275.445</td><td>-0.00916029</td><td>0.00781352</td><td>0.0073632</td><td>2.8721e-05</td><td>-8.79201e-05</td><td>15179</td><td>False</td></tr>\n",
       "<tr><td>402703038040</td><td>402700424306</td><td>11</td><td>4</td><td>1</td><td>2399</td><td>2417</td><td>4463</td><td>4479</td><td>0.975333</td><td>0.0246666</td><td>31.7339</td><td>444.343</td><td>0.977687</td><td>24.7916</td><td>0.458004</td><td>136354.0</td><td>0.384952</td><td>0.386304</td><td>0.0591187</td><td>-0.00345652</td><td>0.408466</td><td>0.362792</td><td>-0.0292005</td><td>0.727463</td><td>0.533275</td><td>21.1517</td><td>21.0998</td><td>21.0645</td><td>13.4494</td><td>1.9295</td><td>0.13158</td><td>0.118585</td><td>0.117494</td><td>0.275271</td><td>0.262413</td><td>0.192681</td><td>nan</td><td>nan</td><td>nan</td><td>0.0</td><td>0.0</td><td>795.805</td><td>-0.0161585</td><td>0.00336274</td><td>-0.000194622</td><td>-1.23269e-06</td><td>2.07226e-06</td><td>-3895.14</td><td>-0.170343</td><td>0.0906144</td><td>0.0872884</td><td>-0.00259744</td><td>0.0044031</td><td>-1</td><td>True</td></tr>\n",
       "<tr><td>402701570912</td><td>402700424306</td><td>11</td><td>1</td><td>1</td><td>2402</td><td>2419</td><td>4456</td><td>4480</td><td>0.970142</td><td>0.029858</td><td>32.2146</td><td>443.686</td><td>1.58696</td><td>24.2054</td><td>0.406446</td><td>233958.0</td><td>0.468695</td><td>0.528581</td><td>-0.340191</td><td>-0.062752</td><td>0.672341</td><td>0.326732</td><td>-1.47959</td><td>0.797916</td><td>0.713264</td><td>33.0501</td><td>32.9339</td><td>32.8995</td><td>20.8024</td><td>2.82096</td><td>0.0849444</td><td>0.076058</td><td>0.0573361</td><td>0.259289</td><td>0.163055</td><td>0.187503</td><td>nan</td><td>nan</td><td>nan</td><td>0.0</td><td>0.0</td><td>531.616</td><td>-0.0065655</td><td>-0.00666005</td><td>-0.00122895</td><td>-2.57947e-07</td><td>-4.30782e-09</td><td>3663.94</td><td>-0.0845094</td><td>-0.0567408</td><td>0.041883</td><td>-0.0158707</td><td>0.0224717</td><td>15091</td><td>True</td></tr>\n",
       "<tr><td>402706814810</td><td>402700424306</td><td>11</td><td>7</td><td>1</td><td>2390</td><td>2401</td><td>4455</td><td>4467</td><td>1.0</td><td>0.0</td><td>29.2775</td><td>442.244</td><td>0.776137</td><td>26.0594</td><td>1.16249</td><td>42418.1</td><td>0.198175</td><td>0.240863</td><td>-0.159907</td><td>-0.408739</td><td>0.317357</td><td>0.123752</td><td>-0.971856</td><td>0.66045</td><td>0.589477</td><td>8.05034</td><td>8.0412</td><td>8.03871</td><td>5.50008</td><td>5.32636</td><td>1.0904</td><td>0.620103</td><td>1.01443</td><td>1.09799</td><td>0.623954</td><td>1.0165</td><td>nan</td><td>nan</td><td>nan</td><td>0.0</td><td>0.0</td><td>2023.85</td><td>-1.80334</td><td>-0.766964</td><td>-1.96012</td><td>2.90517e-05</td><td>-4.0846e-05</td><td>2233.37</td><td>-1.80757</td><td>-0.762806</td><td>-1.96512</td><td>0.000660603</td><td>-0.00143563</td><td>-1</td><td>False</td></tr>\n",
       "<tr><td>402709793901</td><td>402700588317</td><td>8</td><td>5</td><td>1</td><td>2436</td><td>2445</td><td>4467</td><td>4479</td><td>0.984911</td><td>0.0150889</td><td>38.2063</td><td>444.609</td><td>4.57024</td><td>26.6018</td><td>0.693991</td><td>25737.2</td><td>0.258129</td><td>0.291556</td><td>-0.347952</td><td>-0.0102157</td><td>0.3712</td><td>0.1795</td><td>-1.55612</td><td>0.679901</td><td>0.744106</td><td>4.57993</td><td>4.57714</td><td>4.57652</td><td>2.987</td><td>2.57632</td><td>1.11853</td><td>1.06351</td><td>0.710258</td><td>1.19669</td><td>1.0852</td><td>0.764665</td><td>nan</td><td>nan</td><td>nan</td><td>0.0</td><td>0.0</td><td>4161.93</td><td>-1.58292</td><td>-1.66759</td><td>-0.0489115</td><td>0.000157796</td><td>-0.000288125</td><td>5137.49</td><td>-1.72675</td><td>-1.8018</td><td>0.0623719</td><td>0.00588821</td><td>-0.00555221</td><td>-1</td><td>False</td></tr>\n",
       "<tr><td>402708766139</td><td>402701639472</td><td>10</td><td>5</td><td>1</td><td>2445</td><td>2456</td><td>4494</td><td>4504</td><td>1.0</td><td>0.0</td><td>40.2254</td><td>449.87</td><td>1.14777</td><td>26.6242</td><td>0.487349</td><td>25213.4</td><td>0.307598</td><td>0.308822</td><td>0.0612627</td><td>0.0147765</td><td>0.327634</td><td>0.288788</td><td>0.118339</td><td>0.689554</td><td>0.169912</td><td>4.26228</td><td>4.25999</td><td>4.25078</td><td>2.70523</td><td>0.345479</td><td>0.791113</td><td>0.724985</td><td>0.713981</td><td>1.79739</td><td>1.2957</td><td>1.42599</td><td>nan</td><td>nan</td><td>nan</td><td>0.0</td><td>0.0</td><td>4733.72</td><td>-0.625554</td><td>0.145802</td><td>0.0352856</td><td>0.000323105</td><td>-0.000532948</td><td>-18772.5</td><td>-6.20015</td><td>-0.924524</td><td>0.40266</td><td>-0.833528</td><td>0.213895</td><td>-1</td><td>True</td></tr>\n",
       "<tr><td>402709183615</td><td>402701639472</td><td>10</td><td>6</td><td>1</td><td>2440</td><td>2452</td><td>4483</td><td>4494</td><td>1.0</td><td>0.0</td><td>39.3684</td><td>447.753</td><td>0.546624</td><td>26.6016</td><td>-0.195047</td><td>25743.9</td><td>0.383808</td><td>0.384853</td><td>0.0292835</td><td>-0.0431567</td><td>0.404375</td><td>0.364286</td><td>-0.487309</td><td>0.72674</td><td>0.941673</td><td>3.98153</td><td>3.97968</td><td>3.97963</td><td>2.43259</td><td>2.28417</td><td>0.724527</td><td>0.642905</td><td>0.641118</td><td>0.764407</td><td>0.651931</td><td>0.670598</td><td>nan</td><td>nan</td><td>nan</td><td>0.0</td><td>0.0</td><td>5719.05</td><td>-0.394742</td><td>0.0471201</td><td>-0.0702203</td><td>2.18306e-05</td><td>-0.000763282</td><td>1342.0</td><td>-0.726909</td><td>0.18006</td><td>-0.346272</td><td>-0.0348258</td><td>-0.0533924</td><td>-1</td><td>False</td></tr>\n",
       "<tr><td>402716549499</td><td>402701639472</td><td>10</td><td>9</td><td>1</td><td>2449</td><td>2459</td><td>4492</td><td>4500</td><td>1.0</td><td>0.0</td><td>40.9489</td><td>449.343</td><td>0.682285</td><td>27.8356</td><td>0.146368</td><td>8261.34</td><td>0.391226</td><td>0.491452</td><td>0.25827</td><td>0.396865</td><td>0.654493</td><td>0.233857</td><td>0.496938</td><td>0.770101</td><td>0.0604835</td><td>1.24491</td><td>1.24472</td><td>1.24211</td><td>0.635025</td><td>0.211478</td><td>4.01509</td><td>2.48141</td><td>3.15791</td><td>4.87092</td><td>3.47222</td><td>4.45309</td><td>nan</td><td>nan</td><td>nan</td><td>0.0</td><td>0.0</td><td>38209.8</td><td>-10.8057</td><td>9.70753</td><td>14.9328</td><td>-0.00446782</td><td>-0.00307511</td><td>47932.7</td><td>-37.3497</td><td>21.2851</td><td>37.1582</td><td>2.53605</td><td>0.607914</td><td>13285</td><td>True</td></tr>\n",
       "<tr><td>402701507346</td><td>402700424306</td><td>11</td><td>3</td><td>1</td><td>2364</td><td>2398</td><td>4452</td><td>4487</td><td>0.0</td><td>1.0</td><td>26.3271</td><td>444.036</td><td>1.88413</td><td>23.9654</td><td>0.101721</td><td>291834.0</td><td>0.954016</td><td>0.988004</td><td>-0.0275855</td><td>0.185015</td><td>1.15282</td><td>0.789494</td><td>0.859402</td><td>1.14443</td><td>0.985877</td><td>26.0882</td><td>26.019</td><td>26.0189</td><td>9.02897</td><td>8.81464</td><td>0.192929</td><td>0.0899539</td><td>0.0967239</td><td>0.197689</td><td>0.0914912</td><td>0.0980449</td><td>nan</td><td>nan</td><td>nan</td><td>0.0</td><td>2.98023e-09</td><td>2072.99</td><td>0.00251153</td><td>-0.000664286</td><td>0.00445452</td><td>-1.74129e-07</td><td>4.44417e-08</td><td>1093.53</td><td>-0.00357283</td><td>0.0010461</td><td>0.00690461</td><td>-6.94223e-05</td><td>0.000206968</td><td>15347</td><td>False</td></tr>\n",
       "</table>"
      ],
      "text/plain": [
       "<Table length=53899>\n",
       "   db_id        grp_id    grp_size grp_rank ...  bias_y_grp  match ambig_blend\n",
       "   int64        int64      int16    int16   ...   float32    int64     bool   \n",
       "------------ ------------ -------- -------- ... ------------ ----- -----------\n",
       "402703800921 402700070321       14        4 ... -6.89414e-05 15338       False\n",
       "402711741705 402700070321       14       11 ...   0.00415418    -1       False\n",
       "402700888931 402700157436        6        1 ...  9.07668e-08 15137       False\n",
       "402700157436 402700157436        6        0 ...   1.3913e-05 15146       False\n",
       "402710043179 402700157436        6        4 ... -0.000386045    -1       False\n",
       "402716543735 402716543735        1        0 ...   0.00312236    -1       False\n",
       "402700326587 402700326587       11        0 ...  3.09066e-06 15393        True\n",
       "402709202217 402700326587       11        6 ...   -0.0466477    -1       False\n",
       "402701329029 402700326587       11        2 ...  -0.00336021    -1        True\n",
       "402708267075 402700157436        6        3 ...  -0.00311524    -1       False\n",
       "         ...          ...      ...      ... ...          ...   ...         ...\n",
       "402706361797 402700424306       11        6 ...    0.0131552    -1       False\n",
       "402700424306 402700424306       11        0 ... -8.79201e-05 15179       False\n",
       "402703038040 402700424306       11        4 ...    0.0044031    -1        True\n",
       "402701570912 402700424306       11        1 ...    0.0224717 15091        True\n",
       "402706814810 402700424306       11        7 ...  -0.00143563    -1       False\n",
       "402709793901 402700588317        8        5 ...  -0.00555221    -1       False\n",
       "402708766139 402701639472       10        5 ...     0.213895    -1        True\n",
       "402709183615 402701639472       10        6 ...   -0.0533924    -1       False\n",
       "402716549499 402701639472       10        9 ...     0.607914 13285        True\n",
       "402701507346 402700424306       11        3 ...  0.000206968 15347       False"
      ]
     },
     "execution_count": 12,
     "metadata": {},
     "output_type": "execute_result"
    }
   ],
   "source": [
    "t"
   ]
  },
  {
   "cell_type": "code",
   "execution_count": 10,
   "metadata": {
    "collapsed": false
   },
   "outputs": [],
   "source": [
    "f = fits.open('/Users/Ismael/temp_data/final_fits.fits')\n",
    "table = Table.read(f,hdu=1)"
   ]
  },
  {
   "cell_type": "code",
   "execution_count": 11,
   "metadata": {
    "collapsed": false
   },
   "outputs": [
    {
     "data": {
      "text/html": [
       "&lt;Table length=53899&gt;\n",
       "<table id=\"table5443864656\" class=\"table-striped table-bordered table-condensed\">\n",
       "<thead><tr><th>db_id</th><th>grp_id</th><th>grp_size</th><th>grp_rank</th><th>visible</th><th>xmin</th><th>xmax</th><th>ymin</th><th>ymax</th><th>f_disk</th><th>f_bulge</th><th>dx</th><th>dy</th><th>z</th><th>ab_mag</th><th>ri_color</th><th>flux</th><th>sigma_m</th><th>sigma_p</th><th>e1</th><th>e2</th><th>a</th><th>b</th><th>beta</th><th>psf_sigm</th><th>purity</th><th>snr_sky</th><th>snr_iso</th><th>snr_grp</th><th>snr_isof</th><th>snr_grpf</th><th>ds</th><th>dg1</th><th>dg2</th><th>ds_grp</th><th>dg1_grp</th><th>dg2_grp</th><th>hsm_sigm</th><th>hsm_e1</th><th>hsm_e2</th><th>g1_fit</th><th>g2_fit</th><th>bias_f</th><th>bias_s</th><th>bias_g1</th><th>bias_g2</th><th>bias_x</th><th>bias_y</th><th>bias_f_grp</th><th>bias_s_grp</th><th>bias_g1_grp</th><th>bias_g2_grp</th><th>bias_x_grp</th><th>bias_y_grp</th><th>match</th><th>ambig_blend</th></tr></thead>\n",
       "<thead><tr><th>int64</th><th>int64</th><th>int16</th><th>int16</th><th>int16</th><th>int32</th><th>int32</th><th>int32</th><th>int32</th><th>float32</th><th>float32</th><th>float32</th><th>float32</th><th>float32</th><th>float32</th><th>float32</th><th>float32</th><th>float32</th><th>float32</th><th>float32</th><th>float32</th><th>float32</th><th>float32</th><th>float32</th><th>float32</th><th>float32</th><th>float32</th><th>float32</th><th>float32</th><th>float32</th><th>float32</th><th>float32</th><th>float32</th><th>float32</th><th>float32</th><th>float32</th><th>float32</th><th>float32</th><th>float32</th><th>float32</th><th>float32</th><th>float32</th><th>float32</th><th>float32</th><th>float32</th><th>float32</th><th>float32</th><th>float32</th><th>float32</th><th>float32</th><th>float32</th><th>float32</th><th>float32</th><th>float32</th><th>int64</th><th>bool</th></tr></thead>\n",
       "<tr><td>402703800921</td><td>402700070321</td><td>14</td><td>4</td><td>1</td><td>63</td><td>78</td><td>4435</td><td>4449</td><td>0.979957</td><td>0.0200425</td><td>-435.79</td><td>438.548</td><td>1.10249</td><td>25.118</td><td>0.304281</td><td>100951.0</td><td>0.280908</td><td>0.287157</td><td>0.107846</td><td>0.10181</td><td>0.326177</td><td>0.241922</td><td>0.378307</td><td>0.679782</td><td>0.99283</td><td>17.62</td><td>17.5798</td><td>17.5797</td><td>11.6366</td><td>11.55</td><td>0.20813</td><td>0.189111</td><td>0.188379</td><td>0.209643</td><td>0.189235</td><td>0.189312</td><td>nan</td><td>nan</td><td>nan</td><td>0.0</td><td>2.98023e-09</td><td>885.573</td><td>-0.0536606</td><td>0.019716</td><td>0.0186084</td><td>1.20218e-06</td><td>2.17978e-07</td><td>846.358</td><td>-0.0550999</td><td>0.0196308</td><td>0.0200551</td><td>0.000114121</td><td>-6.89414e-05</td><td>15338</td><td>False</td></tr>\n",
       "<tr><td>402711741705</td><td>402700070321</td><td>14</td><td>11</td><td>1</td><td>48</td><td>56</td><td>4441</td><td>4450</td><td>1.0</td><td>0.0</td><td>-439.49</td><td>439.268</td><td>1.7324</td><td>27.0767</td><td>0.483753</td><td>16619.1</td><td>0.136951</td><td>0.169101</td><td>-0.412124</td><td>-0.194816</td><td>0.224008</td><td>0.0837271</td><td>-1.35001</td><td>0.638975</td><td>0.708771</td><td>3.35006</td><td>3.34837</td><td>3.34785</td><td>2.3052</td><td>2.10892</td><td>5.09399</td><td>4.65826</td><td>2.87848</td><td>5.24664</td><td>4.72975</td><td>2.9207</td><td>nan</td><td>nan</td><td>nan</td><td>0.0</td><td>0.0</td><td>5632.62</td><td>-42.2587</td><td>-45.489</td><td>-21.5245</td><td>-0.00060437</td><td>0.00156415</td><td>6098.27</td><td>-43.7503</td><td>-47.4022</td><td>-22.59</td><td>0.00227608</td><td>0.00415418</td><td>-1</td><td>False</td></tr>\n",
       "<tr><td>402700888931</td><td>402700157436</td><td>6</td><td>1</td><td>1</td><td>-10</td><td>12</td><td>4426</td><td>4445</td><td>0.984052</td><td>0.0159475</td><td>-449.739</td><td>437.212</td><td>0.564225</td><td>23.3659</td><td>0.708736</td><td>506909.0</td><td>0.312205</td><td>0.373293</td><td>0.247482</td><td>-0.339966</td><td>0.488806</td><td>0.199409</td><td>-0.470774</td><td>0.714129</td><td>0.998528</td><td>84.9669</td><td>84.0811</td><td>84.0808</td><td>55.8643</td><td>55.8625</td><td>0.0537954</td><td>0.0384234</td><td>0.0448485</td><td>0.0537965</td><td>0.0384241</td><td>0.0448489</td><td>nan</td><td>nan</td><td>nan</td><td>0.0</td><td>2.98023e-09</td><td>186.334</td><td>-0.00364419</td><td>0.00243869</td><td>-0.00335012</td><td>-1.38445e-09</td><td>3.24792e-09</td><td>186.15</td><td>-0.00364542</td><td>0.00243957</td><td>-0.0033502</td><td>-4.33745e-08</td><td>9.07668e-08</td><td>15137</td><td>False</td></tr>\n",
       "<tr><td>402700157436</td><td>402700157436</td><td>6</td><td>0</td><td>1</td><td>-7</td><td>36</td><td>4403</td><td>4437</td><td>0.979011</td><td>0.0209888</td><td>-446.944</td><td>434.097</td><td>0.978547</td><td>21.2337</td><td>0.357725</td><td>3.61274e+06</td><td>0.552112</td><td>0.642985</td><td>0.384919</td><td>-0.0551429</td><td>0.8323</td><td>0.366247</td><td>-0.0711453</td><td>0.861934</td><td>0.999263</td><td>469.728</td><td>449.528</td><td>449.527</td><td>289.384</td><td>285.028</td><td>0.00562225</td><td>0.00499328</td><td>0.00350777</td><td>0.00576322</td><td>0.00512956</td><td>0.00352524</td><td>nan</td><td>nan</td><td>nan</td><td>0.0</td><td>2.98023e-09</td><td>39.0377</td><td>-2.74528e-05</td><td>2.98148e-05</td><td>-4.27184e-06</td><td>-2.55419e-11</td><td>1.85468e-11</td><td>-102.075</td><td>-0.000102954</td><td>9.69304e-05</td><td>-2.51873e-05</td><td>3.9072e-06</td><td>1.3913e-05</td><td>15146</td><td>False</td></tr>\n",
       "<tr><td>402710043179</td><td>402700157436</td><td>6</td><td>4</td><td>1</td><td>14</td><td>25</td><td>4437</td><td>4447</td><td>1.0</td><td>0.0</td><td>-445.995</td><td>438.466</td><td>1.9369</td><td>26.7302</td><td>-0.0148411</td><td>22866.9</td><td>0.338655</td><td>0.342763</td><td>0.102475</td><td>0.039454</td><td>0.378129</td><td>0.303302</td><td>0.183759</td><td>0.705051</td><td>0.999558</td><td>3.72547</td><td>3.72377</td><td>3.72377</td><td>2.31122</td><td>2.31122</td><td>0.860507</td><td>0.774936</td><td>0.7525</td><td>0.860507</td><td>0.774936</td><td>0.7525</td><td>nan</td><td>nan</td><td>nan</td><td>0.0</td><td>0.0</td><td>5915.07</td><td>-0.647236</td><td>0.259546</td><td>0.0999777</td><td>0.000937364</td><td>-0.000385944</td><td>5915.08</td><td>-0.647236</td><td>0.259546</td><td>0.0999779</td><td>0.000937307</td><td>-0.000386045</td><td>-1</td><td>False</td></tr>\n",
       "<tr><td>402716543735</td><td>402716543735</td><td>1</td><td>0</td><td>1</td><td>2</td><td>9</td><td>4360</td><td>4367</td><td>1.0</td><td>0.0</td><td>-448.769</td><td>422.796</td><td>3.06535</td><td>27.8187</td><td>-0.0392017</td><td>8391.27</td><td>0.151304</td><td>0.160452</td><td>0.209959</td><td>-0.120637</td><td>0.193707</td><td>0.118183</td><td>-0.260758</td><td>0.637054</td><td>1.0</td><td>1.67006</td><td>1.66963</td><td>1.66963</td><td>1.07274</td><td>1.07274</td><td>5.62974</td><td>5.15311</td><td>4.59607</td><td>5.62974</td><td>5.15311</td><td>4.59607</td><td>nan</td><td>nan</td><td>nan</td><td>0.0</td><td>0.0</td><td>15828.7</td><td>-49.7808</td><td>35.6115</td><td>-20.6862</td><td>0.0143205</td><td>0.00312236</td><td>15828.7</td><td>-49.7808</td><td>35.6115</td><td>-20.6862</td><td>0.0143205</td><td>0.00312236</td><td>-1</td><td>False</td></tr>\n",
       "<tr><td>402700326587</td><td>402700326587</td><td>11</td><td>0</td><td>1</td><td>19</td><td>48</td><td>4373</td><td>4405</td><td>0.958816</td><td>0.0411839</td><td>-443.197</td><td>427.862</td><td>0.55267</td><td>22.4916</td><td>0.557438</td><td>1.13411e+06</td><td>0.611041</td><td>0.643435</td><td>-0.103375</td><td>0.2023</td><td>0.769992</td><td>0.484903</td><td>1.0216</td><td>0.879698</td><td>0.938179</td><td>139.122</td><td>137.324</td><td>137.273</td><td>83.7917</td><td>60.7617</td><td>0.0165666</td><td>0.0129921</td><td>0.0139023</td><td>0.0204651</td><td>0.0144399</td><td>0.0186831</td><td>nan</td><td>nan</td><td>nan</td><td>0.0</td><td>2.98023e-09</td><td>140.606</td><td>-0.000181832</td><td>-6.36296e-05</td><td>0.000124498</td><td>-1.26983e-09</td><td>-4.54258e-09</td><td>-1012.5</td><td>-0.00149075</td><td>0.000156636</td><td>0.000660477</td><td>7.71152e-05</td><td>3.09066e-06</td><td>15393</td><td>True</td></tr>\n",
       "<tr><td>402709202217</td><td>402700326587</td><td>11</td><td>6</td><td>1</td><td>17</td><td>28</td><td>4390</td><td>4400</td><td>1.0</td><td>0.0</td><td>-445.426</td><td>429.147</td><td>2.22531</td><td>26.5479</td><td>-0.070528</td><td>27047.8</td><td>0.269635</td><td>0.27394</td><td>0.112846</td><td>0.0556934</td><td>0.305999</td><td>0.237593</td><td>0.22923</td><td>0.674483</td><td>0.286031</td><td>4.77758</td><td>4.77458</td><td>4.77029</td><td>3.10321</td><td>1.55468</td><td>0.804996</td><td>0.743867</td><td>0.721019</td><td>1.06929</td><td>0.918856</td><td>0.960962</td><td>nan</td><td>nan</td><td>nan</td><td>0.0</td><td>0.0</td><td>3936.32</td><td>-0.759571</td><td>0.310863</td><td>0.153388</td><td>-0.000198022</td><td>0.000429045</td><td>13022.2</td><td>-1.19635</td><td>0.176024</td><td>0.614372</td><td>0.113725</td><td>-0.0466477</td><td>-1</td><td>False</td></tr>\n",
       "<tr><td>402701329029</td><td>402700326587</td><td>11</td><td>2</td><td>1</td><td>18</td><td>37</td><td>4384</td><td>4402</td><td>0.94573</td><td>0.0542698</td><td>-444.33</td><td>428.706</td><td>0.552661</td><td>23.789</td><td>0.833679</td><td>343333.0</td><td>0.198382</td><td>0.223305</td><td>0.324643</td><td>-0.111357</td><td>0.283702</td><td>0.138721</td><td>-0.165219</td><td>0.65501</td><td>0.765063</td><td>65.2733</td><td>64.6806</td><td>64.5888</td><td>44.2883</td><td>16.4243</td><td>0.106667</td><td>0.100566</td><td>0.0722062</td><td>0.16519</td><td>0.118688</td><td>0.0954845</td><td>nan</td><td>nan</td><td>nan</td><td>0.0</td><td>2.98023e-09</td><td>231.786</td><td>-0.0172079</td><td>0.0164077</td><td>-0.00562787</td><td>4.83519e-09</td><td>5.32813e-10</td><td>-5449.59</td><td>-0.0460262</td><td>0.0188816</td><td>0.00750437</td><td>0.00857748</td><td>-0.00336021</td><td>-1</td><td>True</td></tr>\n",
       "<tr><td>402708267075</td><td>402700157436</td><td>6</td><td>3</td><td>1</td><td>-4</td><td>7</td><td>4390</td><td>4401</td><td>1.0</td><td>0.0</td><td>-449.627</td><td>429.204</td><td>0.99425</td><td>26.4269</td><td>0.564417</td><td>30236.3</td><td>0.212815</td><td>0.225902</td><td>0.0173182</td><td>-0.243534</td><td>0.273036</td><td>0.165876</td><td>-0.749902</td><td>0.656243</td><td>0.995709</td><td>5.6846</td><td>5.68009</td><td>5.68009</td><td>3.83027</td><td>3.77374</td><td>0.960819</td><td>0.74703</td><td>0.926903</td><td>0.98782</td><td>0.748067</td><td>0.955748</td><td>nan</td><td>nan</td><td>nan</td><td>0.0</td><td>0.0</td><td>2980.56</td><td>-1.3494</td><td>0.0769356</td><td>-1.08032</td><td>-9.75669e-06</td><td>-0.000101703</td><td>2612.53</td><td>-1.47677</td><td>0.0811246</td><td>-1.23249</td><td>-0.00299648</td><td>-0.00311524</td><td>-1</td><td>False</td></tr>\n",
       "<tr><td>...</td><td>...</td><td>...</td><td>...</td><td>...</td><td>...</td><td>...</td><td>...</td><td>...</td><td>...</td><td>...</td><td>...</td><td>...</td><td>...</td><td>...</td><td>...</td><td>...</td><td>...</td><td>...</td><td>...</td><td>...</td><td>...</td><td>...</td><td>...</td><td>...</td><td>...</td><td>...</td><td>...</td><td>...</td><td>...</td><td>...</td><td>...</td><td>...</td><td>...</td><td>...</td><td>...</td><td>...</td><td>...</td><td>...</td><td>...</td><td>...</td><td>...</td><td>...</td><td>...</td><td>...</td><td>...</td><td>...</td><td>...</td><td>...</td><td>...</td><td>...</td><td>...</td><td>...</td><td>...</td><td>...</td><td>...</td></tr>\n",
       "<tr><td>402706361797</td><td>402700424306</td><td>11</td><td>6</td><td>1</td><td>2410</td><td>2421</td><td>4458</td><td>4469</td><td>0.975439</td><td>0.024561</td><td>33.1608</td><td>442.856</td><td>1.17107</td><td>26.0507</td><td>0.240189</td><td>42756.6</td><td>0.170927</td><td>0.172984</td><td>0.0773839</td><td>-0.0772911</td><td>0.190766</td><td>0.153151</td><td>-0.392399</td><td>0.640419</td><td>0.585945</td><td>8.41902</td><td>8.40867</td><td>8.40435</td><td>5.80591</td><td>2.14845</td><td>0.745169</td><td>0.712093</td><td>0.711857</td><td>1.16779</td><td>0.794111</td><td>0.792657</td><td>nan</td><td>nan</td><td>nan</td><td>0.0</td><td>0.0</td><td>1866.87</td><td>-0.939569</td><td>0.258545</td><td>-0.258288</td><td>-3.07323e-05</td><td>5.81815e-05</td><td>6834.09</td><td>-1.31817</td><td>0.448471</td><td>-0.264679</td><td>-0.0309009</td><td>0.0131552</td><td>-1</td><td>False</td></tr>\n",
       "<tr><td>402700424306</td><td>402700424306</td><td>11</td><td>0</td><td>1</td><td>2386</td><td>2412</td><td>4441</td><td>4465</td><td>1.0</td><td>0.0</td><td>29.9023</td><td>440.679</td><td>0.370072</td><td>22.365</td><td>0.462646</td><td>1.27438e+06</td><td>0.194652</td><td>0.272875</td><td>0.412477</td><td>0.394177</td><td>0.372238</td><td>0.101788</td><td>0.381358</td><td>0.670958</td><td>0.999187</td><td>241.216</td><td>233.494</td><td>233.493</td><td>164.192</td><td>160.778</td><td>0.0588597</td><td>0.0435769</td><td>0.0419172</td><td>0.0615017</td><td>0.0455456</td><td>0.0436156</td><td>nan</td><td>nan</td><td>nan</td><td>6.47879e-05</td><td>-1.75252e-05</td><td>64.9663</td><td>-0.00525851</td><td>0.00484661</td><td>0.00463147</td><td>3.06475e-09</td><td>4.88576e-10</td><td>-275.445</td><td>-0.00916029</td><td>0.00781352</td><td>0.0073632</td><td>2.8721e-05</td><td>-8.79201e-05</td><td>15179</td><td>False</td></tr>\n",
       "<tr><td>402703038040</td><td>402700424306</td><td>11</td><td>4</td><td>1</td><td>2399</td><td>2417</td><td>4463</td><td>4479</td><td>0.975333</td><td>0.0246666</td><td>31.7339</td><td>444.343</td><td>0.977687</td><td>24.7916</td><td>0.458004</td><td>136354.0</td><td>0.384952</td><td>0.386304</td><td>0.0591187</td><td>-0.00345652</td><td>0.408466</td><td>0.362792</td><td>-0.0292005</td><td>0.727463</td><td>0.533275</td><td>21.1517</td><td>21.0998</td><td>21.0645</td><td>13.4494</td><td>1.9295</td><td>0.13158</td><td>0.118585</td><td>0.117494</td><td>0.275271</td><td>0.262413</td><td>0.192681</td><td>nan</td><td>nan</td><td>nan</td><td>0.0</td><td>0.0</td><td>795.805</td><td>-0.0161585</td><td>0.00336274</td><td>-0.000194622</td><td>-1.23269e-06</td><td>2.07226e-06</td><td>-3895.14</td><td>-0.170343</td><td>0.0906144</td><td>0.0872884</td><td>-0.00259744</td><td>0.0044031</td><td>-1</td><td>True</td></tr>\n",
       "<tr><td>402701570912</td><td>402700424306</td><td>11</td><td>1</td><td>1</td><td>2402</td><td>2419</td><td>4456</td><td>4480</td><td>0.970142</td><td>0.029858</td><td>32.2146</td><td>443.686</td><td>1.58696</td><td>24.2054</td><td>0.406446</td><td>233958.0</td><td>0.468695</td><td>0.528581</td><td>-0.340191</td><td>-0.062752</td><td>0.672341</td><td>0.326732</td><td>-1.47959</td><td>0.797916</td><td>0.713264</td><td>33.0501</td><td>32.9339</td><td>32.8995</td><td>20.8024</td><td>2.82096</td><td>0.0849444</td><td>0.076058</td><td>0.0573361</td><td>0.259289</td><td>0.163055</td><td>0.187503</td><td>nan</td><td>nan</td><td>nan</td><td>0.0</td><td>0.0</td><td>531.616</td><td>-0.0065655</td><td>-0.00666005</td><td>-0.00122895</td><td>-2.57947e-07</td><td>-4.30782e-09</td><td>3663.94</td><td>-0.0845094</td><td>-0.0567408</td><td>0.041883</td><td>-0.0158707</td><td>0.0224717</td><td>15091</td><td>True</td></tr>\n",
       "<tr><td>402706814810</td><td>402700424306</td><td>11</td><td>7</td><td>1</td><td>2390</td><td>2401</td><td>4455</td><td>4467</td><td>1.0</td><td>0.0</td><td>29.2775</td><td>442.244</td><td>0.776137</td><td>26.0594</td><td>1.16249</td><td>42418.1</td><td>0.198175</td><td>0.240863</td><td>-0.159907</td><td>-0.408739</td><td>0.317357</td><td>0.123752</td><td>-0.971856</td><td>0.66045</td><td>0.589477</td><td>8.05034</td><td>8.0412</td><td>8.03871</td><td>5.50008</td><td>5.32636</td><td>1.0904</td><td>0.620103</td><td>1.01443</td><td>1.09799</td><td>0.623954</td><td>1.0165</td><td>nan</td><td>nan</td><td>nan</td><td>0.0</td><td>0.0</td><td>2023.85</td><td>-1.80334</td><td>-0.766964</td><td>-1.96012</td><td>2.90517e-05</td><td>-4.0846e-05</td><td>2233.37</td><td>-1.80757</td><td>-0.762806</td><td>-1.96512</td><td>0.000660603</td><td>-0.00143563</td><td>-1</td><td>False</td></tr>\n",
       "<tr><td>402709793901</td><td>402700588317</td><td>8</td><td>5</td><td>1</td><td>2436</td><td>2445</td><td>4467</td><td>4479</td><td>0.984911</td><td>0.0150889</td><td>38.2063</td><td>444.609</td><td>4.57024</td><td>26.6018</td><td>0.693991</td><td>25737.2</td><td>0.258129</td><td>0.291556</td><td>-0.347952</td><td>-0.0102157</td><td>0.3712</td><td>0.1795</td><td>-1.55612</td><td>0.679901</td><td>0.744106</td><td>4.57993</td><td>4.57714</td><td>4.57652</td><td>2.987</td><td>2.57632</td><td>1.11853</td><td>1.06351</td><td>0.710258</td><td>1.19669</td><td>1.0852</td><td>0.764665</td><td>nan</td><td>nan</td><td>nan</td><td>0.0</td><td>0.0</td><td>4161.93</td><td>-1.58292</td><td>-1.66759</td><td>-0.0489115</td><td>0.000157796</td><td>-0.000288125</td><td>5137.49</td><td>-1.72675</td><td>-1.8018</td><td>0.0623719</td><td>0.00588821</td><td>-0.00555221</td><td>-1</td><td>False</td></tr>\n",
       "<tr><td>402708766139</td><td>402701639472</td><td>10</td><td>5</td><td>1</td><td>2445</td><td>2456</td><td>4494</td><td>4504</td><td>1.0</td><td>0.0</td><td>40.2254</td><td>449.87</td><td>1.14777</td><td>26.6242</td><td>0.487349</td><td>25213.4</td><td>0.307598</td><td>0.308822</td><td>0.0612627</td><td>0.0147765</td><td>0.327634</td><td>0.288788</td><td>0.118339</td><td>0.689554</td><td>0.169912</td><td>4.26228</td><td>4.25999</td><td>4.25078</td><td>2.70523</td><td>0.345479</td><td>0.791113</td><td>0.724985</td><td>0.713981</td><td>1.79739</td><td>1.2957</td><td>1.42599</td><td>nan</td><td>nan</td><td>nan</td><td>0.0</td><td>0.0</td><td>4733.72</td><td>-0.625554</td><td>0.145802</td><td>0.0352856</td><td>0.000323105</td><td>-0.000532948</td><td>-18772.5</td><td>-6.20015</td><td>-0.924524</td><td>0.40266</td><td>-0.833528</td><td>0.213895</td><td>-1</td><td>True</td></tr>\n",
       "<tr><td>402709183615</td><td>402701639472</td><td>10</td><td>6</td><td>1</td><td>2440</td><td>2452</td><td>4483</td><td>4494</td><td>1.0</td><td>0.0</td><td>39.3684</td><td>447.753</td><td>0.546624</td><td>26.6016</td><td>-0.195047</td><td>25743.9</td><td>0.383808</td><td>0.384853</td><td>0.0292835</td><td>-0.0431567</td><td>0.404375</td><td>0.364286</td><td>-0.487309</td><td>0.72674</td><td>0.941673</td><td>3.98153</td><td>3.97968</td><td>3.97963</td><td>2.43259</td><td>2.28417</td><td>0.724527</td><td>0.642905</td><td>0.641118</td><td>0.764407</td><td>0.651931</td><td>0.670598</td><td>nan</td><td>nan</td><td>nan</td><td>0.0</td><td>0.0</td><td>5719.05</td><td>-0.394742</td><td>0.0471201</td><td>-0.0702203</td><td>2.18306e-05</td><td>-0.000763282</td><td>1342.0</td><td>-0.726909</td><td>0.18006</td><td>-0.346272</td><td>-0.0348258</td><td>-0.0533924</td><td>-1</td><td>False</td></tr>\n",
       "<tr><td>402716549499</td><td>402701639472</td><td>10</td><td>9</td><td>1</td><td>2449</td><td>2459</td><td>4492</td><td>4500</td><td>1.0</td><td>0.0</td><td>40.9489</td><td>449.343</td><td>0.682285</td><td>27.8356</td><td>0.146368</td><td>8261.34</td><td>0.391226</td><td>0.491452</td><td>0.25827</td><td>0.396865</td><td>0.654493</td><td>0.233857</td><td>0.496938</td><td>0.770101</td><td>0.0604835</td><td>1.24491</td><td>1.24472</td><td>1.24211</td><td>0.635025</td><td>0.211478</td><td>4.01509</td><td>2.48141</td><td>3.15791</td><td>4.87092</td><td>3.47222</td><td>4.45309</td><td>nan</td><td>nan</td><td>nan</td><td>0.0</td><td>0.0</td><td>38209.8</td><td>-10.8057</td><td>9.70753</td><td>14.9328</td><td>-0.00446782</td><td>-0.00307511</td><td>47932.7</td><td>-37.3497</td><td>21.2851</td><td>37.1582</td><td>2.53605</td><td>0.607914</td><td>13285</td><td>True</td></tr>\n",
       "<tr><td>402701507346</td><td>402700424306</td><td>11</td><td>3</td><td>1</td><td>2364</td><td>2398</td><td>4452</td><td>4487</td><td>0.0</td><td>1.0</td><td>26.3271</td><td>444.036</td><td>1.88413</td><td>23.9654</td><td>0.101721</td><td>291834.0</td><td>0.954016</td><td>0.988004</td><td>-0.0275855</td><td>0.185015</td><td>1.15282</td><td>0.789494</td><td>0.859402</td><td>1.14443</td><td>0.985877</td><td>26.0882</td><td>26.019</td><td>26.0189</td><td>9.02897</td><td>8.81464</td><td>0.192929</td><td>0.0899539</td><td>0.0967239</td><td>0.197689</td><td>0.0914912</td><td>0.0980449</td><td>nan</td><td>nan</td><td>nan</td><td>0.0</td><td>2.98023e-09</td><td>2072.99</td><td>0.00251153</td><td>-0.000664286</td><td>0.00445452</td><td>-1.74129e-07</td><td>4.44417e-08</td><td>1093.53</td><td>-0.00357283</td><td>0.0010461</td><td>0.00690461</td><td>-6.94223e-05</td><td>0.000206968</td><td>15347</td><td>False</td></tr>\n",
       "</table>"
      ],
      "text/plain": [
       "<Table length=53899>\n",
       "   db_id        grp_id    grp_size grp_rank ...  bias_y_grp  match ambig_blend\n",
       "   int64        int64      int16    int16   ...   float32    int64     bool   \n",
       "------------ ------------ -------- -------- ... ------------ ----- -----------\n",
       "402703800921 402700070321       14        4 ... -6.89414e-05 15338       False\n",
       "402711741705 402700070321       14       11 ...   0.00415418    -1       False\n",
       "402700888931 402700157436        6        1 ...  9.07668e-08 15137       False\n",
       "402700157436 402700157436        6        0 ...   1.3913e-05 15146       False\n",
       "402710043179 402700157436        6        4 ... -0.000386045    -1       False\n",
       "402716543735 402716543735        1        0 ...   0.00312236    -1       False\n",
       "402700326587 402700326587       11        0 ...  3.09066e-06 15393        True\n",
       "402709202217 402700326587       11        6 ...   -0.0466477    -1       False\n",
       "402701329029 402700326587       11        2 ...  -0.00336021    -1        True\n",
       "402708267075 402700157436        6        3 ...  -0.00311524    -1       False\n",
       "         ...          ...      ...      ... ...          ...   ...         ...\n",
       "402706361797 402700424306       11        6 ...    0.0131552    -1       False\n",
       "402700424306 402700424306       11        0 ... -8.79201e-05 15179       False\n",
       "402703038040 402700424306       11        4 ...    0.0044031    -1        True\n",
       "402701570912 402700424306       11        1 ...    0.0224717 15091        True\n",
       "402706814810 402700424306       11        7 ...  -0.00143563    -1       False\n",
       "402709793901 402700588317        8        5 ...  -0.00555221    -1       False\n",
       "402708766139 402701639472       10        5 ...     0.213895    -1        True\n",
       "402709183615 402701639472       10        6 ...   -0.0533924    -1       False\n",
       "402716549499 402701639472       10        9 ...     0.607914 13285        True\n",
       "402701507346 402700424306       11        3 ...  0.000206968 15347       False"
      ]
     },
     "execution_count": 11,
     "metadata": {},
     "output_type": "execute_result"
    }
   ],
   "source": [
    "table"
   ]
  },
  {
   "cell_type": "code",
   "execution_count": 12,
   "metadata": {
    "collapsed": false
   },
   "outputs": [
    {
     "ename": "NameError",
     "evalue": "name 'gold' is not defined",
     "output_type": "error",
     "traceback": [
      "\u001b[0;31m---------------------------------------------------------------------------\u001b[0m",
      "\u001b[0;31mNameError\u001b[0m                                 Traceback (most recent call last)",
      "\u001b[0;32m<ipython-input-12-35e629c08f46>\u001b[0m in \u001b[0;36m<module>\u001b[0;34m()\u001b[0m\n\u001b[0;32m----> 1\u001b[0;31m \u001b[0mgold\u001b[0m\u001b[0;34m\u001b[0m\u001b[0m\n\u001b[0m",
      "\u001b[0;31mNameError\u001b[0m: name 'gold' is not defined"
     ]
    }
   ],
   "source": [
    "gold"
   ]
  },
  {
   "cell_type": "code",
   "execution_count": null,
   "metadata": {
    "collapsed": true
   },
   "outputs": [],
   "source": []
  }
 ],
 "metadata": {
  "kernelspec": {
   "display_name": "Python 2",
   "language": "python",
   "name": "python2"
  },
  "language_info": {
   "codemirror_mode": {
    "name": "ipython",
    "version": 2
   },
   "file_extension": ".py",
   "mimetype": "text/x-python",
   "name": "python",
   "nbconvert_exporter": "python",
   "pygments_lexer": "ipython2",
   "version": "2.7.11"
  }
 },
 "nbformat": 4,
 "nbformat_minor": 0
}
