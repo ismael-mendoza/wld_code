{
 "cells": [
  {
   "cell_type": "markdown",
   "metadata": {},
   "source": [
    "### Setup"
   ]
  },
  {
   "cell_type": "code",
   "execution_count": 2,
   "metadata": {
    "collapsed": false
   },
   "outputs": [
    {
     "name": "stdout",
     "output_type": "stream",
     "text": [
      "Populating the interactive namespace from numpy and matplotlib\n"
     ]
    }
   ],
   "source": [
    "%pylab inline"
   ]
  },
  {
   "cell_type": "code",
   "execution_count": 3,
   "metadata": {
    "collapsed": true
   },
   "outputs": [],
   "source": [
    "import subprocess\n",
    "import astropy.table\n",
    "import astropy.io.fits as fits\n",
    "import numpy as np\n",
    "from copy import deepcopy\n",
    "import random\n",
    "from astropy.table import Table\n",
    "import os \n",
    "import matplotlib.pyplot as plt \n",
    "import fitsio "
   ]
  },
  {
   "cell_type": "code",
   "execution_count": 5,
   "metadata": {
    "collapsed": false
   },
   "outputs": [],
   "source": [
    "#directories that would be using \n",
    "locations = dict(\n",
    "WLD = '/Users/Ismael/code/lensing/WeakLensingDeblending/',\n",
    "SMFF = '/Users/Ismael/code/lensing/SMFF/',\n",
    "aegis = '/Users/Ismael/aegis/data/',\n",
    "SEx = '/Users/Ismael/aegis/data/sextractor_runs/',\n",
    "aegis_slac = '/nfs/slac/g/ki/ki19/deuce/AEGIS/ismael/data',\n",
    "temp_data = '/Users/Ismael/temp_data'\n",
    ")\n",
    "os.chdir(locations['WLD']) #set this to interested directory "
   ]
  },
  {
   "cell_type": "markdown",
   "metadata": {},
   "source": [
    "### prepare input "
   ]
  },
  {
   "cell_type": "code",
   "execution_count": 14,
   "metadata": {
    "collapsed": true
   },
   "outputs": [],
   "source": [
    "#files \n",
    "files = dict(\n",
    ")\n",
    "\n",
    "files_temps = dict() \n",
    "for f in files: \n",
    "    l = files[f].split(\"/\")\n",
    "    temp_file = '{0}{1}'.format('/Users/Ismael/temp_data/',l[-1])\n",
    "    output_temps[f] = temp_file\n",
    "\n",
    "    \n",
    "files_slac = dict()\n",
    "for f in files: \n",
    "    l = inputs[f].split(\"/\")\n",
    "    index_data = l.index(\"data\")\n",
    "    str_slac = \"/\".join(l[index_data:])\n",
    "    slac_file = '{0}{1}'.format('/nfs/slac/g/ki/ki19/deuce/AEGIS/ismael/',str_slac)\n",
    "    outputs_slac[f] = slac_file"
   ]
  },
  {
   "cell_type": "markdown",
   "metadata": {},
   "source": [
    "### Start project... "
   ]
  },
  {
   "cell_type": "code",
   "execution_count": null,
   "metadata": {
    "collapsed": true
   },
   "outputs": [],
   "source": []
  },
  {
   "cell_type": "code",
   "execution_count": null,
   "metadata": {
    "collapsed": true
   },
   "outputs": [],
   "source": []
  },
  {
   "cell_type": "code",
   "execution_count": null,
   "metadata": {
    "collapsed": true
   },
   "outputs": [],
   "source": []
  },
  {
   "cell_type": "code",
   "execution_count": null,
   "metadata": {
    "collapsed": true
   },
   "outputs": [],
   "source": []
  },
  {
   "cell_type": "markdown",
   "metadata": {},
   "source": [
    "### template copy in three cells "
   ]
  },
  {
   "cell_type": "code",
   "execution_count": null,
   "metadata": {
    "collapsed": true
   },
   "outputs": [],
   "source": [
    "%pylab inline\n",
    "\n",
    "import subprocess\n",
    "import astropy.table\n",
    "import astropy.io.fits as fits\n",
    "import numpy as np\n",
    "from copy import deepcopy\n",
    "import random\n",
    "from astropy.table import Table\n",
    "import os \n",
    "import matplotlib.pyplot as plt \n",
    "import fitsio \n",
    "\n",
    "#directories that would be using \n",
    "locations = dict(\n",
    "WLD = '/Users/Ismael/code/lensing/WeakLensingDeblending/',\n",
    "WLFF = '/Users/Ismael/code/lensing/WLFF/',\n",
    "aegis = '/Users/Ismael/aegis/data/',\n",
    "SEx = '/Users/Ismael/aegis/data/sextractor_runs/',\n",
    "aegis_slac = '/nfs/slac/g/ki/ki19/deuce/AEGIS/ismael/data',\n",
    "temp_data = '/Users/Ismael/temp_data'\n",
    ")\n",
    "os.chdir(locations['WLD']) #set this to interested directory \n",
    "\n",
    "\n",
    "#files \n",
    "files = dict(\n",
    "\n",
    "\n",
    ")\n",
    "\n",
    "files_temps = dict() \n",
    "for f in outputs: \n",
    "    l = outputs[f].split(\"/\")\n",
    "    temp_file = '{0}{1}'.format('/Users/Ismael/temp_data/',l[-1])\n",
    "    output_temps[f] = temp_file\n",
    "\n",
    "    \n",
    "files_slac = dict()\n",
    "for f in inputs: \n",
    "    l = inputs[f].split(\"/\")\n",
    "    index_data = l.index(\"data\")\n",
    "    str_slac = \"/\".join(l[index_data:])\n",
    "    slac_file = '{0}{1}'.format('/nfs/slac/g/ki/ki19/deuce/AEGIS/ismael/',str_slac)\n",
    "    outputs_slac[f] = slac_file"
   ]
  },
  {
   "cell_type": "code",
   "execution_count": null,
   "metadata": {
    "collapsed": true
   },
   "outputs": [],
   "source": []
  }
 ],
 "metadata": {
  "kernelspec": {
   "display_name": "Python 2",
   "language": "python",
   "name": "python2"
  },
  "language_info": {
   "codemirror_mode": {
    "name": "ipython",
    "version": 2
   },
   "file_extension": ".py",
   "mimetype": "text/x-python",
   "name": "python",
   "nbconvert_exporter": "python",
   "pygments_lexer": "ipython2",
   "version": "2.7.11"
  }
 },
 "nbformat": 4,
 "nbformat_minor": 0
}
