{
 "cells": [
  {
   "cell_type": "code",
   "execution_count": 2,
   "metadata": {
    "collapsed": false
   },
   "outputs": [
    {
     "name": "stdout",
     "output_type": "stream",
     "text": [
      "Populating the interactive namespace from numpy and matplotlib\n"
     ]
    }
   ],
   "source": [
    "%pylab inline"
   ]
  },
  {
   "cell_type": "code",
   "execution_count": 3,
   "metadata": {
    "collapsed": false
   },
   "outputs": [],
   "source": [
    "import subprocess\n",
    "import astropy.table\n",
    "import astropy.io.fits as fits\n",
    "import numpy as np\n",
    "from copy import deepcopy\n",
    "import random\n",
    "from astropy.table import Table\n",
    "import os \n",
    "import matplotlib.pyplot as plt \n",
    "import fitsio "
   ]
  },
  {
   "cell_type": "code",
   "execution_count": 4,
   "metadata": {
    "collapsed": false
   },
   "outputs": [],
   "source": [
    "#directories that would be using \n",
    "WLD = '/Users/Ismael/code/lensing/WeakLensingDeblending/'\n",
    "WLFF = '/Users/Ismael/code/lensing/WLFF/'\n",
    "aegis = '/Users/Ismael/aegis/data/'\n",
    "SEx = '/Users/Ismael/aegis/data/sextractor_runs/'\n",
    "aegis_slac = '/nfs/slac/g/ki/ki19/deuce/AEGIS/ismael/data'\n",
    "temp_data = '/Users/Ismael/temp_data'\n",
    "os.chdir(WLD)\n",
    "import descwl"
   ]
  },
  {
   "cell_type": "code",
   "execution_count": 19,
   "metadata": {
    "collapsed": false
   },
   "outputs": [],
   "source": [
    "#inputs, put all input files in a dict, \n",
    "inputs = dict(\n",
    "input_name = '/Users/Ismael/aegis/data/intermediate_fits/section001.fits',\n",
    "input_source_fits = '/Users/Ismael/aegis/data/sextractor_runs/test1/image.fits',\n",
    "output_name = '/Users/Ismael/aegis/data/sextractor_runs/test1/out.cat',\n",
    "output_name_dawson = '/Users/Ismael/aegis/data/sextractor_runs/test1/out_dawson.cat',\n",
    "config_file = '/nfs/slac/g/ki/ki19/deuce/AEGIS/ismael/data/sextractor_runs/default.sex',\n",
    "config_file_dawson = '/nfs/slac/g/ki/ki19/deuce/AEGIS/ismael/data/sextractor_runs/default_dawson.sex',\n",
    "final_fits = '/Users/Ismael/aegis/data/sextractor_runs/test1/final_fits.fits',\n",
    "final_fits_dawson = '/Users/Ismael/aegis/data/sextractor_runs/test1/final_fits_dawson.fits',\n",
    "output_name_slac='/nfs/slac/g/ki/ki19/deuce/AEGIS/ismael/data/sextractor_runs/test1/out.cat',     \n",
    "output_name_slac_dawson='/nfs/slac/g/ki/ki19/deuce/AEGIS/ismael/data/sextractor_runs/test1/out_dawson.cat',     \n",
    "input_source_fits_slac='/nfs/slac/g/ki/ki19/deuce/AEGIS/ismael/data/sextractor_runs/test1/image.fits'  \n",
    ")"
   ]
  },
  {
   "cell_type": "code",
   "execution_count": 20,
   "metadata": {
    "collapsed": false
   },
   "outputs": [],
   "source": [
    "#convert inputs to location in temp\n",
    "temps = dict()\n",
    "for f in inputs: \n",
    "    l = inputs[f].split(\"/\")\n",
    "    temp_file = '{0}{1}'.format('/Users/Ismael/temp_data/',l[-1])\n",
    "    temps[f] = temp_file"
   ]
  },
  {
   "cell_type": "code",
   "execution_count": 7,
   "metadata": {
    "collapsed": false
   },
   "outputs": [],
   "source": [
    "#others/outputs\n",
    "matched_image = '/Users/Ismael/temp_data/matched_check4.png'\n",
    "final_fits = '/Users/Ismael/temp_data/final_fits.fits'"
   ]
  },
  {
   "cell_type": "markdown",
   "metadata": {},
   "source": [
    "### copy to local "
   ]
  },
  {
   "cell_type": "code",
   "execution_count": 52,
   "metadata": {
    "collapsed": false
   },
   "outputs": [
    {
     "data": {
      "text/plain": [
       "1"
      ]
     },
     "execution_count": 52,
     "metadata": {},
     "output_type": "execute_result"
    }
   ],
   "source": [
    "#rm whatever is in the temp_data folder. \n",
    "subprocess.call('rm temp_data/*', shell=True)"
   ]
  },
  {
   "cell_type": "code",
   "execution_count": 57,
   "metadata": {
    "collapsed": false
   },
   "outputs": [],
   "source": [
    "for f in inputs: \n",
    "    subprocess.call('cp {0} {1}'.format(inputs[f],temp_data),shell=True)"
   ]
  },
  {
   "cell_type": "markdown",
   "metadata": {},
   "source": [
    "### write image from catalog into the correct format for it to be sextracted. "
   ]
  },
  {
   "cell_type": "code",
   "execution_count": null,
   "metadata": {
    "collapsed": false
   },
   "outputs": [],
   "source": [
    "import descwl\n",
    "reader = descwl.output.Reader(input_name)\n",
    "results = reader.results\n",
    "results.add_noise(noise_seed=0) #same noise_seed for all? \n",
    "f = fits.PrimaryHDU(results.survey.image.array)\n",
    "f.writeto(inputs['input_source_fits'])"
   ]
  },
  {
   "cell_type": "code",
   "execution_count": 8,
   "metadata": {
    "collapsed": false,
    "scrolled": true
   },
   "outputs": [
    {
     "name": "stdout",
     "output_type": "stream",
     "text": [
      "sex /nfs/slac/g/ki/ki19/deuce/AEGIS/ismael/data/sextractor_runs/test1/image.fits -c /nfs/slac/g/ki/ki19/deuce/AEGIS/ismael/data/sextractor_runs/default_dawson.sex -CATALOG_NAME /nfs/slac/g/ki/ki19/deuce/AEGIS/ismael/data/sextractor_runs/test1/out_dawson.cat\n"
     ]
    }
   ],
   "source": [
    "#run SExtractor: not sure how to do this using slac shell... \n",
    "cmd = 'sex {0} -c {1} -CATALOG_NAME {2}'.format(inputs['input_source_fits_slac'],inputs['config_file_dawson'],inputs['output_name_slac_dawson'])\n",
    "print cmd "
   ]
  },
  {
   "cell_type": "markdown",
   "metadata": {},
   "source": [
    "### Read data "
   ]
  },
  {
   "cell_type": "code",
   "execution_count": 24,
   "metadata": {
    "collapsed": false
   },
   "outputs": [],
   "source": [
    "#read corresponding catalog \n",
    "cat = descwl.output.Reader(temps['input_name']).results\n",
    "table = cat.table\n",
    "detected,matched,indices,distance = cat.match_sextractor(temps['output_name_dawson'])"
   ]
  },
  {
   "cell_type": "markdown",
   "metadata": {},
   "source": [
    "### Check consistency of SExtracted objects "
   ]
  },
  {
   "cell_type": "code",
   "execution_count": null,
   "metadata": {
    "collapsed": true
   },
   "outputs": [],
   "source": [
    "#image showing matched objects in the image. \n",
    "cmd = './display.py -o {0} --input-name {1} --crop --group 402700155390 --match-catalog {2} --magnification 4 --no-show'.format(matched_image,input_name,output_name)\n",
    "out = subprocess.check_output(cmd,shell=True)\n",
    "print out "
   ]
  },
  {
   "cell_type": "code",
   "execution_count": null,
   "metadata": {
    "collapsed": true
   },
   "outputs": [],
   "source": [
    "#distance of matched and simulated object distance. \n",
    "plt.hist(distance,bins=100,range=(0,1))\n",
    "\n",
    "\"\"\"It is a little strange, let's check the matched image\"\"\"\n",
    "\"\"\"The distances are a lot better! now after correcting the png thing. \"\"\""
   ]
  },
  {
   "cell_type": "markdown",
   "metadata": {},
   "source": [
    "### how are indices ordered? "
   ]
  },
  {
   "cell_type": "code",
   "execution_count": null,
   "metadata": {
    "collapsed": false
   },
   "outputs": [],
   "source": [
    "print detected[0]['X_IMAGE']\n",
    "print table[indices[0]]['dx'] \n",
    "#notice they are almost the same and this is the corresponding element"
   ]
  },
  {
   "cell_type": "markdown",
   "metadata": {},
   "source": [
    "### Analysis of results, "
   ]
  },
  {
   "cell_type": "code",
   "execution_count": 25,
   "metadata": {
    "collapsed": true
   },
   "outputs": [],
   "source": [
    "width, height = 4500,4500\n",
    "pixel_scale = .2 "
   ]
  },
  {
   "cell_type": "code",
   "execution_count": 26,
   "metadata": {
    "collapsed": false
   },
   "outputs": [],
   "source": [
    "#convert to arcsecs and relative to image_center \n",
    "detected['X_IMAGE'] = (detected['X_IMAGE'] - 0.5*width - 0.5)*pixel_scale\n",
    "detected['Y_IMAGE'] = (detected['Y_IMAGE'] - 0.5*height - 0.5)*pixel_scale\n",
    "\n",
    "#convert second moments arcsecs \n",
    "detected['X2_IMAGE']*=pixel_scale**2 \n",
    "detected['Y2_IMAGE']*=pixel_scale**2 \n",
    "detected['XY_IMAGE']*=pixel_scale**2 "
   ]
  },
  {
   "cell_type": "code",
   "execution_count": 27,
   "metadata": {
    "collapsed": false
   },
   "outputs": [],
   "source": [
    "# calculate size from moments X2_IMAGE,Y2_IMAGE,XY_IMAGE -> remember in pixel**2 so have to convert to arcsecs. \n",
    "sigmas = []\n",
    "for x2,y2,xy in zip(detected['X2_IMAGE'],detected['Y2_IMAGE'],detected['XY_IMAGE']):\n",
    "    second_moments = np.array([[x2,xy],[xy,y2]])\n",
    "    sigma = np.linalg.det(second_moments)**(+1./4) #should be a plus \n",
    "    sigmas.append(sigma)\n",
    "SIGMA = Table.Column(name='SIGMA',data=sigmas)\n",
    "detected.add_column(SIGMA)\n",
    "\n",
    "# #add sizes of the corresponding entries from lsst to the detected table. \n",
    "# SIGMA_M = Table.Column(name='SIGMA_M', data=table[indices]['sigma_m'])\n",
    "# detected.add_column(SIGMA_M) "
   ]
  },
  {
   "cell_type": "code",
   "execution_count": 28,
   "metadata": {
    "collapsed": false
   },
   "outputs": [
    {
     "data": {
      "text/plain": [
       "(array([  1.18330000e+04,   3.13600000e+03,   3.68000000e+02,\n",
       "          7.50000000e+01,   2.40000000e+01,   1.20000000e+01,\n",
       "          2.00000000e+00,   4.00000000e+00,   3.00000000e+00,\n",
       "          2.00000000e+00]),\n",
       " array([ 0.11528787,  0.44318394,  0.77108001,  1.09897608,  1.42687215,\n",
       "         1.75476822,  2.08266429,  2.41056036,  2.73845643,  3.06635249,\n",
       "         3.39424856]),\n",
       " <a list of 10 Patch objects>)"
      ]
     },
     "execution_count": 28,
     "metadata": {},
     "output_type": "execute_result"
    },
    {
     "data": {
      "image/png": "[encoded data removed]",
      "text/plain": [
       "<matplotlib.figure.Figure at 0x15571a650>"
      ]
     },
     "metadata": {},
     "output_type": "display_data"
    }
   ],
   "source": [
    "plt.hist(detected['SIGMA'])"
   ]
  },
  {
   "cell_type": "code",
   "execution_count": 169,
   "metadata": {
    "collapsed": false
   },
   "outputs": [],
   "source": [
    "#algorithm for ambiguous blends - returns rows of ambiguously blended objects in cat. \n",
    "def detected_ambiguous_blends1(table,matched_indices,detected):\n",
    "    ambiguous_blends_indices = set([])\n",
    "    for index,gal_row in enumerate(table):\n",
    "        if gal_row['match'] == -1: \n",
    "            \n",
    "            #search for least effective separation SExtracted object.\n",
    "            effective_distances = list(np.sqrt((detected['X_IMAGE']-gal_row['dx'])**2 + (detected['Y_IMAGE']-gal_row['dy'])**2)/(detected['SIGMA'] + gal_row['psf_sigm']))\n",
    "            \n",
    "            #find minimum distance index \n",
    "            minimum_index = effective_distances.index(min(effective_distances))\n",
    "#             if effective_distances[minimum_index]<1.:\n",
    "#                 print matched_indices[minimum_index]\n",
    "            #check criterion and of corresponding indices of table \n",
    "            if effective_distances[minimum_index] < 1.: \n",
    "                ambiguous_blends_indices.add(index)\n",
    "                ambiguous_blends_indices.add(matched_indices[minimum_index])\n",
    "    return ambiguous_blends_indices"
   ]
  },
  {
   "cell_type": "code",
   "execution_count": 31,
   "metadata": {
    "collapsed": false
   },
   "outputs": [],
   "source": [
    "#algorithm for ambiguous blends - returns rows of ambiguously blended objects in cat. \n",
    "#the difference is that it tags all objects <1. effective distance as blended. \n",
    "def detected_ambiguous_blends2(table,matched_indices,detected):\n",
    "    ambiguous_blends_indices = []\n",
    "    for index,gal_row in enumerate(table):\n",
    "        if gal_row['match'] == -1: \n",
    "            \n",
    "            #search for least effective separation SExtracted object.\n",
    "            effective_distances = list(np.sqrt((detected['X_IMAGE']-gal_row['dx'])**2 + (detected['Y_IMAGE']-gal_row['dy'])**2)/(detected['SIGMA'] + gal_row['psf_sigm']))\n",
    "            \n",
    "#             #we can see distribution\n",
    "#             for distance in effective_distances:\n",
    "#                 if distance<3.:\n",
    "#                     plot_distances.append(distance)\n",
    "                    \n",
    "            #mark all objects with effective distance <1. as ambiguosly blended. \n",
    "            marked_indices = [matched_indices[i] for i,distance in enumerate(effective_distances) if distance < 1.]\n",
    "            #check criterion and of corresponding indices of table \n",
    "            if len(marked_indices) > 0:\n",
    "                ambiguous_blends_indices.append(index)\n",
    "                ambiguous_blends_indices.extend(marked_indices)\n",
    "    return set(ambiguous_blends_indices)"
   ]
  },
  {
   "cell_type": "code",
   "execution_count": 120,
   "metadata": {
    "collapsed": false,
    "scrolled": false
   },
   "outputs": [],
   "source": [
    "ambg_blends1 = detected_ambiguous_blends1(table, indices, detected) #just to check dawson. "
   ]
  },
  {
   "cell_type": "code",
   "execution_count": 32,
   "metadata": {
    "collapsed": false,
    "scrolled": false
   },
   "outputs": [],
   "source": [
    "ambg_blends2 = detected_ambiguous_blends2(table, indices, detected)"
   ]
  },
  {
   "cell_type": "code",
   "execution_count": 33,
   "metadata": {
    "collapsed": false
   },
   "outputs": [
    {
     "data": {
      "text/plain": [
       "8446"
      ]
     },
     "execution_count": 33,
     "metadata": {},
     "output_type": "execute_result"
    }
   ],
   "source": [
    "len(ambg_blends2)"
   ]
  },
  {
   "cell_type": "code",
   "execution_count": 34,
   "metadata": {
    "collapsed": false
   },
   "outputs": [],
   "source": [
    "ambg_blends_indices = list(ambg_blends2)\n",
    "ambg_blends_ids = list(table[ambg_blends_indices]['db_id'])"
   ]
  },
  {
   "cell_type": "code",
   "execution_count": 35,
   "metadata": {
    "collapsed": false
   },
   "outputs": [],
   "source": [
    "#add columns to table of undetected and ambiguosly blended \n",
    "ambigous_blend_column = []\n",
    "for i,gal_row in enumerate(table):\n",
    "    if i in ambg_blends_indices:\n",
    "        ambigous_blend_column.append(True)\n",
    "    else: \n",
    "        ambigous_blend_column.append(False)\n",
    "column = Table.Column(name='ambig_blend',data=ambigous_blend_column)\n",
    "table.add_column(column)"
   ]
  },
  {
   "cell_type": "code",
   "execution_count": 36,
   "metadata": {
    "collapsed": false
   },
   "outputs": [],
   "source": [
    "#create new copy of fits_file with this new table. \n",
    "subprocess.call('cp {0} {1}'.format(temps['input_name'],temps['final_fits_dawson']),shell=True)\n",
    "f = fits.open(temps['final_fits_dawson'])  \n",
    "#replace table and write file\n",
    "f[1]= astropy.io.fits.table_to_hdu(table)\n",
    "subprocess.call('rm {0}'.format(temps['final_fits_dawson']),shell=True)\n",
    "f.writeto(temps['final_fits_dawson']) #overwrites the existing one. "
   ]
  },
  {
   "cell_type": "markdown",
   "metadata": {
    "collapsed": true
   },
   "source": [
    "### Make sure ambigous blends make sense"
   ]
  },
  {
   "cell_type": "code",
   "execution_count": 41,
   "metadata": {
    "collapsed": false
   },
   "outputs": [
    {
     "name": "stdout",
     "output_type": "stream",
     "text": [
      "\n"
     ]
    }
   ],
   "source": [
    "cmd = './display.py -o {0} --view-region [350,400,350,400] --select \"ambig_blend==True\" --input-name {1} --match-catalog {2} --magnification 4 --match-color CYAN --no-display'.format('/Users/Ismael/temp_data/matched_check25_dawson.png',temps['final_fits_dawson'],temps['output_name_dawson'])\n",
    "out = subprocess.check_output(cmd,shell=True)\n",
    "print out "
   ]
  },
  {
   "cell_type": "code",
   "execution_count": 42,
   "metadata": {
    "collapsed": false
   },
   "outputs": [
    {
     "name": "stdout",
     "output_type": "stream",
     "text": [
      "\n"
     ]
    }
   ],
   "source": [
    "cmd = './display.py -o {0} --view-region [350,400,350,400] --select-region [150,200,150,200] --input-name {1} --match-catalog {2} --magnification 4 --match-color CYAN --no-display'.format('/Users/Ismael/temp_data/matched_check25x_dawson.png',temps['final_fits_dawson'],temps['output_name_dawson'])\n",
    "out = subprocess.check_output(cmd,shell=True)\n",
    "print out "
   ]
  },
  {
   "cell_type": "markdown",
   "metadata": {
    "collapsed": true
   },
   "source": [
    "### analysis of final_fits "
   ]
  },
  {
   "cell_type": "code",
   "execution_count": 39,
   "metadata": {
    "collapsed": false
   },
   "outputs": [],
   "source": [
    "t = Table.read(temps['final_fits_dawson'])"
   ]
  },
  {
   "cell_type": "code",
   "execution_count": 40,
   "metadata": {
    "collapsed": false
   },
   "outputs": [
    {
     "data": {
      "text/plain": [
       "0.248932591538362"
      ]
     },
     "execution_count": 40,
     "metadata": {},
     "output_type": "execute_result"
    }
   ],
   "source": [
    "float(len(t[(t['match'] != -1) & (t['ambig_blend'] == True)]))/ len(t[t['match'] != -1]) #number to compare to Dawson which is about 15%-20%"
   ]
  },
  {
   "cell_type": "code",
   "execution_count": null,
   "metadata": {
    "collapsed": true
   },
   "outputs": [],
   "source": []
  }
 ],
 "metadata": {
  "kernelspec": {
   "display_name": "Python 2",
   "language": "python",
   "name": "python2"
  },
  "language_info": {
   "codemirror_mode": {
    "name": "ipython",
    "version": 2
   },
   "file_extension": ".py",
   "mimetype": "text/x-python",
   "name": "python",
   "nbconvert_exporter": "python",
   "pygments_lexer": "ipython2",
   "version": "2.7.11"
  }
 },
 "nbformat": 4,
 "nbformat_minor": 0
}
