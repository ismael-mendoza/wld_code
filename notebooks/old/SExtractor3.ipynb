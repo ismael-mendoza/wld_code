{
 "cells": [
  {
   "cell_type": "code",
   "execution_count": 24,
   "metadata": {
    "collapsed": false
   },
   "outputs": [
    {
     "name": "stdout",
     "output_type": "stream",
     "text": [
      "Populating the interactive namespace from numpy and matplotlib\n"
     ]
    },
    {
     "name": "stderr",
     "output_type": "stream",
     "text": [
      "WARNING: pylab import has clobbered these variables: ['f', 'random', 'table']\n",
      "`%matplotlib` prevents importing * from pylab and numpy\n"
     ]
    }
   ],
   "source": [
    "%pylab inline"
   ]
  },
  {
   "cell_type": "code",
   "execution_count": 25,
   "metadata": {
    "collapsed": false
   },
   "outputs": [],
   "source": [
    "import subprocess\n",
    "import astropy.table\n",
    "import astropy.io.fits as fits\n",
    "import numpy as np\n",
    "from copy import deepcopy\n",
    "import random\n",
    "from astropy.table import Table\n",
    "import os \n",
    "import matplotlib.pyplot as plt \n",
    "import fitsio \n",
    "import collections"
   ]
  },
  {
   "cell_type": "code",
   "execution_count": 26,
   "metadata": {
    "collapsed": true
   },
   "outputs": [],
   "source": [
    "#directories that would be using \n",
    "WLD = '/Users/Ismael/code/lensing/WeakLensingDeblending/'\n",
    "aegis = '/Users/Ismael/aegis/data/'\n",
    "SEx = '/Users/Ismael/aegis/data/sextractor_runs/'\n",
    "aegis_slac = '/nfs/slac/g/ki/ki19/deuce/AEGIS/ismael/data'\n",
    "temp_data = '/Users/Ismael/temp_data'\n",
    "os.chdir(WLD)\n",
    "import descwl"
   ]
  },
  {
   "cell_type": "code",
   "execution_count": 27,
   "metadata": {
    "collapsed": false
   },
   "outputs": [],
   "source": [
    "#inputs, put all input files in a dict, \n",
    "inputs = dict(\n",
    "input_name = '/Users/Ismael/aegis/data/intermediate_fits/section001.fits',\n",
    "config_file = '/nfs/slac/g/ki/ki19/deuce/AEGIS/ismael/data/sextractor_runs/default.sex',\n",
    "image_fits = '/Users/Ismael/aegis/data/sextractor_runs/image1.fits',\n",
    "image_fits_slac = '/nfs/slac/g/ki/ki19/deuce/AEGIS/ismael/data/sextractor_runs/image1.fits',\n",
    ")"
   ]
  },
  {
   "cell_type": "code",
   "execution_count": 28,
   "metadata": {
    "collapsed": true
   },
   "outputs": [],
   "source": [
    "#convert inputs to location in temp\n",
    "temps = dict()\n",
    "for f in inputs: \n",
    "    l = inputs[f].split(\"/\")\n",
    "    temp_file = '{0}{1}'.format('/Users/Ismael/temp_data/',l[-1])\n",
    "    temps[f] = temp_file"
   ]
  },
  {
   "cell_type": "code",
   "execution_count": 57,
   "metadata": {
    "collapsed": false
   },
   "outputs": [],
   "source": [
    "parameter_names = ['DETECT_THRESH','DETECT_MINAREA','FILTER_NAME']\n",
    "\n",
    "runs = collections.OrderedDict()\n",
    "runs['default']= [1.5,5,'default.conv']\n",
    "runs['point_optimized']=[5.0,1.,'gauss_3.5_9x9.conv']\n",
    "runs['extended_optimized']=[1.5,5,'gauss_2.0_5x5.conv']\n",
    "runs['extended_optimized_1']=[1.5,5,'gauss_3.5_9x9.conv']\n",
    "runs['extended_optimized_2']=[1.5,1.,'gauss_2.0_5x5.conv']\n",
    "runs['extended_optimized_3']=[5.0,5,'gauss_2.0_5x5.conv']\n",
    "\n",
    "\n",
    "output_names = {}\n",
    "output_names_slac = {}\n",
    "final_fits_names = collections.OrderedDict()\n",
    "\n",
    "for key in runs: \n",
    "    output_names[key] = '/Users/Ismael/temp_data/out_{0}.cat'.format(key)\n",
    "    output_names_slac[key]='/nfs/slac/g/ki/ki19/deuce/AEGIS/ismael/data/sextractor_runs/out_{0}.cat'.format(key)\n",
    "    final_fits_names[key] = '/Users/Ismael/temp_data/{0}_results.fits'.format(key)"
   ]
  },
  {
   "cell_type": "code",
   "execution_count": 45,
   "metadata": {
    "collapsed": true
   },
   "outputs": [],
   "source": [
    "use = [0,0,0,0,0,0] #one for each run in runs, 1 means it will be ran. "
   ]
  },
  {
   "cell_type": "code",
   "execution_count": 46,
   "metadata": {
    "collapsed": true
   },
   "outputs": [],
   "source": [
    "#algorithm for ambiguous blends - returns indices of ambiguously blended objects in terms of the table of full catalogue. \n",
    "#ambiguously blended means that at least one non-detected true object is less than a unit of effective distance away from an ambiguous object. \n",
    "def detected_ambiguous_blends(table,matched_indices,detected):\n",
    "    \"\"\"\n",
    "    table: table containing entries of all galaxies of the catalog. \n",
    "    matched_indices: indices of galaxies in table that were detected by SExtractor (primary  matched)\n",
    "    detected: Table of detected objects by SExtractor which also contains their information as measured by SExtractor. \n",
    "    \"\"\"\n",
    "    ambiguous_blends_indices = []\n",
    "    for index,gal_row in enumerate(table):\n",
    "        if gal_row['match'] == -1: #loop through true not primarily matched objects. \n",
    "            \n",
    "            #calculate of effective distances of true non-primary match object with all primarily matched objects. \n",
    "            effective_distances = list(np.sqrt((detected['X_IMAGE']-gal_row['dx'])**2 + (detected['Y_IMAGE']-gal_row['dy'])**2)/(detected['SIGMA'] + gal_row['psf_sigm']))\n",
    "            \n",
    "            #mark all objects with effective distance <1. as ambiguosly blended. \n",
    "            marked_indices = [matched_indices[i] for i,distance in enumerate(effective_distances) if distance < 1.]\n",
    "            \n",
    "            #if at least one index was marked as ambiguous, add both the primarily match object and the true non-primary object as ambiguous. \n",
    "            if len(marked_indices) > 0:\n",
    "                ambiguous_blends_indices.append(index)\n",
    "                ambiguous_blends_indices.extend(marked_indices)\n",
    "    return set(ambiguous_blends_indices)"
   ]
  },
  {
   "cell_type": "code",
   "execution_count": 47,
   "metadata": {
    "collapsed": true
   },
   "outputs": [],
   "source": [
    "#some interesting subsets of the simulation\n",
    "iso_gal = lambda cat: cat[cat['purity'] > .98] #isolated galaxies\n",
    "grp_gal = lambda cat: cat[cat['purity'] <= .98] #galaxies in a group of 2 or more. \n",
    "\n",
    "#'good' galaxies satisfy the reasonable criteria below.\n",
    "good = lambda cat: cat[(cat['snr_grpf'] > 6) & (cat['sigma_m'] > .2)]\n",
    "\n",
    "#gold sample galaxies \n",
    "gold = lambda cat: cat[(cat['ab_mag'] < 25.3)] \n",
    "\n",
    "#ambiguity of blends. \n",
    "ambig = lambda cat: cat[cat['ambig_blend'] == True ]\n",
    "not_ambig = lambda cat: cat[cat['ambig_blend'] == False ]\n",
    "detected = lambda cat: cat[cat['match'] != -1]\n",
    "not_detected = lambda cat: cat[cat['match'] == -1]\n",
    "\n",
    "#cuts \n",
    "cut_biasiso = lambda cat,bias_cut: cat[(abs(cat['bias_g1']) < bias_cut) & (abs(cat['bias_g2']) < bias_cut)]\n",
    "cut_biasgrp = lambda cat,bias_cut: cat[(abs(cat['bias_g1_grp']) < bias_cut) & (abs(cat['bias_g2_grp']) < bias_cut)]\n",
    "down_cut = lambda cat,param,cut: cat[cat[param] < cut]\n",
    "up_cut = lambda cat,param,cut: cat[cat[param] > cut]\n",
    "abs_cut = lambda cat,param,cut: cat[abs(cat[param]) < cut]\n",
    "unphysical_iso = lambda cat: cat[(abs(cat['bias_g1']) > 1.) | (abs(cat['bias_g2']) > 1.)]\n",
    "unphysical_grp = lambda cat: cat[(abs(cat['bias_g1_grp']) > 1.) | (abs(cat['bias_g2_grp']) > 1.)]\n",
    "\n",
    "#more specific \n",
    "detc_and_notambig = lambda cat: cat[(cat['ambig_blend'] == False) & (cat['match'] != -1)]\n",
    "notdetc_and_notambig = lambda cat: cat[(cat['ambig_blend'] == False) & (cat['match'] == -1)]\n",
    "detc_and_ambig = lambda cat: cat[(cat['ambig_blend'] == True) & (cat['match'] != -1)]\n",
    "notdetc_and_ambig = lambda cat: cat[(cat['ambig_blend'] == True) & (cat['match'] == -1)]\n",
    "best = detc_and_notambig"
   ]
  },
  {
   "cell_type": "markdown",
   "metadata": {},
   "source": [
    "### extract into image that will be SExtracted "
   ]
  },
  {
   "cell_type": "code",
   "execution_count": 21,
   "metadata": {
    "collapsed": false
   },
   "outputs": [],
   "source": [
    "import descwl\n",
    "reader = descwl.output.Reader(inputs['input_name'])\n",
    "results = reader.results\n",
    "img = results.survey.image\n",
    "\n",
    "results.add_noise(noise_seed=0) #same noise_seed for all? \n",
    "f = fits.PrimaryHDU(results.survey.image.array)\n",
    "f.writeto(inputs['image_fits'])"
   ]
  },
  {
   "cell_type": "markdown",
   "metadata": {},
   "source": [
    "### Run source extractor."
   ]
  },
  {
   "cell_type": "code",
   "execution_count": 28,
   "metadata": {
    "collapsed": false,
    "scrolled": false
   },
   "outputs": [
    {
     "name": "stdout",
     "output_type": "stream",
     "text": [
      "sex /nfs/slac/g/ki/ki19/deuce/AEGIS/ismael/data/sextractor_runs/image1.fits -c /nfs/slac/g/ki/ki19/deuce/AEGIS/ismael/data/sextractor_runs/default.sex -CATALOG_NAME /nfs/slac/g/ki/ki19/deuce/AEGIS/ismael/data/sextractor_runs/out_default.cat -DETECT_THRESH 1.5 -DETECT_MINAREA 5 -FILTER_NAME default.conv\n",
      "\n",
      "sex /nfs/slac/g/ki/ki19/deuce/AEGIS/ismael/data/sextractor_runs/image1.fits -c /nfs/slac/g/ki/ki19/deuce/AEGIS/ismael/data/sextractor_runs/default.sex -CATALOG_NAME /nfs/slac/g/ki/ki19/deuce/AEGIS/ismael/data/sextractor_runs/out_point_optimized.cat -DETECT_THRESH 5.0 -DETECT_MINAREA 1.0 -FILTER_NAME gauss_3.5_9x9.conv\n",
      "\n",
      "sex /nfs/slac/g/ki/ki19/deuce/AEGIS/ismael/data/sextractor_runs/image1.fits -c /nfs/slac/g/ki/ki19/deuce/AEGIS/ismael/data/sextractor_runs/default.sex -CATALOG_NAME /nfs/slac/g/ki/ki19/deuce/AEGIS/ismael/data/sextractor_runs/out_extended_optimized.cat -DETECT_THRESH 1.5 -DETECT_MINAREA 5 -FILTER_NAME gauss_2.0_5x5.conv\n",
      "\n",
      "sex /nfs/slac/g/ki/ki19/deuce/AEGIS/ismael/data/sextractor_runs/image1.fits -c /nfs/slac/g/ki/ki19/deuce/AEGIS/ismael/data/sextractor_runs/default.sex -CATALOG_NAME /nfs/slac/g/ki/ki19/deuce/AEGIS/ismael/data/sextractor_runs/out_extended_optimized_1.cat -DETECT_THRESH 1.5 -DETECT_MINAREA 5 -FILTER_NAME gauss_3.5_9x9.conv\n",
      "\n",
      "sex /nfs/slac/g/ki/ki19/deuce/AEGIS/ismael/data/sextractor_runs/image1.fits -c /nfs/slac/g/ki/ki19/deuce/AEGIS/ismael/data/sextractor_runs/default.sex -CATALOG_NAME /nfs/slac/g/ki/ki19/deuce/AEGIS/ismael/data/sextractor_runs/out_extended_optimized_2.cat -DETECT_THRESH 1.5 -DETECT_MINAREA 1.0 -FILTER_NAME gauss_2.0_5x5.conv\n",
      "\n",
      "sex /nfs/slac/g/ki/ki19/deuce/AEGIS/ismael/data/sextractor_runs/image1.fits -c /nfs/slac/g/ki/ki19/deuce/AEGIS/ismael/data/sextractor_runs/default.sex -CATALOG_NAME /nfs/slac/g/ki/ki19/deuce/AEGIS/ismael/data/sextractor_runs/out_extended_optimized_3.cat -DETECT_THRESH 5.0 -DETECT_MINAREA 5 -FILTER_NAME gauss_2.0_5x5.conv\n",
      "\n"
     ]
    }
   ],
   "source": [
    "#run SExtractor: not sure how to do this using slac shell... \n",
    "for i,key in enumerate(run_names):\n",
    "    if use[i] == True:\n",
    "        cmd = 'sex {0} -c {1} -CATALOG_NAME {2}'.format(inputs['image_fits_slac'],inputs['config_file'],output_names_slac[key])\n",
    "        for j,parameter in enumerate(parameter_names):\n",
    "            cmd = cmd + ' -{0} {1}'.format(parameter, runs[key][j])\n",
    "        print cmd \n",
    "        print"
   ]
  },
  {
   "cell_type": "markdown",
   "metadata": {},
   "source": [
    "### Create final fits "
   ]
  },
  {
   "cell_type": "code",
   "execution_count": 11,
   "metadata": {
    "collapsed": true
   },
   "outputs": [],
   "source": [
    "width, height = 4500,4500\n",
    "pixel_scale = .2 "
   ]
  },
  {
   "cell_type": "code",
   "execution_count": 16,
   "metadata": {
    "collapsed": false
   },
   "outputs": [],
   "source": [
    "for i,key in enumerate(run_names):\n",
    "    if use[i] == True:\n",
    "        #read corresponding catalog \n",
    "        cat = descwl.output.Reader(temps['input_name']).results\n",
    "        table = cat.table\n",
    "        detected,matched,indices,distance = cat.match_sextractor(output_names[key])\n",
    "\n",
    "        #convert to arcsecs and relative to image_center \n",
    "        detected['X_IMAGE'] = (detected['X_IMAGE'] - 0.5*width - 0.5)*pixel_scale\n",
    "        detected['Y_IMAGE'] = (detected['Y_IMAGE'] - 0.5*height - 0.5)*pixel_scale\n",
    "\n",
    "        #convert second moments arcsecs \n",
    "        detected['X2_IMAGE']*=pixel_scale**2 \n",
    "        detected['Y2_IMAGE']*=pixel_scale**2 \n",
    "        detected['XY_IMAGE']*=pixel_scale**2 \n",
    "\n",
    "        # calculate size from moments X2_IMAGE,Y2_IMAGE,XY_IMAGE -> remember in pixel**2 so have to convert to arcsecs. \n",
    "        sigmas = []\n",
    "        for x2,y2,xy in zip(detected['X2_IMAGE'],detected['Y2_IMAGE'],detected['XY_IMAGE']):\n",
    "            second_moments = np.array([[x2,xy],[xy,y2]])\n",
    "            sigma = np.linalg.det(second_moments)**(+1./4) #should be a plus \n",
    "            sigmas.append(sigma)\n",
    "        SIGMA = Table.Column(name='SIGMA',data=sigmas)\n",
    "        detected.add_column(SIGMA)\n",
    "\n",
    "        # #add sizes of the corresponding entries from lsst to the detected table. \n",
    "        # SIGMA_M = Table.Column(name='SIGMA_M', data=table[indices]['sigma_m'])\n",
    "        # detected.add_column(SIGMA_M) \n",
    "\n",
    "        ambg_blends = detected_ambiguous_blends(table, indices, detected)\n",
    "        ambg_blends_indices = list(ambg_blends)\n",
    "        ambg_blends_ids = list(table[ambg_blends_indices]['db_id'])\n",
    "\n",
    "        #add columns to table of undetected and ambiguosly blended \n",
    "        ambigous_blend_column = []\n",
    "        for i,gal_row in enumerate(table):\n",
    "            if i in ambg_blends_indices:\n",
    "                ambigous_blend_column.append(True)\n",
    "            else: \n",
    "                ambigous_blend_column.append(False)\n",
    "        column = Table.Column(name='ambig_blend',data=ambigous_blend_column)\n",
    "        table.add_column(column)\n",
    "\n",
    "        #create new copy of fits_file with this new table. \n",
    "        subprocess.call('cp {0} {1}'.format(temps['input_name'],final_fits_names[key]),shell=True)\n",
    "        f = fits.open(final_fits_names[key])  \n",
    "        #replace table and write file\n",
    "        f[1]= astropy.io.fits.table_to_hdu(table)\n",
    "        subprocess.call('rm {0}'.format(final_fits_names[key]),shell=True)\n",
    "        f.writeto(final_fits_names[key]) #overwrites the existing one. "
   ]
  },
  {
   "cell_type": "markdown",
   "metadata": {},
   "source": [
    "### Analysis of results, "
   ]
  },
  {
   "cell_type": "code",
   "execution_count": 59,
   "metadata": {
    "collapsed": false
   },
   "outputs": [],
   "source": [
    "cats = collections.OrderedDict()\n",
    "for key in runs:\n",
    "    cats[key] = astropy.table.Table.read(fits.open(final_fits_names[key]),hdu=1)"
   ]
  },
  {
   "cell_type": "code",
   "execution_count": 64,
   "metadata": {
    "collapsed": false
   },
   "outputs": [
    {
     "name": "stdout",
     "output_type": "stream",
     "text": [
      "['default', 'point_optimized', 'extended_optimized', 'extended_optimized_1', 'extended_optimized_2', 'extended_optimized_3']\n",
      "['/Users/Ismael/temp_data/default_results.fits', '/Users/Ismael/temp_data/point_optimized_results.fits', '/Users/Ismael/temp_data/extended_optimized_results.fits', '/Users/Ismael/temp_data/extended_optimized_1_results.fits', '/Users/Ismael/temp_data/extended_optimized_2_results.fits', '/Users/Ismael/temp_data/extended_optimized_3_results.fits']\n"
     ]
    }
   ],
   "source": [
    "print cats.keys()\n",
    "print final_fits_names.values()"
   ]
  },
  {
   "cell_type": "code",
   "execution_count": 65,
   "metadata": {
    "collapsed": false
   },
   "outputs": [],
   "source": [
    "table_names = [\n",
    "'all',\n",
    "'gold',\n",
    "'good', \n",
    "]\n",
    "\n",
    "table_functions = [\n",
    "lambda x: x, \n",
    "gold,\n",
    "good, \n",
    "]\n",
    "\n",
    "column_names = [\n",
    "'DET_THR',\n",
    "'DET_MIN_AREA', \n",
    "'FILT_SIZE',\n",
    "'FILT_FWHM(pix)',\n",
    "'det,!ambig',\n",
    "'det,ambig', \n",
    "'!det,ambig', \n",
    "'!det,!ambig',        \n",
    "]\n",
    "\n",
    "parameter_table_names = ['DET_THR','DET_MIN_AREA', 'FILT_SIZE','FILT_FWHM(pix)']\n",
    "\n",
    "\n",
    "run_table_values = collections.OrderedDict()\n",
    "run_table_values['default'] = [1.5,5,'3x3',2.0]\n",
    "run_table_values['point_optimized'] = [5.,1.,'9x9',3.5]\n",
    "run_table_values['extended_optimized'] = [1.5,5.,'5x5',2.]\n",
    "run_table_values['extended_optimized_1']=[1.5,5.,'9x9',3.5]\n",
    "run_table_values['extended_optimized_2']=[1.5,1.,'5x5',2.]\n",
    "run_table_values['extended_optimized_3']=[5.,5.,'5x5',2.]\n",
    "\n",
    "\n",
    "\n",
    "#first is a place holder so that indices align. \n",
    "#this is the function that calculates each column given the catalogue of tha row. \n",
    "column_functions = [\n",
    "None,\n",
    "None, \n",
    "None, \n",
    "None,\n",
    "lambda x: float(len(detc_and_notambig(x)))/len(x)*100,\n",
    "lambda x: float(len(detc_and_ambig(x)))/len(x)*100,\n",
    "lambda x: float(len(notdetc_and_ambig(x)))/len(x)*100,\n",
    "lambda x: float(len(notdetc_and_notambig(x)))/len(x)*100,\n",
    "]\n",
    "\n",
    "# row_names = ['{0},({1},{2},{3})'.format(key,value[0],value[1],value[2][:10]) for key,value in runs.iteritems()]\n",
    "\n",
    "tables =  collections.OrderedDict() # all, good, gold \n",
    "\n",
    "for i,table_name in enumerate(table_names): \n",
    "    table = collections.OrderedDict()\n",
    "    table_cats = collections.OrderedDict()\n",
    "    for name,cat in cats.iteritems():\n",
    "        table_cats[name] = table_functions[i](cat)\n",
    "    for j,column_name in enumerate(column_names): \n",
    "        if column_name in parameter_table_names:\n",
    "            table[column_name] = [value[j] for value in run_table_values.values()]\n",
    "        else:\n",
    "            table[column_name] = [round(column_functions[j](cat),1) for cat in table_cats.values()]\n",
    "    tables[table_name] = table"
   ]
  },
  {
   "cell_type": "code",
   "execution_count": 71,
   "metadata": {
    "collapsed": true
   },
   "outputs": [],
   "source": [
    "from astropy.table import Table, Column"
   ]
  },
  {
   "cell_type": "code",
   "execution_count": 73,
   "metadata": {
    "collapsed": false
   },
   "outputs": [
    {
     "name": "stdout",
     "output_type": "stream",
     "text": [
      "all\n",
      "gold\n",
      "good\n"
     ]
    }
   ],
   "source": [
    "for name, table in tables.iteritems():\n",
    "    print name \n",
    "    Table(table).show_in_browser(jsviewer=True)\n",
    "#     Table(tables[i]).show_in_notebook()"
   ]
  },
  {
   "cell_type": "code",
   "execution_count": null,
   "metadata": {
    "collapsed": true
   },
   "outputs": [],
   "source": []
  }
 ],
 "metadata": {
  "kernelspec": {
   "display_name": "Python 2",
   "language": "python",
   "name": "python2"
  },
  "language_info": {
   "codemirror_mode": {
    "name": "ipython",
    "version": 2
   },
   "file_extension": ".py",
   "mimetype": "text/x-python",
   "name": "python",
   "nbconvert_exporter": "python",
   "pygments_lexer": "ipython2",
   "version": "2.7.11"
  }
 },
 "nbformat": 4,
 "nbformat_minor": 0
}
