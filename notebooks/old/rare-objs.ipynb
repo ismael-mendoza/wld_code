{
 "cells": [
  {
   "cell_type": "markdown",
   "metadata": {},
   "source": [
    "### Setup"
   ]
  },
  {
   "cell_type": "code",
   "execution_count": 1,
   "metadata": {
    "collapsed": false
   },
   "outputs": [
    {
     "name": "stdout",
     "output_type": "stream",
     "text": [
      "Populating the interactive namespace from numpy and matplotlib\n"
     ]
    }
   ],
   "source": [
    "%pylab inline"
   ]
  },
  {
   "cell_type": "code",
   "execution_count": 2,
   "metadata": {
    "collapsed": true
   },
   "outputs": [],
   "source": [
    "import subprocess\n",
    "import astropy.table\n",
    "import astropy.io.fits as fits\n",
    "import numpy as np\n",
    "from copy import deepcopy\n",
    "import random\n",
    "from astropy.table import Table\n",
    "import os \n",
    "import matplotlib.pyplot as plt \n",
    "import fitsio "
   ]
  },
  {
   "cell_type": "code",
   "execution_count": 3,
   "metadata": {
    "collapsed": false
   },
   "outputs": [],
   "source": [
    "#directories that would be using \n",
    "locations = dict(\n",
    "WLD = '/Users/Ismael/code/lensing/WeakLensingDeblending/',\n",
    "SMFF = '/Users/Ismael/code/lensing/SMFF/',\n",
    "aegis = '/Users/Ismael/aegis/data/',\n",
    "SEx = '/Users/Ismael/aegis/data/sextractor_runs/',\n",
    "aegis_slac = '/nfs/slac/g/ki/ki19/deuce/AEGIS/ismael/data',\n",
    "temp_data = '/Users/Ismael/temp_data'\n",
    ")\n",
    "os.chdir(locations['WLD']) #set this to interested directory "
   ]
  },
  {
   "cell_type": "code",
   "execution_count": 4,
   "metadata": {
    "collapsed": true
   },
   "outputs": [],
   "source": [
    "def mad(arr):\n",
    "    \"\"\" Median Absolute Deviation: a \"Robust\" version of standard deviation.\n",
    "        Indices variabililty of the sample.\n",
    "        https://en.wikipedia.org/wiki/Median_absolute_deviation \n",
    "    \"\"\"\n",
    "    arr = np.ma.array(arr).compressed() # should be faster to not use masked arrays.\n",
    "    med = np.median(arr)\n",
    "    return np.median(np.abs(arr - med))"
   ]
  },
  {
   "cell_type": "markdown",
   "metadata": {},
   "source": [
    "### prepare input "
   ]
  },
  {
   "cell_type": "code",
   "execution_count": 5,
   "metadata": {
    "collapsed": false
   },
   "outputs": [],
   "source": [
    "#files \n",
    "#g1,g2=0,0\n",
    "#g1,g2=.01,.01\n",
    "#g1,g2=-.01,-.01\n",
    "#g1,g2=.02,.02\n",
    "#g1,g2=-.02,-.02\n",
    "files = dict(\n",
    "final_fits1 = 'Users/Ismael/aegis/data/fits_files/final_fits1.fits', \n",
    "final_fits2 = 'Users/Ismael/aegis/data/fits_files/final_fits2.fits', \n",
    "final_fits3 = 'Users/Ismael/aegis/data/fits_files/final_fits3.fits', \n",
    "final_fits4 = 'Users/Ismael/aegis/data/fits_files/final_fits4.fits', \n",
    "final_fits5 = 'Users/Ismael/aegis/data/fits_files/final_fits5.fits', \n",
    ")\n",
    "\n",
    "files_temps = dict() \n",
    "for f in files: \n",
    "    l = files[f].split(\"/\")\n",
    "    temp_file = '{0}{1}'.format('/Users/Ismael/temp_data/',l[-1])\n",
    "    files_temps[f] = temp_file\n",
    "\n",
    "    \n",
    "files_slac = dict()\n",
    "for f in files: \n",
    "    l = files[f].split(\"/\")\n",
    "    index_data = l.index(\"aegis\")\n",
    "    str_slac = \"/\".join(l[index_data:])\n",
    "    slac_file = '{0}{1}'.format('/nfs/slac/g/ki/ki19/deuce/AEGIS/ismael/',str_slac)\n",
    "    files_slac[f] = slac_file"
   ]
  },
  {
   "cell_type": "markdown",
   "metadata": {},
   "source": [
    "### Samples "
   ]
  },
  {
   "cell_type": "code",
   "execution_count": 6,
   "metadata": {
    "collapsed": true
   },
   "outputs": [],
   "source": [
    "#some interesting subsets of the simulation\n",
    "iso_gal = lambda cat: cat[cat['purity'] > .98] #isolated galaxies\n",
    "grp_gal = lambda cat: cat[cat['purity'] <= .98] #galaxies in a group of 2 or more. \n",
    "\n",
    "#'good' galaxies satisfy the reasonable criteria below.\n",
    "good = lambda cat: cat[(cat['snr_grpf'] > 6) & (cat['sigma_m'] > .2)]\n",
    "\n",
    "#gold sample galaxies \n",
    "gold = lambda cat: cat[(cat['ab_mag'] < 25.3)] \n",
    "\n",
    "#ambiguity of blends. \n",
    "ambig = lambda cat: cat[cat['ambig_blend'] == True ]\n",
    "not_ambig = lambda cat: cat[cat['ambig_blend'] == False ]\n",
    "detected = lambda cat: cat[cat['match'] != -1]\n",
    "not_detected = lambda cat: cat[cat['match'] == -1]\n",
    "\n",
    "#cuts \n",
    "cut_biasiso = lambda cat,bias_cut: cat[(np.absolute(cat['bias_g1']) < bias_cut) & (np.absolute(cat['bias_g2']) < bias_cut)]\n",
    "cut_biasgrp = lambda cat,bias_cut: cat[(np.absolute(cat['bias_g1_grp']) < bias_cut) & (np.absolute(cat['bias_g2_grp']) < bias_cut)]\n",
    "down_cut = lambda cat,param,cut: cat[cat[param] < cut]\n",
    "up_cut = lambda cat,param,cut: cat[cat[param] > cut]\n",
    "abs_cut = lambda cat,param,cut,point=0: cat[np.absolute(cat[param] - point) < cut]\n",
    "unphysical_iso = lambda cat: cat[(np.absolute(cat['bias_g1']) > 1.) | (abs(cat['bias_g2']) > 1.)]\n",
    "unphysical_grp = lambda cat: cat[(np.absolute(cat['bias_g1_grp']) > 1.) | (np.absolute(cat['bias_g2_grp']) > 1.)]\n",
    "\n",
    "#more specific \n",
    "detc_and_notambig = lambda cat: cat[(cat['ambig_blend'] == False) & (cat['match'] != -1)]\n",
    "notdetc_and_notambig = lambda cat: cat[(cat['ambig_blend'] == False) & (cat['match'] == -1)]\n",
    "detc_and_ambig = lambda cat: cat[(cat['ambig_blend'] == True) & (cat['match'] != -1)]\n",
    "notdetc_and_ambig = lambda cat: cat[(cat['ambig_blend'] == True) & (cat['match'] == -1)]\n",
    "best = detc_and_notambig"
   ]
  },
  {
   "cell_type": "markdown",
   "metadata": {},
   "source": [
    "### Read "
   ]
  },
  {
   "cell_type": "code",
   "execution_count": 7,
   "metadata": {
    "collapsed": false
   },
   "outputs": [],
   "source": [
    "f = fits.open(files_temps['final_fits1'])\n",
    "catalogue = Table.read(f,hdu=1)"
   ]
  },
  {
   "cell_type": "code",
   "execution_count": 8,
   "metadata": {
    "collapsed": false
   },
   "outputs": [
    {
     "data": {
      "text/plain": [
       "0.18503799382389866"
      ]
     },
     "execution_count": 8,
     "metadata": {},
     "output_type": "execute_result"
    }
   ],
   "source": [
    "float(len(good(catalogue)))/len(catalogue)"
   ]
  },
  {
   "cell_type": "markdown",
   "metadata": {},
   "source": [
    "### are dx,dy values correct ?"
   ]
  },
  {
   "cell_type": "code",
   "execution_count": 17,
   "metadata": {
    "collapsed": false
   },
   "outputs": [
    {
     "data": {
      "text/html": [
       "&lt;Table length=23055&gt;\n",
       "<table id=\"table4413428112\" class=\"table-striped table-bordered table-condensed\">\n",
       "<thead><tr><th>db_id</th><th>grp_id</th><th>grp_size</th><th>grp_rank</th><th>visible</th><th>xmin</th><th>xmax</th><th>ymin</th><th>ymax</th><th>f_disk</th><th>f_bulge</th><th>dx</th><th>dy</th><th>z</th><th>ab_mag</th><th>ri_color</th><th>flux</th><th>sigma_m</th><th>sigma_p</th><th>e1</th><th>e2</th><th>a</th><th>b</th><th>beta</th><th>psf_sigm</th><th>purity</th><th>snr_sky</th><th>snr_iso</th><th>snr_grp</th><th>snr_isof</th><th>snr_grpf</th><th>ds</th><th>dg1</th><th>dg2</th><th>ds_grp</th><th>dg1_grp</th><th>dg2_grp</th><th>hsm_sigm</th><th>hsm_e1</th><th>hsm_e2</th><th>g1_fit</th><th>g2_fit</th><th>bias_f</th><th>bias_s</th><th>bias_g1</th><th>bias_g2</th><th>bias_x</th><th>bias_y</th><th>bias_f_grp</th><th>bias_s_grp</th><th>bias_g1_grp</th><th>bias_g2_grp</th><th>bias_x_grp</th><th>bias_y_grp</th><th>match</th><th>ambig_blend</th></tr></thead>\n",
       "<thead><tr><th>int64</th><th>int64</th><th>int16</th><th>int16</th><th>int16</th><th>int32</th><th>int32</th><th>int32</th><th>int32</th><th>float32</th><th>float32</th><th>float32</th><th>float32</th><th>float32</th><th>float32</th><th>float32</th><th>float32</th><th>float32</th><th>float32</th><th>float32</th><th>float32</th><th>float32</th><th>float32</th><th>float32</th><th>float32</th><th>float32</th><th>float32</th><th>float32</th><th>float32</th><th>float32</th><th>float32</th><th>float32</th><th>float32</th><th>float32</th><th>float32</th><th>float32</th><th>float32</th><th>float32</th><th>float32</th><th>float32</th><th>float32</th><th>float32</th><th>float32</th><th>float32</th><th>float32</th><th>float32</th><th>float32</th><th>float32</th><th>float32</th><th>float32</th><th>float32</th><th>float32</th><th>float32</th><th>float32</th><th>int64</th><th>bool</th></tr></thead>\n",
       "<tr><td>402700062465</td><td>402700062465</td><td>7</td><td>0</td><td>0</td><td>49</td><td>122</td><td>4498</td><td>4564</td><td>0.687221</td><td>0.312779</td><td>-1782.8</td><td>-893.785</td><td>0.36838</td><td>20.2339</td><td>0.593647</td><td>9.07282e+06</td><td>1.20829</td><td>1.30251</td><td>0.0727192</td><td>0.263928</td><td>1.6002</td><td>0.912359</td><td>0.65097</td><td>1.37422</td><td>0.998596</td><td>742.368</td><td>702.543</td><td>702.543</td><td>329.272</td><td>327.581</td><td>0.00404432</td><td>0.00230901</td><td>0.00257738</td><td>0.00406705</td><td>0.00231486</td><td>0.00258133</td><td>nan</td><td>nan</td><td>nan</td><td>0.0</td><td>2.98023e-09</td><td>74.5709</td><td>2.72053e-06</td><td>1.01961e-06</td><td>3.69675e-06</td><td>-8.64013e-12</td><td>-3.65757e-11</td><td>-27.2646</td><td>-1.29671e-05</td><td>3.50428e-06</td><td>-8.04401e-07</td><td>2.19982e-07</td><td>4.7818e-07</td><td>-1</td><td>False</td></tr>\n",
       "<tr><td>402701940434</td><td>402700062465</td><td>7</td><td>2</td><td>1</td><td>60</td><td>92</td><td>4477</td><td>4506</td><td>1.0</td><td>0.0</td><td>-1784.69</td><td>-901.53</td><td>0.52408</td><td>24.3246</td><td>0.423708</td><td>209635.0</td><td>1.12653</td><td>1.13483</td><td>0.0484384</td><td>-0.07064</td><td>1.22753</td><td>1.03384</td><td>-0.484864</td><td>1.28595</td><td>0.968339</td><td>16.4713</td><td>16.4541</td><td>16.454</td><td>9.59855</td><td>9.58763</td><td>0.105833</td><td>0.0873715</td><td>0.087852</td><td>0.105969</td><td>0.0874952</td><td>0.0878638</td><td>nan</td><td>nan</td><td>nan</td><td>0.0</td><td>2.98023e-09</td><td>1847.12</td><td>-0.00435455</td><td>0.000904183</td><td>-0.00132002</td><td>-5.81307e-07</td><td>1.17344e-06</td><td>1776.64</td><td>-0.00473254</td><td>0.00087804</td><td>-0.0011158</td><td>7.15835e-05</td><td>-6.2017e-05</td><td>-1</td><td>False</td></tr>\n",
       "<tr><td>402712776059</td><td>402701806617</td><td>9</td><td>8</td><td>1</td><td>35</td><td>46</td><td>4493</td><td>4505</td><td>1.0</td><td>0.0</td><td>-1791.83</td><td>-900.18</td><td>0.212148</td><td>27.1781</td><td>0.148973</td><td>15137.5</td><td>1.2135</td><td>1.22054</td><td>-0.0279766</td><td>-0.0707454</td><td>1.30961</td><td>1.12444</td><td>-0.973689</td><td>1.36248</td><td>0.0841719</td><td>1.00691</td><td>1.00683</td><td>1.00608</td><td>0.264541</td><td>0.189744</td><td>3.47336</td><td>2.35832</td><td>2.34332</td><td>3.69362</td><td>2.73616</td><td>2.92286</td><td>nan</td><td>nan</td><td>nan</td><td>0.0</td><td>0.0</td><td>284674.0</td><td>7.8237</td><td>-0.230253</td><td>-0.742554</td><td>-0.095792</td><td>-0.130572</td><td>294504.0</td><td>0.870921</td><td>0.698346</td><td>-6.91201</td><td>-0.351497</td><td>-0.7893</td><td>-1</td><td>False</td></tr>\n",
       "<tr><td>402700795956</td><td>402700155390</td><td>46</td><td>6</td><td>1</td><td>4431</td><td>4473</td><td>2438</td><td>2468</td><td>0.990091</td><td>0.00990878</td><td>-909.473</td><td>-1309.22</td><td>1.05311</td><td>23.182</td><td>0.386312</td><td>600499.0</td><td>1.02115</td><td>1.07685</td><td>0.192018</td><td>0.127251</td><td>1.2911</td><td>0.807641</td><td>0.292627</td><td>1.20578</td><td>0.952966</td><td>51.7591</td><td>51.5751</td><td>51.5717</td><td>30.5764</td><td>23.0169</td><td>0.0353179</td><td>0.0287094</td><td>0.0275116</td><td>0.0423924</td><td>0.0379276</td><td>0.0352328</td><td>nan</td><td>nan</td><td>nan</td><td>0.0</td><td>2.98023e-09</td><td>487.693</td><td>-0.000622168</td><td>0.000415755</td><td>0.000275716</td><td>9.85651e-09</td><td>6.68346e-08</td><td>-8055.16</td><td>-0.00383994</td><td>0.00099932</td><td>0.00285371</td><td>-0.0118826</td><td>0.00422394</td><td>-1</td><td>False</td></tr>\n",
       "<tr><td>402700686439</td><td>402700155390</td><td>46</td><td>8</td><td>1</td><td>4469</td><td>4516</td><td>2454</td><td>2488</td><td>0.830563</td><td>0.169437</td><td>-901.438</td><td>-1305.73</td><td>1.11132</td><td>23.1983</td><td>0.704124</td><td>591505.0</td><td>1.11572</td><td>1.26087</td><td>0.192145</td><td>0.291171</td><td>1.60582</td><td>0.775192</td><td>0.493745</td><td>1.30533</td><td>0.204311</td><td>48.8374</td><td>48.6671</td><td>48.2655</td><td>26.0266</td><td>8.06058</td><td>0.0454638</td><td>0.0296878</td><td>0.0325572</td><td>0.0881847</td><td>0.0757556</td><td>0.0616193</td><td>nan</td><td>nan</td><td>nan</td><td>0.0</td><td>2.98023e-09</td><td>692.078</td><td>-0.000457306</td><td>0.000515818</td><td>0.000781271</td><td>2.37604e-09</td><td>-1.67035e-08</td><td>23375.1</td><td>-0.00989925</td><td>-0.00336717</td><td>-0.00193093</td><td>0.0250459</td><td>0.0127838</td><td>-1</td><td>False</td></tr>\n",
       "<tr><td>402700478666</td><td>402700155390</td><td>46</td><td>4</td><td>0</td><td>4489</td><td>4529</td><td>2385</td><td>2431</td><td>1.0</td><td>0.0</td><td>-898.148</td><td>-1318.36</td><td>0.257722</td><td>22.6016</td><td>0.249836</td><td>1.02485e+06</td><td>1.20596</td><td>1.22065</td><td>-0.0876962</td><td>0.0664623</td><td>1.34683</td><td>1.07981</td><td>1.24654</td><td>1.35719</td><td>0.999475</td><td>76.4011</td><td>76.0523</td><td>76.0523</td><td>45.2999</td><td>45.2559</td><td>0.0219778</td><td>0.0183223</td><td>0.0182008</td><td>0.0220039</td><td>0.0183295</td><td>0.0182167</td><td>nan</td><td>nan</td><td>nan</td><td>0.0</td><td>2.98023e-09</td><td>354.165</td><td>-0.00024231</td><td>-7.21472e-05</td><td>5.46572e-05</td><td>-8.57365e-09</td><td>-1.0882e-08</td><td>156.654</td><td>-0.000452579</td><td>2.90322e-05</td><td>0.000125151</td><td>2.0947e-05</td><td>-2.64795e-05</td><td>-1</td><td>False</td></tr>\n",
       "<tr><td>402702366957</td><td>402700087044</td><td>39</td><td>14</td><td>1</td><td>4103</td><td>4133</td><td>1893</td><td>1936</td><td>0.89183</td><td>0.10817</td><td>-976.276</td><td>-1416.96</td><td>1.67964</td><td>24.5066</td><td>1.20741</td><td>177273.0</td><td>1.42106</td><td>1.77377</td><td>-0.212527</td><td>-0.415901</td><td>2.35774</td><td>0.856507</td><td>-1.0216</td><td>1.60376</td><td>0.167879</td><td>12.5103</td><td>12.5007</td><td>12.4799</td><td>6.50738</td><td>4.20684</td><td>0.171749</td><td>0.0968147</td><td>0.123425</td><td>0.21841</td><td>0.122705</td><td>0.146759</td><td>nan</td><td>nan</td><td>nan</td><td>0.0</td><td>0.0</td><td>3960.26</td><td>-0.00158117</td><td>-0.00727399</td><td>-0.0142421</td><td>9.05143e-10</td><td>-1.48729e-06</td><td>9298.44</td><td>0.0068862</td><td>0.0137503</td><td>-0.0157539</td><td>0.0167317</td><td>-0.00264992</td><td>-1</td><td>False</td></tr>\n",
       "<tr><td>402701907759</td><td>402700730901</td><td>22</td><td>6</td><td>1</td><td>4225</td><td>4251</td><td>2176</td><td>2219</td><td>1.0</td><td>0.0</td><td>-952.242</td><td>-1360.36</td><td>0.261233</td><td>24.2523</td><td>0.295441</td><td>224071.0</td><td>1.43092</td><td>1.5401</td><td>-0.267377</td><td>0.0436447</td><td>1.88923</td><td>1.08379</td><td>1.48989</td><td>1.57419</td><td>0.572202</td><td>14.7623</td><td>14.7505</td><td>14.7472</td><td>8.44637</td><td>5.38122</td><td>0.116177</td><td>0.0953918</td><td>0.0828934</td><td>0.145586</td><td>0.129316</td><td>0.131776</td><td>nan</td><td>nan</td><td>nan</td><td>0.0</td><td>0.0</td><td>2562.1</td><td>-0.00424192</td><td>-0.00525419</td><td>0.00086063</td><td>1.46653e-05</td><td>1.26766e-05</td><td>158.796</td><td>-0.0108529</td><td>-0.0330933</td><td>-0.0105399</td><td>0.013155</td><td>0.015309</td><td>-1</td><td>False</td></tr>\n",
       "<tr><td>402707532194</td><td>402700730901</td><td>22</td><td>14</td><td>1</td><td>4200</td><td>4215</td><td>2159</td><td>2176</td><td>0.892415</td><td>0.107585</td><td>-958.442</td><td>-1366.43</td><td>1.17464</td><td>26.4397</td><td>0.912159</td><td>29883.5</td><td>1.03824</td><td>1.07514</td><td>-0.0497574</td><td>0.180084</td><td>1.2543</td><td>0.859397</td><td>0.920186</td><td>1.2159</td><td>0.664016</td><td>2.60158</td><td>2.60103</td><td>2.60092</td><td>0.914961</td><td>0.731916</td><td>1.33897</td><td>0.765177</td><td>0.807915</td><td>1.59502</td><td>0.978223</td><td>0.893683</td><td>nan</td><td>nan</td><td>nan</td><td>0.0</td><td>0.0</td><td>55076.0</td><td>1.28684</td><td>-0.0713568</td><td>0.284364</td><td>-0.0023022</td><td>-0.00126846</td><td>79708.0</td><td>1.82982</td><td>-0.0796816</td><td>0.362736</td><td>0.00608915</td><td>0.0632894</td><td>-1</td><td>False</td></tr>\n",
       "<tr><td>402703088533</td><td>402700037647</td><td>167</td><td>49</td><td>1</td><td>4148</td><td>4175</td><td>1991</td><td>2022</td><td>1.0</td><td>0.0</td><td>-967.631</td><td>-1398.62</td><td>0.978782</td><td>24.7672</td><td>0.514208</td><td>139453.0</td><td>1.24756</td><td>1.30518</td><td>-0.0683915</td><td>0.201104</td><td>1.54788</td><td>1.0055</td><td>0.949303</td><td>1.4019</td><td>0.699937</td><td>10.1854</td><td>10.1792</td><td>10.1772</td><td>5.76389</td><td>3.23906</td><td>0.174689</td><td>0.132366</td><td>0.142238</td><td>0.299277</td><td>0.194316</td><td>0.276669</td><td>nan</td><td>nan</td><td>nan</td><td>0.0</td><td>0.0</td><td>3679.39</td><td>-0.00830561</td><td>-0.00312694</td><td>0.00927676</td><td>-1.97254e-05</td><td>-1.9341e-05</td><td>-5635.9</td><td>0.0273045</td><td>0.00197453</td><td>-0.0334797</td><td>0.0830568</td><td>0.160185</td><td>-1</td><td>False</td></tr>\n",
       "<tr><td>...</td><td>...</td><td>...</td><td>...</td><td>...</td><td>...</td><td>...</td><td>...</td><td>...</td><td>...</td><td>...</td><td>...</td><td>...</td><td>...</td><td>...</td><td>...</td><td>...</td><td>...</td><td>...</td><td>...</td><td>...</td><td>...</td><td>...</td><td>...</td><td>...</td><td>...</td><td>...</td><td>...</td><td>...</td><td>...</td><td>...</td><td>...</td><td>...</td><td>...</td><td>...</td><td>...</td><td>...</td><td>...</td><td>...</td><td>...</td><td>...</td><td>...</td><td>...</td><td>...</td><td>...</td><td>...</td><td>...</td><td>...</td><td>...</td><td>...</td><td>...</td><td>...</td><td>...</td><td>...</td><td>...</td><td>...</td></tr>\n",
       "<tr><td>2214869174</td><td>2200025506</td><td>113</td><td>112</td><td>1</td><td>1707</td><td>1716</td><td>96</td><td>104</td><td>1.0</td><td>0.0</td><td>1242.4</td><td>920.029</td><td>0.285383</td><td>27.5595</td><td>0.280874</td><td>10653.3</td><td>1.32598</td><td>1.3313</td><td>0.0607917</td><td>0.0175239</td><td>1.4127</td><td>1.24458</td><td>0.140327</td><td>1.46321</td><td>0.174563</td><td>0.566028</td><td>0.565998</td><td>0.565871</td><td>0.0794624</td><td>0.0789439</td><td>10.2256</td><td>6.36524</td><td>6.26598</td><td>10.264</td><td>6.41177</td><td>6.30565</td><td>nan</td><td>nan</td><td>nan</td><td>0.0</td><td>0.0</td><td>2.10168e+06</td><td>92.891</td><td>0.801043</td><td>1.16795</td><td>0.594547</td><td>1.38122</td><td>2.11632e+06</td><td>92.8355</td><td>0.887776</td><td>1.35057</td><td>1.60992</td><td>1.13798</td><td>-1</td><td>False</td></tr>\n",
       "<tr><td>2206555464</td><td>2200025506</td><td>113</td><td>83</td><td>1</td><td>1718</td><td>1736</td><td>108</td><td>127</td><td>1.0</td><td>0.0</td><td>1245.44</td><td>923.553</td><td>0.266561</td><td>26.152</td><td>0.209808</td><td>38949.5</td><td>1.17943</td><td>1.18018</td><td>-0.0132752</td><td>0.0215437</td><td>1.20966</td><td>1.14995</td><td>1.06152</td><td>1.33105</td><td>0.53795</td><td>2.89103</td><td>2.89049</td><td>2.89021</td><td>1.34724</td><td>1.14793</td><td>0.744996</td><td>0.573214</td><td>0.571737</td><td>0.803682</td><td>0.625089</td><td>0.635523</td><td>nan</td><td>nan</td><td>nan</td><td>0.0</td><td>0.0</td><td>24836.6</td><td>0.0863611</td><td>-0.00885827</td><td>0.0144264</td><td>-0.00208852</td><td>-0.000584329</td><td>26766.2</td><td>-0.0268633</td><td>-0.106952</td><td>0.092714</td><td>0.038312</td><td>-0.0599981</td><td>-1</td><td>False</td></tr>\n",
       "<tr><td>2201917067</td><td>2201917067</td><td>6</td><td>0</td><td>1</td><td>2617</td><td>2645</td><td>160</td><td>189</td><td>0.991756</td><td>0.00824412</td><td>1426.3</td><td>935.031</td><td>1.57164</td><td>24.3191</td><td>0.131586</td><td>210704.0</td><td>1.03398</td><td>1.04518</td><td>-0.00315921</td><td>-0.103749</td><td>1.14751</td><td>0.931691</td><td>-0.800619</td><td>1.20643</td><td>0.621892</td><td>17.7837</td><td>17.7622</td><td>17.753</td><td>10.338</td><td>2.34059</td><td>0.101926</td><td>0.0828104</td><td>0.084618</td><td>0.220887</td><td>0.22823</td><td>0.200829</td><td>nan</td><td>nan</td><td>nan</td><td>0.0</td><td>0.0</td><td>1617.25</td><td>-0.00409211</td><td>-5.05318e-05</td><td>-0.0018281</td><td>2.87422e-06</td><td>2.71571e-06</td><td>-2405.77</td><td>-0.0723469</td><td>0.0617323</td><td>0.0375127</td><td>0.017904</td><td>-0.00868408</td><td>196926</td><td>True</td></tr>\n",
       "<tr><td>2211641642</td><td>2207896646</td><td>2</td><td>1</td><td>1</td><td>2664</td><td>2671</td><td>13</td><td>22</td><td>1.0</td><td>0.0</td><td>1433.59</td><td>903.608</td><td>0.358798</td><td>26.7725</td><td>0.369724</td><td>21994.1</td><td>2.66339</td><td>2.92688</td><td>-0.113976</td><td>0.284724</td><td>3.65643</td><td>1.94005</td><td>0.975782</td><td>2.74745</td><td>0.880223</td><td>0.443095</td><td>0.443076</td><td>0.443074</td><td>0.0239721</td><td>0.0239333</td><td>27.1666</td><td>12.305</td><td>15.1989</td><td>27.2066</td><td>12.342</td><td>15.2205</td><td>nan</td><td>nan</td><td>nan</td><td>0.0</td><td>0.0</td><td>4.06188e+07</td><td>813.805</td><td>-35.3392</td><td>58.5172</td><td>-7.49739</td><td>8.31526</td><td>4.07468e+07</td><td>816.104</td><td>-36.5298</td><td>58.6727</td><td>-7.63539</td><td>10.3898</td><td>-1</td><td>False</td></tr>\n",
       "<tr><td>2207758458</td><td>2206884977</td><td>2</td><td>1</td><td>1</td><td>2221</td><td>2238</td><td>46</td><td>65</td><td>1.0</td><td>0.0</td><td>1346.0</td><td>911.198</td><td>0.486749</td><td>26.3471</td><td>0.613544</td><td>32542.2</td><td>1.31609</td><td>1.32128</td><td>-0.060818</td><td>0.0155185</td><td>1.40146</td><td>1.23592</td><td>1.44588</td><td>1.45424</td><td>0.999421</td><td>2.17435</td><td>2.17406</td><td>2.17406</td><td>0.884996</td><td>0.884983</td><td>1.08884</td><td>0.799718</td><td>0.804325</td><td>1.08885</td><td>0.799722</td><td>0.804338</td><td>nan</td><td>nan</td><td>nan</td><td>0.0</td><td>0.0</td><td>50254.9</td><td>0.397182</td><td>-0.0787147</td><td>0.0155483</td><td>0.00121644</td><td>-0.000898133</td><td>50214.6</td><td>0.39605</td><td>-0.0782008</td><td>0.0146153</td><td>0.00144037</td><td>-0.000480747</td><td>-1</td><td>False</td></tr>\n",
       "<tr><td>2203061719</td><td>2200462526</td><td>9</td><td>2</td><td>1</td><td>2550</td><td>2578</td><td>58</td><td>88</td><td>1.0</td><td>0.0</td><td>1412.95</td><td>914.789</td><td>0.474212</td><td>24.8421</td><td>0.325256</td><td>130150.0</td><td>1.34221</td><td>1.34461</td><td>-0.0422231</td><td>0.00176652</td><td>1.40019</td><td>1.28664</td><td>1.54989</td><td>1.47747</td><td>0.929477</td><td>8.82859</td><td>8.82422</td><td>8.82406</td><td>4.88335</td><td>4.41915</td><td>0.199629</td><td>0.162006</td><td>0.161353</td><td>0.207963</td><td>0.189315</td><td>0.16696</td><td>nan</td><td>nan</td><td>nan</td><td>0.0</td><td>0.0</td><td>4867.73</td><td>-0.00763765</td><td>-0.0024997</td><td>0.000117442</td><td>4.07445e-05</td><td>-7.20894e-06</td><td>3896.55</td><td>-0.0180772</td><td>0.0212496</td><td>-0.00414127</td><td>0.00260524</td><td>0.00753679</td><td>195544</td><td>False</td></tr>\n",
       "<tr><td>2200404779</td><td>2200404779</td><td>4</td><td>0</td><td>1</td><td>2499</td><td>2539</td><td>-9</td><td>45</td><td>0.813475</td><td>0.186525</td><td>1403.94</td><td>903.695</td><td>1.37934</td><td>22.129</td><td>0.2955</td><td>1.58381e+06</td><td>1.1028</td><td>1.14944</td><td>-0.183842</td><td>-0.0871623</td><td>1.35553</td><td>0.897192</td><td>-1.34943</td><td>1.27329</td><td>0.996897</td><td>128.58</td><td>127.42</td><td>127.42</td><td>68.2182</td><td>64.6</td><td>0.0168502</td><td>0.0125225</td><td>0.0118955</td><td>0.0178656</td><td>0.012788</td><td>0.0125896</td><td>nan</td><td>nan</td><td>nan</td><td>0.0</td><td>2.98023e-09</td><td>249.866</td><td>-6.66455e-05</td><td>-6.9638e-05</td><td>-3.30189e-05</td><td>2.56379e-09</td><td>-4.16464e-10</td><td>-566.889</td><td>-0.000669911</td><td>-0.000130136</td><td>-0.000436217</td><td>-9.14902e-05</td><td>-6.40349e-05</td><td>194776</td><td>False</td></tr>\n",
       "<tr><td>2214844337</td><td>2201471896</td><td>12</td><td>11</td><td>1</td><td>2174</td><td>2183</td><td>133</td><td>143</td><td>1.0</td><td>0.0</td><td>1335.84</td><td>927.694</td><td>0.30671</td><td>27.5232</td><td>0.285912</td><td>11016.3</td><td>1.12643</td><td>1.12733</td><td>0.02082</td><td>0.019018</td><td>1.15866</td><td>1.09511</td><td>0.370098</td><td>1.28436</td><td>0.327608</td><td>0.739829</td><td>0.73978</td><td>0.739689</td><td>0.153402</td><td>0.150921</td><td>5.86887</td><td>3.87198</td><td>3.86432</td><td>5.90192</td><td>3.88677</td><td>3.87633</td><td>nan</td><td>nan</td><td>nan</td><td>0.0</td><td>0.0</td><td>622536.0</td><td>25.5663</td><td>0.901701</td><td>0.259682</td><td>0.657483</td><td>-0.645465</td><td>625562.0</td><td>25.2887</td><td>1.0516</td><td>0.319543</td><td>0.594286</td><td>-0.532878</td><td>-1</td><td>False</td></tr>\n",
       "<tr><td>2201853829</td><td>2203485468</td><td>8</td><td>1</td><td>1</td><td>2129</td><td>2178</td><td>-4</td><td>28</td><td>1.0</td><td>0.0</td><td>1330.78</td><td>902.539</td><td>0.0596146</td><td>24.4592</td><td>-0.0956802</td><td>185186.0</td><td>2.36987</td><td>2.48768</td><td>0.217392</td><td>0.0349308</td><td>2.96442</td><td>1.89456</td><td>0.0796598</td><td>2.45616</td><td>0.947129</td><td>7.69734</td><td>7.69518</td><td>7.69515</td><td>3.87826</td><td>3.65069</td><td>0.230872</td><td>0.178667</td><td>0.163249</td><td>0.242412</td><td>0.186695</td><td>0.171034</td><td>nan</td><td>nan</td><td>nan</td><td>0.0</td><td>0.0</td><td>11395.2</td><td>0.00221541</td><td>0.0134798</td><td>0.00215436</td><td>-1.70368e-05</td><td>5.71033e-05</td><td>8444.53</td><td>-0.0143054</td><td>0.0048255</td><td>0.013849</td><td>-0.00670148</td><td>0.00104046</td><td>-1</td><td>False</td></tr>\n",
       "<tr><td>2201547537</td><td>2201547537</td><td>1</td><td>0</td><td>0</td><td>2029</td><td>2062</td><td>-41</td><td>2</td><td>1.0</td><td>0.0</td><td>1309.26</td><td>896.124</td><td>0.0884444</td><td>24.2326</td><td>0.251005</td><td>228161.0</td><td>1.68029</td><td>1.75936</td><td>-0.139947</td><td>-0.162385</td><td>2.08906</td><td>1.35151</td><td>-1.14106</td><td>1.79882</td><td>1.0</td><td>12.9814</td><td>12.9734</td><td>12.9734</td><td>7.26319</td><td>7.26319</td><td>0.129658</td><td>0.10016</td><td>0.101506</td><td>0.129658</td><td>0.10016</td><td>0.101506</td><td>nan</td><td>nan</td><td>nan</td><td>0.0</td><td>0.0</td><td>3557.29</td><td>-0.00387458</td><td>-0.00324855</td><td>-0.00377241</td><td>-2.89243e-06</td><td>-6.82729e-07</td><td>3557.29</td><td>-0.00387458</td><td>-0.00324855</td><td>-0.00377241</td><td>-2.89243e-06</td><td>-6.82729e-07</td><td>-1</td><td>True</td></tr>\n",
       "</table>"
      ],
      "text/plain": [
       "<Table length=23055>\n",
       "   db_id        grp_id    grp_size grp_rank ...  bias_y_grp  match  ambig_blend\n",
       "   int64        int64      int16    int16   ...   float32    int64      bool   \n",
       "------------ ------------ -------- -------- ... ------------ ------ -----------\n",
       "402700062465 402700062465        7        0 ...   4.7818e-07     -1       False\n",
       "402701940434 402700062465        7        2 ...  -6.2017e-05     -1       False\n",
       "402712776059 402701806617        9        8 ...      -0.7893     -1       False\n",
       "402700795956 402700155390       46        6 ...   0.00422394     -1       False\n",
       "402700686439 402700155390       46        8 ...    0.0127838     -1       False\n",
       "402700478666 402700155390       46        4 ... -2.64795e-05     -1       False\n",
       "402702366957 402700087044       39       14 ...  -0.00264992     -1       False\n",
       "402701907759 402700730901       22        6 ...     0.015309     -1       False\n",
       "402707532194 402700730901       22       14 ...    0.0632894     -1       False\n",
       "402703088533 402700037647      167       49 ...     0.160185     -1       False\n",
       "         ...          ...      ...      ... ...          ...    ...         ...\n",
       "  2214869174   2200025506      113      112 ...      1.13798     -1       False\n",
       "  2206555464   2200025506      113       83 ...   -0.0599981     -1       False\n",
       "  2201917067   2201917067        6        0 ...  -0.00868408 196926        True\n",
       "  2211641642   2207896646        2        1 ...      10.3898     -1       False\n",
       "  2207758458   2206884977        2        1 ... -0.000480747     -1       False\n",
       "  2203061719   2200462526        9        2 ...   0.00753679 195544       False\n",
       "  2200404779   2200404779        4        0 ... -6.40349e-05 194776       False\n",
       "  2214844337   2201471896       12       11 ...    -0.532878     -1       False\n",
       "  2201853829   2203485468        8        1 ...   0.00104046     -1       False\n",
       "  2201547537   2201547537        1        0 ... -6.82729e-07     -1        True"
      ]
     },
     "execution_count": 17,
     "metadata": {},
     "output_type": "execute_result"
    }
   ],
   "source": [
    "catalogue[catalogue['sigma_m']>1]"
   ]
  },
  {
   "cell_type": "code",
   "execution_count": 20,
   "metadata": {
    "collapsed": false
   },
   "outputs": [],
   "source": [
    "#transform to ds9 coordinates. \n",
    "def getds9pos(dx,dy):\n",
    "    return (dx/.2 + 9000,dy/.2 + 9000)\n",
    "\n"
   ]
  },
  {
   "cell_type": "code",
   "execution_count": 21,
   "metadata": {
    "collapsed": false
   },
   "outputs": [
    {
     "data": {
      "text/plain": [
       "(4207.79, 2167.8500000000004)"
      ]
     },
     "execution_count": 21,
     "metadata": {},
     "output_type": "execute_result"
    }
   ],
   "source": [
    "getds9pos(-958.442,-1366.43\t)"
   ]
  },
  {
   "cell_type": "markdown",
   "metadata": {},
   "source": [
    "### Show the rare_objs "
   ]
  },
  {
   "cell_type": "code",
   "execution_count": 35,
   "metadata": {
    "collapsed": false
   },
   "outputs": [
    {
     "name": "stdout",
     "output_type": "stream",
     "text": [
      "percentage of objects with snr_grpf greater than 10: 0.927\n"
     ]
    },
    {
     "data": {
      "image/png": "[encoded data removed]",
      "text/plain": [
       "<matplotlib.figure.Figure at 0x16f666a10>"
      ]
     },
     "metadata": {},
     "output_type": "display_data"
    }
   ],
   "source": [
    "cat = best(gold(cat))\n",
    "param = 'bias_g1_grp'\n",
    "med = np.median(cat[param])\n",
    "n = 1000.\n",
    "p = (n/len(cat))*100.\n",
    "w = np.percentile(np.absolute(cat[param] - med),p)\n",
    "cat_cut = cat[ (cat[param] < med + w) &  (cat[param] > med - w)]\n",
    "plt.hist(cat_cut['snr_grpf'],range=(0,100),bins=100)\n",
    "plt.title('snr_grpf of closest {0:0g} objects to the median'.format(n))\n",
    "print 'percentage of objects with snr_grpf greater than 10:', float(len(cat_cut[cat_cut['snr_grpf']>10]))/len(cat_cut)"
   ]
  },
  {
   "cell_type": "code",
   "execution_count": 36,
   "metadata": {
    "collapsed": false
   },
   "outputs": [],
   "source": [
    "rare_objs = abs_cut(cat_cut,'snr_grpf',2)"
   ]
  },
  {
   "cell_type": "code",
   "execution_count": 37,
   "metadata": {
    "collapsed": false
   },
   "outputs": [
    {
     "data": {
      "text/html": [
       "&lt;Table length=50&gt;\n",
       "<table id=\"table4412302096\" class=\"table-striped table-bordered table-condensed\">\n",
       "<thead><tr><th>db_id</th><th>grp_id</th><th>grp_size</th><th>grp_rank</th><th>visible</th><th>xmin</th><th>xmax</th><th>ymin</th><th>ymax</th><th>f_disk</th><th>f_bulge</th><th>dx</th><th>dy</th><th>z</th><th>ab_mag</th><th>ri_color</th><th>flux</th><th>sigma_m</th><th>sigma_p</th><th>e1</th><th>e2</th><th>a</th><th>b</th><th>beta</th><th>psf_sigm</th><th>purity</th><th>snr_sky</th><th>snr_iso</th><th>snr_grp</th><th>snr_isof</th><th>snr_grpf</th><th>ds</th><th>dg1</th><th>dg2</th><th>ds_grp</th><th>dg1_grp</th><th>dg2_grp</th><th>hsm_sigm</th><th>hsm_e1</th><th>hsm_e2</th><th>g1_fit</th><th>g2_fit</th><th>bias_f</th><th>bias_s</th><th>bias_g1</th><th>bias_g2</th><th>bias_x</th><th>bias_y</th><th>bias_f_grp</th><th>bias_s_grp</th><th>bias_g1_grp</th><th>bias_g2_grp</th><th>bias_x_grp</th><th>bias_y_grp</th><th>match</th><th>ambig_blend</th></tr></thead>\n",
       "<thead><tr><th>int64</th><th>int64</th><th>int16</th><th>int16</th><th>int16</th><th>int32</th><th>int32</th><th>int32</th><th>int32</th><th>float32</th><th>float32</th><th>float32</th><th>float32</th><th>float32</th><th>float32</th><th>float32</th><th>float32</th><th>float32</th><th>float32</th><th>float32</th><th>float32</th><th>float32</th><th>float32</th><th>float32</th><th>float32</th><th>float32</th><th>float32</th><th>float32</th><th>float32</th><th>float32</th><th>float32</th><th>float32</th><th>float32</th><th>float32</th><th>float32</th><th>float32</th><th>float32</th><th>float32</th><th>float32</th><th>float32</th><th>float32</th><th>float32</th><th>float32</th><th>float32</th><th>float32</th><th>float32</th><th>float32</th><th>float32</th><th>float32</th><th>float32</th><th>float32</th><th>float32</th><th>float32</th><th>float32</th><th>int64</th><th>bool</th></tr></thead>\n",
       "<tr><td>402702901907</td><td>402700083686</td><td>14</td><td>3</td><td>1</td><td>1795</td><td>1812</td><td>2604</td><td>2620</td><td>1.0</td><td>0.0</td><td>-1439.25</td><td>-377.465</td><td>0.487389</td><td>24.7755</td><td>0.441755</td><td>138384.0</td><td>0.3261</td><td>0.335823</td><td>0.0913279</td><td>0.14501</td><td>0.387721</td><td>0.274273</td><td>0.504376</td><td>0.701148</td><td>0.973771</td><td>22.9271</td><td>22.8626</td><td>0.0</td><td>15.0085</td><td>0.0</td><td>0.139894</td><td>0.122503</td><td>0.127106</td><td>inf</td><td>inf</td><td>inf</td><td>nan</td><td>nan</td><td>nan</td><td>0.0</td><td>0.0</td><td>679.005</td><td>-0.0224086</td><td>0.00679516</td><td>0.0107998</td><td>-6.5909e-07</td><td>-9.42657e-07</td><td>-0.0</td><td>-0.0</td><td>-0.0</td><td>-0.0</td><td>-0.0</td><td>-0.0</td><td>102121</td><td>False</td></tr>\n",
       "<tr><td>402700083686</td><td>402700083686</td><td>14</td><td>0</td><td>1</td><td>1726</td><td>1811</td><td>2619</td><td>2661</td><td>0.81401</td><td>0.18599</td><td>-1446.21</td><td>-371.929</td><td>0.765379</td><td>20.8211</td><td>0.8915</td><td>5.28268e+06</td><td>1.07661</td><td>1.57026</td><td>0.550617</td><td>-0.239352</td><td>2.15453</td><td>0.537975</td><td>-0.205028</td><td>1.35423</td><td>0.994833</td><td>476.363</td><td>459.958</td><td>0.0</td><td>257.502</td><td>0.0</td><td>0.00547794</td><td>0.00417483</td><td>0.00260081</td><td>inf</td><td>inf</td><td>inf</td><td>nan</td><td>nan</td><td>nan</td><td>0.0</td><td>0.0</td><td>66.7773</td><td>-1.2286e-05</td><td>2.33172e-05</td><td>-1.01458e-05</td><td>1.91149e-11</td><td>3.07506e-11</td><td>-0.0</td><td>-0.0</td><td>-0.0</td><td>-0.0</td><td>-0.0</td><td>-0.0</td><td>102164</td><td>False</td></tr>\n",
       "<tr><td>402701456831</td><td>402700005120</td><td>190</td><td>31</td><td>1</td><td>383</td><td>406</td><td>2698</td><td>2715</td><td>0.993656</td><td>0.00634408</td><td>-1721.06</td><td>-358.557</td><td>3.22464</td><td>23.9957</td><td>0.00880051</td><td>283793.0</td><td>0.380344</td><td>0.466222</td><td>0.365305</td><td>-0.259558</td><td>0.616114</td><td>0.234797</td><td>-0.308877</td><td>0.75841</td><td>0.881101</td><td>44.0857</td><td>43.8616</td><td>0.0</td><td>28.6463</td><td>0.0</td><td>0.0872943</td><td>0.0719142</td><td>0.0604243</td><td>inf</td><td>inf</td><td>inf</td><td>nan</td><td>nan</td><td>nan</td><td>0.0</td><td>0.0</td><td>371.235</td><td>-0.00877109</td><td>0.00845146</td><td>-0.00600561</td><td>-7.55705e-08</td><td>4.66139e-08</td><td>-0.0</td><td>-0.0</td><td>-0.0</td><td>-0.0</td><td>-0.0</td><td>-0.0</td><td>103492</td><td>False</td></tr>\n",
       "<tr><td>402701021226</td><td>402700005120</td><td>190</td><td>20</td><td>1</td><td>364</td><td>384</td><td>2685</td><td>2707</td><td>0.831083</td><td>0.168917</td><td>-1725.09</td><td>-360.737</td><td>1.21783</td><td>23.5662</td><td>0.470728</td><td>421512.0</td><td>0.267078</td><td>0.381857</td><td>-0.332291</td><td>0.482284</td><td>0.522486</td><td>0.136522</td><td>1.08705</td><td>0.714476</td><td>0.977124</td><td>72.6204</td><td>71.9415</td><td>0.0</td><td>44.775</td><td>0.0</td><td>0.133752</td><td>0.0790925</td><td>0.107789</td><td>inf</td><td>inf</td><td>inf</td><td>nan</td><td>nan</td><td>nan</td><td>0.0</td><td>0.0</td><td>135.764</td><td>-0.0202215</td><td>-0.0154622</td><td>0.0224444</td><td>-3.96885e-09</td><td>9.31766e-09</td><td>-0.0</td><td>-0.0</td><td>-0.0</td><td>-0.0</td><td>-0.0</td><td>-0.0</td><td>103064</td><td>False</td></tr>\n",
       "<tr><td>402700067540</td><td>402700005120</td><td>190</td><td>2</td><td>1</td><td>350</td><td>412</td><td>2638</td><td>2699</td><td>0.157402</td><td>0.826218</td><td>-1723.73</td><td>-366.281</td><td>0.33741</td><td>20.8682</td><td>0.581371</td><td>5.05832e+06</td><td>0.413373</td><td>0.414293</td><td>0.0133844</td><td>-0.0452118</td><td>0.433346</td><td>0.394321</td><td>-0.641489</td><td>0.742743</td><td>0.994044</td><td>706.346</td><td>651.26</td><td>0.0</td><td>270.687</td><td>0.0</td><td>0.0101395</td><td>0.00547644</td><td>0.00562645</td><td>inf</td><td>inf</td><td>inf</td><td>nan</td><td>nan</td><td>nan</td><td>0.0</td><td>0.0</td><td>45.6947</td><td>-9.97191e-06</td><td>1.89986e-06</td><td>-6.40045e-06</td><td>8.81186e-11</td><td>-1.13352e-10</td><td>-0.0</td><td>-0.0</td><td>-0.0</td><td>-0.0</td><td>-0.0</td><td>-0.0</td><td>102579</td><td>False</td></tr>\n",
       "<tr><td>402702256752</td><td>402700005120</td><td>190</td><td>39</td><td>1</td><td>362</td><td>376</td><td>2655</td><td>2669</td><td>1.0</td><td>0.0</td><td>-1726.11</td><td>-367.441</td><td>0.337581</td><td>24.6455</td><td>0.61237</td><td>155996.0</td><td>0.0977656</td><td>0.144438</td><td>0.445232</td><td>-0.416377</td><td>0.198511</td><td>0.0481491</td><td>-0.375961</td><td>0.633007</td><td>0.820046</td><td>32.477</td><td>32.3146</td><td>0.0</td><td>23.262</td><td>0.0</td><td>1.76893</td><td>1.31265</td><td>1.23297</td><td>inf</td><td>inf</td><td>inf</td><td>nan</td><td>nan</td><td>nan</td><td>0.0</td><td>0.0</td><td>472.447</td><td>-5.02513</td><td>4.72185</td><td>-4.41567</td><td>-3.85292e-06</td><td>-1.51138e-05</td><td>-0.0</td><td>-0.0</td><td>-0.0</td><td>-0.0</td><td>-0.0</td><td>-0.0</td><td>102474</td><td>False</td></tr>\n",
       "<tr><td>402700111942</td><td>402700005120</td><td>190</td><td>4</td><td>1</td><td>444</td><td>496</td><td>2734</td><td>2801</td><td>0.111331</td><td>0.821832</td><td>-1705.9</td><td>-346.347</td><td>0.337581</td><td>21.2069</td><td>0.584993</td><td>3.70293e+06</td><td>0.470949</td><td>0.48233</td><td>-0.143315</td><td>-0.0577423</td><td>0.550325</td><td>0.403023</td><td>-1.37929</td><td>0.780302</td><td>0.962001</td><td>494.896</td><td>467.188</td><td>0.0</td><td>185.981</td><td>0.0</td><td>0.0141106</td><td>0.00759592</td><td>0.0072371</td><td>inf</td><td>inf</td><td>inf</td><td>nan</td><td>nan</td><td>nan</td><td>0.0</td><td>0.0</td><td>65.3961</td><td>-1.51962e-05</td><td>-2.81955e-05</td><td>-1.1362e-05</td><td>1.23437e-10</td><td>4.7064e-11</td><td>-0.0</td><td>-0.0</td><td>-0.0</td><td>-0.0</td><td>-0.0</td><td>-0.0</td><td>104197</td><td>False</td></tr>\n",
       "<tr><td>402703411689</td><td>402700005120</td><td>190</td><td>56</td><td>1</td><td>421</td><td>437</td><td>2756</td><td>2771</td><td>0.905381</td><td>0.0946188</td><td>-1714.08</td><td>-347.26</td><td>2.15858</td><td>25.1231</td><td>0.0283527</td><td>100471.0</td><td>0.372602</td><td>0.399367</td><td>0.0875823</td><td>-0.24817</td><td>0.487858</td><td>0.284576</td><td>-0.615764</td><td>0.730765</td><td>0.683647</td><td>16.2522</td><td>16.2195</td><td>0.0</td><td>10.2701</td><td>0.0</td><td>0.263711</td><td>0.170877</td><td>0.236103</td><td>inf</td><td>inf</td><td>inf</td><td>nan</td><td>nan</td><td>nan</td><td>0.0</td><td>0.0</td><td>848.307</td><td>-0.0806415</td><td>0.0283016</td><td>-0.0802049</td><td>8.82882e-07</td><td>3.20311e-08</td><td>-0.0</td><td>-0.0</td><td>-0.0</td><td>-0.0</td><td>-0.0</td><td>-0.0</td><td>104132</td><td>False</td></tr>\n",
       "<tr><td>402701034434</td><td>402700005120</td><td>190</td><td>24</td><td>1</td><td>394</td><td>414</td><td>2752</td><td>2770</td><td>1.0</td><td>0.0</td><td>-1719.08</td><td>-347.759</td><td>0.337021</td><td>23.7389</td><td>0.448072</td><td>359541.0</td><td>0.271951</td><td>0.29647</td><td>0.159992</td><td>0.245991</td><td>0.367952</td><td>0.200997</td><td>0.49707</td><td>0.682454</td><td>0.978878</td><td>63.258</td><td>62.7428</td><td>0.0</td><td>42.2097</td><td>0.0</td><td>0.0681219</td><td>0.0543249</td><td>0.0606917</td><td>inf</td><td>inf</td><td>inf</td><td>nan</td><td>nan</td><td>nan</td><td>0.0</td><td>0.0</td><td>237.714</td><td>-0.00619697</td><td>0.00303087</td><td>0.00466041</td><td>-8.94353e-09</td><td>-2.48102e-09</td><td>-0.0</td><td>-0.0</td><td>-0.0</td><td>-0.0</td><td>-0.0</td><td>-0.0</td><td>104300</td><td>False</td></tr>\n",
       "<tr><td>402700407678</td><td>402700005120</td><td>190</td><td>14</td><td>1</td><td>225</td><td>269</td><td>2750</td><td>2785</td><td>0.740266</td><td>0.259734</td><td>-1750.52</td><td>-346.332</td><td>1.45406</td><td>22.361</td><td>0.0797939</td><td>1.27907e+06</td><td>0.801826</td><td>0.83482</td><td>0.161318</td><td>-0.119495</td><td>0.982805</td><td>0.654174</td><td>-0.318774</td><td>1.02131</td><td>0.999979</td><td>128.826</td><td>127.426</td><td>0.0</td><td>69.1887</td><td>0.0</td><td>0.0187962</td><td>0.0140168</td><td>0.0136703</td><td>inf</td><td>inf</td><td>inf</td><td>nan</td><td>nan</td><td>nan</td><td>0.0</td><td>0.0</td><td>208.157</td><td>-0.000112294</td><td>8.7619e-05</td><td>-6.49223e-05</td><td>6.72485e-10</td><td>1.47289e-09</td><td>-0.0</td><td>-0.0</td><td>-0.0</td><td>-0.0</td><td>-0.0</td><td>-0.0</td><td>103947</td><td>False</td></tr>\n",
       "<tr><td>...</td><td>...</td><td>...</td><td>...</td><td>...</td><td>...</td><td>...</td><td>...</td><td>...</td><td>...</td><td>...</td><td>...</td><td>...</td><td>...</td><td>...</td><td>...</td><td>...</td><td>...</td><td>...</td><td>...</td><td>...</td><td>...</td><td>...</td><td>...</td><td>...</td><td>...</td><td>...</td><td>...</td><td>...</td><td>...</td><td>...</td><td>...</td><td>...</td><td>...</td><td>...</td><td>...</td><td>...</td><td>...</td><td>...</td><td>...</td><td>...</td><td>...</td><td>...</td><td>...</td><td>...</td><td>...</td><td>...</td><td>...</td><td>...</td><td>...</td><td>...</td><td>...</td><td>...</td><td>...</td><td>...</td><td>...</td></tr>\n",
       "<tr><td>2203614635</td><td>2200020222</td><td>39</td><td>7</td><td>1</td><td>4155</td><td>4170</td><td>1887</td><td>1902</td><td>1.0</td><td>0.0</td><td>1732.56</td><td>378.994</td><td>0.922489</td><td>25.1276</td><td>0.626938</td><td>100057.0</td><td>0.331085</td><td>0.334688</td><td>-0.0377612</td><td>-0.0969327</td><td>0.367521</td><td>0.298261</td><td>-0.971135</td><td>0.701242</td><td>0.973095</td><td>16.4872</td><td>16.4539</td><td>0.0</td><td>10.7498</td><td>0.0</td><td>0.186387</td><td>0.167775</td><td>0.171668</td><td>inf</td><td>inf</td><td>inf</td><td>nan</td><td>nan</td><td>nan</td><td>0.0</td><td>0.0</td><td>963.289</td><td>-0.0384228</td><td>-0.00500046</td><td>-0.0128155</td><td>1.16408e-06</td><td>2.93216e-06</td><td>-0.0</td><td>-0.0</td><td>-0.0</td><td>-0.0</td><td>-0.0</td><td>-0.0</td><td>156942</td><td>False</td></tr>\n",
       "<tr><td>2200176962</td><td>2200020222</td><td>39</td><td>2</td><td>1</td><td>4136</td><td>4171</td><td>1844</td><td>1894</td><td>0.980063</td><td>0.019937</td><td>1730.88</td><td>373.974</td><td>1.20324</td><td>21.8084</td><td>0.0740528</td><td>2.12775e+06</td><td>0.887264</td><td>1.05992</td><td>-0.230282</td><td>-0.350606</td><td>1.3874</td><td>0.567417</td><td>-1.07597</td><td>1.12796</td><td>0.992911</td><td>208.222</td><td>204.972</td><td>0.0</td><td>124.642</td><td>0.0</td><td>0.00998235</td><td>0.00677539</td><td>0.00782907</td><td>inf</td><td>inf</td><td>inf</td><td>nan</td><td>nan</td><td>nan</td><td>0.0</td><td>0.0</td><td>108.796</td><td>-6.23567e-05</td><td>-4.16563e-05</td><td>-6.34145e-05</td><td>4.30601e-10</td><td>3.48218e-10</td><td>-0.0</td><td>-0.0</td><td>-0.0</td><td>-0.0</td><td>-0.0</td><td>-0.0</td><td>156387</td><td>False</td></tr>\n",
       "<tr><td>2200598010</td><td>2200598010</td><td>4</td><td>0</td><td>1</td><td>3840</td><td>3863</td><td>4180</td><td>4203</td><td>0.951006</td><td>0.0489941</td><td>1670.41</td><td>838.441</td><td>0.632862</td><td>22.8565</td><td>0.710112</td><td>810401.0</td><td>0.207139</td><td>0.305836</td><td>0.271473</td><td>-0.545317</td><td>0.420298</td><td>0.102086</td><td>-0.554445</td><td>0.682974</td><td>0.833866</td><td>151.03</td><td>147.963</td><td>0.0</td><td>97.4644</td><td>0.0</td><td>0.119244</td><td>0.0566744</td><td>0.105659</td><td>inf</td><td>inf</td><td>inf</td><td>nan</td><td>nan</td><td>nan</td><td>0.0</td><td>0.0</td><td>18.2646</td><td>-0.0183843</td><td>0.0109919</td><td>-0.0220824</td><td>2.23041e-08</td><td>3.60853e-08</td><td>-0.0</td><td>-0.0</td><td>-0.0</td><td>-0.0</td><td>-0.0</td><td>-0.0</td><td>190025</td><td>False</td></tr>\n",
       "<tr><td>2202220617</td><td>2200007489</td><td>79</td><td>13</td><td>1</td><td>629</td><td>644</td><td>4001</td><td>4015</td><td>0.997442</td><td>0.00255784</td><td>1027.36</td><td>1701.73</td><td>1.16203</td><td>24.6841</td><td>0.391249</td><td>150537.0</td><td>0.0934602</td><td>0.147766</td><td>0.203712</td><td>0.622118</td><td>0.204563</td><td>0.0426997</td><td>0.627175</td><td>0.63372</td><td>0.917337</td><td>31.4073</td><td>31.255</td><td>0.0</td><td>22.5054</td><td>0.0</td><td>2.51381</td><td>0.851361</td><td>2.39312</td><td>inf</td><td>inf</td><td>inf</td><td>nan</td><td>nan</td><td>nan</td><td>0.0</td><td>0.0</td><td>485.897</td><td>-9.95505</td><td>4.03398</td><td>12.3163</td><td>-2.12344e-05</td><td>-3.81143e-06</td><td>-0.0</td><td>-0.0</td><td>-0.0</td><td>-0.0</td><td>-0.0</td><td>-0.0</td><td>253005</td><td>False</td></tr>\n",
       "<tr><td>2200700550</td><td>2200007489</td><td>79</td><td>9</td><td>1</td><td>587</td><td>608</td><td>3985</td><td>4006</td><td>1.0</td><td>0.0</td><td>1019.64</td><td>1699.12</td><td>0.253805</td><td>23.2131</td><td>0.480013</td><td>583522.0</td><td>0.239097</td><td>0.255708</td><td>-0.117394</td><td>-0.230841</td><td>0.311649</td><td>0.183434</td><td>-1.02063</td><td>0.666723</td><td>0.895907</td><td>106.63</td><td>105.127</td><td>0.0</td><td>71.7805</td><td>0.0</td><td>0.0449018</td><td>0.0362911</td><td>0.0415031</td><td>inf</td><td>inf</td><td>inf</td><td>nan</td><td>nan</td><td>nan</td><td>0.0</td><td>0.0</td><td>139.262</td><td>-0.00289034</td><td>-0.00107225</td><td>-0.00210853</td><td>1.34315e-09</td><td>-1.18607e-09</td><td>-0.0</td><td>-0.0</td><td>-0.0</td><td>-0.0</td><td>-0.0</td><td>-0.0</td><td>253171</td><td>False</td></tr>\n",
       "<tr><td>2201335448</td><td>2200007489</td><td>79</td><td>14</td><td>1</td><td>596</td><td>626</td><td>3960</td><td>3990</td><td>0.992498</td><td>0.00750252</td><td>1022.25</td><td>1695.11</td><td>2.1559</td><td>23.864</td><td>-0.0594654</td><td>320406.0</td><td>0.947752</td><td>0.96052</td><td>-0.00437057</td><td>0.115594</td><td>1.06453</td><td>0.843784</td><td>0.804294</td><td>1.1339</td><td>0.275706</td><td>28.8788</td><td>28.8192</td><td>0.0</td><td>17.1184</td><td>0.0</td><td>0.0630381</td><td>0.0516595</td><td>0.0531011</td><td>inf</td><td>inf</td><td>inf</td><td>nan</td><td>nan</td><td>nan</td><td>0.0</td><td>0.0</td><td>862.755</td><td>-0.0019528</td><td>-3.21392e-05</td><td>0.00083827</td><td>-3.91436e-07</td><td>-1.6356e-07</td><td>-0.0</td><td>-0.0</td><td>-0.0</td><td>-0.0</td><td>-0.0</td><td>-0.0</td><td>252597</td><td>False</td></tr>\n",
       "<tr><td>2203745327</td><td>2200007489</td><td>79</td><td>18</td><td>1</td><td>677</td><td>690</td><td>4119</td><td>4134</td><td>1.0</td><td>0.0</td><td>1036.84</td><td>1725.43</td><td>1.34052</td><td>25.0352</td><td>0.360394</td><td>108950.0</td><td>0.169118</td><td>0.256407</td><td>-0.496484</td><td>0.383672</td><td>0.353472</td><td>0.080914</td><td>1.24184</td><td>0.664878</td><td>0.999645</td><td>21.1191</td><td>21.0551</td><td>0.0</td><td>14.6814</td><td>0.0</td><td>1.08893</td><td>0.867254</td><td>0.683756</td><td>inf</td><td>inf</td><td>inf</td><td>nan</td><td>nan</td><td>nan</td><td>0.0</td><td>0.0</td><td>748.882</td><td>-1.82156</td><td>-1.87095</td><td>1.44578</td><td>-7.9834e-07</td><td>-8.68483e-07</td><td>-0.0</td><td>-0.0</td><td>-0.0</td><td>-0.0</td><td>-0.0</td><td>-0.0</td><td>254369</td><td>False</td></tr>\n",
       "<tr><td>2203563288</td><td>2200000752</td><td>264</td><td>51</td><td>1</td><td>2744</td><td>2758</td><td>2135</td><td>2149</td><td>1.0</td><td>0.0</td><td>1450.24</td><td>1328.5</td><td>0.734049</td><td>25.156</td><td>0.674387</td><td>97477.6</td><td>0.199236</td><td>0.199899</td><td>0.0575928</td><td>0.00103556</td><td>0.211063</td><td>0.188072</td><td>0.00898939</td><td>0.648227</td><td>0.856161</td><td>18.6654</td><td>18.6162</td><td>0.0</td><td>12.7987</td><td>0.0</td><td>0.268463</td><td>0.26051</td><td>0.257323</td><td>inf</td><td>inf</td><td>inf</td><td>nan</td><td>nan</td><td>nan</td><td>0.0</td><td>0.0</td><td>793.085</td><td>-0.11517</td><td>0.0236762</td><td>0.000424226</td><td>1.27057e-06</td><td>9.28443e-07</td><td>-0.0</td><td>-0.0</td><td>-0.0</td><td>-0.0</td><td>-0.0</td><td>-0.0</td><td>225871</td><td>False</td></tr>\n",
       "<tr><td>2202853040</td><td>2200004113</td><td>224</td><td>56</td><td>1</td><td>2851</td><td>2868</td><td>3290</td><td>3310</td><td>1.0</td><td>0.0</td><td>1471.96</td><td>1560.12</td><td>2.21758</td><td>24.978</td><td>-0.0735931</td><td>114845.0</td><td>0.52107</td><td>0.52511</td><td>-0.0766489</td><td>0.0430007</td><td>0.569067</td><td>0.477121</td><td>1.31517</td><td>0.808851</td><td>0.840405</td><td>15.2922</td><td>15.2687</td><td>0.0</td><td>9.50367</td><td>0.0</td><td>0.148789</td><td>0.130891</td><td>0.129597</td><td>inf</td><td>inf</td><td>inf</td><td>nan</td><td>nan</td><td>nan</td><td>0.0</td><td>0.0</td><td>1229.64</td><td>-0.0164505</td><td>-0.00448294</td><td>0.0025278</td><td>-4.43895e-06</td><td>-6.05991e-06</td><td>-0.0</td><td>-0.0</td><td>-0.0</td><td>-0.0</td><td>-0.0</td><td>-0.0</td><td>242856</td><td>False</td></tr>\n",
       "<tr><td>2200443199</td><td>2200004113</td><td>224</td><td>8</td><td>1</td><td>2839</td><td>2873</td><td>3303</td><td>3331</td><td>0.910136</td><td>0.0898636</td><td>1471.37</td><td>1563.51</td><td>1.14958</td><td>22.8561</td><td>0.315538</td><td>810721.0</td><td>0.690283</td><td>0.707344</td><td>0.137435</td><td>-0.0743121</td><td>0.808055</td><td>0.589675</td><td>-0.247841</td><td>0.931275</td><td>0.967225</td><td>91.2839</td><td>90.5499</td><td>0.0</td><td>53.4646</td><td>0.0</td><td>0.0240818</td><td>0.0198065</td><td>0.0192516</td><td>inf</td><td>inf</td><td>inf</td><td>nan</td><td>nan</td><td>nan</td><td>0.0</td><td>0.0</td><td>233.816</td><td>-0.000312627</td><td>0.000158214</td><td>-8.55158e-05</td><td>7.56744e-09</td><td>5.81038e-09</td><td>-0.0</td><td>-0.0</td><td>-0.0</td><td>-0.0</td><td>-0.0</td><td>-0.0</td><td>243201</td><td>False</td></tr>\n",
       "</table>"
      ],
      "text/plain": [
       "<Table length=50>\n",
       "   db_id        grp_id    grp_size grp_rank ... bias_y_grp match  ambig_blend\n",
       "   int64        int64      int16    int16   ...  float32   int64      bool   \n",
       "------------ ------------ -------- -------- ... ---------- ------ -----------\n",
       "402702901907 402700083686       14        3 ...       -0.0 102121       False\n",
       "402700083686 402700083686       14        0 ...       -0.0 102164       False\n",
       "402701456831 402700005120      190       31 ...       -0.0 103492       False\n",
       "402701021226 402700005120      190       20 ...       -0.0 103064       False\n",
       "402700067540 402700005120      190        2 ...       -0.0 102579       False\n",
       "402702256752 402700005120      190       39 ...       -0.0 102474       False\n",
       "402700111942 402700005120      190        4 ...       -0.0 104197       False\n",
       "402703411689 402700005120      190       56 ...       -0.0 104132       False\n",
       "402701034434 402700005120      190       24 ...       -0.0 104300       False\n",
       "402700407678 402700005120      190       14 ...       -0.0 103947       False\n",
       "         ...          ...      ...      ... ...        ...    ...         ...\n",
       "  2203614635   2200020222       39        7 ...       -0.0 156942       False\n",
       "  2200176962   2200020222       39        2 ...       -0.0 156387       False\n",
       "  2200598010   2200598010        4        0 ...       -0.0 190025       False\n",
       "  2202220617   2200007489       79       13 ...       -0.0 253005       False\n",
       "  2200700550   2200007489       79        9 ...       -0.0 253171       False\n",
       "  2201335448   2200007489       79       14 ...       -0.0 252597       False\n",
       "  2203745327   2200007489       79       18 ...       -0.0 254369       False\n",
       "  2203563288   2200000752      264       51 ...       -0.0 225871       False\n",
       "  2202853040   2200004113      224       56 ...       -0.0 242856       False\n",
       "  2200443199   2200004113      224        8 ...       -0.0 243201       False"
      ]
     },
     "execution_count": 37,
     "metadata": {},
     "output_type": "execute_result"
    }
   ],
   "source": [
    "rare_objs"
   ]
  },
  {
   "cell_type": "markdown",
   "metadata": {},
   "source": [
    "### how can we filter them? "
   ]
  },
  {
   "cell_type": "code",
   "execution_count": 53,
   "metadata": {
    "collapsed": false
   },
   "outputs": [],
   "source": [
    "bad = catalogue[(catalogue['snr_grp'] == 0) & (catalogue['ds_grp'] == inf) ]"
   ]
  },
  {
   "cell_type": "code",
   "execution_count": 55,
   "metadata": {
    "collapsed": false
   },
   "outputs": [
    {
     "data": {
      "text/plain": [
       "(array([  61.,   55.,   58.,   49.,   52.,   54.,   68.,   64.,   79.,  262.]),\n",
       " array([ 0.00226663,  0.10203997,  0.2018133 ,  0.30158664,  0.40135998,\n",
       "         0.50113331,  0.60090665,  0.70067999,  0.80045333,  0.90022666,  1.        ]),\n",
       " <a list of 10 Patch objects>)"
      ]
     },
     "execution_count": 55,
     "metadata": {},
     "output_type": "execute_result"
    },
    {
     "data": {
      "image/png": "[encoded data removed]",
      "text/plain": [
       "<matplotlib.figure.Figure at 0x17788c110>"
      ]
     },
     "metadata": {},
     "output_type": "display_data"
    }
   ],
   "source": [
    "plt.hist(bad['purity'])"
   ]
  },
  {
   "cell_type": "markdown",
   "metadata": {},
   "source": [
    "### how about repeated objects? "
   ]
  },
  {
   "cell_type": "code",
   "execution_count": 8,
   "metadata": {
    "collapsed": false
   },
   "outputs": [],
   "source": [
    "seen = set()\n",
    "duplic = set()\n",
    "a = list(catalogue['db_id'])\n",
    "\n",
    "for x in a:\n",
    "    if x in seen: \n",
    "        duplic.add(x)\n",
    "    if x not in seen:\n",
    "        seen.add(x)\n",
    "        \n",
    "#get duplicated objects\n",
    "l = []\n",
    "for x in list(catalogue['db_id']):\n",
    "    if x in duplic:\n",
    "        l.append(True)\n",
    "    else:\n",
    "        l.append(False)\n",
    "duplic_cat = catalogue[np.array(l)]"
   ]
  },
  {
   "cell_type": "code",
   "execution_count": 96,
   "metadata": {
    "collapsed": false
   },
   "outputs": [
    {
     "name": "stdout",
     "output_type": "stream",
     "text": [
      "3904\n",
      "857153\n",
      "861061\n",
      "duplicated objects are 0.00453 of total objects\n"
     ]
    }
   ],
   "source": [
    "print len(duplic)\n",
    "print len(seen)\n",
    "print len (catalogue)\n",
    "print 'duplicated objects are {0:.3g} of total objects'.format(float(len(duplic))/len(catalogue))"
   ]
  },
  {
   "cell_type": "code",
   "execution_count": 16,
   "metadata": {
    "collapsed": false
   },
   "outputs": [
    {
     "data": {
      "text/html": [
       "&lt;Table length=7812&gt;\n",
       "<table id=\"table4413358480\" class=\"table-striped table-bordered table-condensed\">\n",
       "<thead><tr><th>db_id</th><th>grp_id</th><th>grp_size</th><th>grp_rank</th><th>visible</th><th>xmin</th><th>xmax</th><th>ymin</th><th>ymax</th><th>f_disk</th><th>f_bulge</th><th>dx</th><th>dy</th><th>z</th><th>ab_mag</th><th>ri_color</th><th>flux</th><th>sigma_m</th><th>sigma_p</th><th>e1</th><th>e2</th><th>a</th><th>b</th><th>beta</th><th>psf_sigm</th><th>purity</th><th>snr_sky</th><th>snr_iso</th><th>snr_grp</th><th>snr_isof</th><th>snr_grpf</th><th>ds</th><th>dg1</th><th>dg2</th><th>ds_grp</th><th>dg1_grp</th><th>dg2_grp</th><th>hsm_sigm</th><th>hsm_e1</th><th>hsm_e2</th><th>g1_fit</th><th>g2_fit</th><th>bias_f</th><th>bias_s</th><th>bias_g1</th><th>bias_g2</th><th>bias_x</th><th>bias_y</th><th>bias_f_grp</th><th>bias_s_grp</th><th>bias_g1_grp</th><th>bias_g2_grp</th><th>bias_x_grp</th><th>bias_y_grp</th><th>match</th><th>ambig_blend</th></tr></thead>\n",
       "<thead><tr><th>int64</th><th>int64</th><th>int16</th><th>int16</th><th>int16</th><th>int32</th><th>int32</th><th>int32</th><th>int32</th><th>float32</th><th>float32</th><th>float32</th><th>float32</th><th>float32</th><th>float32</th><th>float32</th><th>float32</th><th>float32</th><th>float32</th><th>float32</th><th>float32</th><th>float32</th><th>float32</th><th>float32</th><th>float32</th><th>float32</th><th>float32</th><th>float32</th><th>float32</th><th>float32</th><th>float32</th><th>float32</th><th>float32</th><th>float32</th><th>float32</th><th>float32</th><th>float32</th><th>float32</th><th>float32</th><th>float32</th><th>float32</th><th>float32</th><th>float32</th><th>float32</th><th>float32</th><th>float32</th><th>float32</th><th>float32</th><th>float32</th><th>float32</th><th>float32</th><th>float32</th><th>float32</th><th>float32</th><th>int64</th><th>bool</th></tr></thead>\n",
       "<tr><td>2200000555</td><td>2200000240</td><td>214</td><td>1</td><td>1</td><td>4361</td><td>4603</td><td>2756</td><td>3056</td><td>0.685356</td><td>0.314644</td><td>896.49</td><td>-1218.74</td><td>0.0846037</td><td>16.2328</td><td>0.42177</td><td>3.61558e+08</td><td>1.56803</td><td>1.78441</td><td>-0.344582</td><td>-0.0990926</td><td>2.28197</td><td>1.07745</td><td>-1.43079</td><td>1.71305</td><td>0.999973</td><td>25808.9</td><td>13395.5</td><td>13395.5</td><td>10456.4</td><td>9947.8</td><td>0.000127305</td><td>9.3756e-05</td><td>5.98466e-05</td><td>0.000133791</td><td>9.84812e-05</td><td>6.11835e-05</td><td>nan</td><td>nan</td><td>nan</td><td>0.0</td><td>2.98023e-09</td><td>1.60805</td><td>-9.13683e-09</td><td>-1.06858e-08</td><td>-3.07598e-09</td><td>-5.8437e-15</td><td>2.90509e-14</td><td>-3845.08</td><td>-1.27356e-05</td><td>-5.37742e-06</td><td>4.0166e-06</td><td>-4.22122e-06</td><td>4.1591e-06</td><td>-1</td><td>False</td></tr>\n",
       "<tr><td>2200133472</td><td>2200000240</td><td>214</td><td>4</td><td>0</td><td>4472</td><td>4542</td><td>2778</td><td>2846</td><td>0.0341236</td><td>0.965876</td><td>901.44</td><td>-1237.5</td><td>0.841913</td><td>21.212</td><td>0.921425</td><td>3.6854e+06</td><td>0.718168</td><td>0.719633</td><td>0.0353748</td><td>-0.0280495</td><td>0.751356</td><td>0.686446</td><td>-0.335206</td><td>0.94706</td><td>0.930126</td><td>385.68</td><td>370.569</td><td>370.111</td><td>140.899</td><td>92.8762</td><td>0.013528</td><td>0.00703134</td><td>0.00702242</td><td>0.0186151</td><td>0.00745401</td><td>0.00739041</td><td>nan</td><td>nan</td><td>nan</td><td>-0.000201579</td><td>-0.000403345</td><td>111.188</td><td>4.95118e-06</td><td>2.07356e-06</td><td>-1.64453e-06</td><td>-1.89575e-10</td><td>-9.1206e-11</td><td>-369.62</td><td>-0.000349044</td><td>0.000164281</td><td>-0.000280067</td><td>2.05199e-05</td><td>-1.2707e-06</td><td>-1</td><td>False</td></tr>\n",
       "<tr><td>2200176687</td><td>2200000240</td><td>214</td><td>9</td><td>0</td><td>4491</td><td>4543</td><td>2761</td><td>2859</td><td>0.887798</td><td>0.112202</td><td>903.525</td><td>-1237.86</td><td>1.22365</td><td>21.6915</td><td>0.146694</td><td>2.36964e+06</td><td>2.14054</td><td>2.46223</td><td>-0.325236</td><td>0.182552</td><td>3.16743</td><td>1.44657</td><td>1.31506</td><td>2.25263</td><td>0.597374</td><td>123.23</td><td>122.432</td><td>122.176</td><td>59.6073</td><td>45.5208</td><td>0.018067</td><td>0.0118822</td><td>0.0103924</td><td>0.021186</td><td>0.0139083</td><td>0.0110996</td><td>nan</td><td>nan</td><td>nan</td><td>0.0</td><td>2.98023e-09</td><td>582.381</td><td>6.36947e-05</td><td>-0.00010132</td><td>5.68974e-05</td><td>1.23659e-09</td><td>9.43483e-10</td><td>-561.055</td><td>-0.000546669</td><td>-0.000675405</td><td>-0.000188619</td><td>0.000137896</td><td>0.000141806</td><td>-1</td><td>False</td></tr>\n",
       "<tr><td>2200418192</td><td>2200000240</td><td>214</td><td>6</td><td>0</td><td>4498</td><td>4529</td><td>3006</td><td>3030</td><td>1.0</td><td>0.0</td><td>902.829</td><td>-1196.29</td><td>0.418</td><td>22.3177</td><td>0.347864</td><td>1.33116e+06</td><td>0.407183</td><td>0.486704</td><td>0.411513</td><td>-0.0847523</td><td>0.637234</td><td>0.260184</td><td>-0.101556</td><td>0.770391</td><td>0.992564</td><td>201.132</td><td>196.729</td><td>196.707</td><td>129.294</td><td>129.279</td><td>0.0171324</td><td>0.0157278</td><td>0.0100623</td><td>0.0171344</td><td>0.0157296</td><td>0.0100634</td><td>nan</td><td>nan</td><td>nan</td><td>0.000450526</td><td>-0.000775929</td><td>81.9046</td><td>-0.000322996</td><td>0.000359622</td><td>-7.40703e-05</td><td>6.70732e-12</td><td>-1.10777e-11</td><td>81.3664</td><td>-0.000323697</td><td>0.000358983</td><td>-7.38023e-05</td><td>8.10165e-08</td><td>-1.48532e-08</td><td>-1</td><td>False</td></tr>\n",
       "<tr><td>2201146821</td><td>2200000240</td><td>214</td><td>14</td><td>1</td><td>4474</td><td>4499</td><td>2839</td><td>2863</td><td>0.982529</td><td>0.0174709</td><td>897.438</td><td>-1229.7</td><td>0.743806</td><td>23.5378</td><td>0.887672</td><td>432709.0</td><td>0.589359</td><td>0.5899</td><td>0.0300565</td><td>0.00391684</td><td>0.607502</td><td>0.571758</td><td>0.0647929</td><td>0.853195</td><td>0.605723</td><td>53.8603</td><td>53.585</td><td>53.4733</td><td>32.8866</td><td>15.9387</td><td>0.0404889</td><td>0.0350374</td><td>0.0349654</td><td>0.0652371</td><td>0.0458225</td><td>0.0472989</td><td>nan</td><td>nan</td><td>nan</td><td>0.0145342</td><td>0.0121157</td><td>350.618</td><td>-0.00111057</td><td>0.000118709</td><td>1.52981e-05</td><td>4.16489e-08</td><td>-1.02934e-08</td><td>-7.5989</td><td>-0.00295925</td><td>0.000404165</td><td>0.000801905</td><td>0.000323369</td><td>-0.000245755</td><td>-1</td><td>False</td></tr>\n",
       "<tr><td>2202263350</td><td>2200000240</td><td>214</td><td>40</td><td>0</td><td>4499</td><td>4518</td><td>2859</td><td>2880</td><td>0.332074</td><td>0.667926</td><td>901.795</td><td>-1226.04</td><td>1.26623</td><td>24.7199</td><td>1.29729</td><td>145655.0</td><td>0.450242</td><td>0.453709</td><td>-0.0672375</td><td>-0.0561138</td><td>0.491562</td><td>0.412396</td><td>-1.22307</td><td>0.764868</td><td>0.416668</td><td>20.1443</td><td>20.0944</td><td>20.0514</td><td>9.27937</td><td>8.84125</td><td>0.263867</td><td>0.174313</td><td>0.167814</td><td>0.279018</td><td>0.185892</td><td>0.171928</td><td>nan</td><td>nan</td><td>nan</td><td>0.0149556</td><td>-0.00250178</td><td>700.946</td><td>-0.0321266</td><td>-0.0205007</td><td>-0.0170899</td><td>1.32289e-07</td><td>-2.39431e-07</td><td>52.4563</td><td>-0.0464674</td><td>-0.0337146</td><td>-0.0210778</td><td>0.000846301</td><td>-6.67476e-05</td><td>-1</td><td>False</td></tr>\n",
       "<tr><td>2202370755</td><td>2200000240</td><td>214</td><td>33</td><td>0</td><td>4491</td><td>4511</td><td>2751</td><td>2772</td><td>0.268081</td><td>0.731919</td><td>900.334</td><td>-1247.63</td><td>2.19791</td><td>24.6151</td><td>-0.045927</td><td>160423.0</td><td>0.355292</td><td>0.355996</td><td>-0.00519601</td><td>0.0441886</td><td>0.371467</td><td>0.33982</td><td>0.843923</td><td>0.71195</td><td>0.933425</td><td>24.4478</td><td>24.3668</td><td>24.3643</td><td>8.46094</td><td>6.24966</td><td>0.409123</td><td>0.199979</td><td>0.209556</td><td>0.529302</td><td>0.231632</td><td>0.268653</td><td>nan</td><td>nan</td><td>nan</td><td>0.0</td><td>2.98023e-09</td><td>2009.56</td><td>0.0119805</td><td>-0.000282781</td><td>0.00213716</td><td>3.69741e-07</td><td>-2.92149e-07</td><td>178.222</td><td>-0.0162194</td><td>0.016062</td><td>0.00551792</td><td>-0.00123424</td><td>0.00447176</td><td>-1</td><td>False</td></tr>\n",
       "<tr><td>2202577636</td><td>2200000240</td><td>214</td><td>62</td><td>1</td><td>4480</td><td>4506</td><td>2832</td><td>2859</td><td>0.00492403</td><td>0.995076</td><td>898.644</td><td>-1230.85</td><td>3.21193</td><td>24.7164</td><td>0.034338</td><td>146134.0</td><td>1.07938</td><td>1.08006</td><td>-0.0246392</td><td>0.00422055</td><td>1.10671</td><td>1.05273</td><td>1.48597</td><td>1.24326</td><td>0.257325</td><td>12.1274</td><td>12.1128</td><td>12.0916</td><td>3.94195</td><td>2.75463</td><td>0.417833</td><td>0.200872</td><td>0.200547</td><td>0.523718</td><td>0.23892</td><td>0.232497</td><td>nan</td><td>nan</td><td>nan</td><td>0.0</td><td>0.0</td><td>5676.35</td><td>0.0216336</td><td>-0.00255336</td><td>0.000447037</td><td>1.38346e-06</td><td>-3.26763e-08</td><td>9443.12</td><td>0.0286777</td><td>-0.00649898</td><td>0.0123498</td><td>-0.00191055</td><td>0.00236385</td><td>40225</td><td>False</td></tr>\n",
       "<tr><td>2203081831</td><td>2200000240</td><td>214</td><td>36</td><td>0</td><td>4496</td><td>4512</td><td>3082</td><td>3097</td><td>0.995475</td><td>0.00452518</td><td>900.945</td><td>-1181.99</td><td>1.49881</td><td>24.8898</td><td>0.316254</td><td>124560.0</td><td>0.251245</td><td>0.284239</td><td>0.183293</td><td>0.298608</td><td>0.362238</td><td>0.174261</td><td>0.510137</td><td>0.676971</td><td>0.980322</td><td>22.3891</td><td>22.3225</td><td>22.3221</td><td>15.0557</td><td>10.701</td><td>0.230689</td><td>0.170689</td><td>0.2043</td><td>0.253613</td><td>0.188822</td><td>0.220402</td><td>nan</td><td>nan</td><td>nan</td><td>0.0</td><td>2.98023e-09</td><td>683.338</td><td>-0.0740766</td><td>0.0395883</td><td>0.0644985</td><td>1.18548e-06</td><td>7.56086e-07</td><td>-1644.57</td><td>-0.113613</td><td>0.0287712</td><td>0.051436</td><td>0.00914778</td><td>0.00472643</td><td>-1</td><td>False</td></tr>\n",
       "<tr><td>2204258325</td><td>2200000240</td><td>214</td><td>48</td><td>0</td><td>4494</td><td>4507</td><td>3070</td><td>3083</td><td>1.0</td><td>0.0</td><td>900.172</td><td>-1184.52</td><td>0.701778</td><td>25.2958</td><td>1.07146</td><td>85696.0</td><td>0.165702</td><td>0.188657</td><td>-0.0969204</td><td>-0.345867</td><td>0.241325</td><td>0.113776</td><td>-0.922007</td><td>0.64439</td><td>0.981988</td><td>16.8878</td><td>16.8462</td><td>16.846</td><td>11.7592</td><td>9.04416</td><td>0.556376</td><td>0.349005</td><td>0.537552</td><td>0.583162</td><td>0.377577</td><td>0.577007</td><td>nan</td><td>nan</td><td>nan</td><td>0.0</td><td>2.98023e-09</td><td>893.752</td><td>-0.510677</td><td>-0.144224</td><td>-0.514734</td><td>-4.92504e-07</td><td>2.15581e-06</td><td>-1203.98</td><td>-0.629464</td><td>-0.170245</td><td>-0.447809</td><td>0.00884517</td><td>-0.0091685</td><td>-1</td><td>False</td></tr>\n",
       "<tr><td>...</td><td>...</td><td>...</td><td>...</td><td>...</td><td>...</td><td>...</td><td>...</td><td>...</td><td>...</td><td>...</td><td>...</td><td>...</td><td>...</td><td>...</td><td>...</td><td>...</td><td>...</td><td>...</td><td>...</td><td>...</td><td>...</td><td>...</td><td>...</td><td>...</td><td>...</td><td>...</td><td>...</td><td>...</td><td>...</td><td>...</td><td>...</td><td>...</td><td>...</td><td>...</td><td>...</td><td>...</td><td>...</td><td>...</td><td>...</td><td>...</td><td>...</td><td>...</td><td>...</td><td>...</td><td>...</td><td>...</td><td>...</td><td>...</td><td>...</td><td>...</td><td>...</td><td>...</td><td>...</td><td>...</td><td>...</td></tr>\n",
       "<tr><td>402717179472</td><td>402717179472</td><td>1</td><td>0</td><td>0</td><td>2242</td><td>2248</td><td>-9</td><td>0</td><td>1.0</td><td>0.0</td><td>-1350.91</td><td>-0.797028</td><td>2.50128</td><td>28.031</td><td>-0.0994167</td><td>6900.48</td><td>0.407306</td><td>0.447467</td><td>-0.292573</td><td>0.0903407</td><td>0.55887</td><td>0.296846</td><td>1.42105</td><td>0.754693</td><td>1.0</td><td>1.01067</td><td>1.01054</td><td>1.01054</td><td>0.452003</td><td>0.452003</td><td>4.28065</td><td>3.54667</td><td>2.76717</td><td>4.28065</td><td>3.54667</td><td>2.76717</td><td>nan</td><td>nan</td><td>nan</td><td>0.0</td><td>0.0</td><td>64048.3</td><td>-5.32162</td><td>-11.3407</td><td>3.45439</td><td>-0.00888966</td><td>0.105276</td><td>64048.3</td><td>-5.32162</td><td>-11.3407</td><td>3.45439</td><td>-0.00888966</td><td>0.105276</td><td>-1</td><td>False</td></tr>\n",
       "<tr><td>402717179472</td><td>402717179472</td><td>1</td><td>0</td><td>1</td><td>2242</td><td>2248</td><td>4491</td><td>4500</td><td>1.0</td><td>0.0</td><td>-1350.91</td><td>-0.797028</td><td>2.50128</td><td>28.031</td><td>-0.0994167</td><td>6900.48</td><td>0.407306</td><td>0.447467</td><td>-0.292573</td><td>0.0903407</td><td>0.55887</td><td>0.296846</td><td>1.42105</td><td>0.754693</td><td>1.0</td><td>1.01067</td><td>1.01054</td><td>1.01054</td><td>0.452003</td><td>0.452003</td><td>4.28065</td><td>3.54667</td><td>2.76717</td><td>4.28065</td><td>3.54667</td><td>2.76717</td><td>nan</td><td>nan</td><td>nan</td><td>0.0</td><td>0.0</td><td>64048.3</td><td>-5.32162</td><td>-11.3407</td><td>3.45439</td><td>-0.00888966</td><td>0.105276</td><td>64048.3</td><td>-5.32162</td><td>-11.3407</td><td>3.45439</td><td>-0.00888966</td><td>0.105276</td><td>-1</td><td>False</td></tr>\n",
       "<tr><td>402717187119</td><td>402717187119</td><td>1</td><td>0</td><td>0</td><td>2180</td><td>2187</td><td>4497</td><td>4505</td><td>1.0</td><td>0.0</td><td>-1363.23</td><td>900.286</td><td>3.43409</td><td>28.0256</td><td>-0.0352249</td><td>6935.18</td><td>0.234058</td><td>0.234608</td><td>-0.0470034</td><td>0.0117874</td><td>0.245689</td><td>0.222978</td><td>1.44794</td><td>0.659752</td><td>1.0</td><td>1.26208</td><td>1.26185</td><td>1.26185</td><td>0.725906</td><td>0.725906</td><td>3.98244</td><td>3.56817</td><td>3.56706</td><td>3.98244</td><td>3.56817</td><td>3.56706</td><td>nan</td><td>nan</td><td>nan</td><td>0.0</td><td>0.0</td><td>26841.5</td><td>-15.3481</td><td>-3.27385</td><td>0.866535</td><td>0.00360013</td><td>0.00148284</td><td>26841.5</td><td>-15.3481</td><td>-3.27385</td><td>0.866535</td><td>0.00360013</td><td>0.00148284</td><td>-1</td><td>False</td></tr>\n",
       "<tr><td>402717187119</td><td>402717187119</td><td>1</td><td>0</td><td>1</td><td>2180</td><td>2187</td><td>-3</td><td>5</td><td>1.0</td><td>0.0</td><td>-1363.23</td><td>900.286</td><td>3.43409</td><td>28.0256</td><td>-0.0352249</td><td>6935.18</td><td>0.234058</td><td>0.234608</td><td>-0.0470034</td><td>0.0117874</td><td>0.245689</td><td>0.222978</td><td>1.44794</td><td>0.659752</td><td>1.0</td><td>1.26207</td><td>1.26185</td><td>1.26185</td><td>0.725905</td><td>0.725905</td><td>3.98244</td><td>3.56814</td><td>3.5671</td><td>3.98244</td><td>3.56814</td><td>3.5671</td><td>nan</td><td>nan</td><td>nan</td><td>0.0</td><td>0.0</td><td>26840.8</td><td>-15.3485</td><td>-3.27397</td><td>0.866714</td><td>0.00401438</td><td>0.00148864</td><td>26840.8</td><td>-15.3485</td><td>-3.27397</td><td>0.866714</td><td>0.00401438</td><td>0.00148864</td><td>194543</td><td>False</td></tr>\n",
       "<tr><td>402717245516</td><td>402717245516</td><td>1</td><td>0</td><td>1</td><td>1048</td><td>1054</td><td>-1</td><td>6</td><td>1.0</td><td>0.0</td><td>-1589.74</td><td>900.592</td><td>2.68495</td><td>28.0678</td><td>-0.0850067</td><td>6670.89</td><td>0.140204</td><td>0.143063</td><td>-0.117252</td><td>-0.0802113</td><td>0.161763</td><td>0.121519</td><td>-1.27081</td><td>0.633001</td><td>1.0</td><td>1.33876</td><td>1.33849</td><td>1.33849</td><td>0.83771</td><td>0.83771</td><td>7.25471</td><td>6.7537</td><td>6.4971</td><td>7.25471</td><td>6.7537</td><td>6.4971</td><td>nan</td><td>nan</td><td>nan</td><td>0.0</td><td>0.0</td><td>22762.7</td><td>-83.7592</td><td>-38.4452</td><td>-24.8681</td><td>-0.026767</td><td>-0.0102184</td><td>22762.7</td><td>-83.7592</td><td>-38.4452</td><td>-24.8681</td><td>-0.026767</td><td>-0.0102184</td><td>-1</td><td>False</td></tr>\n",
       "<tr><td>402717245516</td><td>402717245516</td><td>1</td><td>0</td><td>0</td><td>1047</td><td>1054</td><td>4499</td><td>4506</td><td>1.0</td><td>0.0</td><td>-1589.74</td><td>900.592</td><td>2.68495</td><td>28.0678</td><td>-0.0850067</td><td>6670.89</td><td>0.140204</td><td>0.143063</td><td>-0.117252</td><td>-0.0802113</td><td>0.161763</td><td>0.121519</td><td>-1.27081</td><td>0.633001</td><td>1.0</td><td>1.34062</td><td>1.34034</td><td>1.34034</td><td>0.849929</td><td>0.849929</td><td>7.09797</td><td>6.57222</td><td>6.48424</td><td>7.09797</td><td>6.57222</td><td>6.48424</td><td>nan</td><td>nan</td><td>nan</td><td>0.0</td><td>0.0</td><td>21452.6</td><td>-81.8599</td><td>-35.6313</td><td>-24.2132</td><td>0.0137846</td><td>-0.0104986</td><td>21452.6</td><td>-81.8599</td><td>-35.6313</td><td>-24.2132</td><td>0.0137846</td><td>-0.0104986</td><td>-1</td><td>False</td></tr>\n",
       "<tr><td>402717247276</td><td>402717247276</td><td>1</td><td>0</td><td>0</td><td>-5</td><td>2</td><td>1616</td><td>1623</td><td>1.0</td><td>0.0</td><td>-900.195</td><td>-1475.99</td><td>2.47326</td><td>28.0868</td><td>-0.468475</td><td>6554.98</td><td>0.0534655</td><td>0.0779846</td><td>-0.540664</td><td>-0.26114</td><td>0.107002</td><td>0.0267149</td><td>-1.34582</td><td>0.621537</td><td>1.0</td><td>1.39797</td><td>1.39765</td><td>1.39765</td><td>0.959043</td><td>0.959043</td><td>133.469</td><td>120.568</td><td>61.7062</td><td>133.469</td><td>120.568</td><td>61.7062</td><td>nan</td><td>nan</td><td>nan</td><td>0.0</td><td>0.0</td><td>15097.8</td><td>-28812.6</td><td>-33382.5</td><td>-16107.8</td><td>0.0252213</td><td>-0.0216265</td><td>15097.8</td><td>-28812.6</td><td>-33382.5</td><td>-16107.8</td><td>0.0252213</td><td>-0.0216265</td><td>-1</td><td>False</td></tr>\n",
       "<tr><td>402717247276</td><td>402717247276</td><td>1</td><td>0</td><td>1</td><td>4495</td><td>4502</td><td>1616</td><td>1623</td><td>1.0</td><td>0.0</td><td>-900.214</td><td>-1475.99</td><td>2.47326</td><td>28.0868</td><td>-0.468475</td><td>6554.98</td><td>0.0534655</td><td>0.0779846</td><td>-0.540664</td><td>-0.26114</td><td>0.107002</td><td>0.0267149</td><td>-1.34582</td><td>0.621537</td><td>1.0</td><td>1.39798</td><td>1.39766</td><td>1.39766</td><td>0.958754</td><td>0.958754</td><td>132.869</td><td>119.803</td><td>61.8569</td><td>132.869</td><td>119.803</td><td>61.8569</td><td>nan</td><td>nan</td><td>nan</td><td>0.0</td><td>0.0</td><td>15856.0</td><td>-28574.5</td><td>-33058.9</td><td>-16043.3</td><td>-0.0108141</td><td>-0.0277265</td><td>15856.0</td><td>-28574.5</td><td>-33058.9</td><td>-16043.3</td><td>-0.0108141</td><td>-0.0277265</td><td>-1</td><td>False</td></tr>\n",
       "<tr><td>402717257084</td><td>402717257084</td><td>1</td><td>0</td><td>1</td><td>1065</td><td>1073</td><td>-3</td><td>4</td><td>1.0</td><td>0.0</td><td>-1586.14</td><td>900.193</td><td>2.42722</td><td>28.0789</td><td>-0.10099</td><td>6602.76</td><td>0.227978</td><td>0.243245</td><td>0.249997</td><td>0.0472425</td><td>0.295711</td><td>0.175759</td><td>0.0933848</td><td>0.66221</td><td>1.0</td><td>1.20668</td><td>1.20648</td><td>1.20648</td><td>0.701244</td><td>0.701244</td><td>4.90058</td><td>4.44989</td><td>3.66473</td><td>4.90058</td><td>4.44989</td><td>3.66473</td><td>nan</td><td>nan</td><td>nan</td><td>0.0</td><td>0.0</td><td>27693.4</td><td>-26.019</td><td>23.8608</td><td>4.54367</td><td>-0.00674037</td><td>0.0111343</td><td>27693.4</td><td>-26.019</td><td>23.8608</td><td>4.54367</td><td>-0.00674037</td><td>0.0111343</td><td>-1</td><td>False</td></tr>\n",
       "<tr><td>402717257084</td><td>402717257084</td><td>1</td><td>0</td><td>0</td><td>1065</td><td>1073</td><td>4497</td><td>4504</td><td>1.0</td><td>0.0</td><td>-1586.15</td><td>900.193</td><td>2.42722</td><td>28.0789</td><td>-0.10099</td><td>6602.76</td><td>0.227978</td><td>0.243245</td><td>0.249997</td><td>0.0472425</td><td>0.295711</td><td>0.175759</td><td>0.0933848</td><td>0.66221</td><td>1.0</td><td>1.20567</td><td>1.20546</td><td>1.20546</td><td>0.694806</td><td>0.694806</td><td>4.94642</td><td>4.45239</td><td>3.72258</td><td>4.94642</td><td>4.45239</td><td>3.72258</td><td>nan</td><td>nan</td><td>nan</td><td>0.0</td><td>0.0</td><td>28526.1</td><td>-26.2041</td><td>24.1385</td><td>4.85397</td><td>0.00945974</td><td>-0.00697875</td><td>28526.1</td><td>-26.2041</td><td>24.1385</td><td>4.85397</td><td>0.00945974</td><td>-0.00697875</td><td>-1</td><td>False</td></tr>\n",
       "</table>"
      ],
      "text/plain": [
       "<Table length=7812>\n",
       "   db_id        grp_id    grp_size grp_rank ...  bias_y_grp  match  ambig_blend\n",
       "   int64        int64      int16    int16   ...   float32    int64      bool   \n",
       "------------ ------------ -------- -------- ... ------------ ------ -----------\n",
       "  2200000555   2200000240      214        1 ...   4.1591e-06     -1       False\n",
       "  2200133472   2200000240      214        4 ...  -1.2707e-06     -1       False\n",
       "  2200176687   2200000240      214        9 ...  0.000141806     -1       False\n",
       "  2200418192   2200000240      214        6 ... -1.48532e-08     -1       False\n",
       "  2201146821   2200000240      214       14 ... -0.000245755     -1       False\n",
       "  2202263350   2200000240      214       40 ... -6.67476e-05     -1       False\n",
       "  2202370755   2200000240      214       33 ...   0.00447176     -1       False\n",
       "  2202577636   2200000240      214       62 ...   0.00236385  40225       False\n",
       "  2203081831   2200000240      214       36 ...   0.00472643     -1       False\n",
       "  2204258325   2200000240      214       48 ...   -0.0091685     -1       False\n",
       "         ...          ...      ...      ... ...          ...    ...         ...\n",
       "402717179472 402717179472        1        0 ...     0.105276     -1       False\n",
       "402717179472 402717179472        1        0 ...     0.105276     -1       False\n",
       "402717187119 402717187119        1        0 ...   0.00148284     -1       False\n",
       "402717187119 402717187119        1        0 ...   0.00148864 194543       False\n",
       "402717245516 402717245516        1        0 ...   -0.0102184     -1       False\n",
       "402717245516 402717245516        1        0 ...   -0.0104986     -1       False\n",
       "402717247276 402717247276        1        0 ...   -0.0216265     -1       False\n",
       "402717247276 402717247276        1        0 ...   -0.0277265     -1       False\n",
       "402717257084 402717257084        1        0 ...    0.0111343     -1       False\n",
       "402717257084 402717257084        1        0 ...  -0.00697875     -1       False"
      ]
     },
     "execution_count": 16,
     "metadata": {},
     "output_type": "execute_result"
    }
   ],
   "source": [
    "duplic_cat.sort(['grp_id', 'db_id'])\n",
    "duplic_cat"
   ]
  },
  {
   "cell_type": "markdown",
   "metadata": {},
   "source": [
    "### example of duplicated galaxy"
   ]
  },
  {
   "cell_type": "code",
   "execution_count": 11,
   "metadata": {
    "collapsed": false
   },
   "outputs": [
    {
     "data": {
      "text/html": [
       "&lt;Table length=2&gt;\n",
       "<table id=\"table4413218576\" class=\"table-striped table-bordered table-condensed\">\n",
       "<thead><tr><th>db_id</th><th>grp_id</th><th>grp_size</th><th>grp_rank</th><th>visible</th><th>xmin</th><th>xmax</th><th>ymin</th><th>ymax</th><th>f_disk</th><th>f_bulge</th><th>dx</th><th>dy</th><th>z</th><th>ab_mag</th><th>ri_color</th><th>flux</th><th>sigma_m</th><th>sigma_p</th><th>e1</th><th>e2</th><th>a</th><th>b</th><th>beta</th><th>psf_sigm</th><th>purity</th><th>snr_sky</th><th>snr_iso</th><th>snr_grp</th><th>snr_isof</th><th>snr_grpf</th><th>ds</th><th>dg1</th><th>dg2</th><th>ds_grp</th><th>dg1_grp</th><th>dg2_grp</th><th>hsm_sigm</th><th>hsm_e1</th><th>hsm_e2</th><th>g1_fit</th><th>g2_fit</th><th>bias_f</th><th>bias_s</th><th>bias_g1</th><th>bias_g2</th><th>bias_x</th><th>bias_y</th><th>bias_f_grp</th><th>bias_s_grp</th><th>bias_g1_grp</th><th>bias_g2_grp</th><th>bias_x_grp</th><th>bias_y_grp</th><th>match</th><th>ambig_blend</th></tr></thead>\n",
       "<thead><tr><th>int64</th><th>int64</th><th>int16</th><th>int16</th><th>int16</th><th>int32</th><th>int32</th><th>int32</th><th>int32</th><th>float32</th><th>float32</th><th>float32</th><th>float32</th><th>float32</th><th>float32</th><th>float32</th><th>float32</th><th>float32</th><th>float32</th><th>float32</th><th>float32</th><th>float32</th><th>float32</th><th>float32</th><th>float32</th><th>float32</th><th>float32</th><th>float32</th><th>float32</th><th>float32</th><th>float32</th><th>float32</th><th>float32</th><th>float32</th><th>float32</th><th>float32</th><th>float32</th><th>float32</th><th>float32</th><th>float32</th><th>float32</th><th>float32</th><th>float32</th><th>float32</th><th>float32</th><th>float32</th><th>float32</th><th>float32</th><th>float32</th><th>float32</th><th>float32</th><th>float32</th><th>float32</th><th>float32</th><th>int64</th><th>bool</th></tr></thead>\n",
       "<tr><td>2217027085</td><td>2217027085</td><td>1</td><td>0</td><td>1</td><td>2101</td><td>2108</td><td>4493</td><td>4500</td><td>1.0</td><td>0.0</td><td>1321.0</td><td>899.363</td><td>1.48348</td><td>27.9549</td><td>0.0440884</td><td>7401.95</td><td>0.219337</td><td>0.22021</td><td>0.00301493</td><td>-0.0629388</td><td>0.233622</td><td>0.205926</td><td>-0.761465</td><td>0.654762</td><td>1.0</td><td>1.37058</td><td>1.37032</td><td>1.37032</td><td>0.802957</td><td>0.802957</td><td>3.90224</td><td>3.49695</td><td>3.53842</td><td>3.90224</td><td>3.49695</td><td>3.53842</td><td>nan</td><td>nan</td><td>nan</td><td>0.0</td><td>0.0</td><td>23858.3</td><td>-16.1125</td><td>0.231926</td><td>-4.42353</td><td>-0.0248522</td><td>-0.0230392</td><td>23858.3</td><td>-16.1125</td><td>0.231926</td><td>-4.42353</td><td>-0.0248522</td><td>-0.0230392</td><td>-1</td><td>False</td></tr>\n",
       "<tr><td>2217027085</td><td>2217027085</td><td>1</td><td>0</td><td>0</td><td>2101</td><td>2108</td><td>-7</td><td>0</td><td>1.0</td><td>0.0</td><td>1321.0</td><td>899.363</td><td>1.48348</td><td>27.9549</td><td>0.0440884</td><td>7401.95</td><td>0.219337</td><td>0.22021</td><td>0.00301493</td><td>-0.0629388</td><td>0.233622</td><td>0.205926</td><td>-0.761465</td><td>0.654762</td><td>1.0</td><td>1.37059</td><td>1.37032</td><td>1.37032</td><td>0.802982</td><td>0.802982</td><td>3.90214</td><td>3.49693</td><td>3.53827</td><td>3.90214</td><td>3.49693</td><td>3.53827</td><td>nan</td><td>nan</td><td>nan</td><td>0.0</td><td>0.0</td><td>23856.8</td><td>-16.1115</td><td>0.231886</td><td>-4.4234</td><td>-0.0241406</td><td>-0.0229965</td><td>23856.8</td><td>-16.1115</td><td>0.231886</td><td>-4.4234</td><td>-0.0241406</td><td>-0.0229965</td><td>194185</td><td>False</td></tr>\n",
       "</table>"
      ],
      "text/plain": [
       "<Table length=2>\n",
       "  db_id      grp_id   grp_size grp_rank ... bias_y_grp match  ambig_blend\n",
       "  int64      int64     int16    int16   ...  float32   int64      bool   \n",
       "---------- ---------- -------- -------- ... ---------- ------ -----------\n",
       "2217027085 2217027085        1        0 ... -0.0230392     -1       False\n",
       "2217027085 2217027085        1        0 ... -0.0229965 194185       False"
      ]
     },
     "execution_count": 11,
     "metadata": {},
     "output_type": "execute_result"
    }
   ],
   "source": [
    "duplic_cat[duplic_cat['db_id'] == 2217027085]"
   ]
  },
  {
   "cell_type": "code",
   "execution_count": 9,
   "metadata": {
    "collapsed": true
   },
   "outputs": [],
   "source": [
    "#obtain all non-duplicates and between duplicates choose the one that is matched or not ambiguously blended. \n",
    "def get_non_duplicated_cat(cat):\n",
    "    #get non-duplicated and duplicated objects\n",
    "    seen = set()\n",
    "    duplic = set()\n",
    "    a = list(catalogue['db_id'])\n",
    "\n",
    "    for x in a:\n",
    "        if x in seen: \n",
    "            duplic.add(x)\n",
    "        if x not in seen:\n",
    "            seen.add(x)\n",
    "\n",
    "    #get duplicated objects\n",
    "    duplic_bool = []\n",
    "    non_duplic_bool = []\n",
    "    for x in list(catalogue['db_id']):\n",
    "        if x in duplic:\n",
    "            duplic_bool.append(True)\n",
    "            non_duplic_bool.append(False)\n",
    "        else:\n",
    "            duplic_bool.append(False)\n",
    "            non_duplic_bool.append(True)\n",
    "            \n",
    "    duplic_cat = catalogue[np.array(duplic_bool)]\n",
    "    non_duplic_cat = catalogue[np.array(non_duplic_bool)]  #decided to just remove duplicated \n",
    "    \n",
    "    return non_duplic_cat\n",
    "    \n",
    "#     #add certain objects from the duplicated catalogue\n",
    "#     #add row if it is a match or not ambiguously blended object.\n",
    "    \n",
    "#     selected_duplic_bool = []\n",
    "    \n",
    "#     #keep track of ids that were looked at with a dictionary to indicate a given id was already selected.\n",
    "#     track = {} \n",
    "#     for row in duplic_cat:\n",
    "#         if row['match'] != -1:\n",
    "#             selected_duplic_bool.append(True)\n",
    "#             track[row['db_id']] = 1\n",
    "            \n",
    "#         elif row['ambig_blend'] == False:\n",
    "#             selected_duplic_bool.append(True)\n",
    "#             track[row['db_id']] = 1\n",
    "            \n",
    "#         #otherwise just add whichever once we looked at both duplicated rows\n",
    "#         if row['db_id'] not in track:\n",
    "#             track[row['db_id']] = 0\n",
    "#             selected_duplic_bool.append(False)\n",
    "#         else:\n",
    "#             selected_duplic_bool.append(True)\n",
    "    \n",
    "#     selected_duplics = duplic_cat[np.array(selected_duplic_bool)]\n",
    "\n",
    "#     #now stack! \n",
    "#     #    return non_duplic_cat.S"
   ]
  },
  {
   "cell_type": "code",
   "execution_count": 10,
   "metadata": {
    "collapsed": false
   },
   "outputs": [],
   "source": [
    "c =get_non_duplicated_cat(catalogue)\n",
    "c"
   ]
  },
  {
   "cell_type": "code",
   "execution_count": 16,
   "metadata": {
    "collapsed": false
   },
   "outputs": [
    {
     "name": "stdout",
     "output_type": "stream",
     "text": [
      "7812\n",
      "7816\n"
     ]
    }
   ],
   "source": [
    "print len(catalogue) - len(c)\n",
    "print (len(catalogue) - len(set(catalogue['db_id'])))*2\n"
   ]
  },
  {
   "cell_type": "code",
   "execution_count": null,
   "metadata": {
    "collapsed": true
   },
   "outputs": [],
   "source": [
    "\n",
    "# conclude that have to eliminate both duplicated objects and rare_objs"
   ]
  },
  {
   "cell_type": "code",
   "execution_count": 18,
   "metadata": {
    "collapsed": false
   },
   "outputs": [
    {
     "name": "stdout",
     "output_type": "stream",
     "text": [
      "853249\n",
      "853249\n"
     ]
    }
   ],
   "source": [
    "print len(c)\n",
    "print len(set(c['db_id'])) "
   ]
  },
  {
   "cell_type": "markdown",
   "metadata": {},
   "source": [
    "### check if these objects are in the border"
   ]
  },
  {
   "cell_type": "code",
   "execution_count": null,
   "metadata": {
    "collapsed": true
   },
   "outputs": [],
   "source": []
  }
 ],
 "metadata": {
  "kernelspec": {
   "display_name": "Python 2",
   "language": "python",
   "name": "python2"
  },
  "language_info": {
   "codemirror_mode": {
    "name": "ipython",
    "version": 2
   },
   "file_extension": ".py",
   "mimetype": "text/x-python",
   "name": "python",
   "nbconvert_exporter": "python",
   "pygments_lexer": "ipython2",
   "version": "2.7.11"
  }
 },
 "nbformat": 4,
 "nbformat_minor": 0
}
