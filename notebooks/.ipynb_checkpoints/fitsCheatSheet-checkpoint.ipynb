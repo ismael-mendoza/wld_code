{
 "cells": [
  {
   "cell_type": "code",
   "execution_count": null,
   "metadata": {
    "collapsed": true
   },
   "outputs": [],
   "source": [
    "\"\"\"This file explains how to manipulate David's fits files\"\"\""
   ]
  },
  {
   "cell_type": "code",
   "execution_count": null,
   "metadata": {},
   "outputs": [],
   "source": [
    "%pylab inline"
   ]
  },
  {
   "cell_type": "code",
   "execution_count": null,
   "metadata": {},
   "outputs": [],
   "source": [
    "import os \n",
    "import matplotlib.pyplot as plt \n",
    "import galsim "
   ]
  },
  {
   "cell_type": "code",
   "execution_count": null,
   "metadata": {},
   "outputs": [],
   "source": [
    "#directories that would be using \n",
    "WLD = '/Users/Ismael/code/lensing/WeakLensingDeblending/'\n",
    "repo = '/Users/Ismael/code/lensing/repo/'\n",
    "aegis = '/Users/Ismael/aegis/WeakLensingDeblending/'\n",
    "SEx = '/Users/Ismael/aegis/WeakLensingDeblending/data/sextractor_runs/'\n",
    "aegis_slac = '/nfs/slac/g/ki/ki19/deuce/AEGIS/ismael/'\n",
    "tutorial_fits = '/Users/Ismael/aegis/data/fits_files/tutorial.fits'\n",
    "os.chdir(WLD)\n",
    "import descwl"
   ]
  },
  {
   "cell_type": "code",
   "execution_count": null,
   "metadata": {},
   "outputs": [],
   "source": [
    "import fitsio\n",
    "fits = fitsio.FITS(tutorial_fits)"
   ]
  },
  {
   "cell_type": "markdown",
   "metadata": {},
   "source": [
    "### experimenting with the image using reader "
   ]
  },
  {
   "cell_type": "code",
   "execution_count": null,
   "metadata": {
    "collapsed": true
   },
   "outputs": [],
   "source": [
    "reader = descwl.output.Reader(tutorial_fits)\n",
    "results = reader.results"
   ]
  },
  {
   "cell_type": "code",
   "execution_count": null,
   "metadata": {},
   "outputs": [],
   "source": [
    "results.survey.image"
   ]
  },
  {
   "cell_type": "code",
   "execution_count": null,
   "metadata": {},
   "outputs": [],
   "source": [
    "#create galsimImage \n",
    "img = fits[0].read()\n",
    "g = galsim.Image(array=img,bounds=galsim.BoundsI(xmin=0, xmax=299, ymin=0, ymax=299), wcs=galsim.PixelScale(0.2))"
   ]
  },
  {
   "cell_type": "code",
   "execution_count": null,
   "metadata": {},
   "outputs": [],
   "source": [
    "g"
   ]
  },
  {
   "cell_type": "markdown",
   "metadata": {},
   "source": [
    "### different images inside fits "
   ]
  },
  {
   "cell_type": "code",
   "execution_count": null,
   "metadata": {},
   "outputs": [],
   "source": [
    "#all galaxies, simulated survey image \n",
    "print fits[0]\n",
    "img = fits[0][:,:] #notice to get 512x512 image we do this\n",
    "img = fits[0].read() #can also do this. \n",
    "plt.imshow(img)\n",
    "plt.show()\n",
    "\n",
    "#notice this again has 6 in first dimension (image + 5 partials) but the pixel size can vary.\n",
    "print fits[2]\n",
    "img = fits[2][:,:,:][0]\n",
    "img = fits[2].read()[0]\n",
    "plt.imshow(img)\n",
    "plt.show()\n",
    "\n",
    "\n",
    "#obtain first partial\n",
    "print fits[2]\n",
    "img = fits[2].read()[5]\n",
    "plt.imshow(img)\n",
    "plt.show()\n",
    "\n",
    "\n",
    "\n",
    "#the first slicing [:,:,:] gets the datacube matrix from the file which at this point always includes\n",
    "#the galaxy and 6 partials, then accessing each with [1] gets you the particular image of 8x9 pixels.\n",
    "#in this case. \n",
    "print fits[4]\n",
    "img = fits[4][:,:,:][0] \n",
    "plt.imshow(img)\n",
    "plt.show()\n",
    "\n"
   ]
  },
  {
   "cell_type": "code",
   "execution_count": null,
   "metadata": {
    "collapsed": true
   },
   "outputs": [],
   "source": []
  },
  {
   "cell_type": "code",
   "execution_count": null,
   "metadata": {},
   "outputs": [],
   "source": [
    "#header information, \n",
    "header = fits[0].read_header()\n",
    "print header"
   ]
  },
  {
   "cell_type": "code",
   "execution_count": null,
   "metadata": {
    "collapsed": true
   },
   "outputs": [],
   "source": [
    "# ###write an array to a fits file and save it \n",
    "from astropy.io import fits\n",
    "# f = fits.PrimaryHDU(array)\n",
    "# f.writeto(name_of_output)"
   ]
  },
  {
   "cell_type": "code",
   "execution_count": null,
   "metadata": {},
   "outputs": [],
   "source": [
    "#read a table \n",
    "from astropy.table import Table\n",
    "t = Table.read(tutorial_fits)\n",
    "#or \n",
    "t = Table.read(tutorial_fits, hdu=3)"
   ]
  },
  {
   "cell_type": "code",
   "execution_count": null,
   "metadata": {
    "scrolled": false
   },
   "outputs": [],
   "source": [
    "#general info \n",
    "f = fits.open(tutorial_fits)\n",
    "f.info()"
   ]
  },
  {
   "cell_type": "code",
   "execution_count": null,
   "metadata": {
    "scrolled": false
   },
   "outputs": [],
   "source": [
    "##change table of file. \n",
    "import astropy.io.fits as fits\n",
    "#have to adjust to a correct header. \n",
    "f = fits.open(tutorial_fits)\n",
    "# the table has a header : \n",
    "#create new copy of fits_file with this new table. \n",
    "subprocess.call('cp {0} {1}'.format(input_name,final_fits),shell=True)\n",
    "f = fits.open(final_fits)  \n",
    "#replace table and write file\n",
    "f[1]= astropy.io.fits.table_to_hdu(table)\n",
    "subprocess.call('rm {0}'.format(final_fits),shell=True)\n",
    "f.writeto(final_fits) #overwrites the existing one. "
   ]
  },
  {
   "cell_type": "code",
   "execution_count": null,
   "metadata": {},
   "outputs": [],
   "source": [
    "#change header. \n",
    "import astropy.io.fits as fits\n",
    "#have to adjust to a correct header. \n",
    "f = fits.open(new_fits_name_table)\n",
    "f_sample = fits.open('section00{0}.fits'.format(job_number))  #sample section of the job_number. \n",
    "f[0].header = f_sample[0].header\n",
    "f[0].header['E_HEIGHT'] = 18000\n",
    "f[0].header['GE_WIDTH'] = 18000\n",
    "\n"
   ]
  },
  {
   "cell_type": "code",
   "execution_count": null,
   "metadata": {
    "collapsed": true
   },
   "outputs": [],
   "source": [
    "#add a new column to a table \n",
    "# calculate size from moments X2_IMAGE,Y2_IMAGE,XY_IMAGE -> remember in pixel**2 so have to convert to arcsecs. \n",
    "sigmas = []\n",
    "for x2,y2,xy in zip(detected['X2_IMAGE'],detected['Y2_IMAGE'],detected['XY_IMAGE']):\n",
    "    second_moments = np.array([[x2,xy],[xy,y2]])\n",
    "    sigma = np.linalg.det(second_moments)**(-1./4)\n",
    "    sigmas.append(sigma)\n",
    "SIGMA = Table.Column(name='SIGMA',data=sigmas)\n",
    "detected.add_column(SIGMA)\n",
    "\n",
    "# #add sizes of the corresponding entries from lsst to the detected table. \n",
    "# SIGMA_M = Table.Column(name='SIGMA_M', data=table[indices]['sigma_m'])\n",
    "# detected.add_column(SIGMA_M) "
   ]
  },
  {
   "cell_type": "code",
   "execution_count": null,
   "metadata": {
    "collapsed": true
   },
   "outputs": [],
   "source": [
    "from astropy.table import Table\n",
    "Table.write?\n"
   ]
  },
  {
   "cell_type": "code",
   "execution_count": 1,
   "metadata": {
    "collapsed": true
   },
   "outputs": [],
   "source": [
    "import astropy.io.fits as fits\n",
    "\n"
   ]
  },
  {
   "cell_type": "code",
   "execution_count": null,
   "metadata": {
    "collapsed": true
   },
   "outputs": [],
   "source": [
    "f = fits.open('/Users/Ismael/temp_data/section001.fits')\n",
    "\n"
   ]
  },
  {
   "cell_type": "code",
   "execution_count": null,
   "metadata": {},
   "outputs": [],
   "source": [
    "f1 = fits.open('/Users/Ismael/temp_data/final_fits1.fits')\n",
    "\n"
   ]
  },
  {
   "cell_type": "code",
   "execution_count": null,
   "metadata": {},
   "outputs": [],
   "source": [
    "plt.imshow(f[0].data)"
   ]
  },
  {
   "cell_type": "code",
   "execution_count": 9,
   "metadata": {},
   "outputs": [],
   "source": [
    "f2 = fits.open('/Users/Ismael/temp_data/test/final_fits1.fits')"
   ]
  },
  {
   "cell_type": "code",
   "execution_count": null,
   "metadata": {},
   "outputs": [],
   "source": [
    "import numpy as np \n"
   ]
  },
  {
   "cell_type": "code",
   "execution_count": 11,
   "metadata": {},
   "outputs": [
    {
     "data": {
      "text/plain": [
       "array([[ 0.,  0.,  0., ...,  0.,  0.,  0.],\n",
       "       [ 0.,  0.,  0., ...,  0.,  0.,  0.],\n",
       "       [ 0.,  0.,  0., ...,  0.,  0.,  0.],\n",
       "       ..., \n",
       "       [ 0.,  0.,  0., ...,  0.,  0.,  0.],\n",
       "       [ 0.,  0.,  0., ...,  0.,  0.,  0.],\n",
       "       [ 0.,  0.,  0., ...,  0.,  0.,  0.]], dtype=float32)"
      ]
     },
     "execution_count": 11,
     "metadata": {},
     "output_type": "execute_result"
    }
   ],
   "source": [
    "f2[0].data"
   ]
  },
  {
   "cell_type": "code",
   "execution_count": null,
   "metadata": {
    "collapsed": true
   },
   "outputs": [],
   "source": []
  }
 ],
 "metadata": {
  "kernelspec": {
   "display_name": "Python 3",
   "language": "python",
   "name": "python3"
  },
  "language_info": {
   "codemirror_mode": {
    "name": "ipython",
    "version": 3
   },
   "file_extension": ".py",
   "mimetype": "text/x-python",
   "name": "python",
   "nbconvert_exporter": "python",
   "pygments_lexer": "ipython3",
   "version": "3.6.7"
  },
  "latex_envs": {
   "LaTeX_envs_menu_present": true,
   "autoclose": false,
   "autocomplete": true,
   "bibliofile": "biblio.bib",
   "cite_by": "apalike",
   "current_citInitial": 1,
   "eqLabelWithNumbers": true,
   "eqNumInitial": 1,
   "hotkeys": {
    "equation": "meta-shift-y"
   },
   "labels_anchors": false,
   "latex_user_defs": false,
   "report_style_numbering": false,
   "user_envs_cfg": false
  },
  "toc": {
   "base_numbering": 1,
   "nav_menu": {},
   "number_sections": true,
   "sideBar": true,
   "skip_h1_title": false,
   "title_cell": "Table of Contents",
   "title_sidebar": "Contents",
   "toc_cell": false,
   "toc_position": {},
   "toc_section_display": true,
   "toc_window_display": true
  }
 },
 "nbformat": 4,
 "nbformat_minor": 1
}
