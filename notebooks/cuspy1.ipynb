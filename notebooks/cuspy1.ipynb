{
 "cells": [
  {
   "cell_type": "code",
   "execution_count": 21,
   "metadata": {
    "ExecuteTime": {
     "end_time": "2020-01-10T19:46:04.240689Z",
     "start_time": "2020-01-10T19:46:04.235163Z"
    }
   },
   "outputs": [],
   "source": [
    "import numpy as np \n",
    "import matplotlib.pyplot as plt \n",
    "from numpy import random\n"
   ]
  },
  {
   "cell_type": "code",
   "execution_count": 56,
   "metadata": {
    "ExecuteTime": {
     "end_time": "2020-01-10T20:26:47.823447Z",
     "start_time": "2020-01-10T20:26:47.812446Z"
    }
   },
   "outputs": [
    {
     "data": {
      "text/plain": [
       "2.7817296833729626"
      ]
     },
     "execution_count": 56,
     "metadata": {},
     "output_type": "execute_result"
    }
   ],
   "source": [
    "random.uniform(0, 1 + 2)"
   ]
  },
  {
   "cell_type": "code",
   "execution_count": 79,
   "metadata": {
    "ExecuteTime": {
     "end_time": "2020-01-10T20:41:01.758439Z",
     "start_time": "2020-01-10T20:41:01.745864Z"
    }
   },
   "outputs": [],
   "source": [
    "def get_dbt1(N, scale=1.0): \n",
    "    x = random.choice([0,1], size=N)\n",
    "    y = random.exponential(scale=scale, size=N)\n",
    "    return y * (-1)**x\n",
    "\n",
    "def get_dbt2(N, scale1=1.01, scale2=0.99): \n",
    "    #scale1 = negative side, scale2 = positive side. \n",
    "    V = scale1 + scale2 \n",
    "    dbt = [] \n",
    "    for _ in range(N):\n",
    "        z = random.uniform(0, V)\n",
    "        dbt.append((-1)*random.exponential(scale=scale1) if z < scale1 else random.exponential(scale=scale2))\n",
    "    return np.array(dbt)\n",
    "\n",
    "def boot_fnc(dbt, fnc, N=1000):\n",
    "    results = [] \n",
    "    for i in range(N): \n",
    "        results.append(fnc(np.random.choice(dbt,len(dbt), replace=True)))\n",
    "    return results"
   ]
  },
  {
   "cell_type": "code",
   "execution_count": 120,
   "metadata": {
    "ExecuteTime": {
     "end_time": "2020-01-10T21:57:42.043614Z",
     "start_time": "2020-01-10T21:57:40.679069Z"
    }
   },
   "outputs": [],
   "source": [
    "N = int(1e4)\n",
    "dbt1 = get_dbt1(N, scale=1.0) \n",
    "dbt2 = get_dbt2(N, scale1=6, scale2=0.5)\n",
    "X1 = boot_fnc(dbt1, np.median, N=1000)\n",
    "X2 = boot_fnc(dbt2, np.median, N=1000)"
   ]
  },
  {
   "cell_type": "code",
   "execution_count": 121,
   "metadata": {
    "ExecuteTime": {
     "end_time": "2020-01-10T21:57:42.640102Z",
     "start_time": "2020-01-10T21:57:42.047140Z"
    }
   },
   "outputs": [
    {
     "name": "stdout",
     "output_type": "stream",
     "text": [
      "width1: 0.011016959771295614\n",
      "width2: 0.057575484278714555\n",
      "-4.226077381958487\n"
     ]
    },
    {
     "data": {
      "image/png": "[encoded data removed]",
      "text/plain": [
       "<Figure size 432x432 with 1 Axes>"
      ]
     },
     "metadata": {
      "needs_background": "light"
     },
     "output_type": "display_data"
    },
    {
     "data": {
      "image/png": "[encoded data removed]",
      "text/plain": [
       "<Figure size 432x432 with 1 Axes>"
      ]
     },
     "metadata": {
      "needs_background": "light"
     },
     "output_type": "display_data"
    }
   ],
   "source": [
    "plt.figure(figsize=(6,6))\n",
    "plt.hist(dbt1, bins=50, color='r', histtype='step')\n",
    "plt.hist(dbt2, bins=50, color='b', histtype='step')\n",
    "\n",
    "plt.figure(figsize=(6,6))\n",
    "plt.hist(X1, bins=50, color='r', histtype='step');\n",
    "plt.hist(X2, bins=50, color='b', histtype='step');\n",
    "print('width1:', np.std(X1))\n",
    "print('width2:', np.std(X2))\n",
    "print( (np.std(X1)-np.std(X2))/np.std(X1))"
   ]
  },
  {
   "cell_type": "code",
   "execution_count": null,
   "metadata": {},
   "outputs": [],
   "source": []
  }
 ],
 "metadata": {
  "kernelspec": {
   "display_name": "igalsim",
   "language": "python",
   "name": "igalsim"
  },
  "language_info": {
   "codemirror_mode": {
    "name": "ipython",
    "version": 3
   },
   "file_extension": ".py",
   "mimetype": "text/x-python",
   "name": "python",
   "nbconvert_exporter": "python",
   "pygments_lexer": "ipython3",
   "version": "3.7.0"
  },
  "toc": {
   "base_numbering": 1,
   "nav_menu": {},
   "number_sections": true,
   "sideBar": true,
   "skip_h1_title": false,
   "title_cell": "Table of Contents",
   "title_sidebar": "Contents",
   "toc_cell": false,
   "toc_position": {},
   "toc_section_display": true,
   "toc_window_display": true
  }
 },
 "nbformat": 4,
 "nbformat_minor": 2
}
