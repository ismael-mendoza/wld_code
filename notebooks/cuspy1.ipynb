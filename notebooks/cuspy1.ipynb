{
 "cells": [
  {
   "cell_type": "code",
   "execution_count": 2,
   "metadata": {
    "ExecuteTime": {
     "end_time": "2020-01-24T02:10:12.053725Z",
     "start_time": "2020-01-24T02:10:12.048923Z"
    }
   },
   "outputs": [],
   "source": [
    "import numpy as np \n",
    "import matplotlib.pyplot as plt \n",
    "from numpy import random\n",
    "from scipy.special import gammaincinv, gammainc, gammaincc, gamma, gammainccinv\n"
   ]
  },
  {
   "cell_type": "markdown",
   "metadata": {
    "heading_collapsed": true
   },
   "source": [
    "# Simple exponential"
   ]
  },
  {
   "cell_type": "code",
   "execution_count": 3,
   "metadata": {
    "ExecuteTime": {
     "end_time": "2020-01-20T02:29:20.005160Z",
     "start_time": "2020-01-20T02:29:19.995048Z"
    },
    "hidden": true
   },
   "outputs": [],
   "source": [
    "def get_dbt1(N, scale=1.0): \n",
    "    x = random.choice([0,1], size=N)\n",
    "    y = random.exponential(scale=scale, size=N)\n",
    "    return y * (-1)**x\n",
    "\n",
    "def get_dbt2(N, scale1=1.01, scale2=0.99): \n",
    "    #scale1 = negative side, scale2 = positive side. \n",
    "    V = scale1 + scale2 \n",
    "    dbt = [] \n",
    "    for _ in range(N):\n",
    "        z = random.uniform(0, V)\n",
    "        dbt.append((-1)*random.exponential(scale=scale1) if z < scale1 else random.exponential(scale=scale2))\n",
    "    return np.array(dbt)"
   ]
  },
  {
   "cell_type": "code",
   "execution_count": 14,
   "metadata": {
    "ExecuteTime": {
     "end_time": "2020-01-19T02:45:56.013561Z",
     "start_time": "2020-01-19T02:45:54.394647Z"
    },
    "hidden": true
   },
   "outputs": [],
   "source": [
    "N = int(1e4)\n",
    "dbt1 = get_dbt1(N, scale=1.0) \n",
    "dbt2 = get_dbt2(N, scale1=6, scale2=0.5)\n",
    "X1 = boot_fnc(dbt1, np.median, N=1000)\n",
    "X2 = boot_fnc(dbt2, np.median, N=1000)"
   ]
  },
  {
   "cell_type": "code",
   "execution_count": 15,
   "metadata": {
    "ExecuteTime": {
     "end_time": "2020-01-19T02:45:59.489805Z",
     "start_time": "2020-01-19T02:45:58.905990Z"
    },
    "hidden": true
   },
   "outputs": [
    {
     "name": "stdout",
     "output_type": "stream",
     "text": [
      "width1: 0.011213553944757851\n",
      "width2: 0.060763946791277154\n",
      "-4.41879470956514\n"
     ]
    },
    {
     "data": {
      "image/png": "[encoded data removed]",
      "text/plain": [
       "<Figure size 432x432 with 1 Axes>"
      ]
     },
     "metadata": {
      "needs_background": "light"
     },
     "output_type": "display_data"
    },
    {
     "data": {
      "image/png": "[encoded data removed]",
      "text/plain": [
       "<Figure size 432x432 with 1 Axes>"
      ]
     },
     "metadata": {
      "needs_background": "light"
     },
     "output_type": "display_data"
    }
   ],
   "source": [
    "plt.figure(figsize=(6,6))\n",
    "plt.hist(dbt1, bins=50, color='r', histtype='step')\n",
    "plt.hist(dbt2, bins=50, color='b', histtype='step')\n",
    "\n",
    "plt.figure(figsize=(6,6))\n",
    "plt.hist(X1, bins=50, color='r', histtype='step');\n",
    "plt.hist(X2, bins=50, color='b', histtype='step');\n",
    "print('width1:', np.std(X1))\n",
    "print('width2:', np.std(X2))\n",
    "print( (np.std(X1)-np.std(X2))/np.std(X1))"
   ]
  },
  {
   "cell_type": "markdown",
   "metadata": {},
   "source": [
    "# More cuspy exponential"
   ]
  },
  {
   "cell_type": "code",
   "execution_count": 32,
   "metadata": {
    "ExecuteTime": {
     "end_time": "2020-01-24T02:29:34.908375Z",
     "start_time": "2020-01-24T02:29:34.893167Z"
    }
   },
   "outputs": [],
   "source": [
    "def boot_fnc(dbt, fnc, N=1000):\n",
    "    results = [] \n",
    "    for i in range(N): \n",
    "        results.append(fnc(np.random.choice(dbt,len(dbt), replace=True)))\n",
    "    return results\n",
    "\n",
    "def inv_G(x, a, n, N): \n",
    "    return -1 * ((1/a) * gammainccinv(n, (a**n) * x/(N*n*gamma(n)) ))**(1/n)\n",
    "\n",
    "def inv_F(x, b, n, N): \n",
    "    return ((1/b) * gammaincinv(n, (b**n) * x/(N*n*gamma(n)) ))**(1/n)\n",
    "\n",
    "\n",
    "def get_dbt(nsamples, n=1, a=1, b=1):\n",
    "    \"\"\"\n",
    "    Assume that distribution is symmetric if `scale2` is not passed in. Otherwise use `scale1`\n",
    "    for one side and `scale2` for the other.\n",
    "    \"\"\"\n",
    "    N = (1/(n*gamma(n)))*(1/(a**n) + 1/(b**n))**(-1)\n",
    "    N1 = (1/a**n)*(1/a**n + 1/b**n)**(-1)\n",
    "    cs = np.array([random.uniform(0,1) for _ in range(nsamples)])\n",
    "    return np.array([inv_G(c,a,n,N) if c<N1 else inv_F(c-N1,b,n,N) for c in cs ])\n",
    "    \n",
    "#     if b is None:\n",
    "#         x = random.choice([0,1], size=nsamples)\n",
    "#         cs = cs * A \n",
    "#         return inv_F(cs,a,n)*(-1)**x  #randomize whether it's positive or negative. \n",
    "    \n",
    "#     else:\n",
    "#         B = b**(-n) * gamma(1 + n)\n",
    "#         cs = cs * (A+B)\n",
    "#         return np.array([-inv_F(c,a,n) if c<A else inv_F(c,b,n) for c in cs ])\n",
    "        \n",
    "    "
   ]
  },
  {
   "cell_type": "code",
   "execution_count": 14,
   "metadata": {
    "ExecuteTime": {
     "end_time": "2020-01-24T02:17:16.060883Z",
     "start_time": "2020-01-24T02:17:16.053697Z"
    }
   },
   "outputs": [
    {
     "name": "stdout",
     "output_type": "stream",
     "text": [
      "0.25 0.5\n"
     ]
    }
   ],
   "source": [
    "n=2 \n",
    "a=1\n",
    "b=1\n",
    "N = (1/(n*gamma(n)))*(1/(a**n) + 1/(b**n))**(-1)\n",
    "N1 = (1/a**n)*(1/a**n + 1/b**n)**(-1)\n",
    "print(N,N1)"
   ]
  },
  {
   "cell_type": "code",
   "execution_count": 22,
   "metadata": {
    "ExecuteTime": {
     "end_time": "2020-01-24T02:25:45.400166Z",
     "start_time": "2020-01-24T02:25:45.392703Z"
    }
   },
   "outputs": [
    {
     "data": {
      "text/plain": [
       "nan"
      ]
     },
     "execution_count": 22,
     "metadata": {},
     "output_type": "execute_result"
    }
   ],
   "source": [
    "inv_G(0.51, 1, 2, 0.25)"
   ]
  },
  {
   "cell_type": "code",
   "execution_count": 31,
   "metadata": {
    "ExecuteTime": {
     "end_time": "2020-01-24T02:26:35.210441Z",
     "start_time": "2020-01-24T02:26:35.203707Z"
    }
   },
   "outputs": [
    {
     "data": {
      "text/plain": [
       "inf"
      ]
     },
     "execution_count": 31,
     "metadata": {},
     "output_type": "execute_result"
    }
   ],
   "source": [
    "inv_F(0.999999999999999999-N1, 1, 2, 0.25)"
   ]
  },
  {
   "cell_type": "code",
   "execution_count": 71,
   "metadata": {
    "ExecuteTime": {
     "end_time": "2020-01-24T02:36:22.356344Z",
     "start_time": "2020-01-24T02:36:22.218227Z"
    }
   },
   "outputs": [],
   "source": [
    "# ys = get_dbt(int(1e4), 1, a=1)\n",
    "ys = get_dbt(int(1e4),1.5, 1,1)"
   ]
  },
  {
   "cell_type": "code",
   "execution_count": 75,
   "metadata": {
    "ExecuteTime": {
     "end_time": "2020-01-24T02:46:23.501189Z",
     "start_time": "2020-01-24T02:46:23.224023Z"
    }
   },
   "outputs": [
    {
     "data": {
      "image/png": "[encoded data removed]",
      "text/plain": [
       "<Figure size 432x288 with 1 Axes>"
      ]
     },
     "metadata": {
      "needs_background": "light"
     },
     "output_type": "display_data"
    }
   ],
   "source": [
    "# # plt.hist(ys, bins=50, histtype='step');\n",
    "plt.hist(ys, bins=100, histtype='step', density=True);"
   ]
  },
  {
   "cell_type": "code",
   "execution_count": 11,
   "metadata": {
    "ExecuteTime": {
     "end_time": "2020-01-20T03:07:44.106140Z",
     "start_time": "2020-01-20T03:07:44.099585Z"
    }
   },
   "outputs": [
    {
     "data": {
      "text/plain": [
       "0.9995006007726127"
      ]
     },
     "execution_count": 11,
     "metadata": {},
     "output_type": "execute_result"
    }
   ],
   "source": [
    "gammainc(2,1e1)"
   ]
  },
  {
   "cell_type": "code",
   "execution_count": 14,
   "metadata": {
    "ExecuteTime": {
     "end_time": "2020-01-20T03:08:39.813009Z",
     "start_time": "2020-01-20T03:08:39.805258Z"
    }
   },
   "outputs": [
    {
     "data": {
      "text/plain": [
       "1.0"
      ]
     },
     "execution_count": 14,
     "metadata": {},
     "output_type": "execute_result"
    }
   ],
   "source": [
    "gammaincc(2,0)"
   ]
  },
  {
   "cell_type": "code",
   "execution_count": null,
   "metadata": {},
   "outputs": [],
   "source": []
  }
 ],
 "metadata": {
  "kernelspec": {
   "display_name": "Python 3",
   "language": "python",
   "name": "python3"
  },
  "language_info": {
   "codemirror_mode": {
    "name": "ipython",
    "version": 3
   },
   "file_extension": ".py",
   "mimetype": "text/x-python",
   "name": "python",
   "nbconvert_exporter": "python",
   "pygments_lexer": "ipython3",
   "version": "3.7.4"
  },
  "latex_envs": {
   "LaTeX_envs_menu_present": true,
   "autoclose": false,
   "autocomplete": true,
   "bibliofile": "biblio.bib",
   "cite_by": "apalike",
   "current_citInitial": 1,
   "eqLabelWithNumbers": true,
   "eqNumInitial": 1,
   "hotkeys": {
    "equation": "meta-shift-y"
   },
   "labels_anchors": false,
   "latex_user_defs": false,
   "report_style_numbering": false,
   "user_envs_cfg": false
  },
  "toc": {
   "base_numbering": 1,
   "nav_menu": {},
   "number_sections": true,
   "sideBar": true,
   "skip_h1_title": false,
   "title_cell": "Table of Contents",
   "title_sidebar": "Contents",
   "toc_cell": false,
   "toc_position": {},
   "toc_section_display": true,
   "toc_window_display": true
  }
 },
 "nbformat": 4,
 "nbformat_minor": 2
}
