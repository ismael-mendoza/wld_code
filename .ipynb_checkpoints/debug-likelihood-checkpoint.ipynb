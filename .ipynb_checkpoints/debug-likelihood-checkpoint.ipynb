{
 "cells": [
  {
   "cell_type": "markdown",
   "metadata": {},
   "source": [
    "# Preamble "
   ]
  },
  {
   "cell_type": "code",
   "execution_count": 1,
   "metadata": {
    "ExecuteTime": {
     "end_time": "2019-03-18T18:42:59.952774Z",
     "start_time": "2019-03-18T18:42:56.602231Z"
    }
   },
   "outputs": [],
   "source": [
    "from tqdm import tnrange, tqdm_notebook\n",
    "%matplotlib inline\n",
    "\n",
    "import os \n",
    "#change current directory to parent directory \n",
    "phylo_dir = \"/Users/Ismael/code/trees/phylo/\"\n",
    "os.chdir(phylo_dir)\n",
    "\n",
    "import msprime \n",
    "import IPython\n",
    "import numpy as np \n",
    "import pickle\n",
    "import matplotlib.pyplot as plt \n",
    "import ifuncs \n",
    "import iliks \n",
    "import analysis #package containing functions to analyze final results and produce plots. \n",
    "import analysis "
   ]
  },
  {
   "cell_type": "code",
   "execution_count": 3,
   "metadata": {
    "ExecuteTime": {
     "end_time": "2019-03-18T18:43:17.846792Z",
     "start_time": "2019-03-18T18:43:17.499335Z"
    }
   },
   "outputs": [
    {
     "data": {
      "text/plain": [
       "<module 'analysis' from '/Users/Ismael/code/trees/phylo/analysis.py'>"
      ]
     },
     "execution_count": 3,
     "metadata": {},
     "output_type": "execute_result"
    }
   ],
   "source": [
    "import sys, importlib\n",
    "importlib.reload(ifuncs)\n",
    "importlib.reload(iliks)\n",
    "importlib.reload(analysis)"
   ]
  },
  {
   "cell_type": "markdown",
   "metadata": {},
   "source": [
    "# Debug "
   ]
  },
  {
   "cell_type": "code",
   "execution_count": 31,
   "metadata": {
    "ExecuteTime": {
     "end_time": "2019-03-18T18:46:28.383424Z",
     "start_time": "2019-03-18T18:46:28.377143Z"
    }
   },
   "outputs": [],
   "source": [
    "n=3\n",
    "a=1. \n",
    "b=0.3 \n",
    "Ne=a/2 "
   ]
  },
  {
   "cell_type": "code",
   "execution_count": 32,
   "metadata": {
    "ExecuteTime": {
     "end_time": "2019-03-18T18:46:35.566137Z",
     "start_time": "2019-03-18T18:46:35.552847Z"
    }
   },
   "outputs": [
    {
     "name": "stdout",
     "output_type": "stream",
     "text": [
      "61971\n"
     ]
    },
    {
     "data": {
      "text/plain": [
       "7"
      ]
     },
     "execution_count": 32,
     "metadata": {},
     "output_type": "execute_result"
    }
   ],
   "source": [
    "seed = 61971\n",
    "ts = msprime.simulate(sample_size=n, Ne=Ne, length=1, recombination_rate=5, \n",
    "                  model='smc_prime', random_seed = seed, record_full_arg=True)\n",
    "ts.num_trees"
   ]
  },
  {
   "cell_type": "code",
   "execution_count": 42,
   "metadata": {
    "ExecuteTime": {
     "end_time": "2019-03-18T18:53:00.066010Z",
     "start_time": "2019-03-18T18:53:00.009701Z"
    }
   },
   "outputs": [
    {
     "name": "stdout",
     "output_type": "stream",
     "text": [
      "2.0\n",
      "[3, 6]\n",
      "[[0.43081225 0.78276748]\n",
      " [0.69898985 0.78276748]\n",
      " [0.78276748 0.80168792]\n",
      " [0.78276748 0.80168792]\n",
      " [0.08582007 0.80168792]\n",
      " [0.08582007 0.54294576]\n",
      " [0.08582007 0.54294576]]\n",
      "\n"
     ]
    },
    {
     "data": {
      "image/svg+xml": [
       "<svg baseProfile=\"full\" height=\"200\" version=\"1.1\" width=\"200\" xmlns=\"http://www.w3.org/2000/svg\" xmlns:ev=\"http://www.w3.org/2001/xml-events\" xmlns:xlink=\"http://www.w3.org/1999/xlink\"><defs/><g id=\"lines\" stroke=\"black\"><line x1=\"40.0\" x2=\"40.0\" y1=\"180.0\" y2=\"20.0\"/><line x1=\"40.0\" x2=\"70.0\" y1=\"20.0\" y2=\"20.0\"/><line x1=\"100.0\" x2=\"100.0\" y1=\"91.94069529991093\" y2=\"20.0\"/><line x1=\"100.0\" x2=\"70.0\" y1=\"20.0\" y2=\"20.0\"/><line x1=\"80.0\" x2=\"80.0\" y1=\"180.0\" y2=\"91.94069529991093\"/><line x1=\"80.0\" x2=\"100.0\" y1=\"91.94069529991093\" y2=\"91.94069529991093\"/><line x1=\"120.0\" x2=\"120.0\" y1=\"180.0\" y2=\"91.94069529991093\"/><line x1=\"120.0\" x2=\"100.0\" y1=\"91.94069529991093\" y2=\"91.94069529991093\"/></g><g font-size=\"14\" text-anchor=\"start\"><text x=\"105.0\" y=\"86.94069529991093\">4</text></g><g font-size=\"14\" text-anchor=\"end\"/><g font-size=\"14\" text-anchor=\"middle\"><text x=\"70.0\" y=\"15.0\">7</text><text x=\"40.0\" y=\"200.0\">2</text><text x=\"80.0\" y=\"200.0\">0</text><text x=\"120.0\" y=\"200.0\">1</text></g><circle cx=\"70.0\" cy=\"20.0\" fill=\"black\" r=\"3\"/><circle cx=\"40.0\" cy=\"180.0\" fill=\"black\" r=\"3\"/><circle cx=\"100.0\" cy=\"91.94069529991093\" fill=\"black\" r=\"3\"/><circle cx=\"80.0\" cy=\"180.0\" fill=\"black\" r=\"3\"/><circle cx=\"120.0\" cy=\"180.0\" fill=\"black\" r=\"3\"/><g alignment-baseline=\"middle\" font-size=\"14\" font-style=\"italic\" text-anchor=\"start\"/><g alignment-baseline=\"middle\" font-size=\"14\" font-style=\"italic\" text-anchor=\"end\"/></svg>"
      ],
      "text/plain": [
       "<IPython.core.display.SVG object>"
      ]
     },
     "metadata": {},
     "output_type": "display_data"
    },
    {
     "data": {
      "image/svg+xml": [
       "<svg baseProfile=\"full\" height=\"200\" version=\"1.1\" width=\"200\" xmlns=\"http://www.w3.org/2000/svg\" xmlns:ev=\"http://www.w3.org/2001/xml-events\" xmlns:xlink=\"http://www.w3.org/1999/xlink\"><defs/><g id=\"lines\" stroke=\"black\"><line x1=\"40.0\" x2=\"40.0\" y1=\"180.0\" y2=\"20.0\"/><line x1=\"40.0\" x2=\"70.0\" y1=\"20.0\" y2=\"20.0\"/><line x1=\"100.0\" x2=\"100.0\" y1=\"37.12439501326648\" y2=\"20.0\"/><line x1=\"100.0\" x2=\"70.0\" y1=\"20.0\" y2=\"20.0\"/><line x1=\"80.0\" x2=\"80.0\" y1=\"180.0\" y2=\"37.12439501326648\"/><line x1=\"80.0\" x2=\"100.0\" y1=\"37.12439501326648\" y2=\"37.12439501326648\"/><line x1=\"120.0\" x2=\"120.0\" y1=\"180.0\" y2=\"37.12439501326648\"/><line x1=\"120.0\" x2=\"100.0\" y1=\"37.12439501326648\" y2=\"37.12439501326648\"/></g><g font-size=\"14\" text-anchor=\"start\"><text x=\"105.0\" y=\"32.12439501326648\">6</text></g><g font-size=\"14\" text-anchor=\"end\"/><g font-size=\"14\" text-anchor=\"middle\"><text x=\"70.0\" y=\"15.0\">7</text><text x=\"40.0\" y=\"200.0\">2</text><text x=\"80.0\" y=\"200.0\">0</text><text x=\"120.0\" y=\"200.0\">1</text></g><circle cx=\"70.0\" cy=\"20.0\" fill=\"black\" r=\"3\"/><circle cx=\"40.0\" cy=\"180.0\" fill=\"black\" r=\"3\"/><circle cx=\"100.0\" cy=\"37.12439501326648\" fill=\"black\" r=\"3\"/><circle cx=\"80.0\" cy=\"180.0\" fill=\"black\" r=\"3\"/><circle cx=\"120.0\" cy=\"180.0\" fill=\"black\" r=\"3\"/><g alignment-baseline=\"middle\" font-size=\"14\" font-style=\"italic\" text-anchor=\"start\"/><g alignment-baseline=\"middle\" font-size=\"14\" font-style=\"italic\" text-anchor=\"end\"/></svg>"
      ],
      "text/plain": [
       "<IPython.core.display.SVG object>"
      ]
     },
     "metadata": {},
     "output_type": "display_data"
    },
    {
     "data": {
      "image/svg+xml": [
       "<svg baseProfile=\"full\" height=\"200\" version=\"1.1\" width=\"200\" xmlns=\"http://www.w3.org/2000/svg\" xmlns:ev=\"http://www.w3.org/2001/xml-events\" xmlns:xlink=\"http://www.w3.org/1999/xlink\"><defs/><g id=\"lines\" stroke=\"black\"><line x1=\"40.0\" x2=\"40.0\" y1=\"180.0\" y2=\"20.0\"/><line x1=\"40.0\" x2=\"70.0\" y1=\"20.0\" y2=\"20.0\"/><line x1=\"100.0\" x2=\"100.0\" y1=\"23.776120835710685\" y2=\"20.0\"/><line x1=\"100.0\" x2=\"70.0\" y1=\"20.0\" y2=\"20.0\"/><line x1=\"80.0\" x2=\"80.0\" y1=\"180.0\" y2=\"23.776120835710685\"/><line x1=\"80.0\" x2=\"100.0\" y1=\"23.776120835710685\" y2=\"23.776120835710685\"/><line x1=\"120.0\" x2=\"120.0\" y1=\"180.0\" y2=\"23.776120835710685\"/><line x1=\"120.0\" x2=\"100.0\" y1=\"23.776120835710685\" y2=\"23.776120835710685\"/></g><g font-size=\"14\" text-anchor=\"start\"><text x=\"105.0\" y=\"18.776120835710685\">7</text></g><g font-size=\"14\" text-anchor=\"end\"/><g font-size=\"14\" text-anchor=\"middle\"><text x=\"70.0\" y=\"15.0\">8</text><text x=\"40.0\" y=\"200.0\">0</text><text x=\"80.0\" y=\"200.0\">2</text><text x=\"120.0\" y=\"200.0\">1</text></g><circle cx=\"70.0\" cy=\"20.0\" fill=\"black\" r=\"3\"/><circle cx=\"40.0\" cy=\"180.0\" fill=\"black\" r=\"3\"/><circle cx=\"100.0\" cy=\"23.776120835710685\" fill=\"black\" r=\"3\"/><circle cx=\"80.0\" cy=\"180.0\" fill=\"black\" r=\"3\"/><circle cx=\"120.0\" cy=\"180.0\" fill=\"black\" r=\"3\"/><g alignment-baseline=\"middle\" font-size=\"14\" font-style=\"italic\" text-anchor=\"start\"/><g alignment-baseline=\"middle\" font-size=\"14\" font-style=\"italic\" text-anchor=\"end\"/></svg>"
      ],
      "text/plain": [
       "<IPython.core.display.SVG object>"
      ]
     },
     "metadata": {},
     "output_type": "display_data"
    },
    {
     "data": {
      "image/svg+xml": [
       "<svg baseProfile=\"full\" height=\"200\" version=\"1.1\" width=\"200\" xmlns=\"http://www.w3.org/2000/svg\" xmlns:ev=\"http://www.w3.org/2001/xml-events\" xmlns:xlink=\"http://www.w3.org/1999/xlink\"><defs/><g id=\"lines\" stroke=\"black\"><line x1=\"40.0\" x2=\"40.0\" y1=\"180.0\" y2=\"20.0\"/><line x1=\"40.0\" x2=\"70.0\" y1=\"20.0\" y2=\"20.0\"/><line x1=\"100.0\" x2=\"100.0\" y1=\"162.87212405106703\" y2=\"20.0\"/><line x1=\"100.0\" x2=\"70.0\" y1=\"20.0\" y2=\"20.0\"/><line x1=\"80.0\" x2=\"80.0\" y1=\"180.0\" y2=\"162.87212405106703\"/><line x1=\"80.0\" x2=\"100.0\" y1=\"162.87212405106703\" y2=\"162.87212405106703\"/><line x1=\"120.0\" x2=\"120.0\" y1=\"180.0\" y2=\"162.87212405106703\"/><line x1=\"120.0\" x2=\"100.0\" y1=\"162.87212405106703\" y2=\"162.87212405106703\"/></g><g font-size=\"14\" text-anchor=\"start\"><text x=\"105.0\" y=\"157.87212405106703\">3</text></g><g font-size=\"14\" text-anchor=\"end\"/><g font-size=\"14\" text-anchor=\"middle\"><text x=\"70.0\" y=\"15.0\">8</text><text x=\"40.0\" y=\"200.0\">1</text><text x=\"80.0\" y=\"200.0\">0</text><text x=\"120.0\" y=\"200.0\">2</text></g><circle cx=\"70.0\" cy=\"20.0\" fill=\"black\" r=\"3\"/><circle cx=\"40.0\" cy=\"180.0\" fill=\"black\" r=\"3\"/><circle cx=\"100.0\" cy=\"162.87212405106703\" fill=\"black\" r=\"3\"/><circle cx=\"80.0\" cy=\"180.0\" fill=\"black\" r=\"3\"/><circle cx=\"120.0\" cy=\"180.0\" fill=\"black\" r=\"3\"/><g alignment-baseline=\"middle\" font-size=\"14\" font-style=\"italic\" text-anchor=\"start\"/><g alignment-baseline=\"middle\" font-size=\"14\" font-style=\"italic\" text-anchor=\"end\"/></svg>"
      ],
      "text/plain": [
       "<IPython.core.display.SVG object>"
      ]
     },
     "metadata": {},
     "output_type": "display_data"
    },
    {
     "data": {
      "image/svg+xml": [
       "<svg baseProfile=\"full\" height=\"200\" version=\"1.1\" width=\"200\" xmlns=\"http://www.w3.org/2000/svg\" xmlns:ev=\"http://www.w3.org/2001/xml-events\" xmlns:xlink=\"http://www.w3.org/1999/xlink\"><defs/><g id=\"lines\" stroke=\"black\"><line x1=\"40.0\" x2=\"40.0\" y1=\"180.0\" y2=\"20.0\"/><line x1=\"40.0\" x2=\"70.0\" y1=\"20.0\" y2=\"20.0\"/><line x1=\"100.0\" x2=\"100.0\" y1=\"154.70979185908718\" y2=\"20.0\"/><line x1=\"100.0\" x2=\"70.0\" y1=\"20.0\" y2=\"20.0\"/><line x1=\"80.0\" x2=\"80.0\" y1=\"180.0\" y2=\"154.70979185908718\"/><line x1=\"80.0\" x2=\"100.0\" y1=\"154.70979185908718\" y2=\"154.70979185908718\"/><line x1=\"120.0\" x2=\"120.0\" y1=\"180.0\" y2=\"154.70979185908718\"/><line x1=\"120.0\" x2=\"100.0\" y1=\"154.70979185908718\" y2=\"154.70979185908718\"/></g><g font-size=\"14\" text-anchor=\"start\"><text x=\"105.0\" y=\"149.70979185908718\">3</text></g><g font-size=\"14\" text-anchor=\"end\"/><g font-size=\"14\" text-anchor=\"middle\"><text x=\"70.0\" y=\"15.0\">5</text><text x=\"40.0\" y=\"200.0\">1</text><text x=\"80.0\" y=\"200.0\">0</text><text x=\"120.0\" y=\"200.0\">2</text></g><circle cx=\"70.0\" cy=\"20.0\" fill=\"black\" r=\"3\"/><circle cx=\"40.0\" cy=\"180.0\" fill=\"black\" r=\"3\"/><circle cx=\"100.0\" cy=\"154.70979185908718\" fill=\"black\" r=\"3\"/><circle cx=\"80.0\" cy=\"180.0\" fill=\"black\" r=\"3\"/><circle cx=\"120.0\" cy=\"180.0\" fill=\"black\" r=\"3\"/><g alignment-baseline=\"middle\" font-size=\"14\" font-style=\"italic\" text-anchor=\"start\"/><g alignment-baseline=\"middle\" font-size=\"14\" font-style=\"italic\" text-anchor=\"end\"/></svg>"
      ],
      "text/plain": [
       "<IPython.core.display.SVG object>"
      ]
     },
     "metadata": {},
     "output_type": "display_data"
    },
    {
     "name": "stdout",
     "output_type": "stream",
     "text": [
      "\n",
      "id\tflags\tpopulation\tindividual\ttime\tmetadata\n",
      "0\t1\t0\t-1\t0.00000000000000\t\n",
      "1\t1\t0\t-1\t0.00000000000000\t\n",
      "2\t1\t0\t-1\t0.00000000000000\t\n",
      "3\t0\t0\t-1\t0.08582006982448\t\n",
      "4\t0\t0\t-1\t0.43081224774399\t\n",
      "5\t0\t0\t-1\t0.54294575574108\t\n",
      "6\t0\t0\t-1\t0.69898985395981\t\n",
      "7\t0\t0\t-1\t0.78276747555297\t\n",
      "8\t0\t0\t-1\t0.80168791581962\t\n"
     ]
    }
   ],
   "source": [
    "D = ifuncs.get_D(ts)\n",
    "print(ifuncs.count_latent(D))\n",
    "print(ifuncs.get_latent_pos(D))\n",
    "print(np.array(D))\n",
    "\n",
    "print()\n",
    "#see trees in table\n",
    "for tree in ts.simplify().trees(): \n",
    "    ifuncs.draw_tree(tree)\n",
    "    \n",
    "print()\n",
    "print(ts.simplify().tables.nodes)"
   ]
  },
  {
   "cell_type": "code",
   "execution_count": 34,
   "metadata": {
    "ExecuteTime": {
     "end_time": "2019-03-18T18:46:36.865784Z",
     "start_time": "2019-03-18T18:46:36.856547Z"
    }
   },
   "outputs": [],
   "source": [
    "info = ifuncs.get_info(n, ts)"
   ]
  },
  {
   "cell_type": "code",
   "execution_count": null,
   "metadata": {},
   "outputs": [],
   "source": [
    "clik, liks = iliks.get_liks(info, a, ntrees)"
   ]
  },
  {
   "cell_type": "code",
   "execution_count": null,
   "metadata": {},
   "outputs": [],
   "source": []
  }
 ],
 "metadata": {
  "kernelspec": {
   "display_name": "Python 3",
   "language": "python",
   "name": "python3"
  },
  "language_info": {
   "codemirror_mode": {
    "name": "ipython",
    "version": 3
   },
   "file_extension": ".py",
   "mimetype": "text/x-python",
   "name": "python",
   "nbconvert_exporter": "python",
   "pygments_lexer": "ipython3",
   "version": "3.6.7"
  },
  "latex_envs": {
   "LaTeX_envs_menu_present": true,
   "autoclose": false,
   "autocomplete": true,
   "bibliofile": "biblio.bib",
   "cite_by": "apalike",
   "current_citInitial": 1,
   "eqLabelWithNumbers": true,
   "eqNumInitial": 1,
   "hotkeys": {
    "equation": "meta-shift-y"
   },
   "labels_anchors": false,
   "latex_user_defs": false,
   "report_style_numbering": false,
   "user_envs_cfg": false
  },
  "toc": {
   "base_numbering": 1,
   "nav_menu": {},
   "number_sections": true,
   "sideBar": true,
   "skip_h1_title": false,
   "title_cell": "Table of Contents",
   "title_sidebar": "Contents",
   "toc_cell": false,
   "toc_position": {
    "height": "calc(100% - 180px)",
    "left": "10px",
    "top": "150px",
    "width": "211.796875px"
   },
   "toc_section_display": true,
   "toc_window_display": true
  }
 },
 "nbformat": 4,
 "nbformat_minor": 2
}
