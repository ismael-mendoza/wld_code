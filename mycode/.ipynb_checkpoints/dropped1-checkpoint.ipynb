{
 "cells": [
  {
   "cell_type": "markdown",
   "metadata": {},
   "source": [
    "# Preamble "
   ]
  },
  {
   "cell_type": "code",
   "execution_count": 1,
   "metadata": {},
   "outputs": [],
   "source": [
    "import os\n",
    "os.chdir('/nfs/slac/g/ki/ki19/deuce/AEGIS/ismael/WeakLensingDeblending')"
   ]
  },
  {
   "cell_type": "code",
   "execution_count": 6,
   "metadata": {},
   "outputs": [],
   "source": [
    "%matplotlib inline \n",
    "\n",
    "import mycode.tomo.tomo_fncs as tomo_fncs\n",
    "import mycode.errors as errors\n",
    "import mycode.preamble as preamble\n",
    "\n",
    "from tqdm import tqdm \n",
    "import matplotlib.pyplot as plt\n",
    "from matplotlib.lines import Line2D"
   ]
  },
  {
   "cell_type": "code",
   "execution_count": 8,
   "metadata": {},
   "outputs": [],
   "source": [
    "%run mycode/preamble.py"
   ]
  },
  {
   "cell_type": "code",
   "execution_count": 9,
   "metadata": {},
   "outputs": [
    {
     "data": {
      "text/plain": [
       "<module 'mycode.errors' from '/nfs/slac/g/ki/ki19/deuce/AEGIS/ismael/WeakLensingDeblending/mycode/errors.py'>"
      ]
     },
     "execution_count": 9,
     "metadata": {},
     "output_type": "execute_result"
    }
   ],
   "source": [
    "from importlib import reload\n",
    "reload(tomo_fncs)\n",
    "reload(errors)"
   ]
  },
  {
   "cell_type": "markdown",
   "metadata": {},
   "source": [
    "# Read catalogues "
   ]
  },
  {
   "cell_type": "code",
   "execution_count": 11,
   "metadata": {},
   "outputs": [
    {
     "name": "stdout",
     "output_type": "stream",
     "text": [
      "reading final_fitsLSST4\n"
     ]
    }
   ],
   "source": [
    "#default step size\n",
    "#file_names = [f'final_fitsLSST{i}' for i in range(1,10)]\n",
    "file_names = [f'final_fitsLSST{i}' for i in [4]]\n",
    "main_catsLSST = [] \n",
    "for key in file_names:\n",
    "    results = fits.open(files[key])\n",
    "    #main_catsLSST.append(get_non_duplicated_cat(Table.read(results,hdu=1))) #assume not many objects are duplicated/bad.\n",
    "    main_catsLSST.append(Table.read(results,hdu=1))\n",
    "    print('reading {}'.format(key))"
   ]
  },
  {
   "cell_type": "code",
   "execution_count": 12,
   "metadata": {},
   "outputs": [
    {
     "name": "stdout",
     "output_type": "stream",
     "text": [
      "reading final_fitsLSST4_ss1\n"
     ]
    }
   ],
   "source": [
    "file_names = [f'final_fitsLSST{i}_ss1' for i in [4]]\n",
    "main_catsLSST_ss1 = [] \n",
    "for key in file_names:\n",
    "    results = fits.open(files[key])\n",
    "    main_catsLSST_ss1.append(Table.read(results,hdu=1)) #assume not many objects are duplicated/bad.\n",
    "    print('reading {}'.format(key))"
   ]
  },
  {
   "cell_type": "markdown",
   "metadata": {},
   "source": [
    "# Test"
   ]
  },
  {
   "cell_type": "code",
   "execution_count": 50,
   "metadata": {},
   "outputs": [],
   "source": [
    "cat = main_catsLSST[0]\n",
    "cat_new = main_catsLSST_ss1[0]"
   ]
  },
  {
   "cell_type": "markdown",
   "metadata": {
    "heading_collapsed": true
   },
   "source": [
    "## same galaxies as function of step sizes? "
   ]
  },
  {
   "cell_type": "code",
   "execution_count": null,
   "metadata": {
    "hidden": true
   },
   "outputs": [],
   "source": []
  },
  {
   "cell_type": "code",
   "execution_count": 13,
   "metadata": {
    "hidden": true
   },
   "outputs": [],
   "source": []
  },
  {
   "cell_type": "code",
   "execution_count": 20,
   "metadata": {
    "hidden": true
   },
   "outputs": [
    {
     "name": "stdout",
     "output_type": "stream",
     "text": [
      "868802\n",
      "868804\n",
      "\n",
      "857154\n",
      "857155\n"
     ]
    }
   ],
   "source": [
    "print(len(cat))\n",
    "print(len(cat_new))\n",
    "print()\n",
    "print(len(set(cat['db_id'])))\n",
    "print(len(set(cat_new['db_id'])))"
   ]
  },
  {
   "cell_type": "code",
   "execution_count": 21,
   "metadata": {
    "hidden": true
   },
   "outputs": [],
   "source": [
    "s1 = set(cat['db_id'])\n",
    "s2 = set(cat_new['db_id'])"
   ]
  },
  {
   "cell_type": "code",
   "execution_count": 27,
   "metadata": {
    "hidden": true
   },
   "outputs": [
    {
     "data": {
      "text/plain": [
       "{2213643547}"
      ]
     },
     "execution_count": 27,
     "metadata": {},
     "output_type": "execute_result"
    }
   ],
   "source": [
    "s2.difference(s1)"
   ]
  },
  {
   "cell_type": "code",
   "execution_count": 28,
   "metadata": {
    "hidden": true
   },
   "outputs": [
    {
     "data": {
      "text/html": [
       "<i>Table length=1</i>\n",
       "<table id=\"table140204559723208\" class=\"table-striped table-bordered table-condensed\">\n",
       "<thead><tr><th>db_id</th><th>grp_id</th><th>grp_size</th><th>grp_rank</th><th>visible</th><th>xmin</th><th>xmax</th><th>ymin</th><th>ymax</th><th>f_disk</th><th>f_bulge</th><th>dx</th><th>dy</th><th>z</th><th>ab_mag</th><th>ri_color</th><th>flux</th><th>sigma_m</th><th>sigma_p</th><th>e1</th><th>e2</th><th>a</th><th>b</th><th>beta</th><th>psf_sigm</th><th>purity</th><th>snr_sky</th><th>snr_iso</th><th>snr_grp</th><th>snr_isof</th><th>snr_grpf</th><th>ds</th><th>dg1</th><th>dg2</th><th>ds_grp</th><th>dg1_grp</th><th>dg2_grp</th><th>hsm_sigm</th><th>hsm_e1</th><th>hsm_e2</th><th>g1_fit</th><th>g2_fit</th><th>bias_f</th><th>bias_s</th><th>bias_g1</th><th>bias_g2</th><th>bias_x</th><th>bias_y</th><th>bias_f_grp</th><th>bias_s_grp</th><th>bias_g1_grp</th><th>bias_g2_grp</th><th>bias_x_grp</th><th>bias_y_grp</th><th>match</th><th>ambig_blend</th></tr></thead>\n",
       "<thead><tr><th>int64</th><th>int64</th><th>int16</th><th>int16</th><th>int16</th><th>int32</th><th>int32</th><th>int32</th><th>int32</th><th>float32</th><th>float32</th><th>float32</th><th>float32</th><th>float32</th><th>float32</th><th>float32</th><th>float32</th><th>float32</th><th>float32</th><th>float32</th><th>float32</th><th>float32</th><th>float32</th><th>float32</th><th>float32</th><th>float32</th><th>float32</th><th>float32</th><th>float32</th><th>float32</th><th>float32</th><th>float32</th><th>float32</th><th>float32</th><th>float32</th><th>float32</th><th>float32</th><th>float32</th><th>float32</th><th>float32</th><th>float32</th><th>float32</th><th>float32</th><th>float32</th><th>float32</th><th>float32</th><th>float32</th><th>float32</th><th>float32</th><th>float32</th><th>float32</th><th>float32</th><th>float32</th><th>float32</th><th>int64</th><th>bool</th></tr></thead>\n",
       "<tr><td>2213643547</td><td>2213643547</td><td>1</td><td>0</td><td>1</td><td>372</td><td>372</td><td>614</td><td>614</td><td>1.0</td><td>0.0</td><td>434.59302</td><td>122.85936</td><td>0.3030377</td><td>27.300314</td><td>0.10472107</td><td>8547.163</td><td>2.314098</td><td>2.3717282</td><td>-0.1317126</td><td>0.08512256</td><td>2.710545</td><td>1.9756353</td><td>1.2839203</td><td>2.3990479</td><td>1.0</td><td>0.050017573</td><td>0.0</td><td>0.0</td><td>0.0</td><td>0.0</td><td>inf</td><td>inf</td><td>inf</td><td>inf</td><td>inf</td><td>inf</td><td>nan</td><td>nan</td><td>nan</td><td>0.0</td><td>0.0</td><td>-0.0</td><td>-0.0</td><td>-0.0</td><td>-0.0</td><td>-0.0</td><td>-0.0</td><td>-0.0</td><td>-0.0</td><td>-0.0</td><td>-0.0</td><td>-0.0</td><td>-0.0</td><td>-1</td><td>True</td></tr>\n",
       "</table>"
      ],
      "text/plain": [
       "<Table length=1>\n",
       "  db_id      grp_id   grp_size grp_rank ... bias_y_grp match ambig_blend\n",
       "  int64      int64     int16    int16   ...  float32   int64     bool   \n",
       "---------- ---------- -------- -------- ... ---------- ----- -----------\n",
       "2213643547 2213643547        1        0 ...       -0.0    -1        True"
      ]
     },
     "execution_count": 28,
     "metadata": {},
     "output_type": "execute_result"
    }
   ],
   "source": [
    "cat_new[cat_new['db_id']==2213643547]"
   ]
  },
  {
   "cell_type": "code",
   "execution_count": 29,
   "metadata": {
    "hidden": true
   },
   "outputs": [
    {
     "data": {
      "text/html": [
       "<i>Table length=0</i>\n",
       "<table id=\"table140204275314248\" class=\"table-striped table-bordered table-condensed\">\n",
       "<thead><tr><th>db_id</th><th>grp_id</th><th>grp_size</th><th>grp_rank</th><th>visible</th><th>xmin</th><th>xmax</th><th>ymin</th><th>ymax</th><th>f_disk</th><th>f_bulge</th><th>dx</th><th>dy</th><th>z</th><th>ab_mag</th><th>ri_color</th><th>flux</th><th>sigma_m</th><th>sigma_p</th><th>e1</th><th>e2</th><th>a</th><th>b</th><th>beta</th><th>psf_sigm</th><th>purity</th><th>snr_sky</th><th>snr_iso</th><th>snr_grp</th><th>snr_isof</th><th>snr_grpf</th><th>ds</th><th>dg1</th><th>dg2</th><th>ds_grp</th><th>dg1_grp</th><th>dg2_grp</th><th>hsm_sigm</th><th>hsm_e1</th><th>hsm_e2</th><th>g1_fit</th><th>g2_fit</th><th>bias_f</th><th>bias_s</th><th>bias_g1</th><th>bias_g2</th><th>bias_x</th><th>bias_y</th><th>bias_f_grp</th><th>bias_s_grp</th><th>bias_g1_grp</th><th>bias_g2_grp</th><th>bias_x_grp</th><th>bias_y_grp</th><th>match</th><th>ambig_blend</th></tr></thead>\n",
       "<thead><tr><th>int64</th><th>int64</th><th>int16</th><th>int16</th><th>int16</th><th>int32</th><th>int32</th><th>int32</th><th>int32</th><th>float32</th><th>float32</th><th>float32</th><th>float32</th><th>float32</th><th>float32</th><th>float32</th><th>float32</th><th>float32</th><th>float32</th><th>float32</th><th>float32</th><th>float32</th><th>float32</th><th>float32</th><th>float32</th><th>float32</th><th>float32</th><th>float32</th><th>float32</th><th>float32</th><th>float32</th><th>float32</th><th>float32</th><th>float32</th><th>float32</th><th>float32</th><th>float32</th><th>float32</th><th>float32</th><th>float32</th><th>float32</th><th>float32</th><th>float32</th><th>float32</th><th>float32</th><th>float32</th><th>float32</th><th>float32</th><th>float32</th><th>float32</th><th>float32</th><th>float32</th><th>float32</th><th>float32</th><th>int64</th><th>bool</th></tr></thead>\n",
       "</table>"
      ],
      "text/plain": [
       "<Table length=0>\n",
       "db_id grp_id grp_size grp_rank ... bias_x_grp bias_y_grp match ambig_blend\n",
       "int64 int64   int16    int16   ...  float32    float32   int64     bool   \n",
       "----- ------ -------- -------- ... ---------- ---------- ----- -----------"
      ]
     },
     "execution_count": 29,
     "metadata": {},
     "output_type": "execute_result"
    }
   ],
   "source": [
    "cat[cat['db_id']==2213643547]"
   ]
  },
  {
   "cell_type": "code",
   "execution_count": 30,
   "metadata": {
    "hidden": true
   },
   "outputs": [],
   "source": [
    "cat1 = get_non_duplicated_cat(cat)"
   ]
  },
  {
   "cell_type": "code",
   "execution_count": 34,
   "metadata": {
    "hidden": true
   },
   "outputs": [],
   "source": [
    "cat1_new = get_non_duplicated_cat(cat_new)"
   ]
  },
  {
   "cell_type": "code",
   "execution_count": 31,
   "metadata": {
    "hidden": true
   },
   "outputs": [
    {
     "data": {
      "text/plain": [
       "845644"
      ]
     },
     "execution_count": 31,
     "metadata": {},
     "output_type": "execute_result"
    }
   ],
   "source": [
    "len(cat1)"
   ]
  },
  {
   "cell_type": "code",
   "execution_count": 33,
   "metadata": {
    "hidden": true
   },
   "outputs": [
    {
     "data": {
      "text/plain": [
       "868802"
      ]
     },
     "execution_count": 33,
     "metadata": {},
     "output_type": "execute_result"
    }
   ],
   "source": [
    "len(cat)"
   ]
  },
  {
   "cell_type": "code",
   "execution_count": 36,
   "metadata": {
    "hidden": true
   },
   "outputs": [
    {
     "data": {
      "text/plain": [
       "845646"
      ]
     },
     "execution_count": 36,
     "metadata": {},
     "output_type": "execute_result"
    }
   ],
   "source": [
    "len(cat1_new)"
   ]
  },
  {
   "cell_type": "code",
   "execution_count": 38,
   "metadata": {
    "hidden": true
   },
   "outputs": [],
   "source": [
    "cat.remove_rows?"
   ]
  },
  {
   "cell_type": "code",
   "execution_count": 40,
   "metadata": {
    "hidden": true
   },
   "outputs": [],
   "source": []
  },
  {
   "cell_type": "markdown",
   "metadata": {},
   "source": [
    "## Find dropped groups quickly "
   ]
  },
  {
   "cell_type": "code",
   "execution_count": 41,
   "metadata": {},
   "outputs": [],
   "source": [
    "grps = np.sort(list(set(cat['grp_id']))) #ids of all the groups, sorted. "
   ]
  },
  {
   "cell_type": "code",
   "execution_count": 60,
   "metadata": {},
   "outputs": [],
   "source": [
    "#create hash map from grp_id to index in catalogue \n",
    "hash_grpid = {} \n",
    "for i, row in enumerate(cat): \n",
    "    grp_id = row['grp_id']\n",
    "    if hash_grpid.get(grp_id, None) is None: \n",
    "        hash_grpid[grp_id] = [] \n",
    "    hash_grpid[grp_id].append(i)"
   ]
  },
  {
   "cell_type": "code",
   "execution_count": 62,
   "metadata": {},
   "outputs": [],
   "source": [
    "grp_sizes = [cat[hash_grpid[grp_id][0]]['grp_size'] for grp_id in grps] #in order of grps. "
   ]
  },
  {
   "cell_type": "code",
   "execution_count": 75,
   "metadata": {},
   "outputs": [],
   "source": [
    "grp_dropped = []  #in order of grps. \n",
    "for grp_id in grps: \n",
    "    cnt = 0\n",
    "    for idx in hash_grpid[grp_id]:\n",
    "        if cat[idx]['snr_grpf'] == 0: \n",
    "            cnt+=1\n",
    "    grp_dropped.append(cnt)"
   ]
  },
  {
   "cell_type": "code",
   "execution_count": 68,
   "metadata": {},
   "outputs": [
    {
     "data": {
      "text/plain": [
       "(array([2.85895e+05, 8.81100e+03, 2.12900e+03, 8.98000e+02, 4.00000e+02,\n",
       "        2.48000e+02, 1.42000e+02, 1.03000e+02, 7.50000e+01, 5.70000e+01]),\n",
       " array([  0.,  10.,  20.,  30.,  40.,  50.,  60.,  70.,  80.,  90., 100.]),\n",
       " <a list of 10 Patch objects>)"
      ]
     },
     "execution_count": 68,
     "metadata": {},
     "output_type": "execute_result"
    },
    {
     "data": {
      "image/png": "[encoded data removed]",
      "text/plain": [
       "<Figure size 432x288 with 1 Axes>"
      ]
     },
     "metadata": {
      "needs_background": "light"
     },
     "output_type": "display_data"
    }
   ],
   "source": [
    "plt.hist(grp_sizes, range=[0, 100])"
   ]
  },
  {
   "cell_type": "code",
   "execution_count": 72,
   "metadata": {},
   "outputs": [
    {
     "data": {
      "text/plain": [
       "474"
      ]
     },
     "execution_count": 72,
     "metadata": {},
     "output_type": "execute_result"
    }
   ],
   "source": [
    "sum(np.array(grp_sizes) > 70) #number of groups with size greater than 70 \n",
    "#quite low compared to the total number of groups... "
   ]
  },
  {
   "cell_type": "code",
   "execution_count": 77,
   "metadata": {},
   "outputs": [
    {
     "data": {
      "text/plain": [
       "[<matplotlib.lines.Line2D at 0x7f83e2bb0eb8>]"
      ]
     },
     "execution_count": 77,
     "metadata": {},
     "output_type": "execute_result"
    },
    {
     "data": {
      "image/png": "[encoded data removed]",
      "text/plain": [
       "<Figure size 576x576 with 1 Axes>"
      ]
     },
     "metadata": {
      "needs_background": "light"
     },
     "output_type": "display_data"
    }
   ],
   "source": [
    "plt.figure(figsize=(8,8))\n",
    "plt.plot(grp_dropped)"
   ]
  },
  {
   "cell_type": "code",
   "execution_count": 89,
   "metadata": {},
   "outputs": [
    {
     "data": {
      "text/plain": [
       "2067"
      ]
     },
     "execution_count": 89,
     "metadata": {},
     "output_type": "execute_result"
    }
   ],
   "source": [
    "np.sum(np.array(grp_sizes)[np.array(grp_dropped) > 0])"
   ]
  },
  {
   "cell_type": "code",
   "execution_count": 83,
   "metadata": {},
   "outputs": [
    {
     "data": {
      "text/plain": [
       "299005"
      ]
     },
     "execution_count": 83,
     "metadata": {},
     "output_type": "execute_result"
    }
   ],
   "source": [
    "len(grp_dropped)"
   ]
  },
  {
   "cell_type": "code",
   "execution_count": 90,
   "metadata": {},
   "outputs": [
    {
     "data": {
      "text/plain": [
       "299005"
      ]
     },
     "execution_count": 90,
     "metadata": {},
     "output_type": "execute_result"
    }
   ],
   "source": [
    "len(grps)"
   ]
  },
  {
   "cell_type": "markdown",
   "metadata": {},
   "source": [
    "## See if after dropping these groups step size dependence disappears on weight plots "
   ]
  },
  {
   "cell_type": "code",
   "execution_count": 93,
   "metadata": {},
   "outputs": [],
   "source": [
    "def get_not_dropped_cat(cat): \n",
    "    grps = np.sort(list(set(cat['grp_id']))) #ids of all the groups, sorted. \n",
    "    \n",
    "    #create hash map from grp_id to index in catalogue \n",
    "    hash_grpid = {} \n",
    "    for i, row in enumerate(cat): \n",
    "        grp_id = row['grp_id']\n",
    "        if hash_grpid.get(grp_id, None) is None: \n",
    "            hash_grpid[grp_id] = [] \n",
    "        hash_grpid[grp_id].append(i)\n",
    "    \n",
    "    grp_sizes = [cat[hash_grpid[grp_id][0]]['grp_size'] for grp_id in grps] #in order of grps. \n",
    "    \n",
    "    grp_dropped = []  #in order of grps. \n",
    "    for grp_id in grps: \n",
    "        cnt = 0\n",
    "        for idx in hash_grpid[grp_id]:\n",
    "            if cat[idx]['snr_grpf'] == 0: \n",
    "                cnt+=1\n",
    "        grp_dropped.append(cnt)\n",
    "        \n",
    "    grps_not_dropped = np.array(grps)[np.array(grp_dropped) == 0]\n",
    "    return get_slice(cat, 'grp_id', set(list(grps_not_dropped)))"
   ]
  },
  {
   "cell_type": "code",
   "execution_count": 94,
   "metadata": {},
   "outputs": [
    {
     "name": "stdout",
     "output_type": "stream",
     "text": [
      "in slices...\n"
     ]
    }
   ],
   "source": [
    "cat2 = get_not_dropped_cat(cat)"
   ]
  },
  {
   "cell_type": "code",
   "execution_count": 101,
   "metadata": {},
   "outputs": [
    {
     "name": "stdout",
     "output_type": "stream",
     "text": [
      "in slices...\n"
     ]
    }
   ],
   "source": [
    "cat2_new = get_not_dropped_cat(cat_new)"
   ]
  },
  {
   "cell_type": "code",
   "execution_count": 98,
   "metadata": {},
   "outputs": [],
   "source": [
    "scat = good(best(deepcopy(cat2)))"
   ]
  },
  {
   "cell_type": "code",
   "execution_count": 104,
   "metadata": {},
   "outputs": [],
   "source": [
    "scat_new = good(best(deepcopy(cat2_new)));"
   ]
  },
  {
   "cell_type": "code",
   "execution_count": 108,
   "metadata": {},
   "outputs": [],
   "source": [
    "#param is usually one of the biases. \n",
    "def get_iso_or_grp_suffix(iso_or_grp):\n",
    "    suffix = ''\n",
    "    if iso_or_grp == 'grp': \n",
    "        suffix = '_grp'\n",
    "        \n",
    "    return suffix \n",
    "    \n",
    "\n",
    "def get_weights(args, component, iso_or_grp): \n",
    "    suffix = get_iso_or_grp_suffix(iso_or_grp)\n",
    "    shape_noise = np.std(args[f'e{component}'])**2 \n",
    "    weights = (shape_noise + args[f'dg{component}{suffix}']**2)**(-1)\n",
    "    \n",
    "    return weights \n",
    "\n",
    "\n",
    "def wmean_func(dbt, cat, component, iso_or_grp):\n",
    "    assert component in ['1','2'], 'component value is not valid. '\n",
    "    assert iso_or_grp in ['iso', 'grp'], 'iso_or_grp received invalied argument'\n",
    "    \n",
    "    suffix = get_iso_or_grp_suffix(iso_or_grp)\n",
    "    weights = get_weights(args, component, iso_or_grp)\n",
    "    return np.sum(weights*dbt)/np.sum(weights) \n",
    "\n",
    "def wmean(dbt, args, component, iso_or_grp): \n",
    "    return lambda dbt: wmean_func(dbt, args, component, iso_or_grp)\n",
    "\n",
    "\n",
    "def get_error(dbt, fnc, N=1000): \n",
    "    results = boot_fnc(dbt, fnc, N)\n",
    "    return np.std(results)\n",
    "\n",
    "def boot_fnc(dbt, fnc, N=1000):\n",
    "    results = [] \n",
    "    for i in range(N): \n",
    "        results.append(fnc(np.random.choice(dbt,len(dbt), replace=True)))\n",
    "    return results \n",
    "\n",
    "def clipped_mean(dbt, p): \n",
    "    if p == 0.5: \n",
    "        return np.median(dbt)\n",
    "    \n",
    "    q1 = np.quantile(dbt, p)\n",
    "    q2 = np.quantile(dbt, 1-p)\n",
    "    cut_dbt = cut_both(dbt, q1, q2)\n",
    "    mean = np.mean(cut_dbt)\n",
    "    return mean \n",
    "\n",
    "def clipped_mean_fnc(p): \n",
    "    return lambda dbt: clipped_mean(dbt, p) \n",
    "\n",
    "def cut_both(dbt, cut1, cut2): \n",
    "    return dbt[(dbt>=cut1)&(dbt<=cut2)]"
   ]
  },
  {
   "cell_type": "code",
   "execution_count": 109,
   "metadata": {},
   "outputs": [
    {
     "data": {
      "text/plain": [
       "<matplotlib.legend.Legend at 0x7f83b63a8d30>"
      ]
     },
     "execution_count": 109,
     "metadata": {},
     "output_type": "execute_result"
    },
    {
     "data": {
      "image/png": "[encoded data removed]",
      "text/plain": [
       "<Figure size 720x720 with 1 Axes>"
      ]
     },
     "metadata": {
      "needs_background": "light"
     },
     "output_type": "display_data"
    }
   ],
   "source": [
    "plt.figure(figsize=(10,10)) \n",
    "cat1 = scat\n",
    "# cat2 = scats[8]\n",
    "weights1 = get_weights(cat1, '1', 'grp')\n",
    "# weights2 = get_weights(cat2, '1')\n",
    "\n",
    "plt.scatter(cat1['bias_g1_grp'], weights1, alpha=1, s=0.5, c='b')\n",
    "# plt.scatter(cat2['bias_g1'], weights2, alpha=1, s=0.5, label= 'g=0.2', c= 'r')\n",
    "plt.title('g =0', size = 18 )\n",
    "plt.xlabel('Bias on g1 (blending on)', size=18)\n",
    "plt.ylabel('Weights for g1', size=18)\n",
    "plt.xlim(-3, 3)\n",
    "\n",
    "lines = [plt.Circle((0, 0), 0.2, color='b')]\n",
    "labels= ['g=0']\n",
    "\n",
    "plt.legend(lines, labels, prop={'size':20},loc='best')\n",
    "\n",
    "\n",
    "\n"
   ]
  },
  {
   "cell_type": "code",
   "execution_count": 2,
   "metadata": {},
   "outputs": [
    {
     "ename": "NameError",
     "evalue": "name 'scat' is not defined",
     "output_type": "error",
     "traceback": [
      "\u001b[0;31m---------------------------------------------------------------------------\u001b[0m",
      "\u001b[0;31mNameError\u001b[0m                                 Traceback (most recent call last)",
      "\u001b[0;32m<ipython-input-2-00fd429d6221>\u001b[0m in \u001b[0;36m<module>\u001b[0;34m\u001b[0m\n\u001b[0;32m----> 1\u001b[0;31m \u001b[0mscat\u001b[0m\u001b[0;34m[\u001b[0m\u001b[0mscat\u001b[0m\u001b[0;34m[\u001b[0m\u001b[0;34m'bias_g1_grp'\u001b[0m\u001b[0;34m]\u001b[0m\u001b[0;34m<\u001b[0m \u001b[0;34m-\u001b[0m\u001b[0;36m2.9\u001b[0m \u001b[0;34m&\u001b[0m \u001b[0mscat\u001b[0m\u001b[0;34m[\u001b[0m\u001b[0;34m'dg1_grp'\u001b[0m\u001b[0;34m]\u001b[0m \u001b[0;34m<\u001b[0m \u001b[0;36m1\u001b[0m\u001b[0;34m]\u001b[0m\u001b[0;34m\u001b[0m\u001b[0m\n\u001b[0m",
      "\u001b[0;31mNameError\u001b[0m: name 'scat' is not defined"
     ]
    }
   ],
   "source": [
    "scat[scat['bias_g1_grp']< -2.9 & scat['dg1_grp'] < 1]"
   ]
  },
  {
   "cell_type": "code",
   "execution_count": 111,
   "metadata": {},
   "outputs": [
    {
     "data": {
      "text/html": [
       "<i>Table length=1</i>\n",
       "<table id=\"table140203674450184\" class=\"table-striped table-bordered table-condensed\">\n",
       "<thead><tr><th>db_id</th><th>grp_id</th><th>grp_size</th><th>grp_rank</th><th>visible</th><th>xmin</th><th>xmax</th><th>ymin</th><th>ymax</th><th>f_disk</th><th>f_bulge</th><th>dx</th><th>dy</th><th>z</th><th>ab_mag</th><th>ri_color</th><th>flux</th><th>sigma_m</th><th>sigma_p</th><th>e1</th><th>e2</th><th>a</th><th>b</th><th>beta</th><th>psf_sigm</th><th>purity</th><th>snr_sky</th><th>snr_iso</th><th>snr_grp</th><th>snr_isof</th><th>snr_grpf</th><th>ds</th><th>dg1</th><th>dg2</th><th>ds_grp</th><th>dg1_grp</th><th>dg2_grp</th><th>hsm_sigm</th><th>hsm_e1</th><th>hsm_e2</th><th>g1_fit</th><th>g2_fit</th><th>bias_f</th><th>bias_s</th><th>bias_g1</th><th>bias_g2</th><th>bias_x</th><th>bias_y</th><th>bias_f_grp</th><th>bias_s_grp</th><th>bias_g1_grp</th><th>bias_g2_grp</th><th>bias_x_grp</th><th>bias_y_grp</th><th>match</th><th>ambig_blend</th></tr></thead>\n",
       "<thead><tr><th>int64</th><th>int64</th><th>int16</th><th>int16</th><th>int16</th><th>int32</th><th>int32</th><th>int32</th><th>int32</th><th>float32</th><th>float32</th><th>float32</th><th>float32</th><th>float32</th><th>float32</th><th>float32</th><th>float32</th><th>float32</th><th>float32</th><th>float32</th><th>float32</th><th>float32</th><th>float32</th><th>float32</th><th>float32</th><th>float32</th><th>float32</th><th>float32</th><th>float32</th><th>float32</th><th>float32</th><th>float32</th><th>float32</th><th>float32</th><th>float32</th><th>float32</th><th>float32</th><th>float32</th><th>float32</th><th>float32</th><th>float32</th><th>float32</th><th>float32</th><th>float32</th><th>float32</th><th>float32</th><th>float32</th><th>float32</th><th>float32</th><th>float32</th><th>float32</th><th>float32</th><th>float32</th><th>float32</th><th>int64</th><th>bool</th></tr></thead>\n",
       "<tr><td>402700405083</td><td>402700091473</td><td>13</td><td>2</td><td>1</td><td>1419</td><td>1456</td><td>1009</td><td>1043</td><td>1.0</td><td>0.0</td><td>-1152.3438</td><td>-1234.7651</td><td>0.1824017</td><td>22.46672</td><td>0.27773285</td><td>733262.3</td><td>0.8454712</td><td>0.8522636</td><td>0.054287612</td><td>0.07109485</td><td>0.9248075</td><td>0.7729409</td><td>0.4593258</td><td>1.049402</td><td>0.9393378</td><td>113.55517</td><td>112.02573</td><td>111.98066</td><td>68.46052</td><td>47.675</td><td>0.016278762</td><td>0.013786348</td><td>0.01382494</td><td>0.020122258</td><td>0.016833318</td><td>0.01825313</td><td>0.7268344</td><td>0.10634987</td><td>0.13927947</td><td>0.0</td><td>0.0</td><td>119.847084</td><td>-0.0001595175</td><td>3.463352e-05</td><td>3.7837326e-05</td><td>5.491241e-09</td><td>-4.7967443e-09</td><td>16256224.0</td><td>-86.99043</td><td>-100.38515</td><td>332.19327</td><td>213.84265</td><td>271.6501</td><td>2560</td><td>False</td></tr>\n",
       "</table>"
      ],
      "text/plain": [
       "<Table length=1>\n",
       "   db_id        grp_id    grp_size grp_rank ... bias_y_grp match ambig_blend\n",
       "   int64        int64      int16    int16   ...  float32   int64     bool   \n",
       "------------ ------------ -------- -------- ... ---------- ----- -----------\n",
       "402700405083 402700091473       13        2 ...   271.6501  2560       False"
      ]
     },
     "execution_count": 111,
     "metadata": {},
     "output_type": "execute_result"
    }
   ],
   "source": [
    "scat[scat['grp_id']==402700091473]"
   ]
  },
  {
   "cell_type": "code",
   "execution_count": 112,
   "metadata": {},
   "outputs": [
    {
     "data": {
      "text/html": [
       "<i>Table length=13</i>\n",
       "<table id=\"table140203674547032\" class=\"table-striped table-bordered table-condensed\">\n",
       "<thead><tr><th>db_id</th><th>grp_id</th><th>grp_size</th><th>grp_rank</th><th>visible</th><th>xmin</th><th>xmax</th><th>ymin</th><th>ymax</th><th>f_disk</th><th>f_bulge</th><th>dx</th><th>dy</th><th>z</th><th>ab_mag</th><th>ri_color</th><th>flux</th><th>sigma_m</th><th>sigma_p</th><th>e1</th><th>e2</th><th>a</th><th>b</th><th>beta</th><th>psf_sigm</th><th>purity</th><th>snr_sky</th><th>snr_iso</th><th>snr_grp</th><th>snr_isof</th><th>snr_grpf</th><th>ds</th><th>dg1</th><th>dg2</th><th>ds_grp</th><th>dg1_grp</th><th>dg2_grp</th><th>hsm_sigm</th><th>hsm_e1</th><th>hsm_e2</th><th>g1_fit</th><th>g2_fit</th><th>bias_f</th><th>bias_s</th><th>bias_g1</th><th>bias_g2</th><th>bias_x</th><th>bias_y</th><th>bias_f_grp</th><th>bias_s_grp</th><th>bias_g1_grp</th><th>bias_g2_grp</th><th>bias_x_grp</th><th>bias_y_grp</th><th>match</th><th>ambig_blend</th></tr></thead>\n",
       "<thead><tr><th>int64</th><th>int64</th><th>int16</th><th>int16</th><th>int16</th><th>int32</th><th>int32</th><th>int32</th><th>int32</th><th>float32</th><th>float32</th><th>float32</th><th>float32</th><th>float32</th><th>float32</th><th>float32</th><th>float32</th><th>float32</th><th>float32</th><th>float32</th><th>float32</th><th>float32</th><th>float32</th><th>float32</th><th>float32</th><th>float32</th><th>float32</th><th>float32</th><th>float32</th><th>float32</th><th>float32</th><th>float32</th><th>float32</th><th>float32</th><th>float32</th><th>float32</th><th>float32</th><th>float32</th><th>float32</th><th>float32</th><th>float32</th><th>float32</th><th>float32</th><th>float32</th><th>float32</th><th>float32</th><th>float32</th><th>float32</th><th>float32</th><th>float32</th><th>float32</th><th>float32</th><th>float32</th><th>float32</th><th>int64</th><th>bool</th></tr></thead>\n",
       "<tr><td>402712967705</td><td>402700091473</td><td>13</td><td>7</td><td>1</td><td>1421</td><td>1429</td><td>1024</td><td>1032</td><td>1.0</td><td>0.0</td><td>-1154.9216</td><td>-1234.238</td><td>1.6766353</td><td>27.275099</td><td>0.012628555</td><td>8747.985</td><td>0.11857346</td><td>0.11905566</td><td>0.016704015</td><td>0.061476514</td><td>0.12638396</td><td>0.111245655</td><td>0.65274394</td><td>0.62974703</td><td>0.45620552</td><td>2.8574078</td><td>2.855404</td><td>2.8537266</td><td>1.9801271</td><td>1.5914547</td><td>3.7289844</td><td>3.6367354</td><td>3.6942847</td><td>4.210718</td><td>3.9947686</td><td>4.0408897</td><td>0.35989445</td><td>0.046681587</td><td>0.106411524</td><td>0.0</td><td>0.0</td><td>4304.296</td><td>-27.398703</td><td>2.2086117</td><td>6.395003</td><td>-0.00097155786</td><td>0.0031741078</td><td>-159144160.0</td><td>-75076.18</td><td>-137435.2</td><td>-98963.664</td><td>335.2941</td><td>-37.451344</td><td>-1</td><td>False</td></tr>\n",
       "<tr><td>402700405083</td><td>402700091473</td><td>13</td><td>2</td><td>1</td><td>1419</td><td>1456</td><td>1009</td><td>1043</td><td>1.0</td><td>0.0</td><td>-1152.3438</td><td>-1234.7651</td><td>0.1824017</td><td>22.46672</td><td>0.27773285</td><td>733262.3</td><td>0.8454712</td><td>0.8522636</td><td>0.054287612</td><td>0.07109485</td><td>0.9248075</td><td>0.7729409</td><td>0.4593258</td><td>1.049402</td><td>0.9393378</td><td>113.55517</td><td>112.02573</td><td>111.98066</td><td>68.46052</td><td>47.675</td><td>0.016278762</td><td>0.013786348</td><td>0.01382494</td><td>0.020122258</td><td>0.016833318</td><td>0.01825313</td><td>0.7268344</td><td>0.10634987</td><td>0.13927947</td><td>0.0</td><td>0.0</td><td>119.847084</td><td>-0.0001595175</td><td>3.463352e-05</td><td>3.7837326e-05</td><td>5.491241e-09</td><td>-4.7967443e-09</td><td>16256224.0</td><td>-86.99043</td><td>-100.38515</td><td>332.19327</td><td>213.84265</td><td>271.6501</td><td>2560</td><td>False</td></tr>\n",
       "<tr><td>402701870712</td><td>402700091473</td><td>13</td><td>4</td><td>1</td><td>1435</td><td>1450</td><td>1023</td><td>1044</td><td>0.9894138</td><td>0.010586217</td><td>-1151.3374</td><td>-1233.2069</td><td>1.7029451</td><td>24.440788</td><td>0.687294</td><td>119023.38</td><td>0.32453036</td><td>0.51035815</td><td>-0.4215528</td><td>0.4964239</td><td>0.7061784</td><td>0.14914072</td><td>1.1374068</td><td>0.772729</td><td>0.6007491</td><td>30.731564</td><td>30.55088</td><td>30.485165</td><td>20.30289</td><td>11.69565</td><td>0.284257</td><td>0.18417104</td><td>0.21749169</td><td>0.3332967</td><td>0.19956696</td><td>0.23180799</td><td>0.45582715</td><td>-0.61239564</td><td>0.721146</td><td>0.0</td><td>0.0</td><td>339.38885</td><td>-0.10900283</td><td>-0.092154875</td><td>0.11117218</td><td>-1.302956e-07</td><td>-4.1622336e-08</td><td>-416263330.0</td><td>-10022.434</td><td>-3854.8896</td><td>4412.5317</td><td>187.98807</td><td>414.1522</td><td>-1</td><td>False</td></tr>\n",
       "<tr><td>402715347954</td><td>402700091473</td><td>13</td><td>10</td><td>1</td><td>1450</td><td>1457</td><td>1000</td><td>1008</td><td>1.0</td><td>0.0</td><td>-1149.2029</td><td>-1239.0142</td><td>1.182581</td><td>27.692816</td><td>0.20685005</td><td>5954.171</td><td>0.23703223</td><td>0.23707639</td><td>-0.011067914</td><td>0.007983862</td><td>0.2402894</td><td>0.23381923</td><td>1.2583399</td><td>0.6622791</td><td>0.94440484</td><td>1.7156454</td><td>1.7149974</td><td>1.714974</td><td>1.0254294</td><td>1.025398</td><td>2.7583876</td><td>2.5520024</td><td>2.4628406</td><td>2.7584522</td><td>2.5520625</td><td>2.4629104</td><td>0.39037627</td><td>-0.048902355</td><td>0.011508429</td><td>0.0</td><td>0.0</td><td>10841.201</td><td>-7.819022</td><td>-0.2548048</td><td>0.25515112</td><td>-0.0020823744</td><td>0.008740879</td><td>-283010530.0</td><td>-107890.05</td><td>-8871.613</td><td>888.0093</td><td>33.240448</td><td>-117.64985</td><td>-1</td><td>False</td></tr>\n",
       "<tr><td>402716279778</td><td>402700091473</td><td>13</td><td>12</td><td>1</td><td>1445</td><td>1447</td><td>989</td><td>991</td><td>1.0</td><td>0.0</td><td>-1150.692</td><td>-1241.8964</td><td>0.1820528</td><td>27.756495</td><td>0.24029922</td><td>5615.0005</td><td>1.741279</td><td>1.7416517</td><td>-0.014569772</td><td>-0.0013167156</td><td>1.7669414</td><td>1.7159891</td><td>-1.5257322</td><td>1.847866</td><td>0.60449755</td><td>0.113108106</td><td>0.0</td><td>0.11309707</td><td>0.0</td><td>1.3493128e-05</td><td>inf</td><td>inf</td><td>inf</td><td>37330.15</td><td>412.8633</td><td>24826498.0</td><td>nan</td><td>nan</td><td>nan</td><td>0.0</td><td>0.0</td><td>-0.0</td><td>-0.0</td><td>-0.0</td><td>-0.0</td><td>-0.0</td><td>-0.0</td><td>-2.5076666e+18</td><td>-240352190000000.0</td><td>4137165800000.0</td><td>3.6665404e+17</td><td>1680177200000000.0</td><td>3813721800000000.0</td><td>-1</td><td>False</td></tr>\n",
       "<tr><td>402715153906</td><td>402700091473</td><td>13</td><td>9</td><td>1</td><td>1416</td><td>1424</td><td>982</td><td>989</td><td>1.0</td><td>0.0</td><td>-1155.8491</td><td>-1242.784</td><td>2.3812208</td><td>27.511503</td><td>-0.16957855</td><td>7036.3315</td><td>0.13907956</td><td>0.15464467</td><td>0.3058555</td><td>-0.11018259</td><td>0.19487955</td><td>0.09925681</td><td>-0.17288575</td><td>0.63724613</td><td>0.794362</td><td>2.2453094</td><td>2.244094</td><td>2.243849</td><td>1.5035278</td><td>1.503187</td><td>5.443269</td><td>5.1604557</td><td>3.6446044</td><td>5.444081</td><td>5.1610994</td><td>3.6450229</td><td>0.36361513</td><td>0.44693658</td><td>-0.18153168</td><td>0.0</td><td>0.0</td><td>6314.41</td><td>-48.951984</td><td>47.200924</td><td>-16.77162</td><td>0.006298918</td><td>0.0050540054</td><td>51933.24</td><td>-16.913418</td><td>32.856148</td><td>-2.7595024</td><td>2.4770083</td><td>0.82185286</td><td>-1</td><td>False</td></tr>\n",
       "<tr><td>402708224773</td><td>402700091473</td><td>13</td><td>6</td><td>1</td><td>1429</td><td>1441</td><td>1006</td><td>1021</td><td>1.0</td><td>0.0</td><td>-1152.8386</td><td>-1237.2897</td><td>0.7018552</td><td>26.352098</td><td>1.0275192</td><td>20469.545</td><td>0.49639317</td><td>0.52263284</td><td>-0.16814198</td><td>-0.15229459</td><td>0.6253082</td><td>0.39405555</td><td>-1.2028049</td><td>0.8030401</td><td>0.18355322</td><td>4.4219832</td><td>4.4187603</td><td>4.410582</td><td>2.625475</td><td>1.8253607</td><td>0.58915734</td><td>0.48775232</td><td>0.4832604</td><td>0.7834954</td><td>0.6816302</td><td>0.5468839</td><td>0.5279732</td><td>-0.3069243</td><td>-0.27860734</td><td>0.0</td><td>0.0</td><td>3632.013</td><td>-0.20505619</td><td>-0.13540314</td><td>-0.1298682</td><td>0.0003620512</td><td>3.670228e-05</td><td>-17289380.0</td><td>-917.8938</td><td>295.96042</td><td>-409.7591</td><td>63.68084</td><td>294.6815</td><td>-1</td><td>False</td></tr>\n",
       "<tr><td>402713153814</td><td>402700091473</td><td>13</td><td>8</td><td>1</td><td>1425</td><td>1433</td><td>1007</td><td>1017</td><td>0.98865926</td><td>0.011340734</td><td>-1154.0393</td><td>-1237.4564</td><td>2.284668</td><td>27.291819</td><td>-0.07946968</td><td>8614.303</td><td>0.23541224</td><td>0.24768856</td><td>-0.18568167</td><td>0.12772053</td><td>0.29608342</td><td>0.18717335</td><td>1.269535</td><td>0.6655673</td><td>0.032787826</td><td>2.4900398</td><td>2.4886909</td><td>2.4648674</td><td>1.571694</td><td>0.9365456</td><td>2.0267484</td><td>1.799174</td><td>1.7039176</td><td>2.5894144</td><td>2.0727038</td><td>1.877853</td><td>0.39954406</td><td>-0.32148972</td><td>0.21935658</td><td>0.0</td><td>0.0</td><td>6003.137</td><td>-4.886408</td><td>-3.1345065</td><td>2.2212002</td><td>0.007208726</td><td>-0.0026825229</td><td>-15481172.0</td><td>-2894.293</td><td>30.932713</td><td>1712.8823</td><td>214.92062</td><td>596.1086</td><td>-1</td><td>False</td></tr>\n",
       "<tr><td>402700091473</td><td>402700091473</td><td>13</td><td>0</td><td>1</td><td>1397</td><td>1452</td><td>981</td><td>1031</td><td>0.9049604</td><td>0.0950396</td><td>-1154.968</td><td>-1238.6301</td><td>0.9497412</td><td>20.576916</td><td>0.60656166</td><td>4180048.2</td><td>0.69766045</td><td>0.7906163</td><td>0.28840968</td><td>-0.20310545</td><td>1.008594</td><td>0.48258272</td><td>-0.3067781</td><td>0.9633362</td><td>0.8457616</td><td>763.4205</td><td>692.9067</td><td>681.351</td><td>445.99463</td><td>65.1277</td><td>0.0033333418</td><td>0.0026271255</td><td>0.0022968634</td><td>0.0101734465</td><td>0.006172464</td><td>0.005079853</td><td>0.60937136</td><td>0.5528364</td><td>-0.38777176</td><td>0.0</td><td>0.0</td><td>16.666622</td><td>-8.477899e-06</td><td>7.989479e-06</td><td>-5.443746e-06</td><td>1.7304377e-11</td><td>6.561174e-13</td><td>-400113340.0</td><td>52.11356</td><td>-18.76197</td><td>54.422577</td><td>-11.373869</td><td>15.498031</td><td>2562</td><td>True</td></tr>\n",
       "<tr><td>402700563961</td><td>402700091473</td><td>13</td><td>1</td><td>1</td><td>1411</td><td>1439</td><td>992</td><td>1021</td><td>0.5822192</td><td>0.4177808</td><td>-1154.9075</td><td>-1238.6718</td><td>0.6847473</td><td>22.792753</td><td>1.0863018</td><td>543058.1</td><td>0.25755525</td><td>0.27013823</td><td>0.19175784</td><td>-0.10436632</td><td>0.321541</td><td>0.20630248</td><td>-0.2492132</td><td>0.674069</td><td>0.177132</td><td>151.00449</td><td>146.20103</td><td>130.65373</td><td>71.2518</td><td>7.310984</td><td>0.073080905</td><td>0.055613358</td><td>0.039712775</td><td>0.23849054</td><td>0.14369532</td><td>0.09341008</td><td>0.39658076</td><td>0.5233794</td><td>-0.27936798</td><td>0.0</td><td>0.0</td><td>85.7452</td><td>-0.0017185126</td><td>0.0023629465</td><td>-0.0012299104</td><td>3.406909e-09</td><td>5.7904264e-09</td><td>401282850.0</td><td>447.43027</td><td>354.19275</td><td>-773.28894</td><td>9.521396</td><td>-34.781193</td><td>-1</td><td>True</td></tr>\n",
       "<tr><td>402708281271</td><td>402700091473</td><td>13</td><td>5</td><td>1</td><td>1417</td><td>1427</td><td>1029</td><td>1039</td><td>0.9842791</td><td>0.015720928</td><td>-1155.5092</td><td>-1233.1249</td><td>2.3842304</td><td>26.468794</td><td>-0.251297</td><td>18383.578</td><td>0.1954251</td><td>0.26930192</td><td>0.042494215</td><td>-0.5552425</td><td>0.36630136</td><td>0.104261056</td><td>-0.7472063</td><td>0.67136997</td><td>0.8943453</td><td>5.496039</td><td>5.4893136</td><td>5.4889584</td><td>3.7114348</td><td>3.054809</td><td>2.4008503</td><td>0.747146</td><td>2.3552692</td><td>2.4549346</td><td>0.82281375</td><td>2.4033182</td><td>0.39598483</td><td>0.06385044</td><td>-0.84955055</td><td>0.0</td><td>0.0</td><td>1994.1498</td><td>-8.513316</td><td>0.99575645</td><td>-10.8255415</td><td>-5.1294504e-05</td><td>-2.4180325e-05</td><td>9883.8</td><td>-2.3323126</td><td>-0.48286784</td><td>-4.047141</td><td>-0.12363666</td><td>-0.14642224</td><td>-1</td><td>False</td></tr>\n",
       "<tr><td>402701822111</td><td>402700091473</td><td>13</td><td>3</td><td>1</td><td>1393</td><td>1413</td><td>1025</td><td>1041</td><td>0.99465644</td><td>0.0053435685</td><td>-1159.2836</td><td>-1233.3038</td><td>1.7377604</td><td>24.184498</td><td>0.29489517</td><td>150712.22</td><td>0.31201464</td><td>0.35012877</td><td>0.24078026</td><td>-0.23826075</td><td>0.44395187</td><td>0.21928757</td><td>-0.39006937</td><td>0.7067357</td><td>0.99220985</td><td>40.12026</td><td>39.805603</td><td>39.80404</td><td>26.426779</td><td>10.638951</td><td>0.099311344</td><td>0.081427366</td><td>0.08043992</td><td>0.1355902</td><td>0.107177764</td><td>0.11397026</td><td>0.44331875</td><td>0.4369758</td><td>-0.43250695</td><td>0.0</td><td>0.0</td><td>244.79425</td><td>-0.012213383</td><td>0.008857823</td><td>-0.008510397</td><td>-3.1002099e-09</td><td>-1.9820334e-08</td><td>26149.53</td><td>0.21297081</td><td>0.07234264</td><td>-0.07657321</td><td>0.07251516</td><td>-0.0145141445</td><td>2580</td><td>True</td></tr>\n",
       "<tr><td>402716222596</td><td>402700091473</td><td>13</td><td>11</td><td>1</td><td>1404</td><td>1412</td><td>1029</td><td>1038</td><td>1.0</td><td>0.0</td><td>-1158.3201</td><td>-1233.1793</td><td>1.4594624</td><td>27.728186</td><td>0.13522911</td><td>5763.328</td><td>0.76083773</td><td>0.7625715</td><td>-0.047511365</td><td>0.004342451</td><td>0.7980456</td><td>0.7253646</td><td>1.5252239</td><td>0.9809869</td><td>0.058901917</td><td>0.887561</td><td>0.887439</td><td>0.88569635</td><td>0.26916286</td><td>0.19289052</td><td>4.117198</td><td>3.009333</td><td>2.882431</td><td>4.5184417</td><td>3.9826975</td><td>3.7102704</td><td>0.51891875</td><td>-0.12103198</td><td>0.004411115</td><td>0.0</td><td>0.0</td><td>120260.47</td><td>7.8964977</td><td>-0.465999</td><td>0.0979627</td><td>-0.21778955</td><td>0.19106488</td><td>97372.83</td><td>-3.1340885</td><td>-12.811768</td><td>-11.045115</td><td>3.5027843</td><td>5.7383513</td><td>-1</td><td>True</td></tr>\n",
       "</table>"
      ],
      "text/plain": [
       "<Table length=13>\n",
       "   db_id        grp_id    grp_size ...     bias_y_grp     match ambig_blend\n",
       "   int64        int64      int16   ...      float32       int64     bool   \n",
       "------------ ------------ -------- ... ------------------ ----- -----------\n",
       "402712967705 402700091473       13 ...         -37.451344    -1       False\n",
       "402700405083 402700091473       13 ...           271.6501  2560       False\n",
       "402701870712 402700091473       13 ...           414.1522    -1       False\n",
       "402715347954 402700091473       13 ...         -117.64985    -1       False\n",
       "402716279778 402700091473       13 ... 3813721800000000.0    -1       False\n",
       "402715153906 402700091473       13 ...         0.82185286    -1       False\n",
       "402708224773 402700091473       13 ...           294.6815    -1       False\n",
       "402713153814 402700091473       13 ...           596.1086    -1       False\n",
       "402700091473 402700091473       13 ...          15.498031  2562        True\n",
       "402700563961 402700091473       13 ...         -34.781193    -1        True\n",
       "402708281271 402700091473       13 ...        -0.14642224    -1       False\n",
       "402701822111 402700091473       13 ...      -0.0145141445  2580        True\n",
       "402716222596 402700091473       13 ...          5.7383513    -1        True"
      ]
     },
     "execution_count": 112,
     "metadata": {},
     "output_type": "execute_result"
    }
   ],
   "source": [
    "cat[cat['grp_id']==402700091473]\n",
    "#note however that one member in group has snr_iso = snr_isof = 0. "
   ]
  },
  {
   "cell_type": "code",
   "execution_count": null,
   "metadata": {},
   "outputs": [],
   "source": []
  }
 ],
 "metadata": {
  "kernelspec": {
   "display_name": "igalsim",
   "language": "python",
   "name": "igalsim"
  },
  "language_info": {
   "codemirror_mode": {
    "name": "ipython",
    "version": 3
   },
   "file_extension": ".py",
   "mimetype": "text/x-python",
   "name": "python",
   "nbconvert_exporter": "python",
   "pygments_lexer": "ipython3",
   "version": "3.7.0"
  },
  "toc": {
   "base_numbering": 1,
   "nav_menu": {},
   "number_sections": true,
   "sideBar": true,
   "skip_h1_title": false,
   "title_cell": "Table of Contents",
   "title_sidebar": "Contents",
   "toc_cell": false,
   "toc_position": {},
   "toc_section_display": true,
   "toc_window_display": true
  }
 },
 "nbformat": 4,
 "nbformat_minor": 2
}
