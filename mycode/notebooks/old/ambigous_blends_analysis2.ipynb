{
 "cells": [
  {
   "cell_type": "markdown",
   "metadata": {},
   "source": [
    "# Setup"
   ]
  },
  {
   "cell_type": "code",
   "execution_count": 13,
   "metadata": {
    "collapsed": false
   },
   "outputs": [
    {
     "name": "stdout",
     "output_type": "stream",
     "text": [
      "Populating the interactive namespace from numpy and matplotlib\n"
     ]
    },
    {
     "name": "stderr",
     "output_type": "stream",
     "text": [
      "WARNING: pylab import has clobbered these variables: ['f', 'random']\n",
      "`%matplotlib` prevents importing * from pylab and numpy\n"
     ]
    }
   ],
   "source": [
    "%pylab inline\n",
    "\n",
    "import subprocess\n",
    "import astropy.table\n",
    "import astropy.io.fits as fits\n",
    "import numpy as np\n",
    "from copy import deepcopy\n",
    "import random\n",
    "from astropy.table import Table\n",
    "import os \n",
    "import matplotlib.pyplot as plt \n",
    "import fitsio \n",
    "\n",
    "#directories that would be using \n",
    "locations = dict(\n",
    "WLD = '/Users/Ismael/code/lensing/WeakLensingDeblending/',\n",
    "WLFF = '/Users/Ismael/code/lensing/WLFF/',\n",
    "aegis = '/Users/Ismael/aegis/data/',\n",
    "SEx = '/Users/Ismael/aegis/data/sextractor_runs/',\n",
    "aegis_slac = '/nfs/slac/g/ki/ki19/deuce/AEGIS/ismael/data',\n",
    "temp_data = '/Users/Ismael/temp_data'\n",
    ")\n",
    "os.chdir(locations['WLD']) #set this to interested directory "
   ]
  },
  {
   "cell_type": "code",
   "execution_count": 14,
   "metadata": {
    "collapsed": false
   },
   "outputs": [],
   "source": [
    "#files \n",
    "files = dict(\n",
    "point_fits = '/Users/Ismael/temp_data/point_results.fits',\n",
    "point_fits2 = '/Users/Ismael/temp_data/point_results2.fits',\n",
    "point_fits3 = '/Users/Ismael/temp_data/point_results3.fits',\n",
    "point_fits4 = '/Users/Ismael/temp_data/point_results4.fits',\n",
    "extended_fits = '/Users/Ismael/temp_data/extended_results.fits',\n",
    ")\n",
    "\n",
    "files_temps = dict() \n",
    "for f in files: \n",
    "    l = files[f].split(\"/\")\n",
    "    temp_file = '{0}{1}'.format('/Users/Ismael/temp_data/',l[-1])\n",
    "    files_temps[f] = temp_file"
   ]
  },
  {
   "cell_type": "markdown",
   "metadata": {},
   "source": [
    "### Robust statistics"
   ]
  },
  {
   "cell_type": "code",
   "execution_count": 15,
   "metadata": {
    "collapsed": true
   },
   "outputs": [],
   "source": [
    "def mad(arr):\n",
    "    \"\"\" Median Absolute Deviation: a \"Robust\" version of standard deviation.\n",
    "        Indices variabililty of the sample.\n",
    "        https://en.wikipedia.org/wiki/Median_absolute_deviation \n",
    "    \"\"\"\n",
    "    arr = np.ma.array(arr).compressed() # should be faster to not use masked arrays.\n",
    "    med = np.median(arr)\n",
    "    return np.median(np.abs(arr - med))"
   ]
  },
  {
   "cell_type": "markdown",
   "metadata": {},
   "source": [
    "### Samples"
   ]
  },
  {
   "cell_type": "code",
   "execution_count": 16,
   "metadata": {
    "collapsed": true
   },
   "outputs": [],
   "source": [
    "#some interesting subsets of the simulation\n",
    "iso_gal = lambda cat: cat[cat['purity'] > .98] #isolated galaxies\n",
    "grp_gal = lambda cat: cat[cat['purity'] <= .98] #galaxies in a group of 2 or more. \n",
    "\n",
    "#'good' galaxies satisfy the reasonable criteria below.\n",
    "good = lambda cat: cat[(cat['snr_grpf'] > 6) & (cat['sigma_m'] > .2)]\n",
    "\n",
    "#gold sample galaxies \n",
    "gold = lambda cat: cat[(cat['ab_mag'] < 25.3)] \n",
    "\n",
    "#ambiguity of blends. \n",
    "ambig = lambda cat: cat[cat['ambig_blend'] == True ]\n",
    "not_ambig = lambda cat: cat[cat['ambig_blend'] == False ]\n",
    "detected = lambda cat: cat[cat['match'] != -1]\n",
    "not_detected = lambda cat: cat[cat['match'] == -1]\n",
    "\n",
    "#cuts \n",
    "cut_biasiso = lambda cat,bias_cut: cat[(abs(cat['bias_g1']) < bias_cut) & (abs(cat['bias_g2']) < bias_cut)]\n",
    "cut_biasgrp = lambda cat,bias_cut: cat[(abs(cat['bias_g1_grp']) < bias_cut) & (abs(cat['bias_g2_grp']) < bias_cut)]\n",
    "down_cut = lambda cat,param,cut: cat[cat[param] < cut]\n",
    "up_cut = lambda cat,param,cut: cat[cat[param] > cut]\n",
    "abs_cut = lambda cat,param,cut: cat[abs(cat[param]) < cut]\n",
    "unphysical_iso = lambda cat: cat[(abs(cat['bias_g1']) > 1.) | (abs(cat['bias_g2']) > 1.)]\n",
    "unphysical_grp = lambda cat: cat[(abs(cat['bias_g1_grp']) > 1.) | (abs(cat['bias_g2_grp']) > 1.)]\n",
    "\n",
    "#more specific \n",
    "detc_and_notambig = lambda cat: cat[(cat['ambig_blend'] == False) & (cat['match'] != -1)]\n",
    "notdetc_and_notambig = lambda cat: cat[(cat['ambig_blend'] == False) & (cat['match'] == -1)]\n",
    "detc_and_ambig = lambda cat: cat[(cat['ambig_blend'] == True) & (cat['match'] != -1)]\n",
    "notdetc_and_ambig = lambda cat: cat[(cat['ambig_blend'] == True) & (cat['match'] == -1)]\n",
    "best = detc_and_notambig"
   ]
  },
  {
   "cell_type": "code",
   "execution_count": 17,
   "metadata": {
    "collapsed": true
   },
   "outputs": [],
   "source": [
    "#smaller random samples \n",
    "def leaveRandom(sz,cat):\n",
    "    new_cat = deepcopy(cat)\n",
    "    rm_rows = random.sample(xrange(0,len(cat)-1), len(cat) - sz)\n",
    "    new_cat.remove_rows(rm_rows)\n",
    "    return new_cat \n",
    "\n",
    "#get a smaller sample of each of the catalogs for illustrative purposes \n",
    "small = lambda cat,N: leaveRandom(N, cat)"
   ]
  },
  {
   "cell_type": "markdown",
   "metadata": {},
   "source": [
    "### Read files. "
   ]
  },
  {
   "cell_type": "code",
   "execution_count": 18,
   "metadata": {
    "collapsed": false
   },
   "outputs": [],
   "source": [
    "cats = []\n",
    "names =[]\n",
    "for f in files:\n",
    "    cats.append(astropy.table.Table.read(fits.open(files[f]),hdu=1))\n",
    "    names.append(f)"
   ]
  },
  {
   "cell_type": "code",
   "execution_count": 19,
   "metadata": {
    "collapsed": false
   },
   "outputs": [
    {
     "data": {
      "text/plain": [
       "['point_fits2', 'point_fits3', 'point_fits4', 'point_fits', 'extended_fits']"
      ]
     },
     "execution_count": 19,
     "metadata": {},
     "output_type": "execute_result"
    }
   ],
   "source": [
    "names"
   ]
  },
  {
   "cell_type": "markdown",
   "metadata": {},
   "source": [
    "# Analysis Results "
   ]
  },
  {
   "cell_type": "markdown",
   "metadata": {},
   "source": [
    "### Percetage of samples from total "
   ]
  },
  {
   "cell_type": "code",
   "execution_count": 20,
   "metadata": {
    "collapsed": false
   },
   "outputs": [
    {
     "name": "stdout",
     "output_type": "stream",
     "text": [
      "\n",
      "point_fits2 catalog\n",
      "Fraction of detected & not ambiguous objects: 10.7%\n",
      "Fraction of detected & ambiguous objects: 3.13%\n",
      "Fraction of not detected & ambiguous objects: 3.64%\n",
      "Fraction of not detected & not ambiguous objects: 82.5%\n",
      "\n",
      "Fraction of golden detected & not ambiguous objects: 46.4%\n",
      "Fraction of golden detected & ambiguous objects: 13.3%\n",
      "Fraction of golden not detected & ambiguous objects: 4.22%\n",
      "Fraction of golden not detected & not ambiguous objects: 36.1%\n",
      "\n",
      "Fraction of good detected & not ambiguous objects: 44.8%\n",
      "Fraction of good detected & ambiguous objects: 10%\n",
      "Fraction of good not detected & ambiguous objects: 1.38%\n",
      "Fraction of good not detected & not ambiguous objects: 43.9%\n",
      "\n",
      "point_fits3 catalog\n",
      "Fraction of detected & not ambiguous objects: 7.16%\n",
      "Fraction of detected & ambiguous objects: 2.52%\n",
      "Fraction of not detected & ambiguous objects: 3.01%\n",
      "Fraction of not detected & not ambiguous objects: 87.3%\n",
      "\n",
      "Fraction of golden detected & not ambiguous objects: 31.1%\n",
      "Fraction of golden detected & ambiguous objects: 10.9%\n",
      "Fraction of golden not detected & ambiguous objects: 3.97%\n",
      "Fraction of golden not detected & not ambiguous objects: 54.1%\n",
      "\n",
      "Fraction of good detected & not ambiguous objects: 32.2%\n",
      "Fraction of good detected & ambiguous objects: 9.76%\n",
      "Fraction of good not detected & ambiguous objects: 1.5%\n",
      "Fraction of good not detected & not ambiguous objects: 56.6%\n",
      "\n",
      "point_fits4 catalog\n",
      "Fraction of detected & not ambiguous objects: 18.8%\n",
      "Fraction of detected & ambiguous objects: 6.78%\n",
      "Fraction of not detected & ambiguous objects: 8.14%\n",
      "Fraction of not detected & not ambiguous objects: 66.2%\n",
      "\n",
      "Fraction of golden detected & not ambiguous objects: 62.3%\n",
      "Fraction of golden detected & ambiguous objects: 22.7%\n",
      "Fraction of golden not detected & ambiguous objects: 7.12%\n",
      "Fraction of golden not detected & not ambiguous objects: 7.87%\n",
      "\n",
      "Fraction of good detected & not ambiguous objects: 70.7%\n",
      "Fraction of good detected & ambiguous objects: 15.8%\n",
      "Fraction of good not detected & ambiguous objects: 2.71%\n",
      "Fraction of good not detected & not ambiguous objects: 10.8%\n",
      "\n",
      "point_fits catalog\n",
      "Fraction of detected & not ambiguous objects: 7.83%\n",
      "Fraction of detected & ambiguous objects: 2.67%\n",
      "Fraction of not detected & ambiguous objects: 3.17%\n",
      "Fraction of not detected & not ambiguous objects: 86.3%\n",
      "\n",
      "Fraction of golden detected & not ambiguous objects: 34%\n",
      "Fraction of golden detected & ambiguous objects: 11.5%\n",
      "Fraction of golden not detected & ambiguous objects: 4.08%\n",
      "Fraction of golden not detected & not ambiguous objects: 50.4%\n",
      "\n",
      "Fraction of good detected & not ambiguous objects: 34.6%\n",
      "Fraction of good detected & ambiguous objects: 9.87%\n",
      "Fraction of good not detected & ambiguous objects: 1.49%\n",
      "Fraction of good not detected & not ambiguous objects: 54.1%\n",
      "\n",
      "extended_fits catalog\n",
      "Fraction of detected & not ambiguous objects: 21.6%\n",
      "Fraction of detected & ambiguous objects: 7.1%\n",
      "Fraction of not detected & ambiguous objects: 8.41%\n",
      "Fraction of not detected & not ambiguous objects: 62.9%\n",
      "\n",
      "Fraction of golden detected & not ambiguous objects: 65.1%\n",
      "Fraction of golden detected & ambiguous objects: 22.3%\n",
      "Fraction of golden not detected & ambiguous objects: 6.43%\n",
      "Fraction of golden not detected & not ambiguous objects: 6.12%\n",
      "\n",
      "Fraction of good detected & not ambiguous objects: 75.7%\n",
      "Fraction of good detected & ambiguous objects: 15.1%\n",
      "Fraction of good not detected & ambiguous objects: 2.21%\n",
      "Fraction of good not detected & not ambiguous objects: 6.95%\n"
     ]
    }
   ],
   "source": [
    "for i,cat in enumerate(cats): \n",
    "    print \n",
    "    print names[i] + ' catalog'\n",
    "    print 'Fraction of detected & not ambiguous objects: {0:.3g}%'.format(float(len(detc_and_notambig(cat)))/len(cat)*100)\n",
    "    print 'Fraction of detected & ambiguous objects: {0:.3g}%'.format(float(len(detc_and_ambig(cat)))/len(cat)*100)\n",
    "    print 'Fraction of not detected & ambiguous objects: {0:.3g}%'.format(float(len(notdetc_and_ambig(cat)))/len(cat)*100)\n",
    "    print 'Fraction of not detected & not ambiguous objects: {0:.3g}%'.format(float(len(notdetc_and_notambig(cat)))/len(cat)*100)\n",
    "    print\n",
    "    print 'Fraction of golden detected & not ambiguous objects: {0:.3g}%'.format(float(len(detc_and_notambig(gold(cat))))/len(gold(cat))*100)\n",
    "    print 'Fraction of golden detected & ambiguous objects: {0:.3g}%'.format(float(len(detc_and_ambig(gold(cat))))/len(gold(cat))*100)\n",
    "    print 'Fraction of golden not detected & ambiguous objects: {0:.3g}%'.format(float(len(notdetc_and_ambig(gold(cat))))/len(gold(cat))*100)\n",
    "    print 'Fraction of golden not detected & not ambiguous objects: {0:.3g}%'.format(float(len(notdetc_and_notambig(gold(cat))))/len(gold(cat))*100)\n",
    "    print\n",
    "    print 'Fraction of good detected & not ambiguous objects: {0:.3g}%'.format(float(len(detc_and_notambig(good(cat))))/len(good(cat))*100)\n",
    "    print 'Fraction of good detected & ambiguous objects: {0:.3g}%'.format(float(len(detc_and_ambig(good(cat))))/len(good(cat))*100)\n",
    "    print 'Fraction of good not detected & ambiguous objects: {0:.3g}%'.format(float(len(notdetc_and_ambig(good(cat))))/len(good(cat))*100)\n",
    "    print 'Fraction of good not detected & not ambiguous objects: {0:.3g}%'.format(float(len(notdetc_and_notambig(good(cat))))/len(good(cat))*100)\n",
    "\n"
   ]
  },
  {
   "cell_type": "code",
   "execution_count": null,
   "metadata": {
    "collapsed": true
   },
   "outputs": [],
   "source": []
  }
 ],
 "metadata": {
  "kernelspec": {
   "display_name": "Python 2",
   "language": "python",
   "name": "python2"
  },
  "language_info": {
   "codemirror_mode": {
    "name": "ipython",
    "version": 2
   },
   "file_extension": ".py",
   "mimetype": "text/x-python",
   "name": "python",
   "nbconvert_exporter": "python",
   "pygments_lexer": "ipython2",
   "version": "2.7.11"
  }
 },
 "nbformat": 4,
 "nbformat_minor": 0
}
