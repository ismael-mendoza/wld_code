{
 "cells": [
  {
   "cell_type": "markdown",
   "metadata": {},
   "source": [
    "### Setup"
   ]
  },
  {
   "cell_type": "code",
   "execution_count": 1,
   "metadata": {
    "collapsed": false
   },
   "outputs": [
    {
     "name": "stdout",
     "output_type": "stream",
     "text": [
      "Populating the interactive namespace from numpy and matplotlib\n"
     ]
    }
   ],
   "source": [
    "%pylab inline"
   ]
  },
  {
   "cell_type": "code",
   "execution_count": 2,
   "metadata": {
    "collapsed": true
   },
   "outputs": [],
   "source": [
    "import subprocess\n",
    "import astropy.table\n",
    "import astropy.io.fits as fits\n",
    "import numpy as np\n",
    "from copy import deepcopy\n",
    "import random\n",
    "from astropy.table import Table\n",
    "import os \n",
    "import matplotlib.pyplot as plt \n",
    "import fitsio "
   ]
  },
  {
   "cell_type": "code",
   "execution_count": 3,
   "metadata": {
    "collapsed": false
   },
   "outputs": [],
   "source": [
    "#directories that would be using \n",
    "locations = dict(\n",
    "WLD = '/Users/Ismael/code/lensing/WeakLensingDeblending/',\n",
    "SMFF = '/Users/Ismael/code/lensing/SMFF/',\n",
    "aegis = '/Users/Ismael/aegis/data/',\n",
    "SEx = '/Users/Ismael/aegis/data/sextractor_runs/',\n",
    "aegis_slac = '/nfs/slac/g/ki/ki19/deuce/AEGIS/ismael/data',\n",
    "temp_data = '/Users/Ismael/temp_data'\n",
    ")\n",
    "os.chdir(locations['WLD']) #set this to interested directory "
   ]
  },
  {
   "cell_type": "code",
   "execution_count": 4,
   "metadata": {
    "collapsed": true
   },
   "outputs": [],
   "source": [
    "def mad(arr):\n",
    "    \"\"\" Median Absolute Deviation: a \"Robust\" version of standard deviation.\n",
    "        Indices variabililty of the sample.\n",
    "        https://en.wikipedia.org/wiki/Median_absolute_deviation \n",
    "    \"\"\"\n",
    "    arr = np.ma.array(arr).compressed() # should be faster to not use masked arrays.\n",
    "    med = np.median(arr)\n",
    "    return np.median(np.abs(arr - med))"
   ]
  },
  {
   "cell_type": "markdown",
   "metadata": {},
   "source": [
    "### prepare input "
   ]
  },
  {
   "cell_type": "code",
   "execution_count": 5,
   "metadata": {
    "collapsed": false
   },
   "outputs": [],
   "source": [
    "#files \n",
    "#g1,g2=0,0\n",
    "#g1,g2=.01,.01\n",
    "#g1,g2=-.01,-.01\n",
    "#g1,g2=.02,.02\n",
    "#g1,g2=-.02,-.02\n",
    "files = dict(\n",
    "final_fits1 = 'Users/Ismael/aegis/data/fits_files/final_fits1.fits', \n",
    "final_fits2 = 'Users/Ismael/aegis/data/fits_files/final_fits2.fits', \n",
    "final_fits3 = 'Users/Ismael/aegis/data/fits_files/final_fits3.fits', \n",
    "final_fits4 = 'Users/Ismael/aegis/data/fits_files/final_fits4.fits', \n",
    "final_fits5 = 'Users/Ismael/aegis/data/fits_files/final_fits5.fits', \n",
    ")\n",
    "\n",
    "files_temps = dict() \n",
    "for f in files: \n",
    "    l = files[f].split(\"/\")\n",
    "    temp_file = '{0}{1}'.format('/Users/Ismael/temp_data/',l[-1])\n",
    "    files_temps[f] = temp_file\n",
    "\n",
    "    \n",
    "files_slac = dict()\n",
    "for f in files: \n",
    "    l = files[f].split(\"/\")\n",
    "    index_data = l.index(\"aegis\")\n",
    "    str_slac = \"/\".join(l[index_data:])\n",
    "    slac_file = '{0}{1}'.format('/nfs/slac/g/ki/ki19/deuce/AEGIS/ismael/',str_slac)\n",
    "    files_slac[f] = slac_file"
   ]
  },
  {
   "cell_type": "markdown",
   "metadata": {},
   "source": [
    "### Samples "
   ]
  },
  {
   "cell_type": "code",
   "execution_count": 6,
   "metadata": {
    "collapsed": true
   },
   "outputs": [],
   "source": [
    "#some interesting subsets of the simulation\n",
    "iso_gal = lambda cat: cat[cat['purity'] > .98] #isolated galaxies\n",
    "grp_gal = lambda cat: cat[cat['purity'] <= .98] #galaxies in a group of 2 or more. \n",
    "\n",
    "#'good' galaxies satisfy the reasonable criteria below.\n",
    "good = lambda cat: cat[(cat['snr_grpf'] > 6) & (cat['sigma_m'] > .2)]\n",
    "\n",
    "#gold sample galaxies \n",
    "gold = lambda cat: cat[(cat['ab_mag'] < 25.3)] \n",
    "\n",
    "#ambiguity of blends. \n",
    "ambig = lambda cat: cat[cat['ambig_blend'] == True ]\n",
    "not_ambig = lambda cat: cat[cat['ambig_blend'] == False ]\n",
    "detected = lambda cat: cat[cat['match'] != -1]\n",
    "not_detected = lambda cat: cat[cat['match'] == -1]\n",
    "\n",
    "#cuts \n",
    "cut_biasiso = lambda cat,bias_cut: cat[(np.absolute(cat['bias_g1']) < bias_cut) & (np.absolute(cat['bias_g2']) < bias_cut)]\n",
    "cut_biasgrp = lambda cat,bias_cut: cat[(np.absolute(cat['bias_g1_grp']) < bias_cut) & (np.absolute(cat['bias_g2_grp']) < bias_cut)]\n",
    "down_cut = lambda cat,param,cut: cat[cat[param] < cut]\n",
    "up_cut = lambda cat,param,cut: cat[cat[param] > cut]\n",
    "abs_cut = lambda cat,param,cut,point=0: cat[np.absolute(cat[param] - point) < cut]\n",
    "unphysical_iso = lambda cat: cat[(np.absolute(cat['bias_g1']) > 1.) | (abs(cat['bias_g2']) > 1.)]\n",
    "unphysical_grp = lambda cat: cat[(np.absolute(cat['bias_g1_grp']) > 1.) | (np.absolute(cat['bias_g2_grp']) > 1.)]\n",
    "\n",
    "#more specific \n",
    "detc_and_notambig = lambda cat: cat[(cat['ambig_blend'] == False) & (cat['match'] != -1)]\n",
    "notdetc_and_notambig = lambda cat: cat[(cat['ambig_blend'] == False) & (cat['match'] == -1)]\n",
    "detc_and_ambig = lambda cat: cat[(cat['ambig_blend'] == True) & (cat['match'] != -1)]\n",
    "notdetc_and_ambig = lambda cat: cat[(cat['ambig_blend'] == True) & (cat['match'] == -1)]\n",
    "best = detc_and_notambig"
   ]
  },
  {
   "cell_type": "markdown",
   "metadata": {},
   "source": [
    "### What is gold/good fractions for galaxies in section001.fits?"
   ]
  },
  {
   "cell_type": "code",
   "execution_count": 7,
   "metadata": {
    "collapsed": true
   },
   "outputs": [],
   "source": [
    "f = fits.open('/Users/Ismael/temp_data/final_fits.fits')\n",
    "table = Table.read(f,hdu=1)"
   ]
  },
  {
   "cell_type": "code",
   "execution_count": 13,
   "metadata": {
    "collapsed": false
   },
   "outputs": [
    {
     "name": "stdout",
     "output_type": "stream",
     "text": [
      "statistics for golden objects:\n",
      "not ambiguously blended detected objects: 0.658%\n",
      "ambiguously blended detected objects: 0.222%\n",
      "not ambiguously blended and undetected objects: 0.056%\n",
      "ambiguously blended and undetected objects: 0.063%\n",
      "\n",
      "statistics for good objects:\n",
      "not ambiguously blended detected objects: 0.768%\n",
      "ambiguously blended detected objects: 0.150%\n",
      "not ambiguously blended and undetected objects: 0.061%\n",
      "ambiguously blended and undetected objects: 0.021%\n"
     ]
    }
   ],
   "source": [
    "print 'statistics for golden objects:'\n",
    "print 'not ambiguously blended detected objects: {0:.3f}%'.format(float(len(gold(detc_and_notambig(table))))/len(gold(table)))\n",
    "print 'ambiguously blended detected objects: {0:.3f}%'.format(float(len(gold(detc_and_ambig(table))))/len(gold(table)))\n",
    "print 'not ambiguously blended and undetected objects: {0:.3f}%'.format(float(len(gold(notdetc_and_notambig(table))))/len(gold(table)))\n",
    "print 'ambiguously blended and undetected objects: {0:.3f}%'.format(float(len(gold(notdetc_and_ambig(table))))/len(gold(table)))\n",
    "print \n",
    "print 'statistics for good objects:'\n",
    "print 'not ambiguously blended detected objects: {0:.3f}%'.format(float(len(good(detc_and_notambig(table))))/len(good(table)))\n",
    "print 'ambiguously blended detected objects: {0:.3f}%'.format(float(len(good(detc_and_ambig(table))))/len(good(table)))\n",
    "print 'not ambiguously blended and undetected objects: {0:.3f}%'.format(float(len(good(notdetc_and_notambig(table))))/len(good(table)))\n",
    "print 'ambiguously blended and undetected objects: {0:.3f}%'.format(float(len(good(notdetc_and_ambig(table))))/len(good(table)))\n",
    "\n",
    "\n",
    "\n"
   ]
  },
  {
   "cell_type": "code",
   "execution_count": null,
   "metadata": {
    "collapsed": true
   },
   "outputs": [],
   "source": []
  }
 ],
 "metadata": {
  "kernelspec": {
   "display_name": "Python 2",
   "language": "python",
   "name": "python2"
  },
  "language_info": {
   "codemirror_mode": {
    "name": "ipython",
    "version": 2
   },
   "file_extension": ".py",
   "mimetype": "text/x-python",
   "name": "python",
   "nbconvert_exporter": "python",
   "pygments_lexer": "ipython2",
   "version": "2.7.11"
  }
 },
 "nbformat": 4,
 "nbformat_minor": 0
}
