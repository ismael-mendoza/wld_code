{
 "cells": [
  {
   "cell_type": "code",
   "execution_count": 1,
   "metadata": {
    "collapsed": false
   },
   "outputs": [
    {
     "name": "stdout",
     "output_type": "stream",
     "text": [
      "Populating the interactive namespace from numpy and matplotlib\n"
     ]
    }
   ],
   "source": [
    "%pylab inline"
   ]
  },
  {
   "cell_type": "code",
   "execution_count": 2,
   "metadata": {
    "collapsed": false
   },
   "outputs": [],
   "source": [
    "import subprocess\n",
    "import astropy.table\n",
    "import astropy.io.fits as fits\n",
    "import numpy as np\n",
    "from copy import deepcopy\n",
    "import random\n",
    "from astropy.table import Table\n",
    "import os \n",
    "import matplotlib.pyplot as plt \n",
    "import fitsio "
   ]
  },
  {
   "cell_type": "code",
   "execution_count": 3,
   "metadata": {
    "collapsed": false
   },
   "outputs": [],
   "source": [
    "#directories that would be using \n",
    "WLD = '/Users/Ismael/code/lensing/WeakLensingDeblending/'\n",
    "repo = '/Users/Ismael/code/lensing/repo/'\n",
    "aegis = '/Users/Ismael/aegis/WeakLensingDeblending/'\n",
    "SEx = '/Users/Ismael/aegis/WeakLensingDeblending/data/sextractor_runs/'\n",
    "aegis_slac = '/nfs/slac/g/ki/ki19/deuce/AEGIS/ismael/'\n",
    "os.chdir(aegis)\n",
    "import descwl"
   ]
  },
  {
   "cell_type": "code",
   "execution_count": 27,
   "metadata": {
    "collapsed": false
   },
   "outputs": [],
   "source": [
    "input_name = '/Users/Ismael/aegis/WeakLensingDeblending/data/intermediate_fits/section001.fits'\n",
    "input_source_fits = '/Users/Ismael/aegis/WeakLensingDeblending/data/sextractor_runs/test1/image.fits'\n",
    "output_name = '/Users/Ismael/aegis/WeakLensingDeblending/data/sextractor_runs/test1/out.cat'\n",
    "config_file = '/nfs/slac/g/ki/ki19/deuce/AEGIS/ismael/WeakLensingDeblending/data/sextractor_runs/default.sex'\n",
    "\n",
    "#inter\n",
    "final_fits = '/Users/Ismael/aegis/WeakLensingDeblending/data/sextractor_runs/test1/final_fits.fits'\n",
    "matched_image = '/Users/Ismael/aegis/WeakLensingDeblending/data/sextractor_runs/test1/matched_check3.png'\n",
    "\n",
    "#slac\n",
    "input_source_fits_slac = '/nfs/slac/g/ki/ki19/deuce/AEGIS/ismael/WeakLensingDeblending/data/sextractor_runs/test1/image.fits'\n",
    "output_name_slac = '/nfs/slac/g/ki/ki19/deuce/AEGIS/ismael/WeakLensingDeblending/data/sextractor_runs/test1/out.cat'\n",
    "\n",
    "#misc\n",
    "fits_dawson = '/Users/Ismael/aegis/WeakLensingDeblending/data/sextractor_runs/test1/dawson_fits.fits'"
   ]
  },
  {
   "cell_type": "markdown",
   "metadata": {},
   "source": [
    "### write image from catalog into the correct format for it to be sextracted. "
   ]
  },
  {
   "cell_type": "code",
   "execution_count": null,
   "metadata": {
    "collapsed": false
   },
   "outputs": [],
   "source": [
    "import descwl\n",
    "reader = descwl.output.Reader(input_name)\n",
    "results = reader.results\n",
    "results.add_noise(noise_seed=0) #same noise_seed for all? \n",
    "f = fits.PrimaryHDU(results.survey.image.array)\n",
    "f.writeto(input_source_name)"
   ]
  },
  {
   "cell_type": "code",
   "execution_count": null,
   "metadata": {
    "collapsed": false,
    "scrolled": true
   },
   "outputs": [],
   "source": [
    "#run SExtractor: not sure how to do this using slac shell... \n",
    "cmd = 'sex {0} -c {1} -CATALOG_NAME {2}'.format(input_source_fits_slac,config_file,output_name_slac)\n",
    "print cmd "
   ]
  },
  {
   "cell_type": "markdown",
   "metadata": {},
   "source": [
    "### Read data "
   ]
  },
  {
   "cell_type": "code",
   "execution_count": 79,
   "metadata": {
    "collapsed": true
   },
   "outputs": [],
   "source": [
    "#read corresponding catalog \n",
    "cat = descwl.output.Reader(input_name).results\n",
    "table = cat.table\n",
    "detected,matched,indices,distance = cat.match_sextractor(output_name)"
   ]
  },
  {
   "cell_type": "markdown",
   "metadata": {},
   "source": [
    "### Check consistency of SExtracted objects "
   ]
  },
  {
   "cell_type": "code",
   "execution_count": null,
   "metadata": {
    "collapsed": true
   },
   "outputs": [],
   "source": [
    "#image showing matched objects in the image. \n",
    "cmd = './display.py -o {0} --input-name {1} --crop --group 402700155390 --match-catalog {2} --magnification 4 --no-show'.format(matched_image,input_name,output_name)\n",
    "out = subprocess.check_output(cmd,shell=True)\n",
    "print out "
   ]
  },
  {
   "cell_type": "code",
   "execution_count": null,
   "metadata": {
    "collapsed": true
   },
   "outputs": [],
   "source": [
    "#distance of matched and simulated object distance. \n",
    "plt.hist(distance,bins=100,range=(0,1))\n",
    "\n",
    "\"\"\"It is a little strange, let's check the matched image\"\"\"\n",
    "\"\"\"The distances are a lot better! now after correcting the png thing. \"\"\""
   ]
  },
  {
   "cell_type": "markdown",
   "metadata": {},
   "source": [
    "### how are indices ordered? "
   ]
  },
  {
   "cell_type": "code",
   "execution_count": null,
   "metadata": {
    "collapsed": false
   },
   "outputs": [],
   "source": [
    "print detected[0]['X_IMAGE']\n",
    "print table[indices[0]]['dx'] \n",
    "#notice they are almost the same and this is the corresponding element"
   ]
  },
  {
   "cell_type": "markdown",
   "metadata": {},
   "source": [
    "### Analysis of results, "
   ]
  },
  {
   "cell_type": "code",
   "execution_count": 80,
   "metadata": {
    "collapsed": true
   },
   "outputs": [],
   "source": [
    "width, height = 4500,4500\n",
    "pixel_scale = .2 "
   ]
  },
  {
   "cell_type": "code",
   "execution_count": 81,
   "metadata": {
    "collapsed": false
   },
   "outputs": [],
   "source": [
    "#convert to arcsecs and relative to image_center \n",
    "detected['X_IMAGE'] = (detected['X_IMAGE'] - 0.5*width - 0.5)*pixel_scale\n",
    "detected['Y_IMAGE'] = (detected['Y_IMAGE'] - 0.5*height - 0.5)*pixel_scale\n",
    "\n",
    "#convert second moments arcsecs \n",
    "detected['X2_IMAGE']*=pixel_scale**2 \n",
    "detected['Y2_IMAGE']*=pixel_scale**2 \n",
    "detected['XY_IMAGE']*=pixel_scale**2 "
   ]
  },
  {
   "cell_type": "code",
   "execution_count": 82,
   "metadata": {
    "collapsed": false
   },
   "outputs": [],
   "source": [
    "# calculate size from moments X2_IMAGE,Y2_IMAGE,XY_IMAGE -> remember in pixel**2 so have to convert to arcsecs. \n",
    "sigmas = []\n",
    "for x2,y2,xy in zip(detected['X2_IMAGE'],detected['Y2_IMAGE'],detected['XY_IMAGE']):\n",
    "    second_moments = np.array([[x2,xy],[xy,y2]])\n",
    "    sigma = np.linalg.det(second_moments)**(1./4)\n",
    "    sigmas.append(sigma)\n",
    "SIGMA = Table.Column(name='SIGMA',data=sigmas)\n",
    "detected.add_column(SIGMA)\n",
    "\n",
    "# #add sizes of the corresponding entries from lsst to the detected table. \n",
    "# SIGMA_M = Table.Column(name='SIGMA_M', data=table[indices]['sigma_m'])\n",
    "# detected.add_column(SIGMA_M) "
   ]
  },
  {
   "cell_type": "code",
   "execution_count": 83,
   "metadata": {
    "collapsed": false
   },
   "outputs": [
    {
     "data": {
      "text/plain": [
       "<matplotlib.collections.PathCollection at 0x123d53f10>"
      ]
     },
     "execution_count": 83,
     "metadata": {},
     "output_type": "execute_result"
    },
    {
     "data": {
      "image/png": "[encoded data removed]",
      "text/plain": [
       "<matplotlib.figure.Figure at 0x15e0ec810>"
      ]
     },
     "metadata": {},
     "output_type": "display_data"
    }
   ],
   "source": [
    "plt.scatter(table[indices]['sigma_m'],detected['SIGMA'], alpha=.03, s=1)"
   ]
  },
  {
   "cell_type": "code",
   "execution_count": 72,
   "metadata": {
    "collapsed": false
   },
   "outputs": [
    {
     "data": {
      "text/html": [
       "&lt;Table length=16283&gt;\n",
       "<table id=\"table5867593808\" class=\"table-striped table-bordered table-condensed\">\n",
       "<thead><tr><th>NUMBER</th><th>FLUXERR_ISO</th><th>FLUX_AUTO</th><th>FLUXERR_AUTO</th><th>X_IMAGE</th><th>Y_IMAGE</th><th>X2_IMAGE</th><th>Y2_IMAGE</th><th>XY_IMAGE</th><th>FLAGS</th><th>SIGMA</th></tr></thead>\n",
       "<thead><tr><th></th><th>ct</th><th>ct</th><th>ct</th><th>pix</th><th>pix</th><th>pix2</th><th>pix2</th><th>pix2</th><th></th><th></th></tr></thead>\n",
       "<thead><tr><th>int64</th><th>float64</th><th>float64</th><th>float64</th><th>float64</th><th>float64</th><th>float64</th><th>float64</th><th>float64</th><th>int64</th><th>float64</th></tr></thead>\n",
       "<tr><td>1</td><td>2756.618</td><td>35833.31</td><td>4150.213</td><td>415.2148</td><td>-449.6958</td><td>0.080935446984</td><td>0.0254788902444</td><td>-0.0125652691824</td><td>24</td><td>4.78705562617</td></tr>\n",
       "<tr><td>2</td><td>3413.46</td><td>65989.07</td><td>6523.348</td><td>-313.8054</td><td>-449.647</td><td>0.113156300884</td><td>0.0366549508968</td><td>-0.008885301746</td><td>24</td><td>3.95943920855</td></tr>\n",
       "<tr><td>3</td><td>3102.471</td><td>52234.73</td><td>5604.369</td><td>-257.5336</td><td>-449.6192</td><td>0.070919943592</td><td>0.040995574848</td><td>0.0132305300924</td><td>24</td><td>4.37386769856</td></tr>\n",
       "<tr><td>4</td><td>2847.022</td><td>42836.23</td><td>5869.287</td><td>8.3376</td><td>-449.5922</td><td>0.049418571828</td><td>0.041490730452</td><td>0.00422924878</td><td>24</td><td>4.70967530882</td></tr>\n",
       "<tr><td>5</td><td>1591.534</td><td>24851.9</td><td>5738.357</td><td>-321.1418</td><td>-448.378</td><td>0.0217648237892</td><td>0.0095118464812</td><td>0.004377115298</td><td>0</td><td>8.54159166151</td></tr>\n",
       "<tr><td>6</td><td>1591.534</td><td>26581.56</td><td>5869.287</td><td>342.9512</td><td>-447.8168</td><td>0.0207701818224</td><td>0.009718764944</td><td>0.0041187450528</td><td>0</td><td>8.57566592731</td></tr>\n",
       "<tr><td>7</td><td>4879.551</td><td>168523.3</td><td>8974.896</td><td>-74.1506</td><td>-449.5844</td><td>0.234514283236</td><td>0.067617528564</td><td>-0.018319746008</td><td>24</td><td>2.83312304322</td></tr>\n",
       "<tr><td>8</td><td>3832.921</td><td>79211.96</td><td>5869.287</td><td>83.4024</td><td>-449.3138</td><td>0.090961032484</td><td>0.067984349736</td><td>-0.0116999295128</td><td>24</td><td>3.58603331789</td></tr>\n",
       "<tr><td>9</td><td>2756.618</td><td>79166.66</td><td>9442.505</td><td>319.836</td><td>-449.4662</td><td>0.0560261455</td><td>0.102343988008</td><td>-0.0248679580308</td><td>24</td><td>3.73918947017</td></tr>\n",
       "<tr><td>...</td><td>...</td><td>...</td><td>...</td><td>...</td><td>...</td><td>...</td><td>...</td><td>...</td><td>...</td><td>...</td></tr>\n",
       "<tr><td>16274</td><td>4501.538</td><td>104398.5</td><td>10508.95</td><td>347.4036</td><td>382.0308</td><td>0.080226246352</td><td>0.174155452152</td><td>0.00236403768588</td><td>0</td><td>2.90890843298</td></tr>\n",
       "<tr><td>16275</td><td>4088.725</td><td>95411.9</td><td>10040.55</td><td>-146.7806</td><td>375.5518</td><td>0.128799840756</td><td>0.104724965976</td><td>0.06654077506</td><td>0</td><td>3.24121137985</td></tr>\n",
       "<tr><td>16276</td><td>5558.989</td><td>183233.8</td><td>9031.166</td><td>-158.2234</td><td>374.7412</td><td>0.123284195032</td><td>0.256166307072</td><td>-0.062905355724</td><td>0</td><td>2.45288777078</td></tr>\n",
       "<tr><td>16277</td><td>3629.256</td><td>82693.19</td><td>8481.547</td><td>305.7642</td><td>374.715</td><td>0.082574589452</td><td>0.06094921224</td><td>0.0179862573588</td><td>0</td><td>3.81733031443</td></tr>\n",
       "<tr><td>16278</td><td>4088.725</td><td>108627.5</td><td>9031.166</td><td>-173.4468</td><td>376.9854</td><td>0.084583520984</td><td>0.085145348536</td><td>-0.000391774671688</td><td>0</td><td>3.4327378775</td></tr>\n",
       "<tr><td>16279</td><td>2250.769</td><td>39162.4</td><td>6937.335</td><td>-197.5598</td><td>372.7168</td><td>0.044874539308</td><td>0.0342232501352</td><td>0.0231109937544</td><td>0</td><td>5.62111765748</td></tr>\n",
       "<tr><td>16280</td><td>5558.989</td><td>167672.3</td><td>9913.608</td><td>89.7452</td><td>378.2276</td><td>0.134808603188</td><td>0.218533431656</td><td>0.0043712046192</td><td>0</td><td>2.41413508885</td></tr>\n",
       "<tr><td>16281</td><td>4387.556</td><td>128226.3</td><td>10215.62</td><td>126.4596</td><td>376.2674</td><td>0.0891756744</td><td>0.097962179388</td><td>0.011378389074</td><td>0</td><td>3.28318175092</td></tr>\n",
       "<tr><td>16282</td><td>3261.674</td><td>59314.49</td><td>7957.67</td><td>372.6984</td><td>388.7212</td><td>0.057045214456</td><td>0.061845883672</td><td>0.0085236827916</td><td>0</td><td>4.12455140688</td></tr>\n",
       "<tr><td>16283</td><td>3338.43</td><td>79839.55</td><td>10700.03</td><td>-67.3004</td><td>380.2906</td><td>0.089605006552</td><td>0.065986836708</td><td>0.00261185696716</td><td>0</td><td>3.60726411982</td></tr>\n",
       "</table>"
      ],
      "text/plain": [
       "<Table length=16283>\n",
       "NUMBER FLUXERR_ISO FLUX_AUTO ...      XY_IMAGE      FLAGS     SIGMA    \n",
       "            ct         ct    ...        pix2                           \n",
       "int64    float64    float64  ...      float64       int64    float64   \n",
       "------ ----------- --------- ... ------------------ ----- -------------\n",
       "     1    2756.618  35833.31 ...   -0.0125652691824    24 4.78705562617\n",
       "     2     3413.46  65989.07 ...    -0.008885301746    24 3.95943920855\n",
       "     3    3102.471  52234.73 ...    0.0132305300924    24 4.37386769856\n",
       "     4    2847.022  42836.23 ...      0.00422924878    24 4.70967530882\n",
       "     5    1591.534   24851.9 ...     0.004377115298     0 8.54159166151\n",
       "     6    1591.534  26581.56 ...    0.0041187450528     0 8.57566592731\n",
       "     7    4879.551  168523.3 ...    -0.018319746008    24 2.83312304322\n",
       "     8    3832.921  79211.96 ...   -0.0116999295128    24 3.58603331789\n",
       "     9    2756.618  79166.66 ...   -0.0248679580308    24 3.73918947017\n",
       "   ...         ...       ... ...                ...   ...           ...\n",
       " 16274    4501.538  104398.5 ...   0.00236403768588     0 2.90890843298\n",
       " 16275    4088.725   95411.9 ...      0.06654077506     0 3.24121137985\n",
       " 16276    5558.989  183233.8 ...    -0.062905355724     0 2.45288777078\n",
       " 16277    3629.256  82693.19 ...    0.0179862573588     0 3.81733031443\n",
       " 16278    4088.725  108627.5 ... -0.000391774671688     0  3.4327378775\n",
       " 16279    2250.769   39162.4 ...    0.0231109937544     0 5.62111765748\n",
       " 16280    5558.989  167672.3 ...    0.0043712046192     0 2.41413508885\n",
       " 16281    4387.556  128226.3 ...     0.011378389074     0 3.28318175092\n",
       " 16282    3261.674  59314.49 ...    0.0085236827916     0 4.12455140688\n",
       " 16283     3338.43  79839.55 ...   0.00261185696716     0 3.60726411982"
      ]
     },
     "execution_count": 72,
     "metadata": {},
     "output_type": "execute_result"
    }
   ],
   "source": [
    "detected"
   ]
  },
  {
   "cell_type": "code",
   "execution_count": 84,
   "metadata": {
    "collapsed": false
   },
   "outputs": [
    {
     "data": {
      "text/plain": [
       "(array([  1.17350000e+04,   3.89400000e+03,   4.94000000e+02,\n",
       "          1.01000000e+02,   3.00000000e+01,   1.60000000e+01,\n",
       "          4.00000000e+00,   3.00000000e+00,   3.00000000e+00,\n",
       "          3.00000000e+00]),\n",
       " array([ 0.11470183,  0.4089908 ,  0.70327978,  0.99756875,  1.29185773,\n",
       "         1.5861467 ,  1.88043567,  2.17472465,  2.46901362,  2.7633026 ,\n",
       "         3.05759157]),\n",
       " <a list of 10 Patch objects>)"
      ]
     },
     "execution_count": 84,
     "metadata": {},
     "output_type": "execute_result"
    },
    {
     "data": {
      "image/png": "[encoded data removed]",
      "text/plain": [
       "<matplotlib.figure.Figure at 0x15c4e13d0>"
      ]
     },
     "metadata": {},
     "output_type": "display_data"
    }
   ],
   "source": [
    "plt.hist(detected['SIGMA'])"
   ]
  },
  {
   "cell_type": "code",
   "execution_count": 85,
   "metadata": {
    "collapsed": false
   },
   "outputs": [],
   "source": [
    "#algorithm for ambiguous blends - returns rows of ambiguously blended objects in cat. \n",
    "def detected_ambiguous_blends(table,detected):\n",
    "    ambiguous_blends_indices = set([])\n",
    "    for index,gal_row in enumerate(table):\n",
    "        if gal_row['match'] == -1: \n",
    "            \n",
    "            #search for least effective separation SExtracted object.\n",
    "\n",
    "            effective_distances = list(np.sqrt((detected['X_IMAGE']-gal_row['dx'])**2 + (detected['Y_IMAGE']-gal_row['dy'])**2)/(detected['SIGMA'] + gal_row['sigma_m']))\n",
    "            effective_distances_sorted = sorted(effective_distances)\n",
    "            least_effective_distance_index = 0 \n",
    "            for distance in effective_distances_sorted:\n",
    "                index = effective_distances.index(distance)\n",
    "                if index in t['match']:\n",
    "                    least_effective_distance_index = index\n",
    "                    break \n",
    "                    \n",
    "            #check criterion and of corresponding indices of table \n",
    "            if effective_distances[least_effective_distance_index] < 1.: \n",
    "                ambiguous_blends_indices.add(index)\n",
    "                ambiguous_blends_indices.add(list(table['match']).index(least_effective_distance_index))\n",
    "    return ambiguous_blends_indices"
   ]
  },
  {
   "cell_type": "code",
   "execution_count": 86,
   "metadata": {
    "collapsed": false,
    "scrolled": false
   },
   "outputs": [],
   "source": [
    "t = table[table['ab_mag'] < 27.]\n",
    "ambg_blends = detected_ambiguous_blends(t, detected)"
   ]
  },
  {
   "cell_type": "code",
   "execution_count": 87,
   "metadata": {
    "collapsed": false
   },
   "outputs": [],
   "source": [
    "ambg_blends_indices = list(ambg_blends)\n",
    "ambg_blends_ids = list(t[ambg_blends_indices]['db_id'])"
   ]
  },
  {
   "cell_type": "code",
   "execution_count": 88,
   "metadata": {
    "collapsed": true
   },
   "outputs": [],
   "source": [
    "#add columns to table of undetected and ambiguosly blended \n",
    "ambigous_blend_column = []\n",
    "for i,gal_row in enumerate(t):\n",
    "    if i in ambg_blends_indices:\n",
    "        ambigous_blend_column.append(True)\n",
    "    else: \n",
    "        ambigous_blend_column.append(False)\n",
    "column = Table.Column(name='ambig_blend',data=ambigous_blend_column)\n",
    "t.add_column(column)"
   ]
  },
  {
   "cell_type": "code",
   "execution_count": 89,
   "metadata": {
    "collapsed": false
   },
   "outputs": [],
   "source": [
    "#create new copy of fits_file with this new table. \n",
    "subprocess.call('cp {0} {1}'.format(input_name,fits_dawson),shell=True)\n",
    "f = fits.open(fits_dawson)  \n",
    "#replace table and write file\n",
    "f[1]= astropy.io.fits.table_to_hdu(t)\n",
    "subprocess.call('rm {0}'.format(fits_dawson),shell=True)\n",
    "f.writeto(fits_dawson) #overwrites the existing one. "
   ]
  },
  {
   "cell_type": "markdown",
   "metadata": {
    "collapsed": true
   },
   "source": [
    "### Make sure ambigous blends make sense"
   ]
  },
  {
   "cell_type": "code",
   "execution_count": null,
   "metadata": {
    "collapsed": false
   },
   "outputs": [],
   "source": [
    "cmd = './display.py -o {0} --view-region [-450,-400,400,450] --select-region [-450,-400,400,450] --input-name {1} -- --match-catalog {3} --magnification 4 --match-color CYAN --no-display'.format(matched_image,final_fits,402700070321,output_name)\n",
    "out = subprocess.check_output(cmd,shell=True)\n",
    "print out "
   ]
  },
  {
   "cell_type": "code",
   "execution_count": null,
   "metadata": {
    "collapsed": false
   },
   "outputs": [],
   "source": [
    "cmd = './display.py -o {0} --view-region [-450,-400,400,450] --select --input-name {1} -- --match-catalog {3} --magnification 4 --match-color CYAN --no-display'.format(matched_image,final_fits,402700070321,output_name)\n",
    "out = subprocess.check_output(cmd,shell=True)\n",
    "print out "
   ]
  },
  {
   "cell_type": "code",
   "execution_count": null,
   "metadata": {
    "collapsed": true
   },
   "outputs": [],
   "source": []
  },
  {
   "cell_type": "markdown",
   "metadata": {
    "collapsed": true
   },
   "source": [
    "### analysis of final_fits "
   ]
  },
  {
   "cell_type": "code",
   "execution_count": 90,
   "metadata": {
    "collapsed": false
   },
   "outputs": [],
   "source": [
    "t = Table.read(fits_dawson)"
   ]
  },
  {
   "cell_type": "code",
   "execution_count": 91,
   "metadata": {
    "collapsed": false
   },
   "outputs": [
    {
     "data": {
      "text/plain": [
       "0.14360522424839822"
      ]
     },
     "execution_count": 91,
     "metadata": {},
     "output_type": "execute_result"
    }
   ],
   "source": [
    "float(len(t[(t['match'] != -1) & (t['ambig_blend'] == True)]))/ len(t[t['match'] != -1])"
   ]
  },
  {
   "cell_type": "code",
   "execution_count": null,
   "metadata": {
    "collapsed": true
   },
   "outputs": [],
   "source": []
  }
 ],
 "metadata": {
  "kernelspec": {
   "display_name": "Python 2",
   "language": "python",
   "name": "python2"
  },
  "language_info": {
   "codemirror_mode": {
    "name": "ipython",
    "version": 2
   },
   "file_extension": ".py",
   "mimetype": "text/x-python",
   "name": "python",
   "nbconvert_exporter": "python",
   "pygments_lexer": "ipython2",
   "version": "2.7.11"
  }
 },
 "nbformat": 4,
 "nbformat_minor": 0
}
