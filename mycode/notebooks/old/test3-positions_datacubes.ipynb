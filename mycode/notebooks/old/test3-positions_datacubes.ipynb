{
 "cells": [
  {
   "cell_type": "code",
   "execution_count": 19,
   "metadata": {
    "collapsed": false
   },
   "outputs": [
    {
     "name": "stdout",
     "output_type": "stream",
     "text": [
      "{('dy', 'dg1'): 13, ('dg2', 'dg2'): 20, ('dx', 'dy'): 7, 'dx': 1, ('ds', 'dg1'): 16, ('dx', 'dx'): 6, ('dg1', 'dg2'): 19, ('dy', 'ds'): 12, ('dx', 'dg2'): 10, ('dy', 'dy'): 11, ('dx', 'dg1'): 9, 'dg2': 5, 'dg1': 4, ('dx', 'ds'): 8, 'dy': 2, ('dy', 'dg2'): 14, ('dg1', 'dg1'): 18, 'ds': 3, ('ds', 'dg2'): 17, ('ds', 'ds'): 15}\n"
     ]
    }
   ],
   "source": [
    "#testing to see if my mapping functions and creation of the corresponding dictionary works\n",
    "variations = [\n",
    "    ('dx',3.), # arcsecs\n",
    "    ('dy',3.), # arcsecs\n",
    "    ('ds',0.05), # relative dilation (flux preserving)\n",
    "    ('dg1',0.03), # + shear using |g| = (a-b)/(a+b) convention\n",
    "    ('dg2',0.03), # x shear using |g| = (a-b)/(a+b) convention\n",
    "    ]\n",
    "\n",
    "def index_partial(i,j):\n",
    "    #return sum of n, n-1, ..., k (non-excluding)\n",
    "    def sum_n_to_k(n,k):\n",
    "        l = [x for x in range(n+1) if x>=k]\n",
    "        return sum(l)\n",
    "\n",
    "    return sum_n_to_k(5,7-i) + j - i + 6 \n",
    "\n",
    "#create dictionary of mapping from corresponding partial names to position in datacube.\n",
    "#seems to work\n",
    "positions_numbers = {}\n",
    "for i,(pname_i,delta_i) in enumerate(variations):\n",
    "    positions[i] = i\n",
    "    for j,(pname_j,delta_j) in enumerate(variations):\n",
    "        if(j>=i):\n",
    "            positions[i+1,j+1] = index_partial(i+1,j+1)\n",
    "\n",
    "#create dictionary of mapping from corresponding partial names to position in datacube.\n",
    "positions = {}\n",
    "for i,(pname_i,delta_i) in enumerate(variations):\n",
    "    positions[pname_i] = i+1\n",
    "    for j,(pname_j,delta_j) in enumerate(variations):\n",
    "        if(j>=i):\n",
    "            positions[pname_i,pname_j] = index_partial(i+1,j+1)\n",
    "        \n",
    "#this mapping looks fine...\n",
    "# for i in range(1,6):\n",
    "#     for j in range(i,6):\n",
    "#         print i,j,index_partial(i,j)\n",
    "\n",
    "print positions\n",
    "        "
   ]
  },
  {
   "cell_type": "code",
   "execution_count": null,
   "metadata": {
    "collapsed": true
   },
   "outputs": [],
   "source": [
    "###test data cubes\n"
   ]
  },
  {
   "cell_type": "code",
   "execution_count": null,
   "metadata": {
    "collapsed": true
   },
   "outputs": [],
   "source": []
  }
 ],
 "metadata": {
  "kernelspec": {
   "display_name": "Python 2",
   "language": "python",
   "name": "python2"
  },
  "language_info": {
   "codemirror_mode": {
    "name": "ipython",
    "version": 2
   },
   "file_extension": ".py",
   "mimetype": "text/x-python",
   "name": "python",
   "nbconvert_exporter": "python",
   "pygments_lexer": "ipython2",
   "version": "2.7.11"
  }
 },
 "nbformat": 4,
 "nbformat_minor": 0
}
