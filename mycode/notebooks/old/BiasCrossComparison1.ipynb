{
 "cells": [
  {
   "cell_type": "markdown",
   "metadata": {},
   "source": [
    "## Bias Estimation Plots"
   ]
  },
  {
   "cell_type": "markdown",
   "metadata": {},
   "source": [
    "### Initialization "
   ]
  },
  {
   "cell_type": "code",
   "execution_count": 1,
   "metadata": {
    "collapsed": false
   },
   "outputs": [
    {
     "name": "stdout",
     "output_type": "stream",
     "text": [
      "Traceback (most recent call last):\n",
      "  File \"/Users/Ismael/miniconda2/lib/python2.7/site-packages/IPython/core/ultratb.py\", line 1120, in get_records\n",
      "    return _fixed_getinnerframes(etb, number_of_lines_of_context, tb_offset)\n",
      "  File \"/Users/Ismael/miniconda2/lib/python2.7/site-packages/IPython/core/ultratb.py\", line 301, in wrapped\n",
      "    return f(*args, **kwargs)\n",
      "  File \"/Users/Ismael/miniconda2/lib/python2.7/site-packages/IPython/core/ultratb.py\", line 346, in _fixed_getinnerframes\n",
      "    records = fix_frame_records_filenames(inspect.getinnerframes(etb, context))\n",
      "  File \"/Users/Ismael/miniconda2/lib/python2.7/inspect.py\", line 1049, in getinnerframes\n",
      "    framelist.append((tb.tb_frame,) + getframeinfo(tb, context))\n",
      "  File \"/Users/Ismael/miniconda2/lib/python2.7/inspect.py\", line 1009, in getframeinfo\n",
      "    filename = getsourcefile(frame) or getfile(frame)\n",
      "  File \"/Users/Ismael/miniconda2/lib/python2.7/inspect.py\", line 454, in getsourcefile\n",
      "    if hasattr(getmodule(object, filename), '__loader__'):\n",
      "  File \"/Users/Ismael/miniconda2/lib/python2.7/inspect.py\", line 483, in getmodule\n",
      "    file = getabsfile(object, _filename)\n",
      "  File \"/Users/Ismael/miniconda2/lib/python2.7/inspect.py\", line 467, in getabsfile\n",
      "    return os.path.normcase(os.path.abspath(_filename))\n",
      "  File \"/Users/Ismael/miniconda2/lib/python2.7/posixpath.py\", line 364, in abspath\n",
      "    cwd = os.getcwd()\n",
      "OSError: [Errno 2] No such file or directory\n"
     ]
    },
    {
     "name": "stderr",
     "output_type": "stream",
     "text": [
      "ERROR: Internal Python error in the inspect module.\n",
      "Below is the traceback from this internal error.\n",
      "\n",
      "\n",
      "Unfortunately, your original traceback can not be constructed.\n",
      "\n"
     ]
    },
    {
     "ename": "IndexError",
     "evalue": "string index out of range",
     "output_type": "error",
     "traceback": [
      "\u001b[0;31m---------------------------------------------------------------------------\u001b[0m",
      "\u001b[0;31mIndexError\u001b[0m                                Traceback (most recent call last)",
      "\u001b[0;32m/Users/Ismael/miniconda2/lib/python2.7/site-packages/IPython/core/interactiveshell.pyc\u001b[0m in \u001b[0;36mrun_code\u001b[0;34m(self, code_obj, result)\u001b[0m\n\u001b[1;32m   2900\u001b[0m             \u001b[0;32mif\u001b[0m \u001b[0mresult\u001b[0m \u001b[0;32mis\u001b[0m \u001b[0;32mnot\u001b[0m \u001b[0mNone\u001b[0m\u001b[0;34m:\u001b[0m\u001b[0;34m\u001b[0m\u001b[0m\n\u001b[1;32m   2901\u001b[0m                 \u001b[0mresult\u001b[0m\u001b[0;34m.\u001b[0m\u001b[0merror_in_exec\u001b[0m \u001b[0;34m=\u001b[0m \u001b[0msys\u001b[0m\u001b[0;34m.\u001b[0m\u001b[0mexc_info\u001b[0m\u001b[0;34m(\u001b[0m\u001b[0;34m)\u001b[0m\u001b[0;34m[\u001b[0m\u001b[0;36m1\u001b[0m\u001b[0;34m]\u001b[0m\u001b[0;34m\u001b[0m\u001b[0m\n\u001b[0;32m-> 2902\u001b[0;31m             \u001b[0mself\u001b[0m\u001b[0;34m.\u001b[0m\u001b[0mshowtraceback\u001b[0m\u001b[0;34m(\u001b[0m\u001b[0;34m)\u001b[0m\u001b[0;34m\u001b[0m\u001b[0m\n\u001b[0m\u001b[1;32m   2903\u001b[0m         \u001b[0;32melse\u001b[0m\u001b[0;34m:\u001b[0m\u001b[0;34m\u001b[0m\u001b[0m\n\u001b[1;32m   2904\u001b[0m             \u001b[0moutflag\u001b[0m \u001b[0;34m=\u001b[0m \u001b[0;36m0\u001b[0m\u001b[0;34m\u001b[0m\u001b[0m\n",
      "\u001b[0;32m/Users/Ismael/miniconda2/lib/python2.7/site-packages/IPython/core/interactiveshell.pyc\u001b[0m in \u001b[0;36mshowtraceback\u001b[0;34m(self, exc_tuple, filename, tb_offset, exception_only)\u001b[0m\n\u001b[1;32m   1828\u001b[0m                     \u001b[0;32mexcept\u001b[0m \u001b[0mException\u001b[0m\u001b[0;34m:\u001b[0m\u001b[0;34m\u001b[0m\u001b[0m\n\u001b[1;32m   1829\u001b[0m                         stb = self.InteractiveTB.structured_traceback(etype,\n\u001b[0;32m-> 1830\u001b[0;31m                                             value, tb, tb_offset=tb_offset)\n\u001b[0m\u001b[1;32m   1831\u001b[0m \u001b[0;34m\u001b[0m\u001b[0m\n\u001b[1;32m   1832\u001b[0m                     \u001b[0mself\u001b[0m\u001b[0;34m.\u001b[0m\u001b[0m_showtraceback\u001b[0m\u001b[0;34m(\u001b[0m\u001b[0metype\u001b[0m\u001b[0;34m,\u001b[0m \u001b[0mvalue\u001b[0m\u001b[0;34m,\u001b[0m \u001b[0mstb\u001b[0m\u001b[0;34m)\u001b[0m\u001b[0;34m\u001b[0m\u001b[0m\n",
      "\u001b[0;32m/Users/Ismael/miniconda2/lib/python2.7/site-packages/IPython/core/ultratb.pyc\u001b[0m in \u001b[0;36mstructured_traceback\u001b[0;34m(self, etype, value, tb, tb_offset, number_of_lines_of_context)\u001b[0m\n\u001b[1;32m   1392\u001b[0m         \u001b[0mself\u001b[0m\u001b[0;34m.\u001b[0m\u001b[0mtb\u001b[0m \u001b[0;34m=\u001b[0m \u001b[0mtb\u001b[0m\u001b[0;34m\u001b[0m\u001b[0m\n\u001b[1;32m   1393\u001b[0m         return FormattedTB.structured_traceback(\n\u001b[0;32m-> 1394\u001b[0;31m             self, etype, value, tb, tb_offset, number_of_lines_of_context)\n\u001b[0m\u001b[1;32m   1395\u001b[0m \u001b[0;34m\u001b[0m\u001b[0m\n\u001b[1;32m   1396\u001b[0m \u001b[0;34m\u001b[0m\u001b[0m\n",
      "\u001b[0;32m/Users/Ismael/miniconda2/lib/python2.7/site-packages/IPython/core/ultratb.pyc\u001b[0m in \u001b[0;36mstructured_traceback\u001b[0;34m(self, etype, value, tb, tb_offset, number_of_lines_of_context)\u001b[0m\n\u001b[1;32m   1300\u001b[0m             \u001b[0;31m# Verbose modes need a full traceback\u001b[0m\u001b[0;34m\u001b[0m\u001b[0;34m\u001b[0m\u001b[0m\n\u001b[1;32m   1301\u001b[0m             return VerboseTB.structured_traceback(\n\u001b[0;32m-> 1302\u001b[0;31m                 \u001b[0mself\u001b[0m\u001b[0;34m,\u001b[0m \u001b[0metype\u001b[0m\u001b[0;34m,\u001b[0m \u001b[0mvalue\u001b[0m\u001b[0;34m,\u001b[0m \u001b[0mtb\u001b[0m\u001b[0;34m,\u001b[0m \u001b[0mtb_offset\u001b[0m\u001b[0;34m,\u001b[0m \u001b[0mnumber_of_lines_of_context\u001b[0m\u001b[0;34m\u001b[0m\u001b[0m\n\u001b[0m\u001b[1;32m   1303\u001b[0m             )\n\u001b[1;32m   1304\u001b[0m         \u001b[0;32melse\u001b[0m\u001b[0;34m:\u001b[0m\u001b[0;34m\u001b[0m\u001b[0m\n",
      "\u001b[0;32m/Users/Ismael/miniconda2/lib/python2.7/site-packages/IPython/core/ultratb.pyc\u001b[0m in \u001b[0;36mstructured_traceback\u001b[0;34m(self, etype, evalue, etb, tb_offset, number_of_lines_of_context)\u001b[0m\n\u001b[1;32m   1184\u001b[0m                 \u001b[0mstructured_traceback_parts\u001b[0m \u001b[0;34m+=\u001b[0m \u001b[0mformatted_exception\u001b[0m\u001b[0;34m\u001b[0m\u001b[0m\n\u001b[1;32m   1185\u001b[0m         \u001b[0;32melse\u001b[0m\u001b[0;34m:\u001b[0m\u001b[0;34m\u001b[0m\u001b[0m\n\u001b[0;32m-> 1186\u001b[0;31m             \u001b[0mstructured_traceback_parts\u001b[0m \u001b[0;34m+=\u001b[0m \u001b[0mformatted_exception\u001b[0m\u001b[0;34m[\u001b[0m\u001b[0;36m0\u001b[0m\u001b[0;34m]\u001b[0m\u001b[0;34m\u001b[0m\u001b[0m\n\u001b[0m\u001b[1;32m   1187\u001b[0m \u001b[0;34m\u001b[0m\u001b[0m\n\u001b[1;32m   1188\u001b[0m         \u001b[0;32mreturn\u001b[0m \u001b[0mstructured_traceback_parts\u001b[0m\u001b[0;34m\u001b[0m\u001b[0m\n",
      "\u001b[0;31mIndexError\u001b[0m: string index out of range"
     ]
    }
   ],
   "source": [
    "%pylab inline"
   ]
  },
  {
   "cell_type": "code",
   "execution_count": 14,
   "metadata": {
    "collapsed": true
   },
   "outputs": [],
   "source": [
    "import os.path\n",
    "import astropy.table\n",
    "import astropy.io.fits as fits\n",
    "import numpy as np\n",
    "from copy import deepcopy\n",
    "import random"
   ]
  },
  {
   "cell_type": "code",
   "execution_count": 15,
   "metadata": {
    "collapsed": true
   },
   "outputs": [],
   "source": [
    "#directories that would be using \n",
    "WLD = '/Users/Ismael/code/lensing/WeakLensingDeblending/'\n",
    "repo = '/Users/Ismael/code/lensing/repo/'\n",
    "AEGIS = '/Users/Ismael/aegis/WeakLensingDeblending/'\n",
    "os.chdir(AEGIS)"
   ]
  },
  {
   "cell_type": "markdown",
   "metadata": {},
   "source": [
    "### Read Simulation Outputs and separate into samples. "
   ]
  },
  {
   "cell_type": "code",
   "execution_count": 4,
   "metadata": {
    "collapsed": false
   },
   "outputs": [],
   "source": [
    "#all have same number of galaxies from David's One Sq degree. \n",
    "data1 = fits.open('data/fits/SimOSD1.fits')\n",
    "cat1 = astropy.table.Table.read(data1,hdu=1) #g = .0\n",
    "#\n",
    "data2 = fits.open('data/fits/SimOSD2.fits')\n",
    "cat2 = astropy.table.Table.read(data2,hdu=1) #g = .01 "
   ]
  },
  {
   "cell_type": "code",
   "execution_count": 5,
   "metadata": {
    "collapsed": false
   },
   "outputs": [],
   "source": [
    "#some interesting subsets of the simulation\n",
    "iso_gal = lambda cat: cat[cat['grp_size'] == 1] #isolated galaxies\n",
    "grp_gal = lambda cat: cat[cat['grp_size'] != 1] #galaxies in a group of 2 or more. \n",
    "\n",
    "#'good' galaxies satisfy the reasonable criteria below.\n",
    "good = lambda cat: cat[(cat['snr_iso'] > 10) & (cat['sigma_m'] > .2)]\n",
    "\n",
    "#gold sample galaxies \n",
    "gold = lambda cat: cat[(cat['ab_mag'] < 25.3)] \n"
   ]
  },
  {
   "cell_type": "code",
   "execution_count": 6,
   "metadata": {
    "collapsed": true
   },
   "outputs": [],
   "source": [
    "def leaveRandom(sz,cat):\n",
    "    new_cat = deepcopy(cat)\n",
    "    rm_rows = random.sample(xrange(0,len(cat)-1), len(cat) - sz)\n",
    "    new_cat.remove_rows(rm_rows)\n",
    "    return new_cat "
   ]
  },
  {
   "cell_type": "code",
   "execution_count": 7,
   "metadata": {
    "collapsed": false
   },
   "outputs": [],
   "source": [
    "#get a smaller sample of each of the catalogs for illustrative purposes \n",
    "N = 10000\n",
    "cat_small = lambda cat: leaveRandom(N, cat)\n",
    "good_small = lambda cat: leaveRandom(N, good(cat))\n",
    "gold_small = lambda cat: leaveRandom(N, gold(cat))"
   ]
  },
  {
   "cell_type": "markdown",
   "metadata": {},
   "source": [
    "### Basic statistics about the different samples "
   ]
  },
  {
   "cell_type": "code",
   "execution_count": 8,
   "metadata": {
    "collapsed": false
   },
   "outputs": [],
   "source": [
    "#number of galaxies in each category\n",
    "def basic_stats(cat, good, gold):\n",
    "    print 'total number of galaxies is {0}'.format(len(cat))\n",
    "    print 'total number of isolated galaxies is {0}, they constitute {1:.2f}% of the total.'.format(len(iso_gal(cat)), float(len(iso_gal(cat)))/len(cat)*100)\n",
    "    print 'total number of non-isolated galaxies is {0}, they constitute {1:.2f}% of the total.'.format(len(grp_gal(cat)), float(len(grp_gal(cat)))/len(cat)*100)\n",
    "    print 'total number of good galaxies is {0}, they constitute {1:.2f}% of the total.'.format(len(good), float(len(good))/len(cat)*100)\n",
    "    print 'total number of good isolated galaxies is {0}, they constitute {1:.2f}% of the isolated galaxies, and {2:.2f}% of the total.'.format(len(iso_gal(good)),float(len(iso_gal(good)))/len(iso_gal(cat))*100, float(len(iso_gal(good)))/len(cat)*100)\n",
    "    print 'total number of good non-isolated galaxies is {0}, they constitute {1:.2f}% of the non-isolated galaxies, and {2:.2f}% of the total.'.format(len(grp_gal(good)), float(len(grp_gal(good)))/len(grp_gal(cat))*100,  float(len(grp_gal(good)))/len(cat)*100)\n",
    "    print 'total number of gold galaxies is {0}, they constitute {1:.2f}% of the total.'.format(len(gold), float(len(gold))/len(cat)*100)\n",
    "    print 'total number of gold isolated galaxies is {0}, they constitute {1:.2f}% of the isolated galaxies, and {2:.2f}% of the total.'.format(len(iso_gal(gold)),float(len(iso_gal(gold)))/len(iso_gal(cat))*100, float(len(iso_gal(gold)))/len(cat)*100)\n",
    "    print 'total number of gold non-isolated galaxies is {0}, they constitute {1:.2f}% of the non-isolated galaxies, and {2:.2f}% of the total.'.format(len(grp_gal(gold)),float(len(grp_gal(gold)))/len(grp_gal(cat))*100, float(len(grp_gal(gold)))/len(cat)*100)\n"
   ]
  },
  {
   "cell_type": "code",
   "execution_count": 9,
   "metadata": {
    "collapsed": false
   },
   "outputs": [
    {
     "name": "stdout",
     "output_type": "stream",
     "text": [
      "catalogue1:\n",
      "\n",
      "total number of galaxies is 861061\n",
      "total number of isolated galaxies is 173437, they constitute 20.14% of the total.\n",
      "total number of non-isolated galaxies is 687624, they constitute 79.86% of the total.\n",
      "total number of good galaxies is 194276, they constitute 22.56% of the total.\n",
      "total number of good isolated galaxies is 16353, they constitute 9.43% of the isolated galaxies, and 1.90% of the total.\n",
      "total number of good non-isolated galaxies is 177923, they constitute 25.88% of the non-isolated galaxies, and 20.66% of the total.\n",
      "total number of gold galaxies is 197083, they constitute 22.89% of the total.\n",
      "total number of gold isolated galaxies is 15640, they constitute 9.02% of the isolated galaxies, and 1.82% of the total.\n",
      "total number of gold non-isolated galaxies is 181443, they constitute 26.39% of the non-isolated galaxies, and 21.07% of the total.\n",
      "\n",
      "\n",
      "catalogue2:\n",
      "\n",
      "total number of galaxies is 861064\n",
      "total number of isolated galaxies is 173411, they constitute 20.14% of the total.\n",
      "total number of non-isolated galaxies is 687653, they constitute 79.86% of the total.\n",
      "total number of good galaxies is 194292, they constitute 22.56% of the total.\n",
      "total number of good isolated galaxies is 16372, they constitute 9.44% of the isolated galaxies, and 1.90% of the total.\n",
      "total number of good non-isolated galaxies is 177920, they constitute 25.87% of the non-isolated galaxies, and 20.66% of the total.\n",
      "total number of gold galaxies is 197084, they constitute 22.89% of the total.\n",
      "total number of gold isolated galaxies is 15643, they constitute 9.02% of the isolated galaxies, and 1.82% of the total.\n",
      "total number of gold non-isolated galaxies is 181441, they constitute 26.39% of the non-isolated galaxies, and 21.07% of the total.\n"
     ]
    }
   ],
   "source": [
    "print 'catalogue1:\\n'\n",
    "basic_stats(cat1,good(cat1),gold(cat1))\n",
    "print '\\n\\ncatalogue2:\\n'\n",
    "basic_stats(cat2,good(cat2),gold(cat2))"
   ]
  },
  {
   "cell_type": "markdown",
   "metadata": {},
   "source": [
    "### Comparing mean and errors of biases , "
   ]
  },
  {
   "cell_type": "code",
   "execution_count": 10,
   "metadata": {
    "collapsed": true
   },
   "outputs": [],
   "source": [
    "def means(cat,good,gold):\n",
    "    print 'The ellipticity statistics for the catalog are:'\n",
    "    print 'Mean on e1: \\n{0}\\n'.format(np.mean(cat['e1']))\n",
    "    print 'Error on mean of e1: \\n{0}\\n'.format(np.std(cat['e1'])/np.sqrt(len(cat))) \n",
    "    print 'Mean on e2: \\n{0}\\n'.format(np.mean(cat['e2']))\n",
    "    print 'Error on mean of e2: \\n{0}\\n'.format(np.std(cat['e2'])/np.sqrt(len(cat)))\n",
    "    #\n",
    "    print 'The ellipticity statistics for the good galaxies of the catalog are:'\n",
    "    print 'Mean on e1: \\n{0}\\n'.format(np.mean(good['e1']))\n",
    "    print 'Error on mean of e1: \\n{0}\\n'.format(np.std(good['e1'])/np.sqrt(len(good))) \n",
    "    print 'Mean on e2: \\n{0}\\n'.format(np.mean(good['e2']))\n",
    "    print 'Error on mean of e2: \\n{0}\\n'.format(np.std(good['e2'])/np.sqrt(len(good)))      \n",
    "    #\n",
    "    print 'The ellipticity statistics for the gold galaxies of the catalog are:'\n",
    "    print 'Mean on e1: \\n{0}\\n'.format(np.mean(gold['e1']))\n",
    "    print 'Error on mean of e1: \\n{0}\\n'.format(np.std(gold['e1'])/np.sqrt(len(gold))) \n",
    "    print 'Mean on e2: \\n{0}\\n'.format(np.mean(gold['e2']))\n",
    "    print 'Error on mean of e2: \\n{0}\\n'.format(np.std(gold['e2'])/np.sqrt(len(gold)))    \n",
    "    #\n",
    "    print 'The unblended biases statistics for the catalog are:'\n",
    "    print 'Mean on bias_g1: \\n{0}\\n'.format(np.mean(cat['bias_g1']))\n",
    "    print 'Standard Deviation on bias_g1: \\n{0}\\n'.format(np.std(cat['bias_g1']))\n",
    "    print 'Mean on bias_g2: \\n{0}\\n'.format(np.mean(cat['bias_g2']))\n",
    "    print 'Variance on bias_g2: \\n{0}\\n\\n'.format(np.std(cat['bias_g2'])) \n",
    "    #\n",
    "    print 'The blended biases statistics for the catalog are:'\n",
    "    print 'Mean on bias_g1_grp: \\n{0}\\n'.format(np.mean(cat['bias_g1_grp']))\n",
    "    print 'Standard Deviation on bias_g1_grp: \\n{0}\\n'.format(np.std(cat['bias_g1_grp']))\n",
    "    print 'Mean on bias_g2_grp: \\n{0}\\n'.format(np.mean(cat['bias_g2_grp']))\n",
    "    print 'Standard Deviation on bias_g2_grp: \\n{0}\\n\\n'.format(np.std(cat['bias_g2_grp'])) \n",
    "    #\n",
    "    #\n",
    "\n",
    "    good_cut_iso= good[(abs(good['bias_g1']) < 10) & (abs(good['bias_g2']) < 10)]\n",
    "    good_cut_grp= good[(abs(good['bias_g1_grp']) < 10) & (abs(good['bias_g2_grp']) < 10)]\n",
    "    print 'The unblended biases statistics for the good galaxies of the catalog are:'\n",
    "    print 'Mean on bias_g1: \\n{0}\\n'.format(np.mean(good_cut_iso['bias_g1']))\n",
    "    print 'Error on mean of bias_g1: \\n{0}\\n'.format(np.std(good_cut_iso['bias_g1'])/np.sqrt(len(good_cut_iso)))\n",
    "    print 'Mean on bias_g2: \\n{0}\\n'.format(np.mean(good_cut_iso['bias_g2']))\n",
    "    print 'Error on mean of bias_g2: \\n{0}\\n\\n'.format(np.std(good_cut_iso['bias_g2'])/np.sqrt(len(good_cut_iso))) \n",
    "    #\n",
    "    print 'The blended biases statistics for the good galaxies of the catalog are:'\n",
    "    print 'Mean on bias_g1_grp: \\n{0}\\n'.format(np.mean(good_cut_grp['bias_g1_grp']))\n",
    "    print 'Error on mean of bias_g1_grp: \\n{0}\\n'.format(np.std(good_cut_grp['bias_g1_grp'])/np.sqrt(len(good_cut_grp)))\n",
    "    print 'Mean on bias_g2_grp: \\n{0}\\n'.format(np.mean(good_cut_grp['bias_g2_grp']))\n",
    "    print 'Error on mean of bias_g2_grp: \\n{0}\\n'.format(np.std(good_cut_grp['bias_g2_grp'])/np.sqrt(len(good_cut_grp))) \n",
    "\n",
    "    #\n",
    "    #\n",
    "    gold_cut_iso= gold[(abs(gold['bias_g1']) < 10) & (abs(gold['bias_g2']) < 10)]\n",
    "    gold_cut_grp= gold[(abs(gold['bias_g1_grp']) < 10) & (abs(gold['bias_g2_grp']) < 10)]\n",
    "    print 'The unblended biases statistics for the gold galaxies of the catalog are:'\n",
    "    print 'Mean on bias_g1: \\n{0}\\n'.format(np.mean(gold_cut_iso['bias_g1']))\n",
    "    print 'Error on mean of bias_g1: \\n{0}\\n'.format(np.std(gold_cut_iso['bias_g1'])/np.sqrt(len(gold_cut_iso)))\n",
    "    print 'Mean on bias_g2: \\n{0}\\n'.format(np.mean(gold_cut_iso['bias_g2']))\n",
    "    print 'Error on mean of bias_g2: \\n{0}\\n\\n'.format(np.std(gold_cut_iso['bias_g2'])/np.sqrt(len(gold_cut_iso))) \n",
    "    #\n",
    "    print 'The blended biases statistics for the gold galaxies of the catalog are:'\n",
    "    print 'Mean on bias_g1_grp: \\n{0}\\n'.format(np.mean(gold_cut_grp['bias_g1_grp']))\n",
    "    print 'Error on mean of bias_g1_grp: \\n{0}\\n'.format(np.std(gold_cut_grp['bias_g1_grp'])/np.sqrt(len(gold_cut_grp)))\n",
    "    print 'Mean on bias_g2_grp: \\n{0}\\n'.format(np.mean(gold_cut_grp['bias_g2_grp']))\n",
    "    print 'Error on mean of bias_g2_grp: \\n{0}\\n'.format(np.std(gold_cut_grp['bias_g2_grp'])/np.sqrt(len(gold_cut_grp))) "
   ]
  },
  {
   "cell_type": "code",
   "execution_count": 11,
   "metadata": {
    "collapsed": false,
    "scrolled": false
   },
   "outputs": [
    {
     "name": "stdout",
     "output_type": "stream",
     "text": [
      "cat1 results of means and errors\n",
      "The ellipticity statistics for the catalog are:\n",
      "Mean on e1: \n",
      "-0.000183750584256\n",
      "\n",
      "Error on mean of e1: \n",
      "0.000238891233094\n",
      "\n",
      "Mean on e2: \n",
      "-6.42356753815e-05\n",
      "\n",
      "Error on mean of e2: \n",
      "0.000238968971966\n",
      "\n",
      "The ellipticity statistics for the good galaxies of the catalog are:\n",
      "Mean on e1: \n",
      "1.12783927761e-05\n",
      "\n",
      "Error on mean of e1: \n",
      "0.000499015074133\n",
      "\n",
      "Mean on e2: \n",
      "0.000526637479197\n",
      "\n",
      "Error on mean of e2: \n",
      "0.000498287270497\n",
      "\n",
      "The ellipticity statistics for the gold galaxies of the catalog are:\n",
      "Mean on e1: \n",
      "-3.02049556922e-05\n",
      "\n",
      "Error on mean of e1: \n",
      "0.000533099190736\n",
      "\n",
      "Mean on e2: \n",
      "0.00048261336633\n",
      "\n",
      "Error on mean of e2: \n",
      "0.000531482029539\n",
      "\n",
      "The unblended biases statistics for the catalog are:\n",
      "Mean on bias_g1: \n",
      "2.01501953229e+12\n",
      "\n",
      "Standard Deviation on bias_g1: \n",
      "1.74777278503e+15\n",
      "\n",
      "Mean on bias_g2: \n",
      "-1.34182679347e+12\n",
      "\n",
      "Variance on bias_g2: \n",
      "1.88909720751e+15\n",
      "\n",
      "\n",
      "The blended biases statistics for the catalog are:\n",
      "Mean on bias_g1_grp: \n",
      "1.45280237568e+11\n",
      "\n",
      "Standard Deviation on bias_g1_grp: \n",
      "9.81384843756e+13\n",
      "\n",
      "Mean on bias_g2_grp: \n",
      "5.66458384384e+11\n",
      "\n",
      "Standard Deviation on bias_g2_grp: \n",
      "3.07440402825e+14\n",
      "\n",
      "\n",
      "The unblended biases statistics for the good galaxies of the catalog are:\n",
      "Mean on bias_g1: \n",
      "-0.000400948309107\n",
      "\n",
      "Error on mean of bias_g1: \n",
      "0.000434098701425\n",
      "\n",
      "Mean on bias_g2: \n",
      "-0.000280212087091\n",
      "\n",
      "Error on mean of bias_g2: \n",
      "0.000427852737749\n",
      "\n",
      "\n",
      "The blended biases statistics for the good galaxies of the catalog are:\n",
      "Mean on bias_g1_grp: \n",
      "-0.000317291996907\n",
      "\n",
      "Error on mean of bias_g1_grp: \n",
      "0.000828733274671\n",
      "\n",
      "Mean on bias_g2_grp: \n",
      "0.000310243543936\n",
      "\n",
      "Error on mean of bias_g2_grp: \n",
      "0.000820810723586\n",
      "\n",
      "The unblended biases statistics for the gold galaxies of the catalog are:\n",
      "Mean on bias_g1: \n",
      "0.000809462449979\n",
      "\n",
      "Error on mean of bias_g1: \n",
      "0.001257982278\n",
      "\n",
      "Mean on bias_g2: \n",
      "-0.00146530533675\n",
      "\n",
      "Error on mean of bias_g2: \n",
      "0.00124716897378\n",
      "\n",
      "\n",
      "The blended biases statistics for the gold galaxies of the catalog are:\n",
      "Mean on bias_g1_grp: \n",
      "0.000343576539308\n",
      "\n",
      "Error on mean of bias_g1_grp: \n",
      "0.00149709309293\n",
      "\n",
      "Mean on bias_g2_grp: \n",
      "8.6889078375e-05\n",
      "\n",
      "Error on mean of bias_g2_grp: \n",
      "0.00146124620503\n",
      "\n",
      "\n",
      "\n",
      "\n",
      "cat2 results of means and errors\n",
      "\n",
      "The ellipticity statistics for the catalog are:\n",
      "Mean on e1: \n",
      "0.00981635972857\n",
      "\n",
      "Error on mean of e1: \n",
      "0.000238849530779\n",
      "\n",
      "Mean on e2: \n",
      "0.00993409845978\n",
      "\n",
      "Error on mean of e2: \n",
      "0.000238929003824\n",
      "\n",
      "The ellipticity statistics for the good galaxies of the catalog are:\n",
      "Mean on e1: \n",
      "0.00994378793985\n",
      "\n",
      "Error on mean of e1: \n",
      "0.000498936820004\n",
      "\n",
      "Mean on e2: \n",
      "0.0104402629659\n",
      "\n",
      "Error on mean of e2: \n",
      "0.000498180311311\n",
      "\n",
      "The ellipticity statistics for the gold galaxies of the catalog are:\n",
      "Mean on e1: \n",
      "0.00997441634536\n",
      "\n",
      "Error on mean of e1: \n",
      "0.00053298519211\n",
      "\n",
      "Mean on e2: \n",
      "0.0104926088825\n",
      "\n",
      "Error on mean of e2: \n",
      "0.000531390725362\n",
      "\n",
      "The unblended biases statistics for the catalog are:\n",
      "Mean on bias_g1: \n",
      "5949128704.0\n",
      "\n",
      "Standard Deviation on bias_g1: \n",
      "5.41364636877e+12\n",
      "\n",
      "Mean on bias_g2: \n",
      "1059904768.0\n",
      "\n",
      "Variance on bias_g2: \n",
      "8.76117229568e+11\n",
      "\n",
      "\n",
      "The blended biases statistics for the catalog are:\n",
      "Mean on bias_g1_grp: \n",
      "-1.35222534144e+11\n",
      "\n",
      "Standard Deviation on bias_g1_grp: \n",
      "1.42016516194e+14\n",
      "\n",
      "Mean on bias_g2_grp: \n",
      "-63814656000.0\n",
      "\n",
      "Standard Deviation on bias_g2_grp: \n",
      "5.69848753029e+13\n",
      "\n",
      "\n",
      "The unblended biases statistics for the good galaxies of the catalog are:\n",
      "Mean on bias_g1: \n",
      "0.00136395310983\n",
      "\n",
      "Error on mean of bias_g1: \n",
      "0.000435200794194\n",
      "\n",
      "Mean on bias_g2: \n",
      "0.00136400840711\n",
      "\n",
      "Error on mean of bias_g2: \n",
      "0.000425486328814\n",
      "\n",
      "\n",
      "The blended biases statistics for the good galaxies of the catalog are:\n",
      "Mean on bias_g1_grp: \n",
      "0.00222063111141\n",
      "\n",
      "Error on mean of bias_g1_grp: \n",
      "0.000830633596929\n",
      "\n",
      "Mean on bias_g2_grp: \n",
      "0.00301410583779\n",
      "\n",
      "Error on mean of bias_g2_grp: \n",
      "0.000821413403345\n",
      "\n",
      "The unblended biases statistics for the gold galaxies of the catalog are:\n",
      "Mean on bias_g1: \n",
      "0.00387359247543\n",
      "\n",
      "Error on mean of bias_g1: \n",
      "0.00125796234623\n",
      "\n",
      "Mean on bias_g2: \n",
      "0.00141550973058\n",
      "\n",
      "Error on mean of bias_g2: \n",
      "0.00124849811753\n",
      "\n",
      "\n",
      "The blended biases statistics for the gold galaxies of the catalog are:\n",
      "Mean on bias_g1_grp: \n",
      "0.00383074232377\n",
      "\n",
      "Error on mean of bias_g1_grp: \n",
      "0.00149896804037\n",
      "\n",
      "Mean on bias_g2_grp: \n",
      "0.00448575196788\n",
      "\n",
      "Error on mean of bias_g2_grp: \n",
      "0.00146525977058\n",
      "\n"
     ]
    }
   ],
   "source": [
    "print 'cat1 results of means and errors'\n",
    "means(cat1,good(cat1),gold(cat1))\n",
    "print '\\n\\n'\n",
    "print 'cat2 results of means and errors'\n",
    "print\n",
    "means(cat2,good(cat2),gold(cat2))\n",
    "\n"
   ]
  },
  {
   "cell_type": "code",
   "execution_count": null,
   "metadata": {
    "collapsed": true
   },
   "outputs": [],
   "source": []
  }
 ],
 "metadata": {
  "kernelspec": {
   "display_name": "Python 2",
   "language": "python",
   "name": "python2"
  },
  "language_info": {
   "codemirror_mode": {
    "name": "ipython",
    "version": 2
   },
   "file_extension": ".py",
   "mimetype": "text/x-python",
   "name": "python",
   "nbconvert_exporter": "python",
   "pygments_lexer": "ipython2",
   "version": "2.7.11"
  }
 },
 "nbformat": 4,
 "nbformat_minor": 0
}
