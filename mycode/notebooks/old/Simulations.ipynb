{
 "cells": [
  {
   "cell_type": "markdown",
   "metadata": {},
   "source": [
    "### Setup"
   ]
  },
  {
   "cell_type": "code",
   "execution_count": 1,
   "metadata": {
    "collapsed": true
   },
   "outputs": [],
   "source": [
    "import numpy as np \n",
    "from subprocess import Popen, PIPE, STDOUT\n",
    "import os\n",
    "import matplotlib.pyplot as plt\n",
    "import galsim\n",
    "import copy \n",
    "import treecorr"
   ]
  },
  {
   "cell_type": "code",
   "execution_count": 2,
   "metadata": {
    "collapsed": false
   },
   "outputs": [
    {
     "name": "stdout",
     "output_type": "stream",
     "text": [
      "Populating the interactive namespace from numpy and matplotlib\n"
     ]
    },
    {
     "name": "stderr",
     "output_type": "stream",
     "text": [
      "WARNING: pylab import has clobbered these variables: ['copy']\n",
      "`%matplotlib` prevents importing * from pylab and numpy\n"
     ]
    }
   ],
   "source": [
    "%pylab inline\n",
    "from astropy.table import Table\n",
    "import fitsio"
   ]
  },
  {
   "cell_type": "code",
   "execution_count": 3,
   "metadata": {
    "collapsed": true
   },
   "outputs": [],
   "source": [
    "#directories that would be using \n",
    "WLD = '/Users/Ismael/code/lensing/WeakLensingDeblending/'\n",
    "repo = '/Users/Ismael/code/lensing/repo/'\n",
    "os.chdir(WLD)"
   ]
  },
  {
   "cell_type": "markdown",
   "metadata": {},
   "source": [
    "### Simulations"
   ]
  },
  {
   "cell_type": "code",
   "execution_count": null,
   "metadata": {
    "collapsed": true
   },
   "outputs": [],
   "source": [
    "#this one includes bias calculation\n",
    "#do one without cosmic_shear\n",
    "cmd = ('./simulate.py --catalog-name OneDegSq.fits --survey-name LSST --filter-band i --output-name lsst_i_1')\n",
    "p = Popen(cmd, shell=True, stdin=PIPE, stdout=PIPE, stderr=STDOUT, close_fds=True)\n",
    "output = p.stdout.read()\n",
    "print output "
   ]
  },
  {
   "cell_type": "code",
   "execution_count": 7,
   "metadata": {
    "collapsed": false
   },
   "outputs": [
    {
     "name": "stdout",
     "output_type": "stream",
     "text": [
      "\n"
     ]
    }
   ],
   "source": [
    "#this one includes bias calculation\n",
    "#do one with cosmic_shear .1,.2\n",
    "cmd = ('./simulate.py --catalog-name OneDegSq.fits --survey-name LSST --filter-band i --output-name lsst_i_2 --calculate_bias --cosmic-shear-g1 .01 --cosmic-shear-g2 .02 ')\n",
    "p = Popen(cmd, shell=True, stdin=PIPE, stdout=PIPE, stderr=STDOUT, close_fds=True)\n",
    "output = p.stdout.read()\n",
    "print output "
   ]
  },
  {
   "cell_type": "code",
   "execution_count": 8,
   "metadata": {
    "collapsed": false
   },
   "outputs": [
    {
     "name": "stdout",
     "output_type": "stream",
     "text": [
      "\n"
     ]
    }
   ],
   "source": [
    "#this one includes bias calculation\n",
    "#do one with cosmic_shear .1,.1 \n",
    "cmd = ('./simulate.py --catalog-name OneDegSq.fits --survey-name LSST --filter-band i --output-name lsst_i_3 --calculate_bias --cosmic-shear-g1 .01 --cosmic-shear-g2 .01 ')\n",
    "p = Popen(cmd, shell=True, stdin=PIPE, stdout=PIPE, stderr=STDOUT, close_fds=True)\n",
    "output = p.stdout.read()\n",
    "print output "
   ]
  },
  {
   "cell_type": "markdown",
   "metadata": {},
   "source": [
    "### Run in Slac "
   ]
  },
  {
   "cell_type": "code",
   "execution_count": 43,
   "metadata": {
    "collapsed": false,
    "scrolled": false
   },
   "outputs": [
    {
     "name": "stdout",
     "output_type": "stream",
     "text": [
      "Read 858502 catalog entries from OneDegSq.fits\n",
      "Simulating LSST i-band survey with {'exposure_time': 6900.0, 'sky_brightness': 20.0, 'mirror_diameter': 8.36, 'airmass': 1.2, 'zero_point': 41.5, 'survey_name': 'LSST', 'image_width': 17800, 'filter_band': 'i', 'pixel_scale': 0.2, 'atmospheric_psf_beta': 0.0, 'cosmic_shear_g2': 0.0, 'zenith_psf_fwhm': 0.67, 'image_height': 17800, 'effective_area': 33.212, 'extinction': 0.07, 'atmospheric_psf_e1': 0.0, 'cosmic_shear_g1': 0.0, 'atmospheric_psf_e2': 0.0} (obs.frac. = 0.628)\n",
      "Will render all pixels with at least 33.5 detected electrons.\n",
      "PSF dilution factor is 0.049718.\n",
      "Simulation output will be saved to sim_one_sqdeg1.fits\n",
      "Simulated 11 galaxies in 10 overlap groups.\n",
      "\n"
     ]
    }
   ],
   "source": [
    "#this is a BIG simulation\n",
    "#run ONLY in SLAC , have to choose start and end appropiately\n",
    "#shear 0,0b\n",
    "cmd = ('./simulate.py --catalog-name OneDegSq.fits --image-width 17800 --image-height 17800 --output-name test1 --calculate_bias --cosmic-shear-g1 .0 --cosmic-shear-g2 .0 --start 0 --end 10 --verbose')\n",
    "p = Popen(cmd, shell=True, stdin=PIPE, stdout=PIPE, stderr=STDOUT, close_fds=True)\n",
    "output = p.stdout.read()\n",
    "print output "
   ]
  },
  {
   "cell_type": "code",
   "execution_count": 15,
   "metadata": {
    "collapsed": false
   },
   "outputs": [
    {
     "name": "stdout",
     "output_type": "stream",
     "text": [
      "bsub -W 5:00 -o \"output00.txt\" -r \"./simulate.py --catalog-name OneDegSq.fits --survey-name LSST --image-width 4500 --image-height 4500 --output-name section00 --ra-center -0.375 --dec-center -0.375 --calculate_bias --cosmic-shear-g1 0. --cosmic-shear-g2 0. --verbose\"\n",
      "bsub -W 5:00 -o \"output01.txt\" -r \"./simulate.py --catalog-name OneDegSq.fits --survey-name LSST --image-width 4500 --image-height 4500 --output-name section01 --ra-center -0.375 --dec-center -0.125 --calculate_bias --cosmic-shear-g1 0. --cosmic-shear-g2 0. --verbose\"\n",
      "bsub -W 5:00 -o \"output02.txt\" -r \"./simulate.py --catalog-name OneDegSq.fits --survey-name LSST --image-width 4500 --image-height 4500 --output-name section02 --ra-center -0.375 --dec-center 0.125 --calculate_bias --cosmic-shear-g1 0. --cosmic-shear-g2 0. --verbose\"\n",
      "bsub -W 5:00 -o \"output03.txt\" -r \"./simulate.py --catalog-name OneDegSq.fits --survey-name LSST --image-width 4500 --image-height 4500 --output-name section03 --ra-center -0.375 --dec-center 0.375 --calculate_bias --cosmic-shear-g1 0. --cosmic-shear-g2 0. --verbose\"\n",
      "bsub -W 5:00 -o \"output10.txt\" -r \"./simulate.py --catalog-name OneDegSq.fits --survey-name LSST --image-width 4500 --image-height 4500 --output-name section10 --ra-center -0.125 --dec-center -0.375 --calculate_bias --cosmic-shear-g1 0. --cosmic-shear-g2 0. --verbose\"\n",
      "bsub -W 5:00 -o \"output11.txt\" -r \"./simulate.py --catalog-name OneDegSq.fits --survey-name LSST --image-width 4500 --image-height 4500 --output-name section11 --ra-center -0.125 --dec-center -0.125 --calculate_bias --cosmic-shear-g1 0. --cosmic-shear-g2 0. --verbose\"\n",
      "bsub -W 5:00 -o \"output12.txt\" -r \"./simulate.py --catalog-name OneDegSq.fits --survey-name LSST --image-width 4500 --image-height 4500 --output-name section12 --ra-center -0.125 --dec-center 0.125 --calculate_bias --cosmic-shear-g1 0. --cosmic-shear-g2 0. --verbose\"\n",
      "bsub -W 5:00 -o \"output13.txt\" -r \"./simulate.py --catalog-name OneDegSq.fits --survey-name LSST --image-width 4500 --image-height 4500 --output-name section13 --ra-center -0.125 --dec-center 0.375 --calculate_bias --cosmic-shear-g1 0. --cosmic-shear-g2 0. --verbose\"\n",
      "bsub -W 5:00 -o \"output20.txt\" -r \"./simulate.py --catalog-name OneDegSq.fits --survey-name LSST --image-width 4500 --image-height 4500 --output-name section20 --ra-center 0.125 --dec-center -0.375 --calculate_bias --cosmic-shear-g1 0. --cosmic-shear-g2 0. --verbose\"\n",
      "bsub -W 5:00 -o \"output21.txt\" -r \"./simulate.py --catalog-name OneDegSq.fits --survey-name LSST --image-width 4500 --image-height 4500 --output-name section21 --ra-center 0.125 --dec-center -0.125 --calculate_bias --cosmic-shear-g1 0. --cosmic-shear-g2 0. --verbose\"\n",
      "bsub -W 5:00 -o \"output22.txt\" -r \"./simulate.py --catalog-name OneDegSq.fits --survey-name LSST --image-width 4500 --image-height 4500 --output-name section22 --ra-center 0.125 --dec-center 0.125 --calculate_bias --cosmic-shear-g1 0. --cosmic-shear-g2 0. --verbose\"\n",
      "bsub -W 5:00 -o \"output23.txt\" -r \"./simulate.py --catalog-name OneDegSq.fits --survey-name LSST --image-width 4500 --image-height 4500 --output-name section23 --ra-center 0.125 --dec-center 0.375 --calculate_bias --cosmic-shear-g1 0. --cosmic-shear-g2 0. --verbose\"\n",
      "bsub -W 5:00 -o \"output30.txt\" -r \"./simulate.py --catalog-name OneDegSq.fits --survey-name LSST --image-width 4500 --image-height 4500 --output-name section30 --ra-center 0.375 --dec-center -0.375 --calculate_bias --cosmic-shear-g1 0. --cosmic-shear-g2 0. --verbose\"\n",
      "bsub -W 5:00 -o \"output31.txt\" -r \"./simulate.py --catalog-name OneDegSq.fits --survey-name LSST --image-width 4500 --image-height 4500 --output-name section31 --ra-center 0.375 --dec-center -0.125 --calculate_bias --cosmic-shear-g1 0. --cosmic-shear-g2 0. --verbose\"\n",
      "bsub -W 5:00 -o \"output32.txt\" -r \"./simulate.py --catalog-name OneDegSq.fits --survey-name LSST --image-width 4500 --image-height 4500 --output-name section32 --ra-center 0.375 --dec-center 0.125 --calculate_bias --cosmic-shear-g1 0. --cosmic-shear-g2 0. --verbose\"\n",
      "bsub -W 5:00 -o \"output33.txt\" -r \"./simulate.py --catalog-name OneDegSq.fits --survey-name LSST --image-width 4500 --image-height 4500 --output-name section33 --ra-center 0.375 --dec-center 0.375 --calculate_bias --cosmic-shear-g1 0. --cosmic-shear-g2 0. --verbose\"\n"
     ]
    }
   ],
   "source": [
    "import numpy as np \n",
    "import os\n",
    "endpoint1 = (-.5 + -.25)/2\n",
    "endpoint2 = -endpoint1\n",
    "for i,x in enumerate(np.linspace(endpoint1,endpoint2, 4)):\n",
    "    for j,y in enumerate(np.linspace(endpoint1,endpoint2, 4)):\n",
    "        cmd = './simulate.py --catalog-name OneDegSq.fits --survey-name LSST --image-width 4500 --image-height 4500 --output-name section{0}{1} --ra-center {2} --dec-center {3} --calculate_bias --cosmic-shear-g1 0. --cosmic-shear-g2 0. --verbose'.format(i,j,x,y)\n",
    "        slac_cmd = 'bsub -W 5:00 -o \"output{0}{1}.txt\" -r \"{2}\"'.format(i,j,cmd)\n",
    "        print slac_cmd"
   ]
  },
  {
   "cell_type": "code",
   "execution_count": null,
   "metadata": {
    "collapsed": true
   },
   "outputs": [],
   "source": []
  }
 ],
 "metadata": {
  "kernelspec": {
   "display_name": "Python 2",
   "language": "python",
   "name": "python2"
  },
  "language_info": {
   "codemirror_mode": {
    "name": "ipython",
    "version": 2
   },
   "file_extension": ".py",
   "mimetype": "text/x-python",
   "name": "python",
   "nbconvert_exporter": "python",
   "pygments_lexer": "ipython2",
   "version": "2.7.11"
  }
 },
 "nbformat": 4,
 "nbformat_minor": 0
}
