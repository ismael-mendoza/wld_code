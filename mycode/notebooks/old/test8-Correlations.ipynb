{
 "cells": [
  {
   "cell_type": "code",
   "execution_count": 2,
   "metadata": {
    "collapsed": false
   },
   "outputs": [],
   "source": [
    "import numpy as np \n",
    "from subprocess import Popen, PIPE, STDOUT\n",
    "import os\n",
    "import matplotlib.pyplot as plt\n",
    "import galsim\n",
    "import copy \n",
    "import treecorr"
   ]
  },
  {
   "cell_type": "code",
   "execution_count": 3,
   "metadata": {
    "collapsed": false
   },
   "outputs": [
    {
     "name": "stdout",
     "output_type": "stream",
     "text": [
      "Populating the interactive namespace from numpy and matplotlib\n"
     ]
    },
    {
     "name": "stderr",
     "output_type": "stream",
     "text": [
      "WARNING: pylab import has clobbered these variables: ['copy']\n",
      "`%matplotlib` prevents importing * from pylab and numpy\n"
     ]
    }
   ],
   "source": [
    "%pylab inline\n",
    "from astropy.table import Table\n",
    "import fitsio"
   ]
  },
  {
   "cell_type": "code",
   "execution_count": 4,
   "metadata": {
    "collapsed": true
   },
   "outputs": [],
   "source": [
    "#directories that would be using \n",
    "WLD = '/Users/Ismael/code/lensing/WeakLensingDeblending/'\n",
    "repo = '/Users/Ismael/code/lensing/repo/'\n",
    "os.chdir(WLD)"
   ]
  },
  {
   "cell_type": "markdown",
   "metadata": {},
   "source": [
    "### Read catalogs "
   ]
  },
  {
   "cell_type": "code",
   "execution_count": 6,
   "metadata": {
    "collapsed": false
   },
   "outputs": [],
   "source": [
    "#includes no cosmic shear. lsst chip. \n",
    "catalog1 = Table.read('lsst_i_1.fits', hdu=1)"
   ]
  },
  {
   "cell_type": "code",
   "execution_count": 7,
   "metadata": {
    "collapsed": false
   },
   "outputs": [],
   "source": [
    "#includes cosmic shear .01,.02; lsst chip. \n",
    "catalog2 = Table.read('lsst_i_2.fits', hdu=1)"
   ]
  },
  {
   "cell_type": "code",
   "execution_count": 8,
   "metadata": {
    "collapsed": true
   },
   "outputs": [],
   "source": [
    "#includes cosmic shear .01,.01; lsst chip. \n",
    "catalog3 = Table.read('lsst_i_3.fits', hdu=1) "
   ]
  },
  {
   "cell_type": "code",
   "execution_count": null,
   "metadata": {
    "collapsed": false,
    "scrolled": true
   },
   "outputs": [],
   "source": [
    "#includes no cosmic shear 0,0; full 800K galaxies. \n",
    "catalog4 = Table.read('sim_one_sqdeg1.fits', hdu=1)"
   ]
  },
  {
   "cell_type": "code",
   "execution_count": null,
   "metadata": {
    "collapsed": true
   },
   "outputs": [],
   "source": [
    "#includes no cosmic shear .1,.2; full 800K galaxies. \n",
    "catalog5 = Table.read('sim_one_sqdeg2.fits', hdu=1)"
   ]
  },
  {
   "cell_type": "code",
   "execution_count": null,
   "metadata": {
    "collapsed": true
   },
   "outputs": [],
   "source": [
    "#includes no cosmic shear .1,.1; full 800K galaxies. \n",
    "catalog6 = Table.read('sim_one_sqdeg3.fits', hdu=1)"
   ]
  },
  {
   "cell_type": "markdown",
   "metadata": {},
   "source": [
    "### Group statistics "
   ]
  },
  {
   "cell_type": "code",
   "execution_count": 53,
   "metadata": {
    "collapsed": false
   },
   "outputs": [
    {
     "name": "stdout",
     "output_type": "stream",
     "text": [
      "19.4545916227\n",
      "19.4084525702\n",
      "19.4383501148\n"
     ]
    },
    {
     "data": {
      "image/png": "[encoded data removed]",
      "text/plain": [
       "<matplotlib.figure.Figure at 0x1368a74d0>"
      ]
     },
     "metadata": {},
     "output_type": "display_data"
    }
   ],
   "source": [
    "# group statistics \n",
    "plt.hist(catalog1['grp_size'], histtype='step', label='catalog1',range=(0,50),bins=50)\n",
    "plt.hist(catalog2['grp_size'], histtype='step',label='catalog2',range=(0,50),bins=50)\n",
    "plt.hist(catalog3['grp_size'], histtype='step',label='catalog3',range=(0,50),bins=50)\n",
    "plt.legend(loc='upper right')\n",
    "print catalog1['grp_size'].mean()\n",
    "print catalog2['grp_size'].mean()\n",
    "print catalog3['grp_size'].mean()\n",
    "#do not seem to change group statistics significantly by applying cosmic shear. "
   ]
  },
  {
   "cell_type": "code",
   "execution_count": 76,
   "metadata": {
    "collapsed": false,
    "scrolled": false
   },
   "outputs": [
    {
     "name": "stdout",
     "output_type": "stream",
     "text": [
      "20097\n",
      "20194\n",
      "20124\n",
      "0.00223546\n",
      "0.014508\n",
      "0.0147246\n"
     ]
    },
    {
     "data": {
      "image/png": "[encoded data removed]",
      "text/plain": [
       "<matplotlib.figure.Figure at 0x131bc56d0>"
      ]
     },
     "metadata": {},
     "output_type": "display_data"
    }
   ],
   "source": [
    "plt.hist(catalog1['bias_g1'], histtype='step', label='catalog1',range=(-2,2),bins=100)\n",
    "plt.hist(catalog2['bias_g1'], histtype='step',label='catalog2',range=(-2,2),bins=100)\n",
    "plt.hist(catalog3['bias_g1'], histtype='step',label='catalog3',range=(-2,2),bins=100)\n",
    "#count number of 'bad' objects in each. \n",
    "print len(catalog1[(abs(catalog1['bias_g1']) > 1) | (abs(catalog1['bias_g2']) > 1)])\n",
    "print len(catalog2[(abs(catalog2['bias_g1']) > 1) | (abs(catalog2['bias_g2']) > 1)])\n",
    "print len(catalog3[(abs(catalog3['bias_g1']) > 1) | (abs(catalog3['bias_g2']) > 1)])\n",
    "#mean of each gold_sample? \n",
    "gold1 = catalog1[(catalog1['ab_mag'] < 25.3)] \n",
    "gold2 = catalog2[(catalog2['ab_mag'] < 25.3)] \n",
    "gold3 = catalog3[(catalog3['ab_mag'] < 25.3)] \n",
    "print gold1['bias_g1'].mean()\n",
    "print gold2['bias_g1'].mean()\n",
    "print gold3['bias_g1'].mean()"
   ]
  },
  {
   "cell_type": "code",
   "execution_count": 75,
   "metadata": {
    "collapsed": false
   },
   "outputs": [
    {
     "data": {
      "image/png": "[encoded data removed]",
      "text/plain": [
       "<matplotlib.figure.Figure at 0x13e8ab390>"
      ]
     },
     "metadata": {},
     "output_type": "display_data"
    }
   ],
   "source": [
    "plt.hist(gold2['bias_g1'], histtype='step', range=(-100,100),bins=50, normed=1)\n",
    "plt.yscale('log')\n",
    "plt.hist(gold1['bias_g1'], histtype='step', range=(-100,100),bins=50, normed=1)\n",
    "plt.yscale('log')"
   ]
  },
  {
   "cell_type": "markdown",
   "metadata": {},
   "source": [
    "### Catalogue1 analysis"
   ]
  },
  {
   "cell_type": "code",
   "execution_count": 8,
   "metadata": {
    "collapsed": false
   },
   "outputs": [
    {
     "data": {
      "text/html": [
       "&lt;Table length=45289&gt;\n",
       "<table id=\"table5298741072\" class=\"table-striped table-bordered table-condensed\">\n",
       "<thead><tr><th>db_id</th><th>grp_id</th><th>grp_size</th><th>grp_rank</th><th>visible</th><th>xmin</th><th>xmax</th><th>ymin</th><th>ymax</th><th>f_disk</th><th>f_bulge</th><th>dx</th><th>dy</th><th>z</th><th>ab_mag</th><th>ri_color</th><th>flux</th><th>sigma_m</th><th>sigma_p</th><th>e1</th><th>e2</th><th>a</th><th>b</th><th>beta</th><th>psf_sigm</th><th>purity</th><th>snr_sky</th><th>snr_iso</th><th>snr_grp</th><th>snr_isof</th><th>snr_grpf</th><th>ds</th><th>dg1</th><th>dg2</th><th>bias_f</th><th>bias_s</th><th>bias_g1</th><th>bias_g2</th><th>bias_x</th><th>bias_y</th><th>bias_f_grp</th><th>bias_s_grp</th><th>bias_g1_grp</th><th>bias_g2_grp</th><th>bias_x_grp</th><th>bias_y_grp</th><th>ds_grp</th><th>dg1_grp</th><th>dg2_grp</th><th>hsm_sigm</th><th>hsm_e1</th><th>hsm_e2</th><th>g1_fit</th><th>g2_fit</th></tr></thead>\n",
       "<thead><tr><th>int64</th><th>int64</th><th>int16</th><th>int16</th><th>int16</th><th>int32</th><th>int32</th><th>int32</th><th>int32</th><th>float32</th><th>float32</th><th>float32</th><th>float32</th><th>float32</th><th>float32</th><th>float32</th><th>float32</th><th>float32</th><th>float32</th><th>float32</th><th>float32</th><th>float32</th><th>float32</th><th>float32</th><th>float32</th><th>float32</th><th>float32</th><th>float32</th><th>float32</th><th>float32</th><th>float32</th><th>float32</th><th>float32</th><th>float32</th><th>float32</th><th>float32</th><th>float32</th><th>float32</th><th>float32</th><th>float32</th><th>float32</th><th>float32</th><th>float32</th><th>float32</th><th>float32</th><th>float32</th><th>float32</th><th>float32</th><th>float32</th><th>float32</th><th>float32</th><th>float32</th><th>float32</th><th>float32</th></tr></thead>\n",
       "<tr><td>2214322509</td><td>2200170838</td><td>36</td><td>35</td><td>1</td><td>3236</td><td>3247</td><td>444</td><td>454</td><td>1.0</td><td>0.0</td><td>238.819</td><td>-319.693</td><td>0.516401</td><td>27.4169</td><td>0.518883</td><td>12149.3</td><td>1.08088</td><td>1.11031</td><td>0.073753</td><td>-0.146366</td><td>1.27528</td><td>0.916113</td><td>-0.552019</td><td>1.25073</td><td>0.409874</td><td>0.888373</td><td>0.888307</td><td>0.888224</td><td>0.227531</td><td>0.219346</td><td>4.20776</td><td>2.72145</td><td>2.87452</td><td>320893.0</td><td>11.2382</td><td>1.10926</td><td>-2.01458</td><td>0.0950256</td><td>0.0747375</td><td>335043.0</td><td>11.4197</td><td>1.07438</td><td>-2.39015</td><td>0.547393</td><td>0.252749</td><td>4.32714</td><td>2.7763</td><td>2.97733</td><td>nan</td><td>nan</td><td>nan</td><td>0.0</td><td>0.0</td></tr>\n",
       "<tr><td>2213221225</td><td>2200170838</td><td>36</td><td>28</td><td>1</td><td>3201</td><td>3209</td><td>452</td><td>461</td><td>1.0</td><td>0.0</td><td>231.507</td><td>-318.24</td><td>2.96548</td><td>27.2805</td><td>0.0100918</td><td>13775.3</td><td>0.145562</td><td>0.151919</td><td>-0.176149</td><td>0.108134</td><td>0.179525</td><td>0.118024</td><td>1.29552</td><td>0.635012</td><td>0.591804</td><td>2.7721</td><td>2.77094</td><td>2.77033</td><td>1.8895</td><td>1.88603</td><td>3.23095</td><td>3.0282</td><td>2.80309</td><td>7081.93</td><td>-17.9639</td><td>-10.9724</td><td>6.8122</td><td>0.0016535</td><td>0.000666451</td><td>7042.09</td><td>-17.9933</td><td>-10.9651</td><td>6.79978</td><td>0.00214231</td><td>0.00169208</td><td>3.23345</td><td>3.02902</td><td>2.80398</td><td>nan</td><td>nan</td><td>nan</td><td>0.0</td><td>0.0</td></tr>\n",
       "<tr><td>2213832765</td><td>2200170838</td><td>36</td><td>29</td><td>1</td><td>3215</td><td>3224</td><td>455</td><td>463</td><td>1.0</td><td>0.0</td><td>234.398</td><td>-317.7</td><td>0.683066</td><td>27.3607</td><td>-0.21286</td><td>12794.4</td><td>0.148595</td><td>0.151039</td><td>0.00700334</td><td>-0.127535</td><td>0.168959</td><td>0.130686</td><td>-0.757969</td><td>0.634851</td><td>0.628997</td><td>2.5683</td><td>2.56731</td><td>2.56686</td><td>1.73184</td><td>1.72983</td><td>3.13798</td><td>2.84177</td><td>3.06657</td><td>8087.37</td><td>-16.8191</td><td>0.433178</td><td>-7.95275</td><td>-0.000361773</td><td>1.97572e-05</td><td>8102.9</td><td>-16.8253</td><td>0.434027</td><td>-7.95754</td><td>-0.000387156</td><td>-3.96964e-05</td><td>3.13961</td><td>2.84229</td><td>3.06716</td><td>nan</td><td>nan</td><td>nan</td><td>0.0</td><td>0.0</td></tr>\n",
       "<tr><td>2214602712</td><td>2206640565</td><td>2</td><td>1</td><td>1</td><td>3149</td><td>3157</td><td>457</td><td>466</td><td>1.0</td><td>0.0</td><td>221.175</td><td>-317.188</td><td>3.23816</td><td>27.4955</td><td>-0.0119038</td><td>11300.0</td><td>0.152348</td><td>0.158427</td><td>-0.130865</td><td>0.148252</td><td>0.18615</td><td>0.124684</td><td>1.14699</td><td>0.636593</td><td>0.933744</td><td>2.2555</td><td>2.25474</td><td>2.25471</td><td>1.49876</td><td>1.42649</td><td>3.76836</td><td>3.35804</td><td>3.42366</td><td>9904.27</td><td>-23.1757</td><td>-10.7491</td><td>12.2286</td><td>0.00184244</td><td>-0.00509545</td><td>10265.9</td><td>-23.7065</td><td>-10.1357</td><td>12.0776</td><td>-0.00147638</td><td>-0.01336</td><td>3.83512</td><td>3.40838</td><td>3.44279</td><td>nan</td><td>nan</td><td>nan</td><td>0.0</td><td>0.0</td></tr>\n",
       "<tr><td>2201272641</td><td>2200170838</td><td>36</td><td>6</td><td>1</td><td>3177</td><td>3202</td><td>412</td><td>429</td><td>0.930439</td><td>0.0695615</td><td>228.385</td><td>-325.361</td><td>1.233</td><td>23.9101</td><td>0.417097</td><td>307089.0</td><td>0.371826</td><td>0.4614</td><td>0.457709</td><td>-0.0552518</td><td>0.612192</td><td>0.225835</td><td>-0.0600663</td><td>0.755404</td><td>0.9643</td><td>47.7854</td><td>47.5192</td><td>47.5135</td><td>30.5068</td><td>21.3511</td><td>0.0877179</td><td>0.0814383</td><td>0.0440881</td><td>334.635</td><td>-0.00868604</td><td>0.0104389</td><td>-0.00126001</td><td>3.35998e-08</td><td>4.58155e-08</td><td>-7440.37</td><td>-0.070242</td><td>0.0776311</td><td>-0.0143182</td><td>-0.00240269</td><td>-0.012364</td><td>0.12158</td><td>0.112491</td><td>0.0494165</td><td>nan</td><td>nan</td><td>nan</td><td>0.0</td><td>2.98023e-09</td></tr>\n",
       "<tr><td>2209286187</td><td>2200170838</td><td>36</td><td>34</td><td>1</td><td>3182</td><td>3198</td><td>422</td><td>436</td><td>1.0</td><td>0.0</td><td>228.493</td><td>-323.751</td><td>0.793642</td><td>26.5588</td><td>1.04664</td><td>26778.3</td><td>1.90251</td><td>1.92233</td><td>0.0920748</td><td>-0.043432</td><td>2.10714</td><td>1.71775</td><td>-0.220378</td><td>2.00175</td><td>0.102007</td><td>1.15925</td><td>1.15917</td><td>1.15861</td><td>0.255394</td><td>0.212035</td><td>3.16491</td><td>2.04118</td><td>2.01912</td><td>487387.0</td><td>7.6729</td><td>0.618593</td><td>-0.310698</td><td>0.0627348</td><td>-0.0120064</td><td>668075.0</td><td>9.08937</td><td>0.143428</td><td>-0.376486</td><td>-0.0777103</td><td>-5.68559</td><td>3.58042</td><td>2.66606</td><td>2.15897</td><td>nan</td><td>nan</td><td>nan</td><td>0.0</td><td>0.0</td></tr>\n",
       "<tr><td>2216818333</td><td>2200170838</td><td>36</td><td>33</td><td>1</td><td>3180</td><td>3187</td><td>460</td><td>467</td><td>1.0</td><td>0.0</td><td>227.289</td><td>-316.744</td><td>2.11807</td><td>27.9893</td><td>-0.06637</td><td>7171.1</td><td>0.132606</td><td>0.133632</td><td>0.0781198</td><td>-0.040055</td><td>0.144806</td><td>0.121433</td><td>-0.236893</td><td>0.630959</td><td>0.638744</td><td>1.45326</td><td>1.45293</td><td>1.4528</td><td>0.935421</td><td>0.640331</td><td>6.7241</td><td>6.44647</td><td>6.31057</td><td>18971.5</td><td>-77.4617</td><td>21.3988</td><td>-11.914</td><td>0.00469766</td><td>0.000198213</td><td>25099.3</td><td>-97.8489</td><td>36.9593</td><td>-26.4016</td><td>-0.0717455</td><td>-0.183476</td><td>7.6648</td><td>7.20729</td><td>6.8729</td><td>nan</td><td>nan</td><td>nan</td><td>0.0</td><td>0.0</td></tr>\n",
       "<tr><td>2208277203</td><td>2200170838</td><td>36</td><td>23</td><td>1</td><td>3175</td><td>3187</td><td>453</td><td>465</td><td>0.704855</td><td>0.295145</td><td>226.742</td><td>-317.662</td><td>2.47147</td><td>26.3707</td><td>-0.014204</td><td>31844.2</td><td>0.330121</td><td>0.330877</td><td>0.00610489</td><td>0.0474397</td><td>0.346307</td><td>0.314691</td><td>0.721406</td><td>0.699737</td><td>0.944109</td><td>5.24545</td><td>5.2418</td><td>5.24172</td><td>3.02951</td><td>2.21555</td><td>0.884779</td><td>0.725059</td><td>0.743513</td><td>2793.3</td><td>-0.783912</td><td>0.0309683</td><td>0.241538</td><td>-8.43434e-05</td><td>-0.000108925</td><td>674.747</td><td>-1.30524</td><td>0.155196</td><td>-0.309112</td><td>-0.0391499</td><td>-0.0244809</td><td>1.06487</td><td>0.837749</td><td>0.950596</td><td>nan</td><td>nan</td><td>nan</td><td>0.0</td><td>0.0</td></tr>\n",
       "<tr><td>2203591562</td><td>2200170838</td><td>36</td><td>10</td><td>1</td><td>3191</td><td>3205</td><td>405</td><td>419</td><td>0.920567</td><td>0.0794327</td><td>230.076</td><td>-327.101</td><td>0.998349</td><td>25.0334</td><td>0.765593</td><td>109125.0</td><td>0.218209</td><td>0.221974</td><td>0.130783</td><td>-0.00149816</td><td>0.248887</td><td>0.191313</td><td>-0.00572739</td><td>0.655248</td><td>0.937048</td><td>20.3941</td><td>20.3366</td><td>20.3342</td><td>13.6597</td><td>13.3403</td><td>0.234664</td><td>0.222948</td><td>0.210268</td><td>767.712</td><td>-0.0778583</td><td>0.0351907</td><td>-0.000403656</td><td>-6.51394e-07</td><td>1.32149e-09</td><td>565.891</td><td>-0.0890728</td><td>0.0473843</td><td>-0.00886079</td><td>-0.000443508</td><td>-0.000694811</td><td>0.242519</td><td>0.229031</td><td>0.212559</td><td>nan</td><td>nan</td><td>nan</td><td>0.00258494</td><td>-0.0118872</td></tr>\n",
       "<tr><td>2204598739</td><td>2200170838</td><td>36</td><td>16</td><td>1</td><td>3214</td><td>3227</td><td>394</td><td>413</td><td>1.0</td><td>0.0</td><td>234.585</td><td>-328.749</td><td>1.2115</td><td>25.5208</td><td>0.416979</td><td>69658.8</td><td>0.415453</td><td>0.499273</td><td>-0.41969</td><td>-0.0748499</td><td>0.655075</td><td>0.263483</td><td>-1.48255</td><td>0.776724</td><td>0.919503</td><td>10.4273</td><td>10.4151</td><td>10.4143</td><td>6.66322</td><td>6.65842</td><td>0.328181</td><td>0.300604</td><td>0.188712</td><td>1772.22</td><td>-0.110454</td><td>-0.129595</td><td>-0.023169</td><td>1.20987e-05</td><td>-3.60889e-06</td><td>1720.86</td><td>-0.111769</td><td>-0.128695</td><td>-0.0240641</td><td>5.38257e-05</td><td>0.000237023</td><td>0.328296</td><td>0.300636</td><td>0.188734</td><td>nan</td><td>nan</td><td>nan</td><td>0.0</td><td>2.98023e-09</td></tr>\n",
       "<tr><td>...</td><td>...</td><td>...</td><td>...</td><td>...</td><td>...</td><td>...</td><td>...</td><td>...</td><td>...</td><td>...</td><td>...</td><td>...</td><td>...</td><td>...</td><td>...</td><td>...</td><td>...</td><td>...</td><td>...</td><td>...</td><td>...</td><td>...</td><td>...</td><td>...</td><td>...</td><td>...</td><td>...</td><td>...</td><td>...</td><td>...</td><td>...</td><td>...</td><td>...</td><td>...</td><td>...</td><td>...</td><td>...</td><td>...</td><td>...</td><td>...</td><td>...</td><td>...</td><td>...</td><td>...</td><td>...</td><td>...</td><td>...</td><td>...</td><td>...</td><td>...</td><td>...</td><td>...</td><td>...</td></tr>\n",
       "<tr><td>402707178568</td><td>402703168112</td><td>3</td><td>2</td><td>1</td><td>-3</td><td>10</td><td>39</td><td>54</td><td>0.965542</td><td>0.0344583</td><td>-408.797</td><td>-400.22</td><td>1.493</td><td>26.156</td><td>0.18593</td><td>38804.3</td><td>0.508797</td><td>0.510103</td><td>-0.043722</td><td>0.025503</td><td>0.535237</td><td>0.483664</td><td>1.30677</td><td>0.799956</td><td>0.925524</td><td>5.2336</td><td>5.23076</td><td>5.23071</td><td>3.06834</td><td>2.68956</td><td>0.479958</td><td>0.408468</td><td>0.406958</td><td>4845.68</td><td>-0.115149</td><td>-0.0230032</td><td>0.013905</td><td>5.55912e-05</td><td>-2.05808e-05</td><td>5465.8</td><td>-0.146214</td><td>0.0132617</td><td>0.0545278</td><td>-0.00108108</td><td>0.00195408</td><td>0.535819</td><td>0.448118</td><td>0.445552</td><td>nan</td><td>nan</td><td>nan</td><td>0.0</td><td>0.0</td></tr>\n",
       "<tr><td>402717401699</td><td>402717401699</td><td>1</td><td>0</td><td>1</td><td>2014</td><td>2020</td><td>4072</td><td>4077</td><td>1.0</td><td>0.0</td><td>-6.16264</td><td>405.4</td><td>2.52492</td><td>28.4184</td><td>-0.479517</td><td>4829.88</td><td>0.120934</td><td>0.174959</td><td>0.38734</td><td>-0.450954</td><td>0.239796</td><td>0.0609891</td><td>-0.430569</td><td>0.640308</td><td>1.0</td><td>0.964645</td><td>0.964496</td><td>0.964496</td><td>0.562954</td><td>0.562954</td><td>44.8769</td><td>29.8297</td><td>33.8831</td><td>43871.5</td><td>-3031.16</td><td>2582.76</td><td>-2994.27</td><td>-0.0702473</td><td>0.0486714</td><td>43871.5</td><td>-3031.16</td><td>2582.76</td><td>-2994.27</td><td>-0.0702473</td><td>0.0486714</td><td>44.8769</td><td>29.8297</td><td>33.8831</td><td>nan</td><td>nan</td><td>nan</td><td>0.0</td><td>0.0</td></tr>\n",
       "<tr><td>402711116843</td><td>402711433113</td><td>3</td><td>1</td><td>1</td><td>1996</td><td>2007</td><td>4061</td><td>4074</td><td>1.0</td><td>0.0</td><td>-9.1341</td><td>403.986</td><td>1.02478</td><td>26.7956</td><td>0.570835</td><td>21531.5</td><td>0.547889</td><td>0.561375</td><td>-0.152987</td><td>0.0301113</td><td>0.641159</td><td>0.468187</td><td>1.47363</td><td>0.829913</td><td>0.608202</td><td>2.76953</td><td>2.76876</td><td>2.76843</td><td>1.51888</td><td>0.784856</td><td>0.932398</td><td>0.782818</td><td>0.741202</td><td>12475.0</td><td>-0.283301</td><td>-0.279574</td><td>0.0550432</td><td>0.00249167</td><td>0.00120157</td><td>31008.8</td><td>-1.18694</td><td>-1.85693</td><td>0.621637</td><td>-0.0456545</td><td>-0.157855</td><td>1.3061</td><td>1.54182</td><td>1.08489</td><td>nan</td><td>nan</td><td>nan</td><td>0.0</td><td>0.0</td></tr>\n",
       "<tr><td>402711433113</td><td>402711433113</td><td>3</td><td>0</td><td>1</td><td>1993</td><td>2002</td><td>4064</td><td>4073</td><td>1.0</td><td>0.0</td><td>-9.95378</td><td>404.174</td><td>0.995764</td><td>26.8761</td><td>0.561197</td><td>19992.7</td><td>0.132336</td><td>0.140873</td><td>-0.214784</td><td>-0.127675</td><td>0.170821</td><td>0.102522</td><td>-1.30264</td><td>0.632456</td><td>0.796384</td><td>4.07377</td><td>4.07125</td><td>4.07077</td><td>2.83452</td><td>0.925925</td><td>2.67323</td><td>2.50201</td><td>2.20393</td><td>4362.56</td><td>-12.868</td><td>-9.18332</td><td>-5.4652</td><td>-0.000570446</td><td>-0.000230046</td><td>8665.5</td><td>-19.8683</td><td>-16.5714</td><td>-9.51554</td><td>0.10872</td><td>-0.0099432</td><td>3.80628</td><td>3.13783</td><td>2.65543</td><td>nan</td><td>nan</td><td>nan</td><td>0.0</td><td>0.0</td></tr>\n",
       "<tr><td>402704824822</td><td>402704824822</td><td>1</td><td>0</td><td>1</td><td>2023</td><td>2035</td><td>4054</td><td>4067</td><td>1.0</td><td>0.0</td><td>-3.64566</td><td>402.653</td><td>2.23208</td><td>25.618</td><td>-0.179173</td><td>63693.4</td><td>0.180066</td><td>0.282299</td><td>-0.308378</td><td>-0.57141</td><td>0.390501</td><td>0.083031</td><td>-1.03284</td><td>0.673913</td><td>1.0</td><td>12.1819</td><td>12.1608</td><td>12.1608</td><td>8.41726</td><td>8.41726</td><td>1.8914</td><td>0.940353</td><td>1.66248</td><td>1348.92</td><td>-5.4369</td><td>-3.37376</td><td>-6.25206</td><td>-1.36832e-06</td><td>3.25538e-05</td><td>1348.92</td><td>-5.4369</td><td>-3.37376</td><td>-6.25206</td><td>-1.36832e-06</td><td>3.25538e-05</td><td>1.8914</td><td>0.940353</td><td>1.66248</td><td>nan</td><td>nan</td><td>nan</td><td>0.0</td><td>0.0</td></tr>\n",
       "<tr><td>402712262956</td><td>402703600542</td><td>3</td><td>2</td><td>1</td><td>2014</td><td>2023</td><td>4078</td><td>4088</td><td>1.0</td><td>0.0</td><td>-5.77683</td><td>407.076</td><td>4.5115</td><td>27.0126</td><td>0.277584</td><td>17630.7</td><td>0.2973</td><td>0.300821</td><td>-0.0616529</td><td>-0.0892828</td><td>0.331515</td><td>0.266617</td><td>-1.08757</td><td>0.685826</td><td>0.479804</td><td>3.01011</td><td>3.00895</td><td>3.00809</td><td>1.86594</td><td>0.590669</td><td>1.20991</td><td>1.07581</td><td>1.08542</td><td>7723.6</td><td>-1.38713</td><td>-0.33844</td><td>-0.489424</td><td>0.00252331</td><td>-0.000211191</td><td>19733.5</td><td>-4.72045</td><td>1.43237</td><td>0.731306</td><td>0.00624805</td><td>0.0355393</td><td>1.80191</td><td>1.70617</td><td>1.70566</td><td>nan</td><td>nan</td><td>nan</td><td>0.0</td><td>0.0</td></tr>\n",
       "<tr><td>402705633089</td><td>402703600542</td><td>3</td><td>1</td><td>1</td><td>2011</td><td>2023</td><td>4081</td><td>4092</td><td>1.0</td><td>0.0</td><td>-6.02274</td><td>407.863</td><td>0.495741</td><td>25.9794</td><td>0.676527</td><td>45659.2</td><td>0.205661</td><td>0.22719</td><td>0.198535</td><td>0.244569</td><td>0.284953</td><td>0.148433</td><td>0.444458</td><td>0.656403</td><td>0.874914</td><td>8.63779</td><td>8.62732</td><td>8.62628</td><td>5.88172</td><td>1.79116</td><td>0.731042</td><td>0.590054</td><td>0.633971</td><td>1853.54</td><td>-0.807766</td><td>0.490273</td><td>0.604033</td><td>4.42792e-05</td><td>2.99974e-05</td><td>4313.25</td><td>-0.893552</td><td>0.743447</td><td>0.823405</td><td>0.0335751</td><td>-0.0426956</td><td>1.12218</td><td>0.963721</td><td>0.99549</td><td>nan</td><td>nan</td><td>nan</td><td>0.0</td><td>0.0</td></tr>\n",
       "<tr><td>402703600542</td><td>402703600542</td><td>3</td><td>0</td><td>1</td><td>2001</td><td>2014</td><td>4080</td><td>4093</td><td>0.751545</td><td>0.248455</td><td>-7.96551</td><td>407.744</td><td>0.997952</td><td>25.1863</td><td>0.813316</td><td>94792.7</td><td>0.0965635</td><td>0.101906</td><td>0.00945499</td><td>-0.231759</td><td>0.122297</td><td>0.0762448</td><td>-0.765011</td><td>0.624998</td><td>0.99767</td><td>19.4618</td><td>19.4029</td><td>19.4028</td><td>10.4538</td><td>10.37</td><td>1.25172</td><td>0.747104</td><td>1.0525</td><td>897.485</td><td>-1.16984</td><td>0.0421842</td><td>-1.01334</td><td>1.90817e-06</td><td>-7.19983e-07</td><td>868.613</td><td>-1.19284</td><td>0.0305697</td><td>-1.03784</td><td>5.69688e-05</td><td>-5.83625e-05</td><td>1.26181</td><td>0.754312</td><td>1.05655</td><td>nan</td><td>nan</td><td>nan</td><td>0.0</td><td>-0.000448119</td></tr>\n",
       "<tr><td>402710622017</td><td>2203617267</td><td>6</td><td>5</td><td>1</td><td>2036</td><td>2049</td><td>4063</td><td>4077</td><td>1.0</td><td>0.0</td><td>-0.922248</td><td>404.469</td><td>0.557929</td><td>26.8062</td><td>-0.0431957</td><td>21320.9</td><td>0.808529</td><td>0.819512</td><td>-0.0620293</td><td>-0.098204</td><td>0.908593</td><td>0.719485</td><td>-1.06708</td><td>1.02007</td><td>0.994523</td><td>2.11177</td><td>2.1114</td><td>2.1114</td><td>0.991502</td><td>0.991332</td><td>1.15795</td><td>0.890845</td><td>0.900014</td><td>28464.4</td><td>0.104582</td><td>-0.119112</td><td>-0.19002</td><td>0.00456646</td><td>-0.00842388</td><td>28355.5</td><td>0.098978</td><td>-0.113852</td><td>-0.189055</td><td>0.00430508</td><td>-0.00663928</td><td>1.15811</td><td>0.891021</td><td>0.900024</td><td>nan</td><td>nan</td><td>nan</td><td>0.0</td><td>0.0</td></tr>\n",
       "<tr><td>402704928768</td><td>2203617267</td><td>6</td><td>1</td><td>1</td><td>2038</td><td>2051</td><td>4051</td><td>4063</td><td>1.0</td><td>0.0</td><td>-0.649735</td><td>401.881</td><td>0.862874</td><td>25.5695</td><td>0.820761</td><td>66600.7</td><td>0.216771</td><td>0.216771</td><td>-0.000217538</td><td>0.000361642</td><td>0.216863</td><td>0.21668</td><td>1.05617</td><td>0.653647</td><td>0.998992</td><td>12.5125</td><td>12.4907</td><td>12.4907</td><td>8.49791</td><td>8.49268</td><td>0.36117</td><td>0.347291</td><td>0.347245</td><td>1216.87</td><td>-0.195613</td><td>-0.000170723</td><td>0.000245362</td><td>7.91959e-06</td><td>-7.08074e-06</td><td>1118.49</td><td>-0.200975</td><td>0.00210406</td><td>0.00440813</td><td>-0.000161023</td><td>0.000153594</td><td>0.361452</td><td>0.347435</td><td>0.34742</td><td>nan</td><td>nan</td><td>nan</td><td>-4.58354e-05</td><td>0.000110554</td></tr>\n",
       "</table>"
      ],
      "text/plain": [
       "<Table length=45289>\n",
       "   db_id        grp_id    grp_size ...  hsm_e2    g1_fit       g2_fit   \n",
       "   int64        int64      int16   ... float32   float32      float32   \n",
       "------------ ------------ -------- ... ------- ------------ ------------\n",
       "  2214322509   2200170838       36 ...     nan          0.0          0.0\n",
       "  2213221225   2200170838       36 ...     nan          0.0          0.0\n",
       "  2213832765   2200170838       36 ...     nan          0.0          0.0\n",
       "  2214602712   2206640565        2 ...     nan          0.0          0.0\n",
       "  2201272641   2200170838       36 ...     nan          0.0  2.98023e-09\n",
       "  2209286187   2200170838       36 ...     nan          0.0          0.0\n",
       "  2216818333   2200170838       36 ...     nan          0.0          0.0\n",
       "  2208277203   2200170838       36 ...     nan          0.0          0.0\n",
       "  2203591562   2200170838       36 ...     nan   0.00258494   -0.0118872\n",
       "  2204598739   2200170838       36 ...     nan          0.0  2.98023e-09\n",
       "         ...          ...      ... ...     ...          ...          ...\n",
       "402707178568 402703168112        3 ...     nan          0.0          0.0\n",
       "402717401699 402717401699        1 ...     nan          0.0          0.0\n",
       "402711116843 402711433113        3 ...     nan          0.0          0.0\n",
       "402711433113 402711433113        3 ...     nan          0.0          0.0\n",
       "402704824822 402704824822        1 ...     nan          0.0          0.0\n",
       "402712262956 402703600542        3 ...     nan          0.0          0.0\n",
       "402705633089 402703600542        3 ...     nan          0.0          0.0\n",
       "402703600542 402703600542        3 ...     nan          0.0 -0.000448119\n",
       "402710622017   2203617267        6 ...     nan          0.0          0.0\n",
       "402704928768   2203617267        6 ...     nan -4.58354e-05  0.000110554"
      ]
     },
     "execution_count": 8,
     "metadata": {},
     "output_type": "execute_result"
    }
   ],
   "source": [
    "catalog1"
   ]
  },
  {
   "cell_type": "code",
   "execution_count": 15,
   "metadata": {
    "collapsed": false
   },
   "outputs": [
    {
     "name": "stdout",
     "output_type": "stream",
     "text": [
      "0.00876174\n",
      "0.00875396\n"
     ]
    },
    {
     "data": {
      "image/png": "[encoded data removed]",
      "text/plain": [
       "<matplotlib.figure.Figure at 0x10bab6dd0>"
      ]
     },
     "metadata": {},
     "output_type": "display_data"
    }
   ],
   "source": [
    "# group statistics \n",
    "plt.hist(catalog1['grp_size'], type=step)\n",
    "plt.hist(catalog1['grp_size'], type=step)\n",
    "plt.hist(catalog1['grp_size'], type=step)"
   ]
  },
  {
   "cell_type": "code",
   "execution_count": 19,
   "metadata": {
    "collapsed": true
   },
   "outputs": [],
   "source": [
    "gold = catalog1[(catalog1['ab_mag'] < 25.3)] \n",
    "cosmic_shear_g1 = 0. \n",
    "cosmic_shear_g2 = 0. "
   ]
  },
  {
   "cell_type": "code",
   "execution_count": 6,
   "metadata": {
    "collapsed": false
   },
   "outputs": [
    {
     "name": "stdout",
     "output_type": "stream",
     "text": [
      "820.155913344\n",
      "0.0240768\n"
     ]
    }
   ],
   "source": [
    "#calculate min_sep and max_sep\n",
    "catalog_sort_mag = sorted(gold1, key=lambda x: (x['dx']**2 + x['dy']**2))\n",
    "max_sep = math.sqrt((catalog_sort_mag[-1]['dx'] - catalog_sort_mag[-7]['dx'])**2 + (catalog_sort_mag[-1]['dy'] - catalog_sort_mag[-7]['dy'])**2)\n",
    "catalog_sort_abs = sort(abs(gold1['dx']))\n",
    "min_sep = catalog_sort_abs[1] - catalog_sort_abs[0]\n",
    "print max_sep\n",
    "print min_sep"
   ]
  },
  {
   "cell_type": "code",
   "execution_count": 7,
   "metadata": {
    "collapsed": false
   },
   "outputs": [
    {
     "name": "stdout",
     "output_type": "stream",
     "text": [
      "0.00223546\n",
      "3.98805097164\n",
      "\n",
      "0.0552304\n",
      "6.76164258785\n",
      "\n"
     ]
    }
   ],
   "source": [
    "#check things josh suggested.\n",
    "#use gold sample \n",
    "print gold1['bias_g1'].mean()\n",
    "print math.sqrt(gold1['bias_g1'].var())\n",
    "print\n",
    "print gold1['bias_g2'].mean()\n",
    "print math.sqrt(gold1['bias_g2'].var())\n",
    "print"
   ]
  },
  {
   "cell_type": "code",
   "execution_count": 20,
   "metadata": {
    "collapsed": false
   },
   "outputs": [
    {
     "ename": "ValueError",
     "evalue": "Requested shear exceeds 1: 515.120965",
     "output_type": "error",
     "traceback": [
      "\u001b[0;31m---------------------------------------------------------------------------\u001b[0m",
      "\u001b[0;31mValueError\u001b[0m                                Traceback (most recent call last)",
      "\u001b[0;32m<ipython-input-20-6bf7c05ccd7a>\u001b[0m in \u001b[0;36m<module>\u001b[0;34m()\u001b[0m\n\u001b[1;32m      5\u001b[0m     \u001b[0mg2\u001b[0m \u001b[0;34m=\u001b[0m \u001b[0mentry\u001b[0m\u001b[0;34m[\u001b[0m\u001b[0;34m'e2'\u001b[0m\u001b[0;34m]\u001b[0m\u001b[0;34m\u001b[0m\u001b[0m\n\u001b[1;32m      6\u001b[0m     \u001b[0mepsilon\u001b[0m \u001b[0;34m=\u001b[0m \u001b[0mgalsim\u001b[0m\u001b[0;34m.\u001b[0m\u001b[0mShear\u001b[0m\u001b[0;34m(\u001b[0m\u001b[0mg1\u001b[0m\u001b[0;34m=\u001b[0m\u001b[0mg1\u001b[0m\u001b[0;34m,\u001b[0m\u001b[0mg2\u001b[0m\u001b[0;34m=\u001b[0m\u001b[0mg2\u001b[0m\u001b[0;34m)\u001b[0m\u001b[0;34m\u001b[0m\u001b[0m\n\u001b[0;32m----> 7\u001b[0;31m     \u001b[0mg\u001b[0m \u001b[0;34m=\u001b[0m \u001b[0mgalsim\u001b[0m\u001b[0;34m.\u001b[0m\u001b[0mShear\u001b[0m\u001b[0;34m(\u001b[0m\u001b[0mg1\u001b[0m\u001b[0;34m=\u001b[0m\u001b[0mentry\u001b[0m\u001b[0;34m[\u001b[0m\u001b[0;34m'bias_g1'\u001b[0m\u001b[0;34m]\u001b[0m\u001b[0;34m+\u001b[0m\u001b[0mcosmic_shear_g1\u001b[0m\u001b[0;34m,\u001b[0m \u001b[0mg2\u001b[0m\u001b[0;34m=\u001b[0m\u001b[0mentry\u001b[0m\u001b[0;34m[\u001b[0m\u001b[0;34m'bias_g2'\u001b[0m\u001b[0;34m]\u001b[0m\u001b[0;34m+\u001b[0m\u001b[0mcosmic_shear_g2\u001b[0m\u001b[0;34m)\u001b[0m\u001b[0;34m\u001b[0m\u001b[0m\n\u001b[0m\u001b[1;32m      8\u001b[0m     \u001b[0me\u001b[0m \u001b[0;34m=\u001b[0m \u001b[0mepsilon\u001b[0m \u001b[0;34m+\u001b[0m \u001b[0mg\u001b[0m\u001b[0;34m\u001b[0m\u001b[0m\n\u001b[1;32m      9\u001b[0m     \u001b[0mshears_e1\u001b[0m\u001b[0;34m.\u001b[0m\u001b[0mappend\u001b[0m\u001b[0;34m(\u001b[0m\u001b[0me\u001b[0m\u001b[0;34m.\u001b[0m\u001b[0mg1\u001b[0m\u001b[0;34m)\u001b[0m\u001b[0;34m\u001b[0m\u001b[0m\n",
      "\u001b[0;32m/Users/Ismael/miniconda2/opt/lsst/galsim/lib/python/galsim/shear.pyc\u001b[0m in \u001b[0;36m__init__\u001b[0;34m(self, *args, **kwargs)\u001b[0m\n\u001b[1;32m    108\u001b[0m             \u001b[0mself\u001b[0m\u001b[0;34m.\u001b[0m\u001b[0m_g\u001b[0m \u001b[0;34m=\u001b[0m \u001b[0mg1\u001b[0m \u001b[0;34m+\u001b[0m \u001b[0;36m1j\u001b[0m \u001b[0;34m*\u001b[0m \u001b[0mg2\u001b[0m\u001b[0;34m\u001b[0m\u001b[0m\n\u001b[1;32m    109\u001b[0m             \u001b[0;32mif\u001b[0m \u001b[0mabs\u001b[0m\u001b[0;34m(\u001b[0m\u001b[0mself\u001b[0m\u001b[0;34m.\u001b[0m\u001b[0m_g\u001b[0m\u001b[0;34m)\u001b[0m \u001b[0;34m>\u001b[0m \u001b[0;36m1.\u001b[0m\u001b[0;34m:\u001b[0m\u001b[0;34m\u001b[0m\u001b[0m\n\u001b[0;32m--> 110\u001b[0;31m                 \u001b[0;32mraise\u001b[0m \u001b[0mValueError\u001b[0m\u001b[0;34m(\u001b[0m\u001b[0;34m\"Requested shear exceeds 1: %f\"\u001b[0m\u001b[0;34m%\u001b[0m\u001b[0mabs\u001b[0m\u001b[0;34m(\u001b[0m\u001b[0mself\u001b[0m\u001b[0;34m.\u001b[0m\u001b[0m_g\u001b[0m\u001b[0;34m)\u001b[0m\u001b[0;34m)\u001b[0m\u001b[0;34m\u001b[0m\u001b[0m\n\u001b[0m\u001b[1;32m    111\u001b[0m \u001b[0;34m\u001b[0m\u001b[0m\n\u001b[1;32m    112\u001b[0m         \u001b[0;31m# e1,e2\u001b[0m\u001b[0;34m\u001b[0m\u001b[0;34m\u001b[0m\u001b[0m\n",
      "\u001b[0;31mValueError\u001b[0m: Requested shear exceeds 1: 515.120965"
     ]
    }
   ],
   "source": [
    "shears_e1 = []\n",
    "shears_e2 = []\n",
    "for entry in gold:\n",
    "    g1 = entry['e1']\n",
    "    g2 = entry['e2']\n",
    "    epsilon = galsim.Shear(g1=g1,g2=g2)\n",
    "    g = galsim.Shear(g1=entry['bias_g1']+cosmic_shear_g1, g2=entry['bias_g2']+cosmic_shear_g2)\n",
    "    e = epsilon + g\n",
    "    shears_e1.append(e.g1)\n",
    "    shears_e2.append(e.g2)"
   ]
  },
  {
   "cell_type": "code",
   "execution_count": 27,
   "metadata": {
    "collapsed": false
   },
   "outputs": [
    {
     "name": "stdout",
     "output_type": "stream",
     "text": [
      "474\n",
      "10658\n"
     ]
    }
   ],
   "source": [
    "print len(gold[(abs(gold['bias_g1']) > 1) |(abs(gold['bias_g2']) > 1) ])\n",
    "print len(gold)"
   ]
  },
  {
   "cell_type": "code",
   "execution_count": 8,
   "metadata": {
    "collapsed": false
   },
   "outputs": [
    {
     "name": "stdout",
     "output_type": "stream",
     "text": [
      "[ -1.35849208e-05   5.01044476e-03   1.48525472e-01   3.96643214e-01\n",
      "  -3.50764345e-01  -1.02479016e-02  -3.10498177e-02   5.35091171e-04\n",
      "   3.03158089e-03  -2.06220520e-03]\n",
      "[  3.08137081e+01   9.74415009e+00   3.30357627e+00   1.30796907e+00\n",
      "   4.55812116e-01   1.61514371e-01   5.76594089e-02   2.11432238e-02\n",
      "   8.38600113e-03   4.90485490e-03]\n",
      "[-3.20470662 -2.16110651 -1.11750639 -0.07390628  0.96969383  2.01329395\n",
      "  3.05689406  4.10049418  5.14409429  6.1876944 ]\n"
     ]
    }
   ],
   "source": [
    "#calculate correlations for gold. \n",
    "#with bias on shear. \n",
    "#calculate and demonstrate treecorr for catalog1 \n",
    "cat1 = treecorr.Catalog(x=gold1['dx'],y=gold1['dy'],x_units='arcsec',y_units='arcsec',g1=gold1['bias_g1'],g2=gold1['bias_g2'])\n",
    "gg1 = treecorr.GGCorrelation(min_sep=min_sep,max_sep=max_sep,nbins=10,sep_units='arcsec')\n",
    "gg1.process(cat1)\n",
    "print gg1.xim\n",
    "print np.sqrt(gg1.varxi)\n",
    "print gg1.logr\n",
    "\n",
    "#do now with e.shear(cosmic_shear + bias_g1)\n",
    "cat1 = treecorr.Catalog(x=gold1['dx'],y=gold1['dy'],x_units='arcsec',y_units='arcsec',g1=gold1['bias_g1'],g2=gold1['bias_g2'])\n"
   ]
  },
  {
   "cell_type": "code",
   "execution_count": 10,
   "metadata": {
    "collapsed": false
   },
   "outputs": [
    {
     "data": {
      "text/plain": [
       "(-1, 1)"
      ]
     },
     "execution_count": 10,
     "metadata": {},
     "output_type": "execute_result"
    },
    {
     "data": {
      "image/png": "[encoded data removed]",
      "text/plain": [
       "<matplotlib.figure.Figure at 0x10bc31a10>"
      ]
     },
     "metadata": {},
     "output_type": "display_data"
    }
   ],
   "source": [
    "#plot in a fancy way. \n",
    "plt.errorbar(gg1.logr, gg1.xim, yerr=np.sqrt(gg1.varxi))\n",
    "plt.ylim(-1,1)"
   ]
  },
  {
   "cell_type": "markdown",
   "metadata": {},
   "source": [
    "### Catalogue2 analysis"
   ]
  },
  {
   "cell_type": "code",
   "execution_count": null,
   "metadata": {
    "collapsed": true
   },
   "outputs": [],
   "source": [
    "## check group statistics. \n"
   ]
  },
  {
   "cell_type": "markdown",
   "metadata": {},
   "source": [
    "### See what happens to the population with cosmic sher and group statistics "
   ]
  },
  {
   "cell_type": "code",
   "execution_count": 9,
   "metadata": {
    "collapsed": false
   },
   "outputs": [
    {
     "data": {
      "text/html": [
       "&lt;Table length=45289&gt;\n",
       "<table id=\"table5632686160\" class=\"table-striped table-bordered table-condensed\">\n",
       "<thead><tr><th>db_id</th><th>grp_id</th><th>grp_size</th><th>grp_rank</th><th>visible</th><th>xmin</th><th>xmax</th><th>ymin</th><th>ymax</th><th>f_disk</th><th>f_bulge</th><th>dx</th><th>dy</th><th>z</th><th>ab_mag</th><th>ri_color</th><th>flux</th><th>sigma_m</th><th>sigma_p</th><th>e1</th><th>e2</th><th>a</th><th>b</th><th>beta</th><th>psf_sigm</th><th>purity</th><th>snr_sky</th><th>snr_iso</th><th>snr_grp</th><th>snr_isof</th><th>snr_grpf</th><th>ds</th><th>dg1</th><th>dg2</th><th>bias_f</th><th>bias_s</th><th>bias_g1</th><th>bias_g2</th><th>bias_x</th><th>bias_y</th><th>bias_f_grp</th><th>bias_s_grp</th><th>bias_g1_grp</th><th>bias_g2_grp</th><th>bias_x_grp</th><th>bias_y_grp</th><th>ds_grp</th><th>dg1_grp</th><th>dg2_grp</th><th>hsm_sigm</th><th>hsm_e1</th><th>hsm_e2</th><th>g1_fit</th><th>g2_fit</th></tr></thead>\n",
       "<thead><tr><th>int64</th><th>int64</th><th>int16</th><th>int16</th><th>int16</th><th>int32</th><th>int32</th><th>int32</th><th>int32</th><th>float32</th><th>float32</th><th>float32</th><th>float32</th><th>float32</th><th>float32</th><th>float32</th><th>float32</th><th>float32</th><th>float32</th><th>float32</th><th>float32</th><th>float32</th><th>float32</th><th>float32</th><th>float32</th><th>float32</th><th>float32</th><th>float32</th><th>float32</th><th>float32</th><th>float32</th><th>float32</th><th>float32</th><th>float32</th><th>float32</th><th>float32</th><th>float32</th><th>float32</th><th>float32</th><th>float32</th><th>float32</th><th>float32</th><th>float32</th><th>float32</th><th>float32</th><th>float32</th><th>float32</th><th>float32</th><th>float32</th><th>float32</th><th>float32</th><th>float32</th><th>float32</th><th>float32</th></tr></thead>\n",
       "<tr><td>2214322509</td><td>2200170838</td><td>36</td><td>35</td><td>1</td><td>3236</td><td>3247</td><td>444</td><td>454</td><td>1.0</td><td>0.0</td><td>238.819</td><td>-319.693</td><td>0.516401</td><td>27.4169</td><td>0.518883</td><td>12149.3</td><td>1.08088</td><td>1.11031</td><td>0.073753</td><td>-0.146366</td><td>1.27528</td><td>0.916113</td><td>-0.552019</td><td>1.25073</td><td>0.409874</td><td>0.888373</td><td>0.888307</td><td>0.888224</td><td>0.227531</td><td>0.219346</td><td>4.20776</td><td>2.72145</td><td>2.87452</td><td>320893.0</td><td>11.2382</td><td>1.10926</td><td>-2.01458</td><td>0.0950256</td><td>0.0747375</td><td>335043.0</td><td>11.4197</td><td>1.07438</td><td>-2.39015</td><td>0.547393</td><td>0.252749</td><td>4.32714</td><td>2.7763</td><td>2.97733</td><td>nan</td><td>nan</td><td>nan</td><td>0.0</td><td>0.0</td></tr>\n",
       "<tr><td>2213221225</td><td>2200170838</td><td>36</td><td>28</td><td>1</td><td>3201</td><td>3209</td><td>452</td><td>461</td><td>1.0</td><td>0.0</td><td>231.507</td><td>-318.24</td><td>2.96548</td><td>27.2805</td><td>0.0100918</td><td>13775.3</td><td>0.145562</td><td>0.151919</td><td>-0.176149</td><td>0.108134</td><td>0.179525</td><td>0.118024</td><td>1.29552</td><td>0.635012</td><td>0.591804</td><td>2.7721</td><td>2.77094</td><td>2.77033</td><td>1.8895</td><td>1.88603</td><td>3.23095</td><td>3.0282</td><td>2.80309</td><td>7081.93</td><td>-17.9639</td><td>-10.9724</td><td>6.8122</td><td>0.0016535</td><td>0.000666451</td><td>7042.09</td><td>-17.9933</td><td>-10.9651</td><td>6.79978</td><td>0.00214231</td><td>0.00169208</td><td>3.23345</td><td>3.02902</td><td>2.80398</td><td>nan</td><td>nan</td><td>nan</td><td>0.0</td><td>0.0</td></tr>\n",
       "<tr><td>2213832765</td><td>2200170838</td><td>36</td><td>29</td><td>1</td><td>3215</td><td>3224</td><td>455</td><td>463</td><td>1.0</td><td>0.0</td><td>234.398</td><td>-317.7</td><td>0.683066</td><td>27.3607</td><td>-0.21286</td><td>12794.4</td><td>0.148595</td><td>0.151039</td><td>0.00700334</td><td>-0.127535</td><td>0.168959</td><td>0.130686</td><td>-0.757969</td><td>0.634851</td><td>0.628997</td><td>2.5683</td><td>2.56731</td><td>2.56686</td><td>1.73184</td><td>1.72983</td><td>3.13798</td><td>2.84177</td><td>3.06657</td><td>8087.37</td><td>-16.8191</td><td>0.433178</td><td>-7.95275</td><td>-0.000361773</td><td>1.97572e-05</td><td>8102.9</td><td>-16.8253</td><td>0.434027</td><td>-7.95754</td><td>-0.000387156</td><td>-3.96964e-05</td><td>3.13961</td><td>2.84229</td><td>3.06716</td><td>nan</td><td>nan</td><td>nan</td><td>0.0</td><td>0.0</td></tr>\n",
       "<tr><td>2214602712</td><td>2206640565</td><td>2</td><td>1</td><td>1</td><td>3149</td><td>3157</td><td>457</td><td>466</td><td>1.0</td><td>0.0</td><td>221.175</td><td>-317.188</td><td>3.23816</td><td>27.4955</td><td>-0.0119038</td><td>11300.0</td><td>0.152348</td><td>0.158427</td><td>-0.130865</td><td>0.148252</td><td>0.18615</td><td>0.124684</td><td>1.14699</td><td>0.636593</td><td>0.933744</td><td>2.2555</td><td>2.25474</td><td>2.25471</td><td>1.49876</td><td>1.42649</td><td>3.76836</td><td>3.35804</td><td>3.42366</td><td>9904.27</td><td>-23.1757</td><td>-10.7491</td><td>12.2286</td><td>0.00184244</td><td>-0.00509545</td><td>10265.9</td><td>-23.7065</td><td>-10.1357</td><td>12.0776</td><td>-0.00147638</td><td>-0.01336</td><td>3.83512</td><td>3.40838</td><td>3.44279</td><td>nan</td><td>nan</td><td>nan</td><td>0.0</td><td>0.0</td></tr>\n",
       "<tr><td>2201272641</td><td>2200170838</td><td>36</td><td>6</td><td>1</td><td>3177</td><td>3202</td><td>412</td><td>429</td><td>0.930439</td><td>0.0695615</td><td>228.385</td><td>-325.361</td><td>1.233</td><td>23.9101</td><td>0.417097</td><td>307089.0</td><td>0.371826</td><td>0.4614</td><td>0.457709</td><td>-0.0552518</td><td>0.612192</td><td>0.225835</td><td>-0.0600663</td><td>0.755404</td><td>0.9643</td><td>47.7854</td><td>47.5192</td><td>47.5135</td><td>30.5068</td><td>21.3511</td><td>0.0877179</td><td>0.0814383</td><td>0.0440881</td><td>334.635</td><td>-0.00868604</td><td>0.0104389</td><td>-0.00126001</td><td>3.35998e-08</td><td>4.58155e-08</td><td>-7440.37</td><td>-0.070242</td><td>0.0776311</td><td>-0.0143182</td><td>-0.00240269</td><td>-0.012364</td><td>0.12158</td><td>0.112491</td><td>0.0494165</td><td>nan</td><td>nan</td><td>nan</td><td>0.0</td><td>2.98023e-09</td></tr>\n",
       "<tr><td>2209286187</td><td>2200170838</td><td>36</td><td>34</td><td>1</td><td>3182</td><td>3198</td><td>422</td><td>436</td><td>1.0</td><td>0.0</td><td>228.493</td><td>-323.751</td><td>0.793642</td><td>26.5588</td><td>1.04664</td><td>26778.3</td><td>1.90251</td><td>1.92233</td><td>0.0920748</td><td>-0.043432</td><td>2.10714</td><td>1.71775</td><td>-0.220378</td><td>2.00175</td><td>0.102007</td><td>1.15925</td><td>1.15917</td><td>1.15861</td><td>0.255394</td><td>0.212035</td><td>3.16491</td><td>2.04118</td><td>2.01912</td><td>487387.0</td><td>7.6729</td><td>0.618593</td><td>-0.310698</td><td>0.0627348</td><td>-0.0120064</td><td>668075.0</td><td>9.08937</td><td>0.143428</td><td>-0.376486</td><td>-0.0777103</td><td>-5.68559</td><td>3.58042</td><td>2.66606</td><td>2.15897</td><td>nan</td><td>nan</td><td>nan</td><td>0.0</td><td>0.0</td></tr>\n",
       "<tr><td>2216818333</td><td>2200170838</td><td>36</td><td>33</td><td>1</td><td>3180</td><td>3187</td><td>460</td><td>467</td><td>1.0</td><td>0.0</td><td>227.289</td><td>-316.744</td><td>2.11807</td><td>27.9893</td><td>-0.06637</td><td>7171.1</td><td>0.132606</td><td>0.133632</td><td>0.0781198</td><td>-0.040055</td><td>0.144806</td><td>0.121433</td><td>-0.236893</td><td>0.630959</td><td>0.638744</td><td>1.45326</td><td>1.45293</td><td>1.4528</td><td>0.935421</td><td>0.640331</td><td>6.7241</td><td>6.44647</td><td>6.31057</td><td>18971.5</td><td>-77.4617</td><td>21.3988</td><td>-11.914</td><td>0.00469766</td><td>0.000198213</td><td>25099.3</td><td>-97.8489</td><td>36.9593</td><td>-26.4016</td><td>-0.0717455</td><td>-0.183476</td><td>7.6648</td><td>7.20729</td><td>6.8729</td><td>nan</td><td>nan</td><td>nan</td><td>0.0</td><td>0.0</td></tr>\n",
       "<tr><td>2208277203</td><td>2200170838</td><td>36</td><td>23</td><td>1</td><td>3175</td><td>3187</td><td>453</td><td>465</td><td>0.704855</td><td>0.295145</td><td>226.742</td><td>-317.662</td><td>2.47147</td><td>26.3707</td><td>-0.014204</td><td>31844.2</td><td>0.330121</td><td>0.330877</td><td>0.00610489</td><td>0.0474397</td><td>0.346307</td><td>0.314691</td><td>0.721406</td><td>0.699737</td><td>0.944109</td><td>5.24545</td><td>5.2418</td><td>5.24172</td><td>3.02951</td><td>2.21555</td><td>0.884779</td><td>0.725059</td><td>0.743513</td><td>2793.3</td><td>-0.783912</td><td>0.0309683</td><td>0.241538</td><td>-8.43434e-05</td><td>-0.000108925</td><td>674.747</td><td>-1.30524</td><td>0.155196</td><td>-0.309112</td><td>-0.0391499</td><td>-0.0244809</td><td>1.06487</td><td>0.837749</td><td>0.950596</td><td>nan</td><td>nan</td><td>nan</td><td>0.0</td><td>0.0</td></tr>\n",
       "<tr><td>2203591562</td><td>2200170838</td><td>36</td><td>10</td><td>1</td><td>3191</td><td>3205</td><td>405</td><td>419</td><td>0.920567</td><td>0.0794327</td><td>230.076</td><td>-327.101</td><td>0.998349</td><td>25.0334</td><td>0.765593</td><td>109125.0</td><td>0.218209</td><td>0.221974</td><td>0.130783</td><td>-0.00149816</td><td>0.248887</td><td>0.191313</td><td>-0.00572739</td><td>0.655248</td><td>0.937048</td><td>20.3941</td><td>20.3366</td><td>20.3342</td><td>13.6597</td><td>13.3403</td><td>0.234664</td><td>0.222948</td><td>0.210268</td><td>767.712</td><td>-0.0778583</td><td>0.0351907</td><td>-0.000403656</td><td>-6.51394e-07</td><td>1.32149e-09</td><td>565.891</td><td>-0.0890728</td><td>0.0473843</td><td>-0.00886079</td><td>-0.000443508</td><td>-0.000694811</td><td>0.242519</td><td>0.229031</td><td>0.212559</td><td>nan</td><td>nan</td><td>nan</td><td>0.00258494</td><td>-0.0118872</td></tr>\n",
       "<tr><td>2204598739</td><td>2200170838</td><td>36</td><td>16</td><td>1</td><td>3214</td><td>3227</td><td>394</td><td>413</td><td>1.0</td><td>0.0</td><td>234.585</td><td>-328.749</td><td>1.2115</td><td>25.5208</td><td>0.416979</td><td>69658.8</td><td>0.415453</td><td>0.499273</td><td>-0.41969</td><td>-0.0748499</td><td>0.655075</td><td>0.263483</td><td>-1.48255</td><td>0.776724</td><td>0.919503</td><td>10.4273</td><td>10.4151</td><td>10.4143</td><td>6.66322</td><td>6.65842</td><td>0.328181</td><td>0.300604</td><td>0.188712</td><td>1772.22</td><td>-0.110454</td><td>-0.129595</td><td>-0.023169</td><td>1.20987e-05</td><td>-3.60889e-06</td><td>1720.86</td><td>-0.111769</td><td>-0.128695</td><td>-0.0240641</td><td>5.38257e-05</td><td>0.000237023</td><td>0.328296</td><td>0.300636</td><td>0.188734</td><td>nan</td><td>nan</td><td>nan</td><td>0.0</td><td>2.98023e-09</td></tr>\n",
       "<tr><td>...</td><td>...</td><td>...</td><td>...</td><td>...</td><td>...</td><td>...</td><td>...</td><td>...</td><td>...</td><td>...</td><td>...</td><td>...</td><td>...</td><td>...</td><td>...</td><td>...</td><td>...</td><td>...</td><td>...</td><td>...</td><td>...</td><td>...</td><td>...</td><td>...</td><td>...</td><td>...</td><td>...</td><td>...</td><td>...</td><td>...</td><td>...</td><td>...</td><td>...</td><td>...</td><td>...</td><td>...</td><td>...</td><td>...</td><td>...</td><td>...</td><td>...</td><td>...</td><td>...</td><td>...</td><td>...</td><td>...</td><td>...</td><td>...</td><td>...</td><td>...</td><td>...</td><td>...</td><td>...</td></tr>\n",
       "<tr><td>402707178568</td><td>402703168112</td><td>3</td><td>2</td><td>1</td><td>-3</td><td>10</td><td>39</td><td>54</td><td>0.965542</td><td>0.0344583</td><td>-408.797</td><td>-400.22</td><td>1.493</td><td>26.156</td><td>0.18593</td><td>38804.3</td><td>0.508797</td><td>0.510103</td><td>-0.043722</td><td>0.025503</td><td>0.535237</td><td>0.483664</td><td>1.30677</td><td>0.799956</td><td>0.925524</td><td>5.2336</td><td>5.23076</td><td>5.23071</td><td>3.06834</td><td>2.68956</td><td>0.479958</td><td>0.408468</td><td>0.406958</td><td>4845.68</td><td>-0.115149</td><td>-0.0230032</td><td>0.013905</td><td>5.55912e-05</td><td>-2.05808e-05</td><td>5465.8</td><td>-0.146214</td><td>0.0132617</td><td>0.0545278</td><td>-0.00108108</td><td>0.00195408</td><td>0.535819</td><td>0.448118</td><td>0.445552</td><td>nan</td><td>nan</td><td>nan</td><td>0.0</td><td>0.0</td></tr>\n",
       "<tr><td>402717401699</td><td>402717401699</td><td>1</td><td>0</td><td>1</td><td>2014</td><td>2020</td><td>4072</td><td>4077</td><td>1.0</td><td>0.0</td><td>-6.16264</td><td>405.4</td><td>2.52492</td><td>28.4184</td><td>-0.479517</td><td>4829.88</td><td>0.120934</td><td>0.174959</td><td>0.38734</td><td>-0.450954</td><td>0.239796</td><td>0.0609891</td><td>-0.430569</td><td>0.640308</td><td>1.0</td><td>0.964645</td><td>0.964496</td><td>0.964496</td><td>0.562954</td><td>0.562954</td><td>44.8769</td><td>29.8297</td><td>33.8831</td><td>43871.5</td><td>-3031.16</td><td>2582.76</td><td>-2994.27</td><td>-0.0702473</td><td>0.0486714</td><td>43871.5</td><td>-3031.16</td><td>2582.76</td><td>-2994.27</td><td>-0.0702473</td><td>0.0486714</td><td>44.8769</td><td>29.8297</td><td>33.8831</td><td>nan</td><td>nan</td><td>nan</td><td>0.0</td><td>0.0</td></tr>\n",
       "<tr><td>402711116843</td><td>402711433113</td><td>3</td><td>1</td><td>1</td><td>1996</td><td>2007</td><td>4061</td><td>4074</td><td>1.0</td><td>0.0</td><td>-9.1341</td><td>403.986</td><td>1.02478</td><td>26.7956</td><td>0.570835</td><td>21531.5</td><td>0.547889</td><td>0.561375</td><td>-0.152987</td><td>0.0301113</td><td>0.641159</td><td>0.468187</td><td>1.47363</td><td>0.829913</td><td>0.608202</td><td>2.76953</td><td>2.76876</td><td>2.76843</td><td>1.51888</td><td>0.784856</td><td>0.932398</td><td>0.782818</td><td>0.741202</td><td>12475.0</td><td>-0.283301</td><td>-0.279574</td><td>0.0550432</td><td>0.00249167</td><td>0.00120157</td><td>31008.8</td><td>-1.18694</td><td>-1.85693</td><td>0.621637</td><td>-0.0456545</td><td>-0.157855</td><td>1.3061</td><td>1.54182</td><td>1.08489</td><td>nan</td><td>nan</td><td>nan</td><td>0.0</td><td>0.0</td></tr>\n",
       "<tr><td>402711433113</td><td>402711433113</td><td>3</td><td>0</td><td>1</td><td>1993</td><td>2002</td><td>4064</td><td>4073</td><td>1.0</td><td>0.0</td><td>-9.95378</td><td>404.174</td><td>0.995764</td><td>26.8761</td><td>0.561197</td><td>19992.7</td><td>0.132336</td><td>0.140873</td><td>-0.214784</td><td>-0.127675</td><td>0.170821</td><td>0.102522</td><td>-1.30264</td><td>0.632456</td><td>0.796384</td><td>4.07377</td><td>4.07125</td><td>4.07077</td><td>2.83452</td><td>0.925925</td><td>2.67323</td><td>2.50201</td><td>2.20393</td><td>4362.56</td><td>-12.868</td><td>-9.18332</td><td>-5.4652</td><td>-0.000570446</td><td>-0.000230046</td><td>8665.5</td><td>-19.8683</td><td>-16.5714</td><td>-9.51554</td><td>0.10872</td><td>-0.0099432</td><td>3.80628</td><td>3.13783</td><td>2.65543</td><td>nan</td><td>nan</td><td>nan</td><td>0.0</td><td>0.0</td></tr>\n",
       "<tr><td>402704824822</td><td>402704824822</td><td>1</td><td>0</td><td>1</td><td>2023</td><td>2035</td><td>4054</td><td>4067</td><td>1.0</td><td>0.0</td><td>-3.64566</td><td>402.653</td><td>2.23208</td><td>25.618</td><td>-0.179173</td><td>63693.4</td><td>0.180066</td><td>0.282299</td><td>-0.308378</td><td>-0.57141</td><td>0.390501</td><td>0.083031</td><td>-1.03284</td><td>0.673913</td><td>1.0</td><td>12.1819</td><td>12.1608</td><td>12.1608</td><td>8.41726</td><td>8.41726</td><td>1.8914</td><td>0.940353</td><td>1.66248</td><td>1348.92</td><td>-5.4369</td><td>-3.37376</td><td>-6.25206</td><td>-1.36832e-06</td><td>3.25538e-05</td><td>1348.92</td><td>-5.4369</td><td>-3.37376</td><td>-6.25206</td><td>-1.36832e-06</td><td>3.25538e-05</td><td>1.8914</td><td>0.940353</td><td>1.66248</td><td>nan</td><td>nan</td><td>nan</td><td>0.0</td><td>0.0</td></tr>\n",
       "<tr><td>402712262956</td><td>402703600542</td><td>3</td><td>2</td><td>1</td><td>2014</td><td>2023</td><td>4078</td><td>4088</td><td>1.0</td><td>0.0</td><td>-5.77683</td><td>407.076</td><td>4.5115</td><td>27.0126</td><td>0.277584</td><td>17630.7</td><td>0.2973</td><td>0.300821</td><td>-0.0616529</td><td>-0.0892828</td><td>0.331515</td><td>0.266617</td><td>-1.08757</td><td>0.685826</td><td>0.479804</td><td>3.01011</td><td>3.00895</td><td>3.00809</td><td>1.86594</td><td>0.590669</td><td>1.20991</td><td>1.07581</td><td>1.08542</td><td>7723.6</td><td>-1.38713</td><td>-0.33844</td><td>-0.489424</td><td>0.00252331</td><td>-0.000211191</td><td>19733.5</td><td>-4.72045</td><td>1.43237</td><td>0.731306</td><td>0.00624805</td><td>0.0355393</td><td>1.80191</td><td>1.70617</td><td>1.70566</td><td>nan</td><td>nan</td><td>nan</td><td>0.0</td><td>0.0</td></tr>\n",
       "<tr><td>402705633089</td><td>402703600542</td><td>3</td><td>1</td><td>1</td><td>2011</td><td>2023</td><td>4081</td><td>4092</td><td>1.0</td><td>0.0</td><td>-6.02274</td><td>407.863</td><td>0.495741</td><td>25.9794</td><td>0.676527</td><td>45659.2</td><td>0.205661</td><td>0.22719</td><td>0.198535</td><td>0.244569</td><td>0.284953</td><td>0.148433</td><td>0.444458</td><td>0.656403</td><td>0.874914</td><td>8.63779</td><td>8.62732</td><td>8.62628</td><td>5.88172</td><td>1.79116</td><td>0.731042</td><td>0.590054</td><td>0.633971</td><td>1853.54</td><td>-0.807766</td><td>0.490273</td><td>0.604033</td><td>4.42792e-05</td><td>2.99974e-05</td><td>4313.25</td><td>-0.893552</td><td>0.743447</td><td>0.823405</td><td>0.0335751</td><td>-0.0426956</td><td>1.12218</td><td>0.963721</td><td>0.99549</td><td>nan</td><td>nan</td><td>nan</td><td>0.0</td><td>0.0</td></tr>\n",
       "<tr><td>402703600542</td><td>402703600542</td><td>3</td><td>0</td><td>1</td><td>2001</td><td>2014</td><td>4080</td><td>4093</td><td>0.751545</td><td>0.248455</td><td>-7.96551</td><td>407.744</td><td>0.997952</td><td>25.1863</td><td>0.813316</td><td>94792.7</td><td>0.0965635</td><td>0.101906</td><td>0.00945499</td><td>-0.231759</td><td>0.122297</td><td>0.0762448</td><td>-0.765011</td><td>0.624998</td><td>0.99767</td><td>19.4618</td><td>19.4029</td><td>19.4028</td><td>10.4538</td><td>10.37</td><td>1.25172</td><td>0.747104</td><td>1.0525</td><td>897.485</td><td>-1.16984</td><td>0.0421842</td><td>-1.01334</td><td>1.90817e-06</td><td>-7.19983e-07</td><td>868.613</td><td>-1.19284</td><td>0.0305697</td><td>-1.03784</td><td>5.69688e-05</td><td>-5.83625e-05</td><td>1.26181</td><td>0.754312</td><td>1.05655</td><td>nan</td><td>nan</td><td>nan</td><td>0.0</td><td>-0.000448119</td></tr>\n",
       "<tr><td>402710622017</td><td>2203617267</td><td>6</td><td>5</td><td>1</td><td>2036</td><td>2049</td><td>4063</td><td>4077</td><td>1.0</td><td>0.0</td><td>-0.922248</td><td>404.469</td><td>0.557929</td><td>26.8062</td><td>-0.0431957</td><td>21320.9</td><td>0.808529</td><td>0.819512</td><td>-0.0620293</td><td>-0.098204</td><td>0.908593</td><td>0.719485</td><td>-1.06708</td><td>1.02007</td><td>0.994523</td><td>2.11177</td><td>2.1114</td><td>2.1114</td><td>0.991502</td><td>0.991332</td><td>1.15795</td><td>0.890845</td><td>0.900014</td><td>28464.4</td><td>0.104582</td><td>-0.119112</td><td>-0.19002</td><td>0.00456646</td><td>-0.00842388</td><td>28355.5</td><td>0.098978</td><td>-0.113852</td><td>-0.189055</td><td>0.00430508</td><td>-0.00663928</td><td>1.15811</td><td>0.891021</td><td>0.900024</td><td>nan</td><td>nan</td><td>nan</td><td>0.0</td><td>0.0</td></tr>\n",
       "<tr><td>402704928768</td><td>2203617267</td><td>6</td><td>1</td><td>1</td><td>2038</td><td>2051</td><td>4051</td><td>4063</td><td>1.0</td><td>0.0</td><td>-0.649735</td><td>401.881</td><td>0.862874</td><td>25.5695</td><td>0.820761</td><td>66600.7</td><td>0.216771</td><td>0.216771</td><td>-0.000217538</td><td>0.000361642</td><td>0.216863</td><td>0.21668</td><td>1.05617</td><td>0.653647</td><td>0.998992</td><td>12.5125</td><td>12.4907</td><td>12.4907</td><td>8.49791</td><td>8.49268</td><td>0.36117</td><td>0.347291</td><td>0.347245</td><td>1216.87</td><td>-0.195613</td><td>-0.000170723</td><td>0.000245362</td><td>7.91959e-06</td><td>-7.08074e-06</td><td>1118.49</td><td>-0.200975</td><td>0.00210406</td><td>0.00440813</td><td>-0.000161023</td><td>0.000153594</td><td>0.361452</td><td>0.347435</td><td>0.34742</td><td>nan</td><td>nan</td><td>nan</td><td>-4.58354e-05</td><td>0.000110554</td></tr>\n",
       "</table>"
      ],
      "text/plain": [
       "<Table length=45289>\n",
       "   db_id        grp_id    grp_size ...  hsm_e2    g1_fit       g2_fit   \n",
       "   int64        int64      int16   ... float32   float32      float32   \n",
       "------------ ------------ -------- ... ------- ------------ ------------\n",
       "  2214322509   2200170838       36 ...     nan          0.0          0.0\n",
       "  2213221225   2200170838       36 ...     nan          0.0          0.0\n",
       "  2213832765   2200170838       36 ...     nan          0.0          0.0\n",
       "  2214602712   2206640565        2 ...     nan          0.0          0.0\n",
       "  2201272641   2200170838       36 ...     nan          0.0  2.98023e-09\n",
       "  2209286187   2200170838       36 ...     nan          0.0          0.0\n",
       "  2216818333   2200170838       36 ...     nan          0.0          0.0\n",
       "  2208277203   2200170838       36 ...     nan          0.0          0.0\n",
       "  2203591562   2200170838       36 ...     nan   0.00258494   -0.0118872\n",
       "  2204598739   2200170838       36 ...     nan          0.0  2.98023e-09\n",
       "         ...          ...      ... ...     ...          ...          ...\n",
       "402707178568 402703168112        3 ...     nan          0.0          0.0\n",
       "402717401699 402717401699        1 ...     nan          0.0          0.0\n",
       "402711116843 402711433113        3 ...     nan          0.0          0.0\n",
       "402711433113 402711433113        3 ...     nan          0.0          0.0\n",
       "402704824822 402704824822        1 ...     nan          0.0          0.0\n",
       "402712262956 402703600542        3 ...     nan          0.0          0.0\n",
       "402705633089 402703600542        3 ...     nan          0.0          0.0\n",
       "402703600542 402703600542        3 ...     nan          0.0 -0.000448119\n",
       "402710622017   2203617267        6 ...     nan          0.0          0.0\n",
       "402704928768   2203617267        6 ...     nan -4.58354e-05  0.000110554"
      ]
     },
     "execution_count": 9,
     "metadata": {},
     "output_type": "execute_result"
    }
   ],
   "source": [
    "catalog1"
   ]
  },
  {
   "cell_type": "code",
   "execution_count": 10,
   "metadata": {
    "collapsed": false
   },
   "outputs": [
    {
     "data": {
      "text/html": [
       "&lt;Table length=45288&gt;\n",
       "<table id=\"table5520545232\" class=\"table-striped table-bordered table-condensed\">\n",
       "<thead><tr><th>db_id</th><th>grp_id</th><th>grp_size</th><th>grp_rank</th><th>visible</th><th>xmin</th><th>xmax</th><th>ymin</th><th>ymax</th><th>f_disk</th><th>f_bulge</th><th>dx</th><th>dy</th><th>z</th><th>ab_mag</th><th>ri_color</th><th>flux</th><th>sigma_m</th><th>sigma_p</th><th>e1</th><th>e2</th><th>a</th><th>b</th><th>beta</th><th>psf_sigm</th><th>purity</th><th>snr_sky</th><th>snr_iso</th><th>snr_grp</th><th>snr_isof</th><th>snr_grpf</th><th>ds</th><th>dg1</th><th>dg2</th><th>ds_grp</th><th>dg1_grp</th><th>dg2_grp</th><th>hsm_sigm</th><th>hsm_e1</th><th>hsm_e2</th><th>g1_fit</th><th>g2_fit</th><th>bias_f</th><th>bias_s</th><th>bias_g1</th><th>bias_g2</th><th>bias_x</th><th>bias_y</th><th>bias_f_grp</th><th>bias_s_grp</th><th>bias_g1_grp</th><th>bias_g2_grp</th><th>bias_x_grp</th><th>bias_y_grp</th></tr></thead>\n",
       "<thead><tr><th>int64</th><th>int64</th><th>int16</th><th>int16</th><th>int16</th><th>int32</th><th>int32</th><th>int32</th><th>int32</th><th>float32</th><th>float32</th><th>float32</th><th>float32</th><th>float32</th><th>float32</th><th>float32</th><th>float32</th><th>float32</th><th>float32</th><th>float32</th><th>float32</th><th>float32</th><th>float32</th><th>float32</th><th>float32</th><th>float32</th><th>float32</th><th>float32</th><th>float32</th><th>float32</th><th>float32</th><th>float32</th><th>float32</th><th>float32</th><th>float32</th><th>float32</th><th>float32</th><th>float32</th><th>float32</th><th>float32</th><th>float32</th><th>float32</th><th>float32</th><th>float32</th><th>float32</th><th>float32</th><th>float32</th><th>float32</th><th>float32</th><th>float32</th><th>float32</th><th>float32</th><th>float32</th><th>float32</th></tr></thead>\n",
       "<tr><td>2214322509</td><td>2200170838</td><td>36</td><td>35</td><td>1</td><td>3236</td><td>3247</td><td>444</td><td>454</td><td>1.0</td><td>0.0</td><td>238.819</td><td>-319.693</td><td>0.516401</td><td>27.4169</td><td>0.518883</td><td>12149.3</td><td>1.08115</td><td>1.1064</td><td>0.084309</td><td>-0.126395</td><td>1.26004</td><td>0.927655</td><td>-0.491272</td><td>1.25006</td><td>0.394489</td><td>0.89038</td><td>0.890314</td><td>0.890225</td><td>0.22985</td><td>0.221404</td><td>4.16826</td><td>2.70561</td><td>2.85168</td><td>4.28523</td><td>2.76027</td><td>2.95333</td><td>nan</td><td>nan</td><td>nan</td><td>0.0</td><td>0.0</td><td>314348.0</td><td>10.9758</td><td>1.07537</td><td>-1.91377</td><td>0.232318</td><td>0.108761</td><td>328314.0</td><td>11.1372</td><td>1.02855</td><td>-2.29113</td><td>0.709213</td><td>0.302885</td></tr>\n",
       "<tr><td>2213221225</td><td>2200170838</td><td>36</td><td>28</td><td>1</td><td>3201</td><td>3209</td><td>452</td><td>461</td><td>1.0</td><td>0.0</td><td>231.507</td><td>-318.24</td><td>2.96548</td><td>27.2805</td><td>0.0100918</td><td>13775.3</td><td>0.145598</td><td>0.15215</td><td>-0.16549</td><td>0.128845</td><td>0.180141</td><td>0.117679</td><td>1.24003</td><td>0.635064</td><td>0.605402</td><td>2.7717</td><td>2.77055</td><td>2.76997</td><td>1.88926</td><td>1.88603</td><td>3.24227</td><td>2.99575</td><td>2.84701</td><td>3.24461</td><td>2.99654</td><td>2.84787</td><td>nan</td><td>nan</td><td>nan</td><td>0.0</td><td>0.0</td><td>7076.95</td><td>-18.0666</td><td>-10.5615</td><td>7.71143</td><td>0.00167651</td><td>0.000637638</td><td>7036.03</td><td>-18.095</td><td>-10.5523</td><td>7.70077</td><td>0.00214705</td><td>0.00166297</td></tr>\n",
       "<tr><td>2213832765</td><td>2200170838</td><td>36</td><td>29</td><td>1</td><td>3215</td><td>3224</td><td>455</td><td>463</td><td>1.0</td><td>0.0</td><td>234.398</td><td>-317.7</td><td>0.683066</td><td>27.3607</td><td>-0.21286</td><td>12794.4</td><td>0.148632</td><td>0.150413</td><td>0.0171986</td><td>-0.107778</td><td>0.165845</td><td>0.133206</td><td>-0.706278</td><td>0.634712</td><td>0.62917</td><td>2.56962</td><td>2.56863</td><td>2.56818</td><td>1.73331</td><td>1.73129</td><td>3.10087</td><td>2.84958</td><td>3.02638</td><td>3.1025</td><td>2.8501</td><td>3.02695</td><td>nan</td><td>nan</td><td>nan</td><td>0.0</td><td>0.0</td><td>8059.1</td><td>-16.4987</td><td>0.859796</td><td>-7.02242</td><td>-0.000399639</td><td>3.8622e-05</td><td>8074.55</td><td>-16.5048</td><td>0.860951</td><td>-7.02654</td><td>-0.000421453</td><td>-2.16637e-05</td></tr>\n",
       "<tr><td>2214602712</td><td>2206640565</td><td>2</td><td>1</td><td>1</td><td>3149</td><td>3157</td><td>457</td><td>466</td><td>1.0</td><td>0.0</td><td>221.175</td><td>-317.188</td><td>3.23816</td><td>27.4955</td><td>-0.0119038</td><td>11300.0</td><td>0.152386</td><td>0.15905</td><td>-0.119976</td><td>0.168464</td><td>0.187966</td><td>0.123541</td><td>1.09482</td><td>0.636739</td><td>0.933611</td><td>2.25447</td><td>2.25371</td><td>2.25368</td><td>1.49755</td><td>1.42529</td><td>3.80448</td><td>3.32718</td><td>3.48542</td><td>3.87194</td><td>3.38028</td><td>3.50239</td><td>nan</td><td>nan</td><td>nan</td><td>0.0</td><td>0.0</td><td>9918.52</td><td>-23.5566</td><td>-10.2599</td><td>13.4679</td><td>0.00177299</td><td>-0.00502406</td><td>10282.3</td><td>-24.0997</td><td>-9.62468</td><td>13.3724</td><td>-0.00129582</td><td>-0.0134424</td></tr>\n",
       "<tr><td>2201272641</td><td>2200170838</td><td>36</td><td>6</td><td>1</td><td>3177</td><td>3202</td><td>412</td><td>429</td><td>0.930439</td><td>0.0695615</td><td>228.385</td><td>-325.361</td><td>1.233</td><td>23.9101</td><td>0.417097</td><td>307089.0</td><td>0.371919</td><td>0.464382</td><td>0.466387</td><td>-0.0306184</td><td>0.617329</td><td>0.224068</td><td>-0.0327781</td><td>0.75663</td><td>0.962292</td><td>47.7086</td><td>47.4437</td><td>47.4377</td><td>30.453</td><td>20.9784</td><td>0.088623</td><td>0.0824916</td><td>0.0436927</td><td>0.123988</td><td>0.114229</td><td>0.0487761</td><td>nan</td><td>nan</td><td>nan</td><td>0.0</td><td>2.98023e-09</td><td>335.71</td><td>-0.00887676</td><td>0.010697</td><td>-0.000973041</td><td>6.03782e-08</td><td>1.08367e-08</td><td>-7763.46</td><td>-0.0723146</td><td>0.0781736</td><td>-0.0130649</td><td>-0.00283442</td><td>-0.0126249</td></tr>\n",
       "<tr><td>2209286187</td><td>2200170838</td><td>36</td><td>34</td><td>1</td><td>3182</td><td>3198</td><td>422</td><td>435</td><td>1.0</td><td>0.0</td><td>228.493</td><td>-323.751</td><td>0.793642</td><td>26.5588</td><td>1.04664</td><td>26778.3</td><td>1.90299</td><td>1.92397</td><td>0.102122</td><td>-0.0231984</td><td>2.1139</td><td>1.71312</td><td>-0.111686</td><td>2.00231</td><td>0.0998679</td><td>1.15919</td><td>1.15911</td><td>1.15854</td><td>0.255213</td><td>0.210021</td><td>3.16768</td><td>2.06244</td><td>1.99805</td><td>3.61252</td><td>2.71199</td><td>2.14339</td><td>nan</td><td>nan</td><td>nan</td><td>0.0</td><td>0.0</td><td>488330.0</td><td>7.69304</td><td>0.570471</td><td>-0.348829</td><td>-0.0391713</td><td>0.142215</td><td>681309.0</td><td>9.33365</td><td>0.00890127</td><td>-0.462606</td><td>-0.17905</td><td>-5.60368</td></tr>\n",
       "<tr><td>2216818333</td><td>2200170838</td><td>36</td><td>33</td><td>1</td><td>3180</td><td>3187</td><td>460</td><td>467</td><td>1.0</td><td>0.0</td><td>227.289</td><td>-316.744</td><td>2.11807</td><td>27.9893</td><td>-0.06637</td><td>7171.1</td><td>0.132639</td><td>0.133727</td><td>0.0881606</td><td>-0.0198823</td><td>0.14522</td><td>0.121147</td><td>-0.110907</td><td>0.630979</td><td>0.644052</td><td>1.45231</td><td>1.45198</td><td>1.45185</td><td>0.929708</td><td>0.645557</td><td>6.78395</td><td>6.53426</td><td>6.2945</td><td>7.63028</td><td>7.22915</td><td>6.8115</td><td>nan</td><td>nan</td><td>nan</td><td>0.0</td><td>0.0</td><td>19432.4</td><td>-78.2725</td><td>24.4444</td><td>-7.37638</td><td>0.00929905</td><td>-0.0152817</td><td>24898.3</td><td>-97.0309</td><td>38.7544</td><td>-20.554</td><td>-0.0580452</td><td>-0.170373</td></tr>\n",
       "<tr><td>2208277203</td><td>2200170838</td><td>36</td><td>23</td><td>1</td><td>3175</td><td>3187</td><td>454</td><td>465</td><td>0.704855</td><td>0.295145</td><td>226.742</td><td>-317.662</td><td>2.47147</td><td>26.3707</td><td>-0.014204</td><td>31844.2</td><td>0.330203</td><td>0.331791</td><td>0.0161124</td><td>0.067366</td><td>0.353925</td><td>0.308071</td><td>0.668015</td><td>0.700082</td><td>0.948962</td><td>5.24153</td><td>5.23789</td><td>5.23781</td><td>3.02329</td><td>2.24624</td><td>0.891551</td><td>0.725584</td><td>0.748532</td><td>1.05502</td><td>0.842388</td><td>0.939294</td><td>nan</td><td>nan</td><td>nan</td><td>0.0</td><td>0.0</td><td>2698.66</td><td>-0.800009</td><td>0.0476157</td><td>0.275516</td><td>-9.10487e-05</td><td>-0.000210041</td><td>1410.67</td><td>-1.23445</td><td>0.235407</td><td>-0.196605</td><td>-0.0318565</td><td>-0.0198887</td></tr>\n",
       "<tr><td>2203591562</td><td>2200170838</td><td>36</td><td>10</td><td>1</td><td>3191</td><td>3205</td><td>405</td><td>419</td><td>0.920567</td><td>0.0794327</td><td>230.076</td><td>-327.101</td><td>0.998349</td><td>25.0334</td><td>0.765593</td><td>109125.0</td><td>0.218264</td><td>0.222698</td><td>0.140554</td><td>0.0188475</td><td>0.25176</td><td>0.189224</td><td>0.0666497</td><td>0.655467</td><td>0.935441</td><td>20.3839</td><td>20.3265</td><td>20.324</td><td>13.6517</td><td>13.3575</td><td>0.236095</td><td>0.224168</td><td>0.210151</td><td>0.243438</td><td>0.230304</td><td>0.211925</td><td>nan</td><td>nan</td><td>nan</td><td>4.20338e-08</td><td>-6.48576e-08</td><td>768.21</td><td>-0.078754</td><td>0.03714</td><td>0.00314234</td><td>-1.4619e-06</td><td>-4.53918e-07</td><td>596.6</td><td>-0.088739</td><td>0.0490155</td><td>-0.00355234</td><td>-0.000367706</td><td>-0.000635445</td></tr>\n",
       "<tr><td>2204598739</td><td>2200170838</td><td>36</td><td>16</td><td>1</td><td>3214</td><td>3227</td><td>394</td><td>413</td><td>1.0</td><td>0.0</td><td>234.585</td><td>-328.749</td><td>1.2115</td><td>25.5208</td><td>0.416979</td><td>69658.8</td><td>0.415557</td><td>0.494812</td><td>-0.412436</td><td>-0.0519927</td><td>0.646841</td><td>0.26697</td><td>-1.5081</td><td>0.774934</td><td>0.924099</td><td>10.4526</td><td>10.4404</td><td>10.4396</td><td>6.68265</td><td>6.67828</td><td>0.323555</td><td>0.29696</td><td>0.187289</td><td>0.323658</td><td>0.296991</td><td>0.187308</td><td>nan</td><td>nan</td><td>nan</td><td>0.0</td><td>2.98023e-09</td><td>1755.52</td><td>-0.107141</td><td>-0.125906</td><td>-0.0190099</td><td>2.04126e-05</td><td>-1.20145e-06</td><td>1704.03</td><td>-0.108398</td><td>-0.124942</td><td>-0.0198317</td><td>6.06401e-05</td><td>0.000233493</td></tr>\n",
       "<tr><td>...</td><td>...</td><td>...</td><td>...</td><td>...</td><td>...</td><td>...</td><td>...</td><td>...</td><td>...</td><td>...</td><td>...</td><td>...</td><td>...</td><td>...</td><td>...</td><td>...</td><td>...</td><td>...</td><td>...</td><td>...</td><td>...</td><td>...</td><td>...</td><td>...</td><td>...</td><td>...</td><td>...</td><td>...</td><td>...</td><td>...</td><td>...</td><td>...</td><td>...</td><td>...</td><td>...</td><td>...</td><td>...</td><td>...</td><td>...</td><td>...</td><td>...</td><td>...</td><td>...</td><td>...</td><td>...</td><td>...</td><td>...</td><td>...</td><td>...</td><td>...</td><td>...</td><td>...</td><td>...</td></tr>\n",
       "<tr><td>402707178568</td><td>402703168112</td><td>3</td><td>2</td><td>1</td><td>-3</td><td>10</td><td>39</td><td>54</td><td>0.965542</td><td>0.0344583</td><td>-408.797</td><td>-400.22</td><td>1.493</td><td>26.156</td><td>0.18593</td><td>38804.3</td><td>0.508925</td><td>0.510559</td><td>-0.0336681</td><td>0.0455378</td><td>0.538611</td><td>0.480875</td><td>1.10372</td><td>0.800162</td><td>0.929766</td><td>5.2328</td><td>5.22996</td><td>5.22991</td><td>3.06721</td><td>2.70713</td><td>0.480313</td><td>0.408388</td><td>0.407119</td><td>0.535034</td><td>0.445455</td><td>0.445481</td><td>nan</td><td>nan</td><td>nan</td><td>0.0</td><td>0.0</td><td>4851.08</td><td>-0.115333</td><td>-0.0207544</td><td>0.0184169</td><td>0.000109714</td><td>0.000210338</td><td>5372.08</td><td>-0.147869</td><td>0.0157851</td><td>0.0595649</td><td>-0.000848263</td><td>0.00118832</td></tr>\n",
       "<tr><td>402717401699</td><td>402717401699</td><td>1</td><td>0</td><td>1</td><td>2014</td><td>2020</td><td>4072</td><td>4077</td><td>1.0</td><td>0.0</td><td>-6.16264</td><td>405.4</td><td>2.52492</td><td>28.4184</td><td>-0.479517</td><td>4829.88</td><td>0.120964</td><td>0.173755</td><td>0.40467</td><td>-0.428197</td><td>0.237905</td><td>0.0615045</td><td>-0.406819</td><td>0.640004</td><td>1.0</td><td>0.965479</td><td>0.96533</td><td>0.96533</td><td>0.564267</td><td>0.564267</td><td>44.135</td><td>30.1899</td><td>32.5819</td><td>44.135</td><td>30.1899</td><td>32.5819</td><td>nan</td><td>nan</td><td>nan</td><td>0.0</td><td>0.0</td><td>43412.5</td><td>-2936.54</td><td>2582.26</td><td>-2841.6</td><td>-0.0806599</td><td>0.0456663</td><td>43412.5</td><td>-2936.54</td><td>2582.26</td><td>-2841.6</td><td>-0.0806599</td><td>0.0456663</td></tr>\n",
       "<tr><td>402711116843</td><td>402711433113</td><td>3</td><td>1</td><td>1</td><td>1996</td><td>2007</td><td>4061</td><td>4074</td><td>1.0</td><td>0.0</td><td>-9.1341</td><td>403.986</td><td>1.02478</td><td>26.7956</td><td>0.570835</td><td>21531.5</td><td>0.548026</td><td>0.560778</td><td>-0.14295</td><td>0.0506388</td><td>0.638521</td><td>0.470356</td><td>1.40057</td><td>0.82973</td><td>0.608644</td><td>2.77131</td><td>2.77054</td><td>2.7702</td><td>1.52685</td><td>0.773559</td><td>0.926611</td><td>0.778289</td><td>0.739278</td><td>1.31505</td><td>1.54416</td><td>1.08349</td><td>nan</td><td>nan</td><td>nan</td><td>0.0</td><td>0.0</td><td>12259.9</td><td>-0.287597</td><td>-0.27095</td><td>0.0682072</td><td>0.00298264</td><td>0.000663812</td><td>30913.4</td><td>-1.22105</td><td>-1.8816</td><td>0.62627</td><td>-0.0537826</td><td>-0.126361</td></tr>\n",
       "<tr><td>402711433113</td><td>402711433113</td><td>3</td><td>0</td><td>1</td><td>1993</td><td>2002</td><td>4064</td><td>4073</td><td>1.0</td><td>0.0</td><td>-9.95378</td><td>404.174</td><td>0.995764</td><td>26.8761</td><td>0.561197</td><td>19992.7</td><td>0.13237</td><td>0.139727</td><td>-0.206077</td><td>-0.107559</td><td>0.167735</td><td>0.104461</td><td>-1.33028</td><td>0.632214</td><td>0.796206</td><td>4.07764</td><td>4.0751</td><td>4.07462</td><td>2.84083</td><td>0.90868</td><td>2.60768</td><td>2.47041</td><td>2.16842</td><td>3.7632</td><td>3.07266</td><td>2.60078</td><td>nan</td><td>nan</td><td>nan</td><td>0.0</td><td>0.0</td><td>4320.24</td><td>-12.3837</td><td>-8.69226</td><td>-4.74801</td><td>-0.000207756</td><td>-0.000157325</td><td>8387.39</td><td>-19.0565</td><td>-15.4749</td><td>-8.55751</td><td>0.111878</td><td>-0.00581764</td></tr>\n",
       "<tr><td>402704824822</td><td>402704824822</td><td>1</td><td>0</td><td>1</td><td>2023</td><td>2035</td><td>4054</td><td>4067</td><td>1.0</td><td>0.0</td><td>-3.64566</td><td>402.653</td><td>2.23208</td><td>25.618</td><td>-0.179173</td><td>63693.4</td><td>0.180111</td><td>0.276686</td><td>-0.30303</td><td>-0.55939</td><td>0.381965</td><td>0.0849291</td><td>-1.03363</td><td>0.671957</td><td>1.0</td><td>12.2267</td><td>12.2054</td><td>12.2054</td><td>8.45797</td><td>8.45797</td><td>1.80545</td><td>0.90321</td><td>1.58609</td><td>1.80545</td><td>0.90321</td><td>1.58609</td><td>nan</td><td>nan</td><td>nan</td><td>0.0</td><td>0.0</td><td>1337.44</td><td>-4.96771</td><td>-3.11155</td><td>-5.75467</td><td>3.20247e-06</td><td>8.01536e-06</td><td>1337.44</td><td>-4.96771</td><td>-3.11155</td><td>-5.75467</td><td>3.20247e-06</td><td>8.01536e-06</td></tr>\n",
       "<tr><td>402712262956</td><td>402703600542</td><td>3</td><td>2</td><td>1</td><td>2014</td><td>2023</td><td>4078</td><td>4088</td><td>1.0</td><td>0.0</td><td>-5.77683</td><td>407.076</td><td>4.5115</td><td>27.0126</td><td>0.277584</td><td>17630.7</td><td>0.297375</td><td>0.299615</td><td>-0.051801</td><td>-0.069432</td><td>0.324354</td><td>0.272639</td><td>-1.10589</td><td>0.685405</td><td>0.483092</td><td>3.0128</td><td>3.01164</td><td>3.01079</td><td>1.86805</td><td>0.5884</td><td>1.20101</td><td>1.07519</td><td>1.07774</td><td>1.8139</td><td>1.72321</td><td>1.68292</td><td>nan</td><td>nan</td><td>nan</td><td>0.0</td><td>0.0</td><td>7699.92</td><td>-1.36501</td><td>-0.306411</td><td>-0.422904</td><td>0.000953463</td><td>-0.000426772</td><td>18550.0</td><td>-4.83289</td><td>1.51815</td><td>0.852886</td><td>0.0443672</td><td>0.0243175</td></tr>\n",
       "<tr><td>402705633089</td><td>402703600542</td><td>3</td><td>1</td><td>1</td><td>2011</td><td>2023</td><td>4081</td><td>4092</td><td>1.0</td><td>0.0</td><td>-6.02274</td><td>407.863</td><td>0.495741</td><td>25.9794</td><td>0.676527</td><td>45659.2</td><td>0.205712</td><td>0.230186</td><td>0.206713</td><td>0.263075</td><td>0.291327</td><td>0.145258</td><td>0.452401</td><td>0.657324</td><td>0.875375</td><td>8.61857</td><td>8.60817</td><td>8.60715</td><td>5.86596</td><td>1.79261</td><td>0.752054</td><td>0.596189</td><td>0.649816</td><td>1.175</td><td>0.995332</td><td>1.03998</td><td>nan</td><td>nan</td><td>nan</td><td>0.0</td><td>0.0</td><td>1860.74</td><td>-0.85129</td><td>0.520289</td><td>0.654251</td><td>5.69027e-05</td><td>5.32623e-05</td><td>5421.73</td><td>-1.01134</td><td>0.842688</td><td>1.07535</td><td>0.0161479</td><td>-0.0523515</td></tr>\n",
       "<tr><td>402703600542</td><td>402703600542</td><td>3</td><td>0</td><td>1</td><td>2001</td><td>2014</td><td>4080</td><td>4093</td><td>0.751545</td><td>0.248455</td><td>-7.96551</td><td>407.744</td><td>0.997952</td><td>25.1863</td><td>0.813316</td><td>94792.7</td><td>0.0965876</td><td>0.101101</td><td>0.0200793</td><td>-0.212674</td><td>0.11999</td><td>0.0777493</td><td>-0.738331</td><td>0.624871</td><td>0.997645</td><td>19.471</td><td>19.4119</td><td>19.4119</td><td>10.44</td><td>10.3555</td><td>1.23819</td><td>0.752747</td><td>1.03519</td><td>1.24804</td><td>0.759998</td><td>1.03905</td><td>nan</td><td>nan</td><td>nan</td><td>0.0319421</td><td>-0.0499865</td><td>848.008</td><td>-1.16156</td><td>0.0706735</td><td>-0.969015</td><td>3.2045e-07</td><td>2.99459e-06</td><td>736.148</td><td>-1.19398</td><td>0.0533997</td><td>-0.995429</td><td>-0.000149319</td><td>-3.86011e-05</td></tr>\n",
       "<tr><td>402710622017</td><td>2203617267</td><td>6</td><td>5</td><td>1</td><td>2036</td><td>2049</td><td>4063</td><td>4077</td><td>1.0</td><td>0.0</td><td>-0.922248</td><td>404.469</td><td>0.557929</td><td>26.8062</td><td>-0.0431957</td><td>21320.9</td><td>0.808731</td><td>0.815936</td><td>-0.0521845</td><td>-0.0783931</td><td>0.888843</td><td>0.73584</td><td>-1.07906</td><td>1.01912</td><td>0.994723</td><td>2.11311</td><td>2.11274</td><td>2.11273</td><td>0.989889</td><td>0.989729</td><td>1.15739</td><td>0.89129</td><td>0.901187</td><td>1.15754</td><td>0.891455</td><td>0.901199</td><td>nan</td><td>nan</td><td>nan</td><td>0.0</td><td>0.0</td><td>28578.0</td><td>0.111073</td><td>-0.114964</td><td>-0.184778</td><td>0.00713695</td><td>-0.00606124</td><td>28469.9</td><td>0.105475</td><td>-0.109785</td><td>-0.183616</td><td>0.00687903</td><td>-0.00432993</td></tr>\n",
       "<tr><td>402704928768</td><td>2203617267</td><td>6</td><td>1</td><td>1</td><td>2038</td><td>2051</td><td>4051</td><td>4063</td><td>1.0</td><td>0.0</td><td>-0.649735</td><td>401.881</td><td>0.862874</td><td>25.5695</td><td>0.820761</td><td>66600.7</td><td>0.216826</td><td>0.216936</td><td>0.00978257</td><td>0.0203615</td><td>0.22178</td><td>0.211982</td><td>0.561457</td><td>0.653697</td><td>0.999131</td><td>12.5114</td><td>12.4897</td><td>12.4897</td><td>8.49707</td><td>8.4934</td><td>0.361565</td><td>0.347278</td><td>0.347413</td><td>0.361775</td><td>0.347396</td><td>0.347521</td><td>nan</td><td>nan</td><td>nan</td><td>-0.00990537</td><td>4.59854e-07</td><td>1216.61</td><td>-0.196012</td><td>0.00443256</td><td>0.00945565</td><td>7.58489e-06</td><td>-6.17334e-06</td><td>1127.42</td><td>-0.200968</td><td>0.00660481</td><td>0.0130331</td><td>-0.000134626</td><td>0.000113765</td></tr>\n",
       "</table>"
      ],
      "text/plain": [
       "<Table length=45288>\n",
       "   db_id        grp_id    grp_size ... bias_g2_grp  bias_x_grp   bias_y_grp \n",
       "   int64        int64      int16   ...   float32     float32      float32   \n",
       "------------ ------------ -------- ... ----------- ------------ ------------\n",
       "  2214322509   2200170838       36 ...    -2.29113     0.709213     0.302885\n",
       "  2213221225   2200170838       36 ...     7.70077   0.00214705   0.00166297\n",
       "  2213832765   2200170838       36 ...    -7.02654 -0.000421453 -2.16637e-05\n",
       "  2214602712   2206640565        2 ...     13.3724  -0.00129582   -0.0134424\n",
       "  2201272641   2200170838       36 ...  -0.0130649  -0.00283442   -0.0126249\n",
       "  2209286187   2200170838       36 ...   -0.462606     -0.17905     -5.60368\n",
       "  2216818333   2200170838       36 ...     -20.554   -0.0580452    -0.170373\n",
       "  2208277203   2200170838       36 ...   -0.196605   -0.0318565   -0.0198887\n",
       "  2203591562   2200170838       36 ... -0.00355234 -0.000367706 -0.000635445\n",
       "  2204598739   2200170838       36 ...  -0.0198317  6.06401e-05  0.000233493\n",
       "         ...          ...      ... ...         ...          ...          ...\n",
       "402707178568 402703168112        3 ...   0.0595649 -0.000848263   0.00118832\n",
       "402717401699 402717401699        1 ...     -2841.6   -0.0806599    0.0456663\n",
       "402711116843 402711433113        3 ...     0.62627   -0.0537826    -0.126361\n",
       "402711433113 402711433113        3 ...    -8.55751     0.111878  -0.00581764\n",
       "402704824822 402704824822        1 ...    -5.75467  3.20247e-06  8.01536e-06\n",
       "402712262956 402703600542        3 ...    0.852886    0.0443672    0.0243175\n",
       "402705633089 402703600542        3 ...     1.07535    0.0161479   -0.0523515\n",
       "402703600542 402703600542        3 ...   -0.995429 -0.000149319 -3.86011e-05\n",
       "402710622017   2203617267        6 ...   -0.183616   0.00687903  -0.00432993\n",
       "402704928768   2203617267        6 ...   0.0130331 -0.000134626  0.000113765"
      ]
     },
     "execution_count": 10,
     "metadata": {},
     "output_type": "execute_result"
    }
   ],
   "source": [
    "catalog2"
   ]
  },
  {
   "cell_type": "code",
   "execution_count": null,
   "metadata": {
    "collapsed": true
   },
   "outputs": [],
   "source": []
  }
 ],
 "metadata": {
  "kernelspec": {
   "display_name": "Python 2",
   "language": "python",
   "name": "python2"
  },
  "language_info": {
   "codemirror_mode": {
    "name": "ipython",
    "version": 2
   },
   "file_extension": ".py",
   "mimetype": "text/x-python",
   "name": "python",
   "nbconvert_exporter": "python",
   "pygments_lexer": "ipython2",
   "version": "2.7.11"
  }
 },
 "nbformat": 4,
 "nbformat_minor": 0
}
